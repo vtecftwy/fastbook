{
  "nbformat": 4,
  "nbformat_minor": 0,
  "metadata": {
    "colab": {
      "name": "06_multicat_own_code.ipynb",
      "provenance": [],
      "collapsed_sections": [],
      "toc_visible": true,
      "include_colab_link": true
    },
    "kernelspec": {
      "name": "python3",
      "display_name": "Python 3"
    },
    "language_info": {
      "name": "python"
    }
  },
  "cells": [
    {
      "cell_type": "markdown",
      "metadata": {
        "id": "view-in-github",
        "colab_type": "text"
      },
      "source": [
        "<a href=\"https://colab.research.google.com/github/vtecftwy/fastbook/blob/master/own_code_templates/06_multicat_own_code.ipynb\" target=\"_parent\"><img src=\"https://colab.research.google.com/assets/colab-badge.svg\" alt=\"Open In Colab\"/></a>"
      ]
    },
    {
      "cell_type": "markdown",
      "metadata": {
        "id": "hcFuHMOD8GMN"
      },
      "source": [
        "# Computer Vision Multi Category Own Code "
      ]
    },
    {
      "cell_type": "markdown",
      "metadata": {
        "id": "BhIQ0cky8GEe"
      },
      "source": [
        "Own refactored code and notes for Chapter 6: *Multicat with Assignments* (['06_multicat.ipynb'](https://colab.research.google.com/github/vtecftwy/fastbook/blob/master/06_multicat.ipynb))"
      ]
    },
    {
      "cell_type": "markdown",
      "metadata": {
        "id": "z2SHhW_Qzz_8"
      },
      "source": [
        "Refactor the code for the Image Classifier \"PASCAL_2007\" "
      ]
    },
    {
      "cell_type": "markdown",
      "metadata": {
        "id": "t2CE7G5Yz6zY"
      },
      "source": [
        "Rewrite the code for the image classifier that identifies multiple objects in an image using PASCAL_2007; or, use your own data set that is properly labelled and has a big enough sample size.\n",
        "- Only use the code necessary to load the data, create tbe DataLoaders, presize and or augment the images and then train the model using all the knowledge and tools you have learned from the book so far adding the new nowledge you have gained in this chapter.\n",
        "- In this chapter we are focussing on multi lables, make sure that you show how you have set up your data and the results in your work\n",
        "- Feel free to add any code that you perfer to use and make a note in the code as to why you perferred to use that code\n",
        "- Add your own comments that can be used for reference in the future."
      ]
    },
    {
      "cell_type": "markdown",
      "metadata": {
        "id": "QM_ok_aK0llv"
      },
      "source": [
        "###Imports and Setup"
      ]
    },
    {
      "cell_type": "code",
      "metadata": {
        "id": "6R-sMDas8Fa9"
      },
      "source": [
        ""
      ],
      "execution_count": null,
      "outputs": []
    },
    {
      "cell_type": "markdown",
      "metadata": {
        "id": "Mff_95j00sTW"
      },
      "source": [
        "###Preparing the data"
      ]
    },
    {
      "cell_type": "code",
      "metadata": {
        "id": "9-DzB_Yu65WG"
      },
      "source": [
        ""
      ],
      "execution_count": null,
      "outputs": []
    },
    {
      "cell_type": "markdown",
      "metadata": {
        "id": "cS7BTirF037X"
      },
      "source": [
        "###Assemble the data"
      ]
    },
    {
      "cell_type": "code",
      "metadata": {
        "id": "0Hl6y7zN03p5"
      },
      "source": [
        ""
      ],
      "execution_count": null,
      "outputs": []
    },
    {
      "cell_type": "markdown",
      "metadata": {
        "id": "DnrggTv942-z"
      },
      "source": [
        "###Train the model"
      ]
    },
    {
      "cell_type": "code",
      "metadata": {
        "id": "ho1XdEK603n2"
      },
      "source": [
        ""
      ],
      "execution_count": null,
      "outputs": []
    },
    {
      "cell_type": "markdown",
      "metadata": {
        "id": "dWuoKzvk5HU4"
      },
      "source": [
        "###Evaluate the results and test the model"
      ]
    },
    {
      "cell_type": "code",
      "metadata": {
        "id": "zQcZSRA803k-"
      },
      "source": [
        ""
      ],
      "execution_count": null,
      "outputs": []
    }
  ]
}