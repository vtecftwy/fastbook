{
  "nbformat": 4,
  "nbformat_minor": 0,
  "metadata": {
    "colab": {
      "name": "07_sizing_and_tta_own_code.ipynb",
      "provenance": [],
      "toc_visible": true,
      "include_colab_link": true
    },
    "kernelspec": {
      "name": "python3",
      "display_name": "Python 3"
    },
    "language_info": {
      "name": "python"
    }
  },
  "cells": [
    {
      "cell_type": "markdown",
      "metadata": {
        "id": "view-in-github",
        "colab_type": "text"
      },
      "source": [
        "<a href=\"https://colab.research.google.com/github/vtecftwy/fastbook/blob/master/own_code_templates/07_sizing_and_tta_own_code.ipynb\" target=\"_parent\"><img src=\"https://colab.research.google.com/assets/colab-badge.svg\" alt=\"Open In Colab\"/></a>"
      ]
    },
    {
      "cell_type": "markdown",
      "metadata": {
        "id": "A345N3dy61EW"
      },
      "source": [
        "#Computer Vision Sizing and TTA - State-of-the-Art Model"
      ]
    },
    {
      "cell_type": "markdown",
      "metadata": {
        "id": "J2qMsTfl7tOC"
      },
      "source": [
        "Own refactored code and notes for Chapter 7: *Sizing and TTA* (['07_sizing_and_tta.ipynb'](https://colab.research.google.com/github/vtecftwy/fastbook/blob/master/07_sizing_and_tta.ipynb#scrollTo=6tT8i-1PC9ko))\n",
        "\n"
      ]
    },
    {
      "cell_type": "markdown",
      "metadata": {
        "id": "ovjd85hS8TvA"
      },
      "source": [
        "Rewrite the code for the image classifier that identifies multiple objects in an image using Imagenet; or, use your own data set that is properly labelled and it big enough.\n",
        "- Only use the code necessary to load the data, create tbe DataLoaders, presize and or augment the images and then train the model using all the knowledge and tools you have learned from the book so far adding the new nowledge you have gained in this chapter.\n",
        "- In this chapter we are focussing on Mixup and Lable Smoothing (show these features in your notebook)\n",
        "- Feel free to add any code that you perfer to use and make a note in the code as to why you perferred to use that code\n",
        "- Add your own comments that can be used for reference in the future."
      ]
    },
    {
      "cell_type": "markdown",
      "metadata": {
        "id": "QM_ok_aK0llv"
      },
      "source": [
        "###Imports and Setup"
      ]
    },
    {
      "cell_type": "code",
      "metadata": {
        "id": "QpuAP79h6to8"
      },
      "source": [
        ""
      ],
      "execution_count": null,
      "outputs": []
    },
    {
      "cell_type": "markdown",
      "metadata": {
        "id": "Mff_95j00sTW"
      },
      "source": [
        "###Preparing the data"
      ]
    },
    {
      "cell_type": "code",
      "metadata": {
        "id": "XOO4ChJ8-CCA"
      },
      "source": [
        ""
      ],
      "execution_count": null,
      "outputs": []
    },
    {
      "cell_type": "markdown",
      "metadata": {
        "id": "Jxk1dzbd-xL4"
      },
      "source": [
        "####*Progressive Resizing*"
      ]
    },
    {
      "cell_type": "code",
      "metadata": {
        "id": "UORgvEN8-wtH"
      },
      "source": [
        ""
      ],
      "execution_count": null,
      "outputs": []
    },
    {
      "cell_type": "markdown",
      "metadata": {
        "id": "JXYgk9PX-9LH"
      },
      "source": [
        "####*Test Time Augmentation*"
      ]
    },
    {
      "cell_type": "code",
      "metadata": {
        "id": "Il6OivyY_GBR"
      },
      "source": [
        ""
      ],
      "execution_count": null,
      "outputs": []
    },
    {
      "cell_type": "markdown",
      "metadata": {
        "id": "rPk0261e_Ga1"
      },
      "source": [
        "####*Mixup*"
      ]
    },
    {
      "cell_type": "code",
      "metadata": {
        "id": "FmbzfCFV_JvW"
      },
      "source": [
        ""
      ],
      "execution_count": null,
      "outputs": []
    },
    {
      "cell_type": "markdown",
      "metadata": {
        "id": "a4Ns8lsz_KBS"
      },
      "source": [
        "####*Lable Smoothing*"
      ]
    },
    {
      "cell_type": "code",
      "metadata": {
        "id": "1dJMYsh7_McQ"
      },
      "source": [
        ""
      ],
      "execution_count": null,
      "outputs": []
    },
    {
      "cell_type": "markdown",
      "metadata": {
        "id": "6l6KGxOK_NnO"
      },
      "source": [
        "###Train the Model"
      ]
    },
    {
      "cell_type": "code",
      "metadata": {
        "id": "g1rMw6rt_Q9l"
      },
      "source": [
        ""
      ],
      "execution_count": null,
      "outputs": []
    }
  ]
}