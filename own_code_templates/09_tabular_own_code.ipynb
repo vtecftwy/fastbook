{
  "nbformat": 4,
  "nbformat_minor": 0,
  "metadata": {
    "colab": {
      "name": "09_tabular_own_code.ipynb",
      "provenance": [],
      "collapsed_sections": [
        "JNOgFUFNRuae",
        "R8sLU0XvRq8J",
        "w0OlCWrnSrWs",
        "7biZX7ZeDg1e",
        "BPsIp4kWUhI9",
        "3BPO1QTyVWxQ"
      ],
      "toc_visible": true,
      "authorship_tag": "ABX9TyMw1/ntGCZoNg2Va6WUUOxH",
      "include_colab_link": true
    },
    "kernelspec": {
      "name": "python3",
      "display_name": "Python 3"
    },
    "language_info": {
      "name": "python"
    }
  },
  "cells": [
    {
      "cell_type": "markdown",
      "metadata": {
        "id": "view-in-github",
        "colab_type": "text"
      },
      "source": [
        "<a href=\"https://colab.research.google.com/github/vtecftwy/fastbook/blob/master/own_code_templates/09_tabular_own_code.ipynb\" target=\"_parent\"><img src=\"https://colab.research.google.com/assets/colab-badge.svg\" alt=\"Open In Colab\"/></a>"
      ]
    },
    {
      "cell_type": "markdown",
      "metadata": {
        "id": "j3T-2NPIRRE-"
      },
      "source": [
        "# Tabular Modeling Deep Dive - Own Code"
      ]
    },
    {
      "cell_type": "markdown",
      "metadata": {
        "id": "bcF86rzkRV0m"
      },
      "source": [
        "Own refactored code and notes for *Chapter 9: Tabular Modeling Deep Dive* ([`09_tabular.ipynb`](https://colab.research.google.com/github/vtecftwy/fastbook/blob/master/09_tabular.ipynb))."
      ]
    },
    {
      "cell_type": "markdown",
      "metadata": {
        "id": "OsaHv4EvRhEn"
      },
      "source": [
        "## Refactor end to end tabular data with Random Forest"
      ]
    },
    {
      "cell_type": "markdown",
      "metadata": {
        "id": "RPjNlZiJTrp4"
      },
      "source": [
        "Rewrite the code to create a tabular model on the same *Blue Book for Bulldozers Kaggle competition* dataset as in the Chapter 9 notebook, using Random Forest.\n",
        "- Only use the code necessary to load the dataset, create the DataLoaders and the random forest model, and run it. \n",
        "- Feel free to add any code you personally consider important for you to understand what you are doing or verify/test things. \n",
        "- Add you own comment and references for your future self when you are comng back to this book."
      ]
    },
    {
      "cell_type": "markdown",
      "metadata": {
        "id": "JNOgFUFNRuae"
      },
      "source": [
        "### Imports and setup"
      ]
    },
    {
      "cell_type": "code",
      "metadata": {
        "id": "kyblROnBRx48"
      },
      "source": [
        ""
      ],
      "execution_count": null,
      "outputs": []
    },
    {
      "cell_type": "markdown",
      "metadata": {
        "id": "R8sLU0XvRq8J"
      },
      "source": [
        "### Loading the dataset from Kaggle"
      ]
    },
    {
      "cell_type": "code",
      "metadata": {
        "id": "7T77slceS532"
      },
      "source": [
        ""
      ],
      "execution_count": null,
      "outputs": []
    },
    {
      "cell_type": "markdown",
      "metadata": {
        "id": "w0OlCWrnSrWs"
      },
      "source": [
        "### Preparing the data\n",
        "\n",
        "- handle ordinal columns\n",
        "- define dependant variable\n",
        "- handle dates\n",
        "- create a `procs` to pre-process data for missing values and categorical variables"
      ]
    },
    {
      "cell_type": "code",
      "metadata": {
        "id": "uvG9fiwFS7zH"
      },
      "source": [
        ""
      ],
      "execution_count": null,
      "outputs": []
    },
    {
      "cell_type": "markdown",
      "metadata": {
        "id": "7biZX7ZeDg1e"
      },
      "source": [
        "### Tabular Object (`to`)\n",
        "- creating ther tabular object`to`\n",
        "- explore the classes (text to indexes and vice-versa)"
      ]
    },
    {
      "cell_type": "code",
      "metadata": {
        "id": "ujaFLbS8DgGe"
      },
      "source": [
        ""
      ],
      "execution_count": null,
      "outputs": []
    },
    {
      "cell_type": "markdown",
      "metadata": {
        "id": "BPsIp4kWUhI9"
      },
      "source": [
        "### Creating a random forest model\n",
        "- loss function\n",
        "- model creation and fitting\n",
        "- evaluating validation set"
      ]
    },
    {
      "cell_type": "code",
      "metadata": {
        "id": "gY_wwEfuUdhu"
      },
      "source": [
        ""
      ],
      "execution_count": null,
      "outputs": []
    },
    {
      "cell_type": "markdown",
      "metadata": {
        "id": "3BPO1QTyVWxQ"
      },
      "source": [
        "### Feature Importance and Removing Low Importance Variables"
      ]
    },
    {
      "cell_type": "code",
      "metadata": {
        "id": "pIXNam85Uvvv"
      },
      "source": [
        ""
      ],
      "execution_count": null,
      "outputs": []
    },
    {
      "cell_type": "markdown",
      "metadata": {
        "id": "RJueRrinEd_v"
      },
      "source": [
        "## Refactor end to end tabular data with fastai `tabular_learner`"
      ]
    },
    {
      "cell_type": "markdown",
      "metadata": {
        "id": "iVV8SRLJFEof"
      },
      "source": [
        "### Creating a Tabular Object for the deep learning model (`to_nn`)\n",
        "- Reload DataFrame (`df_nn`) from dataset\n",
        "- Handle data for ordinal, dates, missing, categorical, ...\n",
        "- Remove variables you do not need or you do not want to use in the model\n",
        "- Create your TabularPanda `to`"
      ]
    },
    {
      "cell_type": "code",
      "metadata": {
        "id": "4a7BFUMMFrv2"
      },
      "source": [
        ""
      ],
      "execution_count": null,
      "outputs": []
    },
    {
      "cell_type": "markdown",
      "metadata": {
        "id": "nyBG_7LNFO4W"
      },
      "source": [
        "### Creating and running the model"
      ]
    },
    {
      "cell_type": "code",
      "metadata": {
        "id": "qPK5Jr13FOi6"
      },
      "source": [
        ""
      ],
      "execution_count": null,
      "outputs": []
    },
    {
      "cell_type": "markdown",
      "metadata": {
        "id": "g8BiJgHbFxW4"
      },
      "source": [
        "### Extract Embeddings (if you can !)"
      ]
    },
    {
      "cell_type": "code",
      "metadata": {
        "id": "nHy2vx4YF2zQ"
      },
      "source": [
        ""
      ],
      "execution_count": null,
      "outputs": []
    }
  ]
}