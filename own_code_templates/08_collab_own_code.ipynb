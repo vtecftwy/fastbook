{
  "nbformat": 4,
  "nbformat_minor": 0,
  "metadata": {
    "colab": {
      "name": "08_collab_own_code.ipynb",
      "provenance": [],
      "collapsed_sections": [],
      "toc_visible": true,
      "authorship_tag": "ABX9TyOp0CTwCxAQddpxG+1+TDrc",
      "include_colab_link": true
    },
    "kernelspec": {
      "name": "python3",
      "display_name": "Python 3"
    },
    "language_info": {
      "name": "python"
    }
  },
  "cells": [
    {
      "cell_type": "markdown",
      "metadata": {
        "id": "view-in-github",
        "colab_type": "text"
      },
      "source": [
        "<a href=\"https://colab.research.google.com/github/vtecftwy/fastbook/blob/master/own_code_templates/08_collab_own_code.ipynb\" target=\"_parent\"><img src=\"https://colab.research.google.com/assets/colab-badge.svg\" alt=\"Open In Colab\"/></a>"
      ]
    },
    {
      "cell_type": "markdown",
      "metadata": {
        "id": "j3T-2NPIRRE-"
      },
      "source": [
        "# Collaborative Filtering - Own Code"
      ]
    },
    {
      "cell_type": "markdown",
      "metadata": {
        "id": "bcF86rzkRV0m"
      },
      "source": [
        "Refactored code and notes from `08_collab.ipynb`."
      ]
    },
    {
      "cell_type": "markdown",
      "metadata": {
        "id": "OsaHv4EvRhEn"
      },
      "source": [
        "## Refactor end to end collaborative filtering"
      ]
    },
    {
      "cell_type": "markdown",
      "metadata": {
        "id": "RPjNlZiJTrp4"
      },
      "source": [
        "Rewrite the code to create a Collaborative Filtering model on the same *MovieLens* dataset as in the Chapter 8 notebook, but with only the code necessary to load the dataset, create the DataLoaders and the model, and run it. Also add any code you personally consider important for you to understand what you are doing or verify/test things. Add you onw comment and references for your future self when you are comng back to this book."
      ]
    },
    {
      "cell_type": "markdown",
      "metadata": {
        "id": "JNOgFUFNRuae"
      },
      "source": [
        "### Imports and setup"
      ]
    },
    {
      "cell_type": "code",
      "metadata": {
        "id": "kyblROnBRx48"
      },
      "source": [
        ""
      ],
      "execution_count": null,
      "outputs": []
    },
    {
      "cell_type": "markdown",
      "metadata": {
        "id": "R8sLU0XvRq8J"
      },
      "source": [
        "### Loading the dataset"
      ]
    },
    {
      "cell_type": "code",
      "metadata": {
        "id": "7T77slceS532"
      },
      "source": [
        ""
      ],
      "execution_count": null,
      "outputs": []
    },
    {
      "cell_type": "markdown",
      "metadata": {
        "id": "w0OlCWrnSrWs"
      },
      "source": [
        "### Creating the DataLoaders"
      ]
    },
    {
      "cell_type": "code",
      "metadata": {
        "id": "uvG9fiwFS7zH"
      },
      "source": [
        ""
      ],
      "execution_count": null,
      "outputs": []
    },
    {
      "cell_type": "markdown",
      "metadata": {
        "id": "BPsIp4kWUhI9"
      },
      "source": [
        "### Creating your model with fastai"
      ]
    },
    {
      "cell_type": "code",
      "metadata": {
        "id": "gY_wwEfuUdhu"
      },
      "source": [
        ""
      ],
      "execution_count": null,
      "outputs": []
    },
    {
      "cell_type": "markdown",
      "metadata": {
        "id": "3BPO1QTyVWxQ"
      },
      "source": [
        "### Interpreting the results"
      ]
    },
    {
      "cell_type": "code",
      "metadata": {
        "id": "pIXNam85Uvvv"
      },
      "source": [
        ""
      ],
      "execution_count": null,
      "outputs": []
    },
    {
      "cell_type": "markdown",
      "metadata": {
        "id": "y-2eDzdeWBcO"
      },
      "source": [
        "#### Rank movies using movie biases"
      ]
    },
    {
      "cell_type": "code",
      "metadata": {
        "id": "44zDmcoVUvsx"
      },
      "source": [
        ""
      ],
      "execution_count": null,
      "outputs": []
    },
    {
      "cell_type": "markdown",
      "metadata": {
        "id": "mzbxTstdWN0V"
      },
      "source": [
        "#### Find movie that are similar to another movie"
      ]
    },
    {
      "cell_type": "code",
      "metadata": {
        "id": "aoJu6qBPUvjV"
      },
      "source": [
        ""
      ],
      "execution_count": null,
      "outputs": []
    },
    {
      "cell_type": "markdown",
      "metadata": {
        "id": "Of1MfiCCWmj1"
      },
      "source": [
        "## Create a new model, using deep learning instead of PMF\n",
        "Code above used *probabilistic matrix factorization (PMF)*. Following cells make a new model for the deep learning version."
      ]
    },
    {
      "cell_type": "code",
      "metadata": {
        "id": "t_JhJ7wcUvgd"
      },
      "source": [
        ""
      ],
      "execution_count": null,
      "outputs": []
    },
    {
      "cell_type": "markdown",
      "metadata": {
        "id": "tY1XFsmRZBaq"
      },
      "source": [
        "#### Find movie that are similar to another movie"
      ]
    },
    {
      "cell_type": "code",
      "metadata": {
        "id": "uvVkmdrsZ8Vw"
      },
      "source": [
        ""
      ],
      "execution_count": null,
      "outputs": []
    }
  ]
}