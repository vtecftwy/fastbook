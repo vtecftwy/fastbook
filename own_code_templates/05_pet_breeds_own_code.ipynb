{
  "nbformat": 4,
  "nbformat_minor": 0,
  "metadata": {
    "colab": {
      "name": "05_pet_breeds_own_code.ipynb",
      "provenance": [],
      "include_colab_link": true
    },
    "kernelspec": {
      "name": "python3",
      "display_name": "Python 3"
    },
    "language_info": {
      "name": "python"
    }
  },
  "cells": [
    {
      "cell_type": "markdown",
      "metadata": {
        "id": "view-in-github",
        "colab_type": "text"
      },
      "source": [
        "<a href=\"https://colab.research.google.com/github/vtecftwy/fastbook/blob/master/own_code_templates/05_pet_breeds_own_code.ipynb\" target=\"_parent\"><img src=\"https://colab.research.google.com/assets/colab-badge.svg\" alt=\"Open In Colab\"/></a>"
      ]
    },
    {
      "cell_type": "markdown",
      "metadata": {
        "id": "8DRDwhuT0aK-"
      },
      "source": [
        "# Computer Vision Image Classification - Own Code"
      ]
    },
    {
      "cell_type": "markdown",
      "metadata": {
        "id": "6Wx8bGqF02Au"
      },
      "source": [
        "Own refactored code and notes for Chapter 5: *Pet Breeds with Assignments* (['05_pet_breads.ipynb'](https://colab.research.google.com/github/vtecftwy/fastbook/blob/master/05_pet_breeds_w_assignments.ipynb#scrollTo=qyx684frVK78))"
      ]
    },
    {
      "cell_type": "markdown",
      "metadata": {
        "id": "V37tVEsb2aGb"
      },
      "source": [
        "Refactor the code for the Image Classifier \"Cats and Dogs\" "
      ]
    },
    {
      "cell_type": "markdown",
      "metadata": {
        "id": "3-2BMB5p3Mdw"
      },
      "source": [
        "Rewrite the code for the image classifier that identifies Cats and Dogs; or, use your own data set that you have used before.\n",
        "- Only use the code necessary to load the data, create tbe DataLoaders, presize and or augment the images and then train the model using all the knowledge and tools you have learned from the book so far adding the new nowledge you have gained in this chapter.\n",
        "- Feel free to add any code that you perfer to use and make a note in the code as to why you perferred to use that code\n",
        "- Add your own comments that can be used for reference in the future."
      ]
    },
    {
      "cell_type": "markdown",
      "metadata": {
        "id": "1wHDQRuS4iuT"
      },
      "source": [
        "### Imports and setup"
      ]
    },
    {
      "cell_type": "code",
      "metadata": {
        "id": "gBQSImdq4h_E"
      },
      "source": [
        ""
      ],
      "execution_count": null,
      "outputs": []
    },
    {
      "cell_type": "markdown",
      "metadata": {
        "id": "wIp6rbBf5IQ7"
      },
      "source": [
        "### Preparing the data"
      ]
    },
    {
      "cell_type": "code",
      "metadata": {
        "id": "V0FOK3YD0Mdi"
      },
      "source": [
        ""
      ],
      "execution_count": null,
      "outputs": []
    },
    {
      "cell_type": "markdown",
      "metadata": {
        "id": "Xo5MY0nm5Vjb"
      },
      "source": [
        "### Optimising and improving the model"
      ]
    },
    {
      "cell_type": "code",
      "metadata": {
        "id": "aftrIJUw5q9n"
      },
      "source": [
        ""
      ],
      "execution_count": null,
      "outputs": []
    },
    {
      "cell_type": "markdown",
      "metadata": {
        "id": "xgqX2yK95rgt"
      },
      "source": [
        "### Training the Model"
      ]
    },
    {
      "cell_type": "code",
      "metadata": {
        "id": "nt0rCeNU5xkb"
      },
      "source": [
        ""
      ],
      "execution_count": null,
      "outputs": []
    },
    {
      "cell_type": "markdown",
      "metadata": {
        "id": "6mEvmHpl5yPP"
      },
      "source": [
        "###Evaluate the results and test the model"
      ]
    },
    {
      "cell_type": "code",
      "metadata": {
        "id": "IBgwFBup5y3w"
      },
      "source": [
        ""
      ],
      "execution_count": null,
      "outputs": []
    }
  ]
}