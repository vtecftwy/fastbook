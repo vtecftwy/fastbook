{
  "nbformat": 4,
  "nbformat_minor": 0,
  "metadata": {
    "colab": {
      "name": "use-api-keys-safely.ipynb",
      "provenance": [],
      "collapsed_sections": [],
      "toc_visible": true,
      "authorship_tag": "ABX9TyP6x96PfaXFbPVYPeP2NB2n",
      "include_colab_link": true
    },
    "kernelspec": {
      "name": "python3",
      "display_name": "Python 3"
    }
  },
  "cells": [
    {
      "cell_type": "markdown",
      "metadata": {
        "id": "view-in-github",
        "colab_type": "text"
      },
      "source": [
        "<a href=\"https://colab.research.google.com/github/vtecftwy/fastbook/blob/master/use_api_keys_safely.ipynb\" target=\"_parent\"><img src=\"https://colab.research.google.com/assets/colab-badge.svg\" alt=\"Open In Colab\"/></a>"
      ]
    },
    {
      "cell_type": "markdown",
      "metadata": {
        "id": "2iKgT_xc3VlD"
      },
      "source": [
        "# Use API keys and private information safely"
      ]
    },
    {
      "cell_type": "markdown",
      "metadata": {
        "id": "HZ6B99dz3b2I"
      },
      "source": [
        "Sharing code on github or by other means is very convenient. However, there is a risk of accidently sharing provate information such as API keys, passwords or even usename, which could be used by others with bad intentions.\n",
        "\n",
        "This notebook gives you a simple way to be both open with your code and safe with respect to such private info, by using a configuration file.\n",
        "\n",
        "The configuration file is a text file where you keep all private information, and which you keep on you google drive. No one has access to this, but you can call it from the notebook and load the values of keys and passwords, without making them visible to others. Others will also be able to use the code, and just need to replace the configuration file with theirs. \n",
        "\n",
        "here are several options to do that. The code below uses one python standard library called **`configparser`** ([documentation](https://docs.python.org/3/library/configparser.html)). You can use the documentation and code how to load the information directly, or you can use a utility package I have coded and which is available on github. This notebook uses the package."
      ]
    },
    {
      "cell_type": "markdown",
      "metadata": {
        "id": "ZjT5_vKwFTRV"
      },
      "source": [
        "**Configuration file:**\n",
        "\n",
        "Configuration files for `configparser` are text files with the following format:\n",
        "```\n",
        "[section]\n",
        "key_name = key_value\n",
        "```\n",
        "You can have as many section as you wish. Under each section, you only can use a key name once.\n",
        "\n",
        "Here is a sample format which we will use for this notebook\n",
        "```\n",
        "# ##################################\n",
        "# DO NOT INCLUDE IN VERSION CONTROL\n",
        "# ##################################\n",
        "[section_name]\n",
        "key_name_1 = key_value_1\n",
        "key_name_2 = key_value_2\n",
        "key_name_3 = key_value_3\n",
        "\n",
        "[azure]\n",
        "azure-key-1 = fakekeyazure11111111111111111111\n",
        "azure-key-2 = fakekeyazure22222222222222222222\n",
        "\n",
        "[kaggle]\n",
        "kaggle_username = fake_kaggle_username\n",
        "kaggle_key = fakekeykaggle0000000000000000000\n",
        "\n",
        "[github]\n",
        "git_name = Fake Name\n",
        "git_email = email@domain.com\n",
        "github_username = fake_github_username\n",
        "github_password = fake_github_password\n",
        "\n",
        "```"
      ]
    },
    {
      "cell_type": "markdown",
      "metadata": {
        "id": "gx0z1NrwJxX4"
      },
      "source": [
        "Create a txt file with this format and upload it on your gdrive"
      ]
    },
    {
      "cell_type": "code",
      "metadata": {
        "id": "Nwtm3fAIzq1m",
        "colab": {
          "base_uri": "https://localhost:8080/"
        },
        "outputId": "1f50232d-7968-48bc-b4d4-2798f33cbd10"
      },
      "source": [
        "# Install the utility package from github\n",
        "!pip install git+https://github.com/vtecftwy/ecutils.git@develop -q\n",
        "\n",
        "# Load the module with machine learning utility functions: ml\n",
        "from ecutils import ml\n",
        "\n",
        "# mount google drive to access the config file\n",
        "from google.colab import drive\n",
        "from pathlib import Path\n",
        "\n",
        "drive.mount('/content/gdrive')"
      ],
      "execution_count": 10,
      "outputs": [
        {
          "output_type": "stream",
          "text": [
            "  Building wheel for ecutils (setup.py) ... \u001b[?25l\u001b[?25hdone\n",
            "Drive already mounted at /content/gdrive; to attempt to forcibly remount, call drive.mount(\"/content/gdrive\", force_remount=True).\n"
          ],
          "name": "stdout"
        }
      ]
    },
    {
      "cell_type": "markdown",
      "metadata": {
        "id": "DsZj2bzvKJMJ"
      },
      "source": [
        "Define the path to your confirmation file"
      ]
    },
    {
      "cell_type": "code",
      "metadata": {
        "id": "Mxb8EtvlEtEY"
      },
      "source": [
        "path2config = Path('/content/gdrive/MyDrive/fastai/config-api-keys-sample.cfg')"
      ],
      "execution_count": 16,
      "outputs": []
    },
    {
      "cell_type": "markdown",
      "metadata": {
        "id": "hCXe4PhNKQsn"
      },
      "source": [
        "Retrieve the key you want by providing:\n",
        "- the section name\n",
        "- the key name for the value you want"
      ]
    },
    {
      "cell_type": "code",
      "metadata": {
        "colab": {
          "base_uri": "https://localhost:8080/",
          "height": 35
        },
        "id": "3tkEDbQcEs1Y",
        "outputId": "202bb0f0-d756-4359-a016-7e191efde73e"
      },
      "source": [
        "ml.get_config_value('section_name', 'key_name_1', path_to_config_file=path2config)"
      ],
      "execution_count": 17,
      "outputs": [
        {
          "output_type": "execute_result",
          "data": {
            "application/vnd.google.colaboratory.intrinsic+json": {
              "type": "string"
            },
            "text/plain": [
              "'key_value_1'"
            ]
          },
          "metadata": {
            "tags": []
          },
          "execution_count": 17
        }
      ]
    },
    {
      "cell_type": "markdown",
      "metadata": {
        "id": "_diZQ_QbJtwJ"
      },
      "source": [
        "Obviously, when you retrieve a real key value, you do not print it in the notebook"
      ]
    },
    {
      "cell_type": "code",
      "metadata": {
        "id": "s3A15kVbGAGQ"
      },
      "source": [
        "key_value = ml.get_config_value('section_name', 'key_name_1', path_to_config_file=path2config)"
      ],
      "execution_count": 18,
      "outputs": []
    },
    {
      "cell_type": "markdown",
      "metadata": {
        "id": "kg_KQyYpKma_"
      },
      "source": [
        "After this you can use the key value but no one will be able to know its value or get access to it.\n",
        "\n",
        "In addition, another person can reuse this code, just by creating their own configuration file and changing the path to it."
      ]
    },
    {
      "cell_type": "code",
      "metadata": {
        "id": "vY8fnJpRS5km"
      },
      "source": [
        "# Get the Azure API key for Bing Image Search API\n",
        "key = ml.get_config_value('azure', 'azure-key-1', path_to_config_file=path2config)"
      ],
      "execution_count": 19,
      "outputs": []
    },
    {
      "cell_type": "code",
      "metadata": {
        "colab": {
          "base_uri": "https://localhost:8080/",
          "height": 35
        },
        "id": "EoAEB1dFK9a_",
        "outputId": "45323830-e1b9-4eb9-c5fd-a89d62098e4e"
      },
      "source": [
        "# Let's print it to show it works\n",
        "key"
      ],
      "execution_count": 20,
      "outputs": [
        {
          "output_type": "execute_result",
          "data": {
            "application/vnd.google.colaboratory.intrinsic+json": {
              "type": "string"
            },
            "text/plain": [
              "'fakekeyazure11111111111111111111'"
            ]
          },
          "metadata": {
            "tags": []
          },
          "execution_count": 20
        }
      ]
    }
  ]
}