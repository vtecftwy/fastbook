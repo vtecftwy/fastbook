{
  "nbformat": 4,
  "nbformat_minor": 0,
  "metadata": {
    "jupytext": {
      "split_at_heading": true
    },
    "kernelspec": {
      "display_name": "Python 3",
      "language": "python",
      "name": "python3"
    },
    "colab": {
      "name": "04_mnist_full_set.ipynb",
      "provenance": [],
      "collapsed_sections": [
        "V4X8BwLDApAB",
        "OGePHgxcApAE",
        "wwKvqM1OApAF",
        "FE5rnwLDApAF",
        "gS7TnDJGApAG"
      ],
      "toc_visible": true,
      "include_colab_link": true
    },
    "accelerator": "GPU"
  },
  "cells": [
    {
      "cell_type": "markdown",
      "metadata": {
        "id": "view-in-github",
        "colab_type": "text"
      },
      "source": [
        "<a href=\"https://colab.research.google.com/github/vtecftwy/fastbook/blob/master/04_mnist_full_set.ipynb\" target=\"_parent\"><img src=\"https://colab.research.google.com/assets/colab-badge.svg\" alt=\"Open In Colab\"/></a>"
      ]
    },
    {
      "cell_type": "code",
      "metadata": {
        "id": "ismMd5FkAo-6",
        "colab": {
          "base_uri": "https://localhost:8080/"
        },
        "outputId": "c515ab8e-d5d8-40b8-e666-dafe7a6b71b3"
      },
      "source": [
        "!pip install -Uqq fastbook\n",
        "import fastbook\n",
        "fastbook.setup_book()"
      ],
      "execution_count": null,
      "outputs": [
        {
          "output_type": "stream",
          "text": [
            "\u001b[K     |████████████████████████████████| 727kB 11.3MB/s \n",
            "\u001b[K     |████████████████████████████████| 194kB 26.2MB/s \n",
            "\u001b[K     |████████████████████████████████| 51kB 6.6MB/s \n",
            "\u001b[K     |████████████████████████████████| 1.2MB 24.7MB/s \n",
            "\u001b[K     |████████████████████████████████| 12.8MB 191kB/s \n",
            "\u001b[K     |████████████████████████████████| 61kB 8.0MB/s \n",
            "\u001b[K     |████████████████████████████████| 776.8MB 24kB/s \n",
            "\u001b[K     |████████████████████████████████| 51kB 6.3MB/s \n",
            "\u001b[31mERROR: torchtext 0.9.1 has requirement torch==1.8.1, but you'll have torch 1.7.1 which is incompatible.\u001b[0m\n",
            "\u001b[?25hMounted at /content/gdrive\n"
          ],
          "name": "stdout"
        }
      ]
    },
    {
      "cell_type": "code",
      "metadata": {
        "id": "d984jeb0Ao-_"
      },
      "source": [
        "from fastai.vision.all import *\n",
        "from fastbook import *\n",
        "\n",
        "matplotlib.rc('image', cmap='Greys')"
      ],
      "execution_count": null,
      "outputs": []
    },
    {
      "cell_type": "markdown",
      "metadata": {
        "id": "2oVrDUE_nzmu"
      },
      "source": [
        "# Rerun Chapter 4 with the full MNIST dataset"
      ]
    },
    {
      "cell_type": "markdown",
      "metadata": {
        "id": "zQ-L91uh_cX0"
      },
      "source": [
        "## Load full MNIST dataset"
      ]
    },
    {
      "cell_type": "markdown",
      "metadata": {
        "id": "ECAC3RfxAo_D"
      },
      "source": [
        "We are try to rerun the two classifiers built before to classify images as a 3 or a 7, but using the full dataset with 10 digits. So let's download the full MNIST datasets:"
      ]
    },
    {
      "cell_type": "code",
      "metadata": {
        "id": "z51wexCkAo_D",
        "colab": {
          "base_uri": "https://localhost:8080/",
          "height": 17
        },
        "outputId": "b554657f-df2f-4241-d7da-f9841db17a52"
      },
      "source": [
        "path = untar_data(URLs.MNIST)    # Full dataset (0s to 9s)"
      ],
      "execution_count": null,
      "outputs": [
        {
          "output_type": "display_data",
          "data": {
            "text/html": [
              ""
            ],
            "text/plain": [
              "<IPython.core.display.HTML object>"
            ]
          },
          "metadata": {
            "tags": []
          }
        }
      ]
    },
    {
      "cell_type": "code",
      "metadata": {
        "id": "8cb6hPXoAo_D"
      },
      "source": [
        "Path.BASE_PATH = path"
      ],
      "execution_count": null,
      "outputs": []
    },
    {
      "cell_type": "markdown",
      "metadata": {
        "id": "7q8C99uoAo_D"
      },
      "source": [
        "We can see what's in this directory by using `ls`, a method added by fastai. This method returns an object of a special fastai class called `L`, which has all the same functionality of Python's built-in `list`, plus a lot more. One of its handy features is that, when printed, it displays the count of items, before listing the items themselves (if there are more than 10 items, it just shows the first few):"
      ]
    },
    {
      "cell_type": "code",
      "metadata": {
        "id": "1eHnXszSAo_E",
        "colab": {
          "base_uri": "https://localhost:8080/"
        },
        "outputId": "ac6ba874-980d-4737-a618-c29346a9caea"
      },
      "source": [
        "path.ls()"
      ],
      "execution_count": null,
      "outputs": [
        {
          "output_type": "execute_result",
          "data": {
            "text/plain": [
              "(#2) [Path('training'),Path('testing')]"
            ]
          },
          "metadata": {
            "tags": []
          },
          "execution_count": 5
        }
      ]
    },
    {
      "cell_type": "markdown",
      "metadata": {
        "id": "9Mdy8RNkAo_F"
      },
      "source": [
        "The MNIST dataset follows a common layout for machine learning datasets: separate folders for the training set and the validation set (and/or test set). Note, though, that the names of both image folders have changed: `train` into `training` and `valid` into `testing`. Keep this in mind when you look for images in the code below.\n",
        "\n",
        "Let's see what's inside the training set:"
      ]
    },
    {
      "cell_type": "code",
      "metadata": {
        "id": "7N8WAogvAo_G",
        "colab": {
          "base_uri": "https://localhost:8080/"
        },
        "outputId": "4ff325f3-6e73-4a82-edf5-278c74dd3fe5"
      },
      "source": [
        "(path/'training').ls()"
      ],
      "execution_count": null,
      "outputs": [
        {
          "output_type": "execute_result",
          "data": {
            "text/plain": [
              "(#10) [Path('training/4'),Path('training/8'),Path('training/3'),Path('training/5'),Path('training/0'),Path('training/2'),Path('training/7'),Path('training/1'),Path('training/9'),Path('training/6')]"
            ]
          },
          "metadata": {
            "tags": []
          },
          "execution_count": 6
        }
      ]
    },
    {
      "cell_type": "markdown",
      "metadata": {
        "id": "2pVC0CapAo_H"
      },
      "source": [
        "There's a folder for each digit from 0s to 9s. Let's take a look in one of these folders (using `sorted` to ensure we all get the same order of files). To do so, it is convenient to use a `dict`, indexed by the digit (0 -> 9). It prevents us from creating 10 different variables and from writing 10 times tvery similar code. We also could use a list of lists.\n",
        "``` python\n",
        "    paths_dict = {0: [list of the paths to images of 0],\n",
        "                  1: [list of the paths to images of 1],\n",
        "\n",
        "                  i: [list of the paths to images of i],\n",
        "\n",
        "                  9: [list of the paths to images of 9],\n",
        "                 }\n",
        "```"
      ]
    },
    {
      "cell_type": "code",
      "metadata": {
        "id": "NPjkeRxyAo_H",
        "colab": {
          "base_uri": "https://localhost:8080/"
        },
        "outputId": "ff9e599c-7122-4dba-a48b-9cc659e67a6d"
      },
      "source": [
        "paths_dict = {}         # Create an empty dictionary to hold the paths list for each digit\n",
        "for i in range(10):\n",
        "    paths_dict[i] = (path/'training'/f\"{i}\").ls().sorted()   # add the list of path for digit i to the dict\n",
        "\n",
        "paths_dict"
      ],
      "execution_count": null,
      "outputs": [
        {
          "output_type": "execute_result",
          "data": {
            "text/plain": [
              "{0: (#5923) [Path('training/0/1.png'),Path('training/0/1000.png'),Path('training/0/10005.png'),Path('training/0/10010.png'),Path('training/0/10022.png'),Path('training/0/10025.png'),Path('training/0/10026.png'),Path('training/0/10045.png'),Path('training/0/10069.png'),Path('training/0/10071.png')...],\n",
              " 1: (#6742) [Path('training/1/10006.png'),Path('training/1/10007.png'),Path('training/1/1002.png'),Path('training/1/10020.png'),Path('training/1/10027.png'),Path('training/1/1003.png'),Path('training/1/10040.png'),Path('training/1/10048.png'),Path('training/1/10058.png'),Path('training/1/10067.png')...],\n",
              " 2: (#5958) [Path('training/2/10009.png'),Path('training/2/10016.png'),Path('training/2/10024.png'),Path('training/2/10029.png'),Path('training/2/10072.png'),Path('training/2/10073.png'),Path('training/2/10075.png'),Path('training/2/10078.png'),Path('training/2/10081.png'),Path('training/2/10082.png')...],\n",
              " 3: (#6131) [Path('training/3/10.png'),Path('training/3/10000.png'),Path('training/3/10011.png'),Path('training/3/10031.png'),Path('training/3/10034.png'),Path('training/3/10042.png'),Path('training/3/10052.png'),Path('training/3/1007.png'),Path('training/3/10074.png'),Path('training/3/10091.png')...],\n",
              " 4: (#5842) [Path('training/4/10013.png'),Path('training/4/10018.png'),Path('training/4/10033.png'),Path('training/4/1004.png'),Path('training/4/1006.png'),Path('training/4/10060.png'),Path('training/4/1008.png'),Path('training/4/10103.png'),Path('training/4/10104.png'),Path('training/4/10114.png')...],\n",
              " 5: (#5421) [Path('training/5/0.png'),Path('training/5/100.png'),Path('training/5/10008.png'),Path('training/5/10015.png'),Path('training/5/10030.png'),Path('training/5/10035.png'),Path('training/5/10049.png'),Path('training/5/10051.png'),Path('training/5/10056.png'),Path('training/5/10062.png')...],\n",
              " 6: (#5918) [Path('training/6/10017.png'),Path('training/6/10032.png'),Path('training/6/10036.png'),Path('training/6/10037.png'),Path('training/6/10044.png'),Path('training/6/10053.png'),Path('training/6/10076.png'),Path('training/6/10089.png'),Path('training/6/10101.png'),Path('training/6/10108.png')...],\n",
              " 7: (#6265) [Path('training/7/10002.png'),Path('training/7/1001.png'),Path('training/7/10014.png'),Path('training/7/10019.png'),Path('training/7/10039.png'),Path('training/7/10046.png'),Path('training/7/10050.png'),Path('training/7/10063.png'),Path('training/7/10077.png'),Path('training/7/10086.png')...],\n",
              " 8: (#5851) [Path('training/8/10001.png'),Path('training/8/10012.png'),Path('training/8/10021.png'),Path('training/8/10041.png'),Path('training/8/10054.png'),Path('training/8/10057.png'),Path('training/8/10061.png'),Path('training/8/10064.png'),Path('training/8/10066.png'),Path('training/8/10079.png')...],\n",
              " 9: (#5949) [Path('training/9/10003.png'),Path('training/9/10004.png'),Path('training/9/10023.png'),Path('training/9/10028.png'),Path('training/9/10038.png'),Path('training/9/10043.png'),Path('training/9/10047.png'),Path('training/9/1005.png'),Path('training/9/10055.png'),Path('training/9/10059.png')...]}"
            ]
          },
          "metadata": {
            "tags": []
          },
          "execution_count": 7
        }
      ]
    },
    {
      "cell_type": "markdown",
      "metadata": {
        "id": "312NwVltAo_I"
      },
      "source": [
        "Let’s take a look at one image for each of the digits:"
      ]
    },
    {
      "cell_type": "code",
      "metadata": {
        "id": "bjWBvBVMAo_I",
        "colab": {
          "base_uri": "https://localhost:8080/",
          "height": 297
        },
        "outputId": "4b3e755b-3e5c-48dc-c9c7-a0a309a5554c"
      },
      "source": [
        "for i in range(10):\n",
        "    img_paths = paths_dict[i][3]\n",
        "    img = Image.open(img_paths)\n",
        "    display(img)"
      ],
      "execution_count": null,
      "outputs": [
        {
          "output_type": "display_data",
          "data": {
            "image/png": "[encoded data removed]",
            "text/plain": [
              "<PIL.PngImagePlugin.PngImageFile image mode=L size=28x28 at 0x7F8A7EE4EA90>"
            ]
          },
          "metadata": {
            "tags": []
          }
        },
        {
          "output_type": "display_data",
          "data": {
            "image/png": "[encoded data removed]",
            "text/plain": [
              "<PIL.PngImagePlugin.PngImageFile image mode=L size=28x28 at 0x7F8A7EDBCC50>"
            ]
          },
          "metadata": {
            "tags": []
          }
        },
        {
          "output_type": "display_data",
          "data": {
            "image/png": "[encoded data removed]",
            "text/plain": [
              "<PIL.PngImagePlugin.PngImageFile image mode=L size=28x28 at 0x7F8A7EDC4090>"
            ]
          },
          "metadata": {
            "tags": []
          }
        },
        {
          "output_type": "display_data",
          "data": {
            "image/png": "[encoded data removed]",
            "text/plain": [
              "<PIL.PngImagePlugin.PngImageFile image mode=L size=28x28 at 0x7F8A7EDC4110>"
            ]
          },
          "metadata": {
            "tags": []
          }
        },
        {
          "output_type": "display_data",
          "data": {
            "image/png": "[encoded data removed]",
            "text/plain": [
              "<PIL.PngImagePlugin.PngImageFile image mode=L size=28x28 at 0x7F8A7EDC4050>"
            ]
          },
          "metadata": {
            "tags": []
          }
        },
        {
          "output_type": "display_data",
          "data": {
            "image/png": "[encoded data removed]",
            "text/plain": [
              "<PIL.PngImagePlugin.PngImageFile image mode=L size=28x28 at 0x7F8A7EDBCF10>"
            ]
          },
          "metadata": {
            "tags": []
          }
        },
        {
          "output_type": "display_data",
          "data": {
            "image/png": "[encoded data removed]",
            "text/plain": [
              "<PIL.PngImagePlugin.PngImageFile image mode=L size=28x28 at 0x7F8A7EDC48D0>"
            ]
          },
          "metadata": {
            "tags": []
          }
        },
        {
          "output_type": "display_data",
          "data": {
            "image/png": "[encoded data removed]",
            "text/plain": [
              "<PIL.PngImagePlugin.PngImageFile image mode=L size=28x28 at 0x7F8A7EDC4990>"
            ]
          },
          "metadata": {
            "tags": []
          }
        },
        {
          "output_type": "display_data",
          "data": {
            "image/png": "[encoded data removed]",
            "text/plain": [
              "<PIL.PngImagePlugin.PngImageFile image mode=L size=28x28 at 0x7F8A7EDC4AD0>"
            ]
          },
          "metadata": {
            "tags": []
          }
        },
        {
          "output_type": "display_data",
          "data": {
            "image/png": "[encoded data removed]",
            "text/plain": [
              "<PIL.PngImagePlugin.PngImageFile image mode=L size=28x28 at 0x7F8A7EDC4A50>"
            ]
          },
          "metadata": {
            "tags": []
          }
        }
      ]
    },
    {
      "cell_type": "markdown",
      "metadata": {
        "id": "enZri5pkAo_J"
      },
      "source": [
        "We can store the image in a tensor and slice it to pick some part of the image. We then use a Pandas DataFrame to color-code the values using a gradient, which shows us clearly how the image is created from the pixel values:"
      ]
    },
    {
      "cell_type": "markdown",
      "metadata": {
        "id": "zbju2SOjAo_K"
      },
      "source": [
        "## Baseline model: Pixel Similarity"
      ]
    },
    {
      "cell_type": "markdown",
      "metadata": {
        "id": "nZ0g9n7sAo_K"
      },
      "source": [
        "So, here is a first idea: how about we find the average pixel value for every pixel for each digit (0 to 9). Then, to classify an image as one digit or the other, we see which of these ideal digits the image is most similar to. This certainly seems like it should be better than nothing, so it will make a good baseline."
      ]
    },
    {
      "cell_type": "markdown",
      "metadata": {
        "id": "3Nu_zxJnAo_L"
      },
      "source": [
        "Step one for our simple model is to get the average of pixel values for the groups of images for each pixel.\n",
        "\n",
        "Let's create a tensor containing all of the images representing a single digit, stacked together. We use the same list comnprehension as in `04_mnist_basic`. But since we have 10 groups, we again use a dictionary indexed with the digit 0 to 9, to hold the stacked images, instead of 10 variables. You also can use a list of tensors here. There are also other methods that may be faster."
      ]
    },
    {
      "cell_type": "code",
      "metadata": {
        "id": "K-QBaP57Ao_L"
      },
      "source": [
        "tensors_dict = {}\n",
        "for i in range(10):\n",
        "    tensors_dict[i] = [tensor(Image.open(o)) for o in paths_dict[i]]"
      ],
      "execution_count": null,
      "outputs": []
    },
    {
      "cell_type": "code",
      "metadata": {
        "colab": {
          "base_uri": "https://localhost:8080/",
          "height": 210
        },
        "id": "3lr9h45QANvp",
        "outputId": "ad277f3e-8a62-4c12-8f99-e69eba763d02"
      },
      "source": [
        "# Show the number of images for each digit\n",
        "print(f'Total number of images: {sum([len(v) for k, v in tensors_dict.items()]):,d}')\n",
        "display([f\"{len(v):,d} images for {k}\" for k, v in tensors_dict.items()])\n"
      ],
      "execution_count": null,
      "outputs": [
        {
          "output_type": "stream",
          "text": [
            "Total number of images: 60,000\n"
          ],
          "name": "stdout"
        },
        {
          "output_type": "display_data",
          "data": {
            "text/plain": [
              "['5,923 images for 0',\n",
              " '6,742 images for 1',\n",
              " '5,958 images for 2',\n",
              " '6,131 images for 3',\n",
              " '5,842 images for 4',\n",
              " '5,421 images for 5',\n",
              " '5,918 images for 6',\n",
              " '6,265 images for 7',\n",
              " '5,851 images for 8',\n",
              " '5,949 images for 9']"
            ]
          },
          "metadata": {
            "tags": []
          }
        }
      ]
    },
    {
      "cell_type": "markdown",
      "metadata": {
        "id": "lLNeQOo3Ao_M"
      },
      "source": [
        "We'll also check that one of the images looks okay. Since we now have tensors (which Jupyter by default will print as values), rather than PIL images (which Jupyter by default will display as images), we need to use fastai's `show_image` function to display it:"
      ]
    },
    {
      "cell_type": "code",
      "metadata": {
        "id": "fhPxcHn1Ao_M",
        "colab": {
          "base_uri": "https://localhost:8080/",
          "height": 153
        },
        "outputId": "82b889b5-f1d2-4da7-fd1d-293075b3cebe"
      },
      "source": [
        "show_image(tensors_dict[2][1])\n",
        "show_image(tensors_dict[9][1]);"
      ],
      "execution_count": null,
      "outputs": [
        {
          "output_type": "display_data",
          "data": {
            "image/png": "[encoded data removed]",
            "text/plain": [
              "<Figure size 72x72 with 1 Axes>"
            ]
          },
          "metadata": {
            "tags": [],
            "needs_background": "light"
          }
        },
        {
          "output_type": "display_data",
          "data": {
            "image/png": "[encoded data removed]",
            "text/plain": [
              "<Figure size 72x72 with 1 Axes>"
            ]
          },
          "metadata": {
            "tags": [],
            "needs_background": "light"
          }
        }
      ]
    },
    {
      "cell_type": "markdown",
      "metadata": {
        "id": "MVISc1SpAo_N"
      },
      "source": [
        "For every pixel position, we want to compute the average over all the images of the intensity of that pixel. To do this we first combine all the images in this list into a single three-dimensional tensor. The most common way to describe such a tensor is to call it a *rank-3 tensor*. We often need to stack up individual tensors in a collection into a single tensor. Unsurprisingly, PyTorch comes with a function called `stack` that we can use for this purpose.\n",
        "\n",
        "Some operations in PyTorch, such as taking a mean, require us to *cast* our integer types to float types. Since we'll be needing this later, we'll also cast our stacked tensor to `float` now. Casting in PyTorch is as simple as typing the name of the type you wish to cast to, and treating it as a method.\n",
        "\n",
        "Generally when images are floats, the pixel values are expected to be between 0 and 1, so we will also divide by 255 here:"
      ]
    },
    {
      "cell_type": "code",
      "metadata": {
        "id": "em4pFaPTAo_N"
      },
      "source": [
        "# Calculate the stacked tensor for each of the digit and store that tensor in a dictionary index by digit\n",
        "stacked_tensors_dict = {}\n",
        "for digit, img_tensor in tensors_dict.items():\n",
        "    stacked_tensors_dict[digit] = torch.stack(img_tensor).float()/255"
      ],
      "execution_count": null,
      "outputs": []
    },
    {
      "cell_type": "markdown",
      "metadata": {
        "id": "dvddIlsBAo_N"
      },
      "source": [
        "Perhaps the most important attribute of a tensor is its *shape*. This tells you the length of each axis. In this case, we can see that we have around 6,000 images for each digit, each image of size 28×28 pixels. There is nothing specifically about this tensor that says that the first axis is the number of images, the second is the height, and the third is the width—the semantics of a tensor are entirely up to us, and how we construct it. As far as PyTorch is concerned, it is just a bunch of numbers in memory."
      ]
    },
    {
      "cell_type": "code",
      "metadata": {
        "colab": {
          "base_uri": "https://localhost:8080/"
        },
        "id": "HR_70dP0CDmt",
        "outputId": "46d919a3-66df-42ea-f19a-a143c43081b3"
      },
      "source": [
        "print('Shapes of image tensor for each digit:')\n",
        "for digit, img_tensor in stacked_tensors_dict.items():\n",
        "    print('   ', digit, ': ', stacked_tensors_dict[digit].shape)"
      ],
      "execution_count": null,
      "outputs": [
        {
          "output_type": "stream",
          "text": [
            "Shapes of image tensor for each digit:\n",
            "    0 :  torch.Size([5923, 28, 28])\n",
            "    1 :  torch.Size([6742, 28, 28])\n",
            "    2 :  torch.Size([5958, 28, 28])\n",
            "    3 :  torch.Size([6131, 28, 28])\n",
            "    4 :  torch.Size([5842, 28, 28])\n",
            "    5 :  torch.Size([5421, 28, 28])\n",
            "    6 :  torch.Size([5918, 28, 28])\n",
            "    7 :  torch.Size([6265, 28, 28])\n",
            "    8 :  torch.Size([5851, 28, 28])\n",
            "    9 :  torch.Size([5949, 28, 28])\n"
          ],
          "name": "stdout"
        }
      ]
    },
    {
      "cell_type": "markdown",
      "metadata": {
        "id": "eioTreEvAo_O"
      },
      "source": [
        "Finally, we can compute what the ideal digit image looks like. We calculate the mean of all the image tensors by taking the mean along dimension 0 of our stacked, rank-3 tensor. This is the dimension that indexes over all the images.\n",
        "\n",
        "In other words, for every pixel position, this will compute the average of that pixel over all images. The result will be one value for every pixel position, or a single image. Here it is:"
      ]
    },
    {
      "cell_type": "code",
      "metadata": {
        "id": "imwKFV7kAo_P",
        "colab": {
          "base_uri": "https://localhost:8080/",
          "height": 697
        },
        "outputId": "2b7fc039-8eca-4a08-d0f1-20d14229b17e"
      },
      "source": [
        "means_dict = {}\n",
        "for digit, tnsr in stacked_tensors_dict.items():\n",
        "    means_dict[digit] = stacked_tensors_dict[digit].mean(0)\n",
        "    show_image(means_dict[digit])"
      ],
      "execution_count": null,
      "outputs": [
        {
          "output_type": "display_data",
          "data": {
            "image/png": "[encoded data removed]",
            "text/plain": [
              "<Figure size 72x72 with 1 Axes>"
            ]
          },
          "metadata": {
            "tags": [],
            "needs_background": "light"
          }
        },
        {
          "output_type": "display_data",
          "data": {
            "image/png": "[encoded data removed]",
            "text/plain": [
              "<Figure size 72x72 with 1 Axes>"
            ]
          },
          "metadata": {
            "tags": [],
            "needs_background": "light"
          }
        },
        {
          "output_type": "display_data",
          "data": {
            "image/png": "[encoded data removed]",
            "text/plain": [
              "<Figure size 72x72 with 1 Axes>"
            ]
          },
          "metadata": {
            "tags": [],
            "needs_background": "light"
          }
        },
        {
          "output_type": "display_data",
          "data": {
            "image/png": "[encoded data removed]",
            "text/plain": [
              "<Figure size 72x72 with 1 Axes>"
            ]
          },
          "metadata": {
            "tags": [],
            "needs_background": "light"
          }
        },
        {
          "output_type": "display_data",
          "data": {
            "image/png": "[encoded data removed]",
            "text/plain": [
              "<Figure size 72x72 with 1 Axes>"
            ]
          },
          "metadata": {
            "tags": [],
            "needs_background": "light"
          }
        },
        {
          "output_type": "display_data",
          "data": {
            "image/png": "[encoded data removed]",
            "text/plain": [
              "<Figure size 72x72 with 1 Axes>"
            ]
          },
          "metadata": {
            "tags": [],
            "needs_background": "light"
          }
        },
        {
          "output_type": "display_data",
          "data": {
            "image/png": "[encoded data removed]",
            "text/plain": [
              "<Figure size 72x72 with 1 Axes>"
            ]
          },
          "metadata": {
            "tags": [],
            "needs_background": "light"
          }
        },
        {
          "output_type": "display_data",
          "data": {
            "image/png": "[encoded data removed]",
            "text/plain": [
              "<Figure size 72x72 with 1 Axes>"
            ]
          },
          "metadata": {
            "tags": [],
            "needs_background": "light"
          }
        },
        {
          "output_type": "display_data",
          "data": {
            "image/png": "[encoded data removed]",
            "text/plain": [
              "<Figure size 72x72 with 1 Axes>"
            ]
          },
          "metadata": {
            "tags": [],
            "needs_background": "light"
          }
        },
        {
          "output_type": "display_data",
          "data": {
            "image/png": "[encoded data removed]",
            "text/plain": [
              "<Figure size 72x72 with 1 Axes>"
            ]
          },
          "metadata": {
            "tags": [],
            "needs_background": "light"
          }
        }
      ]
    },
    {
      "cell_type": "markdown",
      "metadata": {
        "id": "hel27ng0Ao_P"
      },
      "source": [
        "According to this dataset, these are the ideal images for each of the digits"
      ]
    },
    {
      "cell_type": "markdown",
      "metadata": {
        "id": "an-Fs1vpAo_P"
      },
      "source": [
        "Let's now pick an arbitrary 3 and measure its *distance* from our \"ideal digits.\"\n",
        "\n",
        "> **Stop and Think!**: How would you calculate how similar a particular image is to each of our ideal digits? Remember to step away from this book and jot down some ideas before you move on! Research shows that recall and understanding improves dramatically when you are engaged with the learning process by solving problems, experimenting, and trying new ideas yourself"
      ]
    },
    {
      "cell_type": "markdown",
      "metadata": {
        "id": "lp5ha0ANCoSr"
      },
      "source": [
        "Here's a sample image of one digit:"
      ]
    },
    {
      "cell_type": "code",
      "metadata": {
        "id": "ICZFvZHHAo_P",
        "colab": {
          "base_uri": "https://localhost:8080/",
          "height": 85
        },
        "outputId": "2d282c9c-7cd1-490d-9cb9-851b72cb3d57"
      },
      "source": [
        "selected_digit = 3\n",
        "img = stacked_tensors_dict[selected_digit][2]\n",
        "show_image(img);"
      ],
      "execution_count": null,
      "outputs": [
        {
          "output_type": "display_data",
          "data": {
            "image/png": "[encoded data removed]",
            "text/plain": [
              "<Figure size 72x72 with 1 Axes>"
            ]
          },
          "metadata": {
            "tags": [],
            "needs_background": "light"
          }
        }
      ]
    },
    {
      "cell_type": "markdown",
      "metadata": {
        "id": "ypkq4CqSAo_P"
      },
      "source": [
        "Let's compare again our Mean Absolute Error (MAE) and Mean Square Error (MSE)"
      ]
    },
    {
      "cell_type": "code",
      "metadata": {
        "id": "UTs8ufStAo_Q",
        "colab": {
          "base_uri": "https://localhost:8080/"
        },
        "outputId": "85059afb-6a49-4728-9758-fe8ca4f8b3f9"
      },
      "source": [
        "dist_3_mae = (img - means_dict[3]).abs().mean()\n",
        "dist_3_mse = ((img - means_dict[3])**2).mean().sqrt()\n",
        "dist_3_mae, dist_3_mse"
      ],
      "execution_count": null,
      "outputs": [
        {
          "output_type": "execute_result",
          "data": {
            "text/plain": [
              "(tensor(0.1100), tensor(0.1980))"
            ]
          },
          "metadata": {
            "tags": []
          },
          "execution_count": 16
        }
      ]
    },
    {
      "cell_type": "code",
      "metadata": {
        "id": "xt4MbXJ-Ao_Q",
        "colab": {
          "base_uri": "https://localhost:8080/"
        },
        "outputId": "e5e91e73-296c-4085-c5c5-635d638839eb"
      },
      "source": [
        "dist_7_mae = (img - means_dict[7]).abs().mean()\n",
        "dist_7_mse = ((img - means_dict[7])**2).mean().sqrt()\n",
        "dist_7_mae, dist_7_mse"
      ],
      "execution_count": null,
      "outputs": [
        {
          "output_type": "execute_result",
          "data": {
            "text/plain": [
              "(tensor(0.1541), tensor(0.2974))"
            ]
          },
          "metadata": {
            "tags": []
          },
          "execution_count": 17
        }
      ]
    },
    {
      "cell_type": "markdown",
      "metadata": {
        "id": "6quCmrdveh5n"
      },
      "source": [
        "Let's visualize what these distances mean:"
      ]
    },
    {
      "cell_type": "code",
      "metadata": {
        "colab": {
          "base_uri": "https://localhost:8080/",
          "height": 550
        },
        "id": "KXN1-_VDRT_G",
        "outputId": "e3ba0037-d356-4493-d2a9-808f91a5983e"
      },
      "source": [
        "digit = 4\n",
        "img = stacked_tensors_dict[digit][10]\n",
        "\n",
        "fig, axs = plt.subplots(nrows=1, ncols=11, figsize=(18,5))\n",
        "for i in range(10):\n",
        "    show_image(means_dict[i], title=f\"Mean {i}\", ax=axs[i+1])\n",
        "show_image(img, title='Image to compare', ax=axs[0])\n",
        "plt.show()\n",
        "\n",
        "print('\\nSimple Difference:')\n",
        "fig, axs = plt.subplots(nrows=1, ncols=11, figsize=(18,5))\n",
        "for i in range(10):\n",
        "    show_image((img - means_dict[i]), title=f'with {i}', ax=axs[i+1])\n",
        "show_image(img, title='Image to compare', ax=axs[0])\n",
        "plt.show()\n",
        "\n",
        "print('\\nMAE - Mean Absolute Error:')\n",
        "fig, axs = plt.subplots(nrows=1, ncols=11, figsize=(18,5))\n",
        "for i in range(10):\n",
        "    show_image((img - means_dict[i]).abs(), title=f'with {i}', ax=axs[i+1])\n",
        "show_image(img, title='Image to compare', ax=axs[0])\n",
        "plt.show()\n",
        "\n",
        "print('\\nMSE - Mean Squared Error:')\n",
        "fig, axs = plt.subplots(nrows=1, ncols=11, figsize=(18,5))\n",
        "for i in range(10):\n",
        "    show_image((img - means_dict[i]).square(), title=f'with {i}', ax=axs[i+1])\n",
        "show_image(img, title='Image to compare', ax=axs[0])\n",
        "plt.show()"
      ],
      "execution_count": null,
      "outputs": [
        {
          "output_type": "display_data",
          "data": {
            "image/png": "[encoded data removed]",
            "text/plain": [
              "<Figure size 1296x360 with 11 Axes>"
            ]
          },
          "metadata": {
            "tags": [],
            "needs_background": "light"
          }
        },
        {
          "output_type": "stream",
          "text": [
            "\n",
            "Simple Difference:\n"
          ],
          "name": "stdout"
        },
        {
          "output_type": "display_data",
          "data": {
            "image/png": "[encoded data removed]",
            "text/plain": [
              "<Figure size 1296x360 with 11 Axes>"
            ]
          },
          "metadata": {
            "tags": [],
            "needs_background": "light"
          }
        },
        {
          "output_type": "stream",
          "text": [
            "\n",
            "MAE - Mean Absolute Error:\n"
          ],
          "name": "stdout"
        },
        {
          "output_type": "display_data",
          "data": {
            "image/png": "[encoded data removed]",
            "text/plain": [
              "<Figure size 1296x360 with 11 Axes>"
            ]
          },
          "metadata": {
            "tags": [],
            "needs_background": "light"
          }
        },
        {
          "output_type": "stream",
          "text": [
            "\n",
            "MSE - Mean Squared Error:\n"
          ],
          "name": "stdout"
        },
        {
          "output_type": "display_data",
          "data": {
            "image/png": "[encoded data removed]",
            "text/plain": [
              "<Figure size 1296x360 with 11 Axes>"
            ]
          },
          "metadata": {
            "tags": [],
            "needs_background": "light"
          }
        }
      ]
    },
    {
      "cell_type": "markdown",
      "metadata": {
        "id": "KhRFcuqwAo_Q"
      },
      "source": [
        "PyTorch already provides both of these as *loss functions*. You'll find these inside `torch.nn.functional`, which the PyTorch team recommends importing as `F` (and is available by default under that name in fastai):"
      ]
    },
    {
      "cell_type": "code",
      "metadata": {
        "id": "E2aPZy-3Ao_Q",
        "colab": {
          "base_uri": "https://localhost:8080/"
        },
        "outputId": "47b44679-e23d-41c9-c6ad-a967925f6cce"
      },
      "source": [
        "F.l1_loss(img.float(),means_dict[7]), F.mse_loss(img, means_dict[7]).sqrt()  "
      ],
      "execution_count": null,
      "outputs": [
        {
          "output_type": "execute_result",
          "data": {
            "text/plain": [
              "(tensor(0.1161), tensor(0.2299))"
            ]
          },
          "metadata": {
            "tags": []
          },
          "execution_count": 19
        }
      ]
    },
    {
      "cell_type": "markdown",
      "metadata": {
        "id": "Av_zS0apAo_R"
      },
      "source": [
        "Here `mse` stands for *mean squared error*, and `l1` refers to the standard mathematical jargon for *mean absolute value* (in math it's called the *L1 norm*)."
      ]
    },
    {
      "cell_type": "markdown",
      "metadata": {
        "id": "72-jn9W-Ao_Y"
      },
      "source": [
        "So, is our baseline model any good? To quantify this, we must define a metric."
      ]
    },
    {
      "cell_type": "markdown",
      "metadata": {
        "id": "_hE2D-d4Ao_Y"
      },
      "source": [
        "c over a *validation set*. This is so that we don't inadvertently overfit—that is, train a model to work well only on our training data. This is not really a risk with the pixel similarity model we're using here as a first try, since it has no trained components, but we'll use a validation set anyway to follow normal practices and to be ready for our second try later.\n",
        "\n",
        "To get a validation set we need to remove some of the data from training entirely, so it is not seen by the model at all. As it turns out, the creators of the MNIST dataset have already done this for us. Do you remember how there was a whole separate directory called *valid*? That's what this directory is for!\n",
        "\n",
        "So to start with, let's create tensors for our 3s and 7s from that directory. These are the tensors we will use to calculate a metric measuring the quality of our first-try model, which measures distance from an ideal image:"
      ]
    },
    {
      "cell_type": "markdown",
      "metadata": {
        "id": "KJVX90_NHIui"
      },
      "source": [
        "### Create validation set"
      ]
    },
    {
      "cell_type": "code",
      "metadata": {
        "id": "5S4A7eEjAo_Z",
        "colab": {
          "base_uri": "https://localhost:8080/"
        },
        "outputId": "d37c8501-1edb-4bcc-fc41-dd797d8b15dd"
      },
      "source": [
        "valid_tensors_dict = {}\n",
        "\n",
        "for digit, tnrs in stacked_tensors_dict.items():\n",
        "    valid_tensors_dict[digit] = torch.stack([tensor(Image.open(o)) \n",
        "                                             for o in (path/'testing'/f\"{digit}\").ls()])\n",
        "    valid_tensors_dict[digit] = valid_tensors_dict[digit].float()/255\n",
        "    print('shape for',digit, ':', valid_tensors_dict[digit].shape)"
      ],
      "execution_count": null,
      "outputs": [
        {
          "output_type": "stream",
          "text": [
            "shape for 0 : torch.Size([980, 28, 28])\n",
            "shape for 1 : torch.Size([1135, 28, 28])\n",
            "shape for 2 : torch.Size([1032, 28, 28])\n",
            "shape for 3 : torch.Size([1010, 28, 28])\n",
            "shape for 4 : torch.Size([982, 28, 28])\n",
            "shape for 5 : torch.Size([892, 28, 28])\n",
            "shape for 6 : torch.Size([958, 28, 28])\n",
            "shape for 7 : torch.Size([1028, 28, 28])\n",
            "shape for 8 : torch.Size([974, 28, 28])\n",
            "shape for 9 : torch.Size([1009, 28, 28])\n"
          ],
          "name": "stdout"
        }
      ]
    },
    {
      "cell_type": "markdown",
      "metadata": {
        "id": "QQylH3NjHWcs"
      },
      "source": [
        "It's good to get in the habit of checking shapes as you go. Here we see 10 tensors, each representing one digit validation set of about 1,000 images of size 28×28. Total number of validation images is 10,000."
      ]
    },
    {
      "cell_type": "code",
      "metadata": {
        "colab": {
          "base_uri": "https://localhost:8080/"
        },
        "id": "RzgqkBhoHXET",
        "outputId": "5a74d297-8b5d-40a4-9be5-e514da92e2a6"
      },
      "source": [
        "print('Shapes of image tensor for each digit:')\n",
        "for digit, tnrs in valid_tensors_dict.items():\n",
        "    print(' shape for',digit, ':', valid_tensors_dict[digit].shape)"
      ],
      "execution_count": null,
      "outputs": [
        {
          "output_type": "stream",
          "text": [
            "Shapes of image tensor for each digit:\n",
            " shape for 0 : torch.Size([980, 28, 28])\n",
            " shape for 1 : torch.Size([1135, 28, 28])\n",
            " shape for 2 : torch.Size([1032, 28, 28])\n",
            " shape for 3 : torch.Size([1010, 28, 28])\n",
            " shape for 4 : torch.Size([982, 28, 28])\n",
            " shape for 5 : torch.Size([892, 28, 28])\n",
            " shape for 6 : torch.Size([958, 28, 28])\n",
            " shape for 7 : torch.Size([1028, 28, 28])\n",
            " shape for 8 : torch.Size([974, 28, 28])\n",
            " shape for 9 : torch.Size([1009, 28, 28])\n"
          ],
          "name": "stdout"
        }
      ]
    },
    {
      "cell_type": "markdown",
      "metadata": {
        "id": "8Nt2VHIgKQqq"
      },
      "source": [
        "### Loss - Metric"
      ]
    },
    {
      "cell_type": "markdown",
      "metadata": {
        "id": "UMxFeeiwAo_Z"
      },
      "source": [
        "We ultimately want to write a function, `evaluate_digit()`, that will return the most probable digit for one inage we pass to the function.\n",
        "\n",
        "**STOP AND THINK**:\n",
        "\n",
        "- How would you extrapolate the approach for used in the sample MNIST case, when we only had two digits? \n",
        "- In this casem you cannot use the same method because we have more than two digits this time. \n",
        "- A function `is_3` as `True` or `False` is not enough. \n",
        "\n"
      ]
    },
    {
      "cell_type": "markdown",
      "metadata": {
        "id": "Tk1bac__Lthw"
      },
      "source": [
        "Hint for one possible solution: \n",
        "- compare the distances between one image and each of the mean images, then assume that the image corresponds to the digit with the smallest distance."
      ]
    },
    {
      "cell_type": "markdown",
      "metadata": {
        "id": "5F0iV2cFUxc-"
      },
      "source": [
        "Code for this approach:\n",
        "\n",
        "1. We keep the same distance as before, that is MAE:"
      ]
    },
    {
      "cell_type": "code",
      "metadata": {
        "id": "3ViXqzG1Ao_Z",
        "colab": {
          "base_uri": "https://localhost:8080/"
        },
        "outputId": "44ca89f4-4e1f-409f-ce5e-113c45eba9ad"
      },
      "source": [
        "def mnist_distance(a, b): \n",
        "    return (a - b).abs().mean((-1, -2))\n",
        "\n",
        "mnist_distance(img, means_dict[7])"
      ],
      "execution_count": null,
      "outputs": [
        {
          "output_type": "execute_result",
          "data": {
            "text/plain": [
              "tensor(0.1161)"
            ]
          },
          "metadata": {
            "tags": []
          },
          "execution_count": 22
        }
      ]
    },
    {
      "cell_type": "markdown",
      "metadata": {
        "id": "kXZl2iB5O72Q"
      },
      "source": [
        "2. We compute the distance to each digit mean"
      ]
    },
    {
      "cell_type": "code",
      "metadata": {
        "colab": {
          "base_uri": "https://localhost:8080/",
          "height": 261
        },
        "id": "F8mgpjNbPA0g",
        "outputId": "c780614d-3b7f-4486-fb4b-b1a70ec88ef9"
      },
      "source": [
        "# Select an image to compate\n",
        "img_tnsr = valid_tensors_dict[8][559]\n",
        "show_image(img_tnsr)\n",
        "plt.show()\n",
        "\n",
        "for i in range(10):\n",
        "    print(f\"Distance between image and {i} is {mnist_distance(img_tnsr, means_dict[i])} \")"
      ],
      "execution_count": null,
      "outputs": [
        {
          "output_type": "display_data",
          "data": {
            "image/png": "[encoded data removed]",
            "text/plain": [
              "<Figure size 72x72 with 1 Axes>"
            ]
          },
          "metadata": {
            "tags": [],
            "needs_background": "light"
          }
        },
        {
          "output_type": "stream",
          "text": [
            "Distance between image and 0 is 0.17526860535144806 \n",
            "Distance between image and 1 is 0.10276549309492111 \n",
            "Distance between image and 2 is 0.14086976647377014 \n",
            "Distance between image and 3 is 0.13517886400222778 \n",
            "Distance between image and 4 is 0.13471366465091705 \n",
            "Distance between image and 5 is 0.13225553929805756 \n",
            "Distance between image and 6 is 0.1401117891073227 \n",
            "Distance between image and 7 is 0.1433369368314743 \n",
            "Distance between image and 8 is 0.11083243042230606 \n",
            "Distance between image and 9 is 0.13293065130710602 \n"
          ],
          "name": "stdout"
        }
      ]
    },
    {
      "cell_type": "markdown",
      "metadata": {
        "id": "reRtNDT8PbXg"
      },
      "source": [
        "The smallest distance should represent the correct digit. In this case it is correct."
      ]
    },
    {
      "cell_type": "markdown",
      "metadata": {
        "id": "YXj4B1VyPia6"
      },
      "source": [
        "With broadcasting, we also can apply the distance to all the images of one class/digit at the same time. `mnist_distance` should return a tensor with the distances for all the images in the batch."
      ]
    },
    {
      "cell_type": "code",
      "metadata": {
        "colab": {
          "base_uri": "https://localhost:8080/",
          "height": 52
        },
        "id": "hYjPk8OEJP6R",
        "outputId": "0e5c8fd6-1b38-4c6e-9009-827f42edbf56"
      },
      "source": [
        "# Select a batch with all the images representing one digit\n",
        "img_tnsr = stacked_tensors_dict[8]\n",
        "\n",
        "distances = mnist_distance(img_tnsr, means_dict[7])\n",
        "display(distances.shape)\n",
        "display(distances)"
      ],
      "execution_count": null,
      "outputs": [
        {
          "output_type": "display_data",
          "data": {
            "text/plain": [
              "torch.Size([5851])"
            ]
          },
          "metadata": {
            "tags": []
          }
        },
        {
          "output_type": "display_data",
          "data": {
            "text/plain": [
              "tensor([0.1501, 0.1984, 0.1541,  ..., 0.1339, 0.1280, 0.1585])"
            ]
          },
          "metadata": {
            "tags": []
          }
        }
      ]
    },
    {
      "cell_type": "code",
      "metadata": {
        "colab": {
          "base_uri": "https://localhost:8080/",
          "height": 193
        },
        "id": "5jfV1_NGKFf5",
        "outputId": "d955c04e-39ba-4cdc-d709-0758e17e536c"
      },
      "source": [
        "# Show distances to all the digits\n",
        "img_tnsr = stacked_tensors_dict[8]\n",
        "\n",
        "for i in range(10):\n",
        "    display(mnist_distance(img_tnsr, means_dict[i]))"
      ],
      "execution_count": null,
      "outputs": [
        {
          "output_type": "display_data",
          "data": {
            "text/plain": [
              "tensor([0.1795, 0.2126, 0.1797,  ..., 0.1697, 0.1837, 0.1942])"
            ]
          },
          "metadata": {
            "tags": []
          }
        },
        {
          "output_type": "display_data",
          "data": {
            "text/plain": [
              "tensor([0.1039, 0.2042, 0.0930,  ..., 0.1016, 0.0990, 0.1375])"
            ]
          },
          "metadata": {
            "tags": []
          }
        },
        {
          "output_type": "display_data",
          "data": {
            "text/plain": [
              "tensor([0.1480, 0.2038, 0.1472,  ..., 0.1283, 0.1469, 0.1563])"
            ]
          },
          "metadata": {
            "tags": []
          }
        },
        {
          "output_type": "display_data",
          "data": {
            "text/plain": [
              "tensor([0.1456, 0.1777, 0.1394,  ..., 0.1344, 0.1268, 0.1538])"
            ]
          },
          "metadata": {
            "tags": []
          }
        },
        {
          "output_type": "display_data",
          "data": {
            "text/plain": [
              "tensor([0.1559, 0.2038, 0.1607,  ..., 0.1249, 0.1370, 0.1435])"
            ]
          },
          "metadata": {
            "tags": []
          }
        },
        {
          "output_type": "display_data",
          "data": {
            "text/plain": [
              "tensor([0.1481, 0.1930, 0.1450,  ..., 0.1308, 0.1336, 0.1525])"
            ]
          },
          "metadata": {
            "tags": []
          }
        },
        {
          "output_type": "display_data",
          "data": {
            "text/plain": [
              "tensor([0.1612, 0.1939, 0.1614,  ..., 0.1305, 0.1458, 0.1656])"
            ]
          },
          "metadata": {
            "tags": []
          }
        },
        {
          "output_type": "display_data",
          "data": {
            "text/plain": [
              "tensor([0.1501, 0.1984, 0.1541,  ..., 0.1339, 0.1280, 0.1585])"
            ]
          },
          "metadata": {
            "tags": []
          }
        },
        {
          "output_type": "display_data",
          "data": {
            "text/plain": [
              "tensor([0.1197, 0.1959, 0.1252,  ..., 0.1110, 0.1156, 0.1399])"
            ]
          },
          "metadata": {
            "tags": []
          }
        },
        {
          "output_type": "display_data",
          "data": {
            "text/plain": [
              "tensor([0.1483, 0.1949, 0.1511,  ..., 0.1262, 0.1202, 0.1497])"
            ]
          },
          "metadata": {
            "tags": []
          }
        }
      ]
    },
    {
      "cell_type": "markdown",
      "metadata": {
        "id": "KbYXojz7Pvn_"
      },
      "source": [
        "Let's see how are can compute all the distances from one image tensor batch to each of the digit means in a few operations only. \n",
        "\n",
        "1. Let's see what we have to start with:\n",
        "    - we start from a batch of image tensors `image_tensor_batch` of shape `(nbr_img, 28, 28)`\n",
        "    - `mnist_distance(image_tensor_batch)` returns a tensor of shape `(nbr_img)`"
      ]
    },
    {
      "cell_type": "code",
      "metadata": {
        "colab": {
          "base_uri": "https://localhost:8080/"
        },
        "id": "1fwOHGVDQ4WI",
        "outputId": "ac6329c6-3e87-45b7-8d5c-7a35cc5a4498"
      },
      "source": [
        "img_batch_tnsr = stacked_tensors_dict[8]\n",
        "print('Shape of batch_tnsr:', img_batch_tnsr.shape)\n",
        "\n",
        "distances = mnist_distance(img_tnsr, means_dict[0])\n",
        "print('Shape of distances: ', distances.shape)"
      ],
      "execution_count": null,
      "outputs": [
        {
          "output_type": "stream",
          "text": [
            "Shape of batch_tnsr: torch.Size([5851, 28, 28])\n",
            "Shape of distances:  torch.Size([5851])\n"
          ],
          "name": "stdout"
        }
      ]
    },
    {
      "cell_type": "markdown",
      "metadata": {
        "id": "w3UXMvExSBJB"
      },
      "source": [
        "2. Now we want to have all distances for all digits in a dimension-2 tensor of shape `(nbr of images, 10)`. That is a tensor with the same number of samples/images as the batch and a distance to each digit. Using tensors instead of list or other data sructure will allow us to use fast tensor calculation to easily extract which digit corresponds to each image, as opposed to slow Python loop through all the images in Python. One way to do it:\n",
        "    - use the `torch.stack` function to stack the distances tensors for each of the digits into one single tensor"
      ]
    },
    {
      "cell_type": "code",
      "metadata": {
        "colab": {
          "base_uri": "https://localhost:8080/",
          "height": 158
        },
        "id": "9KvjgyhRMlp_",
        "outputId": "ca26efcf-2c97-4453-9ff4-976e973891be"
      },
      "source": [
        "distances = torch.stack([mnist_distance(img_tnsr, m) for m in means_dict.values()], dim=1)\n",
        "display(distances)\n",
        "distances.shape"
      ],
      "execution_count": null,
      "outputs": [
        {
          "output_type": "display_data",
          "data": {
            "text/plain": [
              "tensor([[0.1795, 0.1039, 0.1480,  ..., 0.1501, 0.1197, 0.1483],\n",
              "        [0.2126, 0.2042, 0.2038,  ..., 0.1984, 0.1959, 0.1949],\n",
              "        [0.1797, 0.0930, 0.1472,  ..., 0.1541, 0.1252, 0.1511],\n",
              "        ...,\n",
              "        [0.1697, 0.1016, 0.1283,  ..., 0.1339, 0.1110, 0.1262],\n",
              "        [0.1837, 0.0990, 0.1469,  ..., 0.1280, 0.1156, 0.1202],\n",
              "        [0.1942, 0.1375, 0.1563,  ..., 0.1585, 0.1399, 0.1497]])"
            ]
          },
          "metadata": {
            "tags": []
          }
        },
        {
          "output_type": "execute_result",
          "data": {
            "text/plain": [
              "torch.Size([5851, 10])"
            ]
          },
          "metadata": {
            "tags": []
          },
          "execution_count": 27
        }
      ]
    },
    {
      "cell_type": "markdown",
      "metadata": {
        "id": "MSxvds2rVZyB"
      },
      "source": [
        "\"decrypting\" code above: `torch.stack([mnist_distance(img_tnsr, m) for m in means_dict.values()], dim=1)`\n",
        "- Signature of stack: `torch.stack(tensors, dim=0)` [doc](https://pytorch.org/docs/stable/generated/torch.stack.html):\n",
        "    - `tensors` is a sequence of tensors to concatenate, for instance a list of tensors\n",
        "    - `dim` is the dimension to insert. Has to be between 0 and the number of dimensions of concatenated, In our case, `dim` is 1 as we want to stack the 10 values for each images. You can try other values and see what it gives.\n",
        "- `[mnist_distance(img_tnsr, m) for m in means_dict.values()]`:\n",
        "    - list comprehension to get a list of the 10 distances, one for each digit. Remember that means_dict keeps the ten mean images reporesenting the \"ideal\" difit. The list comprehension is equivalent to:\n",
        "    ```python\n",
        "        tensor_list = []\n",
        "        for mean in means_dict.values():\n",
        "            tensor_list.append(mnist_distance(img_tnsr, m))\n",
        "    ```\n",
        "\n",
        "The code is passing a list of 10 dimension-1 tensors (shape = `(number of images in the batch)`) to `torch.stack`, to create a dimension-2 tensor of shape `(number of images in the batch, 10)`"
      ]
    },
    {
      "cell_type": "markdown",
      "metadata": {
        "id": "8uWfanTIVsdJ"
      },
      "source": [
        "Now we have a tensor `distances` with the distance of each image to the ten means. We can index it to get the distances of any image to the ten means."
      ]
    },
    {
      "cell_type": "code",
      "metadata": {
        "colab": {
          "base_uri": "https://localhost:8080/"
        },
        "id": "wS5chZmwVxOo",
        "outputId": "3a342b34-aa46-4694-b0e5-995392839a58"
      },
      "source": [
        "distances[120:125, :]"
      ],
      "execution_count": null,
      "outputs": [
        {
          "output_type": "execute_result",
          "data": {
            "text/plain": [
              "tensor([[0.1680, 0.1831, 0.1666, 0.1545, 0.1572, 0.1537, 0.1583, 0.1848, 0.1462, 0.1656],\n",
              "        [0.1888, 0.1888, 0.1770, 0.1895, 0.1614, 0.1828, 0.1675, 0.1957, 0.1638, 0.1754],\n",
              "        [0.1686, 0.1799, 0.1772, 0.1616, 0.1734, 0.1523, 0.1580, 0.1956, 0.1547, 0.1768],\n",
              "        [0.1796, 0.1059, 0.1646, 0.1448, 0.1495, 0.1309, 0.1498, 0.1442, 0.1367, 0.1318],\n",
              "        [0.1684, 0.1696, 0.1688, 0.1595, 0.1498, 0.1495, 0.1552, 0.1718, 0.1316, 0.1451]])"
            ]
          },
          "metadata": {
            "tags": []
          },
          "execution_count": 28
        }
      ]
    },
    {
      "cell_type": "markdown",
      "metadata": {
        "id": "SnP8007KXcMA"
      },
      "source": [
        "3. Select the class/digit for each image in the batch: pick the minimum distance. We will use the method tensor `argmin()` to pick the index with minimum distance, which is the digit corresponding to the minumum distance and therefore our class as we defined it in our approach.\n",
        "\n",
        "> See how `argmin` works with a single image. We pick one image tensor and show it. We also pick the corresponding distances to the ten digit, i.e. a tensor of shape (10). `argmin()` returns the index of the minimum distance, in this case 8, which corresponds to digit 8."
      ]
    },
    {
      "cell_type": "code",
      "metadata": {
        "colab": {
          "base_uri": "https://localhost:8080/",
          "height": 120
        },
        "id": "PVB0WQHLYlk2",
        "outputId": "faee8c4c-9c56-49f6-ec42-9f3bef382d41"
      },
      "source": [
        "img_nbr = 25\n",
        "show_image(stacked_tensors_dict[8][img_nbr])\n",
        "plt.show()\n",
        "\n",
        "distances_for_one_img = distances[img_nbr]\n",
        "display(distances_for_one_img)\n",
        "distances_for_one_img.argmin()\n",
        "distances_for_one_img[8]"
      ],
      "execution_count": null,
      "outputs": [
        {
          "output_type": "display_data",
          "data": {
            "image/png": "[encoded data removed]",
            "text/plain": [
              "<Figure size 72x72 with 1 Axes>"
            ]
          },
          "metadata": {
            "tags": [],
            "needs_background": "light"
          }
        },
        {
          "output_type": "display_data",
          "data": {
            "text/plain": [
              "tensor([0.1650, 0.1222, 0.1467, 0.1261, 0.1344, 0.1259, 0.1477, 0.1398, 0.1143, 0.1293])"
            ]
          },
          "metadata": {
            "tags": []
          }
        },
        {
          "output_type": "execute_result",
          "data": {
            "text/plain": [
              "tensor(0.1143)"
            ]
          },
          "metadata": {
            "tags": []
          },
          "execution_count": 29
        }
      ]
    },
    {
      "cell_type": "markdown",
      "metadata": {
        "id": "yKEouuQ1agEO"
      },
      "source": [
        "When we apply to a batch of images, we need to tell pytorch along which direction the minimum must be seeked. In our case `dim=1`.  It returns a tensor of dimension 1, with shape = `(nbr_img)`"
      ]
    },
    {
      "cell_type": "code",
      "metadata": {
        "colab": {
          "base_uri": "https://localhost:8080/"
        },
        "id": "TGU_rT7JOibR",
        "outputId": "be9f6860-c5fd-48e9-8cd9-e9394ef8a66f"
      },
      "source": [
        "digits = distances.argmin(dim=1)\n",
        "digits.shape"
      ],
      "execution_count": null,
      "outputs": [
        {
          "output_type": "execute_result",
          "data": {
            "text/plain": [
              "torch.Size([5851])"
            ]
          },
          "metadata": {
            "tags": []
          },
          "execution_count": 30
        }
      ]
    },
    {
      "cell_type": "markdown",
      "metadata": {
        "id": "-O79XYgwjmlx"
      },
      "source": [
        "```\n",
        "argmin(input, dim, keepdim=False) -> LongTensor\n",
        "\n",
        "Returns the indices of the minimum values of a tensor across a dimension.\n",
        "\n",
        "This is the second value returned by :meth:`torch.min`. See its\n",
        "documentation for the exact semantics of this method.\n",
        "\n",
        "Args:\n",
        "    input (Tensor): the input tensor.\n",
        "    dim (int): the dimension to reduce. If ``None``, the argmin of the flattened input is returned.\n",
        "    keepdim (bool): whether the output tensor has :attr:`dim` retained or not. Ignored if ``dim=None``.\n",
        "```"
      ]
    },
    {
      "cell_type": "markdown",
      "metadata": {
        "id": "EVrnf9mra5xt"
      },
      "source": [
        "Using `argmin()` allows us to compute the mimimun for all images, in one step, and with no Python loop."
      ]
    },
    {
      "cell_type": "markdown",
      "metadata": {
        "id": "LLsY0kBWj1me"
      },
      "source": [
        "### Pixel Similarity Classifier"
      ]
    },
    {
      "cell_type": "markdown",
      "metadata": {
        "id": "zc4xy7bbX8Ad"
      },
      "source": [
        "Now we can build our classifier as a function `evaluate_digit` to which we pass an image tensor or a batch of image tensors and which will return a class/digit"
      ]
    },
    {
      "cell_type": "code",
      "metadata": {
        "id": "yP_X__waAo_a"
      },
      "source": [
        "def evaluate_digit(x): \n",
        "    if x.ndim < 3:\n",
        "        x = x.unsqueeze(dim=0)\n",
        "    distances = torch.stack([mnist_distance(x, m) for m in means_dict.values()], dim=1)\n",
        "    return distances.argmin(dim=1)"
      ],
      "execution_count": null,
      "outputs": []
    },
    {
      "cell_type": "markdown",
      "metadata": {
        "id": "jr2RPxqlbYLF"
      },
      "source": [
        ">Note: we unsqueeze the tensor when a single image is given instead of a batch, because we expect a batch. Unsqueezing is like translforming a single image into a batch with a single image:\n",
        "```python\n",
        "    if x.ndim < 3:\n",
        "        x = x.unsqueeze(dim=0)\n",
        "```\n",
        "\n",
        "See the difference below"
      ]
    },
    {
      "cell_type": "code",
      "metadata": {
        "colab": {
          "base_uri": "https://localhost:8080/"
        },
        "id": "jWWpkaZlbuF5",
        "outputId": "dacd7b88-3ddc-476d-fa40-85e87ef8b15e"
      },
      "source": [
        "img.shape, img.unsqueeze(dim=0).shape"
      ],
      "execution_count": null,
      "outputs": [
        {
          "output_type": "execute_result",
          "data": {
            "text/plain": [
              "(torch.Size([28, 28]), torch.Size([1, 28, 28]))"
            ]
          },
          "metadata": {
            "tags": []
          },
          "execution_count": 32
        }
      ]
    },
    {
      "cell_type": "markdown",
      "metadata": {
        "id": "CLmCNNLXcFFO"
      },
      "source": [
        "Let's test our classifier with a single image:"
      ]
    },
    {
      "cell_type": "code",
      "metadata": {
        "colab": {
          "base_uri": "https://localhost:8080/",
          "height": 102
        },
        "id": "vCTbUcKLYVRD",
        "outputId": "9d40e349-6a7b-4808-9152-d2ebd6254c1a"
      },
      "source": [
        "tnsr = stacked_tensors_dict[8][58]\n",
        "show_image(tnsr)\n",
        "plt.show()\n",
        "\n",
        "evaluate_digit(tnsr)"
      ],
      "execution_count": null,
      "outputs": [
        {
          "output_type": "display_data",
          "data": {
            "image/png": "[encoded data removed]",
            "text/plain": [
              "<Figure size 72x72 with 1 Axes>"
            ]
          },
          "metadata": {
            "tags": [],
            "needs_background": "light"
          }
        },
        {
          "output_type": "execute_result",
          "data": {
            "text/plain": [
              "tensor([8])"
            ]
          },
          "metadata": {
            "tags": []
          },
          "execution_count": 33
        }
      ]
    },
    {
      "cell_type": "markdown",
      "metadata": {
        "id": "p4JMkpShcWat"
      },
      "source": [
        "Let's test our classifier with a small image batch:"
      ]
    },
    {
      "cell_type": "code",
      "metadata": {
        "colab": {
          "base_uri": "https://localhost:8080/"
        },
        "id": "R222MSdca9UA",
        "outputId": "c4351e9e-44f1-4aa9-8633-422f44a2cd9e"
      },
      "source": [
        "tnsr = stacked_tensors_dict[8][58:87]\n",
        "print('Nbr images: ', tnsr.shape[0])\n",
        "\n",
        "evaluate_digit(tnsr)"
      ],
      "execution_count": null,
      "outputs": [
        {
          "output_type": "stream",
          "text": [
            "Nbr images:  29\n"
          ],
          "name": "stdout"
        },
        {
          "output_type": "execute_result",
          "data": {
            "text/plain": [
              "tensor([8, 8, 1, 1, 9, 1, 8, 9, 1, 8, 1, 1, 8, 8, 1, 9, 9, 9, 1, 8, 3, 8, 1, 1, 8, 1, 8, 1, 8])"
            ]
          },
          "metadata": {
            "tags": []
          },
          "execution_count": 34
        }
      ]
    },
    {
      "cell_type": "markdown",
      "metadata": {
        "id": "kJUtTINZbs_q"
      },
      "source": [
        "We can see that the model is not that great ! Some images are correctly evaluated and some are not."
      ]
    },
    {
      "cell_type": "markdown",
      "metadata": {
        "id": "_a0JkHtpbV4h"
      },
      "source": [
        "### Evaluation of the classifier\n",
        "Let's compute the accuracy for the train and the validation set for each class/digit\n",
        "1. For each class, we evaluate the digit for the full dataset (training and validation)\n",
        "2. We compute how many are correct and how many are not correct"
      ]
    },
    {
      "cell_type": "code",
      "metadata": {
        "colab": {
          "base_uri": "https://localhost:8080/"
        },
        "id": "zdkODv0fcGOa",
        "outputId": "40dedaf8-7127-42f2-b740-62abc7af2101"
      },
      "source": [
        "# One class at the time\n",
        "digit = 5\n",
        "tnsr = stacked_tensors_dict[digit]\n",
        "preds = evaluate_digit(tnsr) \n",
        "correct = torch.eq(preds, digit).sum()\n",
        "incorrect = torch.ne(preds, digit).sum()\n",
        "correct.item(), incorrect.item(), (correct / preds.shape[0]).item()"
      ],
      "execution_count": null,
      "outputs": [
        {
          "output_type": "execute_result",
          "data": {
            "text/plain": [
              "(1627, 3794, 0.30012911558151245)"
            ]
          },
          "metadata": {
            "tags": []
          },
          "execution_count": 35
        }
      ]
    },
    {
      "cell_type": "code",
      "metadata": {
        "id": "Zm5e38QUAo_b",
        "colab": {
          "base_uri": "https://localhost:8080/"
        },
        "outputId": "9efddca5-145c-4c53-ff1a-148e803f6780"
      },
      "source": [
        "# All digits for training set\n",
        "for digit in range(10):\n",
        "    tnsr = stacked_tensors_dict[digit]\n",
        "    preds = evaluate_digit(tnsr) \n",
        "    correct = torch.eq(preds, digit).sum()\n",
        "    # print(f\" - {correct.item():,d} correct digits out or {preds.shape[0]}\")\n",
        "    print(f\"Accuracy for {digit}: {(correct / preds.shape[0]).item():1.4f}\")"
      ],
      "execution_count": null,
      "outputs": [
        {
          "output_type": "stream",
          "text": [
            "Accuracy for 0: 0.8141\n",
            "Accuracy for 1: 0.9981\n",
            "Accuracy for 2: 0.4329\n",
            "Accuracy for 3: 0.5836\n",
            "Accuracy for 4: 0.6648\n",
            "Accuracy for 5: 0.3001\n",
            "Accuracy for 6: 0.7454\n",
            "Accuracy for 7: 0.7778\n",
            "Accuracy for 8: 0.3958\n",
            "Accuracy for 9: 0.7163\n"
          ],
          "name": "stdout"
        }
      ]
    },
    {
      "cell_type": "code",
      "metadata": {
        "colab": {
          "base_uri": "https://localhost:8080/"
        },
        "id": "IR9gSAyWgDRb",
        "outputId": "fb8f130d-6a7c-4449-fda1-aec1a6a6bedc"
      },
      "source": [
        "# All digits for validation set\n",
        "for digit in range(10):\n",
        "    tnsr = valid_tensors_dict[digit]\n",
        "    preds = evaluate_digit(tnsr) \n",
        "    correct = torch.eq(preds, digit).sum()\n",
        "    # print(f\" - {correct.item():,d} correct digits out or {preds.shape[0]}\")\n",
        "    print(f\"Accuracy for {digit}: {(correct / preds.shape[0]).item():1.4f}\")"
      ],
      "execution_count": null,
      "outputs": [
        {
          "output_type": "stream",
          "text": [
            "Accuracy for 0: 0.8153\n",
            "Accuracy for 1: 0.9982\n",
            "Accuracy for 2: 0.4234\n",
            "Accuracy for 3: 0.6089\n",
            "Accuracy for 4: 0.6680\n",
            "Accuracy for 5: 0.3262\n",
            "Accuracy for 6: 0.7871\n",
            "Accuracy for 7: 0.7646\n",
            "Accuracy for 8: 0.4425\n",
            "Accuracy for 9: 0.7760\n"
          ],
          "name": "stdout"
        }
      ]
    },
    {
      "cell_type": "markdown",
      "metadata": {
        "id": "-Wl3rqr3Ao_c"
      },
      "source": [
        "Although this is not awfull, the performance varies a lot for each of the digit. 0 and 1 are well classified byt 5 and 8 are not, for example.\n",
        "\n",
        "Can we do better if we use another metric? We uses MAE, let's do the same but using RMSE:"
      ]
    },
    {
      "cell_type": "code",
      "metadata": {
        "id": "zSqPZmeYLCqC"
      },
      "source": [
        "# Define a new loss/distance function: mnist_rmse\n",
        "def mnist_rmse(a, b):\n",
        "    return ((a - b) ** 2 ).mean((-1, -2)).sqrt()\n",
        "\n",
        "# Our new classifier will use rmse to compute the distances and pick the minimum\n",
        "def evaluate_digit_rmse(x): \n",
        "    if x.ndim < 3:\n",
        "        x = x.unsqueeze(dim=0)\n",
        "    distances = torch.stack([mnist_rmse(x, m) for m in means_dict.values()], dim=1)\n",
        "    return distances.argmin(dim=1)"
      ],
      "execution_count": null,
      "outputs": []
    },
    {
      "cell_type": "markdown",
      "metadata": {
        "id": "zZ--Vx6wNEp5"
      },
      "source": [
        "Now we can evaluate the performance of this new classifer with the validation set"
      ]
    },
    {
      "cell_type": "code",
      "metadata": {
        "colab": {
          "base_uri": "https://localhost:8080/"
        },
        "id": "ZxAezLXGMTix",
        "outputId": "67b2e00f-0b5b-404c-ddea-fddff7008faf"
      },
      "source": [
        "# All digits for validation set\n",
        "for digit in range(10):\n",
        "    tnsr = valid_tensors_dict[digit]\n",
        "    preds = evaluate_digit_rmse(tnsr) \n",
        "    correct = torch.eq(preds, digit).sum()\n",
        "    # print(f\" - {correct.item():,d} correct digits out or {preds.shape[0]}\")\n",
        "    print(f\"Accuracy for {digit}: {(correct / preds.shape[0]).item():1.4f}\")"
      ],
      "execution_count": null,
      "outputs": [
        {
          "output_type": "stream",
          "text": [
            "Accuracy for 0: 0.8959\n",
            "Accuracy for 1: 0.9621\n",
            "Accuracy for 2: 0.7568\n",
            "Accuracy for 3: 0.8059\n",
            "Accuracy for 4: 0.8259\n",
            "Accuracy for 5: 0.6861\n",
            "Accuracy for 6: 0.8633\n",
            "Accuracy for 7: 0.8327\n",
            "Accuracy for 8: 0.7372\n",
            "Accuracy for 9: 0.8067\n"
          ],
          "name": "stdout"
        }
      ]
    },
    {
      "cell_type": "markdown",
      "metadata": {
        "id": "tCc7STRUNQz3"
      },
      "source": [
        "We see that the accuracy increases for almost all the digits. \n",
        "\n",
        "The base line is not bad, but all in all, it still shows some relativaly low accuracy compared to real model."
      ]
    },
    {
      "cell_type": "markdown",
      "metadata": {
        "id": "0VpRly6QAo_c"
      },
      "source": [
        "## Stochastic Gradient Descent (SGD)"
      ]
    },
    {
      "cell_type": "code",
      "metadata": {
        "colab": {
          "base_uri": "https://localhost:8080/",
          "height": 124
        },
        "id": "OzVuXe_E-GtE",
        "outputId": "11fed7be-9c99-40e8-ea8d-b97251f07334"
      },
      "source": [
        "gv('''\n",
        "\"1. init\"->\"2. predict\"->\"3. loss\"->\"4. gradient\"->\"5. step\"->\"7. stop\"\n",
        "\"5. step\"->\"2. predict\"[label=\"6. repeat\"]\n",
        "''')"
      ],
      "execution_count": null,
      "outputs": [
        {
          "output_type": "execute_result",
          "data": {
            "text/plain": [
              "<graphviz.files.Source at 0x7f8a7cd3fb90>"
            ],
            "image/svg+xml": "<?xml version=\"1.0\" encoding=\"UTF-8\" standalone=\"no\"?>\n<!DOCTYPE svg PUBLIC \"-//W3C//DTD SVG 1.1//EN\"\n \"http://www.w3.org/Graphics/SVG/1.1/DTD/svg11.dtd\">\n<!-- Generated by graphviz version 2.40.1 (20161225.0304)\n -->\n<!-- Title: G Pages: 1 -->\n<svg width=\"712pt\" height=\"78pt\"\n viewBox=\"0.00 0.00 711.56 78.00\" xmlns=\"http://www.w3.org/2000/svg\" xmlns:xlink=\"http://www.w3.org/1999/xlink\">\n<g id=\"graph0\" class=\"graph\" transform=\"scale(1 1) rotate(0) translate(4 74)\">\n<title>G</title>\n<polygon fill=\"#ffffff\" stroke=\"transparent\" points=\"-4,4 -4,-74 707.5582,-74 707.5582,4 -4,4\"/>\n<!-- 1. init -->\n<g id=\"node1\" class=\"node\">\n<title>1. init</title>\n<ellipse fill=\"none\" stroke=\"#000000\" cx=\"32.4971\" cy=\"-18\" rx=\"32.4942\" ry=\"18\"/>\n<text text-anchor=\"middle\" x=\"32.4971\" y=\"-14.3\" font-family=\"Times,serif\" font-size=\"14.00\" fill=\"#000000\">1. init</text>\n</g>\n<!-- 2. predict -->\n<g id=\"node2\" class=\"node\">\n<title>2. predict</title>\n<ellipse fill=\"none\" stroke=\"#000000\" cx=\"148.1401\" cy=\"-18\" rx=\"46.2923\" ry=\"18\"/>\n<text text-anchor=\"middle\" x=\"148.1401\" y=\"-14.3\" font-family=\"Times,serif\" font-size=\"14.00\" fill=\"#000000\">2. predict</text>\n</g>\n<!-- 1. init&#45;&gt;2. predict -->\n<g id=\"edge1\" class=\"edge\">\n<title>1. init&#45;&gt;2. predict</title>\n<path fill=\"none\" stroke=\"#000000\" d=\"M65.0179,-18C73.2694,-18 82.3772,-18 91.4479,-18\"/>\n<polygon fill=\"#000000\" stroke=\"#000000\" points=\"91.6257,-21.5001 101.6257,-18 91.6257,-14.5001 91.6257,-21.5001\"/>\n</g>\n<!-- 3. loss -->\n<g id=\"node3\" class=\"node\">\n<title>3. loss</title>\n<ellipse fill=\"none\" stroke=\"#000000\" cx=\"265.733\" cy=\"-52\" rx=\"34.394\" ry=\"18\"/>\n<text text-anchor=\"middle\" x=\"265.733\" y=\"-48.3\" font-family=\"Times,serif\" font-size=\"14.00\" fill=\"#000000\">3. loss</text>\n</g>\n<!-- 2. predict&#45;&gt;3. loss -->\n<g id=\"edge2\" class=\"edge\">\n<title>2. predict&#45;&gt;3. loss</title>\n<path fill=\"none\" stroke=\"#000000\" d=\"M185.3473,-28.7578C198.2159,-32.4786 212.6869,-36.6626 225.7676,-40.4447\"/>\n<polygon fill=\"#000000\" stroke=\"#000000\" points=\"224.8712,-43.8288 235.4499,-43.2442 226.8156,-37.1042 224.8712,-43.8288\"/>\n</g>\n<!-- 4. gradient -->\n<g id=\"node4\" class=\"node\">\n<title>4. gradient</title>\n<ellipse fill=\"none\" stroke=\"#000000\" cx=\"435.8754\" cy=\"-52\" rx=\"50.8918\" ry=\"18\"/>\n<text text-anchor=\"middle\" x=\"435.8754\" y=\"-48.3\" font-family=\"Times,serif\" font-size=\"14.00\" fill=\"#000000\">4. gradient</text>\n</g>\n<!-- 3. loss&#45;&gt;4. gradient -->\n<g id=\"edge3\" class=\"edge\">\n<title>3. loss&#45;&gt;4. gradient</title>\n<path fill=\"none\" stroke=\"#000000\" d=\"M300.5744,-52C321.9366,-52 349.8822,-52 374.8263,-52\"/>\n<polygon fill=\"#000000\" stroke=\"#000000\" points=\"374.9406,-55.5001 384.9406,-52 374.9405,-48.5001 374.9406,-55.5001\"/>\n</g>\n<!-- 5. step -->\n<g id=\"node5\" class=\"node\">\n<title>5. step</title>\n<ellipse fill=\"none\" stroke=\"#000000\" cx=\"558.6678\" cy=\"-18\" rx=\"35.194\" ry=\"18\"/>\n<text text-anchor=\"middle\" x=\"558.6678\" y=\"-14.3\" font-family=\"Times,serif\" font-size=\"14.00\" fill=\"#000000\">5. step</text>\n</g>\n<!-- 4. gradient&#45;&gt;5. step -->\n<g id=\"edge4\" class=\"edge\">\n<title>4. gradient&#45;&gt;5. step</title>\n<path fill=\"none\" stroke=\"#000000\" d=\"M476.0823,-40.8671C489.4591,-37.1632 504.3655,-33.0358 517.7924,-29.318\"/>\n<polygon fill=\"#000000\" stroke=\"#000000\" points=\"519.0184,-32.6103 527.7218,-26.5687 517.1504,-25.8641 519.0184,-32.6103\"/>\n</g>\n<!-- 5. step&#45;&gt;2. predict -->\n<g id=\"edge6\" class=\"edge\">\n<title>5. step&#45;&gt;2. predict</title>\n<path fill=\"none\" stroke=\"#000000\" d=\"M523.5577,-18C452.405,-18 290.668,-18 204.5509,-18\"/>\n<polygon fill=\"#000000\" stroke=\"#000000\" points=\"204.4349,-14.5001 194.4349,-18 204.4348,-21.5001 204.4349,-14.5001\"/>\n<text text-anchor=\"middle\" x=\"342.6799\" y=\"-21.8\" font-family=\"Times,serif\" font-size=\"14.00\" fill=\"#000000\">6. repeat</text>\n</g>\n<!-- 7. stop -->\n<g id=\"node6\" class=\"node\">\n<title>7. stop</title>\n<ellipse fill=\"none\" stroke=\"#000000\" cx=\"667.1615\" cy=\"-18\" rx=\"36.2938\" ry=\"18\"/>\n<text text-anchor=\"middle\" x=\"667.1615\" y=\"-14.3\" font-family=\"Times,serif\" font-size=\"14.00\" fill=\"#000000\">7. stop</text>\n</g>\n<!-- 5. step&#45;&gt;7. stop -->\n<g id=\"edge5\" class=\"edge\">\n<title>5. step&#45;&gt;7. stop</title>\n<path fill=\"none\" stroke=\"#000000\" d=\"M593.8926,-18C602.3423,-18 611.4969,-18 620.3794,-18\"/>\n<polygon fill=\"#000000\" stroke=\"#000000\" points=\"620.6231,-21.5001 630.6231,-18 620.623,-14.5001 620.6231,-21.5001\"/>\n</g>\n</g>\n</svg>\n"
          },
          "metadata": {
            "tags": []
          },
          "execution_count": 40
        }
      ]
    },
    {
      "cell_type": "markdown",
      "metadata": {
        "id": "kAlUoNRzOafQ"
      },
      "source": [
        "Steps that we are going to require, to turn a function into a machine learning classifier:\n",
        "\n",
        "1. *Initialize* the weights.\n",
        "1. For each image, use these weights to *predict* whether it appears to be a 3 or a 7.\n",
        "1. Based on these predictions, calculate how good the model is (its *loss*).\n",
        "1. Calculate the *gradient*, which measures for each weight, how changing that weight would change the loss\n",
        "1. *Step* (that is, change) all the weights based on that calculation.\n",
        "1. Go back to the step 2, and *repeat* the process.\n",
        "1. Iterate until you decide to *stop* the training process (for instance, because the model is good enough or you don't want to wait any longer)."
      ]
    },
    {
      "cell_type": "markdown",
      "metadata": {
        "id": "e75BvXjsQW2X"
      },
      "source": [
        "#### Prepare datasets and dataloaders"
      ]
    },
    {
      "cell_type": "markdown",
      "metadata": {
        "id": "9bxXKzVvQ952"
      },
      "source": [
        "`train_x` is the set of independant variables (inputs), that is our images. We create  `train_x` tensor by concatenating all the tensors for each digit."
      ]
    },
    {
      "cell_type": "code",
      "metadata": {
        "id": "7eVXaIMnQ954"
      },
      "source": [
        "train_x = torch.cat([stacked_tensors_dict[i] for i in range(0,10)]).view(-1, 28*28)"
      ],
      "execution_count": null,
      "outputs": []
    },
    {
      "cell_type": "code",
      "metadata": {
        "colab": {
          "base_uri": "https://localhost:8080/"
        },
        "id": "kENaWxHARETG",
        "outputId": "014a348e-aa70-4494-83f7-c618517318b3"
      },
      "source": [
        "train_x.shape"
      ],
      "execution_count": null,
      "outputs": [
        {
          "output_type": "execute_result",
          "data": {
            "text/plain": [
              "torch.Size([60000, 784])"
            ]
          },
          "metadata": {
            "tags": []
          },
          "execution_count": 42
        }
      ]
    },
    {
      "cell_type": "markdown",
      "metadata": {
        "id": "AbuZLyURQ955"
      },
      "source": [
        "As expected, it is a set of 60,000 images represented as a flat one dimension vector of shape 28 x 28 = 784"
      ]
    },
    {
      "cell_type": "markdown",
      "metadata": {
        "id": "8U3evtmMQ957"
      },
      "source": [
        "We need a label for each image, 0 to 9, depending on the digit the image represent. It is not as simple as for the basic MNIST case, as we have more than two classes and the number of images in each class is not equal. There is probably an easier way than the one below !"
      ]
    },
    {
      "cell_type": "code",
      "metadata": {
        "id": "IImhF4RwQ958"
      },
      "source": [
        "# Returns a list of 10 sublists, where each sublist consists of a as many times digit as the number of image in the category\n",
        "l = [ [i] * stacked_tensors_dict[i].shape[0] for i in range(0,10)]\n",
        "\n",
        "# check the the total number of labels is equal to the numer of images\n",
        "assert sum([len(sublist) for sublist in l]) == train_x.shape[0] "
      ],
      "execution_count": null,
      "outputs": []
    },
    {
      "cell_type": "code",
      "metadata": {
        "colab": {
          "base_uri": "https://localhost:8080/"
        },
        "id": "_CgSzj67Q959",
        "outputId": "b0108da6-cd8f-4294-d76b-2cef7d15f3de"
      },
      "source": [
        "# Create a tensor based on the list of labels\n",
        "label_list = []\n",
        "for i in range(10):\n",
        "    label_list.extend(l[i])\n",
        "assert len(label_list) == train_x.shape[0]\n",
        "\n",
        "train_y = torch.tensor(label_list).unsqueeze(1)\n",
        "train_x.shape,train_y.shape"
      ],
      "execution_count": null,
      "outputs": [
        {
          "output_type": "execute_result",
          "data": {
            "text/plain": [
              "(torch.Size([60000, 784]), torch.Size([60000, 1]))"
            ]
          },
          "metadata": {
            "tags": []
          },
          "execution_count": 44
        }
      ]
    },
    {
      "cell_type": "markdown",
      "metadata": {
        "id": "JVwaZsHSRrnS"
      },
      "source": [
        "The shapes of `train_x` and `train_y` are as expected"
      ]
    },
    {
      "cell_type": "markdown",
      "metadata": {
        "id": "67Prd18yQ95_"
      },
      "source": [
        "A `Dataset` in PyTorch is required to return a tuple of `(x,y)` when indexed. Python provides a `zip` function which, when combined with `list`, provides a simple way to get this functionality:"
      ]
    },
    {
      "cell_type": "code",
      "metadata": {
        "colab": {
          "base_uri": "https://localhost:8080/"
        },
        "id": "hnmy7VORQ96A",
        "outputId": "a0122e2d-0c5f-4b24-a578-7e829a643539"
      },
      "source": [
        "from random import shuffle\n",
        "\n",
        "dset = list(zip(train_x,train_y))\n",
        "shuffle(dset)\n",
        "\n",
        "\n",
        "x, y = dset[0]\n",
        "x.shape,y"
      ],
      "execution_count": null,
      "outputs": [
        {
          "output_type": "execute_result",
          "data": {
            "text/plain": [
              "(torch.Size([784]), tensor([5]))"
            ]
          },
          "metadata": {
            "tags": []
          },
          "execution_count": 45
        }
      ]
    },
    {
      "cell_type": "markdown",
      "metadata": {
        "id": "bgyrNSXsBcyH"
      },
      "source": [
        "Now we do the same for the validation sets"
      ]
    },
    {
      "cell_type": "code",
      "metadata": {
        "colab": {
          "base_uri": "https://localhost:8080/"
        },
        "id": "QJmLpADmQ96A",
        "outputId": "3a6b573e-7094-4bed-d895-296ae51f9189"
      },
      "source": [
        "valid_x = torch.cat([valid_tensors_dict[i] for i in range(0,10)]).view(-1, 28*28)\n",
        "\n",
        "# Returns a list of 10 sublists, where each sublist consists of a as many times digit as the number of image in the category\n",
        "l = [ [i] * valid_tensors_dict[i].shape[0] for i in range(0,10)]\n",
        "\n",
        "# check the the total number of labels is equal to the numer of images\n",
        "assert sum([len(sublist) for sublist in l]) == valid_x.shape[0] \n",
        "print(valid_x.shape)\n",
        "\n",
        "# Create a tensor based on the list of labels\n",
        "label_list = []\n",
        "for i in range(10):\n",
        "    label_list.extend(l[i])\n",
        "assert len(label_list) == valid_x.shape[0]\n",
        "\n",
        "valid_y = torch.tensor(label_list).unsqueeze(1)\n",
        "print(valid_y.shape)\n",
        "\n",
        "valid_dset = list(zip(valid_x,valid_y))"
      ],
      "execution_count": null,
      "outputs": [
        {
          "output_type": "stream",
          "text": [
            "torch.Size([10000, 784])\n",
            "torch.Size([10000, 1])\n"
          ],
          "name": "stdout"
        }
      ]
    },
    {
      "cell_type": "markdown",
      "metadata": {
        "id": "Lo1sINyOQ96A"
      },
      "source": [
        "Datasets are ready. Now we prepare the dataloaders to feed the training loop."
      ]
    },
    {
      "cell_type": "code",
      "metadata": {
        "id": "ppJHdq70Yxb2"
      },
      "source": [
        "dl = DataLoader(dset, batch_size=256)\n",
        "valid_dl = DataLoader(valid_dset, batch_size=5)"
      ],
      "execution_count": null,
      "outputs": []
    },
    {
      "cell_type": "markdown",
      "metadata": {
        "id": "hAj5qWL1Ao_k"
      },
      "source": [
        "#### Define the model architecture and parameters"
      ]
    },
    {
      "cell_type": "markdown",
      "metadata": {
        "id": "U3_b3NRtDZFl"
      },
      "source": [
        "Model is defined by creating functions to compute each of the 7 steps listed above"
      ]
    },
    {
      "cell_type": "markdown",
      "metadata": {
        "id": "p--DimUkCqhc"
      },
      "source": [
        "##### Parameters"
      ]
    },
    {
      "cell_type": "markdown",
      "metadata": {
        "id": "zpK6kbbRSOMp"
      },
      "source": [
        "In our model, we need to evaluate the distance from one image (input) to each of the possible classes (0 - 9). So we need to predict 10 values, out of which we will pick the minimum value to predict the correpsonding digit.\n",
        "\n",
        "In effect,**y** in **y=Wx+b** represents the `distances` between the image **x** and each of the digits. **y** is therefore a vector of shape `(10)`. The prediction is computed from an image **x** which is a vector of shape `(784)`. Therefore **W** must be of shape `(784, 10)`. And **b** must be of the same shape as the output, that is shape `(10)`.\n",
        "\n",
        "<img src=\"https://raw.githubusercontent.com/vtecftwy/fastbook/master/images/img_mnist_full_linear_layer.png\" height=\"400px\" />\n"
      ]
    },
    {
      "cell_type": "markdown",
      "metadata": {
        "id": "LzhbtgMGCVJS"
      },
      "source": [
        "Define a function to create random parameters, and then create **W** and **b** with the correct shapes"
      ]
    },
    {
      "cell_type": "code",
      "metadata": {
        "colab": {
          "base_uri": "https://localhost:8080/"
        },
        "id": "Qn2XEth3Qs2X",
        "outputId": "856af33f-f8a2-432f-e275-645414cc3bf3"
      },
      "source": [
        "def init_params(size, std=1.0): \n",
        "    return (torch.randn(size)*std).requires_grad_()\n",
        "\n",
        "weights = init_params((28*28, 10))\n",
        "bias = init_params(10)\n",
        "\n",
        "weights.shape, bias.shape"
      ],
      "execution_count": null,
      "outputs": [
        {
          "output_type": "execute_result",
          "data": {
            "text/plain": [
              "(torch.Size([784, 10]), torch.Size([10]))"
            ]
          },
          "metadata": {
            "tags": []
          },
          "execution_count": 48
        }
      ]
    },
    {
      "cell_type": "markdown",
      "metadata": {
        "id": "G6Ybt963Ao_l"
      },
      "source": [
        "##### Define functions to calculate the predictions. \n",
        "\n",
        "The output of the linear layer is a distance. If we apply `softmax`, we get a sort of probability (sum of values = 1), which is what we want. Also, we can use `softmax` or `log_sofmax`. But it is useful to use `log_softmax` for several reasons, including the fact that larger errors are more penalized then small errors and the fact that it allows some computation stability in the network (see [here](https://deepdatascience.wordpress.com/2020/02/27/log-softmax-vs-softmax/)). \n",
        "\n",
        "See pytorch documentation: [`softmax`](https://pytorch.org/docs/stable/nn.functional.html?highlight=softmax#softmax) and [`log_softmax`](https://pytorch.org/docs/stable/generated/torch.nn.LogSoftmax.html?highlight=softmax#logsoftmax)"
      ]
    },
    {
      "cell_type": "code",
      "metadata": {
        "id": "g_xOqHw_Tioi"
      },
      "source": [
        "def linear(xb):\n",
        "    outputs =  xb @ weights + bias\n",
        "    probs = torch.log_softmax(outputs, dim=1)\n",
        "    return probs\n",
        "\n",
        "def evaluate_preds(xb):\n",
        "    probs = linear(xb)\n",
        "    return probs.argmax(dim=1).unsqueeze(dim=1)"
      ],
      "execution_count": null,
      "outputs": []
    },
    {
      "cell_type": "markdown",
      "metadata": {
        "id": "0HHF3tn7Ao_m"
      },
      "source": [
        "##### Define a function to calculate the loss"
      ]
    },
    {
      "cell_type": "code",
      "metadata": {
        "id": "ww5kD8caAo_k"
      },
      "source": [
        "# Loss Function: Cross Entropy Loss a.k.a. Negative Log Likelihood Loss\n",
        "# https://pytorch.org/docs/stable/generated/torch.nn.NLLLoss.html#torch.nn.NLLLoss\n",
        "loss_fct = nn.NLLLoss()"
      ],
      "execution_count": null,
      "outputs": []
    },
    {
      "cell_type": "markdown",
      "metadata": {
        "id": "xQLwzJCBAo_n"
      },
      "source": [
        "##### Define a function to calculate the gradients"
      ]
    },
    {
      "cell_type": "code",
      "metadata": {
        "id": "ILZAptP-ZP9O"
      },
      "source": [
        "def calc_grad(xb, yb, model):\n",
        "    preds = model(xb)\n",
        "    loss = loss_fct(preds, yb.squeeze())\n",
        "    # print(loss)\n",
        "    loss.backward()"
      ],
      "execution_count": null,
      "outputs": []
    },
    {
      "cell_type": "code",
      "metadata": {
        "id": "Cv3lJG7cQB1v"
      },
      "source": [
        "# xb, yb = first(dl)\n",
        "# display(xb.shape, yb.shape)\n",
        "# probs = linear(xb)\n",
        "# display(probs.shape)\n",
        "# evaluate_preds(xb)\n",
        "# display(yb)\n",
        "# loss_fct(probs, yb.squeeze())\n",
        "# calc_grad(xb, yb, linear)"
      ],
      "execution_count": null,
      "outputs": []
    },
    {
      "cell_type": "markdown",
      "metadata": {
        "id": "BSi9WAxUAo_q"
      },
      "source": [
        "##### Define a function performing one step/one epoch"
      ]
    },
    {
      "cell_type": "code",
      "metadata": {
        "id": "jImqcs7aZlYp"
      },
      "source": [
        "def train_epoch(model, lr, params):\n",
        "    for xb, yb in dl:\n",
        "        calc_grad(xb, yb, model)\n",
        "        for p in params:\n",
        "            p.data -= p.grad * lr\n",
        "            p.grad.zero_()"
      ],
      "execution_count": null,
      "outputs": []
    },
    {
      "cell_type": "markdown",
      "metadata": {
        "id": "6W7gQ4jEAo_r"
      },
      "source": [
        "##### Define a function to evaluate the validation accurary"
      ]
    },
    {
      "cell_type": "code",
      "metadata": {
        "id": "WsS8le8QD8To"
      },
      "source": [
        "#Determines how many of the predictions are actually correct \n",
        "def batch_accuracy(xb, yb):\n",
        "    accuracy = torch.eq(xb, yb).sum() / xb.shape[0]\n",
        "    return accuracy"
      ],
      "execution_count": null,
      "outputs": []
    },
    {
      "cell_type": "code",
      "metadata": {
        "id": "asUH98GjAj5U"
      },
      "source": [
        "# preds.unsqueeze(dim=1)"
      ],
      "execution_count": null,
      "outputs": []
    },
    {
      "cell_type": "code",
      "metadata": {
        "id": "k887jKBsD8OZ"
      },
      "source": [
        "#Collects the accuracy from each element in the dataloader and displays it\n",
        "def validate_epoch(model):\n",
        "    accs = [batch_accuracy(model(xb), yb) for xb, yb in valid_dl]\n",
        "    return round(torch.stack(accs).mean().item(), 4)"
      ],
      "execution_count": null,
      "outputs": []
    },
    {
      "cell_type": "markdown",
      "metadata": {
        "id": "51Bt7YLMEwR6"
      },
      "source": [
        "#### Bringing it all together and run training loop"
      ]
    },
    {
      "cell_type": "code",
      "metadata": {
        "colab": {
          "base_uri": "https://localhost:8080/"
        },
        "id": "OpengN_UD8HK",
        "outputId": "44dcb5a0-da11-4366-b283-9d468850da9f"
      },
      "source": [
        "weights = init_params((28*28, 10))\n",
        "bias = init_params(10)\n",
        "\n",
        "lr = 1\n",
        "params = weights, bias\n",
        "\n",
        "train_epoch(linear, lr, params)\n",
        "\n",
        "train_epoch(linear, lr, params)\n",
        "validate_epoch(evaluate_preds)"
      ],
      "execution_count": null,
      "outputs": [
        {
          "output_type": "execute_result",
          "data": {
            "text/plain": [
              "0.873"
            ]
          },
          "metadata": {
            "tags": []
          },
          "execution_count": 57
        }
      ]
    },
    {
      "cell_type": "code",
      "metadata": {
        "id": "nET2H9YQD79j",
        "colab": {
          "base_uri": "https://localhost:8080/"
        },
        "outputId": "4a47815f-f8f1-44b2-b68f-30eb96aa083a"
      },
      "source": [
        "n_epochs = 20\n",
        "for i in range(n_epochs):\n",
        "    train_epoch(linear, lr, params)\n",
        "    print(f\"{i}:{validate_epoch(evaluate_preds):1.4f}\", end=' ')"
      ],
      "execution_count": null,
      "outputs": [
        {
          "output_type": "stream",
          "text": [
            "0:0.8829 1:0.8866 2:0.8921 3:0.8935 4:0.8966 5:0.8980 6:0.8988 7:0.8995 8:0.9016 9:0.9031 10:0.9047 11:0.9059 12:0.9080 13:0.9090 14:0.9091 15:0.9099 16:0.9105 17:0.9110 18:0.9112 19:0.9112 "
          ],
          "name": "stdout"
        }
      ]
    },
    {
      "cell_type": "code",
      "metadata": {
        "colab": {
          "base_uri": "https://localhost:8080/"
        },
        "id": "UNsiOf5lE01F",
        "outputId": "28b0502d-c830-476f-a4a0-7e3977f0e2d1"
      },
      "source": [
        "n_epochs = 20\n",
        "for i in range(n_epochs):\n",
        "    train_epoch(linear, lr, params)\n",
        "    print(f\"{i}:{validate_epoch(evaluate_preds):1.4f}\", end=' ')"
      ],
      "execution_count": null,
      "outputs": [
        {
          "output_type": "stream",
          "text": [
            "0:0.9118 1:0.9122 2:0.9127 3:0.9133 4:0.9142 5:0.9149 6:0.9150 7:0.9154 8:0.9151 9:0.9155 10:0.9159 11:0.9158 12:0.9163 13:0.9167 14:0.9166 15:0.9168 16:0.9172 17:0.9174 18:0.9175 19:0.9174 "
          ],
          "name": "stdout"
        }
      ]
    },
    {
      "cell_type": "code",
      "metadata": {
        "colab": {
          "base_uri": "https://localhost:8080/"
        },
        "id": "hFy5_mq-FBJi",
        "outputId": "5020ac9e-c799-4080-b561-b475a8e25ecd"
      },
      "source": [
        "n_epochs = 20\n",
        "for i in range(n_epochs):\n",
        "    train_epoch(linear, lr, params)\n",
        "    print(f\"{i}:{validate_epoch(evaluate_preds):1.4f}\", end=' ')"
      ],
      "execution_count": null,
      "outputs": [
        {
          "output_type": "stream",
          "text": [
            "0:0.9177 1:0.9181 2:0.9187 3:0.9190 4:0.9192 5:0.9191 6:0.9190 7:0.9194 8:0.9200 9:0.9201 10:0.9201 11:0.9202 12:0.9201 13:0.9202 14:0.9204 15:0.9205 16:0.9204 17:0.9204 18:0.9204 19:0.9202 "
          ],
          "name": "stdout"
        }
      ]
    },
    {
      "cell_type": "code",
      "metadata": {
        "colab": {
          "base_uri": "https://localhost:8080/"
        },
        "id": "NnYVAx1MFNLq",
        "outputId": "79da911e-7946-451a-eb1f-85f7487c8466"
      },
      "source": [
        "n_epochs = 200\n",
        "for i in range(n_epochs):\n",
        "    train_epoch(linear, lr, params)\n",
        "    if i%10 == 0:\n",
        "        print(f\"{i}:{validate_epoch(evaluate_preds):1.4f}\", end=' ')\n",
        "print(validate_epoch(evaluate_preds))"
      ],
      "execution_count": null,
      "outputs": [
        {
          "output_type": "stream",
          "text": [
            "0:0.9198 10:0.9201 20:0.9212 30:0.9219 40:0.9222 50:0.9218 60:0.9222 70:0.9220 80:0.9220 90:0.9222 100:0.9220 110:0.9216 120:0.9218 130:0.9217 140:0.9218 150:0.9221 160:0.9223 170:0.9221 180:0.9220 190:0.9219 0.922\n"
          ],
          "name": "stdout"
        }
      ]
    },
    {
      "cell_type": "code",
      "metadata": {
        "colab": {
          "base_uri": "https://localhost:8080/"
        },
        "id": "ZcXT3ED0F7nC",
        "outputId": "c07e3530-f4c5-4dc7-90ed-80f0093e6da2"
      },
      "source": [
        "n_epochs = 200\n",
        "for i in range(n_epochs):\n",
        "    train_epoch(linear, lr, params)\n",
        "    if i%10 == 0:\n",
        "        print(f\"{i}:{validate_epoch(evaluate_preds):1.4f}\", end=' ')\n",
        "print(validate_epoch(evaluate_preds))"
      ],
      "execution_count": null,
      "outputs": [
        {
          "output_type": "stream",
          "text": [
            "0:0.9220 10:0.9220 20:0.9219 30:0.9222 40:0.9222 50:0.9221 60:0.9218 70:0.9217 80:0.9216 90:0.9218 100:0.9218 110:0.9219 120:0.9221 130:0.9222 140:0.9222 150:0.9222 160:0.9222 170:0.9222 180:0.9223 190:0.9223 0.9222\n"
          ],
          "name": "stdout"
        }
      ]
    },
    {
      "cell_type": "code",
      "metadata": {
        "colab": {
          "base_uri": "https://localhost:8080/"
        },
        "id": "G6puUR2RGFUS",
        "outputId": "fb3f3f4e-0e22-45c4-b0fd-ed3f854cfe9e"
      },
      "source": [
        "n_epochs = 2000\n",
        "for i in range(n_epochs):\n",
        "    train_epoch(linear, lr, params)\n",
        "    if i%100 == 0:\n",
        "        print(f\"{i}:{validate_epoch(evaluate_preds):1.4f}\", end=' ')\n",
        "print(validate_epoch(evaluate_preds))"
      ],
      "execution_count": null,
      "outputs": [
        {
          "output_type": "stream",
          "text": [
            "0:0.8416 100:0.8416 200:0.8423 300:0.8427 400:0.8424 500:0.8425 600:0.8421 700:0.8425 800:0.8429 900:0.8431 1000:0.8429 1100:0.8428 1200:0.8425 1300:0.8428 1400:0.8428 1500:0.8429 1600:0.8425 1700:0.8426 1800:0.8429 1900:0.8431 0.8431\n"
          ],
          "name": "stdout"
        }
      ]
    },
    {
      "cell_type": "code",
      "metadata": {
        "colab": {
          "base_uri": "https://localhost:8080/"
        },
        "id": "r-b6pqY3GfSo",
        "outputId": "c8993668-1fe4-451a-8a3b-9e88dbc7904b"
      },
      "source": [
        "print(validate_epoch(evaluate_preds))"
      ],
      "execution_count": null,
      "outputs": [
        {
          "output_type": "stream",
          "text": [
            "0.9222\n"
          ],
          "name": "stdout"
        }
      ]
    },
    {
      "cell_type": "code",
      "metadata": {
        "colab": {
          "base_uri": "https://localhost:8080/",
          "height": 102
        },
        "id": "1RQ09gHxQeZH",
        "outputId": "290590ec-949d-4ca0-ffce-bd760a38c534"
      },
      "source": [
        "img = valid_tensors_dict[8][49]\n",
        "show_image(img)\n",
        "plt.show()\n",
        "evaluate_preds(img.view(28*28).unsqueeze(dim=0))"
      ],
      "execution_count": null,
      "outputs": [
        {
          "output_type": "display_data",
          "data": {
            "image/png": "[encoded data removed]",
            "text/plain": [
              "<Figure size 72x72 with 1 Axes>"
            ]
          },
          "metadata": {
            "tags": [],
            "needs_background": "light"
          }
        },
        {
          "output_type": "execute_result",
          "data": {
            "text/plain": [
              "tensor([[8]])"
            ]
          },
          "metadata": {
            "tags": []
          },
          "execution_count": 64
        }
      ]
    },
    {
      "cell_type": "code",
      "metadata": {
        "colab": {
          "base_uri": "https://localhost:8080/",
          "height": 102
        },
        "id": "Y-Xceh_zv8l9",
        "outputId": "de3e1703-793f-4033-dd08-cf5b6797b61b"
      },
      "source": [
        "img = valid_tensors_dict[2][159]\n",
        "show_image(img)\n",
        "plt.show()\n",
        "evaluate_preds(img.view(28*28).unsqueeze(dim=0))"
      ],
      "execution_count": null,
      "outputs": [
        {
          "output_type": "display_data",
          "data": {
            "image/png": "[encoded data removed]",
            "text/plain": [
              "<Figure size 72x72 with 1 Axes>"
            ]
          },
          "metadata": {
            "tags": [],
            "needs_background": "light"
          }
        },
        {
          "output_type": "execute_result",
          "data": {
            "text/plain": [
              "tensor([[2]])"
            ]
          },
          "metadata": {
            "tags": []
          },
          "execution_count": 65
        }
      ]
    },
    {
      "cell_type": "code",
      "metadata": {
        "colab": {
          "base_uri": "https://localhost:8080/",
          "height": 102
        },
        "id": "mKAD5umvv8cD",
        "outputId": "2d601577-a525-483a-bad6-efcc8f4c8a41"
      },
      "source": [
        "img = valid_tensors_dict[7][957]\n",
        "show_image(img)\n",
        "plt.show()\n",
        "evaluate_preds(img.view(28*28).unsqueeze(dim=0))"
      ],
      "execution_count": null,
      "outputs": [
        {
          "output_type": "display_data",
          "data": {
            "image/png": "[encoded data removed]",
            "text/plain": [
              "<Figure size 72x72 with 1 Axes>"
            ]
          },
          "metadata": {
            "tags": [],
            "needs_background": "light"
          }
        },
        {
          "output_type": "execute_result",
          "data": {
            "text/plain": [
              "tensor([[7]])"
            ]
          },
          "metadata": {
            "tags": []
          },
          "execution_count": 66
        }
      ]
    },
    {
      "cell_type": "markdown",
      "metadata": {
        "id": "ddlCEUDyux37"
      },
      "source": [
        "## Improve model by introducing ReLu and two layers"
      ]
    },
    {
      "cell_type": "code",
      "metadata": {
        "colab": {
          "base_uri": "https://localhost:8080/"
        },
        "id": "5AKIgUMKvAXc",
        "outputId": "6e9875af-d158-4fb9-be3d-3753d1500873"
      },
      "source": [
        "def init_params(size, std=1.0): \n",
        "    return (torch.randn(size)*std).requires_grad_()\n",
        "\n",
        "w1 = init_params((28*28, 100))\n",
        "b1 = init_params(100)\n",
        "\n",
        "w2 = init_params((100, 10))\n",
        "b2 = init_params(10)\n",
        "\n",
        "w1.shape, b1.shape, w2.shape, b2.shape"
      ],
      "execution_count": null,
      "outputs": [
        {
          "output_type": "execute_result",
          "data": {
            "text/plain": [
              "(torch.Size([784, 100]),\n",
              " torch.Size([100]),\n",
              " torch.Size([100, 10]),\n",
              " torch.Size([10]))"
            ]
          },
          "metadata": {
            "tags": []
          },
          "execution_count": 67
        }
      ]
    },
    {
      "cell_type": "markdown",
      "metadata": {
        "id": "PX9mzfQCvAXe"
      },
      "source": [
        "##### Define functions to calculate the predictions"
      ]
    },
    {
      "cell_type": "code",
      "metadata": {
        "id": "SR6J5TNEvAXf"
      },
      "source": [
        "activ1 = nn.ReLU()\n",
        "\n",
        "def linear1(xb):\n",
        "    outputs =  xb @ w1 + b1\n",
        "    return activ1(outputs)\n",
        "\n",
        "def linear2(xb):\n",
        "    outputs =  xb @ w2 + b2\n",
        "    probs = torch.log_softmax(outputs, dim=1)\n",
        "    return probs\n",
        "\n",
        "def model(xb):\n",
        "    xb = linear1(xb)\n",
        "    xb = linear2(xb)\n",
        "    return xb\n",
        "\n",
        "def classifier(xb):\n",
        "    xb = model(xb)\n",
        "    return xb.argmax(dim=1).unsqueeze(dim=1)"
      ],
      "execution_count": null,
      "outputs": []
    },
    {
      "cell_type": "code",
      "metadata": {
        "id": "Zkif8_INwhnU"
      },
      "source": [
        "# # Testing layer by layer\n",
        "# xb, yb = first(dl)\n",
        "# display(xb.shape, yb.shape)\n",
        "# display(linear1(xb).shape)\n",
        "# display(linear2(linear1(xb)).shape)\n",
        "# display(model(xb))\n",
        "# classifier(xb)[0:3]"
      ],
      "execution_count": null,
      "outputs": []
    },
    {
      "cell_type": "markdown",
      "metadata": {
        "id": "DYA40BUgvAXf"
      },
      "source": [
        "##### Define a function to calculate the loss"
      ]
    },
    {
      "cell_type": "code",
      "metadata": {
        "id": "TaNy5A5OvAXg"
      },
      "source": [
        "# Loss Function: Cross Entropy Loss a.k.a. Negative Log Likelihood Loss\n",
        "# https://pytorch.org/docs/stable/generated/torch.nn.NLLLoss.html#torch.nn.NLLLoss\n",
        "loss_fct = nn.NLLLoss()"
      ],
      "execution_count": null,
      "outputs": []
    },
    {
      "cell_type": "markdown",
      "metadata": {
        "id": "HNSqQxstvAXg"
      },
      "source": [
        "##### Define a function to calculate the gradients"
      ]
    },
    {
      "cell_type": "code",
      "metadata": {
        "id": "G7Ac3w6JvAXg"
      },
      "source": [
        "def calc_grad(xb, yb, model):\n",
        "    preds = model(xb)\n",
        "    loss = loss_fct(preds, yb.squeeze())\n",
        "    # print(loss)\n",
        "    loss.backward()"
      ],
      "execution_count": null,
      "outputs": []
    },
    {
      "cell_type": "code",
      "metadata": {
        "id": "xhCBXbTyvAXh"
      },
      "source": [
        "# # Testing function\n",
        "# xb, yb = first(dl)\n",
        "# display(xb.shape, yb.shape)\n",
        "# probs = model(xb)\n",
        "# display(probs.shape)\n",
        "# # display(yb)\n",
        "# loss_fct(probs, yb.squeeze())\n",
        "# calc_grad(xb, yb, model)"
      ],
      "execution_count": null,
      "outputs": []
    },
    {
      "cell_type": "markdown",
      "metadata": {
        "id": "3oWpDgcWvAXh"
      },
      "source": [
        "##### Define a function performing one step/one epoch"
      ]
    },
    {
      "cell_type": "code",
      "metadata": {
        "id": "qkDQTt8yvAXi"
      },
      "source": [
        "def train_epoch(model, lr, params):\n",
        "    for xb, yb in dl:\n",
        "        calc_grad(xb, yb, model)\n",
        "        for p in params:\n",
        "            p.data -= p.grad * lr\n",
        "            p.grad.zero_()"
      ],
      "execution_count": null,
      "outputs": []
    },
    {
      "cell_type": "markdown",
      "metadata": {
        "id": "6J6GFo3jvAXi"
      },
      "source": [
        "##### Define a function to evaluate the validation accurary"
      ]
    },
    {
      "cell_type": "code",
      "metadata": {
        "id": "-d3hPWfyvAXi"
      },
      "source": [
        "#Determines how many of the predictions are actually correct \n",
        "def batch_accuracy(xb, yb):\n",
        "    accuracy = torch.eq(xb, yb).sum() / xb.shape[0]\n",
        "    return accuracy"
      ],
      "execution_count": null,
      "outputs": []
    },
    {
      "cell_type": "code",
      "metadata": {
        "id": "UVgQz70VvAXi"
      },
      "source": [
        "# preds.unsqueeze(dim=1)"
      ],
      "execution_count": null,
      "outputs": []
    },
    {
      "cell_type": "code",
      "metadata": {
        "id": "AADwAdXTvAXi"
      },
      "source": [
        "#Collects the accuracy from each element in the dataloader and displays it\n",
        "def validate_epoch(model):\n",
        "    accs = [batch_accuracy(model(xb), yb) for xb, yb in valid_dl]\n",
        "    return round(torch.stack(accs).mean().item(), 4)"
      ],
      "execution_count": null,
      "outputs": []
    },
    {
      "cell_type": "markdown",
      "metadata": {
        "id": "yaqhJzDevAXi"
      },
      "source": [
        "#### Bringing it all together and run training loop"
      ]
    },
    {
      "cell_type": "markdown",
      "metadata": {
        "id": "aBuIeTLGPYI4"
      },
      "source": [
        "Create a function to run `n` epochs and display results."
      ]
    },
    {
      "cell_type": "code",
      "metadata": {
        "id": "WIeimeJl78K1"
      },
      "source": [
        "from math import log10\n",
        "\n",
        "def run_n_epochs(model, lr, params, n_epochs):\n",
        "    trigger = 10**(int(log10(n_epochs))-1)\n",
        "    cols = 10\n",
        "    starting_i = metric_results['epochs'][-1] + 1\n",
        "    for i in range(starting_i, starting_i + n_epochs):\n",
        "        train_epoch(model, lr, params)\n",
        "        if i%trigger == 0:\n",
        "            v = validate_epoch(classifier)\n",
        "\n",
        "            metric_results['epochs'].append(i)\n",
        "            metric_results['values'].append(v)\n",
        "            \n",
        "            end_str = '\\n' if i//trigger%cols == 0 else ' ' \n",
        "            print(f\"{i:3d}:{v:1.4f}\", end=end_str)\n",
        "    print(f\"\\nLast:{v:1.4f}\")\n",
        "    fig, ax = plt.subplots(1, 1, figsize=(12,4))\n",
        "    ax.scatter(metric_results['epochs'], metric_results['values'])\n",
        "    return metric_results"
      ],
      "execution_count": null,
      "outputs": []
    },
    {
      "cell_type": "markdown",
      "metadata": {
        "id": "PbcQyVqtPgro"
      },
      "source": [
        "Shuffle data, initalize parameters, run one epoch"
      ]
    },
    {
      "cell_type": "code",
      "metadata": {
        "colab": {
          "base_uri": "https://localhost:8080/"
        },
        "id": "TyFqswY8vAXj",
        "outputId": "b5fcde6e-f5e5-460f-a6b0-a75bdd1f0561"
      },
      "source": [
        "shuffle(dset)\n",
        "dl = DataLoader(dset, batch_size=256)\n",
        "valid_dl = DataLoader(valid_dset, batch_size=5)\n",
        "\n",
        "w1 = init_params((28*28, 100))\n",
        "b1 = init_params(100)\n",
        "w2 = init_params((100, 10))\n",
        "b2 = init_params(10)\n",
        "\n",
        "lr = 1\n",
        "params = w1, b1, w2, b2\n",
        "\n",
        "metric_results = {}\n",
        "metric_results['epochs'] = [0]\n",
        "metric_results['values'] = [0]\n",
        "\n",
        "train_epoch(model, lr, params)\n",
        "validate_epoch(classifier)"
      ],
      "execution_count": null,
      "outputs": [
        {
          "output_type": "execute_result",
          "data": {
            "text/plain": [
              "0.8035"
            ]
          },
          "metadata": {
            "tags": []
          },
          "execution_count": 74
        }
      ]
    },
    {
      "cell_type": "code",
      "metadata": {
        "colab": {
          "base_uri": "https://localhost:8080/",
          "height": 335
        },
        "id": "wnLgh5gXAj1T",
        "outputId": "f6d89d63-3f60-4fca-ed84-79d9214a0eff"
      },
      "source": [
        "metric_results = run_n_epochs(model, lr, params, 20)"
      ],
      "execution_count": null,
      "outputs": [
        {
          "output_type": "stream",
          "text": [
            "  1:0.8425   2:0.8595   3:0.8756   4:0.8797   5:0.8830   6:0.8881   7:0.8897   8:0.8936   9:0.8968  10:0.8970\n",
            " 11:0.8993  12:0.8994  13:0.9016  14:0.9020  15:0.9048  16:0.9048  17:0.9065  18:0.9081  19:0.9085  20:0.9088\n",
            "\n",
            "Last:0.9088\n"
          ],
          "name": "stdout"
        },
        {
          "output_type": "display_data",
          "data": {
            "image/png": "[encoded data removed]",
            "text/plain": [
              "<Figure size 864x288 with 1 Axes>"
            ]
          },
          "metadata": {
            "tags": [],
            "needs_background": "light"
          }
        }
      ]
    },
    {
      "cell_type": "code",
      "metadata": {
        "colab": {
          "base_uri": "https://localhost:8080/",
          "height": 335
        },
        "id": "QIXGZWGZ8TzL",
        "outputId": "825c75ca-6ff1-4148-ce5a-c245ddd58d3c"
      },
      "source": [
        "metric_results = run_n_epochs(model, lr, params, 20)"
      ],
      "execution_count": null,
      "outputs": [
        {
          "output_type": "stream",
          "text": [
            " 21:0.9096  22:0.9111  23:0.9124  24:0.9133  25:0.9149  26:0.9154  27:0.9165  28:0.9161  29:0.9170  30:0.9174\n",
            " 31:0.9181  32:0.9185  33:0.9186  34:0.9189  35:0.9197  36:0.9205  37:0.9211  38:0.9215  39:0.9223  40:0.9228\n",
            "\n",
            "Last:0.9228\n"
          ],
          "name": "stdout"
        },
        {
          "output_type": "display_data",
          "data": {
            "image/png": "[encoded data removed]",
            "text/plain": [
              "<Figure size 864x288 with 1 Axes>"
            ]
          },
          "metadata": {
            "tags": [],
            "needs_background": "light"
          }
        }
      ]
    },
    {
      "cell_type": "code",
      "metadata": {
        "colab": {
          "base_uri": "https://localhost:8080/",
          "height": 335
        },
        "id": "mwMUwNjs90uc",
        "outputId": "5a9a3543-c5d7-4e35-b777-c1a9fed1f4ae"
      },
      "source": [
        "metric_results = run_n_epochs(model, lr, params, 20)"
      ],
      "execution_count": null,
      "outputs": [
        {
          "output_type": "stream",
          "text": [
            " 41:0.9230  42:0.9245  43:0.9245  44:0.9248  45:0.9249  46:0.9258  47:0.9264  48:0.9267  49:0.9279  50:0.9289\n",
            " 51:0.9293  52:0.9303  53:0.9312  54:0.9306  55:0.9320  56:0.9323  57:0.9327  58:0.9329  59:0.9327  60:0.9333\n",
            "\n",
            "Last:0.9333\n"
          ],
          "name": "stdout"
        },
        {
          "output_type": "display_data",
          "data": {
            "image/png": "[encoded data removed]",
            "text/plain": [
              "<Figure size 864x288 with 1 Axes>"
            ]
          },
          "metadata": {
            "tags": [],
            "needs_background": "light"
          }
        }
      ]
    },
    {
      "cell_type": "code",
      "metadata": {
        "id": "OtEoMIN_1Z50",
        "colab": {
          "base_uri": "https://localhost:8080/",
          "height": 388
        },
        "outputId": "99b85a15-5b9c-4c33-d500-ff482d73d87f"
      },
      "source": [
        "metric_results = run_n_epochs(model, lr, params, 50)"
      ],
      "execution_count": null,
      "outputs": [
        {
          "output_type": "stream",
          "text": [
            " 61:0.9336  62:0.9337  63:0.9335  64:0.9342  65:0.9347  66:0.9350  67:0.9354  68:0.9360  69:0.9355  70:0.9362\n",
            " 71:0.9360  72:0.9360  73:0.9364  74:0.9367  75:0.9370  76:0.9374  77:0.9379  78:0.9384  79:0.9384  80:0.9389\n",
            " 81:0.9392  82:0.9391  83:0.9399  84:0.9395  85:0.9399  86:0.9401  87:0.9398  88:0.9397  89:0.9401  90:0.9404\n",
            " 91:0.9404  92:0.9404  93:0.9404  94:0.9406  95:0.9408  96:0.9406  97:0.9405  98:0.9405  99:0.9406 100:0.9409\n",
            "101:0.9403 102:0.9404 103:0.9407 104:0.9405 105:0.9407 106:0.9416 107:0.9416 108:0.9414 109:0.9413 110:0.9409\n",
            "\n",
            "Last:0.9409\n"
          ],
          "name": "stdout"
        },
        {
          "output_type": "display_data",
          "data": {
            "image/png": "[encoded data removed]",
            "text/plain": [
              "<Figure size 864x288 with 1 Axes>"
            ]
          },
          "metadata": {
            "tags": [],
            "needs_background": "light"
          }
        }
      ]
    },
    {
      "cell_type": "code",
      "metadata": {
        "id": "xzbnd9At1gpU",
        "colab": {
          "base_uri": "https://localhost:8080/",
          "height": 388
        },
        "outputId": "825f2d42-113c-4708-ff25-57720d21a16f"
      },
      "source": [
        "metric_results = run_n_epochs(model, lr, params, 50)"
      ],
      "execution_count": null,
      "outputs": [
        {
          "output_type": "stream",
          "text": [
            "111:0.9409 112:0.9416 113:0.9417 114:0.9417 115:0.9418 116:0.9420 117:0.9425 118:0.9423 119:0.9423 120:0.9421\n",
            "121:0.9423 122:0.9427 123:0.9429 124:0.9429 125:0.9427 126:0.9427 127:0.9427 128:0.9422 129:0.9424 130:0.9426\n",
            "131:0.9430 132:0.9420 133:0.9426 134:0.9422 135:0.9417 136:0.9426 137:0.9422 138:0.9421 139:0.9426 140:0.9424\n",
            "141:0.9424 142:0.9420 143:0.9429 144:0.9428 145:0.9422 146:0.9423 147:0.9427 148:0.9421 149:0.9427 150:0.9423\n",
            "151:0.9427 152:0.9430 153:0.9430 154:0.9427 155:0.9433 156:0.9430 157:0.9436 158:0.9435 159:0.9431 160:0.9430\n",
            "\n",
            "Last:0.9430\n"
          ],
          "name": "stdout"
        },
        {
          "output_type": "display_data",
          "data": {
            "image/png": "[encoded data removed]",
            "text/plain": [
              "<Figure size 864x288 with 1 Axes>"
            ]
          },
          "metadata": {
            "tags": [],
            "needs_background": "light"
          }
        }
      ]
    },
    {
      "cell_type": "code",
      "metadata": {
        "colab": {
          "base_uri": "https://localhost:8080/",
          "height": 441
        },
        "id": "TBposkA4Ditj",
        "outputId": "a845f8ac-5fea-4cee-bc32-602a4e39d12c"
      },
      "source": [
        "metric_results = run_n_epochs(model, lr/5, params, 80)"
      ],
      "execution_count": null,
      "outputs": [
        {
          "output_type": "stream",
          "text": [
            "161:0.9452 162:0.9453 163:0.9450 164:0.9452 165:0.9452 166:0.9452 167:0.9451 168:0.9453 169:0.9453 170:0.9452\n",
            "171:0.9453 172:0.9449 173:0.9449 174:0.9447 175:0.9447 176:0.9448 177:0.9449 178:0.9447 179:0.9452 180:0.9451\n",
            "181:0.9451 182:0.9451 183:0.9450 184:0.9450 185:0.9453 186:0.9451 187:0.9451 188:0.9453 189:0.9451 190:0.9452\n",
            "191:0.9453 192:0.9454 193:0.9455 194:0.9452 195:0.9454 196:0.9455 197:0.9456 198:0.9456 199:0.9456 200:0.9456\n",
            "201:0.9454 202:0.9455 203:0.9456 204:0.9458 205:0.9456 206:0.9456 207:0.9456 208:0.9456 209:0.9456 210:0.9455\n",
            "211:0.9456 212:0.9456 213:0.9455 214:0.9457 215:0.9458 216:0.9458 217:0.9453 218:0.9456 219:0.9457 220:0.9458\n",
            "221:0.9456 222:0.9457 223:0.9456 224:0.9459 225:0.9459 226:0.9458 227:0.9459 228:0.9459 229:0.9459 230:0.9460\n",
            "231:0.9456 232:0.9458 233:0.9457 234:0.9457 235:0.9458 236:0.9459 237:0.9456 238:0.9458 239:0.9457 240:0.9459\n",
            "\n",
            "Last:0.9459\n"
          ],
          "name": "stdout"
        },
        {
          "output_type": "display_data",
          "data": {
            "image/png": "[encoded data removed]",
            "text/plain": [
              "<Figure size 864x288 with 1 Axes>"
            ]
          },
          "metadata": {
            "tags": [],
            "needs_background": "light"
          }
        }
      ]
    },
    {
      "cell_type": "code",
      "metadata": {
        "id": "bPlz0M76DjTO"
      },
      "source": [
        ""
      ],
      "execution_count": null,
      "outputs": []
    },
    {
      "cell_type": "code",
      "metadata": {
        "colab": {
          "base_uri": "https://localhost:8080/",
          "height": 102
        },
        "id": "3mXfRZW3-IZk",
        "outputId": "87bbb6e4-6693-442e-ba86-2e4f0642d589"
      },
      "source": [
        "img = valid_tensors_dict[8][49]\n",
        "show_image(img)\n",
        "plt.show()\n",
        "classifier(img.view(28*28).unsqueeze(dim=0))"
      ],
      "execution_count": null,
      "outputs": [
        {
          "output_type": "display_data",
          "data": {
            "image/png": "[encoded data removed]",
            "text/plain": [
              "<Figure size 72x72 with 1 Axes>"
            ]
          },
          "metadata": {
            "tags": [],
            "needs_background": "light"
          }
        },
        {
          "output_type": "execute_result",
          "data": {
            "text/plain": [
              "tensor([[5]])"
            ]
          },
          "metadata": {
            "tags": []
          },
          "execution_count": 82
        }
      ]
    },
    {
      "cell_type": "code",
      "metadata": {
        "colab": {
          "base_uri": "https://localhost:8080/",
          "height": 102
        },
        "id": "G7DbB7ha-IZr",
        "outputId": "9664686f-c4b9-49fc-9523-5e8149792f04"
      },
      "source": [
        "img = valid_tensors_dict[2][159]\n",
        "show_image(img)\n",
        "plt.show()\n",
        "\n",
        "classifier(img.view(28*28).unsqueeze(dim=0))"
      ],
      "execution_count": null,
      "outputs": [
        {
          "output_type": "display_data",
          "data": {
            "image/png": "[encoded data removed]",
            "text/plain": [
              "<Figure size 72x72 with 1 Axes>"
            ]
          },
          "metadata": {
            "tags": [],
            "needs_background": "light"
          }
        },
        {
          "output_type": "execute_result",
          "data": {
            "text/plain": [
              "tensor([[6]])"
            ]
          },
          "metadata": {
            "tags": []
          },
          "execution_count": 83
        }
      ]
    },
    {
      "cell_type": "code",
      "metadata": {
        "colab": {
          "base_uri": "https://localhost:8080/",
          "height": 102
        },
        "id": "YIrEcrwl-IZr",
        "outputId": "0d47f9b3-f7bd-43ac-b8fb-430d0131d4de"
      },
      "source": [
        "img = valid_tensors_dict[7][957]\n",
        "show_image(img)\n",
        "plt.show()\n",
        "\n",
        "classifier(img.view(28*28).unsqueeze(dim=0))"
      ],
      "execution_count": null,
      "outputs": [
        {
          "output_type": "display_data",
          "data": {
            "image/png": "[encoded data removed]",
            "text/plain": [
              "<Figure size 72x72 with 1 Axes>"
            ]
          },
          "metadata": {
            "tags": [],
            "needs_background": "light"
          }
        },
        {
          "output_type": "execute_result",
          "data": {
            "text/plain": [
              "tensor([[6]])"
            ]
          },
          "metadata": {
            "tags": []
          },
          "execution_count": 84
        }
      ]
    },
    {
      "cell_type": "code",
      "metadata": {
        "id": "9oI2FvUN-Cgz"
      },
      "source": [
        ""
      ],
      "execution_count": null,
      "outputs": []
    },
    {
      "cell_type": "code",
      "metadata": {
        "id": "yNjM1Ml31_0E"
      },
      "source": [
        ""
      ],
      "execution_count": null,
      "outputs": []
    },
    {
      "cell_type": "markdown",
      "metadata": {
        "id": "181oE9ezELNy"
      },
      "source": [
        "## Improvement 2 model by introducing ReLu and three layers"
      ]
    },
    {
      "cell_type": "code",
      "metadata": {
        "colab": {
          "base_uri": "https://localhost:8080/"
        },
        "id": "8Mej-i-JELNz",
        "outputId": "c00efeef-ba67-4294-84db-e04facbdf813"
      },
      "source": [
        "def init_params(size, std=1.0): \n",
        "    return (torch.randn(size)*std).requires_grad_()\n",
        "\n",
        "w1 = init_params((28*28, 250))\n",
        "b1 = init_params(250)\n",
        "\n",
        "w2 = init_params((250, 100))\n",
        "b2 = init_params(100)\n",
        "\n",
        "w3 = init_params((100, 10))\n",
        "b3 = init_params(10)\n",
        "\n",
        "w1.shape, b1.shape, w2.shape, b2.shape, w3.shape, b3.shape"
      ],
      "execution_count": null,
      "outputs": [
        {
          "output_type": "execute_result",
          "data": {
            "text/plain": [
              "(torch.Size([784, 250]),\n",
              " torch.Size([250]),\n",
              " torch.Size([250, 100]),\n",
              " torch.Size([100]),\n",
              " torch.Size([100, 10]),\n",
              " torch.Size([10]))"
            ]
          },
          "metadata": {
            "tags": []
          },
          "execution_count": 85
        }
      ]
    },
    {
      "cell_type": "markdown",
      "metadata": {
        "id": "gB-4uG4IELN0"
      },
      "source": [
        "##### Define functions to calculate the predictions"
      ]
    },
    {
      "cell_type": "code",
      "metadata": {
        "id": "LabWssUNELN1"
      },
      "source": [
        "activ1 = nn.ReLU()\n",
        "\n",
        "def linear1(xb):\n",
        "    outputs =  xb @ w1 + b1\n",
        "    return activ1(outputs)\n",
        "\n",
        "def linear2(xb):\n",
        "    outputs =  xb @ w2 + b2\n",
        "    return activ1(outputs)\n",
        "\n",
        "def linear3(xb):\n",
        "    \"\"\"https://pytorch.org/docs/stable/nn.functional.html#torch.nn.functional.log_softmax\"\"\"\n",
        "    outputs =  xb @ w3 + b3\n",
        "    probs = torch.log_softmax(outputs, dim=1)\n",
        "    return probs\n",
        "\n",
        "def model(xb):\n",
        "    xb = linear1(xb)\n",
        "    xb = linear2(xb)\n",
        "    xb = linear3(xb)\n",
        "    return xb\n",
        "\n",
        "def classifier(xb):\n",
        "    xb = model(xb)\n",
        "    return xb.argmax(dim=1).unsqueeze(dim=1)"
      ],
      "execution_count": null,
      "outputs": []
    },
    {
      "cell_type": "code",
      "metadata": {
        "id": "a359RvWkELN1"
      },
      "source": [
        "# # Testing layer by layer\n",
        "# xb, yb = first(dl)\n",
        "# display(xb.shape, yb.shape)\n",
        "# display(linear1(xb).shape)\n",
        "# display(linear2(linear1(xb)).shape)\n",
        "# display(linear3(linear2(linear1(xb))).shape)\n",
        "# display(model(xb))\n",
        "# classifier(xb)[0:3]"
      ],
      "execution_count": null,
      "outputs": []
    },
    {
      "cell_type": "markdown",
      "metadata": {
        "id": "llDIsX4KELN2"
      },
      "source": [
        "##### Define a function to calculate the loss"
      ]
    },
    {
      "cell_type": "code",
      "metadata": {
        "id": "2c9pQh2PELN2"
      },
      "source": [
        "# Loss Function: Cross Entropy Loss a.k.a. Negative Log Likelihood Loss\n",
        "# https://pytorch.org/docs/stable/generated/torch.nn.NLLLoss.html#torch.nn.NLLLoss\n",
        "\n",
        "loss_fct = nn.NLLLoss()"
      ],
      "execution_count": null,
      "outputs": []
    },
    {
      "cell_type": "markdown",
      "metadata": {
        "id": "imw0hvlqELN3"
      },
      "source": [
        "##### Define a function to calculate the gradients"
      ]
    },
    {
      "cell_type": "code",
      "metadata": {
        "id": "jZydlieWELN3"
      },
      "source": [
        "def calc_grad(xb, yb, model):\n",
        "    preds = model(xb)\n",
        "    loss = loss_fct(preds, yb.squeeze())\n",
        "    # print(loss)\n",
        "    loss.backward()"
      ],
      "execution_count": null,
      "outputs": []
    },
    {
      "cell_type": "code",
      "metadata": {
        "id": "o7j3EL5OELN4"
      },
      "source": [
        "# # Testing function\n",
        "# xb, yb = first(dl)\n",
        "# display(xb.shape, yb.shape)\n",
        "# probs = model(xb)\n",
        "# display(probs.shape)\n",
        "# # display(yb)\n",
        "# loss_fct(probs, yb.squeeze())\n",
        "# calc_grad(xb, yb, model)"
      ],
      "execution_count": null,
      "outputs": []
    },
    {
      "cell_type": "markdown",
      "metadata": {
        "id": "hMEf8gBPELN4"
      },
      "source": [
        "##### Define a function performing one step/one epoch"
      ]
    },
    {
      "cell_type": "code",
      "metadata": {
        "id": "ythX26KAELN5"
      },
      "source": [
        "def train_epoch(model, lr, params):\n",
        "    for xb, yb in dl:\n",
        "        calc_grad(xb, yb, model)\n",
        "        for p in params:\n",
        "            p.data -= p.grad * lr\n",
        "            p.grad.zero_()"
      ],
      "execution_count": null,
      "outputs": []
    },
    {
      "cell_type": "markdown",
      "metadata": {
        "id": "_vOlDoGnELN5"
      },
      "source": [
        "##### Define a function to evaluate the validation accurary"
      ]
    },
    {
      "cell_type": "code",
      "metadata": {
        "id": "O9ntDGtqELN7"
      },
      "source": [
        "#Determines how many of the predictions are actually correct \n",
        "def batch_accuracy(xb, yb):\n",
        "    accuracy = torch.eq(xb, yb).sum() / xb.shape[0]\n",
        "    return accuracy"
      ],
      "execution_count": null,
      "outputs": []
    },
    {
      "cell_type": "code",
      "metadata": {
        "id": "KkpHxR5jELN8"
      },
      "source": [
        "# preds.unsqueeze(dim=1)"
      ],
      "execution_count": null,
      "outputs": []
    },
    {
      "cell_type": "code",
      "metadata": {
        "id": "9iFwVrglELN8"
      },
      "source": [
        "#Collects the accuracy from each element in the dataloader and displays it\n",
        "def validate_epoch(model):\n",
        "    accs = [batch_accuracy(model(xb), yb) for xb, yb in valid_dl]\n",
        "    return round(torch.stack(accs).mean().item(), 4)"
      ],
      "execution_count": null,
      "outputs": []
    },
    {
      "cell_type": "markdown",
      "metadata": {
        "id": "Co3xbdagELN9"
      },
      "source": [
        "#### Bringing it all together and run training loop"
      ]
    },
    {
      "cell_type": "markdown",
      "metadata": {
        "id": "5Wt7YYg5ELN9"
      },
      "source": [
        "Create a function to run `n` epochs and display results."
      ]
    },
    {
      "cell_type": "code",
      "metadata": {
        "id": "BjnqFRyBELN9"
      },
      "source": [
        "from math import log10\n",
        "\n",
        "def run_n_epochs(model, lr, params, n_epochs):\n",
        "    trigger = 10**(int(log10(n_epochs))-1)\n",
        "    cols = 10\n",
        "    starting_i = metric_results['epochs'][-1] + 1\n",
        "    for i in range(starting_i, starting_i + n_epochs):\n",
        "        train_epoch(model, lr, params)\n",
        "        if i%trigger == 0:\n",
        "            v = validate_epoch(classifier)\n",
        "\n",
        "            metric_results['epochs'].append(i)\n",
        "            metric_results['values'].append(v)\n",
        "            \n",
        "            end_str = '\\n' if i//trigger%cols == 0 else ' ' \n",
        "            print(f\"{i:3d}:{v:1.4f}\", end=end_str)\n",
        "    print(f\"\\nLast:{v:1.4f}\")\n",
        "    fig, ax = plt.subplots(1, 1, figsize=(12,4))\n",
        "    ax.scatter(metric_results['epochs'], metric_results['values'])\n",
        "    return metric_results"
      ],
      "execution_count": null,
      "outputs": []
    },
    {
      "cell_type": "markdown",
      "metadata": {
        "id": "MzeqRUTNELN-"
      },
      "source": [
        "Shuffle data, initalize parameters, run one epoch"
      ]
    },
    {
      "cell_type": "code",
      "metadata": {
        "colab": {
          "base_uri": "https://localhost:8080/"
        },
        "id": "38xKDG2fELN-",
        "outputId": "2f12d22f-8e6d-4b77-a1e4-9b58ed679057"
      },
      "source": [
        "shuffle(dset)\n",
        "dl = DataLoader(dset, batch_size=256)\n",
        "valid_dl = DataLoader(valid_dset, batch_size=5)\n",
        "\n",
        "w1 = init_params((28*28, 250))\n",
        "b1 = init_params(250)\n",
        "w2 = init_params((250, 100))\n",
        "b2 = init_params(100)\n",
        "w3 = init_params((100, 10))\n",
        "b3 = init_params(10)\n",
        "\n",
        "lr = 1\n",
        "params = w1, b1, w2, b2\n",
        "\n",
        "metric_results = {}\n",
        "metric_results['epochs'] = [0]\n",
        "metric_results['values'] = [0]\n",
        "\n",
        "train_epoch(model, lr, params)\n",
        "validate_epoch(classifier)"
      ],
      "execution_count": null,
      "outputs": [
        {
          "output_type": "execute_result",
          "data": {
            "text/plain": [
              "0.1715"
            ]
          },
          "metadata": {
            "tags": []
          },
          "execution_count": 101
        }
      ]
    },
    {
      "cell_type": "code",
      "metadata": {
        "colab": {
          "base_uri": "https://localhost:8080/",
          "height": 335
        },
        "id": "7vb3sexJELN_",
        "outputId": "72d11d03-e2c5-4a14-e4c8-1f5b38df72dd"
      },
      "source": [
        "metric_results = run_n_epochs(model, lr, params, 20)"
      ],
      "execution_count": null,
      "outputs": [
        {
          "output_type": "stream",
          "text": [
            "  1:0.2276   2:0.2832   3:0.3244   4:0.3568   5:0.3254   6:0.3149   7:0.3567   8:0.3574   9:0.3676  10:0.4024\n",
            " 11:0.4509  12:0.4989  13:0.5015  14:0.5074  15:0.4996  16:0.5121  17:0.5176  18:0.5187  19:0.5309  20:0.5324\n",
            "\n",
            "Last:0.5324\n"
          ],
          "name": "stdout"
        },
        {
          "output_type": "display_data",
          "data": {
            "image/png": "[encoded data removed]",
            "text/plain": [
              "<Figure size 864x288 with 1 Axes>"
            ]
          },
          "metadata": {
            "tags": [],
            "needs_background": "light"
          }
        }
      ]
    },
    {
      "cell_type": "code",
      "metadata": {
        "colab": {
          "base_uri": "https://localhost:8080/",
          "height": 335
        },
        "id": "ViuA51I9ELN_",
        "outputId": "b437bc44-6a4b-489f-b41b-4a8dc4c98830"
      },
      "source": [
        "metric_results = run_n_epochs(model, lr, params, 20)"
      ],
      "execution_count": null,
      "outputs": [
        {
          "output_type": "stream",
          "text": [
            " 21:0.5272  22:0.5360  23:0.5329  24:0.5437  25:0.5414  26:0.5428  27:0.5543  28:0.5433  29:0.5515  30:0.5560\n",
            " 31:0.5479  32:0.5541  33:0.5592  34:0.5553  35:0.5619  36:0.5430  37:0.5514  38:0.5442  39:0.5564  40:0.5459\n",
            "\n",
            "Last:0.5459\n"
          ],
          "name": "stdout"
        },
        {
          "output_type": "display_data",
          "data": {
            "image/png": "[encoded data removed]",
            "text/plain": [
              "<Figure size 864x288 with 1 Axes>"
            ]
          },
          "metadata": {
            "tags": [],
            "needs_background": "light"
          }
        }
      ]
    },
    {
      "cell_type": "code",
      "metadata": {
        "colab": {
          "base_uri": "https://localhost:8080/",
          "height": 335
        },
        "id": "Zqd0m-XGGLk4",
        "outputId": "1fe3e3bc-38ff-4bba-f841-dd961cd5d2f3"
      },
      "source": [
        "metric_results = run_n_epochs(model, lr, params, 20)"
      ],
      "execution_count": null,
      "outputs": [
        {
          "output_type": "stream",
          "text": [
            " 41:0.5586  42:0.5519  43:0.5216  44:0.5164  45:0.5195  46:0.4913  47:0.4871  48:0.5492  49:0.5353  50:0.5628\n",
            " 51:0.5671  52:0.5516  53:0.5569  54:0.4904  55:0.5384  56:0.5800  57:0.5704  58:0.6012  59:0.5762  60:0.5871\n",
            "\n",
            "Last:0.5871\n"
          ],
          "name": "stdout"
        },
        {
          "output_type": "display_data",
          "data": {
            "image/png": "[encoded data removed]",
            "text/plain": [
              "<Figure size 864x288 with 1 Axes>"
            ]
          },
          "metadata": {
            "tags": [],
            "needs_background": "light"
          }
        }
      ]
    },
    {
      "cell_type": "code",
      "metadata": {
        "colab": {
          "base_uri": "https://localhost:8080/",
          "height": 335
        },
        "id": "IY3B6_N0GLeG",
        "outputId": "0e920fb2-d9bb-4e34-ffff-1e050412c86c"
      },
      "source": [
        "metric_results = run_n_epochs(model, lr/2, params, 20)"
      ],
      "execution_count": null,
      "outputs": [
        {
          "output_type": "stream",
          "text": [
            " 61:0.6089  62:0.6182  63:0.6263  64:0.6305  65:0.6213  66:0.6446  67:0.6432  68:0.6325  69:0.6432  70:0.6148\n",
            " 71:0.6098  72:0.5991  73:0.6333  74:0.6351  75:0.6911  76:0.7133  77:0.7194  78:0.7312  79:0.7296  80:0.7357\n",
            "\n",
            "Last:0.7357\n"
          ],
          "name": "stdout"
        },
        {
          "output_type": "display_data",
          "data": {
            "image/png": "[encoded data removed]",
            "text/plain": [
              "<Figure size 864x288 with 1 Axes>"
            ]
          },
          "metadata": {
            "tags": [],
            "needs_background": "light"
          }
        }
      ]
    },
    {
      "cell_type": "code",
      "metadata": {
        "colab": {
          "base_uri": "https://localhost:8080/",
          "height": 335
        },
        "id": "aerSw38SGLaR",
        "outputId": "4e43012b-e1bc-4f0f-f30c-00b57c37c5a3"
      },
      "source": [
        "metric_results = run_n_epochs(model, lr/2, params, 20)"
      ],
      "execution_count": null,
      "outputs": [
        {
          "output_type": "stream",
          "text": [
            " 81:0.7370  82:0.7403  83:0.6987  84:0.7503  85:0.7467  86:0.7501  87:0.7526  88:0.7513  89:0.7524  90:0.7538\n",
            " 91:0.7560  92:0.7547  93:0.7527  94:0.7559  95:0.7865  96:0.7597  97:0.7558  98:0.7609  99:0.7943 100:0.7590\n",
            "\n",
            "Last:0.7590\n"
          ],
          "name": "stdout"
        },
        {
          "output_type": "display_data",
          "data": {
            "image/png": "[encoded data removed]",
            "text/plain": [
              "<Figure size 864x288 with 1 Axes>"
            ]
          },
          "metadata": {
            "tags": [],
            "needs_background": "light"
          }
        }
      ]
    },
    {
      "cell_type": "code",
      "metadata": {
        "colab": {
          "base_uri": "https://localhost:8080/",
          "height": 335
        },
        "id": "0VtUybcaGjwd",
        "outputId": "74be9e5d-2a74-4408-aec4-009f1215eedc"
      },
      "source": [
        "metric_results = run_n_epochs(model, lr/2, params, 20)"
      ],
      "execution_count": null,
      "outputs": [
        {
          "output_type": "stream",
          "text": [
            "101:0.7948 102:0.7931 103:0.7600 104:0.7602 105:0.7949 106:0.7626 107:0.7977 108:0.7944 109:0.8005 110:0.8010\n",
            "111:0.7981 112:0.7999 113:0.8004 114:0.8030 115:0.8012 116:0.8041 117:0.7997 118:0.8059 119:0.8015 120:0.8028\n",
            "\n",
            "Last:0.8028\n"
          ],
          "name": "stdout"
        },
        {
          "output_type": "display_data",
          "data": {
            "image/png": "[encoded data removed]",
            "text/plain": [
              "<Figure size 864x288 with 1 Axes>"
            ]
          },
          "metadata": {
            "tags": [],
            "needs_background": "light"
          }
        }
      ]
    },
    {
      "cell_type": "code",
      "metadata": {
        "colab": {
          "base_uri": "https://localhost:8080/",
          "height": 335
        },
        "id": "EEQmMBddGjs_",
        "outputId": "f539b209-8a28-4c9a-c1f3-d2b6cccd36b8"
      },
      "source": [
        "metric_results = run_n_epochs(model, lr/2, params, 20)"
      ],
      "execution_count": null,
      "outputs": [
        {
          "output_type": "stream",
          "text": [
            "121:0.8034 122:0.7992 123:0.7978 124:0.7994 125:0.7985 126:0.7985 127:0.8034 128:0.7997 129:0.8009 130:0.7987\n",
            "131:0.8030 132:0.8062 133:0.8066 134:0.8037 135:0.8062 136:0.8064 137:0.8078 138:0.8110 139:0.8130 140:0.8088\n",
            "\n",
            "Last:0.8088\n"
          ],
          "name": "stdout"
        },
        {
          "output_type": "display_data",
          "data": {
            "image/png": "[encoded data removed]",
            "text/plain": [
              "<Figure size 864x288 with 1 Axes>"
            ]
          },
          "metadata": {
            "tags": [],
            "needs_background": "light"
          }
        }
      ]
    },
    {
      "cell_type": "code",
      "metadata": {
        "colab": {
          "base_uri": "https://localhost:8080/",
          "height": 335
        },
        "id": "WjRUzdZPGjps",
        "outputId": "2aa1f435-dca4-4e61-e795-fb15aa591b10"
      },
      "source": [
        "metric_results = run_n_epochs(model, lr/4, params, 20)"
      ],
      "execution_count": null,
      "outputs": [
        {
          "output_type": "stream",
          "text": [
            "141:0.8263 142:0.8284 143:0.8257 144:0.8282 145:0.8311 146:0.8322 147:0.8347 148:0.8356 149:0.8301 150:0.8360\n",
            "151:0.8313 152:0.8316 153:0.8335 154:0.8317 155:0.8336 156:0.8336 157:0.8332 158:0.8333 159:0.8366 160:0.8351\n",
            "\n",
            "Last:0.8351\n"
          ],
          "name": "stdout"
        },
        {
          "output_type": "display_data",
          "data": {
            "image/png": "[encoded data removed]",
            "text/plain": [
              "<Figure size 864x288 with 1 Axes>"
            ]
          },
          "metadata": {
            "tags": [],
            "needs_background": "light"
          }
        }
      ]
    },
    {
      "cell_type": "code",
      "metadata": {
        "colab": {
          "base_uri": "https://localhost:8080/",
          "height": 388
        },
        "id": "yM_jEbbAGje0",
        "outputId": "d706450d-6070-4e3f-f345-3d3b7e2cfa8a"
      },
      "source": [
        "metric_results = run_n_epochs(model, lr/4, params, 50)"
      ],
      "execution_count": null,
      "outputs": [
        {
          "output_type": "stream",
          "text": [
            "161:0.8335 162:0.8331 163:0.8353 164:0.8361 165:0.8382 166:0.8358 167:0.8382 168:0.8375 169:0.8363 170:0.8386\n",
            "171:0.8390 172:0.8362 173:0.8379 174:0.8383 175:0.8376 176:0.8411 177:0.8372 178:0.8431 179:0.8415 180:0.8420\n",
            "181:0.8412 182:0.8429 183:0.8431 184:0.8429 185:0.8406 186:0.8441 187:0.8421 188:0.8429 189:0.8444 190:0.8453\n",
            "191:0.8430 192:0.8460 193:0.8458 194:0.8456 195:0.8470 196:0.8455 197:0.8453 198:0.8456 199:0.8463 200:0.8462\n",
            "201:0.8457 202:0.8466 203:0.8452 204:0.8441 205:0.8470 206:0.8457 207:0.8427 208:0.8449 209:0.8466 210:0.8455\n",
            "\n",
            "Last:0.8455\n"
          ],
          "name": "stdout"
        },
        {
          "output_type": "display_data",
          "data": {
            "image/png": "[encoded data removed]",
            "text/plain": [
              "<Figure size 864x288 with 1 Axes>"
            ]
          },
          "metadata": {
            "tags": [],
            "needs_background": "light"
          }
        }
      ]
    },
    {
      "cell_type": "code",
      "metadata": {
        "colab": {
          "base_uri": "https://localhost:8080/",
          "height": 318
        },
        "id": "RENoPJuzIkHk",
        "outputId": "08ec84c9-9a0f-4c1a-b42f-651e66d1e254"
      },
      "source": [
        "metric_results = run_n_epochs(model, lr/8, params, 100)"
      ],
      "execution_count": null,
      "outputs": [
        {
          "output_type": "stream",
          "text": [
            "220:0.8524 230:0.8517 240:0.8533 250:0.8545 260:0.8544 270:0.8550 280:0.8556 290:0.8554 300:0.8559\n",
            "310:0.8549 \n",
            "Last:0.8549\n"
          ],
          "name": "stdout"
        },
        {
          "output_type": "display_data",
          "data": {
            "image/png": "[encoded data removed]",
            "text/plain": [
              "<Figure size 864x288 with 1 Axes>"
            ]
          },
          "metadata": {
            "tags": [],
            "needs_background": "light"
          }
        }
      ]
    },
    {
      "cell_type": "code",
      "metadata": {
        "colab": {
          "base_uri": "https://localhost:8080/",
          "height": 388
        },
        "id": "GpgXc1ZFIj9u",
        "outputId": "34e25361-c74f-470b-eba8-e61160fe1e0e"
      },
      "source": [
        "metric_results = run_n_epochs(model, lr/16, params, 500)"
      ],
      "execution_count": null,
      "outputs": [
        {
          "output_type": "stream",
          "text": [
            "320:0.8572 330:0.8573 340:0.8579 350:0.8578 360:0.8578 370:0.8584 380:0.8584 390:0.8586 400:0.8590\n",
            "410:0.8583 420:0.8584 430:0.8584 440:0.8585 450:0.8595 460:0.8596 470:0.8593 480:0.8596 490:0.8600 500:0.8603\n",
            "510:0.8605 520:0.8602 530:0.8604 540:0.8607 550:0.8605 560:0.8608 570:0.8601 580:0.8607 590:0.8600 600:0.8604\n",
            "610:0.8602 620:0.8604 630:0.8613 640:0.8614 650:0.8612 660:0.8613 670:0.8620 680:0.8618 690:0.8614 700:0.8614\n",
            "710:0.8613 720:0.8613 730:0.8617 740:0.8614 750:0.8616 760:0.8618 770:0.8614 780:0.8620 790:0.8619 800:0.8620\n",
            "810:0.8621 \n",
            "Last:0.8621\n"
          ],
          "name": "stdout"
        },
        {
          "output_type": "display_data",
          "data": {
            "image/png": "[encoded data removed]",
            "text/plain": [
              "<Figure size 864x288 with 1 Axes>"
            ]
          },
          "metadata": {
            "tags": [],
            "needs_background": "light"
          }
        }
      ]
    }
  ]
}