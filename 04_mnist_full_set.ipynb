{
  "nbformat": 4,
  "nbformat_minor": 0,
  "metadata": {
    "jupytext": {
      "split_at_heading": true
    },
    "kernelspec": {
      "display_name": "Python 3",
      "language": "python",
      "name": "python3"
    },
    "colab": {
      "name": "04_mnist_full_set.ipynb",
      "provenance": [],
      "collapsed_sections": [
        "V4X8BwLDApAB",
        "OGePHgxcApAE",
        "wwKvqM1OApAF",
        "FE5rnwLDApAF",
        "gS7TnDJGApAG"
      ],
      "toc_visible": true,
      "include_colab_link": true
    },
    "accelerator": "GPU"
  },
  "cells": [
    {
      "cell_type": "markdown",
      "metadata": {
        "id": "view-in-github",
        "colab_type": "text"
      },
      "source": [
        "<a href=\"https://colab.research.google.com/github/vtecftwy/fastbook/blob/master/04_mnist_full_set.ipynb\" target=\"_parent\"><img src=\"https://colab.research.google.com/assets/colab-badge.svg\" alt=\"Open In Colab\"/></a>"
      ]
    },
    {
      "cell_type": "code",
      "metadata": {
        "id": "ismMd5FkAo-6",
        "colab": {
          "base_uri": "https://localhost:8080/"
        },
        "outputId": "8a0a0266-95ab-49f3-c172-046c0c0ebb2a"
      },
      "source": [
        "!pip install -Uqq fastbook\n",
        "import fastbook\n",
        "fastbook.setup_book()"
      ],
      "execution_count": 1,
      "outputs": [
        {
          "output_type": "stream",
          "text": [
            "\u001b[K     |████████████████████████████████| 727kB 11.1MB/s \n",
            "\u001b[K     |████████████████████████████████| 1.2MB 23.8MB/s \n",
            "\u001b[K     |████████████████████████████████| 204kB 36.6MB/s \n",
            "\u001b[K     |████████████████████████████████| 51kB 6.4MB/s \n",
            "\u001b[K     |████████████████████████████████| 61kB 7.7MB/s \n",
            "\u001b[K     |████████████████████████████████| 51kB 7.0MB/s \n",
            "\u001b[?25hMounted at /content/gdrive\n"
          ],
          "name": "stdout"
        }
      ]
    },
    {
      "cell_type": "code",
      "metadata": {
        "id": "d984jeb0Ao-_"
      },
      "source": [
        "from fastai.vision.all import *\n",
        "from fastbook import *\n",
        "\n",
        "matplotlib.rc('image', cmap='Greys')"
      ],
      "execution_count": 2,
      "outputs": []
    },
    {
      "cell_type": "markdown",
      "metadata": {
        "id": "2oVrDUE_nzmu"
      },
      "source": [
        "# Rerun Chapter 4 with the full MNIST dataset"
      ]
    },
    {
      "cell_type": "markdown",
      "metadata": {
        "id": "zQ-L91uh_cX0"
      },
      "source": [
        "## Load full MNIST dataset"
      ]
    },
    {
      "cell_type": "markdown",
      "metadata": {
        "id": "ECAC3RfxAo_D"
      },
      "source": [
        "We are try to rerun the two classifiers built before to classify images as a 3 or a 7, but using the full dataset with 10 digits. So let's download the full MNIST datasets:"
      ]
    },
    {
      "cell_type": "code",
      "metadata": {
        "id": "z51wexCkAo_D",
        "colab": {
          "base_uri": "https://localhost:8080/",
          "height": 17
        },
        "outputId": "d8dbc425-2558-4abc-caac-52111d3f0be3"
      },
      "source": [
        "path = untar_data(URLs.MNIST)    # Full dataset (0s to 9s)"
      ],
      "execution_count": 4,
      "outputs": [
        {
          "output_type": "display_data",
          "data": {
            "text/html": [
              ""
            ],
            "text/plain": [
              "<IPython.core.display.HTML object>"
            ]
          },
          "metadata": {
            "tags": []
          }
        }
      ]
    },
    {
      "cell_type": "code",
      "metadata": {
        "id": "8cb6hPXoAo_D"
      },
      "source": [
        "Path.BASE_PATH = path"
      ],
      "execution_count": 5,
      "outputs": []
    },
    {
      "cell_type": "markdown",
      "metadata": {
        "id": "7q8C99uoAo_D"
      },
      "source": [
        "We can see what's in this directory by using `ls`, a method added by fastai. This method returns an object of a special fastai class called `L`, which has all the same functionality of Python's built-in `list`, plus a lot more. One of its handy features is that, when printed, it displays the count of items, before listing the items themselves (if there are more than 10 items, it just shows the first few):"
      ]
    },
    {
      "cell_type": "code",
      "metadata": {
        "id": "1eHnXszSAo_E",
        "colab": {
          "base_uri": "https://localhost:8080/"
        },
        "outputId": "f71fbb83-2bed-4cca-aa54-58ad869a1e48"
      },
      "source": [
        "path.ls()"
      ],
      "execution_count": 6,
      "outputs": [
        {
          "output_type": "execute_result",
          "data": {
            "text/plain": [
              "(#2) [Path('testing'),Path('training')]"
            ]
          },
          "metadata": {
            "tags": []
          },
          "execution_count": 6
        }
      ]
    },
    {
      "cell_type": "markdown",
      "metadata": {
        "id": "9Mdy8RNkAo_F"
      },
      "source": [
        "The MNIST dataset follows a common layout for machine learning datasets: separate folders for the training set and the validation set (and/or test set). Note, though, that the names of both image folders have changed: `train` into `training` and `valid` into `testing`. Keep this in mind when you look for images in the code below.\n",
        "\n",
        "Let's see what's inside the training set:"
      ]
    },
    {
      "cell_type": "code",
      "metadata": {
        "id": "7N8WAogvAo_G",
        "colab": {
          "base_uri": "https://localhost:8080/"
        },
        "outputId": "2a203803-77ac-48c2-9043-14d19b144fc2"
      },
      "source": [
        "(path/'training').ls()"
      ],
      "execution_count": 7,
      "outputs": [
        {
          "output_type": "execute_result",
          "data": {
            "text/plain": [
              "(#10) [Path('training/3'),Path('training/5'),Path('training/4'),Path('training/7'),Path('training/6'),Path('training/2'),Path('training/1'),Path('training/9'),Path('training/0'),Path('training/8')]"
            ]
          },
          "metadata": {
            "tags": []
          },
          "execution_count": 7
        }
      ]
    },
    {
      "cell_type": "markdown",
      "metadata": {
        "id": "2pVC0CapAo_H"
      },
      "source": [
        "There's a folder for each digit from 0s to 9s. Let's take a look in one of these folders (using `sorted` to ensure we all get the same order of files). To do so, it is convenient to use a `dict`, indexed by the digit (0 -> 9). It prevents us from creating 10 different variables and from writing 10 times tvery similar code. We also could use a list of lists.\n",
        "``` python\n",
        "    paths_dict = {0: [list of the paths to images of 0],\n",
        "                  1: [list of the paths to images of 1],\n",
        "\n",
        "                  i: [list of the paths to images of i],\n",
        "\n",
        "                  9: [list of the paths to images of 9],\n",
        "                 }\n",
        "```"
      ]
    },
    {
      "cell_type": "code",
      "metadata": {
        "id": "NPjkeRxyAo_H",
        "colab": {
          "base_uri": "https://localhost:8080/"
        },
        "outputId": "7f654731-d7d3-4010-d487-9cdf9c9d5955"
      },
      "source": [
        "paths_dict = {}         # Create an empty dictionary to hold the paths list for each digit\n",
        "for i in range(10):\n",
        "    paths_dict[i] = (path/'training'/f\"{i}\").ls().sorted()   # add the list of path for digit i to the dict\n",
        "\n",
        "paths_dict"
      ],
      "execution_count": 8,
      "outputs": [
        {
          "output_type": "execute_result",
          "data": {
            "text/plain": [
              "{0: (#5923) [Path('training/0/1.png'),Path('training/0/1000.png'),Path('training/0/10005.png'),Path('training/0/10010.png'),Path('training/0/10022.png'),Path('training/0/10025.png'),Path('training/0/10026.png'),Path('training/0/10045.png'),Path('training/0/10069.png'),Path('training/0/10071.png')...],\n",
              " 1: (#6742) [Path('training/1/10006.png'),Path('training/1/10007.png'),Path('training/1/1002.png'),Path('training/1/10020.png'),Path('training/1/10027.png'),Path('training/1/1003.png'),Path('training/1/10040.png'),Path('training/1/10048.png'),Path('training/1/10058.png'),Path('training/1/10067.png')...],\n",
              " 2: (#5958) [Path('training/2/10009.png'),Path('training/2/10016.png'),Path('training/2/10024.png'),Path('training/2/10029.png'),Path('training/2/10072.png'),Path('training/2/10073.png'),Path('training/2/10075.png'),Path('training/2/10078.png'),Path('training/2/10081.png'),Path('training/2/10082.png')...],\n",
              " 3: (#6131) [Path('training/3/10.png'),Path('training/3/10000.png'),Path('training/3/10011.png'),Path('training/3/10031.png'),Path('training/3/10034.png'),Path('training/3/10042.png'),Path('training/3/10052.png'),Path('training/3/1007.png'),Path('training/3/10074.png'),Path('training/3/10091.png')...],\n",
              " 4: (#5842) [Path('training/4/10013.png'),Path('training/4/10018.png'),Path('training/4/10033.png'),Path('training/4/1004.png'),Path('training/4/1006.png'),Path('training/4/10060.png'),Path('training/4/1008.png'),Path('training/4/10103.png'),Path('training/4/10104.png'),Path('training/4/10114.png')...],\n",
              " 5: (#5421) [Path('training/5/0.png'),Path('training/5/100.png'),Path('training/5/10008.png'),Path('training/5/10015.png'),Path('training/5/10030.png'),Path('training/5/10035.png'),Path('training/5/10049.png'),Path('training/5/10051.png'),Path('training/5/10056.png'),Path('training/5/10062.png')...],\n",
              " 6: (#5918) [Path('training/6/10017.png'),Path('training/6/10032.png'),Path('training/6/10036.png'),Path('training/6/10037.png'),Path('training/6/10044.png'),Path('training/6/10053.png'),Path('training/6/10076.png'),Path('training/6/10089.png'),Path('training/6/10101.png'),Path('training/6/10108.png')...],\n",
              " 7: (#6265) [Path('training/7/10002.png'),Path('training/7/1001.png'),Path('training/7/10014.png'),Path('training/7/10019.png'),Path('training/7/10039.png'),Path('training/7/10046.png'),Path('training/7/10050.png'),Path('training/7/10063.png'),Path('training/7/10077.png'),Path('training/7/10086.png')...],\n",
              " 8: (#5851) [Path('training/8/10001.png'),Path('training/8/10012.png'),Path('training/8/10021.png'),Path('training/8/10041.png'),Path('training/8/10054.png'),Path('training/8/10057.png'),Path('training/8/10061.png'),Path('training/8/10064.png'),Path('training/8/10066.png'),Path('training/8/10079.png')...],\n",
              " 9: (#5949) [Path('training/9/10003.png'),Path('training/9/10004.png'),Path('training/9/10023.png'),Path('training/9/10028.png'),Path('training/9/10038.png'),Path('training/9/10043.png'),Path('training/9/10047.png'),Path('training/9/1005.png'),Path('training/9/10055.png'),Path('training/9/10059.png')...]}"
            ]
          },
          "metadata": {
            "tags": []
          },
          "execution_count": 8
        }
      ]
    },
    {
      "cell_type": "markdown",
      "metadata": {
        "id": "312NwVltAo_I"
      },
      "source": [
        "Let’s take a look at one image for each of the digits:"
      ]
    },
    {
      "cell_type": "code",
      "metadata": {
        "id": "bjWBvBVMAo_I",
        "colab": {
          "base_uri": "https://localhost:8080/",
          "height": 297
        },
        "outputId": "81618cc7-47fd-4f20-ea9b-412495a8802b"
      },
      "source": [
        "for i in range(10):\n",
        "    img_paths = paths_dict[i][3]\n",
        "    img = Image.open(img_paths)\n",
        "    display(img)"
      ],
      "execution_count": 9,
      "outputs": [
        {
          "output_type": "display_data",
          "data": {
            "image/png": "[encoded data removed]",
            "text/plain": [
              "<PIL.PngImagePlugin.PngImageFile image mode=L size=28x28 at 0x7F68ADE18E10>"
            ]
          },
          "metadata": {
            "tags": []
          }
        },
        {
          "output_type": "display_data",
          "data": {
            "image/png": "[encoded data removed]",
            "text/plain": [
              "<PIL.PngImagePlugin.PngImageFile image mode=L size=28x28 at 0x7F68ADD90390>"
            ]
          },
          "metadata": {
            "tags": []
          }
        },
        {
          "output_type": "display_data",
          "data": {
            "image/png": "[encoded data removed]",
            "text/plain": [
              "<PIL.PngImagePlugin.PngImageFile image mode=L size=28x28 at 0x7F68ADD836D0>"
            ]
          },
          "metadata": {
            "tags": []
          }
        },
        {
          "output_type": "display_data",
          "data": {
            "image/png": "[encoded data removed]",
            "text/plain": [
              "<PIL.PngImagePlugin.PngImageFile image mode=L size=28x28 at 0x7F68ADD90710>"
            ]
          },
          "metadata": {
            "tags": []
          }
        },
        {
          "output_type": "display_data",
          "data": {
            "image/png": "[encoded data removed]",
            "text/plain": [
              "<PIL.PngImagePlugin.PngImageFile image mode=L size=28x28 at 0x7F68ADD90790>"
            ]
          },
          "metadata": {
            "tags": []
          }
        },
        {
          "output_type": "display_data",
          "data": {
            "image/png": "[encoded data removed]",
            "text/plain": [
              "<PIL.PngImagePlugin.PngImageFile image mode=L size=28x28 at 0x7F68ADD908D0>"
            ]
          },
          "metadata": {
            "tags": []
          }
        },
        {
          "output_type": "display_data",
          "data": {
            "image/png": "[encoded data removed]",
            "text/plain": [
              "<PIL.PngImagePlugin.PngImageFile image mode=L size=28x28 at 0x7F68ADD90950>"
            ]
          },
          "metadata": {
            "tags": []
          }
        },
        {
          "output_type": "display_data",
          "data": {
            "image/png": "[encoded data removed]",
            "text/plain": [
              "<PIL.PngImagePlugin.PngImageFile image mode=L size=28x28 at 0x7F68ADD90A90>"
            ]
          },
          "metadata": {
            "tags": []
          }
        },
        {
          "output_type": "display_data",
          "data": {
            "image/png": "[encoded data removed]",
            "text/plain": [
              "<PIL.PngImagePlugin.PngImageFile image mode=L size=28x28 at 0x7F68ADD90BD0>"
            ]
          },
          "metadata": {
            "tags": []
          }
        },
        {
          "output_type": "display_data",
          "data": {
            "image/png": "[encoded data removed]",
            "text/plain": [
              "<PIL.PngImagePlugin.PngImageFile image mode=L size=28x28 at 0x7F68ADD90D10>"
            ]
          },
          "metadata": {
            "tags": []
          }
        }
      ]
    },
    {
      "cell_type": "markdown",
      "metadata": {
        "id": "enZri5pkAo_J"
      },
      "source": [
        "We can store the image in a tensor and slice it to pick some part of the image. We then use a Pandas DataFrame to color-code the values using a gradient, which shows us clearly how the image is created from the pixel values:"
      ]
    },
    {
      "cell_type": "markdown",
      "metadata": {
        "id": "zbju2SOjAo_K"
      },
      "source": [
        "## Baseline model: Pixel Similarity"
      ]
    },
    {
      "cell_type": "markdown",
      "metadata": {
        "id": "nZ0g9n7sAo_K"
      },
      "source": [
        "So, here is a first idea: how about we find the average pixel value for every pixel for each digit (0 to 9). Then, to classify an image as one digit or the other, we see which of these ideal digits the image is most similar to. This certainly seems like it should be better than nothing, so it will make a good baseline."
      ]
    },
    {
      "cell_type": "markdown",
      "metadata": {
        "id": "3Nu_zxJnAo_L"
      },
      "source": [
        "Step one for our simple model is to get the average of pixel values for the groups of images for each pixel.\n",
        "\n",
        "Let's create a tensor containing all of the images representing a single digit, stacked together. We use the same list comnprehension as in `04_mnist_basic`. But since we have 10 groups, we again use a dictionary indexed with the digit 0 to 9, to hold the stacked images, instead of 10 variables. You also can use a list of tensors here. There are also other methods that may be faster."
      ]
    },
    {
      "cell_type": "code",
      "metadata": {
        "id": "K-QBaP57Ao_L"
      },
      "source": [
        "tensors_dict = {}\n",
        "for i in range(10):\n",
        "    tensors_dict[i] = [tensor(Image.open(o)) for o in paths_dict[i]]"
      ],
      "execution_count": 10,
      "outputs": []
    },
    {
      "cell_type": "code",
      "metadata": {
        "colab": {
          "base_uri": "https://localhost:8080/",
          "height": 210
        },
        "id": "3lr9h45QANvp",
        "outputId": "bcc788f8-bd7e-4a2e-e8b2-e36d06c46fc2"
      },
      "source": [
        "# Show the number of images for each digit\n",
        "print(f'Total number of images: {sum([len(v) for k, v in tensors_dict.items()]):,d}')\n",
        "display([f\"{len(v):,d} images for {k}\" for k, v in tensors_dict.items()])\n"
      ],
      "execution_count": 11,
      "outputs": [
        {
          "output_type": "stream",
          "text": [
            "Total number of images: 60,000\n"
          ],
          "name": "stdout"
        },
        {
          "output_type": "display_data",
          "data": {
            "text/plain": [
              "['5,923 images for 0',\n",
              " '6,742 images for 1',\n",
              " '5,958 images for 2',\n",
              " '6,131 images for 3',\n",
              " '5,842 images for 4',\n",
              " '5,421 images for 5',\n",
              " '5,918 images for 6',\n",
              " '6,265 images for 7',\n",
              " '5,851 images for 8',\n",
              " '5,949 images for 9']"
            ]
          },
          "metadata": {
            "tags": []
          }
        }
      ]
    },
    {
      "cell_type": "markdown",
      "metadata": {
        "id": "lLNeQOo3Ao_M"
      },
      "source": [
        "We'll also check that one of the images looks okay. Since we now have tensors (which Jupyter by default will print as values), rather than PIL images (which Jupyter by default will display as images), we need to use fastai's `show_image` function to display it:"
      ]
    },
    {
      "cell_type": "code",
      "metadata": {
        "id": "fhPxcHn1Ao_M",
        "colab": {
          "base_uri": "https://localhost:8080/",
          "height": 153
        },
        "outputId": "9499a274-3721-49f8-e6cb-a8d7be35632d"
      },
      "source": [
        "show_image(tensors_dict[2][1])\n",
        "show_image(tensors_dict[9][1]);"
      ],
      "execution_count": 12,
      "outputs": [
        {
          "output_type": "display_data",
          "data": {
            "image/png": "[encoded data removed]",
            "text/plain": [
              "<Figure size 72x72 with 1 Axes>"
            ]
          },
          "metadata": {
            "tags": [],
            "needs_background": "light"
          }
        },
        {
          "output_type": "display_data",
          "data": {
            "image/png": "[encoded data removed]",
            "text/plain": [
              "<Figure size 72x72 with 1 Axes>"
            ]
          },
          "metadata": {
            "tags": [],
            "needs_background": "light"
          }
        }
      ]
    },
    {
      "cell_type": "markdown",
      "metadata": {
        "id": "MVISc1SpAo_N"
      },
      "source": [
        "For every pixel position, we want to compute the average over all the images of the intensity of that pixel. To do this we first combine all the images in this list into a single three-dimensional tensor. The most common way to describe such a tensor is to call it a *rank-3 tensor*. We often need to stack up individual tensors in a collection into a single tensor. Unsurprisingly, PyTorch comes with a function called `stack` that we can use for this purpose.\n",
        "\n",
        "Some operations in PyTorch, such as taking a mean, require us to *cast* our integer types to float types. Since we'll be needing this later, we'll also cast our stacked tensor to `float` now. Casting in PyTorch is as simple as typing the name of the type you wish to cast to, and treating it as a method.\n",
        "\n",
        "Generally when images are floats, the pixel values are expected to be between 0 and 1, so we will also divide by 255 here:"
      ]
    },
    {
      "cell_type": "code",
      "metadata": {
        "id": "em4pFaPTAo_N"
      },
      "source": [
        "# Calculate the stacked tensor for each of the digit and store that tensor in a dictionary index by digit\n",
        "stacked_tensors_dict = {}\n",
        "for digit, img_tensor in tensors_dict.items():\n",
        "    stacked_tensors_dict[digit] = torch.stack(img_tensor).float()/255"
      ],
      "execution_count": 13,
      "outputs": []
    },
    {
      "cell_type": "markdown",
      "metadata": {
        "id": "dvddIlsBAo_N"
      },
      "source": [
        "Perhaps the most important attribute of a tensor is its *shape*. This tells you the length of each axis. In this case, we can see that we have around 6,000 images for each digit, each image of size 28×28 pixels. There is nothing specifically about this tensor that says that the first axis is the number of images, the second is the height, and the third is the width—the semantics of a tensor are entirely up to us, and how we construct it. As far as PyTorch is concerned, it is just a bunch of numbers in memory."
      ]
    },
    {
      "cell_type": "code",
      "metadata": {
        "colab": {
          "base_uri": "https://localhost:8080/"
        },
        "id": "HR_70dP0CDmt",
        "outputId": "c76998bc-d040-4c45-91ed-e99411ea413d"
      },
      "source": [
        "print('Shapes of image tensor for each digit:')\n",
        "for digit, img_tensor in stacked_tensors_dict.items():\n",
        "    print('   ', digit, ': ', stacked_tensors_dict[digit].shape)"
      ],
      "execution_count": 14,
      "outputs": [
        {
          "output_type": "stream",
          "text": [
            "Shapes of image tensor for each digit:\n",
            "    0 :  torch.Size([5923, 28, 28])\n",
            "    1 :  torch.Size([6742, 28, 28])\n",
            "    2 :  torch.Size([5958, 28, 28])\n",
            "    3 :  torch.Size([6131, 28, 28])\n",
            "    4 :  torch.Size([5842, 28, 28])\n",
            "    5 :  torch.Size([5421, 28, 28])\n",
            "    6 :  torch.Size([5918, 28, 28])\n",
            "    7 :  torch.Size([6265, 28, 28])\n",
            "    8 :  torch.Size([5851, 28, 28])\n",
            "    9 :  torch.Size([5949, 28, 28])\n"
          ],
          "name": "stdout"
        }
      ]
    },
    {
      "cell_type": "markdown",
      "metadata": {
        "id": "eioTreEvAo_O"
      },
      "source": [
        "Finally, we can compute what the ideal digit image looks like. We calculate the mean of all the image tensors by taking the mean along dimension 0 of our stacked, rank-3 tensor. This is the dimension that indexes over all the images.\n",
        "\n",
        "In other words, for every pixel position, this will compute the average of that pixel over all images. The result will be one value for every pixel position, or a single image. Here it is:"
      ]
    },
    {
      "cell_type": "code",
      "metadata": {
        "id": "imwKFV7kAo_P",
        "colab": {
          "base_uri": "https://localhost:8080/",
          "height": 697
        },
        "outputId": "3f360288-a7a7-4901-f5c5-8537ffcfb649"
      },
      "source": [
        "means_dict = {}\n",
        "for digit, tnsr in stacked_tensors_dict.items():\n",
        "    means_dict[digit] = stacked_tensors_dict[digit].mean(0)\n",
        "    show_image(means_dict[digit])"
      ],
      "execution_count": 15,
      "outputs": [
        {
          "output_type": "display_data",
          "data": {
            "image/png": "[encoded data removed]",
            "text/plain": [
              "<Figure size 72x72 with 1 Axes>"
            ]
          },
          "metadata": {
            "tags": [],
            "needs_background": "light"
          }
        },
        {
          "output_type": "display_data",
          "data": {
            "image/png": "[encoded data removed]",
            "text/plain": [
              "<Figure size 72x72 with 1 Axes>"
            ]
          },
          "metadata": {
            "tags": [],
            "needs_background": "light"
          }
        },
        {
          "output_type": "display_data",
          "data": {
            "image/png": "[encoded data removed]",
            "text/plain": [
              "<Figure size 72x72 with 1 Axes>"
            ]
          },
          "metadata": {
            "tags": [],
            "needs_background": "light"
          }
        },
        {
          "output_type": "display_data",
          "data": {
            "image/png": "[encoded data removed]",
            "text/plain": [
              "<Figure size 72x72 with 1 Axes>"
            ]
          },
          "metadata": {
            "tags": [],
            "needs_background": "light"
          }
        },
        {
          "output_type": "display_data",
          "data": {
            "image/png": "[encoded data removed]",
            "text/plain": [
              "<Figure size 72x72 with 1 Axes>"
            ]
          },
          "metadata": {
            "tags": [],
            "needs_background": "light"
          }
        },
        {
          "output_type": "display_data",
          "data": {
            "image/png": "[encoded data removed]",
            "text/plain": [
              "<Figure size 72x72 with 1 Axes>"
            ]
          },
          "metadata": {
            "tags": [],
            "needs_background": "light"
          }
        },
        {
          "output_type": "display_data",
          "data": {
            "image/png": "[encoded data removed]",
            "text/plain": [
              "<Figure size 72x72 with 1 Axes>"
            ]
          },
          "metadata": {
            "tags": [],
            "needs_background": "light"
          }
        },
        {
          "output_type": "display_data",
          "data": {
            "image/png": "[encoded data removed]",
            "text/plain": [
              "<Figure size 72x72 with 1 Axes>"
            ]
          },
          "metadata": {
            "tags": [],
            "needs_background": "light"
          }
        },
        {
          "output_type": "display_data",
          "data": {
            "image/png": "[encoded data removed]",
            "text/plain": [
              "<Figure size 72x72 with 1 Axes>"
            ]
          },
          "metadata": {
            "tags": [],
            "needs_background": "light"
          }
        },
        {
          "output_type": "display_data",
          "data": {
            "image/png": "[encoded data removed]",
            "text/plain": [
              "<Figure size 72x72 with 1 Axes>"
            ]
          },
          "metadata": {
            "tags": [],
            "needs_background": "light"
          }
        }
      ]
    },
    {
      "cell_type": "markdown",
      "metadata": {
        "id": "hel27ng0Ao_P"
      },
      "source": [
        "According to this dataset, these are the ideal images for each of the digits"
      ]
    },
    {
      "cell_type": "markdown",
      "metadata": {
        "id": "an-Fs1vpAo_P"
      },
      "source": [
        "Let's now pick an arbitrary 3 and measure its *distance* from our \"ideal digits.\"\n",
        "\n",
        "> **Stop and Think!**: How would you calculate how similar a particular image is to each of our ideal digits? Remember to step away from this book and jot down some ideas before you move on! Research shows that recall and understanding improves dramatically when you are engaged with the learning process by solving problems, experimenting, and trying new ideas yourself"
      ]
    },
    {
      "cell_type": "markdown",
      "metadata": {
        "id": "lp5ha0ANCoSr"
      },
      "source": [
        "Here's a sample image of one digit:"
      ]
    },
    {
      "cell_type": "code",
      "metadata": {
        "id": "ICZFvZHHAo_P",
        "colab": {
          "base_uri": "https://localhost:8080/",
          "height": 85
        },
        "outputId": "3c10cb32-70d1-445d-c43e-816cdc440230"
      },
      "source": [
        "selected_digit = 3\n",
        "img = stacked_tensors_dict[selected_digit][2]\n",
        "show_image(img);"
      ],
      "execution_count": 16,
      "outputs": [
        {
          "output_type": "display_data",
          "data": {
            "image/png": "[encoded data removed]",
            "text/plain": [
              "<Figure size 72x72 with 1 Axes>"
            ]
          },
          "metadata": {
            "tags": [],
            "needs_background": "light"
          }
        }
      ]
    },
    {
      "cell_type": "markdown",
      "metadata": {
        "id": "ypkq4CqSAo_P"
      },
      "source": [
        "Let's compare again our Mean Absolute Error (MAE) and Mean Square Error (MSE)"
      ]
    },
    {
      "cell_type": "code",
      "metadata": {
        "id": "UTs8ufStAo_Q",
        "colab": {
          "base_uri": "https://localhost:8080/"
        },
        "outputId": "cb57b598-fc84-48e0-932b-468695aa66b8"
      },
      "source": [
        "dist_3_mae = (img - means_dict[3]).abs().mean()\n",
        "dist_3_mse = ((img - means_dict[3])**2).mean().sqrt()\n",
        "dist_3_mae, dist_3_mse"
      ],
      "execution_count": 17,
      "outputs": [
        {
          "output_type": "execute_result",
          "data": {
            "text/plain": [
              "(tensor(0.1100), tensor(0.1980))"
            ]
          },
          "metadata": {
            "tags": []
          },
          "execution_count": 17
        }
      ]
    },
    {
      "cell_type": "code",
      "metadata": {
        "id": "xt4MbXJ-Ao_Q",
        "colab": {
          "base_uri": "https://localhost:8080/"
        },
        "outputId": "58eaf1f0-81f1-4b95-9cbe-64cba8c6644c"
      },
      "source": [
        "dist_7_mae = (img - means_dict[7]).abs().mean()\n",
        "dist_7_mse = ((img - means_dict[7])**2).mean().sqrt()\n",
        "dist_7_mae, dist_7_mse"
      ],
      "execution_count": 18,
      "outputs": [
        {
          "output_type": "execute_result",
          "data": {
            "text/plain": [
              "(tensor(0.1541), tensor(0.2974))"
            ]
          },
          "metadata": {
            "tags": []
          },
          "execution_count": 18
        }
      ]
    },
    {
      "cell_type": "markdown",
      "metadata": {
        "id": "6quCmrdveh5n"
      },
      "source": [
        "Let's visualize what these distances mean:"
      ]
    },
    {
      "cell_type": "code",
      "metadata": {
        "colab": {
          "base_uri": "https://localhost:8080/",
          "height": 550
        },
        "id": "KXN1-_VDRT_G",
        "outputId": "78848f9f-5f2a-435c-c654-4ec866cdb7e1"
      },
      "source": [
        "digit = 4\n",
        "img = stacked_tensors_dict[digit][10]\n",
        "\n",
        "fig, axs = plt.subplots(nrows=1, ncols=11, figsize=(18,5))\n",
        "for i in range(10):\n",
        "    show_image(means_dict[i], title=f\"Mean {i}\", ax=axs[i+1])\n",
        "show_image(img, title='Image to compare', ax=axs[0])\n",
        "plt.show()\n",
        "\n",
        "print('\\nSimple Difference:')\n",
        "fig, axs = plt.subplots(nrows=1, ncols=11, figsize=(18,5))\n",
        "for i in range(10):\n",
        "    show_image((img - means_dict[i]), title=f'with {i}', ax=axs[i+1])\n",
        "show_image(img, title='Image to compare', ax=axs[0])\n",
        "plt.show()\n",
        "\n",
        "print('\\nMAE - Mean Absolute Error:')\n",
        "fig, axs = plt.subplots(nrows=1, ncols=11, figsize=(18,5))\n",
        "for i in range(10):\n",
        "    show_image((img - means_dict[i]).abs(), title=f'with {i}', ax=axs[i+1])\n",
        "show_image(img, title='Image to compare', ax=axs[0])\n",
        "plt.show()\n",
        "\n",
        "print('\\nMSE - Mean Squared Error:')\n",
        "fig, axs = plt.subplots(nrows=1, ncols=11, figsize=(18,5))\n",
        "for i in range(10):\n",
        "    show_image((img - means_dict[i]).square(), title=f'with {i}', ax=axs[i+1])\n",
        "show_image(img, title='Image to compare', ax=axs[0])\n",
        "plt.show()"
      ],
      "execution_count": 19,
      "outputs": [
        {
          "output_type": "display_data",
          "data": {
            "image/png": "[encoded data removed]",
            "text/plain": [
              "<Figure size 1296x360 with 11 Axes>"
            ]
          },
          "metadata": {
            "tags": [],
            "needs_background": "light"
          }
        },
        {
          "output_type": "stream",
          "text": [
            "\n",
            "Simple Difference:\n"
          ],
          "name": "stdout"
        },
        {
          "output_type": "display_data",
          "data": {
            "image/png": "[encoded data removed]",
            "text/plain": [
              "<Figure size 1296x360 with 11 Axes>"
            ]
          },
          "metadata": {
            "tags": [],
            "needs_background": "light"
          }
        },
        {
          "output_type": "stream",
          "text": [
            "\n",
            "MAE - Mean Absolute Error:\n"
          ],
          "name": "stdout"
        },
        {
          "output_type": "display_data",
          "data": {
            "image/png": "[encoded data removed]",
            "text/plain": [
              "<Figure size 1296x360 with 11 Axes>"
            ]
          },
          "metadata": {
            "tags": [],
            "needs_background": "light"
          }
        },
        {
          "output_type": "stream",
          "text": [
            "\n",
            "MSE - Mean Squared Error:\n"
          ],
          "name": "stdout"
        },
        {
          "output_type": "display_data",
          "data": {
            "image/png": "[encoded data removed]",
            "text/plain": [
              "<Figure size 1296x360 with 11 Axes>"
            ]
          },
          "metadata": {
            "tags": [],
            "needs_background": "light"
          }
        }
      ]
    },
    {
      "cell_type": "markdown",
      "metadata": {
        "id": "KhRFcuqwAo_Q"
      },
      "source": [
        "PyTorch already provides both of these as *loss functions*. You'll find these inside `torch.nn.functional`, which the PyTorch team recommends importing as `F` (and is available by default under that name in fastai):"
      ]
    },
    {
      "cell_type": "code",
      "metadata": {
        "id": "E2aPZy-3Ao_Q",
        "colab": {
          "base_uri": "https://localhost:8080/"
        },
        "outputId": "9ca1d683-2c31-4cb4-e2eb-693ce2c85a04"
      },
      "source": [
        "F.l1_loss(img.float(),means_dict[7]), F.mse_loss(img, means_dict[7]).sqrt()  "
      ],
      "execution_count": 20,
      "outputs": [
        {
          "output_type": "execute_result",
          "data": {
            "text/plain": [
              "(tensor(0.1161), tensor(0.2299))"
            ]
          },
          "metadata": {
            "tags": []
          },
          "execution_count": 20
        }
      ]
    },
    {
      "cell_type": "markdown",
      "metadata": {
        "id": "Av_zS0apAo_R"
      },
      "source": [
        "Here `mse` stands for *mean squared error*, and `l1` refers to the standard mathematical jargon for *mean absolute value* (in math it's called the *L1 norm*)."
      ]
    },
    {
      "cell_type": "markdown",
      "metadata": {
        "id": "72-jn9W-Ao_Y"
      },
      "source": [
        "So, is our baseline model any good? To quantify this, we must define a metric."
      ]
    },
    {
      "cell_type": "markdown",
      "metadata": {
        "id": "_hE2D-d4Ao_Y"
      },
      "source": [
        "c over a *validation set*. This is so that we don't inadvertently overfit—that is, train a model to work well only on our training data. This is not really a risk with the pixel similarity model we're using here as a first try, since it has no trained components, but we'll use a validation set anyway to follow normal practices and to be ready for our second try later.\n",
        "\n",
        "To get a validation set we need to remove some of the data from training entirely, so it is not seen by the model at all. As it turns out, the creators of the MNIST dataset have already done this for us. Do you remember how there was a whole separate directory called *valid*? That's what this directory is for!\n",
        "\n",
        "So to start with, let's create tensors for our 3s and 7s from that directory. These are the tensors we will use to calculate a metric measuring the quality of our first-try model, which measures distance from an ideal image:"
      ]
    },
    {
      "cell_type": "markdown",
      "metadata": {
        "id": "KJVX90_NHIui"
      },
      "source": [
        "### Create validation set"
      ]
    },
    {
      "cell_type": "code",
      "metadata": {
        "id": "5S4A7eEjAo_Z",
        "colab": {
          "base_uri": "https://localhost:8080/"
        },
        "outputId": "8ded38f4-74f1-4e3b-a3f2-e170b94b1f2b"
      },
      "source": [
        "valid_tensors_dict = {}\n",
        "\n",
        "for digit, tnrs in stacked_tensors_dict.items():\n",
        "    valid_tensors_dict[digit] = torch.stack([tensor(Image.open(o)) \n",
        "                                             for o in (path/'testing'/f\"{digit}\").ls()])\n",
        "    valid_tensors_dict[digit] = valid_tensors_dict[digit].float()/255\n",
        "    print('shape for',digit, ':', valid_tensors_dict[digit].shape)"
      ],
      "execution_count": 21,
      "outputs": [
        {
          "output_type": "stream",
          "text": [
            "shape for 0 : torch.Size([980, 28, 28])\n",
            "shape for 1 : torch.Size([1135, 28, 28])\n",
            "shape for 2 : torch.Size([1032, 28, 28])\n",
            "shape for 3 : torch.Size([1010, 28, 28])\n",
            "shape for 4 : torch.Size([982, 28, 28])\n",
            "shape for 5 : torch.Size([892, 28, 28])\n",
            "shape for 6 : torch.Size([958, 28, 28])\n",
            "shape for 7 : torch.Size([1028, 28, 28])\n",
            "shape for 8 : torch.Size([974, 28, 28])\n",
            "shape for 9 : torch.Size([1009, 28, 28])\n"
          ],
          "name": "stdout"
        }
      ]
    },
    {
      "cell_type": "markdown",
      "metadata": {
        "id": "QQylH3NjHWcs"
      },
      "source": [
        "It's good to get in the habit of checking shapes as you go. Here we see 10 tensors, each representing one digit validation set of about 1,000 images of size 28×28. Total number of validation images is 10,000."
      ]
    },
    {
      "cell_type": "code",
      "metadata": {
        "colab": {
          "base_uri": "https://localhost:8080/"
        },
        "id": "RzgqkBhoHXET",
        "outputId": "8f8f2974-9210-4b0e-ba52-eea98ac9aec9"
      },
      "source": [
        "print('Shapes of image tensor for each digit:')\n",
        "for digit, tnrs in valid_tensors_dict.items():\n",
        "    print(' shape for',digit, ':', valid_tensors_dict[digit].shape)"
      ],
      "execution_count": 22,
      "outputs": [
        {
          "output_type": "stream",
          "text": [
            "Shapes of image tensor for each digit:\n",
            " shape for 0 : torch.Size([980, 28, 28])\n",
            " shape for 1 : torch.Size([1135, 28, 28])\n",
            " shape for 2 : torch.Size([1032, 28, 28])\n",
            " shape for 3 : torch.Size([1010, 28, 28])\n",
            " shape for 4 : torch.Size([982, 28, 28])\n",
            " shape for 5 : torch.Size([892, 28, 28])\n",
            " shape for 6 : torch.Size([958, 28, 28])\n",
            " shape for 7 : torch.Size([1028, 28, 28])\n",
            " shape for 8 : torch.Size([974, 28, 28])\n",
            " shape for 9 : torch.Size([1009, 28, 28])\n"
          ],
          "name": "stdout"
        }
      ]
    },
    {
      "cell_type": "markdown",
      "metadata": {
        "id": "8Nt2VHIgKQqq"
      },
      "source": [
        "### Loss - Metric"
      ]
    },
    {
      "cell_type": "markdown",
      "metadata": {
        "id": "UMxFeeiwAo_Z"
      },
      "source": [
        "We ultimately want to write a function, `evaluate_digit()`, that will return the most probable digit for one inage we pass to the function.\n",
        "\n",
        "**STOP AND THINK**:\n",
        "\n",
        "- How would you extrapolate the approach for used in the sample MNIST case, when we only had two digits? \n",
        "- In this casem you cannot use the same method because we have more than two digits this time. \n",
        "- A function `is_3` as `True` or `False` is not enough. \n",
        "\n"
      ]
    },
    {
      "cell_type": "markdown",
      "metadata": {
        "id": "Tk1bac__Lthw"
      },
      "source": [
        "Hint for one possible solution: \n",
        "- compare the distances between one image and each of the mean images, then assume that the image corresponds to the digit with the smallest distance."
      ]
    },
    {
      "cell_type": "markdown",
      "metadata": {
        "id": "5F0iV2cFUxc-"
      },
      "source": [
        "Code for this approach:\n",
        "\n",
        "1. We keep the same distance as before, that is MAE:"
      ]
    },
    {
      "cell_type": "code",
      "metadata": {
        "id": "3ViXqzG1Ao_Z",
        "colab": {
          "base_uri": "https://localhost:8080/"
        },
        "outputId": "5f0e3691-036b-4b17-9233-b0769442e7e7"
      },
      "source": [
        "def mnist_distance(a, b): \n",
        "    return (a - b).abs().mean((-1, -2))\n",
        "\n",
        "mnist_distance(img, means_dict[7])"
      ],
      "execution_count": 23,
      "outputs": [
        {
          "output_type": "execute_result",
          "data": {
            "text/plain": [
              "tensor(0.1161)"
            ]
          },
          "metadata": {
            "tags": []
          },
          "execution_count": 23
        }
      ]
    },
    {
      "cell_type": "markdown",
      "metadata": {
        "id": "kXZl2iB5O72Q"
      },
      "source": [
        "2. We compute the distance to each digit mean"
      ]
    },
    {
      "cell_type": "code",
      "metadata": {
        "colab": {
          "base_uri": "https://localhost:8080/",
          "height": 261
        },
        "id": "F8mgpjNbPA0g",
        "outputId": "84914ff0-6934-4e24-9315-e88f92c60845"
      },
      "source": [
        "# Select an image to compate\n",
        "img_tnsr = valid_tensors_dict[8][559]\n",
        "show_image(img_tnsr)\n",
        "plt.show()\n",
        "\n",
        "for i in range(10):\n",
        "    print(f\"Distance between image and {i} is {mnist_distance(img_tnsr, means_dict[i])} \")"
      ],
      "execution_count": 24,
      "outputs": [
        {
          "output_type": "display_data",
          "data": {
            "image/png": "[encoded data removed]",
            "text/plain": [
              "<Figure size 72x72 with 1 Axes>"
            ]
          },
          "metadata": {
            "tags": [],
            "needs_background": "light"
          }
        },
        {
          "output_type": "stream",
          "text": [
            "Distance between image and 0 is 0.17747390270233154 \n",
            "Distance between image and 1 is 0.1079769879579544 \n",
            "Distance between image and 2 is 0.1519867181777954 \n",
            "Distance between image and 3 is 0.12940698862075806 \n",
            "Distance between image and 4 is 0.15085124969482422 \n",
            "Distance between image and 5 is 0.12826736271381378 \n",
            "Distance between image and 6 is 0.1390821486711502 \n",
            "Distance between image and 7 is 0.14931634068489075 \n",
            "Distance between image and 8 is 0.1306237280368805 \n",
            "Distance between image and 9 is 0.13838708400726318 \n"
          ],
          "name": "stdout"
        }
      ]
    },
    {
      "cell_type": "markdown",
      "metadata": {
        "id": "reRtNDT8PbXg"
      },
      "source": [
        "The smallest distance should represent the correct digit. In this case it is correct."
      ]
    },
    {
      "cell_type": "markdown",
      "metadata": {
        "id": "YXj4B1VyPia6"
      },
      "source": [
        "With broadcasting, we also can apply the distance to all the images of one class/digit at the same time. `mnist_distance` should return a tensor with the distances for all the images in the batch."
      ]
    },
    {
      "cell_type": "code",
      "metadata": {
        "colab": {
          "base_uri": "https://localhost:8080/",
          "height": 52
        },
        "id": "hYjPk8OEJP6R",
        "outputId": "cc9fb68c-f0f8-4a95-eb17-f1c32af6da07"
      },
      "source": [
        "# Select a batch with all the images representing one digit\n",
        "img_tnsr = stacked_tensors_dict[8]\n",
        "\n",
        "distances = mnist_distance(img_tnsr, means_dict[7])\n",
        "display(distances.shape)\n",
        "display(distances)"
      ],
      "execution_count": 25,
      "outputs": [
        {
          "output_type": "display_data",
          "data": {
            "text/plain": [
              "torch.Size([5851])"
            ]
          },
          "metadata": {
            "tags": []
          }
        },
        {
          "output_type": "display_data",
          "data": {
            "text/plain": [
              "tensor([0.1501, 0.1984, 0.1541,  ..., 0.1339, 0.1280, 0.1585])"
            ]
          },
          "metadata": {
            "tags": []
          }
        }
      ]
    },
    {
      "cell_type": "code",
      "metadata": {
        "colab": {
          "base_uri": "https://localhost:8080/",
          "height": 193
        },
        "id": "5jfV1_NGKFf5",
        "outputId": "6609d2ff-c1a3-4ee6-e4e0-67656b4127fe"
      },
      "source": [
        "# Show distances to all the digits\n",
        "img_tnsr = stacked_tensors_dict[8]\n",
        "\n",
        "for i in range(10):\n",
        "    display(mnist_distance(img_tnsr, means_dict[i]))"
      ],
      "execution_count": 26,
      "outputs": [
        {
          "output_type": "display_data",
          "data": {
            "text/plain": [
              "tensor([0.1795, 0.2126, 0.1797,  ..., 0.1697, 0.1837, 0.1942])"
            ]
          },
          "metadata": {
            "tags": []
          }
        },
        {
          "output_type": "display_data",
          "data": {
            "text/plain": [
              "tensor([0.1039, 0.2042, 0.0930,  ..., 0.1016, 0.0990, 0.1375])"
            ]
          },
          "metadata": {
            "tags": []
          }
        },
        {
          "output_type": "display_data",
          "data": {
            "text/plain": [
              "tensor([0.1480, 0.2038, 0.1472,  ..., 0.1283, 0.1469, 0.1563])"
            ]
          },
          "metadata": {
            "tags": []
          }
        },
        {
          "output_type": "display_data",
          "data": {
            "text/plain": [
              "tensor([0.1456, 0.1777, 0.1394,  ..., 0.1344, 0.1268, 0.1538])"
            ]
          },
          "metadata": {
            "tags": []
          }
        },
        {
          "output_type": "display_data",
          "data": {
            "text/plain": [
              "tensor([0.1559, 0.2038, 0.1607,  ..., 0.1249, 0.1370, 0.1435])"
            ]
          },
          "metadata": {
            "tags": []
          }
        },
        {
          "output_type": "display_data",
          "data": {
            "text/plain": [
              "tensor([0.1481, 0.1930, 0.1450,  ..., 0.1308, 0.1336, 0.1525])"
            ]
          },
          "metadata": {
            "tags": []
          }
        },
        {
          "output_type": "display_data",
          "data": {
            "text/plain": [
              "tensor([0.1612, 0.1939, 0.1614,  ..., 0.1305, 0.1458, 0.1656])"
            ]
          },
          "metadata": {
            "tags": []
          }
        },
        {
          "output_type": "display_data",
          "data": {
            "text/plain": [
              "tensor([0.1501, 0.1984, 0.1541,  ..., 0.1339, 0.1280, 0.1585])"
            ]
          },
          "metadata": {
            "tags": []
          }
        },
        {
          "output_type": "display_data",
          "data": {
            "text/plain": [
              "tensor([0.1197, 0.1959, 0.1252,  ..., 0.1110, 0.1156, 0.1399])"
            ]
          },
          "metadata": {
            "tags": []
          }
        },
        {
          "output_type": "display_data",
          "data": {
            "text/plain": [
              "tensor([0.1483, 0.1949, 0.1511,  ..., 0.1262, 0.1202, 0.1497])"
            ]
          },
          "metadata": {
            "tags": []
          }
        }
      ]
    },
    {
      "cell_type": "markdown",
      "metadata": {
        "id": "KbYXojz7Pvn_"
      },
      "source": [
        "Let's see how are can compute all the distances from one image tensor batch to each of the digit means in a few operations only. \n",
        "\n",
        "1. Let's see what we have to start with:\n",
        "    - we start from a batch of image tensors `image_tensor_batch` of shape `(nbr_img, 28, 28)`\n",
        "    - `mnist_distance(image_tensor_batch)` returns a tensor of shape `(nbr_img)`"
      ]
    },
    {
      "cell_type": "code",
      "metadata": {
        "colab": {
          "base_uri": "https://localhost:8080/"
        },
        "id": "1fwOHGVDQ4WI",
        "outputId": "be5ba205-adc2-4577-d383-61ec4b69640a"
      },
      "source": [
        "img_batch_tnsr = stacked_tensors_dict[8]\n",
        "print('Shape of batch_tnsr:', img_batch_tnsr.shape)\n",
        "\n",
        "distances = mnist_distance(img_tnsr, means_dict[0])\n",
        "print('Shape of distances: ', distances.shape)"
      ],
      "execution_count": 27,
      "outputs": [
        {
          "output_type": "stream",
          "text": [
            "Shape of batch_tnsr: torch.Size([5851, 28, 28])\n",
            "Shape of distances:  torch.Size([5851])\n"
          ],
          "name": "stdout"
        }
      ]
    },
    {
      "cell_type": "markdown",
      "metadata": {
        "id": "w3UXMvExSBJB"
      },
      "source": [
        "2. Now we want to have all distances for all digits in a dimension-2 tensor of shape `(nbr of images, 10)`. That is a tensor with the same number of samples/images as the batch and a distance to each digit. Using tensors instead of list or other data sructure will allow us to use fast tensor calculation to easily extract which digit corresponds to each image, as opposed to slow Python loop through all the images in Python. One way to do it:\n",
        "    - use the `torch.stack` function to stack the distances tensors for each of the digits into one single tensor"
      ]
    },
    {
      "cell_type": "code",
      "metadata": {
        "colab": {
          "base_uri": "https://localhost:8080/",
          "height": 158
        },
        "id": "9KvjgyhRMlp_",
        "outputId": "bed34792-5fb1-42c1-e90c-1aff728af471"
      },
      "source": [
        "distances = torch.stack([mnist_distance(img_tnsr, m) for m in means_dict.values()], dim=1)\n",
        "display(distances)\n",
        "distances.shape"
      ],
      "execution_count": 28,
      "outputs": [
        {
          "output_type": "display_data",
          "data": {
            "text/plain": [
              "tensor([[0.1795, 0.1039, 0.1480,  ..., 0.1501, 0.1197, 0.1483],\n",
              "        [0.2126, 0.2042, 0.2038,  ..., 0.1984, 0.1959, 0.1949],\n",
              "        [0.1797, 0.0930, 0.1472,  ..., 0.1541, 0.1252, 0.1511],\n",
              "        ...,\n",
              "        [0.1697, 0.1016, 0.1283,  ..., 0.1339, 0.1110, 0.1262],\n",
              "        [0.1837, 0.0990, 0.1469,  ..., 0.1280, 0.1156, 0.1202],\n",
              "        [0.1942, 0.1375, 0.1563,  ..., 0.1585, 0.1399, 0.1497]])"
            ]
          },
          "metadata": {
            "tags": []
          }
        },
        {
          "output_type": "execute_result",
          "data": {
            "text/plain": [
              "torch.Size([5851, 10])"
            ]
          },
          "metadata": {
            "tags": []
          },
          "execution_count": 28
        }
      ]
    },
    {
      "cell_type": "markdown",
      "metadata": {
        "id": "MSxvds2rVZyB"
      },
      "source": [
        "\"decrypting\" code above: `torch.stack([mnist_distance(img_tnsr, m) for m in means_dict.values()], dim=1)`\n",
        "- Signature of stack: `torch.stack(tensors, dim=0)` [doc](https://pytorch.org/docs/stable/generated/torch.stack.html):\n",
        "    - `tensors` is a sequence of tensors to concatenate, for instance a list of tensors\n",
        "    - `dim` is the dimension to insert. Has to be between 0 and the number of dimensions of concatenated, In our case, `dim` is 1 as we want to stack the 10 values for each images. You can try other values and see what it gives.\n",
        "- `[mnist_distance(img_tnsr, m) for m in means_dict.values()]`:\n",
        "    - list comprehension to get a list of the 10 distances, one for each digit. Remember that means_dict keeps the ten mean images reporesenting the \"ideal\" difit. The list comprehension is equivalent to:\n",
        "    ```python\n",
        "        tensor_list = []\n",
        "        for mean in means_dict.values():\n",
        "            tensor_list.append(mnist_distance(img_tnsr, m))\n",
        "    ```\n",
        "\n",
        "The code is passing a list of 10 dimension-1 tensors (shape = `(number of images in the batch)`) to `torch.stack`, to create a dimension-2 tensor of shape `(number of images in the batch, 10)`"
      ]
    },
    {
      "cell_type": "markdown",
      "metadata": {
        "id": "8uWfanTIVsdJ"
      },
      "source": [
        "Now we have a tensor `distances` with the distance of each image to the ten means. We can index it to get the distances of any image to the ten means."
      ]
    },
    {
      "cell_type": "code",
      "metadata": {
        "colab": {
          "base_uri": "https://localhost:8080/"
        },
        "id": "wS5chZmwVxOo",
        "outputId": "b8856514-5ba9-4609-ce49-e43e0c9c544d"
      },
      "source": [
        "distances[120:125, :]"
      ],
      "execution_count": 29,
      "outputs": [
        {
          "output_type": "execute_result",
          "data": {
            "text/plain": [
              "tensor([[0.1680, 0.1831, 0.1666, 0.1545, 0.1572, 0.1537, 0.1583, 0.1848, 0.1462, 0.1656],\n",
              "        [0.1888, 0.1888, 0.1770, 0.1895, 0.1614, 0.1828, 0.1675, 0.1957, 0.1638, 0.1754],\n",
              "        [0.1686, 0.1799, 0.1772, 0.1616, 0.1734, 0.1523, 0.1580, 0.1956, 0.1547, 0.1768],\n",
              "        [0.1796, 0.1059, 0.1646, 0.1448, 0.1495, 0.1309, 0.1498, 0.1442, 0.1367, 0.1318],\n",
              "        [0.1684, 0.1696, 0.1688, 0.1595, 0.1498, 0.1495, 0.1552, 0.1718, 0.1316, 0.1451]])"
            ]
          },
          "metadata": {
            "tags": []
          },
          "execution_count": 29
        }
      ]
    },
    {
      "cell_type": "markdown",
      "metadata": {
        "id": "SnP8007KXcMA"
      },
      "source": [
        "3. Select the class/digit for each image in the batch: pick the minimum distance. We will use the method tensor `argmin()` to pick the index with minimum distance, which is the digit corresponding to the minumum distance and therefore our class as we defined it in our approach.\n",
        "\n",
        "> See how `argmin` works with a single image. We pick one image tensor and show it. We also pick the corresponding distances to the ten digit, i.e. a tensor of shape (10). `argmin()` returns the index of the minimum distance, in this case 8, which corresponds to digit 8."
      ]
    },
    {
      "cell_type": "code",
      "metadata": {
        "colab": {
          "base_uri": "https://localhost:8080/",
          "height": 120
        },
        "id": "PVB0WQHLYlk2",
        "outputId": "33a5fde7-ded6-4c4c-fdd0-439f8f1569a1"
      },
      "source": [
        "img_nbr = 25\n",
        "show_image(stacked_tensors_dict[8][img_nbr])\n",
        "plt.show()\n",
        "\n",
        "distances_for_one_img = distances[img_nbr]\n",
        "display(distances_for_one_img)\n",
        "distances_for_one_img.argmin()\n",
        "distances_for_one_img[8]"
      ],
      "execution_count": 30,
      "outputs": [
        {
          "output_type": "display_data",
          "data": {
            "image/png": "[encoded data removed]",
            "text/plain": [
              "<Figure size 72x72 with 1 Axes>"
            ]
          },
          "metadata": {
            "tags": [],
            "needs_background": "light"
          }
        },
        {
          "output_type": "display_data",
          "data": {
            "text/plain": [
              "tensor([0.1650, 0.1222, 0.1467, 0.1261, 0.1344, 0.1259, 0.1477, 0.1398, 0.1143, 0.1293])"
            ]
          },
          "metadata": {
            "tags": []
          }
        },
        {
          "output_type": "execute_result",
          "data": {
            "text/plain": [
              "tensor(0.1143)"
            ]
          },
          "metadata": {
            "tags": []
          },
          "execution_count": 30
        }
      ]
    },
    {
      "cell_type": "markdown",
      "metadata": {
        "id": "yKEouuQ1agEO"
      },
      "source": [
        "When we apply to a batch of images, we need to tell pytorch along which direction the minimum must be seeked. In our case `dim=1`.  It returns a tensor of dimension 1, with shape = `(nbr_img)`"
      ]
    },
    {
      "cell_type": "code",
      "metadata": {
        "colab": {
          "base_uri": "https://localhost:8080/"
        },
        "id": "TGU_rT7JOibR",
        "outputId": "2030de31-f176-4a95-ef1e-66f88f8ee961"
      },
      "source": [
        "digits = distances.argmin(dim=1)\n",
        "digits.shape"
      ],
      "execution_count": 31,
      "outputs": [
        {
          "output_type": "execute_result",
          "data": {
            "text/plain": [
              "torch.Size([5851])"
            ]
          },
          "metadata": {
            "tags": []
          },
          "execution_count": 31
        }
      ]
    },
    {
      "cell_type": "markdown",
      "metadata": {
        "id": "-O79XYgwjmlx"
      },
      "source": [
        "```\n",
        "argmin(input, dim, keepdim=False) -> LongTensor\n",
        "\n",
        "Returns the indices of the minimum values of a tensor across a dimension.\n",
        "\n",
        "This is the second value returned by :meth:`torch.min`. See its\n",
        "documentation for the exact semantics of this method.\n",
        "\n",
        "Args:\n",
        "    input (Tensor): the input tensor.\n",
        "    dim (int): the dimension to reduce. If ``None``, the argmin of the flattened input is returned.\n",
        "    keepdim (bool): whether the output tensor has :attr:`dim` retained or not. Ignored if ``dim=None``.\n",
        "```"
      ]
    },
    {
      "cell_type": "markdown",
      "metadata": {
        "id": "EVrnf9mra5xt"
      },
      "source": [
        "Using `argmin()` allows us to compute the mimimun for all images, in one step, and with no Python loop."
      ]
    },
    {
      "cell_type": "markdown",
      "metadata": {
        "id": "LLsY0kBWj1me"
      },
      "source": [
        "### Pixel Similarity Classifier"
      ]
    },
    {
      "cell_type": "markdown",
      "metadata": {
        "id": "zc4xy7bbX8Ad"
      },
      "source": [
        "Now we can build our classifier as a function `evaluate_digit` to which we pass an image tensor or a batch of image tensors and which will return a class/digit"
      ]
    },
    {
      "cell_type": "code",
      "metadata": {
        "id": "yP_X__waAo_a"
      },
      "source": [
        "def evaluate_digit(x): \n",
        "    if x.ndim < 3:\n",
        "        x = x.unsqueeze(dim=0)\n",
        "    distances = torch.stack([mnist_distance(x, m) for m in means_dict.values()], dim=1)\n",
        "    return distances.argmin(dim=1)"
      ],
      "execution_count": 32,
      "outputs": []
    },
    {
      "cell_type": "markdown",
      "metadata": {
        "id": "jr2RPxqlbYLF"
      },
      "source": [
        ">Note: we unsqueeze the tensor when a single image is given instead of a batch, because we expect a batch. Unsqueezing is like translforming a single image into a batch with a single image:\n",
        "```python\n",
        "    if x.ndim < 3:\n",
        "        x = x.unsqueeze(dim=0)\n",
        "```\n",
        "\n",
        "See the difference below"
      ]
    },
    {
      "cell_type": "code",
      "metadata": {
        "colab": {
          "base_uri": "https://localhost:8080/"
        },
        "id": "jWWpkaZlbuF5",
        "outputId": "e11e6f04-1a3a-44c3-9f3d-4213a70b80bc"
      },
      "source": [
        "img.shape, img.unsqueeze(dim=0).shape"
      ],
      "execution_count": 33,
      "outputs": [
        {
          "output_type": "execute_result",
          "data": {
            "text/plain": [
              "(torch.Size([28, 28]), torch.Size([1, 28, 28]))"
            ]
          },
          "metadata": {
            "tags": []
          },
          "execution_count": 33
        }
      ]
    },
    {
      "cell_type": "markdown",
      "metadata": {
        "id": "CLmCNNLXcFFO"
      },
      "source": [
        "Let's test our classifier with a single image:"
      ]
    },
    {
      "cell_type": "code",
      "metadata": {
        "colab": {
          "base_uri": "https://localhost:8080/",
          "height": 102
        },
        "id": "vCTbUcKLYVRD",
        "outputId": "e42818bd-c16d-42de-d022-9810d294b758"
      },
      "source": [
        "tnsr = stacked_tensors_dict[8][58]\n",
        "show_image(tnsr)\n",
        "plt.show()\n",
        "\n",
        "evaluate_digit(tnsr)"
      ],
      "execution_count": 34,
      "outputs": [
        {
          "output_type": "display_data",
          "data": {
            "image/png": "[encoded data removed]",
            "text/plain": [
              "<Figure size 72x72 with 1 Axes>"
            ]
          },
          "metadata": {
            "tags": [],
            "needs_background": "light"
          }
        },
        {
          "output_type": "execute_result",
          "data": {
            "text/plain": [
              "tensor([8])"
            ]
          },
          "metadata": {
            "tags": []
          },
          "execution_count": 34
        }
      ]
    },
    {
      "cell_type": "markdown",
      "metadata": {
        "id": "p4JMkpShcWat"
      },
      "source": [
        "Let's test our classifier with a small image batch:"
      ]
    },
    {
      "cell_type": "code",
      "metadata": {
        "colab": {
          "base_uri": "https://localhost:8080/"
        },
        "id": "R222MSdca9UA",
        "outputId": "48f5564d-9ca7-4669-d1dc-1e90b2336fc4"
      },
      "source": [
        "tnsr = stacked_tensors_dict[8][58:87]\n",
        "print('Nbr images: ', tnsr.shape[0])\n",
        "\n",
        "evaluate_digit(tnsr)"
      ],
      "execution_count": 35,
      "outputs": [
        {
          "output_type": "stream",
          "text": [
            "Nbr images:  29\n"
          ],
          "name": "stdout"
        },
        {
          "output_type": "execute_result",
          "data": {
            "text/plain": [
              "tensor([8, 8, 1, 1, 9, 1, 8, 9, 1, 8, 1, 1, 8, 8, 1, 9, 9, 9, 1, 8, 3, 8, 1, 1, 8, 1, 8, 1, 8])"
            ]
          },
          "metadata": {
            "tags": []
          },
          "execution_count": 35
        }
      ]
    },
    {
      "cell_type": "markdown",
      "metadata": {
        "id": "kJUtTINZbs_q"
      },
      "source": [
        "We can see that the model is not that great ! Some images are correctly evaluated and some are not."
      ]
    },
    {
      "cell_type": "markdown",
      "metadata": {
        "id": "_a0JkHtpbV4h"
      },
      "source": [
        "### Evaluation of the classifier\n",
        "Let's compute the accuracy for the train and the validation set for each class/digit\n",
        "1. For each class, we evaluate the digit for the full dataset (training and validation)\n",
        "2. We compute how many are correct and how many are not correct"
      ]
    },
    {
      "cell_type": "code",
      "metadata": {
        "colab": {
          "base_uri": "https://localhost:8080/"
        },
        "id": "zdkODv0fcGOa",
        "outputId": "d3c226ae-0e8b-42bb-bcb2-6f1a3b1285d0"
      },
      "source": [
        "# One class at the time\n",
        "digit = 5\n",
        "tnsr = stacked_tensors_dict[digit]\n",
        "preds = evaluate_digit(tnsr) \n",
        "correct = torch.eq(preds, digit).sum()\n",
        "incorrect = torch.ne(preds, digit).sum()\n",
        "correct.item(), incorrect.item(), (correct / preds.shape[0]).item()"
      ],
      "execution_count": 36,
      "outputs": [
        {
          "output_type": "execute_result",
          "data": {
            "text/plain": [
              "(1627, 3794, 0.30012911558151245)"
            ]
          },
          "metadata": {
            "tags": []
          },
          "execution_count": 36
        }
      ]
    },
    {
      "cell_type": "code",
      "metadata": {
        "id": "Zm5e38QUAo_b",
        "colab": {
          "base_uri": "https://localhost:8080/"
        },
        "outputId": "e895227d-b7c3-495f-a69d-7b4c3dea9340"
      },
      "source": [
        "# All digits for training set\n",
        "for digit in range(10):\n",
        "    tnsr = stacked_tensors_dict[digit]\n",
        "    preds = evaluate_digit(tnsr) \n",
        "    correct = torch.eq(preds, digit).sum()\n",
        "    # print(f\" - {correct.item():,d} correct digits out or {preds.shape[0]}\")\n",
        "    print(f\"Accuracy for {digit}: {(correct / preds.shape[0]).item():1.4f}\")"
      ],
      "execution_count": 37,
      "outputs": [
        {
          "output_type": "stream",
          "text": [
            "Accuracy for 0: 0.8141\n",
            "Accuracy for 1: 0.9981\n",
            "Accuracy for 2: 0.4329\n",
            "Accuracy for 3: 0.5836\n",
            "Accuracy for 4: 0.6648\n",
            "Accuracy for 5: 0.3001\n",
            "Accuracy for 6: 0.7454\n",
            "Accuracy for 7: 0.7778\n",
            "Accuracy for 8: 0.3958\n",
            "Accuracy for 9: 0.7163\n"
          ],
          "name": "stdout"
        }
      ]
    },
    {
      "cell_type": "code",
      "metadata": {
        "colab": {
          "base_uri": "https://localhost:8080/"
        },
        "id": "IR9gSAyWgDRb",
        "outputId": "545e2876-3144-48ef-e2ad-13af6cb6db38"
      },
      "source": [
        "# All digits for validation set\n",
        "for digit in range(10):\n",
        "    tnsr = valid_tensors_dict[digit]\n",
        "    preds = evaluate_digit(tnsr) \n",
        "    correct = torch.eq(preds, digit).sum()\n",
        "    # print(f\" - {correct.item():,d} correct digits out or {preds.shape[0]}\")\n",
        "    print(f\"Accuracy for {digit}: {(correct / preds.shape[0]).item():1.4f}\")"
      ],
      "execution_count": 38,
      "outputs": [
        {
          "output_type": "stream",
          "text": [
            "Accuracy for 0: 0.8153\n",
            "Accuracy for 1: 0.9982\n",
            "Accuracy for 2: 0.4234\n",
            "Accuracy for 3: 0.6089\n",
            "Accuracy for 4: 0.6680\n",
            "Accuracy for 5: 0.3262\n",
            "Accuracy for 6: 0.7871\n",
            "Accuracy for 7: 0.7646\n",
            "Accuracy for 8: 0.4425\n",
            "Accuracy for 9: 0.7760\n"
          ],
          "name": "stdout"
        }
      ]
    },
    {
      "cell_type": "markdown",
      "metadata": {
        "id": "-Wl3rqr3Ao_c"
      },
      "source": [
        "Although this is not awfull, the performance varies a lot for each of the digit. 0 and 1 are well classified byt 5 and 8 are not, for example.\n",
        "\n",
        "Can we do better if we use another metric? We uses MAE, let's do the same but using RMSE:"
      ]
    },
    {
      "cell_type": "code",
      "metadata": {
        "id": "zSqPZmeYLCqC"
      },
      "source": [
        "# Define a new loss/distance function: mnist_rmse\n",
        "def mnist_rmse(a, b):\n",
        "    return ((a - b) ** 2 ).mean((-1, -2)).sqrt()\n",
        "\n",
        "# Our new classifier will use rmse to compute the distances and pick the minimum\n",
        "def evaluate_digit_rmse(x): \n",
        "    if x.ndim < 3:\n",
        "        x = x.unsqueeze(dim=0)\n",
        "    distances = torch.stack([mnist_rmse(x, m) for m in means_dict.values()], dim=1)\n",
        "    return distances.argmin(dim=1)"
      ],
      "execution_count": 39,
      "outputs": []
    },
    {
      "cell_type": "markdown",
      "metadata": {
        "id": "zZ--Vx6wNEp5"
      },
      "source": [
        "Now we can evaluate the performance of this new classifer with the validation set"
      ]
    },
    {
      "cell_type": "code",
      "metadata": {
        "colab": {
          "base_uri": "https://localhost:8080/"
        },
        "id": "ZxAezLXGMTix",
        "outputId": "17890b47-8ec2-4173-d8d7-70863886cd08"
      },
      "source": [
        "# All digits for validation set\n",
        "for digit in range(10):\n",
        "    tnsr = valid_tensors_dict[digit]\n",
        "    preds = evaluate_digit_rmse(tnsr) \n",
        "    correct = torch.eq(preds, digit).sum()\n",
        "    # print(f\" - {correct.item():,d} correct digits out or {preds.shape[0]}\")\n",
        "    print(f\"Accuracy for {digit}: {(correct / preds.shape[0]).item():1.4f}\")"
      ],
      "execution_count": 40,
      "outputs": [
        {
          "output_type": "stream",
          "text": [
            "Accuracy for 0: 0.8959\n",
            "Accuracy for 1: 0.9621\n",
            "Accuracy for 2: 0.7568\n",
            "Accuracy for 3: 0.8059\n",
            "Accuracy for 4: 0.8259\n",
            "Accuracy for 5: 0.6861\n",
            "Accuracy for 6: 0.8633\n",
            "Accuracy for 7: 0.8327\n",
            "Accuracy for 8: 0.7372\n",
            "Accuracy for 9: 0.8067\n"
          ],
          "name": "stdout"
        }
      ]
    },
    {
      "cell_type": "markdown",
      "metadata": {
        "id": "tCc7STRUNQz3"
      },
      "source": [
        "We see that the accuracy increases for almost all the digits. \n",
        "\n",
        "The base line is not bad, but all in all, it still shows some relativaly low accuracy compared to real model."
      ]
    },
    {
      "cell_type": "markdown",
      "metadata": {
        "id": "0VpRly6QAo_c"
      },
      "source": [
        "## Stochastic Gradient Descent (SGD)"
      ]
    },
    {
      "cell_type": "code",
      "metadata": {
        "colab": {
          "base_uri": "https://localhost:8080/",
          "height": 124
        },
        "id": "OzVuXe_E-GtE",
        "outputId": "ef97e9bf-4c04-439a-aeca-3d26915ef5a2"
      },
      "source": [
        "gv('''\n",
        "\"1. init\"->\"2. predict\"->\"3. loss\"->\"4. gradient\"->\"5. step\"->\"7. stop\"\n",
        "\"5. step\"->\"2. predict\"[label=\"6. repeat\"]\n",
        "''')"
      ],
      "execution_count": 41,
      "outputs": [
        {
          "output_type": "execute_result",
          "data": {
            "text/plain": [
              "<graphviz.files.Source at 0x7f68ab698390>"
            ],
            "image/svg+xml": "<?xml version=\"1.0\" encoding=\"UTF-8\" standalone=\"no\"?>\n<!DOCTYPE svg PUBLIC \"-//W3C//DTD SVG 1.1//EN\"\n \"http://www.w3.org/Graphics/SVG/1.1/DTD/svg11.dtd\">\n<!-- Generated by graphviz version 2.40.1 (20161225.0304)\n -->\n<!-- Title: G Pages: 1 -->\n<svg width=\"712pt\" height=\"78pt\"\n viewBox=\"0.00 0.00 711.56 78.00\" xmlns=\"http://www.w3.org/2000/svg\" xmlns:xlink=\"http://www.w3.org/1999/xlink\">\n<g id=\"graph0\" class=\"graph\" transform=\"scale(1 1) rotate(0) translate(4 74)\">\n<title>G</title>\n<polygon fill=\"#ffffff\" stroke=\"transparent\" points=\"-4,4 -4,-74 707.5582,-74 707.5582,4 -4,4\"/>\n<!-- 1. init -->\n<g id=\"node1\" class=\"node\">\n<title>1. init</title>\n<ellipse fill=\"none\" stroke=\"#000000\" cx=\"32.4971\" cy=\"-18\" rx=\"32.4942\" ry=\"18\"/>\n<text text-anchor=\"middle\" x=\"32.4971\" y=\"-14.3\" font-family=\"Times,serif\" font-size=\"14.00\" fill=\"#000000\">1. init</text>\n</g>\n<!-- 2. predict -->\n<g id=\"node2\" class=\"node\">\n<title>2. predict</title>\n<ellipse fill=\"none\" stroke=\"#000000\" cx=\"148.1401\" cy=\"-18\" rx=\"46.2923\" ry=\"18\"/>\n<text text-anchor=\"middle\" x=\"148.1401\" y=\"-14.3\" font-family=\"Times,serif\" font-size=\"14.00\" fill=\"#000000\">2. predict</text>\n</g>\n<!-- 1. init&#45;&gt;2. predict -->\n<g id=\"edge1\" class=\"edge\">\n<title>1. init&#45;&gt;2. predict</title>\n<path fill=\"none\" stroke=\"#000000\" d=\"M65.0179,-18C73.2694,-18 82.3772,-18 91.4479,-18\"/>\n<polygon fill=\"#000000\" stroke=\"#000000\" points=\"91.6257,-21.5001 101.6257,-18 91.6257,-14.5001 91.6257,-21.5001\"/>\n</g>\n<!-- 3. loss -->\n<g id=\"node3\" class=\"node\">\n<title>3. loss</title>\n<ellipse fill=\"none\" stroke=\"#000000\" cx=\"265.733\" cy=\"-52\" rx=\"34.394\" ry=\"18\"/>\n<text text-anchor=\"middle\" x=\"265.733\" y=\"-48.3\" font-family=\"Times,serif\" font-size=\"14.00\" fill=\"#000000\">3. loss</text>\n</g>\n<!-- 2. predict&#45;&gt;3. loss -->\n<g id=\"edge2\" class=\"edge\">\n<title>2. predict&#45;&gt;3. loss</title>\n<path fill=\"none\" stroke=\"#000000\" d=\"M185.3473,-28.7578C198.2159,-32.4786 212.6869,-36.6626 225.7676,-40.4447\"/>\n<polygon fill=\"#000000\" stroke=\"#000000\" points=\"224.8712,-43.8288 235.4499,-43.2442 226.8156,-37.1042 224.8712,-43.8288\"/>\n</g>\n<!-- 4. gradient -->\n<g id=\"node4\" class=\"node\">\n<title>4. gradient</title>\n<ellipse fill=\"none\" stroke=\"#000000\" cx=\"435.8754\" cy=\"-52\" rx=\"50.8918\" ry=\"18\"/>\n<text text-anchor=\"middle\" x=\"435.8754\" y=\"-48.3\" font-family=\"Times,serif\" font-size=\"14.00\" fill=\"#000000\">4. gradient</text>\n</g>\n<!-- 3. loss&#45;&gt;4. gradient -->\n<g id=\"edge3\" class=\"edge\">\n<title>3. loss&#45;&gt;4. gradient</title>\n<path fill=\"none\" stroke=\"#000000\" d=\"M300.5744,-52C321.9366,-52 349.8822,-52 374.8263,-52\"/>\n<polygon fill=\"#000000\" stroke=\"#000000\" points=\"374.9406,-55.5001 384.9406,-52 374.9405,-48.5001 374.9406,-55.5001\"/>\n</g>\n<!-- 5. step -->\n<g id=\"node5\" class=\"node\">\n<title>5. step</title>\n<ellipse fill=\"none\" stroke=\"#000000\" cx=\"558.6678\" cy=\"-18\" rx=\"35.194\" ry=\"18\"/>\n<text text-anchor=\"middle\" x=\"558.6678\" y=\"-14.3\" font-family=\"Times,serif\" font-size=\"14.00\" fill=\"#000000\">5. step</text>\n</g>\n<!-- 4. gradient&#45;&gt;5. step -->\n<g id=\"edge4\" class=\"edge\">\n<title>4. gradient&#45;&gt;5. step</title>\n<path fill=\"none\" stroke=\"#000000\" d=\"M476.0823,-40.8671C489.4591,-37.1632 504.3655,-33.0358 517.7924,-29.318\"/>\n<polygon fill=\"#000000\" stroke=\"#000000\" points=\"519.0184,-32.6103 527.7218,-26.5687 517.1504,-25.8641 519.0184,-32.6103\"/>\n</g>\n<!-- 5. step&#45;&gt;2. predict -->\n<g id=\"edge6\" class=\"edge\">\n<title>5. step&#45;&gt;2. predict</title>\n<path fill=\"none\" stroke=\"#000000\" d=\"M523.5577,-18C452.405,-18 290.668,-18 204.5509,-18\"/>\n<polygon fill=\"#000000\" stroke=\"#000000\" points=\"204.4349,-14.5001 194.4349,-18 204.4348,-21.5001 204.4349,-14.5001\"/>\n<text text-anchor=\"middle\" x=\"342.6799\" y=\"-21.8\" font-family=\"Times,serif\" font-size=\"14.00\" fill=\"#000000\">6. repeat</text>\n</g>\n<!-- 7. stop -->\n<g id=\"node6\" class=\"node\">\n<title>7. stop</title>\n<ellipse fill=\"none\" stroke=\"#000000\" cx=\"667.1615\" cy=\"-18\" rx=\"36.2938\" ry=\"18\"/>\n<text text-anchor=\"middle\" x=\"667.1615\" y=\"-14.3\" font-family=\"Times,serif\" font-size=\"14.00\" fill=\"#000000\">7. stop</text>\n</g>\n<!-- 5. step&#45;&gt;7. stop -->\n<g id=\"edge5\" class=\"edge\">\n<title>5. step&#45;&gt;7. stop</title>\n<path fill=\"none\" stroke=\"#000000\" d=\"M593.8926,-18C602.3423,-18 611.4969,-18 620.3794,-18\"/>\n<polygon fill=\"#000000\" stroke=\"#000000\" points=\"620.6231,-21.5001 630.6231,-18 620.623,-14.5001 620.6231,-21.5001\"/>\n</g>\n</g>\n</svg>\n"
          },
          "metadata": {
            "tags": []
          },
          "execution_count": 41
        }
      ]
    },
    {
      "cell_type": "markdown",
      "metadata": {
        "id": "kAlUoNRzOafQ"
      },
      "source": [
        "Steps that we are going to require, to turn a function into a machine learning classifier:\n",
        "\n",
        "1. *Initialize* the weights.\n",
        "1. For each image, use these weights to *predict* whether it appears to be a 3 or a 7.\n",
        "1. Based on these predictions, calculate how good the model is (its *loss*).\n",
        "1. Calculate the *gradient*, which measures for each weight, how changing that weight would change the loss\n",
        "1. *Step* (that is, change) all the weights based on that calculation.\n",
        "1. Go back to the step 2, and *repeat* the process.\n",
        "1. Iterate until you decide to *stop* the training process (for instance, because the model is good enough or you don't want to wait any longer)."
      ]
    },
    {
      "cell_type": "markdown",
      "metadata": {
        "id": "e75BvXjsQW2X"
      },
      "source": [
        "#### Prepare datasets and dataloaders"
      ]
    },
    {
      "cell_type": "markdown",
      "metadata": {
        "id": "9bxXKzVvQ952"
      },
      "source": [
        "`train_x` is the set of independant variables (inputs), that is our images. We create  `train_x` tensor by concatenating all the tensors for each digit."
      ]
    },
    {
      "cell_type": "code",
      "metadata": {
        "id": "7eVXaIMnQ954"
      },
      "source": [
        "train_x = torch.cat([stacked_tensors_dict[i] for i in range(0,10)]).view(-1, 28*28)"
      ],
      "execution_count": 42,
      "outputs": []
    },
    {
      "cell_type": "code",
      "metadata": {
        "colab": {
          "base_uri": "https://localhost:8080/"
        },
        "id": "kENaWxHARETG",
        "outputId": "59884970-e266-47fd-f0af-ead75befa778"
      },
      "source": [
        "train_x.shape"
      ],
      "execution_count": 43,
      "outputs": [
        {
          "output_type": "execute_result",
          "data": {
            "text/plain": [
              "torch.Size([60000, 784])"
            ]
          },
          "metadata": {
            "tags": []
          },
          "execution_count": 43
        }
      ]
    },
    {
      "cell_type": "markdown",
      "metadata": {
        "id": "AbuZLyURQ955"
      },
      "source": [
        "As expected, it is a set of 60,000 images represented as a flat one dimension vector of shape 28 x 28 = 784"
      ]
    },
    {
      "cell_type": "markdown",
      "metadata": {
        "id": "8U3evtmMQ957"
      },
      "source": [
        "We need a label for each image, 0 to 9, depending on the digit the image represent. It is not as simple as for the basic MNIST case, as we have more than two classes and the number of images in each class is not equal. There is probably an easier way than the one below !"
      ]
    },
    {
      "cell_type": "code",
      "metadata": {
        "id": "IImhF4RwQ958"
      },
      "source": [
        "# Returns a list of 10 sublists, where each sublist consists of as many times digit as the number of image in the category\n",
        "l = [ [i] * stacked_tensors_dict[i].shape[0] for i in range(0,10)]\n",
        "\n",
        "# check the the total number of labels is equal to the numer of images\n",
        "assert sum([len(sublist) for sublist in l]) == train_x.shape[0] "
      ],
      "execution_count": 44,
      "outputs": []
    },
    {
      "cell_type": "code",
      "metadata": {
        "colab": {
          "base_uri": "https://localhost:8080/"
        },
        "id": "_CgSzj67Q959",
        "outputId": "9e68e680-ce14-4fdc-8882-4adee0cd0e0c"
      },
      "source": [
        "# Create a tensor based on the list of labels\n",
        "label_list = []\n",
        "for i in range(10):\n",
        "    label_list.extend(l[i])\n",
        "assert len(label_list) == train_x.shape[0]\n",
        "\n",
        "train_y = torch.tensor(label_list).unsqueeze(1)\n",
        "train_x.shape,train_y.shape"
      ],
      "execution_count": 45,
      "outputs": [
        {
          "output_type": "execute_result",
          "data": {
            "text/plain": [
              "(torch.Size([60000, 784]), torch.Size([60000, 1]))"
            ]
          },
          "metadata": {
            "tags": []
          },
          "execution_count": 45
        }
      ]
    },
    {
      "cell_type": "markdown",
      "metadata": {
        "id": "JVwaZsHSRrnS"
      },
      "source": [
        "The shapes of `train_x` and `train_y` are as expected"
      ]
    },
    {
      "cell_type": "markdown",
      "metadata": {
        "id": "67Prd18yQ95_"
      },
      "source": [
        "A `Dataset` in PyTorch is required to return a tuple of `(x,y)` when indexed. Python provides a `zip` function which, when combined with `list`, provides a simple way to get this functionality:"
      ]
    },
    {
      "cell_type": "code",
      "metadata": {
        "colab": {
          "base_uri": "https://localhost:8080/"
        },
        "id": "hnmy7VORQ96A",
        "outputId": "f9a9283c-4db6-4572-dd6c-fac5ae7a4fc6"
      },
      "source": [
        "from random import shuffle\n",
        "\n",
        "dset = list(zip(train_x,train_y))\n",
        "\n",
        "# Shuffle the dset so that digits are mixed\n",
        "shuffle(dset)\n",
        "\n",
        "\n",
        "x, y = dset[0]\n",
        "x.shape,y"
      ],
      "execution_count": 46,
      "outputs": [
        {
          "output_type": "execute_result",
          "data": {
            "text/plain": [
              "(torch.Size([784]), tensor([5]))"
            ]
          },
          "metadata": {
            "tags": []
          },
          "execution_count": 46
        }
      ]
    },
    {
      "cell_type": "markdown",
      "metadata": {
        "id": "bgyrNSXsBcyH"
      },
      "source": [
        "Now we do the same for the validation sets"
      ]
    },
    {
      "cell_type": "code",
      "metadata": {
        "colab": {
          "base_uri": "https://localhost:8080/"
        },
        "id": "QJmLpADmQ96A",
        "outputId": "7609ef34-4fb3-40bd-8d3a-6506c24b523b"
      },
      "source": [
        "valid_x = torch.cat([valid_tensors_dict[i] for i in range(0,10)]).view(-1, 28*28)\n",
        "\n",
        "# Returns a list of 10 sublists, where each sublist consists of a as many times digit as the number of image in the category\n",
        "l = [ [i] * valid_tensors_dict[i].shape[0] for i in range(0,10)]\n",
        "\n",
        "# check the the total number of labels is equal to the numer of images\n",
        "assert sum([len(sublist) for sublist in l]) == valid_x.shape[0] \n",
        "print(valid_x.shape)\n",
        "\n",
        "# Create a tensor based on the list of labels\n",
        "label_list = []\n",
        "for i in range(10):\n",
        "    label_list.extend(l[i])\n",
        "assert len(label_list) == valid_x.shape[0]\n",
        "\n",
        "valid_y = torch.tensor(label_list).unsqueeze(1)\n",
        "print(valid_y.shape)\n",
        "\n",
        "valid_dset = list(zip(valid_x,valid_y))"
      ],
      "execution_count": 47,
      "outputs": [
        {
          "output_type": "stream",
          "text": [
            "torch.Size([10000, 784])\n",
            "torch.Size([10000, 1])\n"
          ],
          "name": "stdout"
        }
      ]
    },
    {
      "cell_type": "markdown",
      "metadata": {
        "id": "Lo1sINyOQ96A"
      },
      "source": [
        "Datasets are ready. Now we prepare the dataloaders to feed the training loop."
      ]
    },
    {
      "cell_type": "code",
      "metadata": {
        "id": "ppJHdq70Yxb2"
      },
      "source": [
        "dl = DataLoader(dset, batch_size=256)\n",
        "valid_dl = DataLoader(valid_dset, batch_size=5)"
      ],
      "execution_count": 48,
      "outputs": []
    },
    {
      "cell_type": "markdown",
      "metadata": {
        "id": "hAj5qWL1Ao_k"
      },
      "source": [
        "#### Define the model architecture and parameters"
      ]
    },
    {
      "cell_type": "markdown",
      "metadata": {
        "id": "U3_b3NRtDZFl"
      },
      "source": [
        "Model is defined by creating functions to compute each of the 7 steps listed above"
      ]
    },
    {
      "cell_type": "markdown",
      "metadata": {
        "id": "p--DimUkCqhc"
      },
      "source": [
        "##### Parameters"
      ]
    },
    {
      "cell_type": "markdown",
      "metadata": {
        "id": "zpK6kbbRSOMp"
      },
      "source": [
        "In our model, we need to evaluate the distance from one image (input) to each of the possible classes (0 - 9). So we need to predict 10 values, out of which we will pick the minimum value to predict the correpsonding digit.\n",
        "\n",
        "In effect,**y** in **y=Wx+b** represents the `distances` between the image **x** and each of the digits. **y** is therefore a vector of shape `(10)`. The prediction is computed from an image **x** which is a vector of shape `(784)`. Therefore **W** must be of shape `(784, 10)`. And **b** must be of the same shape as the output, that is shape `(10)`.\n",
        "\n",
        "<img src=\"https://raw.githubusercontent.com/vtecftwy/fastbook/master/images/img_mnist_full_linear_layer.png\" height=\"400px\" />\n"
      ]
    },
    {
      "cell_type": "markdown",
      "metadata": {
        "id": "LzhbtgMGCVJS"
      },
      "source": [
        "Define a function to create random parameters, and then create **W** and **b** with the correct shapes"
      ]
    },
    {
      "cell_type": "code",
      "metadata": {
        "colab": {
          "base_uri": "https://localhost:8080/"
        },
        "id": "Qn2XEth3Qs2X",
        "outputId": "57ddd64d-96dd-4790-9585-3778f39f78ce"
      },
      "source": [
        "def init_params(size, std=1.0): \n",
        "    return (torch.randn(size)*std).requires_grad_()\n",
        "\n",
        "weights = init_params((28*28, 10))\n",
        "bias = init_params(10)\n",
        "\n",
        "weights.shape, bias.shape"
      ],
      "execution_count": 49,
      "outputs": [
        {
          "output_type": "execute_result",
          "data": {
            "text/plain": [
              "(torch.Size([784, 10]), torch.Size([10]))"
            ]
          },
          "metadata": {
            "tags": []
          },
          "execution_count": 49
        }
      ]
    },
    {
      "cell_type": "markdown",
      "metadata": {
        "id": "G6Ybt963Ao_l"
      },
      "source": [
        "##### Define functions to calculate the predictions. \n",
        "\n",
        "The output of the linear layer is a distance. If we apply `softmax`, we get a sort of probability (sum of values = 1), which is what we want. Also, we can use `softmax` or `log_sofmax`. But it is useful to use `log_softmax` for several reasons, including the fact that larger errors are more penalized then small errors and the fact that it allows some computation stability in the network (see [here](https://deepdatascience.wordpress.com/2020/02/27/log-softmax-vs-softmax/)). \n",
        "\n",
        "See pytorch documentation: [`softmax`](https://pytorch.org/docs/stable/nn.functional.html?highlight=softmax#softmax) and [`log_softmax`](https://pytorch.org/docs/stable/generated/torch.nn.LogSoftmax.html?highlight=softmax#logsoftmax)\n",
        "\n",
        "Note: **`torch.nn.functional`** can be shorted as **`F`**"
      ]
    },
    {
      "cell_type": "code",
      "metadata": {
        "id": "g_xOqHw_Tioi"
      },
      "source": [
        "def linear(xb):\n",
        "    outputs =  xb @ weights + bias\n",
        "    probs = F.log_softmax(outputs, dim=1)\n",
        "    return probs\n",
        "\n",
        "def evaluate_preds(xb):\n",
        "    probs = linear(xb)\n",
        "    return probs.argmax(dim=1).unsqueeze(dim=1)"
      ],
      "execution_count": 50,
      "outputs": []
    },
    {
      "cell_type": "markdown",
      "metadata": {
        "id": "0HHF3tn7Ao_m"
      },
      "source": [
        "##### Define a function to calculate the loss\n",
        "\n",
        "As we have 10 classes, the loss function should be **cross entropy**. In PyTorch, there is a function `cross_entropy` ([`doc`](https://pytorch.org/docs/stable/nn.functional.html#cross-entropy)) and a layer `CrossEntropyLoss`([`doc`](https://pytorch.org/docs/stable/nn.functional.html#cross-entropy)). It happens to be a combination of `log_softmax` ([`doc`](https://pytorch.org/docs/stable/nn.functional.html#log-softmax)), which we have applied already in the linear layer, and `nll_loss` ([`doc`](https://pytorch.org/docs/stable/nn.functional.html#nll-loss)). `nll_loss` stands for *negative log likelihood loss*\n",
        "\n",
        "So, let's apply `nll_loss` to the output of linear layer.\n",
        "\n",
        "More on negative log likelihood loss [here](https://medium.com/deeplearningmadeeasy/negative-log-likelihood-6bd79b55d8b6) and cross entropy [here](https://machinelearningmastery.com/cross-entropy-for-machine-learning/)\n",
        "\n",
        "Other links: \n",
        "- https://glassboxmedicine.com/2019/12/07/connections-log-likelihood-cross-entropy-kl-divergence-logistic-regression-and-neural-networks/\n",
        "- https://gombru.github.io/2018/05/23/cross_entropy_loss/"
      ]
    },
    {
      "cell_type": "code",
      "metadata": {
        "id": "ww5kD8caAo_k"
      },
      "source": [
        "loss_fct = F.nll_loss"
      ],
      "execution_count": 53,
      "outputs": []
    },
    {
      "cell_type": "markdown",
      "metadata": {
        "id": "xQLwzJCBAo_n"
      },
      "source": [
        "##### Define a function to calculate the gradients"
      ]
    },
    {
      "cell_type": "code",
      "metadata": {
        "id": "ILZAptP-ZP9O"
      },
      "source": [
        "def calc_grad(xb, yb, model):\n",
        "    preds = model(xb)\n",
        "    loss = loss_fct(preds, yb.squeeze())\n",
        "    # print(loss)\n",
        "    loss.backward()"
      ],
      "execution_count": 54,
      "outputs": []
    },
    {
      "cell_type": "code",
      "metadata": {
        "id": "Cv3lJG7cQB1v"
      },
      "source": [
        "# xb, yb = first(dl)\n",
        "# display(xb.shape, yb.shape)\n",
        "# probs = linear(xb)\n",
        "# display(probs.shape)\n",
        "# evaluate_preds(xb)\n",
        "# display(yb)\n",
        "# loss_fct(probs, yb.squeeze())\n",
        "# calc_grad(xb, yb, linear)"
      ],
      "execution_count": 60,
      "outputs": []
    },
    {
      "cell_type": "markdown",
      "metadata": {
        "id": "BSi9WAxUAo_q"
      },
      "source": [
        "##### Define a function performing one step/one epoch"
      ]
    },
    {
      "cell_type": "code",
      "metadata": {
        "id": "jImqcs7aZlYp"
      },
      "source": [
        "def train_epoch(model, lr, params):\n",
        "    for xb, yb in dl:\n",
        "        calc_grad(xb, yb, model)\n",
        "        for p in params:\n",
        "            p.data -= p.grad * lr\n",
        "            p.grad.zero_()"
      ],
      "execution_count": 61,
      "outputs": []
    },
    {
      "cell_type": "markdown",
      "metadata": {
        "id": "6W7gQ4jEAo_r"
      },
      "source": [
        "##### Define a function to evaluate the validation accurary"
      ]
    },
    {
      "cell_type": "code",
      "metadata": {
        "id": "WsS8le8QD8To"
      },
      "source": [
        "def batch_accuracy(xb, yb):\n",
        "    \"\"\"Determines how many of the predictions are actually correct\"\"\"\n",
        "    accuracy = torch.eq(xb, yb).sum() / xb.shape[0]\n",
        "    return accuracy"
      ],
      "execution_count": 64,
      "outputs": []
    },
    {
      "cell_type": "code",
      "metadata": {
        "id": "asUH98GjAj5U"
      },
      "source": [
        "# preds.unsqueeze(dim=1)"
      ],
      "execution_count": null,
      "outputs": []
    },
    {
      "cell_type": "code",
      "metadata": {
        "id": "k887jKBsD8OZ"
      },
      "source": [
        "def validate_epoch(model):\n",
        "    \"\"\"Collects the accuracy from each element in the dataloader and displays it\"\"\"\n",
        "    accs = [batch_accuracy(model(xb), yb) for xb, yb in valid_dl]\n",
        "    return round(torch.stack(accs).mean().item(), 4)"
      ],
      "execution_count": 65,
      "outputs": []
    },
    {
      "cell_type": "markdown",
      "metadata": {
        "id": "51Bt7YLMEwR6"
      },
      "source": [
        "#### Bringing it all together and run training loop"
      ]
    },
    {
      "cell_type": "code",
      "metadata": {
        "colab": {
          "base_uri": "https://localhost:8080/"
        },
        "id": "OpengN_UD8HK",
        "outputId": "bc2ef38a-0c62-495f-ce02-558e849d721a"
      },
      "source": [
        "weights = init_params((28*28, 10))\n",
        "bias = init_params(10)\n",
        "\n",
        "lr = 1\n",
        "params = weights, bias\n",
        "\n",
        "train_epoch(linear, lr, params)\n",
        "\n",
        "train_epoch(linear, lr, params)\n",
        "validate_epoch(evaluate_preds)"
      ],
      "execution_count": 66,
      "outputs": [
        {
          "output_type": "execute_result",
          "data": {
            "text/plain": [
              "0.8659"
            ]
          },
          "metadata": {
            "tags": []
          },
          "execution_count": 66
        }
      ]
    },
    {
      "cell_type": "markdown",
      "metadata": {
        "id": "nEwfyQIyvaVq"
      },
      "source": [
        "Run 20 epochs and see the accuracy for each epoch"
      ]
    },
    {
      "cell_type": "code",
      "metadata": {
        "id": "nET2H9YQD79j",
        "colab": {
          "base_uri": "https://localhost:8080/"
        },
        "outputId": "f13af870-b0c7-4f84-c17e-651d7970b503"
      },
      "source": [
        "n_epochs = 20\n",
        "for i in range(n_epochs):\n",
        "    train_epoch(linear, lr, params)\n",
        "    print(f\"{i}:{validate_epoch(evaluate_preds):1.4f}\", end=' ')"
      ],
      "execution_count": 67,
      "outputs": [
        {
          "output_type": "stream",
          "text": [
            "0:0.8765 1:0.8829 2:0.8858 3:0.8893 4:0.8915 5:0.8942 6:0.8969 7:0.8997 8:0.9010 9:0.9024 10:0.9037 11:0.9044 12:0.9055 13:0.9069 14:0.9075 15:0.9071 16:0.9079 17:0.9091 18:0.9098 19:0.9100 "
          ],
          "name": "stdout"
        }
      ]
    },
    {
      "cell_type": "markdown",
      "metadata": {
        "id": "ccn3Q175vc0c"
      },
      "source": [
        "Run another 20/200/2000 epochs several times and see the evolution of the accuracy"
      ]
    },
    {
      "cell_type": "code",
      "metadata": {
        "colab": {
          "base_uri": "https://localhost:8080/"
        },
        "id": "UNsiOf5lE01F",
        "outputId": "32e5cef1-ea0b-4bd8-da86-fa29e92f856e"
      },
      "source": [
        "n_epochs = 20\n",
        "for i in range(n_epochs):\n",
        "    train_epoch(linear, lr, params)\n",
        "    print(f\"{i}:{validate_epoch(evaluate_preds):1.4f}\", end=' ')"
      ],
      "execution_count": 68,
      "outputs": [
        {
          "output_type": "stream",
          "text": [
            "0:0.9107 1:0.9112 2:0.9119 3:0.9121 4:0.9124 5:0.9127 6:0.9129 7:0.9131 8:0.9132 9:0.9130 10:0.9132 11:0.9137 12:0.9139 13:0.9141 14:0.9142 15:0.9144 16:0.9144 17:0.9145 18:0.9150 19:0.9149 "
          ],
          "name": "stdout"
        }
      ]
    },
    {
      "cell_type": "code",
      "metadata": {
        "colab": {
          "base_uri": "https://localhost:8080/"
        },
        "id": "hFy5_mq-FBJi",
        "outputId": "80bc921f-b5ce-46af-a601-f7c2f951bb10"
      },
      "source": [
        "n_epochs = 20\n",
        "for i in range(n_epochs):\n",
        "    train_epoch(linear, lr, params)\n",
        "    print(f\"{i}:{validate_epoch(evaluate_preds):1.4f}\", end=' ')"
      ],
      "execution_count": 69,
      "outputs": [
        {
          "output_type": "stream",
          "text": [
            "0:0.9152 1:0.9157 2:0.9161 3:0.9166 4:0.9171 5:0.9177 6:0.9181 7:0.9184 8:0.9184 9:0.9186 10:0.9190 11:0.9193 12:0.9191 13:0.9191 14:0.9190 15:0.9194 16:0.9198 17:0.9197 18:0.9197 19:0.9197 "
          ],
          "name": "stdout"
        }
      ]
    },
    {
      "cell_type": "code",
      "metadata": {
        "colab": {
          "base_uri": "https://localhost:8080/"
        },
        "id": "NnYVAx1MFNLq",
        "outputId": "cf1ce4f8-9d61-40df-fe4d-5a6762a37421"
      },
      "source": [
        "n_epochs = 200\n",
        "for i in range(n_epochs):\n",
        "    train_epoch(linear, lr, params)\n",
        "    if i%10 == 0:\n",
        "        print(f\"{i}:{validate_epoch(evaluate_preds):1.4f}\", end=' ')\n",
        "print(validate_epoch(evaluate_preds))"
      ],
      "execution_count": 70,
      "outputs": [
        {
          "output_type": "stream",
          "text": [
            "0:0.9197 10:0.9197 20:0.9202 30:0.9205 40:0.9206 50:0.9212 60:0.9211 70:0.9218 80:0.9218 90:0.9218 100:0.9220 110:0.9224 120:0.9224 130:0.9224 140:0.9228 150:0.9227 160:0.9226 170:0.9224 180:0.9222 190:0.9221 0.9221\n"
          ],
          "name": "stdout"
        }
      ]
    },
    {
      "cell_type": "code",
      "metadata": {
        "colab": {
          "base_uri": "https://localhost:8080/"
        },
        "id": "ZcXT3ED0F7nC",
        "outputId": "198d97e4-1add-4ead-8f12-4403798ce4ef"
      },
      "source": [
        "n_epochs = 200\n",
        "for i in range(n_epochs):\n",
        "    train_epoch(linear, lr, params)\n",
        "    if i%10 == 0:\n",
        "        print(f\"{i}:{validate_epoch(evaluate_preds):1.4f}\", end=' ')\n",
        "print(validate_epoch(evaluate_preds))"
      ],
      "execution_count": 71,
      "outputs": [
        {
          "output_type": "stream",
          "text": [
            "0:0.9221 10:0.9224 20:0.9226 30:0.9227 40:0.9227 50:0.9229 60:0.9229 70:0.9231 80:0.9232 90:0.9233 100:0.9234 110:0.9232 120:0.9231 130:0.9229 140:0.9228 150:0.9227 160:0.9228 170:0.9228 180:0.9228 190:0.9229 0.9229\n"
          ],
          "name": "stdout"
        }
      ]
    },
    {
      "cell_type": "code",
      "metadata": {
        "id": "G6puUR2RGFUS"
      },
      "source": [
        "n_epochs = 2000\n",
        "for i in range(n_epochs):\n",
        "    train_epoch(linear, lr, params)\n",
        "    if i%100 == 0:\n",
        "        print(f\"{i}:{validate_epoch(evaluate_preds):1.4f}\", end=' ')\n",
        "print(validate_epoch(evaluate_preds))"
      ],
      "execution_count": null,
      "outputs": []
    },
    {
      "cell_type": "code",
      "metadata": {
        "colab": {
          "base_uri": "https://localhost:8080/"
        },
        "id": "r-b6pqY3GfSo",
        "outputId": "b2a22eac-b743-48a5-c17f-3945444f6dbf"
      },
      "source": [
        "print(validate_epoch(evaluate_preds))"
      ],
      "execution_count": 73,
      "outputs": [
        {
          "output_type": "stream",
          "text": [
            "0.9184\n"
          ],
          "name": "stdout"
        }
      ]
    },
    {
      "cell_type": "code",
      "metadata": {
        "colab": {
          "base_uri": "https://localhost:8080/",
          "height": 102
        },
        "id": "1RQ09gHxQeZH",
        "outputId": "2425ab61-2f48-4ea0-d455-09ae56c06d08"
      },
      "source": [
        "img = valid_tensors_dict[8][49]\n",
        "show_image(img)\n",
        "plt.show()\n",
        "evaluate_preds(img.view(28*28).unsqueeze(dim=0))"
      ],
      "execution_count": 74,
      "outputs": [
        {
          "output_type": "display_data",
          "data": {
            "image/png": "[encoded data removed]",
            "text/plain": [
              "<Figure size 72x72 with 1 Axes>"
            ]
          },
          "metadata": {
            "tags": [],
            "needs_background": "light"
          }
        },
        {
          "output_type": "execute_result",
          "data": {
            "text/plain": [
              "tensor([[8]])"
            ]
          },
          "metadata": {
            "tags": []
          },
          "execution_count": 74
        }
      ]
    },
    {
      "cell_type": "code",
      "metadata": {
        "colab": {
          "base_uri": "https://localhost:8080/",
          "height": 102
        },
        "id": "Y-Xceh_zv8l9",
        "outputId": "6d18aa10-fe75-480d-eda2-4d5a2cd13be4"
      },
      "source": [
        "img = valid_tensors_dict[2][159]\n",
        "show_image(img)\n",
        "plt.show()\n",
        "evaluate_preds(img.view(28*28).unsqueeze(dim=0))"
      ],
      "execution_count": 75,
      "outputs": [
        {
          "output_type": "display_data",
          "data": {
            "image/png": "[encoded data removed]",
            "text/plain": [
              "<Figure size 72x72 with 1 Axes>"
            ]
          },
          "metadata": {
            "tags": [],
            "needs_background": "light"
          }
        },
        {
          "output_type": "execute_result",
          "data": {
            "text/plain": [
              "tensor([[2]])"
            ]
          },
          "metadata": {
            "tags": []
          },
          "execution_count": 75
        }
      ]
    },
    {
      "cell_type": "code",
      "metadata": {
        "colab": {
          "base_uri": "https://localhost:8080/",
          "height": 102
        },
        "id": "mKAD5umvv8cD",
        "outputId": "de690635-6909-427b-abe8-98f986d1bddb"
      },
      "source": [
        "img = valid_tensors_dict[7][957]\n",
        "show_image(img)\n",
        "plt.show()\n",
        "evaluate_preds(img.view(28*28).unsqueeze(dim=0))"
      ],
      "execution_count": 76,
      "outputs": [
        {
          "output_type": "display_data",
          "data": {
            "image/png": "[encoded data removed]",
            "text/plain": [
              "<Figure size 72x72 with 1 Axes>"
            ]
          },
          "metadata": {
            "tags": [],
            "needs_background": "light"
          }
        },
        {
          "output_type": "execute_result",
          "data": {
            "text/plain": [
              "tensor([[7]])"
            ]
          },
          "metadata": {
            "tags": []
          },
          "execution_count": 76
        }
      ]
    },
    {
      "cell_type": "markdown",
      "metadata": {
        "id": "ddlCEUDyux37"
      },
      "source": [
        "## Improve model by introducing ReLu and two layers"
      ]
    },
    {
      "cell_type": "code",
      "metadata": {
        "colab": {
          "base_uri": "https://localhost:8080/"
        },
        "id": "5AKIgUMKvAXc",
        "outputId": "f3a75758-63cc-456a-b8f3-675948dd58f0"
      },
      "source": [
        "def init_params(size, std=1.0): \n",
        "    return (torch.randn(size)*std).requires_grad_()\n",
        "\n",
        "w1 = init_params((28*28, 100))\n",
        "b1 = init_params(100)\n",
        "\n",
        "w2 = init_params((100, 10))\n",
        "b2 = init_params(10)\n",
        "\n",
        "w1.shape, b1.shape, w2.shape, b2.shape"
      ],
      "execution_count": 77,
      "outputs": [
        {
          "output_type": "execute_result",
          "data": {
            "text/plain": [
              "(torch.Size([784, 100]),\n",
              " torch.Size([100]),\n",
              " torch.Size([100, 10]),\n",
              " torch.Size([10]))"
            ]
          },
          "metadata": {
            "tags": []
          },
          "execution_count": 77
        }
      ]
    },
    {
      "cell_type": "markdown",
      "metadata": {
        "id": "PX9mzfQCvAXe"
      },
      "source": [
        "##### Define functions to calculate the predictions"
      ]
    },
    {
      "cell_type": "code",
      "metadata": {
        "id": "SR6J5TNEvAXf"
      },
      "source": [
        "activ1 = nn.ReLU()\n",
        "\n",
        "def linear1(xb):\n",
        "    outputs =  xb @ w1 + b1\n",
        "    return activ1(outputs)\n",
        "\n",
        "def linear2(xb):\n",
        "    outputs =  xb @ w2 + b2\n",
        "    probs = F.log_softmax(outputs, dim=1)\n",
        "    return probs\n",
        "\n",
        "def model(xb):\n",
        "    xb = linear1(xb)\n",
        "    xb = linear2(xb)\n",
        "    return xb\n",
        "\n",
        "def classifier(xb):\n",
        "    xb = model(xb)\n",
        "    return xb.argmax(dim=1).unsqueeze(dim=1)"
      ],
      "execution_count": 78,
      "outputs": []
    },
    {
      "cell_type": "code",
      "metadata": {
        "id": "Zkif8_INwhnU"
      },
      "source": [
        "# # Testing layer by layer\n",
        "# xb, yb = first(dl)\n",
        "# display(xb.shape, yb.shape)\n",
        "# display(linear1(xb).shape)\n",
        "# display(linear2(linear1(xb)).shape)\n",
        "# display(model(xb))\n",
        "# classifier(xb)[0:3]"
      ],
      "execution_count": 80,
      "outputs": []
    },
    {
      "cell_type": "markdown",
      "metadata": {
        "id": "DYA40BUgvAXf"
      },
      "source": [
        "##### Define a function to calculate the loss"
      ]
    },
    {
      "cell_type": "code",
      "metadata": {
        "id": "TaNy5A5OvAXg"
      },
      "source": [
        "loss_fct = F.nll_loss"
      ],
      "execution_count": 81,
      "outputs": []
    },
    {
      "cell_type": "markdown",
      "metadata": {
        "id": "HNSqQxstvAXg"
      },
      "source": [
        "##### Define a function to calculate the gradients"
      ]
    },
    {
      "cell_type": "code",
      "metadata": {
        "id": "G7Ac3w6JvAXg"
      },
      "source": [
        "def calc_grad(xb, yb, model):\n",
        "    preds = model(xb)\n",
        "    loss = loss_fct(preds, yb.squeeze())\n",
        "    # print(loss)\n",
        "    loss.backward()"
      ],
      "execution_count": 82,
      "outputs": []
    },
    {
      "cell_type": "code",
      "metadata": {
        "id": "xhCBXbTyvAXh"
      },
      "source": [
        "# # Testing function\n",
        "# xb, yb = first(dl)\n",
        "# display(xb.shape, yb.shape)\n",
        "# probs = model(xb)\n",
        "# display(probs.shape)\n",
        "# # display(yb)\n",
        "# loss_fct(probs, yb.squeeze())\n",
        "# calc_grad(xb, yb, model)"
      ],
      "execution_count": 84,
      "outputs": []
    },
    {
      "cell_type": "markdown",
      "metadata": {
        "id": "3oWpDgcWvAXh"
      },
      "source": [
        "##### Define a function performing one step/one epoch"
      ]
    },
    {
      "cell_type": "code",
      "metadata": {
        "id": "qkDQTt8yvAXi"
      },
      "source": [
        "def train_epoch(model, lr, params):\n",
        "    for xb, yb in dl:\n",
        "        calc_grad(xb, yb, model)\n",
        "        for p in params:\n",
        "            p.data -= p.grad * lr\n",
        "            p.grad.zero_()"
      ],
      "execution_count": 85,
      "outputs": []
    },
    {
      "cell_type": "markdown",
      "metadata": {
        "id": "6J6GFo3jvAXi"
      },
      "source": [
        "##### Define a function to evaluate the validation accurary"
      ]
    },
    {
      "cell_type": "code",
      "metadata": {
        "id": "-d3hPWfyvAXi"
      },
      "source": [
        "#Determines how many of the predictions are actually correct \n",
        "def batch_accuracy(xb, yb):\n",
        "    accuracy = torch.eq(xb, yb).sum() / xb.shape[0]\n",
        "    return accuracy"
      ],
      "execution_count": 86,
      "outputs": []
    },
    {
      "cell_type": "code",
      "metadata": {
        "id": "UVgQz70VvAXi"
      },
      "source": [
        "# preds.unsqueeze(dim=1)"
      ],
      "execution_count": null,
      "outputs": []
    },
    {
      "cell_type": "code",
      "metadata": {
        "id": "AADwAdXTvAXi"
      },
      "source": [
        "#Collects the accuracy from each element in the dataloader and displays it\n",
        "def validate_epoch(model):\n",
        "    accs = [batch_accuracy(model(xb), yb) for xb, yb in valid_dl]\n",
        "    return round(torch.stack(accs).mean().item(), 4)"
      ],
      "execution_count": 87,
      "outputs": []
    },
    {
      "cell_type": "markdown",
      "metadata": {
        "id": "yaqhJzDevAXi"
      },
      "source": [
        "#### Bringing it all together and run training loop"
      ]
    },
    {
      "cell_type": "markdown",
      "metadata": {
        "id": "aBuIeTLGPYI4"
      },
      "source": [
        "Create a function to run `n` epochs and display results."
      ]
    },
    {
      "cell_type": "code",
      "metadata": {
        "id": "WIeimeJl78K1"
      },
      "source": [
        "from math import log10\n",
        "\n",
        "def run_n_epochs(model, lr, params, n_epochs):\n",
        "    trigger = 10**(int(log10(n_epochs))-1)\n",
        "    cols = 10\n",
        "    starting_i = metric_results['epochs'][-1] + 1\n",
        "    for i in range(starting_i, starting_i + n_epochs):\n",
        "        train_epoch(model, lr, params)\n",
        "        if i%trigger == 0:\n",
        "            v = validate_epoch(classifier)\n",
        "\n",
        "            metric_results['epochs'].append(i)\n",
        "            metric_results['values'].append(v)\n",
        "            \n",
        "            end_str = '\\n' if i//trigger%cols == 0 else ' ' \n",
        "            print(f\"{i:3d}:{v:1.4f}\", end=end_str)\n",
        "    print(f\"\\nLast:{v:1.4f}\")\n",
        "    fig, ax = plt.subplots(1, 1, figsize=(12,4))\n",
        "    ax.scatter(metric_results['epochs'], metric_results['values'])\n",
        "    return metric_results"
      ],
      "execution_count": 88,
      "outputs": []
    },
    {
      "cell_type": "markdown",
      "metadata": {
        "id": "PbcQyVqtPgro"
      },
      "source": [
        "Shuffle data, initalize parameters, run one epoch"
      ]
    },
    {
      "cell_type": "code",
      "metadata": {
        "colab": {
          "base_uri": "https://localhost:8080/"
        },
        "id": "TyFqswY8vAXj",
        "outputId": "4537717a-5e00-43b0-a1c9-7e11fc378000"
      },
      "source": [
        "shuffle(dset)\n",
        "dl = DataLoader(dset, batch_size=256)\n",
        "valid_dl = DataLoader(valid_dset, batch_size=5)\n",
        "\n",
        "w1 = init_params((28*28, 100))\n",
        "b1 = init_params(100)\n",
        "w2 = init_params((100, 10))\n",
        "b2 = init_params(10)\n",
        "\n",
        "lr = 1\n",
        "params = w1, b1, w2, b2\n",
        "\n",
        "metric_results = {}\n",
        "metric_results['epochs'] = [0]\n",
        "metric_results['values'] = [0]\n",
        "\n",
        "train_epoch(model, lr, params)\n",
        "validate_epoch(classifier)"
      ],
      "execution_count": 89,
      "outputs": [
        {
          "output_type": "execute_result",
          "data": {
            "text/plain": [
              "0.7373"
            ]
          },
          "metadata": {
            "tags": []
          },
          "execution_count": 89
        }
      ]
    },
    {
      "cell_type": "code",
      "metadata": {
        "colab": {
          "base_uri": "https://localhost:8080/",
          "height": 335
        },
        "id": "wnLgh5gXAj1T",
        "outputId": "20c5faba-6e7d-466e-b760-df172780253a"
      },
      "source": [
        "metric_results = run_n_epochs(model, lr, params, 20)"
      ],
      "execution_count": 90,
      "outputs": [
        {
          "output_type": "stream",
          "text": [
            "  1:0.8175   2:0.8432   3:0.8719   4:0.8884   5:0.8970   6:0.9010   7:0.9027   8:0.9068   9:0.9101  10:0.9107\n",
            " 11:0.9127  12:0.9153  13:0.9168  14:0.9176  15:0.9190  16:0.9196  17:0.9226  18:0.9235  19:0.9238  20:0.9253\n",
            "\n",
            "Last:0.9253\n"
          ],
          "name": "stdout"
        },
        {
          "output_type": "display_data",
          "data": {
            "image/png": "[encoded data removed]",
            "text/plain": [
              "<Figure size 864x288 with 1 Axes>"
            ]
          },
          "metadata": {
            "tags": [],
            "needs_background": "light"
          }
        }
      ]
    },
    {
      "cell_type": "code",
      "metadata": {
        "colab": {
          "base_uri": "https://localhost:8080/",
          "height": 335
        },
        "id": "QIXGZWGZ8TzL",
        "outputId": "b980d1c9-38bb-48c3-c7d4-74456de6ea63"
      },
      "source": [
        "metric_results = run_n_epochs(model, lr, params, 20)"
      ],
      "execution_count": 91,
      "outputs": [
        {
          "output_type": "stream",
          "text": [
            " 21:0.9257  22:0.9267  23:0.9274  24:0.9284  25:0.9296  26:0.9299  27:0.9302  28:0.9299  29:0.9301  30:0.9306\n",
            " 31:0.9310  32:0.9306  33:0.9300  34:0.9306  35:0.9306  36:0.9301  37:0.9307  38:0.9310  39:0.9315  40:0.9326\n",
            "\n",
            "Last:0.9326\n"
          ],
          "name": "stdout"
        },
        {
          "output_type": "display_data",
          "data": {
            "image/png": "[encoded data removed]",
            "text/plain": [
              "<Figure size 864x288 with 1 Axes>"
            ]
          },
          "metadata": {
            "tags": [],
            "needs_background": "light"
          }
        }
      ]
    },
    {
      "cell_type": "code",
      "metadata": {
        "colab": {
          "base_uri": "https://localhost:8080/",
          "height": 335
        },
        "id": "mwMUwNjs90uc",
        "outputId": "e03698e9-a58a-4aec-9990-af7ecce87853"
      },
      "source": [
        "metric_results = run_n_epochs(model, lr, params, 20)"
      ],
      "execution_count": 92,
      "outputs": [
        {
          "output_type": "stream",
          "text": [
            " 41:0.9332  42:0.9342  43:0.9348  44:0.9352  45:0.9359  46:0.9368  47:0.9375  48:0.9381  49:0.9380  50:0.9386\n",
            " 51:0.9384  52:0.9387  53:0.9390  54:0.9390  55:0.9398  56:0.9401  57:0.9394  58:0.9400  59:0.9402  60:0.9403\n",
            "\n",
            "Last:0.9403\n"
          ],
          "name": "stdout"
        },
        {
          "output_type": "display_data",
          "data": {
            "image/png": "[encoded data removed]",
            "text/plain": [
              "<Figure size 864x288 with 1 Axes>"
            ]
          },
          "metadata": {
            "tags": [],
            "needs_background": "light"
          }
        }
      ]
    },
    {
      "cell_type": "code",
      "metadata": {
        "id": "OtEoMIN_1Z50",
        "colab": {
          "base_uri": "https://localhost:8080/",
          "height": 388
        },
        "outputId": "9f57ae49-a4ec-484d-cec3-13ac587c1b98"
      },
      "source": [
        "metric_results = run_n_epochs(model, lr, params, 50)"
      ],
      "execution_count": 93,
      "outputs": [
        {
          "output_type": "stream",
          "text": [
            " 61:0.9403  62:0.9411  63:0.9408  64:0.9416  65:0.9418  66:0.9419  67:0.9417  68:0.9426  69:0.9420  70:0.9428\n",
            " 71:0.9424  72:0.9417  73:0.9423  74:0.9421  75:0.9430  76:0.9433  77:0.9442  78:0.9438  79:0.9443  80:0.9441\n",
            " 81:0.9440  82:0.9440  83:0.9441  84:0.9440  85:0.9438  86:0.9444  87:0.9449  88:0.9444  89:0.9444  90:0.9447\n",
            " 91:0.9445  92:0.9450  93:0.9450  94:0.9448  95:0.9450  96:0.9447  97:0.9456  98:0.9447  99:0.9448 100:0.9451\n",
            "101:0.9456 102:0.9449 103:0.9446 104:0.9455 105:0.9451 106:0.9450 107:0.9450 108:0.9457 109:0.9456 110:0.9452\n",
            "\n",
            "Last:0.9452\n"
          ],
          "name": "stdout"
        },
        {
          "output_type": "display_data",
          "data": {
            "image/png": "[encoded data removed]",
            "text/plain": [
              "<Figure size 864x288 with 1 Axes>"
            ]
          },
          "metadata": {
            "tags": [],
            "needs_background": "light"
          }
        }
      ]
    },
    {
      "cell_type": "code",
      "metadata": {
        "id": "xzbnd9At1gpU"
      },
      "source": [
        "metric_results = run_n_epochs(model, lr, params, 50)"
      ],
      "execution_count": null,
      "outputs": []
    },
    {
      "cell_type": "code",
      "metadata": {
        "id": "TBposkA4Ditj"
      },
      "source": [
        "metric_results = run_n_epochs(model, lr/5, params, 80)"
      ],
      "execution_count": null,
      "outputs": []
    },
    {
      "cell_type": "code",
      "metadata": {
        "id": "bPlz0M76DjTO"
      },
      "source": [
        ""
      ],
      "execution_count": null,
      "outputs": []
    },
    {
      "cell_type": "code",
      "metadata": {
        "colab": {
          "base_uri": "https://localhost:8080/",
          "height": 102
        },
        "id": "3mXfRZW3-IZk",
        "outputId": "08b9ffba-a755-4910-ef14-f7be6a9f2145"
      },
      "source": [
        "img = valid_tensors_dict[8][49]\n",
        "show_image(img)\n",
        "plt.show()\n",
        "classifier(img.view(28*28).unsqueeze(dim=0))"
      ],
      "execution_count": 94,
      "outputs": [
        {
          "output_type": "display_data",
          "data": {
            "image/png": "[encoded data removed]",
            "text/plain": [
              "<Figure size 72x72 with 1 Axes>"
            ]
          },
          "metadata": {
            "tags": [],
            "needs_background": "light"
          }
        },
        {
          "output_type": "execute_result",
          "data": {
            "text/plain": [
              "tensor([[8]])"
            ]
          },
          "metadata": {
            "tags": []
          },
          "execution_count": 94
        }
      ]
    },
    {
      "cell_type": "code",
      "metadata": {
        "colab": {
          "base_uri": "https://localhost:8080/",
          "height": 102
        },
        "id": "G7DbB7ha-IZr",
        "outputId": "063fbe7a-53ea-465c-d5fc-465cc95f0b3e"
      },
      "source": [
        "img = valid_tensors_dict[2][159]\n",
        "show_image(img)\n",
        "plt.show()\n",
        "\n",
        "classifier(img.view(28*28).unsqueeze(dim=0))"
      ],
      "execution_count": 95,
      "outputs": [
        {
          "output_type": "display_data",
          "data": {
            "image/png": "[encoded data removed]",
            "text/plain": [
              "<Figure size 72x72 with 1 Axes>"
            ]
          },
          "metadata": {
            "tags": [],
            "needs_background": "light"
          }
        },
        {
          "output_type": "execute_result",
          "data": {
            "text/plain": [
              "tensor([[5]])"
            ]
          },
          "metadata": {
            "tags": []
          },
          "execution_count": 95
        }
      ]
    },
    {
      "cell_type": "code",
      "metadata": {
        "colab": {
          "base_uri": "https://localhost:8080/",
          "height": 102
        },
        "id": "YIrEcrwl-IZr",
        "outputId": "853dee8a-5b67-4306-a198-7c770ae8651b"
      },
      "source": [
        "img = valid_tensors_dict[7][957]\n",
        "show_image(img)\n",
        "plt.show()\n",
        "\n",
        "classifier(img.view(28*28).unsqueeze(dim=0))"
      ],
      "execution_count": 96,
      "outputs": [
        {
          "output_type": "display_data",
          "data": {
            "image/png": "[encoded data removed]",
            "text/plain": [
              "<Figure size 72x72 with 1 Axes>"
            ]
          },
          "metadata": {
            "tags": [],
            "needs_background": "light"
          }
        },
        {
          "output_type": "execute_result",
          "data": {
            "text/plain": [
              "tensor([[7]])"
            ]
          },
          "metadata": {
            "tags": []
          },
          "execution_count": 96
        }
      ]
    },
    {
      "cell_type": "code",
      "metadata": {
        "id": "9oI2FvUN-Cgz"
      },
      "source": [
        ""
      ],
      "execution_count": null,
      "outputs": []
    },
    {
      "cell_type": "code",
      "metadata": {
        "id": "yNjM1Ml31_0E"
      },
      "source": [
        ""
      ],
      "execution_count": null,
      "outputs": []
    },
    {
      "cell_type": "markdown",
      "metadata": {
        "id": "181oE9ezELNy"
      },
      "source": [
        "## Improvement 2 model by introducing ReLu and three layers"
      ]
    },
    {
      "cell_type": "code",
      "metadata": {
        "colab": {
          "base_uri": "https://localhost:8080/"
        },
        "id": "8Mej-i-JELNz",
        "outputId": "b32bfcb4-66a0-40cf-c57d-05437f465773"
      },
      "source": [
        "def init_params(size, std=1.0): \n",
        "    return (torch.randn(size)*std).requires_grad_()\n",
        "\n",
        "w1 = init_params((28*28, 250))\n",
        "b1 = init_params(250)\n",
        "\n",
        "w2 = init_params((250, 100))\n",
        "b2 = init_params(100)\n",
        "\n",
        "w3 = init_params((100, 10))\n",
        "b3 = init_params(10)\n",
        "\n",
        "w1.shape, b1.shape, w2.shape, b2.shape, w3.shape, b3.shape"
      ],
      "execution_count": 97,
      "outputs": [
        {
          "output_type": "execute_result",
          "data": {
            "text/plain": [
              "(torch.Size([784, 250]),\n",
              " torch.Size([250]),\n",
              " torch.Size([250, 100]),\n",
              " torch.Size([100]),\n",
              " torch.Size([100, 10]),\n",
              " torch.Size([10]))"
            ]
          },
          "metadata": {
            "tags": []
          },
          "execution_count": 97
        }
      ]
    },
    {
      "cell_type": "markdown",
      "metadata": {
        "id": "gB-4uG4IELN0"
      },
      "source": [
        "##### Define functions to calculate the predictions"
      ]
    },
    {
      "cell_type": "code",
      "metadata": {
        "id": "LabWssUNELN1"
      },
      "source": [
        "activ1 = nn.ReLU()\n",
        "\n",
        "def linear1(xb):\n",
        "    outputs =  xb @ w1 + b1\n",
        "    return activ1(outputs)\n",
        "\n",
        "def linear2(xb):\n",
        "    outputs =  xb @ w2 + b2\n",
        "    return activ1(outputs)\n",
        "\n",
        "def linear3(xb):\n",
        "    \"\"\"https://pytorch.org/docs/stable/nn.functional.html#torch.nn.functional.log_softmax\"\"\"\n",
        "    outputs =  xb @ w3 + b3\n",
        "    probs = torch.log_softmax(outputs, dim=1)\n",
        "    return probs\n",
        "\n",
        "def model(xb):\n",
        "    xb = linear1(xb)\n",
        "    xb = linear2(xb)\n",
        "    xb = linear3(xb)\n",
        "    return xb\n",
        "\n",
        "def classifier(xb):\n",
        "    xb = model(xb)\n",
        "    return xb.argmax(dim=1).unsqueeze(dim=1)"
      ],
      "execution_count": 98,
      "outputs": []
    },
    {
      "cell_type": "code",
      "metadata": {
        "id": "a359RvWkELN1"
      },
      "source": [
        "# # Testing layer by layer\n",
        "# xb, yb = first(dl)\n",
        "# display(xb.shape, yb.shape)\n",
        "# display(linear1(xb).shape)\n",
        "# display(linear2(linear1(xb)).shape)\n",
        "# display(linear3(linear2(linear1(xb))).shape)\n",
        "# display(model(xb))\n",
        "# classifier(xb)[0:3]"
      ],
      "execution_count": null,
      "outputs": []
    },
    {
      "cell_type": "markdown",
      "metadata": {
        "id": "llDIsX4KELN2"
      },
      "source": [
        "##### Define a function to calculate the loss"
      ]
    },
    {
      "cell_type": "code",
      "metadata": {
        "id": "2c9pQh2PELN2"
      },
      "source": [
        "loss_fct = F.nll_loss"
      ],
      "execution_count": 99,
      "outputs": []
    },
    {
      "cell_type": "markdown",
      "metadata": {
        "id": "imw0hvlqELN3"
      },
      "source": [
        "##### Define a function to calculate the gradients"
      ]
    },
    {
      "cell_type": "code",
      "metadata": {
        "id": "jZydlieWELN3"
      },
      "source": [
        "def calc_grad(xb, yb, model):\n",
        "    preds = model(xb)\n",
        "    loss = loss_fct(preds, yb.squeeze())\n",
        "    # print(loss)\n",
        "    loss.backward()"
      ],
      "execution_count": 100,
      "outputs": []
    },
    {
      "cell_type": "code",
      "metadata": {
        "id": "o7j3EL5OELN4"
      },
      "source": [
        "# # Testing function\n",
        "# xb, yb = first(dl)\n",
        "# display(xb.shape, yb.shape)\n",
        "# probs = model(xb)\n",
        "# display(probs.shape)\n",
        "# # display(yb)\n",
        "# loss_fct(probs, yb.squeeze())\n",
        "# calc_grad(xb, yb, model)"
      ],
      "execution_count": null,
      "outputs": []
    },
    {
      "cell_type": "markdown",
      "metadata": {
        "id": "hMEf8gBPELN4"
      },
      "source": [
        "##### Define a function performing one step/one epoch"
      ]
    },
    {
      "cell_type": "code",
      "metadata": {
        "id": "ythX26KAELN5"
      },
      "source": [
        "def train_epoch(model, lr, params):\n",
        "    for xb, yb in dl:\n",
        "        calc_grad(xb, yb, model)\n",
        "        for p in params:\n",
        "            p.data -= p.grad * lr\n",
        "            p.grad.zero_()"
      ],
      "execution_count": 101,
      "outputs": []
    },
    {
      "cell_type": "markdown",
      "metadata": {
        "id": "_vOlDoGnELN5"
      },
      "source": [
        "##### Define a function to evaluate the validation accurary"
      ]
    },
    {
      "cell_type": "code",
      "metadata": {
        "id": "O9ntDGtqELN7"
      },
      "source": [
        "#Determines how many of the predictions are actually correct \n",
        "def batch_accuracy(xb, yb):\n",
        "    accuracy = torch.eq(xb, yb).sum() / xb.shape[0]\n",
        "    return accuracy"
      ],
      "execution_count": 102,
      "outputs": []
    },
    {
      "cell_type": "code",
      "metadata": {
        "id": "KkpHxR5jELN8"
      },
      "source": [
        "# preds.unsqueeze(dim=1)"
      ],
      "execution_count": null,
      "outputs": []
    },
    {
      "cell_type": "code",
      "metadata": {
        "id": "9iFwVrglELN8"
      },
      "source": [
        "#Collects the accuracy from each element in the dataloader and displays it\n",
        "def validate_epoch(model):\n",
        "    accs = [batch_accuracy(model(xb), yb) for xb, yb in valid_dl]\n",
        "    return round(torch.stack(accs).mean().item(), 4)"
      ],
      "execution_count": 103,
      "outputs": []
    },
    {
      "cell_type": "markdown",
      "metadata": {
        "id": "Co3xbdagELN9"
      },
      "source": [
        "#### Bringing it all together and run training loop"
      ]
    },
    {
      "cell_type": "markdown",
      "metadata": {
        "id": "5Wt7YYg5ELN9"
      },
      "source": [
        "Create a function to run `n` epochs and display results."
      ]
    },
    {
      "cell_type": "code",
      "metadata": {
        "id": "BjnqFRyBELN9"
      },
      "source": [
        "from math import log10\n",
        "\n",
        "def run_n_epochs(model, lr, params, n_epochs):\n",
        "    trigger = 10**(int(log10(n_epochs))-1)\n",
        "    cols = 10\n",
        "    starting_i = metric_results['epochs'][-1] + 1\n",
        "    for i in range(starting_i, starting_i + n_epochs):\n",
        "        train_epoch(model, lr, params)\n",
        "        if i%trigger == 0:\n",
        "            v = validate_epoch(classifier)\n",
        "\n",
        "            metric_results['epochs'].append(i)\n",
        "            metric_results['values'].append(v)\n",
        "            \n",
        "            end_str = '\\n' if i//trigger%cols == 0 else ' ' \n",
        "            print(f\"{i:3d}:{v:1.4f}\", end=end_str)\n",
        "    print(f\"\\nLast:{v:1.4f}\")\n",
        "    fig, ax = plt.subplots(1, 1, figsize=(12,4))\n",
        "    ax.scatter(metric_results['epochs'], metric_results['values'])\n",
        "    return metric_results"
      ],
      "execution_count": 104,
      "outputs": []
    },
    {
      "cell_type": "markdown",
      "metadata": {
        "id": "MzeqRUTNELN-"
      },
      "source": [
        "Shuffle data, initalize parameters, run one epoch"
      ]
    },
    {
      "cell_type": "code",
      "metadata": {
        "colab": {
          "base_uri": "https://localhost:8080/"
        },
        "id": "38xKDG2fELN-",
        "outputId": "8746958b-79ee-4cf5-a998-203a72302c39"
      },
      "source": [
        "shuffle(dset)\n",
        "dl = DataLoader(dset, batch_size=256)\n",
        "valid_dl = DataLoader(valid_dset, batch_size=5)\n",
        "\n",
        "w1 = init_params((28*28, 250))\n",
        "b1 = init_params(250)\n",
        "w2 = init_params((250, 100))\n",
        "b2 = init_params(100)\n",
        "w3 = init_params((100, 10))\n",
        "b3 = init_params(10)\n",
        "\n",
        "lr = 1\n",
        "params = w1, b1, w2, b2\n",
        "\n",
        "metric_results = {}\n",
        "metric_results['epochs'] = [0]\n",
        "metric_results['values'] = [0]\n",
        "\n",
        "train_epoch(model, lr, params)\n",
        "validate_epoch(classifier)"
      ],
      "execution_count": 105,
      "outputs": [
        {
          "output_type": "execute_result",
          "data": {
            "text/plain": [
              "0.2884"
            ]
          },
          "metadata": {
            "tags": []
          },
          "execution_count": 105
        }
      ]
    },
    {
      "cell_type": "code",
      "metadata": {
        "colab": {
          "base_uri": "https://localhost:8080/",
          "height": 335
        },
        "id": "7vb3sexJELN_",
        "outputId": "cdf65858-4dc8-42c1-9d33-e120cc9b29c4"
      },
      "source": [
        "metric_results = run_n_epochs(model, lr, params, 20)"
      ],
      "execution_count": 106,
      "outputs": [
        {
          "output_type": "stream",
          "text": [
            "  1:0.3432   2:0.3574   3:0.3630   4:0.3939   5:0.4297   6:0.4517   7:0.4631   8:0.4663   9:0.4809  10:0.5085\n",
            " 11:0.5316  12:0.5307  13:0.5376  14:0.5375  15:0.5486  16:0.5588  17:0.5607  18:0.5021  19:0.4852  20:0.4854\n",
            "\n",
            "Last:0.4854\n"
          ],
          "name": "stdout"
        },
        {
          "output_type": "display_data",
          "data": {
            "image/png": "[encoded data removed]",
            "text/plain": [
              "<Figure size 864x288 with 1 Axes>"
            ]
          },
          "metadata": {
            "tags": [],
            "needs_background": "light"
          }
        }
      ]
    },
    {
      "cell_type": "code",
      "metadata": {
        "colab": {
          "base_uri": "https://localhost:8080/",
          "height": 335
        },
        "id": "ViuA51I9ELN_",
        "outputId": "b68d387f-23ca-4540-c7c7-43fad0afe0bd"
      },
      "source": [
        "metric_results = run_n_epochs(model, lr, params, 20)"
      ],
      "execution_count": 107,
      "outputs": [
        {
          "output_type": "stream",
          "text": [
            " 21:0.4977  22:0.5253  23:0.5194  24:0.5120  25:0.5184  26:0.5213  27:0.5087  28:0.5364  29:0.5601  30:0.6013\n",
            " 31:0.5643  32:0.5994  33:0.5914  34:0.6020  35:0.5796  36:0.5126  37:0.5282  38:0.5507  39:0.5483  40:0.4902\n",
            "\n",
            "Last:0.4902\n"
          ],
          "name": "stdout"
        },
        {
          "output_type": "display_data",
          "data": {
            "image/png": "[encoded data removed]",
            "text/plain": [
              "<Figure size 864x288 with 1 Axes>"
            ]
          },
          "metadata": {
            "tags": [],
            "needs_background": "light"
          }
        }
      ]
    },
    {
      "cell_type": "code",
      "metadata": {
        "colab": {
          "base_uri": "https://localhost:8080/",
          "height": 335
        },
        "id": "Zqd0m-XGGLk4",
        "outputId": "25a46ebd-9f62-47a7-e8bd-466a7e5024b5"
      },
      "source": [
        "metric_results = run_n_epochs(model, lr, params, 20)"
      ],
      "execution_count": 108,
      "outputs": [
        {
          "output_type": "stream",
          "text": [
            " 41:0.4232  42:0.5093  43:0.5523  44:0.5202  45:0.5218  46:0.5272  47:0.5283  48:0.4833  49:0.5261  50:0.5203\n",
            " 51:0.5246  52:0.5327  53:0.5393  54:0.5222  55:0.5914  56:0.5971  57:0.5539  58:0.6100  59:0.6073  60:0.5957\n",
            "\n",
            "Last:0.5957\n"
          ],
          "name": "stdout"
        },
        {
          "output_type": "display_data",
          "data": {
            "image/png": "[encoded data removed]",
            "text/plain": [
              "<Figure size 864x288 with 1 Axes>"
            ]
          },
          "metadata": {
            "tags": [],
            "needs_background": "light"
          }
        }
      ]
    },
    {
      "cell_type": "markdown",
      "metadata": {
        "id": "L0LrEYSx5E1i"
      },
      "source": [
        "Adjust the learning rate to have slower learning from here"
      ]
    },
    {
      "cell_type": "code",
      "metadata": {
        "colab": {
          "base_uri": "https://localhost:8080/",
          "height": 335
        },
        "id": "IY3B6_N0GLeG",
        "outputId": "16849132-0532-4937-d843-116e67e93a72"
      },
      "source": [
        "metric_results = run_n_epochs(model, lr/2, params, 20)"
      ],
      "execution_count": 109,
      "outputs": [
        {
          "output_type": "stream",
          "text": [
            " 61:0.6435  62:0.6539  63:0.6572  64:0.6605  65:0.6668  66:0.6696  67:0.6693  68:0.6698  69:0.6571  70:0.6666\n",
            " 71:0.6746  72:0.6757  73:0.6627  74:0.6650  75:0.6740  76:0.6753  77:0.6765  78:0.6806  79:0.6763  80:0.6837\n",
            "\n",
            "Last:0.6837\n"
          ],
          "name": "stdout"
        },
        {
          "output_type": "display_data",
          "data": {
            "image/png": "[encoded data removed]",
            "text/plain": [
              "<Figure size 864x288 with 1 Axes>"
            ]
          },
          "metadata": {
            "tags": [],
            "needs_background": "light"
          }
        }
      ]
    },
    {
      "cell_type": "code",
      "metadata": {
        "colab": {
          "base_uri": "https://localhost:8080/",
          "height": 335
        },
        "id": "aerSw38SGLaR",
        "outputId": "749d9c94-98fe-4ec1-965b-8f7d67693c98"
      },
      "source": [
        "metric_results = run_n_epochs(model, lr/2, params, 20)"
      ],
      "execution_count": 110,
      "outputs": [
        {
          "output_type": "stream",
          "text": [
            " 81:0.6771  82:0.6810  83:0.6805  84:0.6825  85:0.6815  86:0.6804  87:0.6791  88:0.6810  89:0.6817  90:0.6820\n",
            " 91:0.6840  92:0.6793  93:0.6826  94:0.6856  95:0.6799  96:0.6847  97:0.6869  98:0.6846  99:0.6881 100:0.6896\n",
            "\n",
            "Last:0.6896\n"
          ],
          "name": "stdout"
        },
        {
          "output_type": "display_data",
          "data": {
            "image/png": "[encoded data removed]",
            "text/plain": [
              "<Figure size 864x288 with 1 Axes>"
            ]
          },
          "metadata": {
            "tags": [],
            "needs_background": "light"
          }
        }
      ]
    },
    {
      "cell_type": "code",
      "metadata": {
        "colab": {
          "base_uri": "https://localhost:8080/",
          "height": 335
        },
        "id": "0VtUybcaGjwd",
        "outputId": "bb09165c-033b-4847-a986-8935acc5d4e8"
      },
      "source": [
        "metric_results = run_n_epochs(model, lr/2, params, 20)"
      ],
      "execution_count": 111,
      "outputs": [
        {
          "output_type": "stream",
          "text": [
            "101:0.6863 102:0.6931 103:0.6862 104:0.6885 105:0.6917 106:0.6903 107:0.6901 108:0.6805 109:0.6788 110:0.6773\n",
            "111:0.6856 112:0.6888 113:0.6913 114:0.6882 115:0.6887 116:0.7115 117:0.6861 118:0.6913 119:0.6909 120:0.6935\n",
            "\n",
            "Last:0.6935\n"
          ],
          "name": "stdout"
        },
        {
          "output_type": "display_data",
          "data": {
            "image/png": "[encoded data removed]",
            "text/plain": [
              "<Figure size 864x288 with 1 Axes>"
            ]
          },
          "metadata": {
            "tags": [],
            "needs_background": "light"
          }
        }
      ]
    },
    {
      "cell_type": "code",
      "metadata": {
        "colab": {
          "base_uri": "https://localhost:8080/",
          "height": 335
        },
        "id": "EEQmMBddGjs_",
        "outputId": "648d34ae-1db5-4caf-d53b-6af97b7d8a22"
      },
      "source": [
        "metric_results = run_n_epochs(model, lr/2, params, 20)"
      ],
      "execution_count": 112,
      "outputs": [
        {
          "output_type": "stream",
          "text": [
            "121:0.6871 122:0.6914 123:0.6899 124:0.6908 125:0.6903 126:0.6891 127:0.6898 128:0.6915 129:0.6897 130:0.6891\n",
            "131:0.6779 132:0.6884 133:0.6850 134:0.6816 135:0.6902 136:0.7214 137:0.6897 138:0.6840 139:0.6907 140:0.6878\n",
            "\n",
            "Last:0.6878\n"
          ],
          "name": "stdout"
        },
        {
          "output_type": "display_data",
          "data": {
            "image/png": "[encoded data removed]",
            "text/plain": [
              "<Figure size 864x288 with 1 Axes>"
            ]
          },
          "metadata": {
            "tags": [],
            "needs_background": "light"
          }
        }
      ]
    },
    {
      "cell_type": "markdown",
      "metadata": {
        "id": "WRirDqFh5siJ"
      },
      "source": [
        "Seems we are bouncing between two values and not improving. Further reduction of the learning rate for even slower training. "
      ]
    },
    {
      "cell_type": "code",
      "metadata": {
        "colab": {
          "base_uri": "https://localhost:8080/",
          "height": 335
        },
        "id": "WjRUzdZPGjps",
        "outputId": "d2df478d-4faf-4195-abf6-6bd3ed794217"
      },
      "source": [
        "metric_results = run_n_epochs(model, lr/4, params, 20)"
      ],
      "execution_count": 113,
      "outputs": [
        {
          "output_type": "stream",
          "text": [
            "141:0.7315 142:0.7358 143:0.7328 144:0.7350 145:0.7383 146:0.7404 147:0.7412 148:0.7422 149:0.7408 150:0.7420\n",
            "151:0.7428 152:0.7425 153:0.7424 154:0.7451 155:0.7441 156:0.7434 157:0.7446 158:0.7393 159:0.7429 160:0.7449\n",
            "\n",
            "Last:0.7449\n"
          ],
          "name": "stdout"
        },
        {
          "output_type": "display_data",
          "data": {
            "image/png": "[encoded data removed]",
            "text/plain": [
              "<Figure size 864x288 with 1 Axes>"
            ]
          },
          "metadata": {
            "tags": [],
            "needs_background": "light"
          }
        }
      ]
    },
    {
      "cell_type": "markdown",
      "metadata": {
        "id": "49ppCbLq6Cla"
      },
      "source": [
        "It worked, we managed to pass above 75% accuracy"
      ]
    },
    {
      "cell_type": "code",
      "metadata": {
        "colab": {
          "base_uri": "https://localhost:8080/",
          "height": 388
        },
        "id": "yM_jEbbAGje0",
        "outputId": "a92c2c29-883f-44ce-eac5-b71796a058ff"
      },
      "source": [
        "metric_results = run_n_epochs(model, lr/4, params, 50)"
      ],
      "execution_count": 114,
      "outputs": [
        {
          "output_type": "stream",
          "text": [
            "161:0.7447 162:0.7454 163:0.7451 164:0.7454 165:0.7438 166:0.7437 167:0.7435 168:0.7442 169:0.7451 170:0.7443\n",
            "171:0.7427 172:0.7435 173:0.7443 174:0.7458 175:0.7420 176:0.7431 177:0.7455 178:0.7440 179:0.7446 180:0.7450\n",
            "181:0.7440 182:0.7447 183:0.7451 184:0.7451 185:0.7443 186:0.7452 187:0.7469 188:0.7476 189:0.7408 190:0.7460\n",
            "191:0.7452 192:0.7465 193:0.7472 194:0.7473 195:0.7476 196:0.7462 197:0.7472 198:0.7484 199:0.7456 200:0.7483\n",
            "201:0.7436 202:0.7455 203:0.7456 204:0.7482 205:0.7462 206:0.7453 207:0.7459 208:0.7465 209:0.7449 210:0.7499\n",
            "\n",
            "Last:0.7499\n"
          ],
          "name": "stdout"
        },
        {
          "output_type": "display_data",
          "data": {
            "image/png": "[encoded data removed]",
            "text/plain": [
              "<Figure size 864x288 with 1 Axes>"
            ]
          },
          "metadata": {
            "tags": [],
            "needs_background": "light"
          }
        }
      ]
    },
    {
      "cell_type": "markdown",
      "metadata": {
        "id": "JjFn_eMx6JGi"
      },
      "source": [
        "Let's reduce even more the learning rate to try to reach higher accuracy."
      ]
    },
    {
      "cell_type": "code",
      "metadata": {
        "colab": {
          "base_uri": "https://localhost:8080/",
          "height": 322
        },
        "id": "RENoPJuzIkHk",
        "outputId": "04bafef8-f14c-401f-c708-ba09b9719eba"
      },
      "source": [
        "metric_results = run_n_epochs(model, lr/8, params, 100)"
      ],
      "execution_count": 115,
      "outputs": [
        {
          "output_type": "stream",
          "text": [
            "220:0.7573 230:0.7568 240:0.7568 250:0.7568 260:0.7571 270:0.7610 280:0.7613 290:0.7607 300:0.7633\n",
            "310:0.7616 \n",
            "Last:0.7616\n"
          ],
          "name": "stdout"
        },
        {
          "output_type": "display_data",
          "data": {
            "image/png": "[encoded data removed]",
            "text/plain": [
              "<Figure size 864x288 with 1 Axes>"
            ]
          },
          "metadata": {
            "tags": [],
            "needs_background": "light"
          }
        }
      ]
    },
    {
      "cell_type": "code",
      "metadata": {
        "colab": {
          "base_uri": "https://localhost:8080/",
          "height": 390
        },
        "id": "GpgXc1ZFIj9u",
        "outputId": "d335cb1c-cd65-4110-b26e-4715c09154ba"
      },
      "source": [
        "metric_results = run_n_epochs(model, lr/16, params, 500)"
      ],
      "execution_count": 116,
      "outputs": [
        {
          "output_type": "stream",
          "text": [
            "320:0.7666 330:0.7674 340:0.7682 350:0.7669 360:0.7665 370:0.7679 380:0.7668 390:0.7674 400:0.7667\n",
            "410:0.7681 420:0.7681 430:0.7679 440:0.7677 450:0.7674 460:0.7678 470:0.7677 480:0.7684 490:0.7694 500:0.7684\n",
            "510:0.7694 520:0.7690 530:0.7697 540:0.7703 550:0.7699 560:0.7705 570:0.7683 580:0.7699 590:0.7701 600:0.7712\n",
            "610:0.7695 620:0.7685 630:0.7686 640:0.7687 650:0.7691 660:0.7685 670:0.7684 680:0.7689 690:0.7695 700:0.7688\n",
            "710:0.7694 720:0.7705 730:0.7708 740:0.7722 750:0.7718 760:0.7716 770:0.7721 780:0.7725 790:0.7730 800:0.7738\n",
            "810:0.7738 \n",
            "Last:0.7738\n"
          ],
          "name": "stdout"
        },
        {
          "output_type": "display_data",
          "data": {
            "image/png": "[encoded data removed]",
            "text/plain": [
              "<Figure size 864x288 with 1 Axes>"
            ]
          },
          "metadata": {
            "tags": [],
            "needs_background": "light"
          }
        }
      ]
    }
  ]
}