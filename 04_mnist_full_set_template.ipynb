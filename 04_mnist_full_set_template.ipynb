{
  "nbformat": 4,
  "nbformat_minor": 0,
  "metadata": {
    "jupytext": {
      "split_at_heading": true
    },
    "kernelspec": {
      "display_name": "Python 3",
      "language": "python",
      "name": "python3"
    },
    "colab": {
      "name": "04_mnist_full_set_template.ipynb",
      "provenance": [],
      "collapsed_sections": [
        "zbju2SOjAo_K"
      ],
      "toc_visible": true,
      "include_colab_link": true
    },
    "accelerator": "GPU"
  },
  "cells": [
    {
      "cell_type": "markdown",
      "metadata": {
        "id": "view-in-github",
        "colab_type": "text"
      },
      "source": [
        "<a href=\"https://colab.research.google.com/github/vtecftwy/fastbook/blob/master/04_mnist_full_set_template.ipynb\" target=\"_parent\"><img src=\"https://colab.research.google.com/assets/colab-badge.svg\" alt=\"Open In Colab\"/></a>"
      ]
    },
    {
      "cell_type": "markdown",
      "metadata": {
        "id": "GMVcbFWFS-gk"
      },
      "source": [
        "This notebook is a simplified version of `04_mnist_basic` that you can use to rerun with the full MNIST dataset.\n",
        "\n",
        "It includes the two steps:\n",
        "- Pixel Similarity, applied to the full dataset. Code is provided.\n",
        "- SGD, with a structure but no code provided. For this section, inspire yourself from the [notebook](https://github.com/badreldin2/UnpackAICourse/blob/65a629d4834b666585c51671bcd5eff39fefe6b0/SGD_MNIST_Putting_it_all_together.ipynb) made by Badreldin and explained in his [medium article](https://medium.com/unpackai/sgd-mnist-putting-it-all-together-ebd4ec91d7b1). Also look at the [article](https://medium.com/unpackai/nonlinearity-and-neural-networks-2ffaaac0e6ff) by Gayan"
      ]
    },
    {
      "cell_type": "code",
      "metadata": {
        "id": "ismMd5FkAo-6"
      },
      "source": [
        "!pip install -Uqq fastbook\n",
        "import fastbook\n",
        "fastbook.setup_book()"
      ],
      "execution_count": 5,
      "outputs": []
    },
    {
      "cell_type": "code",
      "metadata": {
        "id": "d984jeb0Ao-_"
      },
      "source": [
        "from fastai.vision.all import *\n",
        "from fastbook import *\n",
        "\n",
        "matplotlib.rc('image', cmap='Greys')"
      ],
      "execution_count": 6,
      "outputs": []
    },
    {
      "cell_type": "markdown",
      "metadata": {
        "id": "2oVrDUE_nzmu"
      },
      "source": [
        "# Rerun Chapter 4 with the full MNIST dataset"
      ]
    },
    {
      "cell_type": "markdown",
      "metadata": {
        "id": "zQ-L91uh_cX0"
      },
      "source": [
        "## Load full MNIST dataset"
      ]
    },
    {
      "cell_type": "markdown",
      "metadata": {
        "id": "ECAC3RfxAo_D"
      },
      "source": [
        "We are try to rerun the two classifiers built before to classify images as a 3 or a 7, but using the full dataset with 10 digits. So let's download the full MNIST datasets:"
      ]
    },
    {
      "cell_type": "code",
      "metadata": {
        "id": "z51wexCkAo_D",
        "colab": {
          "base_uri": "https://localhost:8080/",
          "height": 17
        },
        "outputId": "7d2a83d1-6882-4c0d-9309-fe3ec901e477"
      },
      "source": [
        "path = untar_data(URLs.MNIST)    # Full dataset (0s to 9s)"
      ],
      "execution_count": 7,
      "outputs": [
        {
          "output_type": "display_data",
          "data": {
            "text/html": [
              ""
            ],
            "text/plain": [
              "<IPython.core.display.HTML object>"
            ]
          },
          "metadata": {
            "tags": []
          }
        }
      ]
    },
    {
      "cell_type": "code",
      "metadata": {
        "id": "8cb6hPXoAo_D"
      },
      "source": [
        "Path.BASE_PATH = path"
      ],
      "execution_count": 8,
      "outputs": []
    },
    {
      "cell_type": "markdown",
      "metadata": {
        "id": "7q8C99uoAo_D"
      },
      "source": [
        "We can see what's in this directory by using `ls`, a method added by fastai. This method returns an object of a special fastai class called `L`, which has all the same functionality of Python's built-in `list`, plus a lot more. One of its handy features is that, when printed, it displays the count of items, before listing the items themselves (if there are more than 10 items, it just shows the first few):"
      ]
    },
    {
      "cell_type": "code",
      "metadata": {
        "id": "1eHnXszSAo_E",
        "colab": {
          "base_uri": "https://localhost:8080/"
        },
        "outputId": "d86a7af7-4587-417e-a598-15fb1cd0a064"
      },
      "source": [
        "path.ls()"
      ],
      "execution_count": 55,
      "outputs": [
        {
          "output_type": "execute_result",
          "data": {
            "text/plain": [
              "(#2) [Path('testing'),Path('training')]"
            ]
          },
          "metadata": {
            "tags": []
          },
          "execution_count": 55
        }
      ]
    },
    {
      "cell_type": "markdown",
      "metadata": {
        "id": "9Mdy8RNkAo_F"
      },
      "source": [
        "The MNIST dataset follows a common layout for machine learning datasets: separate folders for the training set and the validation set (and/or test set). Note, though, that the names of both image folders have changed: `train` into `training` and `valid` into `testing`. Keep this in mind when you look for images in the code below.\n",
        "\n",
        "Let's see what's inside the training set:"
      ]
    },
    {
      "cell_type": "code",
      "metadata": {
        "id": "7N8WAogvAo_G",
        "colab": {
          "base_uri": "https://localhost:8080/"
        },
        "outputId": "cbfb1b02-3fb7-498e-fa9a-2ccda8e714cd"
      },
      "source": [
        "(path/'training').ls()"
      ],
      "execution_count": 10,
      "outputs": [
        {
          "output_type": "execute_result",
          "data": {
            "text/plain": [
              "(#10) [Path('training/2'),Path('training/0'),Path('training/4'),Path('training/3'),Path('training/1'),Path('training/5'),Path('training/8'),Path('training/7'),Path('training/6'),Path('training/9')]"
            ]
          },
          "metadata": {
            "tags": []
          },
          "execution_count": 10
        }
      ]
    },
    {
      "cell_type": "markdown",
      "metadata": {
        "id": "2pVC0CapAo_H"
      },
      "source": [
        "There's a folder for each digit from 0s to 9s. Let's take a look in one of these folders (using `sorted` to ensure we all get the same order of files). To do so, it is convenient to use a `dict`, indexed by the digit (0 -> 9). It prevents us from creating 10 different variables and from writing 10 times tvery similar code. We also could use a list of lists.\n",
        "``` python\n",
        "    paths_dict = {0: [list of the paths to images of 0],\n",
        "                  1: [list of the paths to images of 1],\n",
        "\n",
        "                  i: [list of the paths to images of i],\n",
        "\n",
        "                  9: [list of the paths to images of 9],\n",
        "                 }\n",
        "```"
      ]
    },
    {
      "cell_type": "code",
      "metadata": {
        "id": "NPjkeRxyAo_H",
        "colab": {
          "base_uri": "https://localhost:8080/"
        },
        "outputId": "0f125a51-bb6f-4e0f-f1d8-ef96d355d1a3"
      },
      "source": [
        "paths_dict = {}         # Create an empty dictionary to hold the paths list for each digit\n",
        "for i in range(10):\n",
        "    paths_dict[i] = (path/'training'/f\"{i}\").ls().sorted()   # add the list of path for digit i to the dict\n",
        "\n",
        "paths_dict"
      ],
      "execution_count": 11,
      "outputs": [
        {
          "output_type": "execute_result",
          "data": {
            "text/plain": [
              "{0: (#5923) [Path('training/0/1.png'),Path('training/0/1000.png'),Path('training/0/10005.png'),Path('training/0/10010.png'),Path('training/0/10022.png'),Path('training/0/10025.png'),Path('training/0/10026.png'),Path('training/0/10045.png'),Path('training/0/10069.png'),Path('training/0/10071.png')...],\n",
              " 1: (#6742) [Path('training/1/10006.png'),Path('training/1/10007.png'),Path('training/1/1002.png'),Path('training/1/10020.png'),Path('training/1/10027.png'),Path('training/1/1003.png'),Path('training/1/10040.png'),Path('training/1/10048.png'),Path('training/1/10058.png'),Path('training/1/10067.png')...],\n",
              " 2: (#5958) [Path('training/2/10009.png'),Path('training/2/10016.png'),Path('training/2/10024.png'),Path('training/2/10029.png'),Path('training/2/10072.png'),Path('training/2/10073.png'),Path('training/2/10075.png'),Path('training/2/10078.png'),Path('training/2/10081.png'),Path('training/2/10082.png')...],\n",
              " 3: (#6131) [Path('training/3/10.png'),Path('training/3/10000.png'),Path('training/3/10011.png'),Path('training/3/10031.png'),Path('training/3/10034.png'),Path('training/3/10042.png'),Path('training/3/10052.png'),Path('training/3/1007.png'),Path('training/3/10074.png'),Path('training/3/10091.png')...],\n",
              " 4: (#5842) [Path('training/4/10013.png'),Path('training/4/10018.png'),Path('training/4/10033.png'),Path('training/4/1004.png'),Path('training/4/1006.png'),Path('training/4/10060.png'),Path('training/4/1008.png'),Path('training/4/10103.png'),Path('training/4/10104.png'),Path('training/4/10114.png')...],\n",
              " 5: (#5421) [Path('training/5/0.png'),Path('training/5/100.png'),Path('training/5/10008.png'),Path('training/5/10015.png'),Path('training/5/10030.png'),Path('training/5/10035.png'),Path('training/5/10049.png'),Path('training/5/10051.png'),Path('training/5/10056.png'),Path('training/5/10062.png')...],\n",
              " 6: (#5918) [Path('training/6/10017.png'),Path('training/6/10032.png'),Path('training/6/10036.png'),Path('training/6/10037.png'),Path('training/6/10044.png'),Path('training/6/10053.png'),Path('training/6/10076.png'),Path('training/6/10089.png'),Path('training/6/10101.png'),Path('training/6/10108.png')...],\n",
              " 7: (#6265) [Path('training/7/10002.png'),Path('training/7/1001.png'),Path('training/7/10014.png'),Path('training/7/10019.png'),Path('training/7/10039.png'),Path('training/7/10046.png'),Path('training/7/10050.png'),Path('training/7/10063.png'),Path('training/7/10077.png'),Path('training/7/10086.png')...],\n",
              " 8: (#5851) [Path('training/8/10001.png'),Path('training/8/10012.png'),Path('training/8/10021.png'),Path('training/8/10041.png'),Path('training/8/10054.png'),Path('training/8/10057.png'),Path('training/8/10061.png'),Path('training/8/10064.png'),Path('training/8/10066.png'),Path('training/8/10079.png')...],\n",
              " 9: (#5949) [Path('training/9/10003.png'),Path('training/9/10004.png'),Path('training/9/10023.png'),Path('training/9/10028.png'),Path('training/9/10038.png'),Path('training/9/10043.png'),Path('training/9/10047.png'),Path('training/9/1005.png'),Path('training/9/10055.png'),Path('training/9/10059.png')...]}"
            ]
          },
          "metadata": {
            "tags": []
          },
          "execution_count": 11
        }
      ]
    },
    {
      "cell_type": "markdown",
      "metadata": {
        "id": "312NwVltAo_I"
      },
      "source": [
        "Let’s take a look at one image for each of the digits:"
      ]
    },
    {
      "cell_type": "code",
      "metadata": {
        "id": "bjWBvBVMAo_I",
        "colab": {
          "base_uri": "https://localhost:8080/",
          "height": 297
        },
        "outputId": "a557013e-1642-4f4d-9060-2bea38052521"
      },
      "source": [
        "for i in range(10):\n",
        "    img_paths = paths_dict[i][3]\n",
        "    img = Image.open(img_paths)\n",
        "    display(img)"
      ],
      "execution_count": 12,
      "outputs": [
        {
          "output_type": "display_data",
          "data": {
            "image/png": "[encoded data removed]",
            "text/plain": [
              "<PIL.PngImagePlugin.PngImageFile image mode=L size=28x28 at 0x7F863BE60450>"
            ]
          },
          "metadata": {
            "tags": []
          }
        },
        {
          "output_type": "display_data",
          "data": {
            "image/png": "[encoded data removed]",
            "text/plain": [
              "<PIL.PngImagePlugin.PngImageFile image mode=L size=28x28 at 0x7F863B86BA90>"
            ]
          },
          "metadata": {
            "tags": []
          }
        },
        {
          "output_type": "display_data",
          "data": {
            "image/png": "[encoded data removed]",
            "text/plain": [
              "<PIL.PngImagePlugin.PngImageFile image mode=L size=28x28 at 0x7F863B86BF10>"
            ]
          },
          "metadata": {
            "tags": []
          }
        },
        {
          "output_type": "display_data",
          "data": {
            "image/png": "[encoded data removed]",
            "text/plain": [
              "<PIL.PngImagePlugin.PngImageFile image mode=L size=28x28 at 0x7F863B86B310>"
            ]
          },
          "metadata": {
            "tags": []
          }
        },
        {
          "output_type": "display_data",
          "data": {
            "image/png": "[encoded data removed]",
            "text/plain": [
              "<PIL.PngImagePlugin.PngImageFile image mode=L size=28x28 at 0x7F863B877090>"
            ]
          },
          "metadata": {
            "tags": []
          }
        },
        {
          "output_type": "display_data",
          "data": {
            "image/png": "[encoded data removed]",
            "text/plain": [
              "<PIL.PngImagePlugin.PngImageFile image mode=L size=28x28 at 0x7F863B877190>"
            ]
          },
          "metadata": {
            "tags": []
          }
        },
        {
          "output_type": "display_data",
          "data": {
            "image/png": "[encoded data removed]",
            "text/plain": [
              "<PIL.PngImagePlugin.PngImageFile image mode=L size=28x28 at 0x7F863B863B10>"
            ]
          },
          "metadata": {
            "tags": []
          }
        },
        {
          "output_type": "display_data",
          "data": {
            "image/png": "[encoded data removed]",
            "text/plain": [
              "<PIL.PngImagePlugin.PngImageFile image mode=L size=28x28 at 0x7F863B877790>"
            ]
          },
          "metadata": {
            "tags": []
          }
        },
        {
          "output_type": "display_data",
          "data": {
            "image/png": "[encoded data removed]",
            "text/plain": [
              "<PIL.PngImagePlugin.PngImageFile image mode=L size=28x28 at 0x7F863B8778D0>"
            ]
          },
          "metadata": {
            "tags": []
          }
        },
        {
          "output_type": "display_data",
          "data": {
            "image/png": "[encoded data removed]",
            "text/plain": [
              "<PIL.PngImagePlugin.PngImageFile image mode=L size=28x28 at 0x7F863B877A10>"
            ]
          },
          "metadata": {
            "tags": []
          }
        }
      ]
    },
    {
      "cell_type": "markdown",
      "metadata": {
        "id": "enZri5pkAo_J"
      },
      "source": [
        "We can store the image in a tensor and slice it to pick some part of the image. We then use a Pandas DataFrame to color-code the values using a gradient, which shows us clearly how the image is created from the pixel values:"
      ]
    },
    {
      "cell_type": "markdown",
      "metadata": {
        "id": "zbju2SOjAo_K"
      },
      "source": [
        "## Baseline model: Pixel Similarity"
      ]
    },
    {
      "cell_type": "markdown",
      "metadata": {
        "id": "nZ0g9n7sAo_K"
      },
      "source": [
        "So, here is a first idea: how about we find the average pixel value for every pixel for each digit (0 to 9). Then, to classify an image as one digit or the other, we see which of these ideal digits the image is most similar to. This certainly seems like it should be better than nothing, so it will make a good baseline."
      ]
    },
    {
      "cell_type": "markdown",
      "metadata": {
        "id": "3Nu_zxJnAo_L"
      },
      "source": [
        "Step one for our simple model is to get the average of pixel values for the groups of images for each pixel.\n",
        "\n",
        "Let's create a tensor containing all of the images representing a single digit, stacked together. We use the same list comnprehension as in `04_mnist_basic`. But since we have 10 groups, we again use a dictionary indexed with the digit 0 to 9, to hold the stacked images, instead of 10 variables. You also can use a list of tensors here. There are also other methods that may be faster."
      ]
    },
    {
      "cell_type": "code",
      "metadata": {
        "id": "K-QBaP57Ao_L"
      },
      "source": [
        "tensors_dict = {}\n",
        "for i in range(10):\n",
        "    tensors_dict[i] = [tensor(Image.open(o)) for o in paths_dict[i]]"
      ],
      "execution_count": 13,
      "outputs": []
    },
    {
      "cell_type": "code",
      "metadata": {
        "colab": {
          "base_uri": "https://localhost:8080/",
          "height": 0
        },
        "id": "3lr9h45QANvp",
        "outputId": "10d77801-b5d8-4f1e-9a61-fe802de3ad63"
      },
      "source": [
        "# Show the number of images for each digit\n",
        "print(f'Total number of images: {sum([len(v) for k, v in tensors_dict.items()]):,d}')\n",
        "display([f\"{len(v):,d} images for {k}\" for k, v in tensors_dict.items()])\n"
      ],
      "execution_count": 14,
      "outputs": [
        {
          "output_type": "stream",
          "text": [
            "Total number of images: 60,000\n"
          ],
          "name": "stdout"
        },
        {
          "output_type": "display_data",
          "data": {
            "text/plain": [
              "['5,923 images for 0',\n",
              " '6,742 images for 1',\n",
              " '5,958 images for 2',\n",
              " '6,131 images for 3',\n",
              " '5,842 images for 4',\n",
              " '5,421 images for 5',\n",
              " '5,918 images for 6',\n",
              " '6,265 images for 7',\n",
              " '5,851 images for 8',\n",
              " '5,949 images for 9']"
            ]
          },
          "metadata": {
            "tags": []
          }
        }
      ]
    },
    {
      "cell_type": "markdown",
      "metadata": {
        "id": "lLNeQOo3Ao_M"
      },
      "source": [
        "We'll also check that one of the images looks okay. Since we now have tensors (which Jupyter by default will print as values), rather than PIL images (which Jupyter by default will display as images), we need to use fastai's `show_image` function to display it:"
      ]
    },
    {
      "cell_type": "code",
      "metadata": {
        "id": "fhPxcHn1Ao_M",
        "colab": {
          "base_uri": "https://localhost:8080/",
          "height": 0
        },
        "outputId": "a43e66ef-888a-46b9-e099-958cf6d4ba73"
      },
      "source": [
        "show_image(tensors_dict[2][1])\n",
        "show_image(tensors_dict[9][1]);"
      ],
      "execution_count": 15,
      "outputs": [
        {
          "output_type": "display_data",
          "data": {
            "image/png": "[encoded data removed]",
            "text/plain": [
              "<Figure size 72x72 with 1 Axes>"
            ]
          },
          "metadata": {
            "tags": [],
            "needs_background": "light"
          }
        },
        {
          "output_type": "display_data",
          "data": {
            "image/png": "[encoded data removed]",
            "text/plain": [
              "<Figure size 72x72 with 1 Axes>"
            ]
          },
          "metadata": {
            "tags": [],
            "needs_background": "light"
          }
        }
      ]
    },
    {
      "cell_type": "markdown",
      "metadata": {
        "id": "MVISc1SpAo_N"
      },
      "source": [
        "For every pixel position, we want to compute the average over all the images of the intensity of that pixel. To do this we first combine all the images in this list into a single three-dimensional tensor. The most common way to describe such a tensor is to call it a *rank-3 tensor*. We often need to stack up individual tensors in a collection into a single tensor. Unsurprisingly, PyTorch comes with a function called `stack` that we can use for this purpose.\n",
        "\n",
        "Some operations in PyTorch, such as taking a mean, require us to *cast* our integer types to float types. Since we'll be needing this later, we'll also cast our stacked tensor to `float` now. Casting in PyTorch is as simple as typing the name of the type you wish to cast to, and treating it as a method.\n",
        "\n",
        "Generally when images are floats, the pixel values are expected to be between 0 and 1, so we will also divide by 255 here:"
      ]
    },
    {
      "cell_type": "code",
      "metadata": {
        "id": "em4pFaPTAo_N"
      },
      "source": [
        "# Calculate the stacked tensor for each of the digit and store that tensor in a dictionary index by digit\n",
        "stacked_tensors_dict = {}\n",
        "for digit, img_tensor in tensors_dict.items():\n",
        "    stacked_tensors_dict[digit] = torch.stack(img_tensor).float()/255"
      ],
      "execution_count": 16,
      "outputs": []
    },
    {
      "cell_type": "markdown",
      "metadata": {
        "id": "dvddIlsBAo_N"
      },
      "source": [
        "Perhaps the most important attribute of a tensor is its *shape*. This tells you the length of each axis. In this case, we can see that we have around 6,000 images for each digit, each image of size 28×28 pixels. There is nothing specifically about this tensor that says that the first axis is the number of images, the second is the height, and the third is the width—the semantics of a tensor are entirely up to us, and how we construct it. As far as PyTorch is concerned, it is just a bunch of numbers in memory."
      ]
    },
    {
      "cell_type": "code",
      "metadata": {
        "colab": {
          "base_uri": "https://localhost:8080/"
        },
        "id": "HR_70dP0CDmt",
        "outputId": "51d9477d-0be4-4f6b-b101-833b70220c37"
      },
      "source": [
        "print('Shapes of image tensor for each digit:')\n",
        "for digit, img_tensor in stacked_tensors_dict.items():\n",
        "    print('   ', digit, ': ', stacked_tensors_dict[digit].shape)"
      ],
      "execution_count": 17,
      "outputs": [
        {
          "output_type": "stream",
          "text": [
            "Shapes of image tensor for each digit:\n",
            "    0 :  torch.Size([5923, 28, 28])\n",
            "    1 :  torch.Size([6742, 28, 28])\n",
            "    2 :  torch.Size([5958, 28, 28])\n",
            "    3 :  torch.Size([6131, 28, 28])\n",
            "    4 :  torch.Size([5842, 28, 28])\n",
            "    5 :  torch.Size([5421, 28, 28])\n",
            "    6 :  torch.Size([5918, 28, 28])\n",
            "    7 :  torch.Size([6265, 28, 28])\n",
            "    8 :  torch.Size([5851, 28, 28])\n",
            "    9 :  torch.Size([5949, 28, 28])\n"
          ],
          "name": "stdout"
        }
      ]
    },
    {
      "cell_type": "markdown",
      "metadata": {
        "id": "eioTreEvAo_O"
      },
      "source": [
        "Finally, we can compute what the ideal digit image looks like. We calculate the mean of all the image tensors by taking the mean along dimension 0 of our stacked, rank-3 tensor. This is the dimension that indexes over all the images.\n",
        "\n",
        "In other words, for every pixel position, this will compute the average of that pixel over all images. The result will be one value for every pixel position, or a single image. Here it is:"
      ]
    },
    {
      "cell_type": "code",
      "metadata": {
        "id": "imwKFV7kAo_P",
        "colab": {
          "base_uri": "https://localhost:8080/",
          "height": 0
        },
        "outputId": "6e3cb628-0117-4350-d8b3-15071f7d28d8"
      },
      "source": [
        "means_dict = {}\n",
        "for digit, tnsr in stacked_tensors_dict.items():\n",
        "    means_dict[digit] = stacked_tensors_dict[digit].mean(0)\n",
        "    show_image(means_dict[digit])"
      ],
      "execution_count": 18,
      "outputs": [
        {
          "output_type": "display_data",
          "data": {
            "image/png": "[encoded data removed]",
            "text/plain": [
              "<Figure size 72x72 with 1 Axes>"
            ]
          },
          "metadata": {
            "tags": [],
            "needs_background": "light"
          }
        },
        {
          "output_type": "display_data",
          "data": {
            "image/png": "[encoded data removed]",
            "text/plain": [
              "<Figure size 72x72 with 1 Axes>"
            ]
          },
          "metadata": {
            "tags": [],
            "needs_background": "light"
          }
        },
        {
          "output_type": "display_data",
          "data": {
            "image/png": "[encoded data removed]",
            "text/plain": [
              "<Figure size 72x72 with 1 Axes>"
            ]
          },
          "metadata": {
            "tags": [],
            "needs_background": "light"
          }
        },
        {
          "output_type": "display_data",
          "data": {
            "image/png": "[encoded data removed]",
            "text/plain": [
              "<Figure size 72x72 with 1 Axes>"
            ]
          },
          "metadata": {
            "tags": [],
            "needs_background": "light"
          }
        },
        {
          "output_type": "display_data",
          "data": {
            "image/png": "[encoded data removed]",
            "text/plain": [
              "<Figure size 72x72 with 1 Axes>"
            ]
          },
          "metadata": {
            "tags": [],
            "needs_background": "light"
          }
        },
        {
          "output_type": "display_data",
          "data": {
            "image/png": "[encoded data removed]",
            "text/plain": [
              "<Figure size 72x72 with 1 Axes>"
            ]
          },
          "metadata": {
            "tags": [],
            "needs_background": "light"
          }
        },
        {
          "output_type": "display_data",
          "data": {
            "image/png": "[encoded data removed]",
            "text/plain": [
              "<Figure size 72x72 with 1 Axes>"
            ]
          },
          "metadata": {
            "tags": [],
            "needs_background": "light"
          }
        },
        {
          "output_type": "display_data",
          "data": {
            "image/png": "[encoded data removed]",
            "text/plain": [
              "<Figure size 72x72 with 1 Axes>"
            ]
          },
          "metadata": {
            "tags": [],
            "needs_background": "light"
          }
        },
        {
          "output_type": "display_data",
          "data": {
            "image/png": "[encoded data removed]",
            "text/plain": [
              "<Figure size 72x72 with 1 Axes>"
            ]
          },
          "metadata": {
            "tags": [],
            "needs_background": "light"
          }
        },
        {
          "output_type": "display_data",
          "data": {
            "image/png": "[encoded data removed]",
            "text/plain": [
              "<Figure size 72x72 with 1 Axes>"
            ]
          },
          "metadata": {
            "tags": [],
            "needs_background": "light"
          }
        }
      ]
    },
    {
      "cell_type": "markdown",
      "metadata": {
        "id": "hel27ng0Ao_P"
      },
      "source": [
        "According to this dataset, these are the ideal images for each of the digits"
      ]
    },
    {
      "cell_type": "markdown",
      "metadata": {
        "id": "an-Fs1vpAo_P"
      },
      "source": [
        "Let's now pick an arbitrary 3 and measure its *distance* from our \"ideal digits.\"\n",
        "\n",
        "> **Stop and Think!**: How would you calculate how similar a particular image is to each of our ideal digits? Remember to step away from this book and jot down some ideas before you move on! Research shows that recall and understanding improves dramatically when you are engaged with the learning process by solving problems, experimenting, and trying new ideas yourself"
      ]
    },
    {
      "cell_type": "markdown",
      "metadata": {
        "id": "lp5ha0ANCoSr"
      },
      "source": [
        "Here's a sample image of one digit:"
      ]
    },
    {
      "cell_type": "code",
      "metadata": {
        "id": "ICZFvZHHAo_P",
        "colab": {
          "base_uri": "https://localhost:8080/",
          "height": 0
        },
        "outputId": "3c3d23ab-3fa5-4c7e-8825-00d5d861b4dc"
      },
      "source": [
        "selected_digit = 3\n",
        "img = stacked_tensors_dict[selected_digit][2]\n",
        "show_image(img);"
      ],
      "execution_count": 19,
      "outputs": [
        {
          "output_type": "display_data",
          "data": {
            "image/png": "[encoded data removed]",
            "text/plain": [
              "<Figure size 72x72 with 1 Axes>"
            ]
          },
          "metadata": {
            "tags": [],
            "needs_background": "light"
          }
        }
      ]
    },
    {
      "cell_type": "markdown",
      "metadata": {
        "id": "ypkq4CqSAo_P"
      },
      "source": [
        "Let's compare again our Mean Absolute Error (MAE) and Mean Square Error (MSE)"
      ]
    },
    {
      "cell_type": "code",
      "metadata": {
        "id": "UTs8ufStAo_Q",
        "colab": {
          "base_uri": "https://localhost:8080/"
        },
        "outputId": "28682519-d24c-4524-a5aa-2c7125809b43"
      },
      "source": [
        "dist_3_mae = (img - means_dict[3]).abs().mean()\n",
        "dist_3_mse = ((img - means_dict[3])**2).mean().sqrt()\n",
        "dist_3_mae, dist_3_mse"
      ],
      "execution_count": 20,
      "outputs": [
        {
          "output_type": "execute_result",
          "data": {
            "text/plain": [
              "(tensor(0.1100), tensor(0.1980))"
            ]
          },
          "metadata": {
            "tags": []
          },
          "execution_count": 20
        }
      ]
    },
    {
      "cell_type": "code",
      "metadata": {
        "id": "xt4MbXJ-Ao_Q",
        "colab": {
          "base_uri": "https://localhost:8080/"
        },
        "outputId": "170ad308-d936-474e-807b-dd1569121440"
      },
      "source": [
        "dist_7_mae = (img - means_dict[7]).abs().mean()\n",
        "dist_7_mse = ((img - means_dict[7])**2).mean().sqrt()\n",
        "dist_7_mae, dist_7_mse"
      ],
      "execution_count": 21,
      "outputs": [
        {
          "output_type": "execute_result",
          "data": {
            "text/plain": [
              "(tensor(0.1541), tensor(0.2974))"
            ]
          },
          "metadata": {
            "tags": []
          },
          "execution_count": 21
        }
      ]
    },
    {
      "cell_type": "markdown",
      "metadata": {
        "id": "6quCmrdveh5n"
      },
      "source": [
        "Let's visualize what these distances mean:"
      ]
    },
    {
      "cell_type": "code",
      "metadata": {
        "colab": {
          "base_uri": "https://localhost:8080/",
          "height": 0
        },
        "id": "KXN1-_VDRT_G",
        "outputId": "7498a792-92d1-4607-f3e8-ced3720f640f"
      },
      "source": [
        "digit = 4\n",
        "img = stacked_tensors_dict[digit][10]\n",
        "\n",
        "fig, axs = plt.subplots(nrows=1, ncols=11, figsize=(18,5))\n",
        "for i in range(10):\n",
        "    show_image(means_dict[i], title=f\"Mean {i}\", ax=axs[i+1])\n",
        "show_image(img, title='Image to compare', ax=axs[0])\n",
        "plt.show()\n",
        "\n",
        "print('\\nSimple Difference:')\n",
        "fig, axs = plt.subplots(nrows=1, ncols=11, figsize=(18,5))\n",
        "for i in range(10):\n",
        "    show_image((img - means_dict[i]), title=f'with {i}', ax=axs[i+1])\n",
        "show_image(img, title='Image to compare', ax=axs[0])\n",
        "plt.show()\n",
        "\n",
        "print('\\nMAE - Mean Absolute Error:')\n",
        "fig, axs = plt.subplots(nrows=1, ncols=11, figsize=(18,5))\n",
        "for i in range(10):\n",
        "    show_image((img - means_dict[i]).abs(), title=f'with {i}', ax=axs[i+1])\n",
        "show_image(img, title='Image to compare', ax=axs[0])\n",
        "plt.show()\n",
        "\n",
        "print('\\nMSE - Mean Squared Error:')\n",
        "fig, axs = plt.subplots(nrows=1, ncols=11, figsize=(18,5))\n",
        "for i in range(10):\n",
        "    show_image((img - means_dict[i]).square(), title=f'with {i}', ax=axs[i+1])\n",
        "show_image(img, title='Image to compare', ax=axs[0])\n",
        "plt.show()"
      ],
      "execution_count": 22,
      "outputs": [
        {
          "output_type": "display_data",
          "data": {
            "image/png": "[encoded data removed]",
            "text/plain": [
              "<Figure size 1296x360 with 11 Axes>"
            ]
          },
          "metadata": {
            "tags": [],
            "needs_background": "light"
          }
        },
        {
          "output_type": "stream",
          "text": [
            "\n",
            "Simple Difference:\n"
          ],
          "name": "stdout"
        },
        {
          "output_type": "display_data",
          "data": {
            "image/png": "[encoded data removed]",
            "text/plain": [
              "<Figure size 1296x360 with 11 Axes>"
            ]
          },
          "metadata": {
            "tags": [],
            "needs_background": "light"
          }
        },
        {
          "output_type": "stream",
          "text": [
            "\n",
            "MAE - Mean Absolute Error:\n"
          ],
          "name": "stdout"
        },
        {
          "output_type": "display_data",
          "data": {
            "image/png": "[encoded data removed]",
            "text/plain": [
              "<Figure size 1296x360 with 11 Axes>"
            ]
          },
          "metadata": {
            "tags": [],
            "needs_background": "light"
          }
        },
        {
          "output_type": "stream",
          "text": [
            "\n",
            "MSE - Mean Squared Error:\n"
          ],
          "name": "stdout"
        },
        {
          "output_type": "display_data",
          "data": {
            "image/png": "[encoded data removed]",
            "text/plain": [
              "<Figure size 1296x360 with 11 Axes>"
            ]
          },
          "metadata": {
            "tags": [],
            "needs_background": "light"
          }
        }
      ]
    },
    {
      "cell_type": "markdown",
      "metadata": {
        "id": "KhRFcuqwAo_Q"
      },
      "source": [
        "PyTorch already provides both of these as *loss functions*. You'll find these inside `torch.nn.functional`, which the PyTorch team recommends importing as `F` (and is available by default under that name in fastai):"
      ]
    },
    {
      "cell_type": "code",
      "metadata": {
        "id": "E2aPZy-3Ao_Q",
        "colab": {
          "base_uri": "https://localhost:8080/"
        },
        "outputId": "22212e3f-9bfe-46e9-b1ee-223bed792368"
      },
      "source": [
        "F.l1_loss(img.float(),means_dict[7]), F.mse_loss(img, means_dict[7]).sqrt()  "
      ],
      "execution_count": 23,
      "outputs": [
        {
          "output_type": "execute_result",
          "data": {
            "text/plain": [
              "(tensor(0.1161), tensor(0.2299))"
            ]
          },
          "metadata": {
            "tags": []
          },
          "execution_count": 23
        }
      ]
    },
    {
      "cell_type": "markdown",
      "metadata": {
        "id": "Av_zS0apAo_R"
      },
      "source": [
        "Here `mse` stands for *mean squared error*, and `l1` refers to the standard mathematical jargon for *mean absolute value* (in math it's called the *L1 norm*)."
      ]
    },
    {
      "cell_type": "markdown",
      "metadata": {
        "id": "72-jn9W-Ao_Y"
      },
      "source": [
        "So, is our baseline model any good? To quantify this, we must define a metric."
      ]
    },
    {
      "cell_type": "markdown",
      "metadata": {
        "id": "_hE2D-d4Ao_Y"
      },
      "source": [
        "c over a *validation set*. This is so that we don't inadvertently overfit—that is, train a model to work well only on our training data. This is not really a risk with the pixel similarity model we're using here as a first try, since it has no trained components, but we'll use a validation set anyway to follow normal practices and to be ready for our second try later.\n",
        "\n",
        "To get a validation set we need to remove some of the data from training entirely, so it is not seen by the model at all. As it turns out, the creators of the MNIST dataset have already done this for us. Do you remember how there was a whole separate directory called *valid*? That's what this directory is for!\n",
        "\n",
        "So to start with, let's create tensors for our 3s and 7s from that directory. These are the tensors we will use to calculate a metric measuring the quality of our first-try model, which measures distance from an ideal image:"
      ]
    },
    {
      "cell_type": "markdown",
      "metadata": {
        "id": "KJVX90_NHIui"
      },
      "source": [
        "### Create validation set"
      ]
    },
    {
      "cell_type": "code",
      "metadata": {
        "id": "5S4A7eEjAo_Z",
        "colab": {
          "base_uri": "https://localhost:8080/"
        },
        "outputId": "5c42b46e-b74e-4696-8af9-8274fc7a5db5"
      },
      "source": [
        "valid_tensors_dict = {}\n",
        "\n",
        "for digit, tnrs in stacked_tensors_dict.items():\n",
        "    valid_tensors_dict[digit] = torch.stack([tensor(Image.open(o)) \n",
        "                                             for o in (path/'testing'/f\"{digit}\").ls()])\n",
        "    valid_tensors_dict[digit] = valid_tensors_dict[digit].float()/255\n",
        "    print('shape for',digit, ':', valid_tensors_dict[digit].shape)"
      ],
      "execution_count": 24,
      "outputs": [
        {
          "output_type": "stream",
          "text": [
            "shape for 0 : torch.Size([980, 28, 28])\n",
            "shape for 1 : torch.Size([1135, 28, 28])\n",
            "shape for 2 : torch.Size([1032, 28, 28])\n",
            "shape for 3 : torch.Size([1010, 28, 28])\n",
            "shape for 4 : torch.Size([982, 28, 28])\n",
            "shape for 5 : torch.Size([892, 28, 28])\n",
            "shape for 6 : torch.Size([958, 28, 28])\n",
            "shape for 7 : torch.Size([1028, 28, 28])\n",
            "shape for 8 : torch.Size([974, 28, 28])\n",
            "shape for 9 : torch.Size([1009, 28, 28])\n"
          ],
          "name": "stdout"
        }
      ]
    },
    {
      "cell_type": "markdown",
      "metadata": {
        "id": "QQylH3NjHWcs"
      },
      "source": [
        "It's good to get in the habit of checking shapes as you go. Here we see 10 tensors, each representing one digit validation set of about 1,000 images of size 28×28. Total number of validation images is 10,000."
      ]
    },
    {
      "cell_type": "code",
      "metadata": {
        "colab": {
          "base_uri": "https://localhost:8080/"
        },
        "id": "RzgqkBhoHXET",
        "outputId": "e0a5e39f-bb3d-47dd-9375-9ec8d0b1830d"
      },
      "source": [
        "print('Shapes of image tensor for each digit:')\n",
        "for digit, tnrs in valid_tensors_dict.items():\n",
        "    print(' shape for',digit, ':', valid_tensors_dict[digit].shape)"
      ],
      "execution_count": 25,
      "outputs": [
        {
          "output_type": "stream",
          "text": [
            "Shapes of image tensor for each digit:\n",
            " shape for 0 : torch.Size([980, 28, 28])\n",
            " shape for 1 : torch.Size([1135, 28, 28])\n",
            " shape for 2 : torch.Size([1032, 28, 28])\n",
            " shape for 3 : torch.Size([1010, 28, 28])\n",
            " shape for 4 : torch.Size([982, 28, 28])\n",
            " shape for 5 : torch.Size([892, 28, 28])\n",
            " shape for 6 : torch.Size([958, 28, 28])\n",
            " shape for 7 : torch.Size([1028, 28, 28])\n",
            " shape for 8 : torch.Size([974, 28, 28])\n",
            " shape for 9 : torch.Size([1009, 28, 28])\n"
          ],
          "name": "stdout"
        }
      ]
    },
    {
      "cell_type": "markdown",
      "metadata": {
        "id": "8Nt2VHIgKQqq"
      },
      "source": [
        "### Loss - Metric"
      ]
    },
    {
      "cell_type": "markdown",
      "metadata": {
        "id": "UMxFeeiwAo_Z"
      },
      "source": [
        "We ultimately want to write a function, `evaluate_digit()`, that will return the most probable digit for one inage we pass to the function.\n",
        "\n",
        "**STOP AND THINK**:\n",
        "\n",
        "- How would you extrapolate the approach for used in the sample MNIST case, when we only had two digits? \n",
        "- In this casem you cannot use the same method because we have more than two digits this time. \n",
        "- A function `is_3` as `True` or `False` is not enough. \n",
        "\n"
      ]
    },
    {
      "cell_type": "markdown",
      "metadata": {
        "id": "Tk1bac__Lthw"
      },
      "source": [
        "Hint for one possible solution: \n",
        "- compare the distances between one image and each of the mean images, then assume that the image corresponds to the digit with the smallest distance."
      ]
    },
    {
      "cell_type": "markdown",
      "metadata": {
        "id": "5F0iV2cFUxc-"
      },
      "source": [
        "Code for this approach:\n",
        "\n",
        "1. We keep the same distance as before, that is MAE:"
      ]
    },
    {
      "cell_type": "code",
      "metadata": {
        "id": "3ViXqzG1Ao_Z",
        "colab": {
          "base_uri": "https://localhost:8080/"
        },
        "outputId": "23919db8-35a0-4efb-aad9-fc0826c3bf4d"
      },
      "source": [
        "def mnist_distance(a, b): \n",
        "    return (a - b).abs().mean((-1, -2))\n",
        "\n",
        "mnist_distance(img, means_dict[7])"
      ],
      "execution_count": 26,
      "outputs": [
        {
          "output_type": "execute_result",
          "data": {
            "text/plain": [
              "tensor(0.1161)"
            ]
          },
          "metadata": {
            "tags": []
          },
          "execution_count": 26
        }
      ]
    },
    {
      "cell_type": "markdown",
      "metadata": {
        "id": "kXZl2iB5O72Q"
      },
      "source": [
        "2. We compute the distance to each digit mean"
      ]
    },
    {
      "cell_type": "code",
      "metadata": {
        "colab": {
          "base_uri": "https://localhost:8080/",
          "height": 0
        },
        "id": "F8mgpjNbPA0g",
        "outputId": "2042db42-56fa-4263-eea7-4baa285a40af"
      },
      "source": [
        "# Select an image to compate\n",
        "img_tnsr = valid_tensors_dict[8][559]\n",
        "show_image(img_tnsr)\n",
        "plt.show()\n",
        "\n",
        "for i in range(10):\n",
        "    print(f\"Distance between image and {i} is {mnist_distance(img_tnsr, means_dict[i])} \")"
      ],
      "execution_count": 27,
      "outputs": [
        {
          "output_type": "display_data",
          "data": {
            "image/png": "[encoded data removed]",
            "text/plain": [
              "<Figure size 72x72 with 1 Axes>"
            ]
          },
          "metadata": {
            "tags": [],
            "needs_background": "light"
          }
        },
        {
          "output_type": "stream",
          "text": [
            "Distance between image and 0 is 0.1808202564716339 \n",
            "Distance between image and 1 is 0.1442546397447586 \n",
            "Distance between image and 2 is 0.17209382355213165 \n",
            "Distance between image and 3 is 0.17300643026828766 \n",
            "Distance between image and 4 is 0.15727555751800537 \n",
            "Distance between image and 5 is 0.15030020475387573 \n",
            "Distance between image and 6 is 0.17104557156562805 \n",
            "Distance between image and 7 is 0.15621329843997955 \n",
            "Distance between image and 8 is 0.12615351378917694 \n",
            "Distance between image and 9 is 0.1434987485408783 \n"
          ],
          "name": "stdout"
        }
      ]
    },
    {
      "cell_type": "markdown",
      "metadata": {
        "id": "reRtNDT8PbXg"
      },
      "source": [
        "The smallest distance should represent the correct digit. In this case it is correct."
      ]
    },
    {
      "cell_type": "markdown",
      "metadata": {
        "id": "YXj4B1VyPia6"
      },
      "source": [
        "With broadcasting, we also can apply the distance to all the images of one class/digit at the same time. `mnist_distance` should return a tensor with the distances for all the images in the batch."
      ]
    },
    {
      "cell_type": "code",
      "metadata": {
        "colab": {
          "base_uri": "https://localhost:8080/",
          "height": 0
        },
        "id": "hYjPk8OEJP6R",
        "outputId": "45f7e876-dee4-47b3-bfaf-fccfaf2ef5c1"
      },
      "source": [
        "# Select a batch with all the images representing one digit\n",
        "img_tnsr = stacked_tensors_dict[8]\n",
        "\n",
        "distances = mnist_distance(img_tnsr, means_dict[7])\n",
        "display(distances.shape)\n",
        "display(distances)"
      ],
      "execution_count": 28,
      "outputs": [
        {
          "output_type": "display_data",
          "data": {
            "text/plain": [
              "torch.Size([5851])"
            ]
          },
          "metadata": {
            "tags": []
          }
        },
        {
          "output_type": "display_data",
          "data": {
            "text/plain": [
              "tensor([0.1501, 0.1984, 0.1541,  ..., 0.1339, 0.1280, 0.1585])"
            ]
          },
          "metadata": {
            "tags": []
          }
        }
      ]
    },
    {
      "cell_type": "code",
      "metadata": {
        "colab": {
          "base_uri": "https://localhost:8080/",
          "height": 0
        },
        "id": "5jfV1_NGKFf5",
        "outputId": "db2decbe-476f-4c10-b284-2acdc1958db1"
      },
      "source": [
        "# Show distances to all the digits\n",
        "img_tnsr = stacked_tensors_dict[8]\n",
        "\n",
        "for i in range(10):\n",
        "    display(mnist_distance(img_tnsr, means_dict[i]))"
      ],
      "execution_count": 29,
      "outputs": [
        {
          "output_type": "display_data",
          "data": {
            "text/plain": [
              "tensor([0.1795, 0.2126, 0.1797,  ..., 0.1697, 0.1837, 0.1942])"
            ]
          },
          "metadata": {
            "tags": []
          }
        },
        {
          "output_type": "display_data",
          "data": {
            "text/plain": [
              "tensor([0.1039, 0.2042, 0.0930,  ..., 0.1016, 0.0990, 0.1375])"
            ]
          },
          "metadata": {
            "tags": []
          }
        },
        {
          "output_type": "display_data",
          "data": {
            "text/plain": [
              "tensor([0.1480, 0.2038, 0.1472,  ..., 0.1283, 0.1469, 0.1563])"
            ]
          },
          "metadata": {
            "tags": []
          }
        },
        {
          "output_type": "display_data",
          "data": {
            "text/plain": [
              "tensor([0.1456, 0.1777, 0.1394,  ..., 0.1344, 0.1268, 0.1538])"
            ]
          },
          "metadata": {
            "tags": []
          }
        },
        {
          "output_type": "display_data",
          "data": {
            "text/plain": [
              "tensor([0.1559, 0.2038, 0.1607,  ..., 0.1249, 0.1370, 0.1435])"
            ]
          },
          "metadata": {
            "tags": []
          }
        },
        {
          "output_type": "display_data",
          "data": {
            "text/plain": [
              "tensor([0.1481, 0.1930, 0.1450,  ..., 0.1308, 0.1336, 0.1525])"
            ]
          },
          "metadata": {
            "tags": []
          }
        },
        {
          "output_type": "display_data",
          "data": {
            "text/plain": [
              "tensor([0.1612, 0.1939, 0.1614,  ..., 0.1305, 0.1458, 0.1656])"
            ]
          },
          "metadata": {
            "tags": []
          }
        },
        {
          "output_type": "display_data",
          "data": {
            "text/plain": [
              "tensor([0.1501, 0.1984, 0.1541,  ..., 0.1339, 0.1280, 0.1585])"
            ]
          },
          "metadata": {
            "tags": []
          }
        },
        {
          "output_type": "display_data",
          "data": {
            "text/plain": [
              "tensor([0.1197, 0.1959, 0.1252,  ..., 0.1110, 0.1156, 0.1399])"
            ]
          },
          "metadata": {
            "tags": []
          }
        },
        {
          "output_type": "display_data",
          "data": {
            "text/plain": [
              "tensor([0.1483, 0.1949, 0.1511,  ..., 0.1262, 0.1202, 0.1497])"
            ]
          },
          "metadata": {
            "tags": []
          }
        }
      ]
    },
    {
      "cell_type": "markdown",
      "metadata": {
        "id": "KbYXojz7Pvn_"
      },
      "source": [
        "Let's see how are can compute all the distances from one image tensor batch to each of the digit means in a few operations only. \n",
        "\n",
        "1. Let's see what we have to start with:\n",
        "    - we start from a batch of image tensors `image_tensor_batch` of shape `(nbr_img, 28, 28)`\n",
        "    - `mnist_distance(image_tensor_batch)` returns a tensor of shape `(nbr_img)`"
      ]
    },
    {
      "cell_type": "code",
      "metadata": {
        "colab": {
          "base_uri": "https://localhost:8080/"
        },
        "id": "1fwOHGVDQ4WI",
        "outputId": "7ab287de-94bf-4052-9b60-9041d974e904"
      },
      "source": [
        "img_batch_tnsr = stacked_tensors_dict[8]\n",
        "print('Shape of batch_tnsr:', img_batch_tnsr.shape)\n",
        "\n",
        "distances = mnist_distance(img_tnsr, means_dict[0])\n",
        "print('Shape of distances: ', distances.shape)"
      ],
      "execution_count": 30,
      "outputs": [
        {
          "output_type": "stream",
          "text": [
            "Shape of batch_tnsr: torch.Size([5851, 28, 28])\n",
            "Shape of distances:  torch.Size([5851])\n"
          ],
          "name": "stdout"
        }
      ]
    },
    {
      "cell_type": "markdown",
      "metadata": {
        "id": "w3UXMvExSBJB"
      },
      "source": [
        "2. Now we want to have all distances for all digits in a dimension-2 tensor of shape `(nbr of images, 10)`. That is a tensor with the same number of samples/images as the batch and a distance to each digit. Using tensors instead of list or other data sructure will allow us to use fast tensor calculation to easily extract which digit corresponds to each image, as opposed to slow Python loop through all the images in Python. One way to do it:\n",
        "    - use the `torch.stack` function to stack the distances tensors for each of the digits into one single tensor"
      ]
    },
    {
      "cell_type": "code",
      "metadata": {
        "colab": {
          "base_uri": "https://localhost:8080/",
          "height": 0
        },
        "id": "9KvjgyhRMlp_",
        "outputId": "fd24b529-0283-46e2-b814-4c29b8b80236"
      },
      "source": [
        "distances = torch.stack([mnist_distance(img_tnsr, m) for m in means_dict.values()], dim=1)\n",
        "display(distances)\n",
        "distances.shape"
      ],
      "execution_count": 31,
      "outputs": [
        {
          "output_type": "display_data",
          "data": {
            "text/plain": [
              "tensor([[0.1795, 0.1039, 0.1480,  ..., 0.1501, 0.1197, 0.1483],\n",
              "        [0.2126, 0.2042, 0.2038,  ..., 0.1984, 0.1959, 0.1949],\n",
              "        [0.1797, 0.0930, 0.1472,  ..., 0.1541, 0.1252, 0.1511],\n",
              "        ...,\n",
              "        [0.1697, 0.1016, 0.1283,  ..., 0.1339, 0.1110, 0.1262],\n",
              "        [0.1837, 0.0990, 0.1469,  ..., 0.1280, 0.1156, 0.1202],\n",
              "        [0.1942, 0.1375, 0.1563,  ..., 0.1585, 0.1399, 0.1497]])"
            ]
          },
          "metadata": {
            "tags": []
          }
        },
        {
          "output_type": "execute_result",
          "data": {
            "text/plain": [
              "torch.Size([5851, 10])"
            ]
          },
          "metadata": {
            "tags": []
          },
          "execution_count": 31
        }
      ]
    },
    {
      "cell_type": "markdown",
      "metadata": {
        "id": "MSxvds2rVZyB"
      },
      "source": [
        "\"decrypting\" code above: `torch.stack([mnist_distance(img_tnsr, m) for m in means_dict.values()], dim=1)`\n",
        "- Signature of stack: `torch.stack(tensors, dim=0)` [doc](https://pytorch.org/docs/stable/generated/torch.stack.html):\n",
        "    - `tensors` is a sequence of tensors to concatenate, for instance a list of tensors\n",
        "    - `dim` is the dimension to insert. Has to be between 0 and the number of dimensions of concatenated, In our case, `dim` is 1 as we want to stack the 10 values for each images. You can try other values and see what it gives.\n",
        "- `[mnist_distance(img_tnsr, m) for m in means_dict.values()]`:\n",
        "    - list comprehension to get a list of the 10 distances, one for each digit. Remember that means_dict keeps the ten mean images reporesenting the \"ideal\" difit. The list comprehension is equivalent to:\n",
        "    ```python\n",
        "        tensor_list = []\n",
        "        for mean in means_dict.values():\n",
        "            tensor_list.append(mnist_distance(img_tnsr, m))\n",
        "    ```\n",
        "\n",
        "The code is passing a list of 10 dimension-1 tensors (shape = `(number of images in the batch)`) to `torch.stack`, to create a dimension-2 tensor of shape `(number of images in the batch, 10)`"
      ]
    },
    {
      "cell_type": "markdown",
      "metadata": {
        "id": "8uWfanTIVsdJ"
      },
      "source": [
        "Now we have a tensor `distances` with the distance of each image to the ten means. We can index it to get the distances of any image to the ten means."
      ]
    },
    {
      "cell_type": "code",
      "metadata": {
        "colab": {
          "base_uri": "https://localhost:8080/"
        },
        "id": "wS5chZmwVxOo",
        "outputId": "ad529f1f-99fb-46f3-ee78-4afb21ce8acd"
      },
      "source": [
        "distances[120:125, :]"
      ],
      "execution_count": 32,
      "outputs": [
        {
          "output_type": "execute_result",
          "data": {
            "text/plain": [
              "tensor([[0.1680, 0.1831, 0.1666, 0.1545, 0.1572, 0.1537, 0.1583, 0.1848, 0.1462, 0.1656],\n",
              "        [0.1888, 0.1888, 0.1770, 0.1895, 0.1614, 0.1828, 0.1675, 0.1957, 0.1638, 0.1754],\n",
              "        [0.1686, 0.1799, 0.1772, 0.1616, 0.1734, 0.1523, 0.1580, 0.1956, 0.1547, 0.1768],\n",
              "        [0.1796, 0.1059, 0.1646, 0.1448, 0.1495, 0.1309, 0.1498, 0.1442, 0.1367, 0.1318],\n",
              "        [0.1684, 0.1696, 0.1688, 0.1595, 0.1498, 0.1495, 0.1552, 0.1718, 0.1316, 0.1451]])"
            ]
          },
          "metadata": {
            "tags": []
          },
          "execution_count": 32
        }
      ]
    },
    {
      "cell_type": "markdown",
      "metadata": {
        "id": "SnP8007KXcMA"
      },
      "source": [
        "3. Select the class/digit for each image in the batch: pick the minimum distance. We will use the method tensor `argmin()` to pick the index with minimum distance, which is the digit corresponding to the minumum distance and therefore our class as we defined it in our approach.\n",
        "\n",
        "> See how `argmin` works with a single image. We pick one image tensor and show it. We also pick the corresponding distances to the ten digit, i.e. a tensor of shape (10). `argmin()` returns the index of the minimum distance, in this case 8, which corresponds to digit 8."
      ]
    },
    {
      "cell_type": "code",
      "metadata": {
        "colab": {
          "base_uri": "https://localhost:8080/",
          "height": 0
        },
        "id": "PVB0WQHLYlk2",
        "outputId": "6d831d1c-66ea-4a06-f43d-27e7d88d3d00"
      },
      "source": [
        "img_nbr = 25\n",
        "show_image(stacked_tensors_dict[8][img_nbr])\n",
        "plt.show()\n",
        "\n",
        "distances_for_one_img = distances[img_nbr]\n",
        "display(distances_for_one_img)\n",
        "distances_for_one_img.argmin()\n",
        "distances_for_one_img[8]"
      ],
      "execution_count": 33,
      "outputs": [
        {
          "output_type": "display_data",
          "data": {
            "image/png": "[encoded data removed]",
            "text/plain": [
              "<Figure size 72x72 with 1 Axes>"
            ]
          },
          "metadata": {
            "tags": [],
            "needs_background": "light"
          }
        },
        {
          "output_type": "display_data",
          "data": {
            "text/plain": [
              "tensor([0.1650, 0.1222, 0.1467, 0.1261, 0.1344, 0.1259, 0.1477, 0.1398, 0.1143, 0.1293])"
            ]
          },
          "metadata": {
            "tags": []
          }
        },
        {
          "output_type": "execute_result",
          "data": {
            "text/plain": [
              "tensor(0.1143)"
            ]
          },
          "metadata": {
            "tags": []
          },
          "execution_count": 33
        }
      ]
    },
    {
      "cell_type": "markdown",
      "metadata": {
        "id": "yKEouuQ1agEO"
      },
      "source": [
        "When we apply to a batch of images, we need to tell pytorch along which direction the minimum must be seeked. In our case `dim=1`.  It returns a tensor of dimension 1, with shape = `(nbr_img)`"
      ]
    },
    {
      "cell_type": "code",
      "metadata": {
        "colab": {
          "base_uri": "https://localhost:8080/"
        },
        "id": "TGU_rT7JOibR",
        "outputId": "7c2e6e5e-cb8e-4ed8-a775-fa9e9f9dbc9d"
      },
      "source": [
        "digits = distances.argmin(dim=1)\n",
        "digits.shape"
      ],
      "execution_count": 34,
      "outputs": [
        {
          "output_type": "execute_result",
          "data": {
            "text/plain": [
              "torch.Size([5851])"
            ]
          },
          "metadata": {
            "tags": []
          },
          "execution_count": 34
        }
      ]
    },
    {
      "cell_type": "markdown",
      "metadata": {
        "id": "-O79XYgwjmlx"
      },
      "source": [
        "```\n",
        "argmin(input, dim, keepdim=False) -> LongTensor\n",
        "\n",
        "Returns the indices of the minimum values of a tensor across a dimension.\n",
        "\n",
        "This is the second value returned by :meth:`torch.min`. See its\n",
        "documentation for the exact semantics of this method.\n",
        "\n",
        "Args:\n",
        "    input (Tensor): the input tensor.\n",
        "    dim (int): the dimension to reduce. If ``None``, the argmin of the flattened input is returned.\n",
        "    keepdim (bool): whether the output tensor has :attr:`dim` retained or not. Ignored if ``dim=None``.\n",
        "```"
      ]
    },
    {
      "cell_type": "markdown",
      "metadata": {
        "id": "EVrnf9mra5xt"
      },
      "source": [
        "Using `argmin()` allows us to compute the mimimun for all images, in one step, and with no Python loop."
      ]
    },
    {
      "cell_type": "markdown",
      "metadata": {
        "id": "LLsY0kBWj1me"
      },
      "source": [
        "### Pixel Similarity Classifier"
      ]
    },
    {
      "cell_type": "markdown",
      "metadata": {
        "id": "zc4xy7bbX8Ad"
      },
      "source": [
        "Now we can build our classifier as a function `evaluate_digit` to which we pass an image tensor or a batch of image tensors and which will return a class/digit"
      ]
    },
    {
      "cell_type": "code",
      "metadata": {
        "id": "yP_X__waAo_a"
      },
      "source": [
        "def evaluate_digit(x): \n",
        "    if x.ndim < 3:\n",
        "        x = x.unsqueeze(dim=0)\n",
        "    distances = torch.stack([mnist_distance(x, m) for m in means_dict.values()], dim=1)\n",
        "    return distances.argmin(dim=1)"
      ],
      "execution_count": 35,
      "outputs": []
    },
    {
      "cell_type": "markdown",
      "metadata": {
        "id": "jr2RPxqlbYLF"
      },
      "source": [
        ">Note: we unsqueeze the tensor when a single image is given instead of a batch, because we expect a batch. Unsqueezing is like translforming a single image into a batch with a single image:\n",
        "```python\n",
        "    if x.ndim < 3:\n",
        "        x = x.unsqueeze(dim=0)\n",
        "```\n",
        "\n",
        "See the difference below"
      ]
    },
    {
      "cell_type": "code",
      "metadata": {
        "colab": {
          "base_uri": "https://localhost:8080/"
        },
        "id": "jWWpkaZlbuF5",
        "outputId": "2f4d0d31-4088-4eb7-b6f2-4adf51c14fd7"
      },
      "source": [
        "img.shape, img.unsqueeze(dim=0).shape"
      ],
      "execution_count": 36,
      "outputs": [
        {
          "output_type": "execute_result",
          "data": {
            "text/plain": [
              "(torch.Size([28, 28]), torch.Size([1, 28, 28]))"
            ]
          },
          "metadata": {
            "tags": []
          },
          "execution_count": 36
        }
      ]
    },
    {
      "cell_type": "markdown",
      "metadata": {
        "id": "CLmCNNLXcFFO"
      },
      "source": [
        "Let's test our classifier with a single image:"
      ]
    },
    {
      "cell_type": "code",
      "metadata": {
        "colab": {
          "base_uri": "https://localhost:8080/",
          "height": 0
        },
        "id": "vCTbUcKLYVRD",
        "outputId": "fbbd4615-21a3-4064-a837-286488eb6594"
      },
      "source": [
        "tnsr = stacked_tensors_dict[8][58]\n",
        "show_image(tnsr)\n",
        "plt.show()\n",
        "\n",
        "evaluate_digit(tnsr)"
      ],
      "execution_count": 37,
      "outputs": [
        {
          "output_type": "display_data",
          "data": {
            "image/png": "[encoded data removed]",
            "text/plain": [
              "<Figure size 72x72 with 1 Axes>"
            ]
          },
          "metadata": {
            "tags": [],
            "needs_background": "light"
          }
        },
        {
          "output_type": "execute_result",
          "data": {
            "text/plain": [
              "tensor([8])"
            ]
          },
          "metadata": {
            "tags": []
          },
          "execution_count": 37
        }
      ]
    },
    {
      "cell_type": "markdown",
      "metadata": {
        "id": "p4JMkpShcWat"
      },
      "source": [
        "Let's test our classifier with a small image batch:"
      ]
    },
    {
      "cell_type": "code",
      "metadata": {
        "colab": {
          "base_uri": "https://localhost:8080/"
        },
        "id": "R222MSdca9UA",
        "outputId": "30cb430c-5f38-4b71-b246-9b8d6112c68c"
      },
      "source": [
        "tnsr = stacked_tensors_dict[8][58:87]\n",
        "print('Nbr images: ', tnsr.shape[0])\n",
        "\n",
        "evaluate_digit(tnsr)"
      ],
      "execution_count": 38,
      "outputs": [
        {
          "output_type": "stream",
          "text": [
            "Nbr images:  29\n"
          ],
          "name": "stdout"
        },
        {
          "output_type": "execute_result",
          "data": {
            "text/plain": [
              "tensor([8, 8, 1, 1, 9, 1, 8, 9, 1, 8, 1, 1, 8, 8, 1, 9, 9, 9, 1, 8, 3, 8, 1, 1, 8, 1, 8, 1, 8])"
            ]
          },
          "metadata": {
            "tags": []
          },
          "execution_count": 38
        }
      ]
    },
    {
      "cell_type": "markdown",
      "metadata": {
        "id": "kJUtTINZbs_q"
      },
      "source": [
        "We can see that the model is not that great ! Some images are correctly evaluated and some are not."
      ]
    },
    {
      "cell_type": "markdown",
      "metadata": {
        "id": "_a0JkHtpbV4h"
      },
      "source": [
        "### Evaluation of the classifier\n",
        "Let's compute the accuracy for the train and the validation set for each class/digit\n",
        "1. For each class, we evaluate the digit for the full dataset (training and validation)\n",
        "2. We compute how many are correct and how many are not correct"
      ]
    },
    {
      "cell_type": "code",
      "metadata": {
        "colab": {
          "base_uri": "https://localhost:8080/"
        },
        "id": "zdkODv0fcGOa",
        "outputId": "ce48f511-c16b-428e-c57c-a29133d86d3f"
      },
      "source": [
        "# One class at the time\n",
        "digit = 5\n",
        "tnsr = stacked_tensors_dict[digit]\n",
        "preds = evaluate_digit(tnsr) \n",
        "correct = torch.eq(preds, digit).sum()\n",
        "incorrect = torch.ne(preds, digit).sum()\n",
        "correct.item(), incorrect.item(), (correct / preds.shape[0]).item()"
      ],
      "execution_count": 39,
      "outputs": [
        {
          "output_type": "execute_result",
          "data": {
            "text/plain": [
              "(1627, 3794, 0.30012911558151245)"
            ]
          },
          "metadata": {
            "tags": []
          },
          "execution_count": 39
        }
      ]
    },
    {
      "cell_type": "code",
      "metadata": {
        "id": "Zm5e38QUAo_b",
        "colab": {
          "base_uri": "https://localhost:8080/"
        },
        "outputId": "dca5d8af-1792-450f-c2e6-ba868011aa86"
      },
      "source": [
        "# All digits for training set\n",
        "for digit in range(10):\n",
        "    tnsr = stacked_tensors_dict[digit]\n",
        "    preds = evaluate_digit(tnsr) \n",
        "    correct = torch.eq(preds, digit).sum()\n",
        "    # print(f\" - {correct.item():,d} correct digits out or {preds.shape[0]}\")\n",
        "    print(f\"Accuracy for {digit}: {(correct / preds.shape[0]).item():1.4f}\")"
      ],
      "execution_count": 40,
      "outputs": [
        {
          "output_type": "stream",
          "text": [
            "Accuracy for 0: 0.8141\n",
            "Accuracy for 1: 0.9981\n",
            "Accuracy for 2: 0.4329\n",
            "Accuracy for 3: 0.5836\n",
            "Accuracy for 4: 0.6648\n",
            "Accuracy for 5: 0.3001\n",
            "Accuracy for 6: 0.7454\n",
            "Accuracy for 7: 0.7778\n",
            "Accuracy for 8: 0.3958\n",
            "Accuracy for 9: 0.7163\n"
          ],
          "name": "stdout"
        }
      ]
    },
    {
      "cell_type": "code",
      "metadata": {
        "colab": {
          "base_uri": "https://localhost:8080/"
        },
        "id": "IR9gSAyWgDRb",
        "outputId": "d8107da1-0d77-473a-d927-c5ecc7968246"
      },
      "source": [
        "# All digits for validation set\n",
        "for digit in range(10):\n",
        "    tnsr = valid_tensors_dict[digit]\n",
        "    preds = evaluate_digit(tnsr) \n",
        "    correct = torch.eq(preds, digit).sum()\n",
        "    # print(f\" - {correct.item():,d} correct digits out or {preds.shape[0]}\")\n",
        "    print(f\"Accuracy for {digit}: {(correct / preds.shape[0]).item():1.4f}\")"
      ],
      "execution_count": 41,
      "outputs": [
        {
          "output_type": "stream",
          "text": [
            "Accuracy for 0: 0.8153\n",
            "Accuracy for 1: 0.9982\n",
            "Accuracy for 2: 0.4234\n",
            "Accuracy for 3: 0.6089\n",
            "Accuracy for 4: 0.6680\n",
            "Accuracy for 5: 0.3262\n",
            "Accuracy for 6: 0.7871\n",
            "Accuracy for 7: 0.7646\n",
            "Accuracy for 8: 0.4425\n",
            "Accuracy for 9: 0.7760\n"
          ],
          "name": "stdout"
        }
      ]
    },
    {
      "cell_type": "markdown",
      "metadata": {
        "id": "-Wl3rqr3Ao_c"
      },
      "source": [
        "Although this is not awfull, the performance varies a lot for each of the digit. 0 and 1 are well classified byt 5 and 8 are not, for example.\n",
        "\n",
        "Can we do better if we use another metric? We uses MAE, let's do the same but using RMSE:"
      ]
    },
    {
      "cell_type": "code",
      "metadata": {
        "id": "zSqPZmeYLCqC"
      },
      "source": [
        "# Define a new loss/distance function: mnist_rmse\n",
        "def mnist_rmse(a, b):\n",
        "    return ((a - b) ** 2 ).mean((-1, -2)).sqrt()\n",
        "\n",
        "# Our new classifier will use rmse to compute the distances and pick the minimum\n",
        "def evaluate_digit_rmse(x): \n",
        "    if x.ndim < 3:\n",
        "        x = x.unsqueeze(dim=0)\n",
        "    distances = torch.stack([mnist_rmse(x, m) for m in means_dict.values()], dim=1)\n",
        "    return distances.argmin(dim=1)"
      ],
      "execution_count": 42,
      "outputs": []
    },
    {
      "cell_type": "markdown",
      "metadata": {
        "id": "zZ--Vx6wNEp5"
      },
      "source": [
        "Now we can evaluate the performance of this new classifer with the validation set"
      ]
    },
    {
      "cell_type": "code",
      "metadata": {
        "colab": {
          "base_uri": "https://localhost:8080/"
        },
        "id": "ZxAezLXGMTix",
        "outputId": "b1fa3039-8d27-47d6-9d19-88aa018360d3"
      },
      "source": [
        "# All digits for validation set\n",
        "for digit in range(10):\n",
        "    tnsr = valid_tensors_dict[digit]\n",
        "    preds = evaluate_digit_rmse(tnsr) \n",
        "    correct = torch.eq(preds, digit).sum()\n",
        "    # print(f\" - {correct.item():,d} correct digits out or {preds.shape[0]}\")\n",
        "    print(f\"Accuracy for {digit}: {(correct / preds.shape[0]).item():1.4f}\")"
      ],
      "execution_count": 43,
      "outputs": [
        {
          "output_type": "stream",
          "text": [
            "Accuracy for 0: 0.8959\n",
            "Accuracy for 1: 0.9621\n",
            "Accuracy for 2: 0.7568\n",
            "Accuracy for 3: 0.8059\n",
            "Accuracy for 4: 0.8259\n",
            "Accuracy for 5: 0.6861\n",
            "Accuracy for 6: 0.8633\n",
            "Accuracy for 7: 0.8327\n",
            "Accuracy for 8: 0.7372\n",
            "Accuracy for 9: 0.8067\n"
          ],
          "name": "stdout"
        }
      ]
    },
    {
      "cell_type": "markdown",
      "metadata": {
        "id": "tCc7STRUNQz3"
      },
      "source": [
        "We see that the accuracy increases for almost all the digits. \n",
        "\n",
        "The base line is not bad, but all in all, it still shows some relativaly low accuracy compared to real model."
      ]
    },
    {
      "cell_type": "markdown",
      "metadata": {
        "id": "0VpRly6QAo_c"
      },
      "source": [
        "## Stochastic Gradient Descent (SGD)"
      ]
    },
    {
      "cell_type": "code",
      "metadata": {
        "colab": {
          "base_uri": "https://localhost:8080/",
          "height": 124
        },
        "id": "OzVuXe_E-GtE",
        "outputId": "30f36d9d-ee9a-43c7-f793-eb8b6828b4ae"
      },
      "source": [
        "gv('''\n",
        "\"1. init\"->\"2. predict\"->\"3. loss\"->\"4. gradient\"->\"5. step\"->\"7. stop\"\n",
        "\"5. step\"->\"2. predict\"[label=\"6. repeat\"]\n",
        "''')"
      ],
      "execution_count": 44,
      "outputs": [
        {
          "output_type": "execute_result",
          "data": {
            "text/plain": [
              "<graphviz.files.Source at 0x7f8639882510>"
            ],
            "image/svg+xml": "<?xml version=\"1.0\" encoding=\"UTF-8\" standalone=\"no\"?>\n<!DOCTYPE svg PUBLIC \"-//W3C//DTD SVG 1.1//EN\"\n \"http://www.w3.org/Graphics/SVG/1.1/DTD/svg11.dtd\">\n<!-- Generated by graphviz version 2.40.1 (20161225.0304)\n -->\n<!-- Title: G Pages: 1 -->\n<svg width=\"712pt\" height=\"78pt\"\n viewBox=\"0.00 0.00 711.56 78.00\" xmlns=\"http://www.w3.org/2000/svg\" xmlns:xlink=\"http://www.w3.org/1999/xlink\">\n<g id=\"graph0\" class=\"graph\" transform=\"scale(1 1) rotate(0) translate(4 74)\">\n<title>G</title>\n<polygon fill=\"#ffffff\" stroke=\"transparent\" points=\"-4,4 -4,-74 707.5582,-74 707.5582,4 -4,4\"/>\n<!-- 1. init -->\n<g id=\"node1\" class=\"node\">\n<title>1. init</title>\n<ellipse fill=\"none\" stroke=\"#000000\" cx=\"32.4971\" cy=\"-18\" rx=\"32.4942\" ry=\"18\"/>\n<text text-anchor=\"middle\" x=\"32.4971\" y=\"-14.3\" font-family=\"Times,serif\" font-size=\"14.00\" fill=\"#000000\">1. init</text>\n</g>\n<!-- 2. predict -->\n<g id=\"node2\" class=\"node\">\n<title>2. predict</title>\n<ellipse fill=\"none\" stroke=\"#000000\" cx=\"148.1401\" cy=\"-18\" rx=\"46.2923\" ry=\"18\"/>\n<text text-anchor=\"middle\" x=\"148.1401\" y=\"-14.3\" font-family=\"Times,serif\" font-size=\"14.00\" fill=\"#000000\">2. predict</text>\n</g>\n<!-- 1. init&#45;&gt;2. predict -->\n<g id=\"edge1\" class=\"edge\">\n<title>1. init&#45;&gt;2. predict</title>\n<path fill=\"none\" stroke=\"#000000\" d=\"M65.0179,-18C73.2694,-18 82.3772,-18 91.4479,-18\"/>\n<polygon fill=\"#000000\" stroke=\"#000000\" points=\"91.6257,-21.5001 101.6257,-18 91.6257,-14.5001 91.6257,-21.5001\"/>\n</g>\n<!-- 3. loss -->\n<g id=\"node3\" class=\"node\">\n<title>3. loss</title>\n<ellipse fill=\"none\" stroke=\"#000000\" cx=\"265.733\" cy=\"-52\" rx=\"34.394\" ry=\"18\"/>\n<text text-anchor=\"middle\" x=\"265.733\" y=\"-48.3\" font-family=\"Times,serif\" font-size=\"14.00\" fill=\"#000000\">3. loss</text>\n</g>\n<!-- 2. predict&#45;&gt;3. loss -->\n<g id=\"edge2\" class=\"edge\">\n<title>2. predict&#45;&gt;3. loss</title>\n<path fill=\"none\" stroke=\"#000000\" d=\"M185.3473,-28.7578C198.2159,-32.4786 212.6869,-36.6626 225.7676,-40.4447\"/>\n<polygon fill=\"#000000\" stroke=\"#000000\" points=\"224.8712,-43.8288 235.4499,-43.2442 226.8156,-37.1042 224.8712,-43.8288\"/>\n</g>\n<!-- 4. gradient -->\n<g id=\"node4\" class=\"node\">\n<title>4. gradient</title>\n<ellipse fill=\"none\" stroke=\"#000000\" cx=\"435.8754\" cy=\"-52\" rx=\"50.8918\" ry=\"18\"/>\n<text text-anchor=\"middle\" x=\"435.8754\" y=\"-48.3\" font-family=\"Times,serif\" font-size=\"14.00\" fill=\"#000000\">4. gradient</text>\n</g>\n<!-- 3. loss&#45;&gt;4. gradient -->\n<g id=\"edge3\" class=\"edge\">\n<title>3. loss&#45;&gt;4. gradient</title>\n<path fill=\"none\" stroke=\"#000000\" d=\"M300.5744,-52C321.9366,-52 349.8822,-52 374.8263,-52\"/>\n<polygon fill=\"#000000\" stroke=\"#000000\" points=\"374.9406,-55.5001 384.9406,-52 374.9405,-48.5001 374.9406,-55.5001\"/>\n</g>\n<!-- 5. step -->\n<g id=\"node5\" class=\"node\">\n<title>5. step</title>\n<ellipse fill=\"none\" stroke=\"#000000\" cx=\"558.6678\" cy=\"-18\" rx=\"35.194\" ry=\"18\"/>\n<text text-anchor=\"middle\" x=\"558.6678\" y=\"-14.3\" font-family=\"Times,serif\" font-size=\"14.00\" fill=\"#000000\">5. step</text>\n</g>\n<!-- 4. gradient&#45;&gt;5. step -->\n<g id=\"edge4\" class=\"edge\">\n<title>4. gradient&#45;&gt;5. step</title>\n<path fill=\"none\" stroke=\"#000000\" d=\"M476.0823,-40.8671C489.4591,-37.1632 504.3655,-33.0358 517.7924,-29.318\"/>\n<polygon fill=\"#000000\" stroke=\"#000000\" points=\"519.0184,-32.6103 527.7218,-26.5687 517.1504,-25.8641 519.0184,-32.6103\"/>\n</g>\n<!-- 5. step&#45;&gt;2. predict -->\n<g id=\"edge6\" class=\"edge\">\n<title>5. step&#45;&gt;2. predict</title>\n<path fill=\"none\" stroke=\"#000000\" d=\"M523.5577,-18C452.405,-18 290.668,-18 204.5509,-18\"/>\n<polygon fill=\"#000000\" stroke=\"#000000\" points=\"204.4349,-14.5001 194.4349,-18 204.4348,-21.5001 204.4349,-14.5001\"/>\n<text text-anchor=\"middle\" x=\"342.6799\" y=\"-21.8\" font-family=\"Times,serif\" font-size=\"14.00\" fill=\"#000000\">6. repeat</text>\n</g>\n<!-- 7. stop -->\n<g id=\"node6\" class=\"node\">\n<title>7. stop</title>\n<ellipse fill=\"none\" stroke=\"#000000\" cx=\"667.1615\" cy=\"-18\" rx=\"36.2938\" ry=\"18\"/>\n<text text-anchor=\"middle\" x=\"667.1615\" y=\"-14.3\" font-family=\"Times,serif\" font-size=\"14.00\" fill=\"#000000\">7. stop</text>\n</g>\n<!-- 5. step&#45;&gt;7. stop -->\n<g id=\"edge5\" class=\"edge\">\n<title>5. step&#45;&gt;7. stop</title>\n<path fill=\"none\" stroke=\"#000000\" d=\"M593.8926,-18C602.3423,-18 611.4969,-18 620.3794,-18\"/>\n<polygon fill=\"#000000\" stroke=\"#000000\" points=\"620.6231,-21.5001 630.6231,-18 620.623,-14.5001 620.6231,-21.5001\"/>\n</g>\n</g>\n</svg>\n"
          },
          "metadata": {
            "tags": []
          },
          "execution_count": 44
        }
      ]
    },
    {
      "cell_type": "markdown",
      "metadata": {
        "id": "kAlUoNRzOafQ"
      },
      "source": [
        "Steps that we are going to require, to turn a function into a machine learning classifier:\n",
        "\n",
        "1. *Initialize* the weights.\n",
        "1. For each image, use these weights to *predict* whether it appears to be a 3 or a 7.\n",
        "1. Based on these predictions, calculate how good the model is (its *loss*).\n",
        "1. Calculate the *gradient*, which measures for each weight, how changing that weight would change the loss\n",
        "1. *Step* (that is, change) all the weights based on that calculation.\n",
        "1. Go back to the step 2, and *repeat* the process.\n",
        "1. Iterate until you decide to *stop* the training process (for instance, because the model is good enough or you don't want to wait any longer)."
      ]
    },
    {
      "cell_type": "markdown",
      "metadata": {
        "id": "e75BvXjsQW2X"
      },
      "source": [
        "#### Prepare datasets and dataloaders"
      ]
    },
    {
      "cell_type": "markdown",
      "metadata": {
        "id": "9bxXKzVvQ952"
      },
      "source": [
        "`train_x` is the set of independant variables (inputs), that is our images. We create  `train_x` tensor by concatenating all the tensors for each digit."
      ]
    },
    {
      "cell_type": "code",
      "metadata": {
        "id": "7eVXaIMnQ954"
      },
      "source": [
        "train_x = torch.cat([stacked_tensors_dict[i] for i in range(0,10)]).view(-1, 28*28)"
      ],
      "execution_count": 45,
      "outputs": []
    },
    {
      "cell_type": "code",
      "metadata": {
        "colab": {
          "base_uri": "https://localhost:8080/"
        },
        "id": "kENaWxHARETG",
        "outputId": "ea0b50d0-f7a3-4ae0-81f8-bc3260b118de"
      },
      "source": [
        "train_x.shape"
      ],
      "execution_count": 46,
      "outputs": [
        {
          "output_type": "execute_result",
          "data": {
            "text/plain": [
              "torch.Size([60000, 784])"
            ]
          },
          "metadata": {
            "tags": []
          },
          "execution_count": 46
        }
      ]
    },
    {
      "cell_type": "markdown",
      "metadata": {
        "id": "AbuZLyURQ955"
      },
      "source": [
        "As expected, it is a set of 60,000 images represented as a flat one dimension vector of shape 28 x 28 = 784"
      ]
    },
    {
      "cell_type": "markdown",
      "metadata": {
        "id": "8U3evtmMQ957"
      },
      "source": [
        "We need a label for each image, 0 to 9, depending on the digit the image represent. It is not as simple as for the basic MNIST case, as we have more than two classes and the number of images in each class is not equal. There is probably an easier way than the one below !"
      ]
    },
    {
      "cell_type": "code",
      "metadata": {
        "id": "IImhF4RwQ958"
      },
      "source": [
        "# Returns a list of 10 sublists, where each sublist consists of a as many times digit as the number of image in the category\n",
        "l = [ [i] * stacked_tensors_dict[i].shape[0] for i in range(0,10)]\n",
        "\n",
        "# check the the total number of labels is equal to the numer of images\n",
        "assert sum([len(sublist) for sublist in l]) == train_x.shape[0] "
      ],
      "execution_count": 47,
      "outputs": []
    },
    {
      "cell_type": "code",
      "metadata": {
        "colab": {
          "base_uri": "https://localhost:8080/"
        },
        "id": "_CgSzj67Q959",
        "outputId": "8eeb51a9-7a9b-44d7-b558-d77b0362e97e"
      },
      "source": [
        "# Create a tensor based on the list of labels\n",
        "label_list = []\n",
        "for i in range(10):\n",
        "    label_list.extend(l[i])\n",
        "assert len(label_list) == train_x.shape[0]\n",
        "\n",
        "train_y = torch.tensor(label_list).unsqueeze(1)\n",
        "train_x.shape,train_y.shape"
      ],
      "execution_count": 48,
      "outputs": [
        {
          "output_type": "execute_result",
          "data": {
            "text/plain": [
              "(torch.Size([60000, 784]), torch.Size([60000, 1]))"
            ]
          },
          "metadata": {
            "tags": []
          },
          "execution_count": 48
        }
      ]
    },
    {
      "cell_type": "markdown",
      "metadata": {
        "id": "JVwaZsHSRrnS"
      },
      "source": [
        "The shapes of `train_x` and `train_y` are as expected"
      ]
    },
    {
      "cell_type": "markdown",
      "metadata": {
        "id": "67Prd18yQ95_"
      },
      "source": [
        "A `Dataset` in PyTorch is required to return a tuple of `(x,y)` when indexed. Python provides a `zip` function which, when combined with `list`, provides a simple way to get this functionality:"
      ]
    },
    {
      "cell_type": "code",
      "metadata": {
        "colab": {
          "base_uri": "https://localhost:8080/"
        },
        "id": "hnmy7VORQ96A",
        "outputId": "8a0c98bf-8596-438f-e23d-b34014cc132a"
      },
      "source": [
        "dset = list(zip(train_x,train_y))\n",
        "x, y = dset[0]\n",
        "x.shape,y"
      ],
      "execution_count": 49,
      "outputs": [
        {
          "output_type": "execute_result",
          "data": {
            "text/plain": [
              "(torch.Size([784]), tensor([0]))"
            ]
          },
          "metadata": {
            "tags": []
          },
          "execution_count": 49
        }
      ]
    },
    {
      "cell_type": "markdown",
      "metadata": {
        "id": "bgyrNSXsBcyH"
      },
      "source": [
        "Now we do the same for the validation sets"
      ]
    },
    {
      "cell_type": "code",
      "metadata": {
        "colab": {
          "base_uri": "https://localhost:8080/"
        },
        "id": "QJmLpADmQ96A",
        "outputId": "7f899de0-4454-42d6-d00e-3499c48da09b"
      },
      "source": [
        "valid_x = torch.cat([valid_tensors_dict[i] for i in range(0,10)]).view(-1, 28*28)\n",
        "\n",
        "# Returns a list of 10 sublists, where each sublist consists of a as many times digit as the number of image in the category\n",
        "l = [ [i] * valid_tensors_dict[i].shape[0] for i in range(0,10)]\n",
        "\n",
        "# check the the total number of labels is equal to the numer of images\n",
        "assert sum([len(sublist) for sublist in l]) == valid_x.shape[0] \n",
        "print(valid_x.shape)\n",
        "\n",
        "# Create a tensor based on the list of labels\n",
        "label_list = []\n",
        "for i in range(10):\n",
        "    label_list.extend(l[i])\n",
        "assert len(label_list) == valid_x.shape[0]\n",
        "\n",
        "valid_y = torch.tensor(label_list).unsqueeze(1)\n",
        "print(valid_y.shape)\n",
        "\n",
        "valid_dset = list(zip(valid_x,valid_y))"
      ],
      "execution_count": 50,
      "outputs": [
        {
          "output_type": "stream",
          "text": [
            "torch.Size([10000, 784])\n",
            "torch.Size([10000, 1])\n"
          ],
          "name": "stdout"
        }
      ]
    },
    {
      "cell_type": "markdown",
      "metadata": {
        "id": "Lo1sINyOQ96A"
      },
      "source": [
        "Datasets are ready. Now we prepare the dataloaders to feed the training loop."
      ]
    },
    {
      "cell_type": "code",
      "metadata": {
        "id": "ppJHdq70Yxb2"
      },
      "source": [
        "dl = DataLoader(dset, batch_size=5)\n",
        "valid_dl = DataLoader(valid_dset, batch_size=5)"
      ],
      "execution_count": 51,
      "outputs": []
    },
    {
      "cell_type": "markdown",
      "metadata": {
        "id": "hAj5qWL1Ao_k"
      },
      "source": [
        "#### Define the model architecture and parameters"
      ]
    },
    {
      "cell_type": "markdown",
      "metadata": {
        "id": "U3_b3NRtDZFl"
      },
      "source": [
        "Model is defined by creating functions to compute each of the 7 steps listed above"
      ]
    },
    {
      "cell_type": "markdown",
      "metadata": {
        "id": "p--DimUkCqhc"
      },
      "source": [
        "##### Parameters"
      ]
    },
    {
      "cell_type": "markdown",
      "metadata": {
        "id": "zpK6kbbRSOMp"
      },
      "source": [
        "Some ideas for your model. You do not have to follow this thinking.\n",
        "\n",
        "In our model, we need to evaluate the distance from one image (input) to each of the possible classes (0 - 9). So we need to predict 10 values, out of which we will pick the minimum value to predict the correpsonding digit.\n",
        "\n",
        "In effect,**y** in **y=Wx+b** represents the `distances` between the image **x** and each of the digits. **y** is therefore a vector of shape `(10)`. The prediction is computed from an image **x** which is a vector of shape `(784)`. Therefore **W** must be of shape `(784, 10)`. And **b** must be of the same shape as the output, that is shape `(10)`.\n",
        "\n",
        "<img src=\"https://raw.githubusercontent.com/vtecftwy/fastbook/master/images/img_mnist_full_linear_layer.png\" height=\"400px\" />\n"
      ]
    },
    {
      "cell_type": "markdown",
      "metadata": {
        "id": "LzhbtgMGCVJS"
      },
      "source": [
        "Define a function to create random parameters, and then create **W** and **b** with the correct shapes"
      ]
    },
    {
      "cell_type": "code",
      "metadata": {
        "colab": {
          "base_uri": "https://localhost:8080/"
        },
        "id": "Qn2XEth3Qs2X",
        "outputId": "428534f9-20f9-48ef-d03b-6ee77ad25910"
      },
      "source": [
        "def init_params(size, std=1.0): \n",
        "    return (torch.randn(size)*std).requires_grad_()\n",
        "\n",
        "weights = init_params((28*28, 10))\n",
        "bias = init_params(10)\n",
        "\n",
        "weights.shape, bias.shape"
      ],
      "execution_count": 53,
      "outputs": [
        {
          "output_type": "execute_result",
          "data": {
            "text/plain": [
              "(torch.Size([784, 10]), torch.Size([10]))"
            ]
          },
          "metadata": {
            "tags": []
          },
          "execution_count": 53
        }
      ]
    },
    {
      "cell_type": "markdown",
      "metadata": {
        "id": "G6Ybt963Ao_l"
      },
      "source": [
        "##### Define functions to calculate the predictions"
      ]
    },
    {
      "cell_type": "code",
      "metadata": {
        "id": "g_xOqHw_Tioi"
      },
      "source": [
        "def linear(xb): \n",
        "    return xb @ weights + bias\n"
      ],
      "execution_count": null,
      "outputs": []
    },
    {
      "cell_type": "markdown",
      "metadata": {
        "id": "0HHF3tn7Ao_m"
      },
      "source": [
        "##### Define a function to calculate the loss"
      ]
    },
    {
      "cell_type": "code",
      "metadata": {
        "id": "ww5kD8caAo_k"
      },
      "source": [
        ""
      ],
      "execution_count": null,
      "outputs": []
    },
    {
      "cell_type": "markdown",
      "metadata": {
        "id": "xQLwzJCBAo_n"
      },
      "source": [
        "##### Define a function to calculate the gradients"
      ]
    },
    {
      "cell_type": "code",
      "metadata": {
        "id": "ILZAptP-ZP9O"
      },
      "source": [
        ""
      ],
      "execution_count": null,
      "outputs": []
    },
    {
      "cell_type": "markdown",
      "metadata": {
        "id": "BSi9WAxUAo_q"
      },
      "source": [
        "##### Define a function performing one step/one epoch"
      ]
    },
    {
      "cell_type": "code",
      "metadata": {
        "id": "NZDYKGAkW7Hl"
      },
      "source": [
        ""
      ],
      "execution_count": null,
      "outputs": []
    },
    {
      "cell_type": "markdown",
      "metadata": {
        "id": "6W7gQ4jEAo_r"
      },
      "source": [
        "##### Define a function to evaluate the validation accurary"
      ]
    },
    {
      "cell_type": "code",
      "metadata": {
        "id": "YUF8PO8FULqm"
      },
      "source": [
        ""
      ],
      "execution_count": null,
      "outputs": []
    },
    {
      "cell_type": "markdown",
      "metadata": {
        "id": "px1nogfyW6k9"
      },
      "source": [
        "#### Bringing it all together and run training loop"
      ]
    },
    {
      "cell_type": "code",
      "metadata": {
        "id": "zsnKxh0_W7Rt"
      },
      "source": [
        ""
      ],
      "execution_count": null,
      "outputs": []
    },
    {
      "cell_type": "code",
      "metadata": {
        "id": "6_3QdStmW67F"
      },
      "source": [
        ""
      ],
      "execution_count": null,
      "outputs": []
    },
    {
      "cell_type": "markdown",
      "metadata": {
        "id": "5MSBUZzFVqie"
      },
      "source": [
        "## Comparison with a Resnet model"
      ]
    },
    {
      "cell_type": "code",
      "metadata": {
        "id": "ugF8aXKrApAF",
        "colab": {
          "base_uri": "https://localhost:8080/",
          "height": 77
        },
        "outputId": "d58b7fdc-8b09-44a0-de66-8d9214153d65"
      },
      "source": [
        "dls = ImageDataLoaders.from_folder(path, train='training', valid='testing')\n",
        "learn = cnn_learner(dls, resnet18, pretrained=False,\n",
        "                    loss_func=F.cross_entropy, metrics=accuracy)\n",
        "learn.fit_one_cycle(1, 0.1)"
      ],
      "execution_count": 56,
      "outputs": [
        {
          "output_type": "display_data",
          "data": {
            "text/html": [
              "<table border=\"1\" class=\"dataframe\">\n",
              "  <thead>\n",
              "    <tr style=\"text-align: left;\">\n",
              "      <th>epoch</th>\n",
              "      <th>train_loss</th>\n",
              "      <th>valid_loss</th>\n",
              "      <th>accuracy</th>\n",
              "      <th>time</th>\n",
              "    </tr>\n",
              "  </thead>\n",
              "  <tbody>\n",
              "    <tr>\n",
              "      <td>0</td>\n",
              "      <td>0.146955</td>\n",
              "      <td>0.068630</td>\n",
              "      <td>0.979300</td>\n",
              "      <td>01:58</td>\n",
              "    </tr>\n",
              "  </tbody>\n",
              "</table>"
            ],
            "text/plain": [
              "<IPython.core.display.HTML object>"
            ]
          },
          "metadata": {
            "tags": []
          }
        }
      ]
    },
    {
      "cell_type": "code",
      "metadata": {
        "colab": {
          "base_uri": "https://localhost:8080/",
          "height": 195
        },
        "id": "jycmptlEItdx",
        "outputId": "9d527fd3-d5b4-4700-98d8-edece34429f5"
      },
      "source": [
        "dls = ImageDataLoaders.from_folder(path, train='training', valid='testing')\n",
        "learn = cnn_learner(dls, resnet18, pretrained=False,\n",
        "                    loss_func=F.cross_entropy, metrics=accuracy)\n",
        "learn.fit_one_cycle(5, 0.1)"
      ],
      "execution_count": null,
      "outputs": [
        {
          "output_type": "display_data",
          "data": {
            "text/html": [
              "<table border=\"1\" class=\"dataframe\">\n",
              "  <thead>\n",
              "    <tr style=\"text-align: left;\">\n",
              "      <th>epoch</th>\n",
              "      <th>train_loss</th>\n",
              "      <th>valid_loss</th>\n",
              "      <th>accuracy</th>\n",
              "      <th>time</th>\n",
              "    </tr>\n",
              "  </thead>\n",
              "  <tbody>\n",
              "    <tr>\n",
              "      <td>0</td>\n",
              "      <td>0.236874</td>\n",
              "      <td>13.224614</td>\n",
              "      <td>0.496565</td>\n",
              "      <td>00:16</td>\n",
              "    </tr>\n",
              "    <tr>\n",
              "      <td>1</td>\n",
              "      <td>0.389707</td>\n",
              "      <td>0.130539</td>\n",
              "      <td>0.985770</td>\n",
              "      <td>00:16</td>\n",
              "    </tr>\n",
              "    <tr>\n",
              "      <td>2</td>\n",
              "      <td>0.087542</td>\n",
              "      <td>0.008495</td>\n",
              "      <td>0.999019</td>\n",
              "      <td>00:16</td>\n",
              "    </tr>\n",
              "    <tr>\n",
              "      <td>3</td>\n",
              "      <td>0.018765</td>\n",
              "      <td>0.005704</td>\n",
              "      <td>0.999019</td>\n",
              "      <td>00:16</td>\n",
              "    </tr>\n",
              "    <tr>\n",
              "      <td>4</td>\n",
              "      <td>0.006125</td>\n",
              "      <td>0.004612</td>\n",
              "      <td>0.999019</td>\n",
              "      <td>00:16</td>\n",
              "    </tr>\n",
              "  </tbody>\n",
              "</table>"
            ],
            "text/plain": [
              "<IPython.core.display.HTML object>"
            ]
          },
          "metadata": {
            "tags": []
          }
        }
      ]
    }
  ]
}