{
  "nbformat": 4,
  "nbformat_minor": 0,
  "metadata": {
    "jupytext": {
      "split_at_heading": true
    },
    "kernelspec": {
      "display_name": "Python 3",
      "language": "python",
      "name": "python3"
    },
    "colab": {
      "name": "dl201_pract_2.ipynb",
      "provenance": [],
      "collapsed_sections": [],
      "include_colab_link": true
    },
    "accelerator": "GPU"
  },
  "cells": [
    {
      "cell_type": "markdown",
      "metadata": {
        "id": "view-in-github",
        "colab_type": "text"
      },
      "source": [
        "<a href=\"https://colab.research.google.com/github/vtecftwy/fastbook/blob/master/resources/dl201_pract_2.ipynb\" target=\"_parent\"><img src=\"https://colab.research.google.com/assets/colab-badge.svg\" alt=\"Open In Colab\"/></a>"
      ]
    },
    {
      "cell_type": "markdown",
      "metadata": {
        "id": "nFggyI8domPt"
      },
      "source": [
        "# Practical Session - Collaborative Filtering and Tabular Data"
      ]
    },
    {
      "cell_type": "markdown",
      "metadata": {
        "id": "x4QbL-7OotBO"
      },
      "source": [
        "Two options:\n",
        "- Tabular data: select one dataset from kaggle and build a model. Once satified, make your prediction and submit to kaggle for leaderboard\n",
        "\n",
        "or\n",
        "\n",
        "- Collaborative Filtering: Build a recommendation system using the MovieLens and use all the available data to improve the results (not only rating but also the other available data"
      ]
    },
    {
      "cell_type": "markdown",
      "metadata": {
        "id": "_88_VvYKZKSl"
      },
      "source": [
        "## Tabular Data"
      ]
    },
    {
      "cell_type": "markdown",
      "metadata": {
        "id": "NTFlM7RVpf6m"
      },
      "source": [
        "Pick a competition on Kaggle with tabular data (current or past) and try to adapt the techniques seen in this chapter to get the best possible results. Compare your results to the private leaderboard. We recommend the Kaggle Datasets below but you are free to choose any dataset that you feel comfortable with:\n",
        "- Walmart Recruiting - Store Sales Forecasting ([see kaggle competition page](https://www.kaggle.com/c/walmart-recruiting-store-sales-forecasting))\n",
        "- Corporación Favorita Grocery Sales Forecasting ([see kaggle competition page](https://www.kaggle.com/c/favorita-grocery-sales-forecasting))\n",
        "- Rossmann Store Sales (large dataset) ([see kaggle competition page](https://www.kaggle.com/c/rossmann-store-sales))\n",
        "- Bosch Production Line Performance (large dataset and blind data) ([see kaggle competition page](https://www.kaggle.com/c/bosch-production-line-performance))\n",
        "- Prudential Life Insurance Assessment ([see kaggle competition page](https://www.kaggle.com/c/prudential-life-insurance-assessment))\n",
        "- New York City Taxi Trip Duration ([see kaggle competition page](https://www.kaggle.com/c/nyc-taxi-trip-duration))\n",
        "- New York City Taxi Fare Prediction ([see kaggle competition page](https://www.kaggle.com/c/nyc-taxi-trip-duration))\n",
        "- Elo Merchant Category Recommendation ([see kaggle competition page](https://www.kaggle.com/c/elo-merchant-category-recommendation))\n",
        "- Santander Customer Transaction Prediction (“blind” data) ([see kaggle competition page](https://www.kaggle.com/josh24990/santander-customer-transaction-prediction))\n",
        "- Santander Customer Satisfaction (“blind” data) ([see kaggle competition page](https://www.kaggle.com/c/santander-customer-satisfaction))\n",
        "- IEEE-CIS Fraud Detection (“blind” data and difficult dataset) ([see kaggle competition page](https://www.kaggle.com/c/ieee-fraud-detection))\n",
        "\n",
        "You will need to export your trained models as .pkl file and upload it on github. Additionally add your Jupyter Notebook Link in the ReadMe.\n"
      ]
    },
    {
      "cell_type": "markdown",
      "metadata": {
        "id": "rKw9WO-qpxDl"
      },
      "source": [
        "## Collaborative Filtering and Recommendation System"
      ]
    },
    {
      "cell_type": "markdown",
      "metadata": {
        "id": "5OjQ-dX3p-MM"
      },
      "source": [
        "You have much more information in the MovieLens dataset then the ratings. Use that information to make a better recommendation system. See how you could address the cold start problem for new movies and for new users. ..."
      ]
    }
  ]
}