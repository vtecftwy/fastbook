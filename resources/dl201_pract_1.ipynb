{
  "nbformat": 4,
  "nbformat_minor": 0,
  "metadata": {
    "jupytext": {
      "split_at_heading": true
    },
    "kernelspec": {
      "display_name": "Python 3",
      "language": "python",
      "name": "python3"
    },
    "colab": {
      "name": "dl201_pract_1.ipynb",
      "provenance": [],
      "collapsed_sections": [],
      "toc_visible": true,
      "include_colab_link": true
    },
    "accelerator": "GPU"
  },
  "cells": [
    {
      "cell_type": "markdown",
      "metadata": {
        "id": "view-in-github",
        "colab_type": "text"
      },
      "source": [
        "<a href=\"https://colab.research.google.com/github/vtecftwy/fastbook/blob/master/resources/dl201_pract_1.ipynb\" target=\"_parent\"><img src=\"https://colab.research.google.com/assets/colab-badge.svg\" alt=\"Open In Colab\"/></a>"
      ]
    },
    {
      "cell_type": "code",
      "metadata": {
        "id": "ismMd5FkAo-6"
      },
      "source": [
        "!pip install -Uqq fastbook\n",
        "import fastbook\n",
        "fastbook.setup_book()"
      ],
      "execution_count": null,
      "outputs": []
    },
    {
      "cell_type": "code",
      "metadata": {
        "id": "d984jeb0Ao-_"
      },
      "source": [
        "from fastai.vision.all import *\n",
        "from fastbook import *\n",
        "\n",
        "matplotlib.rc('image', cmap='Greys')"
      ],
      "execution_count": null,
      "outputs": []
    },
    {
      "cell_type": "markdown",
      "metadata": {
        "id": "dBdnHTPzPTB_"
      },
      "source": [
        "# unpackAI DL201: Practical Week 1"
      ]
    },
    {
      "cell_type": "markdown",
      "metadata": {
        "id": "eP_v5FrcO5Rv"
      },
      "source": [
        "| Week | Topic                             | Chapters                  |Assignment                                                             | Comments / Links |\n",
        "|:----:|:----------------------------------|:--------------------------|:----------------------------------------------------------------------|:----------------|\n",
        "| 1    | Warm-up Session                   |                           | No assignment                                                         | -\n",
        "| 2    | Recap/Refresh SGD                 | Chapter 4, MNIST Basic    | Make a model using SGD for the full MNIST dataset. Built from scratch |https://colab.research.google.com/github/vtecftwy/fastbook/blob/master/resources/04_mnist_full_set_sgd_with_gpu.ipynb \n",
        "|      |                                   | Chapter 5, Pet Breeds     | Read sections on Cross-Entropy Loss to use in your model. You may skip the rest|\n",
        "| 3    | More on CV                        | Chapter 5, Pet Breeds     | Read notebook, run it and perform assignments at the bottom           |https://colab.research.google.com/github/vtecftwy/fastbook/blob/master/05_pet_breeds.ipynb\n",
        "|      | (Learn the theory)                | Chapter 6, Multi-Category | Read notebook, run it and perform assignments at the bottom           |https://colab.research.google.com/github/vtecftwy/fastbook/blob/master/06_multicat.ipynb\n",
        "|      |                                   | Chapter 7, Sizing and TTA | Read notebook, run it and perform assignments at the bottom           |https://colab.research.google.com/github/vtecftwy/fastbook/blob/master/07_sizing_and_tta.ipynb\n",
        "|4     | Bring together all CV             | All CV chapters           | MNIST Challenge against historical leaderboard                        |https://colab.research.google.com/github/vtecftwy/fastbook/blob/master/resources/dl201_pract_1.ipynb\n",
        "|      | (Practical Exercises)             | All CV chapters           | Take the model you trained in Ch 2, and use any methods learned to improve it.  | - "
      ]
    },
    {
      "cell_type": "markdown",
      "metadata": {
        "id": "_88_VvYKZKSl"
      },
      "source": [
        "## Assignment 1: MNIST Full Dataset - Challenge against historical leaderboard"
      ]
    },
    {
      "cell_type": "markdown",
      "metadata": {
        "id": "ozaw41kwZPC0"
      },
      "source": [
        "Compare your skills at CV using MNIST and any tool you have at your disposal with fastai, with researchers who have used the same dataset since the late 1990s.\n",
        "\n",
        "1. Build your model using MNIST full dataset and any architecture in fastai\n",
        "2. Test several approached using all the tools at your disposal (architecture, learning rate, augmentation, other tricks)\n",
        "3. Pick the one (few) model(s) with the lowest error rate\n",
        "4. Test this (these) model(s) with the MNIST Test Dataset, and note the error rate."
      ]
    },
    {
      "cell_type": "markdown",
      "metadata": {
        "id": "jB7vA0F3d-se"
      },
      "source": [
        "## Selected Leaderboard\n",
        "The table below lists the best error rates achieved each year. When a year is missing, it means no-one could beat the previous best score.\n",
        "\n",
        "\n",
        "| Model Type         | Year | Error Rate (%) |\n",
        "|--------------------|:----:|:----------:|\n",
        "| SVMs               | 1998 | 12.00         |\n",
        "| Convolutional nets | 1999 | 0.70        |\n",
        "| SVMs               | 2002 | 0.56       |\n",
        "| Convolutional nets | 2003 | 0.40        |\n",
        "| Convolutional nets | 2006 | 0.39       |\n",
        "| Neural Nets        | 2010 | 0.35       |\n",
        "| Convolutional nets | 2011 | 0.27       |\n",
        "| Convolutional nets | 2012 | 0.23       |\n",
        "| Neural Nets        | 2013 | 0.21       |\n",
        "| New Neural Nets    | 2018 | 0.18       |\n",
        "| Convolutional nets | 2020 | 0.17       |\n",
        "| Convolutional nets | 2020 | 0.16       |\n",
        "| Convolutional nets | 2020 | 0.16       |\n",
        "| New Neural Nets    | 2021 | 0.16       |"
      ]
    },
    {
      "cell_type": "markdown",
      "metadata": {
        "id": "g0Rd2_O-esFN"
      },
      "source": [
        "From which year is your model ?"
      ]
    },
    {
      "cell_type": "markdown",
      "metadata": {
        "id": "2oVrDUE_nzmu"
      },
      "source": [
        "## Load full dataset"
      ]
    },
    {
      "cell_type": "markdown",
      "metadata": {
        "id": "ECAC3RfxAo_D"
      },
      "source": [
        "We are try to rerun the two classifiers built before to classify images as a 3 or a 7, but using the full dataset with 10 digits. So let's download the full MNIST datasets:"
      ]
    },
    {
      "cell_type": "code",
      "metadata": {
        "id": "z51wexCkAo_D"
      },
      "source": [
        "path = untar_data(URLs.MNIST)    # Full dataset (0s to 9s)"
      ],
      "execution_count": null,
      "outputs": []
    },
    {
      "cell_type": "code",
      "metadata": {
        "id": "8cb6hPXoAo_D"
      },
      "source": [
        "Path.BASE_PATH = path"
      ],
      "execution_count": null,
      "outputs": []
    },
    {
      "cell_type": "markdown",
      "metadata": {
        "id": "7q8C99uoAo_D"
      },
      "source": [
        "We can see what's in this directory by using `ls`, a method added by fastai. This method returns an object of a special fastai class called `L`, which has all the same functionality of Python's built-in `list`, plus a lot more. One of its handy features is that, when printed, it displays the count of items, before listing the items themselves (if there are more than 10 items, it just shows the first few):"
      ]
    },
    {
      "cell_type": "code",
      "metadata": {
        "id": "1eHnXszSAo_E",
        "colab": {
          "base_uri": "https://localhost:8080/"
        },
        "outputId": "6bc71711-23d8-4967-b597-1f2e0b44ae5c"
      },
      "source": [
        "path.ls(), (path / 'training').ls(), (path / 'testing').ls()"
      ],
      "execution_count": null,
      "outputs": [
        {
          "output_type": "execute_result",
          "data": {
            "text/plain": [
              "((#2) [Path('training'),Path('testing')],\n",
              " (#10) [Path('training/2'),Path('training/0'),Path('training/8'),Path('training/7'),Path('training/3'),Path('training/6'),Path('training/5'),Path('training/1'),Path('training/4'),Path('training/9')],\n",
              " (#10) [Path('testing/2'),Path('testing/0'),Path('testing/8'),Path('testing/7'),Path('testing/3'),Path('testing/6'),Path('testing/5'),Path('testing/1'),Path('testing/4'),Path('testing/9')])"
            ]
          },
          "metadata": {
            "tags": []
          },
          "execution_count": 51
        }
      ]
    },
    {
      "cell_type": "markdown",
      "metadata": {
        "id": "e1Dh6YwKZA8W"
      },
      "source": [
        "## Create your DataBlock and Dataloaders for training"
      ]
    },
    {
      "cell_type": "markdown",
      "metadata": {
        "id": "MNTXF6EDfL1S"
      },
      "source": [
        "The code below is just an illustration, and not optimized. Use your own code to train the best model you can using all the tricks you have learned since Chapter 1."
      ]
    },
    {
      "cell_type": "code",
      "metadata": {
        "id": "AqxW8TP7fr3K"
      },
      "source": [
        "mnist = DataBlock(blocks=(ImageBlock,CategoryBlock),\n",
        "                  get_items=get_image_files,\n",
        "                  splitter=RandomSplitter(valid_pct=0.2),\n",
        "                  get_y=parent_label)"
      ],
      "execution_count": null,
      "outputs": []
    },
    {
      "cell_type": "code",
      "metadata": {
        "id": "3LyVWskrj_b_"
      },
      "source": [
        "# mnist.summary(path/'training')"
      ],
      "execution_count": null,
      "outputs": []
    },
    {
      "cell_type": "code",
      "metadata": {
        "id": "UplRnLhUfAUE"
      },
      "source": [
        "dls = mnist.dataloaders(path/'training')"
      ],
      "execution_count": null,
      "outputs": []
    },
    {
      "cell_type": "code",
      "metadata": {
        "colab": {
          "base_uri": "https://localhost:8080/",
          "height": 210
        },
        "id": "sFVv14bEnEZ-",
        "outputId": "57912a5c-61ef-474b-a47e-81204503c188"
      },
      "source": [
        "dls.show_batch(max_n=9, figsize=(3, 3))"
      ],
      "execution_count": null,
      "outputs": [
        {
          "output_type": "display_data",
          "data": {
            "image/png": "[encoded data removed]",
            "text/plain": [
              "<Figure size 216x216 with 9 Axes>"
            ]
          },
          "metadata": {
            "tags": [],
            "needs_background": "light"
          }
        }
      ]
    },
    {
      "cell_type": "code",
      "metadata": {
        "id": "xpNhR-19nEcx"
      },
      "source": [
        "learn = cnn_learner(dls, arch=resnet18, metrics=[error_rate, accuracy])"
      ],
      "execution_count": null,
      "outputs": []
    },
    {
      "cell_type": "code",
      "metadata": {
        "colab": {
          "base_uri": "https://localhost:8080/",
          "height": 305
        },
        "id": "WIAScCNvnEf4",
        "outputId": "14e6dfd1-1d35-4cf3-be72-7d64f849041f"
      },
      "source": [
        "lr_min, lr_steep = learn.lr_find()\n",
        "print(f\"lr_min: {lr_min:.1e}   lr_steep: {lr_steep:.1e}\")"
      ],
      "execution_count": null,
      "outputs": [
        {
          "output_type": "display_data",
          "data": {
            "text/html": [
              ""
            ],
            "text/plain": [
              "<IPython.core.display.HTML object>"
            ]
          },
          "metadata": {
            "tags": []
          }
        },
        {
          "output_type": "stream",
          "text": [
            "lr_min: 1.2e-02   lr_steep: 3.6e-03\n"
          ],
          "name": "stdout"
        },
        {
          "output_type": "display_data",
          "data": {
            "image/png": "[encoded data removed]",
            "text/plain": [
              "<Figure size 432x288 with 1 Axes>"
            ]
          },
          "metadata": {
            "tags": [],
            "needs_background": "light"
          }
        }
      ]
    },
    {
      "cell_type": "code",
      "metadata": {
        "colab": {
          "base_uri": "https://localhost:8080/",
          "height": 142
        },
        "id": "1uHAgvvWnhPm",
        "outputId": "5a2e5e57-250a-4210-d6c6-81d444c21192"
      },
      "source": [
        "lr = 1.5e-2\n",
        "# learn.fine_tune(base_lr=lr, epochs=8, freeze_epochs=2)\n",
        "learn.fit_one_cycle(n_epoch=3, lr_max=lr)"
      ],
      "execution_count": null,
      "outputs": [
        {
          "output_type": "display_data",
          "data": {
            "text/html": [
              "<table border=\"1\" class=\"dataframe\">\n",
              "  <thead>\n",
              "    <tr style=\"text-align: left;\">\n",
              "      <th>epoch</th>\n",
              "      <th>train_loss</th>\n",
              "      <th>valid_loss</th>\n",
              "      <th>error_rate</th>\n",
              "      <th>accuracy</th>\n",
              "      <th>time</th>\n",
              "    </tr>\n",
              "  </thead>\n",
              "  <tbody>\n",
              "    <tr>\n",
              "      <td>0</td>\n",
              "      <td>0.230888</td>\n",
              "      <td>0.238648</td>\n",
              "      <td>0.063000</td>\n",
              "      <td>0.937000</td>\n",
              "      <td>00:59</td>\n",
              "    </tr>\n",
              "    <tr>\n",
              "      <td>1</td>\n",
              "      <td>0.101137</td>\n",
              "      <td>0.055547</td>\n",
              "      <td>0.016917</td>\n",
              "      <td>0.983083</td>\n",
              "      <td>00:58</td>\n",
              "    </tr>\n",
              "    <tr>\n",
              "      <td>2</td>\n",
              "      <td>0.059918</td>\n",
              "      <td>0.031999</td>\n",
              "      <td>0.010250</td>\n",
              "      <td>0.989750</td>\n",
              "      <td>00:58</td>\n",
              "    </tr>\n",
              "  </tbody>\n",
              "</table>"
            ],
            "text/plain": [
              "<IPython.core.display.HTML object>"
            ]
          },
          "metadata": {
            "tags": []
          }
        }
      ]
    },
    {
      "cell_type": "code",
      "metadata": {
        "colab": {
          "base_uri": "https://localhost:8080/",
          "height": 301
        },
        "id": "yOw0YCPwriG2",
        "outputId": "edd22287-94a6-4681-f961-00e0e898c6af"
      },
      "source": [
        "learn.unfreeze()\n",
        "\n",
        "lr_min, lr_steep = learn.lr_find()\n",
        "print(f\"lr_min: {lr_min:.1e}   lr_steep: {lr_steep:.1e}\")"
      ],
      "execution_count": null,
      "outputs": [
        {
          "output_type": "display_data",
          "data": {
            "text/html": [
              ""
            ],
            "text/plain": [
              "<IPython.core.display.HTML object>"
            ]
          },
          "metadata": {
            "tags": []
          }
        },
        {
          "output_type": "stream",
          "text": [
            "lr_min: 6.9e-07   lr_steep: 9.1e-07\n"
          ],
          "name": "stdout"
        },
        {
          "output_type": "display_data",
          "data": {
            "image/png": "[encoded data removed]",
            "text/plain": [
              "<Figure size 432x288 with 1 Axes>"
            ]
          },
          "metadata": {
            "tags": [],
            "needs_background": "light"
          }
        }
      ]
    },
    {
      "cell_type": "code",
      "metadata": {
        "colab": {
          "base_uri": "https://localhost:8080/",
          "height": 295
        },
        "id": "dzzudZcIrkdk",
        "outputId": "2d7fad4a-20c2-4614-afc2-933b159f0416"
      },
      "source": [
        "lr = 2e-5\n",
        "learn.fit_one_cycle(n_epoch=8, lr_max=lr)"
      ],
      "execution_count": null,
      "outputs": [
        {
          "output_type": "display_data",
          "data": {
            "text/html": [
              "<table border=\"1\" class=\"dataframe\">\n",
              "  <thead>\n",
              "    <tr style=\"text-align: left;\">\n",
              "      <th>epoch</th>\n",
              "      <th>train_loss</th>\n",
              "      <th>valid_loss</th>\n",
              "      <th>error_rate</th>\n",
              "      <th>accuracy</th>\n",
              "      <th>time</th>\n",
              "    </tr>\n",
              "  </thead>\n",
              "  <tbody>\n",
              "    <tr>\n",
              "      <td>0</td>\n",
              "      <td>0.056564</td>\n",
              "      <td>0.029790</td>\n",
              "      <td>0.010250</td>\n",
              "      <td>0.989750</td>\n",
              "      <td>01:01</td>\n",
              "    </tr>\n",
              "    <tr>\n",
              "      <td>1</td>\n",
              "      <td>0.042597</td>\n",
              "      <td>0.029020</td>\n",
              "      <td>0.008833</td>\n",
              "      <td>0.991167</td>\n",
              "      <td>01:01</td>\n",
              "    </tr>\n",
              "    <tr>\n",
              "      <td>2</td>\n",
              "      <td>0.033641</td>\n",
              "      <td>0.025280</td>\n",
              "      <td>0.008000</td>\n",
              "      <td>0.992000</td>\n",
              "      <td>01:03</td>\n",
              "    </tr>\n",
              "    <tr>\n",
              "      <td>3</td>\n",
              "      <td>0.026498</td>\n",
              "      <td>0.023639</td>\n",
              "      <td>0.006667</td>\n",
              "      <td>0.993333</td>\n",
              "      <td>01:03</td>\n",
              "    </tr>\n",
              "    <tr>\n",
              "      <td>4</td>\n",
              "      <td>0.018085</td>\n",
              "      <td>0.022234</td>\n",
              "      <td>0.006000</td>\n",
              "      <td>0.994000</td>\n",
              "      <td>01:03</td>\n",
              "    </tr>\n",
              "    <tr>\n",
              "      <td>5</td>\n",
              "      <td>0.014426</td>\n",
              "      <td>0.020288</td>\n",
              "      <td>0.006000</td>\n",
              "      <td>0.994000</td>\n",
              "      <td>01:04</td>\n",
              "    </tr>\n",
              "    <tr>\n",
              "      <td>6</td>\n",
              "      <td>0.016236</td>\n",
              "      <td>0.020625</td>\n",
              "      <td>0.005667</td>\n",
              "      <td>0.994333</td>\n",
              "      <td>01:03</td>\n",
              "    </tr>\n",
              "    <tr>\n",
              "      <td>7</td>\n",
              "      <td>0.009436</td>\n",
              "      <td>0.020033</td>\n",
              "      <td>0.006000</td>\n",
              "      <td>0.994000</td>\n",
              "      <td>01:02</td>\n",
              "    </tr>\n",
              "  </tbody>\n",
              "</table>"
            ],
            "text/plain": [
              "<IPython.core.display.HTML object>"
            ]
          },
          "metadata": {
            "tags": []
          }
        }
      ]
    },
    {
      "cell_type": "markdown",
      "metadata": {
        "id": "vH-JaNyJkhRs"
      },
      "source": [
        "## Evaluate model with Testing Dataset"
      ]
    },
    {
      "cell_type": "markdown",
      "metadata": {
        "id": "G7UV-zgqfpst"
      },
      "source": [
        "Now that you have a model, it is time to test it with the Testing Dataset, for proper comparison.\n",
        "\n",
        "To do that, we also want to apply exactly the same steps with the test images as withe training images. Therefore we do not recreate a DataBlock and DataLoaders from scratch, but we use the training DataLoaders `dls` and its method `test_dl` to do that.\n",
        "\n",
        "Steps:\n",
        "1. Create a list of test images\n",
        "2. Create a `dls_test` with these images, using `dls.test_df()`\n",
        "3. Evaluate the test set"
      ]
    },
    {
      "cell_type": "code",
      "metadata": {
        "colab": {
          "base_uri": "https://localhost:8080/"
        },
        "id": "mn2bebXUrejK",
        "outputId": "853d69a1-cafe-4736-a3fc-7c7643a9d3bf"
      },
      "source": [
        "# Create a list of test images using all images in \n",
        "test_image_fnames = get_image_files(path/'testing')\n",
        "test_image_fnames"
      ],
      "execution_count": null,
      "outputs": [
        {
          "output_type": "execute_result",
          "data": {
            "text/plain": [
              "(#10000) [Path('testing/2/3057.png'),Path('testing/2/690.png'),Path('testing/2/3599.png'),Path('testing/2/8139.png'),Path('testing/2/2184.png'),Path('testing/2/4905.png'),Path('testing/2/9716.png'),Path('testing/2/8318.png'),Path('testing/2/278.png'),Path('testing/2/2959.png')...]"
            ]
          },
          "metadata": {
            "tags": []
          },
          "execution_count": 61
        }
      ]
    },
    {
      "cell_type": "code",
      "metadata": {
        "id": "OxL3djv6nhU4"
      },
      "source": [
        "# Create the dataloader for test images\n",
        "test_dl = dls.test_dl(test_image_fnames, with_labels=True)"
      ],
      "execution_count": null,
      "outputs": []
    },
    {
      "cell_type": "markdown",
      "metadata": {
        "id": "5yNMofIFg2Nb"
      },
      "source": [
        "With `test_dl`, we can access some basic info such as the number of samples, number of classes and views of images"
      ]
    },
    {
      "cell_type": "code",
      "metadata": {
        "colab": {
          "base_uri": "https://localhost:8080/"
        },
        "id": "tguRZx3DrunB",
        "outputId": "936c7429-fdff-4435-cb4e-e5bad424d8ff"
      },
      "source": [
        "test_dl.n"
      ],
      "execution_count": null,
      "outputs": [
        {
          "output_type": "execute_result",
          "data": {
            "text/plain": [
              "10000"
            ]
          },
          "metadata": {
            "tags": []
          },
          "execution_count": 63
        }
      ]
    },
    {
      "cell_type": "code",
      "metadata": {
        "colab": {
          "base_uri": "https://localhost:8080/"
        },
        "id": "keYYiPZXh7Hs",
        "outputId": "e7110bd7-2ea3-4470-90e2-a4aaac3d5024"
      },
      "source": [
        "test_dl.c"
      ],
      "execution_count": null,
      "outputs": [
        {
          "output_type": "execute_result",
          "data": {
            "text/plain": [
              "10"
            ]
          },
          "metadata": {
            "tags": []
          },
          "execution_count": 64
        }
      ]
    },
    {
      "cell_type": "code",
      "metadata": {
        "colab": {
          "base_uri": "https://localhost:8080/",
          "height": 210
        },
        "id": "SeELn5DXh7Kd",
        "outputId": "99851f55-42cd-42eb-cdfe-44a9499e9864"
      },
      "source": [
        "test_dl.show_batch(max_n=9, figsize=(3, 3))"
      ],
      "execution_count": null,
      "outputs": [
        {
          "output_type": "display_data",
          "data": {
            "image/png": "[encoded data removed]",
            "text/plain": [
              "<Figure size 216x216 with 9 Axes>"
            ]
          },
          "metadata": {
            "tags": [],
            "needs_background": "light"
          }
        }
      ]
    },
    {
      "cell_type": "code",
      "metadata": {
        "colab": {
          "base_uri": "https://localhost:8080/",
          "height": 17
        },
        "id": "ZY2vMtnqh7FC",
        "outputId": "79820430-c263-4223-db6f-2c78bc5185d3"
      },
      "source": [
        "preds_test_set = learn.get_preds(dl=test_dl)"
      ],
      "execution_count": null,
      "outputs": [
        {
          "output_type": "display_data",
          "data": {
            "text/html": [
              ""
            ],
            "text/plain": [
              "<IPython.core.display.HTML object>"
            ]
          },
          "metadata": {
            "tags": []
          }
        }
      ]
    },
    {
      "cell_type": "code",
      "metadata": {
        "colab": {
          "base_uri": "https://localhost:8080/"
        },
        "id": "orJozxQCi7AU",
        "outputId": "69a701da-8d92-4e7a-d80d-829037283466"
      },
      "source": [
        "preds_test_set"
      ],
      "execution_count": null,
      "outputs": [
        {
          "output_type": "execute_result",
          "data": {
            "text/plain": [
              "(tensor([[3.3559e-07, 2.5453e-07, 1.0000e+00,  ..., 8.1596e-07, 3.3991e-07, 6.2838e-07],\n",
              "         [2.1795e-07, 4.7057e-07, 9.9999e-01,  ..., 2.3675e-06, 1.0488e-06, 5.2655e-07],\n",
              "         [1.0372e-06, 1.0628e-05, 9.9992e-01,  ..., 6.4257e-05, 3.9671e-06, 1.1932e-06],\n",
              "         ...,\n",
              "         [2.2645e-07, 1.0614e-07, 1.4804e-07,  ..., 6.9798e-07, 6.6576e-06, 9.9990e-01],\n",
              "         [9.7591e-07, 5.1720e-07, 7.4489e-06,  ..., 3.5174e-06, 1.5716e-04, 9.9976e-01],\n",
              "         [9.6762e-07, 9.6399e-08, 1.1938e-07,  ..., 1.7255e-06, 2.8185e-05, 9.9994e-01]]),\n",
              " TensorCategory([2, 2, 2,  ..., 9, 9, 9]))"
            ]
          },
          "metadata": {
            "tags": []
          },
          "execution_count": 67
        }
      ]
    },
    {
      "cell_type": "code",
      "metadata": {
        "colab": {
          "base_uri": "https://localhost:8080/",
          "height": 17
        },
        "id": "2V-QsX61jGSr",
        "outputId": "060a640e-3dcf-4c14-a06d-e116fa5a214f"
      },
      "source": [
        "test_results = learn.validate(dl=test_dl)"
      ],
      "execution_count": null,
      "outputs": [
        {
          "output_type": "display_data",
          "data": {
            "text/html": [
              ""
            ],
            "text/plain": [
              "<IPython.core.display.HTML object>"
            ]
          },
          "metadata": {
            "tags": []
          }
        }
      ]
    },
    {
      "cell_type": "markdown",
      "metadata": {
        "id": "5lrvXclzlGb1"
      },
      "source": [
        "`.validate()` return the following values:\n",
        "- loss function for the dataset\n",
        "- metric(s) applied to the dataset\n",
        "\n",
        "In the case of the example above:\n",
        "- loss function\n",
        "- error_rate\n",
        "- accuracy"
      ]
    },
    {
      "cell_type": "code",
      "metadata": {
        "colab": {
          "base_uri": "https://localhost:8080/"
        },
        "id": "enY0lK8SlgEP",
        "outputId": "3f6337fc-f3f4-493a-94de-33201012ddaf"
      },
      "source": [
        "print(f\"Loss Function: {test_results[0]*100:.3f}%\")\n",
        "for i, m in enumerate(learn.metrics):\n",
        "    print(f\"{m.name}: {test_results[i+1]*100:.3f}%\")"
      ],
      "execution_count": null,
      "outputs": [
        {
          "output_type": "stream",
          "text": [
            "Loss Function: 2.048%\n",
            "error_rate: 0.700%\n",
            "accuracy: 99.300%\n"
          ],
          "name": "stdout"
        }
      ]
    },
    {
      "cell_type": "markdown",
      "metadata": {
        "id": "jCilWs4c2VE7"
      },
      "source": [
        "| Model Type         | Year | Error Rate (%) | My Basic Model\n",
        "|--------------------|:----:|:----------:|:----:|\n",
        "| SVMs               | 1998 | 12.00         |\n",
        "| Convolutional nets | 1999 | 0.70        | HERE :-(\n",
        "| SVMs               | 2002 | 0.56       |\n",
        "| Convolutional nets | 2003 | 0.40        |\n",
        "| Convolutional nets | 2006 | 0.39       |\n",
        "| Neural Nets        | 2010 | 0.35       |\n",
        "| Convolutional nets | 2011 | 0.27       |\n",
        "| Convolutional nets | 2012 | 0.23       |\n",
        "| Neural Nets        | 2013 | 0.21       |\n",
        "| New Neural Nets    | 2018 | 0.18       |\n",
        "| Convolutional nets | 2020 | 0.17       |\n",
        "| Convolutional nets | 2020 | 0.16       |\n",
        "| Convolutional nets | 2020 | 0.16       |\n",
        "| New Neural Nets    | 2021 | 0.16       |"
      ]
    }
  ]
}