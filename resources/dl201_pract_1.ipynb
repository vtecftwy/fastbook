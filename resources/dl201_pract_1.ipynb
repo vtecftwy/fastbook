{
  "nbformat": 4,
  "nbformat_minor": 0,
  "metadata": {
    "jupytext": {
      "split_at_heading": true
    },
    "kernelspec": {
      "display_name": "Python 3",
      "language": "python",
      "name": "python3"
    },
    "colab": {
      "name": "DL201_Pract_1.ipynb",
      "provenance": [],
      "collapsed_sections": [],
      "toc_visible": true,
      "include_colab_link": true
    },
    "accelerator": "GPU"
  },
  "cells": [
    {
      "cell_type": "markdown",
      "metadata": {
        "id": "view-in-github",
        "colab_type": "text"
      },
      "source": [
        "<a href=\"https://colab.research.google.com/github/vtecftwy/fastbook/blob/master/resources/dl201_pract_1.ipynb\" target=\"_parent\"><img src=\"https://colab.research.google.com/assets/colab-badge.svg\" alt=\"Open In Colab\"/></a>"
      ]
    },
    {
      "cell_type": "code",
      "metadata": {
        "id": "ismMd5FkAo-6",
        "colab": {
          "base_uri": "https://localhost:8080/"
        },
        "outputId": "737e7c50-a0ca-41a5-ac31-f5ff140d640a"
      },
      "source": [
        "!pip install -Uqq fastbook\n",
        "import fastbook\n",
        "fastbook.setup_book()"
      ],
      "execution_count": null,
      "outputs": [
        {
          "output_type": "stream",
          "text": [
            "\u001b[K     |████████████████████████████████| 727kB 8.7MB/s \n",
            "\u001b[K     |████████████████████████████████| 204kB 47.7MB/s \n",
            "\u001b[K     |████████████████████████████████| 1.2MB 38.3MB/s \n",
            "\u001b[K     |████████████████████████████████| 51kB 7.9MB/s \n",
            "\u001b[K     |████████████████████████████████| 61kB 8.8MB/s \n",
            "\u001b[K     |████████████████████████████████| 61kB 9.4MB/s \n",
            "\u001b[?25hMounted at /content/gdrive\n"
          ],
          "name": "stdout"
        }
      ]
    },
    {
      "cell_type": "code",
      "metadata": {
        "id": "d984jeb0Ao-_"
      },
      "source": [
        "from fastai.vision.all import *\n",
        "from fastbook import *\n",
        "\n",
        "matplotlib.rc('image', cmap='Greys')"
      ],
      "execution_count": null,
      "outputs": []
    },
    {
      "cell_type": "markdown",
      "metadata": {
        "id": "_88_VvYKZKSl"
      },
      "source": [
        "# MNIST Full Dataset - Challenge against historical leaderboard"
      ]
    },
    {
      "cell_type": "markdown",
      "metadata": {
        "id": "ozaw41kwZPC0"
      },
      "source": [
        "Compare your skills at CV using MNIST and any tool you have at your disposal with fastai, with researchers who have used the same dataset since the late 1990s.\n",
        "\n",
        "1. Build your model using MNIST full dataset and any architecture in fastai\n",
        "2. Test several approached using all the tools at your disposal (architecture, learning rate, augmentation, other tricks)\n",
        "3. Pick the one (few) model(s) with the lowest error rate\n",
        "4. Test this (these) model(s) with the MNIST Test Dataset, and note the error rate."
      ]
    },
    {
      "cell_type": "markdown",
      "metadata": {
        "id": "jB7vA0F3d-se"
      },
      "source": [
        "## Selected Leaderboard\n",
        "The table below lists the best error rates achieved each year. When a year is missing, it means no-one could beat the previous best score.\n",
        "\n",
        "\n",
        "| Model Type         | Year | Error Rate (%) |\n",
        "|--------------------|:----:|:----------:|\n",
        "| SVMs               | 1998 | 12.00         |\n",
        "| Convolutional nets | 1999 | 0.70        |\n",
        "| SVMs               | 2002 | 0.56       |\n",
        "| Convolutional nets | 2003 | 0.40        |\n",
        "| Convolutional nets | 2006 | 0.39       |\n",
        "| Neural Nets        | 2010 | 0.35       |\n",
        "| Convolutional nets | 2011 | 0.27       |\n",
        "| Convolutional nets | 2012 | 0.23       |\n",
        "| Neural Nets        | 2013 | 0.21       |\n",
        "| New Neural Nets    | 2018 | 0.18       |\n",
        "| Convolutional nets | 2020 | 0.17       |\n",
        "| Convolutional nets | 2020 | 0.16       |\n",
        "| Convolutional nets | 2020 | 0.16       |\n",
        "| New Neural Nets    | 2021 | 0.16       |"
      ]
    },
    {
      "cell_type": "markdown",
      "metadata": {
        "id": "g0Rd2_O-esFN"
      },
      "source": [
        "From which year is your model ?"
      ]
    },
    {
      "cell_type": "markdown",
      "metadata": {
        "id": "2oVrDUE_nzmu"
      },
      "source": [
        "## Load full dataset"
      ]
    },
    {
      "cell_type": "markdown",
      "metadata": {
        "id": "ECAC3RfxAo_D"
      },
      "source": [
        "We are try to rerun the two classifiers built before to classify images as a 3 or a 7, but using the full dataset with 10 digits. So let's download the full MNIST datasets:"
      ]
    },
    {
      "cell_type": "code",
      "metadata": {
        "id": "z51wexCkAo_D",
        "colab": {
          "base_uri": "https://localhost:8080/",
          "height": 17
        },
        "outputId": "830e8161-f64b-4bf4-b28a-1af18f688213"
      },
      "source": [
        "path = untar_data(URLs.MNIST)    # Full dataset (0s to 9s)"
      ],
      "execution_count": null,
      "outputs": [
        {
          "output_type": "display_data",
          "data": {
            "text/html": [
              ""
            ],
            "text/plain": [
              "<IPython.core.display.HTML object>"
            ]
          },
          "metadata": {
            "tags": []
          }
        }
      ]
    },
    {
      "cell_type": "code",
      "metadata": {
        "id": "8cb6hPXoAo_D"
      },
      "source": [
        "Path.BASE_PATH = path"
      ],
      "execution_count": null,
      "outputs": []
    },
    {
      "cell_type": "markdown",
      "metadata": {
        "id": "7q8C99uoAo_D"
      },
      "source": [
        "We can see what's in this directory by using `ls`, a method added by fastai. This method returns an object of a special fastai class called `L`, which has all the same functionality of Python's built-in `list`, plus a lot more. One of its handy features is that, when printed, it displays the count of items, before listing the items themselves (if there are more than 10 items, it just shows the first few):"
      ]
    },
    {
      "cell_type": "code",
      "metadata": {
        "id": "1eHnXszSAo_E",
        "colab": {
          "base_uri": "https://localhost:8080/"
        },
        "outputId": "1ef00fe3-ae16-44a4-8b42-d2123c161037"
      },
      "source": [
        "path.ls(), (path / 'training').ls(), (path / 'testing').ls()"
      ],
      "execution_count": null,
      "outputs": [
        {
          "output_type": "execute_result",
          "data": {
            "text/plain": [
              "((#2) [Path('training'),Path('testing')],\n",
              " (#10) [Path('training/2'),Path('training/0'),Path('training/8'),Path('training/7'),Path('training/3'),Path('training/6'),Path('training/5'),Path('training/1'),Path('training/4'),Path('training/9')],\n",
              " (#10) [Path('testing/2'),Path('testing/0'),Path('testing/8'),Path('testing/7'),Path('testing/3'),Path('testing/6'),Path('testing/5'),Path('testing/1'),Path('testing/4'),Path('testing/9')])"
            ]
          },
          "metadata": {
            "tags": []
          },
          "execution_count": 6
        }
      ]
    },
    {
      "cell_type": "markdown",
      "metadata": {
        "id": "e1Dh6YwKZA8W"
      },
      "source": [
        "## Create your DataBlock and Dataloaders for training"
      ]
    },
    {
      "cell_type": "markdown",
      "metadata": {
        "id": "MNTXF6EDfL1S"
      },
      "source": [
        "The code below is just an illustration, and not optimized. Use your own code to train the best model you can using all the tricks you have learned since Chapter 1."
      ]
    },
    {
      "cell_type": "code",
      "metadata": {
        "id": "AqxW8TP7fr3K"
      },
      "source": [
        "mnist = DataBlock(blocks=(ImageBlock,CategoryBlock),\n",
        "                  get_items=get_image_files,\n",
        "                  splitter=RandomSplitter(valid_pct=0.2),\n",
        "                  get_y=parent_label)"
      ],
      "execution_count": null,
      "outputs": []
    },
    {
      "cell_type": "code",
      "metadata": {
        "id": "3LyVWskrj_b_"
      },
      "source": [
        "# mnist.summary(path/'training')"
      ],
      "execution_count": null,
      "outputs": []
    },
    {
      "cell_type": "code",
      "metadata": {
        "id": "UplRnLhUfAUE"
      },
      "source": [
        "dls = mnist.dataloaders(path/'training')"
      ],
      "execution_count": null,
      "outputs": []
    },
    {
      "cell_type": "code",
      "metadata": {
        "colab": {
          "base_uri": "https://localhost:8080/",
          "height": 210
        },
        "id": "sFVv14bEnEZ-",
        "outputId": "f14645ff-de79-4689-8653-62d6b5ee7222"
      },
      "source": [
        "dls.show_batch(max_n=9, figsize=(3, 3))"
      ],
      "execution_count": null,
      "outputs": [
        {
          "output_type": "display_data",
          "data": {
            "image/png": "[encoded data removed]",
            "text/plain": [
              "<Figure size 216x216 with 9 Axes>"
            ]
          },
          "metadata": {
            "tags": [],
            "needs_background": "light"
          }
        }
      ]
    },
    {
      "cell_type": "code",
      "metadata": {
        "id": "xpNhR-19nEcx"
      },
      "source": [
        "learn = cnn_learner(dls, arch=resnet18, metrics=[error_rate, accuracy])"
      ],
      "execution_count": null,
      "outputs": []
    },
    {
      "cell_type": "code",
      "metadata": {
        "colab": {
          "base_uri": "https://localhost:8080/",
          "height": 302
        },
        "id": "WIAScCNvnEf4",
        "outputId": "8a33cae8-8f96-439e-b232-2336b7f6c3fe"
      },
      "source": [
        "lr_min, lr_steep = learn.lr_find()\n",
        "print(f\"lr_min: {lr_min:.1e}   lr_steep: {lr_steep:.1e}\")"
      ],
      "execution_count": null,
      "outputs": [
        {
          "output_type": "display_data",
          "data": {
            "text/html": [
              ""
            ],
            "text/plain": [
              "<IPython.core.display.HTML object>"
            ]
          },
          "metadata": {
            "tags": []
          }
        },
        {
          "output_type": "stream",
          "text": [
            "lr_min: 2.5e-02   lr_steep: 2.5e-03\n"
          ],
          "name": "stdout"
        },
        {
          "output_type": "display_data",
          "data": {
            "image/png": "[encoded data removed]",
            "text/plain": [
              "<Figure size 432x288 with 1 Axes>"
            ]
          },
          "metadata": {
            "tags": [],
            "needs_background": "light"
          }
        }
      ]
    },
    {
      "cell_type": "code",
      "metadata": {
        "colab": {
          "base_uri": "https://localhost:8080/",
          "height": 142
        },
        "id": "1uHAgvvWnhPm",
        "outputId": "5d847d56-83a5-425e-e8fa-393d9bb5d540"
      },
      "source": [
        "lr = 1.5e-2\n",
        "learn.fine_tune(base_lr=lr, epochs=1, freeze_epochs=1)"
      ],
      "execution_count": null,
      "outputs": [
        {
          "output_type": "display_data",
          "data": {
            "text/html": [
              "<table border=\"1\" class=\"dataframe\">\n",
              "  <thead>\n",
              "    <tr style=\"text-align: left;\">\n",
              "      <th>epoch</th>\n",
              "      <th>train_loss</th>\n",
              "      <th>valid_loss</th>\n",
              "      <th>error_rate</th>\n",
              "      <th>accuracy</th>\n",
              "      <th>time</th>\n",
              "    </tr>\n",
              "  </thead>\n",
              "  <tbody>\n",
              "    <tr>\n",
              "      <td>0</td>\n",
              "      <td>0.349510</td>\n",
              "      <td>0.198299</td>\n",
              "      <td>0.059000</td>\n",
              "      <td>0.941000</td>\n",
              "      <td>01:00</td>\n",
              "    </tr>\n",
              "  </tbody>\n",
              "</table>"
            ],
            "text/plain": [
              "<IPython.core.display.HTML object>"
            ]
          },
          "metadata": {
            "tags": []
          }
        },
        {
          "output_type": "display_data",
          "data": {
            "text/html": [
              "<table border=\"1\" class=\"dataframe\">\n",
              "  <thead>\n",
              "    <tr style=\"text-align: left;\">\n",
              "      <th>epoch</th>\n",
              "      <th>train_loss</th>\n",
              "      <th>valid_loss</th>\n",
              "      <th>error_rate</th>\n",
              "      <th>accuracy</th>\n",
              "      <th>time</th>\n",
              "    </tr>\n",
              "  </thead>\n",
              "  <tbody>\n",
              "    <tr>\n",
              "      <td>0</td>\n",
              "      <td>0.070320</td>\n",
              "      <td>0.038177</td>\n",
              "      <td>0.011250</td>\n",
              "      <td>0.988750</td>\n",
              "      <td>01:03</td>\n",
              "    </tr>\n",
              "  </tbody>\n",
              "</table>"
            ],
            "text/plain": [
              "<IPython.core.display.HTML object>"
            ]
          },
          "metadata": {
            "tags": []
          }
        }
      ]
    },
    {
      "cell_type": "markdown",
      "metadata": {
        "id": "vH-JaNyJkhRs"
      },
      "source": [
        "## Evaluate model with Testing Dataset"
      ]
    },
    {
      "cell_type": "markdown",
      "metadata": {
        "id": "G7UV-zgqfpst"
      },
      "source": [
        "Now that you have a model, it is time to test it with the Testing Dataset, for proper comparison.\n",
        "\n",
        "To do that, we also want to apply exactly the same steps with the test images as withe training images. Therefore we do not recreate a DataBlock and DataLoaders from scratch, but we use the training DataLoaders `dls` and its method `test_dl` to do that.\n",
        "\n",
        "Steps:\n",
        "1. Create a list of test images\n",
        "2. Create a `dls_test` with these images, using `dls.test_df()`\n",
        "3. Evaluate the test set"
      ]
    },
    {
      "cell_type": "code",
      "metadata": {
        "colab": {
          "base_uri": "https://localhost:8080/"
        },
        "id": "mn2bebXUrejK",
        "outputId": "0d940676-8d97-4fb2-b733-d1178e98a20e"
      },
      "source": [
        "# Create a list of test images using all images in \n",
        "test_image_fnames = get_image_files(path/'testing')\n",
        "test_image_fnames"
      ],
      "execution_count": null,
      "outputs": [
        {
          "output_type": "execute_result",
          "data": {
            "text/plain": [
              "(#10000) [Path('testing/2/3057.png'),Path('testing/2/690.png'),Path('testing/2/3599.png'),Path('testing/2/8139.png'),Path('testing/2/2184.png'),Path('testing/2/4905.png'),Path('testing/2/9716.png'),Path('testing/2/8318.png'),Path('testing/2/278.png'),Path('testing/2/2959.png')...]"
            ]
          },
          "metadata": {
            "tags": []
          },
          "execution_count": 28
        }
      ]
    },
    {
      "cell_type": "code",
      "metadata": {
        "id": "OxL3djv6nhU4"
      },
      "source": [
        "# Create the dataloader for test images\n",
        "test_dl = dls.test_dl(test_image_fnames, with_labels=True)"
      ],
      "execution_count": null,
      "outputs": []
    },
    {
      "cell_type": "markdown",
      "metadata": {
        "id": "5yNMofIFg2Nb"
      },
      "source": [
        "With `test_dl`, we can access some basic info such as the number of samples, number of classes and views of images"
      ]
    },
    {
      "cell_type": "code",
      "metadata": {
        "colab": {
          "base_uri": "https://localhost:8080/"
        },
        "id": "tguRZx3DrunB",
        "outputId": "0d670bd8-e299-457b-bbc4-8c160b9c25e6"
      },
      "source": [
        "test_dl.n"
      ],
      "execution_count": null,
      "outputs": [
        {
          "output_type": "execute_result",
          "data": {
            "text/plain": [
              "10000"
            ]
          },
          "metadata": {
            "tags": []
          },
          "execution_count": 30
        }
      ]
    },
    {
      "cell_type": "code",
      "metadata": {
        "colab": {
          "base_uri": "https://localhost:8080/"
        },
        "id": "keYYiPZXh7Hs",
        "outputId": "5b887958-29c8-4e68-c7a0-5f83e3d6bbc8"
      },
      "source": [
        "test_dl.c"
      ],
      "execution_count": null,
      "outputs": [
        {
          "output_type": "execute_result",
          "data": {
            "text/plain": [
              "10"
            ]
          },
          "metadata": {
            "tags": []
          },
          "execution_count": 31
        }
      ]
    },
    {
      "cell_type": "code",
      "metadata": {
        "colab": {
          "base_uri": "https://localhost:8080/",
          "height": 210
        },
        "id": "SeELn5DXh7Kd",
        "outputId": "4c7e8232-231a-4cc1-c835-c793bb201550"
      },
      "source": [
        "test_dl.show_batch(max_n=9, figsize=(3, 3))"
      ],
      "execution_count": null,
      "outputs": [
        {
          "output_type": "display_data",
          "data": {
            "image/png": "[encoded data removed]",
            "text/plain": [
              "<Figure size 216x216 with 9 Axes>"
            ]
          },
          "metadata": {
            "tags": [],
            "needs_background": "light"
          }
        }
      ]
    },
    {
      "cell_type": "markdown",
      "metadata": {
        "id": "G1Yb1jqfiH11"
      },
      "source": [
        ""
      ]
    },
    {
      "cell_type": "code",
      "metadata": {
        "colab": {
          "base_uri": "https://localhost:8080/",
          "height": 17
        },
        "id": "ZY2vMtnqh7FC",
        "outputId": "873a2654-58aa-4a72-ea86-2545fad0240f"
      },
      "source": [
        "preds_test_set = learn.get_preds(dl=test_dl)"
      ],
      "execution_count": null,
      "outputs": [
        {
          "output_type": "display_data",
          "data": {
            "text/html": [
              ""
            ],
            "text/plain": [
              "<IPython.core.display.HTML object>"
            ]
          },
          "metadata": {
            "tags": []
          }
        }
      ]
    },
    {
      "cell_type": "code",
      "metadata": {
        "colab": {
          "base_uri": "https://localhost:8080/"
        },
        "id": "orJozxQCi7AU",
        "outputId": "607f926f-74ca-435c-9062-7917c1eadaed"
      },
      "source": [
        "preds_test_set"
      ],
      "execution_count": null,
      "outputs": [
        {
          "output_type": "execute_result",
          "data": {
            "text/plain": [
              "(tensor([[4.4093e-07, 1.4294e-06, 9.9999e-01,  ..., 9.0669e-07, 1.1851e-06, 1.3571e-07],\n",
              "         [5.9614e-06, 6.1593e-05, 9.9982e-01,  ..., 1.2041e-05, 1.8312e-05, 2.3995e-06],\n",
              "         [2.9375e-03, 1.0573e-02, 9.6617e-01,  ..., 7.4055e-03, 2.1518e-03, 1.1244e-03],\n",
              "         ...,\n",
              "         [3.1427e-06, 1.1020e-06, 9.9513e-06,  ..., 7.1079e-05, 3.9348e-05, 9.9960e-01],\n",
              "         [4.8626e-04, 1.8111e-04, 9.2829e-04,  ..., 2.5651e-03, 2.6339e-03, 9.8032e-01],\n",
              "         [4.4117e-07, 8.7557e-08, 3.4637e-06,  ..., 7.5427e-06, 1.6179e-05, 9.9991e-01]]),\n",
              " TensorCategory([2, 2, 2,  ..., 9, 9, 9]))"
            ]
          },
          "metadata": {
            "tags": []
          },
          "execution_count": 33
        }
      ]
    },
    {
      "cell_type": "code",
      "metadata": {
        "colab": {
          "base_uri": "https://localhost:8080/",
          "height": 17
        },
        "id": "2V-QsX61jGSr",
        "outputId": "720eb75a-3651-4917-c36f-d82e3c9f1463"
      },
      "source": [
        "test_results = learn.validate(dl=test_dl)"
      ],
      "execution_count": null,
      "outputs": [
        {
          "output_type": "display_data",
          "data": {
            "text/html": [
              ""
            ],
            "text/plain": [
              "<IPython.core.display.HTML object>"
            ]
          },
          "metadata": {
            "tags": []
          }
        }
      ]
    },
    {
      "cell_type": "markdown",
      "metadata": {
        "id": "5lrvXclzlGb1"
      },
      "source": [
        "`.validate()` return the following values:\n",
        "- loss function for the dataset\n",
        "- metric(s) applied to the dataset\n",
        "\n",
        "In the case of the example above:\n",
        "- loss function:\n",
        "- error_rate: \n",
        "- accuracy"
      ]
    },
    {
      "cell_type": "code",
      "metadata": {
        "colab": {
          "base_uri": "https://localhost:8080/"
        },
        "id": "enY0lK8SlgEP",
        "outputId": "08a4b795-38c1-4c9d-99cf-0ef834eaa15a"
      },
      "source": [
        "print(f\"Loss Function: {test_results[0]*100:.3f}%\")\n",
        "for i, m in enumerate(learn.metrics):\n",
        "    print(f\"{m.name}: {test_results[i+1]*100:.3f}%\")"
      ],
      "execution_count": null,
      "outputs": [
        {
          "output_type": "stream",
          "text": [
            "Loss Function: 3.062%\n",
            "error_rate: 0.930%\n",
            "accuracy: 99.070%\n"
          ],
          "name": "stdout"
        }
      ]
    }
  ]
}