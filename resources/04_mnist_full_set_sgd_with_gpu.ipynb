{
  "nbformat": 4,
  "nbformat_minor": 0,
  "metadata": {
    "jupytext": {
      "split_at_heading": true
    },
    "kernelspec": {
      "display_name": "Python 3",
      "language": "python",
      "name": "python3"
    },
    "colab": {
      "name": "04_mnist_full_set_sgd_with_gpu.ipynb",
      "provenance": [],
      "collapsed_sections": [],
      "toc_visible": true,
      "include_colab_link": true
    },
    "accelerator": "GPU"
  },
  "cells": [
    {
      "cell_type": "markdown",
      "metadata": {
        "id": "view-in-github",
        "colab_type": "text"
      },
      "source": [
        "<a href=\"https://colab.research.google.com/github/vtecftwy/fastbook/blob/master/resources/04_mnist_full_set_sgd_with_gpu.ipynb\" target=\"_parent\"><img src=\"https://colab.research.google.com/assets/colab-badge.svg\" alt=\"Open In Colab\"/></a>"
      ]
    },
    {
      "cell_type": "code",
      "metadata": {
        "id": "ismMd5FkAo-6"
      },
      "source": [
        "!pip install -Uqq fastbook\n",
        "import fastbook\n",
        "fastbook.setup_book()"
      ],
      "execution_count": 1,
      "outputs": []
    },
    {
      "cell_type": "code",
      "metadata": {
        "id": "d984jeb0Ao-_"
      },
      "source": [
        "from fastai.vision.all import *\n",
        "from fastbook import *\n",
        "\n",
        "matplotlib.rc('image', cmap='Greys')"
      ],
      "execution_count": 2,
      "outputs": []
    },
    {
      "cell_type": "markdown",
      "metadata": {
        "id": "2oVrDUE_nzmu"
      },
      "source": [
        "# Rerun Chapter 4 with the full MNIST dataset\n",
        "Only the SGD part"
      ]
    },
    {
      "cell_type": "markdown",
      "metadata": {
        "id": "zQ-L91uh_cX0"
      },
      "source": [
        "## Load full MNIST dataset and prepare datasets"
      ]
    },
    {
      "cell_type": "markdown",
      "metadata": {
        "id": "ECAC3RfxAo_D"
      },
      "source": [
        "We are try to rerun the two classifiers built before to classify images as a 3 or a 7, but using the full dataset with 10 digits. So let's download the full MNIST datasets:"
      ]
    },
    {
      "cell_type": "code",
      "metadata": {
        "id": "z51wexCkAo_D"
      },
      "source": [
        "path = untar_data(URLs.MNIST)    # Full dataset (0s to 9s)"
      ],
      "execution_count": 3,
      "outputs": []
    },
    {
      "cell_type": "code",
      "metadata": {
        "id": "8cb6hPXoAo_D"
      },
      "source": [
        "Path.BASE_PATH = path"
      ],
      "execution_count": 4,
      "outputs": []
    },
    {
      "cell_type": "markdown",
      "metadata": {
        "id": "7q8C99uoAo_D"
      },
      "source": [
        "We can see what's in this directory by using `ls`, a method added by fastai. This method returns an object of a special fastai class called `L`, which has all the same functionality of Python's built-in `list`, plus a lot more. One of its handy features is that, when printed, it displays the count of items, before listing the items themselves (if there are more than 10 items, it just shows the first few):"
      ]
    },
    {
      "cell_type": "code",
      "metadata": {
        "id": "1eHnXszSAo_E",
        "colab": {
          "base_uri": "https://localhost:8080/"
        },
        "outputId": "2fdbc03e-bd6f-48f0-a0c1-7ca21d47c591"
      },
      "source": [
        "path.ls()"
      ],
      "execution_count": 5,
      "outputs": [
        {
          "output_type": "execute_result",
          "data": {
            "text/plain": [
              "(#2) [Path('testing'),Path('training')]"
            ]
          },
          "metadata": {
            "tags": []
          },
          "execution_count": 5
        }
      ]
    },
    {
      "cell_type": "markdown",
      "metadata": {
        "id": "9Mdy8RNkAo_F"
      },
      "source": [
        "The MNIST dataset follows a common layout for machine learning datasets: separate folders for the training set and the validation set (and/or test set). Note, though, that the names of both image folders have changed: `train` into `training` and `valid` into `testing`. Keep this in mind when you look for images in the code below.\n",
        "\n",
        "Let's see what's inside the training set:"
      ]
    },
    {
      "cell_type": "code",
      "metadata": {
        "id": "7N8WAogvAo_G",
        "colab": {
          "base_uri": "https://localhost:8080/"
        },
        "outputId": "1aae93ba-9df0-4a06-f2bb-5e7dd688fd06"
      },
      "source": [
        "(path/'training').ls()"
      ],
      "execution_count": 6,
      "outputs": [
        {
          "output_type": "execute_result",
          "data": {
            "text/plain": [
              "(#10) [Path('training/0'),Path('training/9'),Path('training/8'),Path('training/4'),Path('training/6'),Path('training/5'),Path('training/2'),Path('training/7'),Path('training/3'),Path('training/1')]"
            ]
          },
          "metadata": {
            "tags": []
          },
          "execution_count": 6
        }
      ]
    },
    {
      "cell_type": "markdown",
      "metadata": {
        "id": "2pVC0CapAo_H"
      },
      "source": [
        "### Prepare training set\n",
        "There's a folder for each digit from 0s to 9s. Let's take a look in one of these folders (using `sorted` to ensure we all get the same order of files). To do so, it is convenient to use a `dict`, indexed by the digit (0 -> 9). It prevents us from creating 10 different variables and from writing 10 times tvery similar code. We also could use a list of lists.\n",
        "``` python\n",
        "    paths_dict = {0: [list of the paths to images of 0],\n",
        "                  1: [list of the paths to images of 1],\n",
        "\n",
        "                  i: [list of the paths to images of i],\n",
        "\n",
        "                  9: [list of the paths to images of 9],\n",
        "                 }\n",
        "```"
      ]
    },
    {
      "cell_type": "code",
      "metadata": {
        "id": "NPjkeRxyAo_H",
        "colab": {
          "base_uri": "https://localhost:8080/"
        },
        "outputId": "362dca6f-f535-451f-aee1-9b2a4a84f265"
      },
      "source": [
        "paths_dict = {}         # Create an empty dictionary to hold the paths list for each digit\n",
        "for i in range(10):\n",
        "    paths_dict[i] = (path/'training'/f\"{i}\").ls().sorted()   # add the list of path for digit i to the dict\n",
        "\n",
        "paths_dict"
      ],
      "execution_count": 7,
      "outputs": [
        {
          "output_type": "execute_result",
          "data": {
            "text/plain": [
              "{0: (#5923) [Path('training/0/1.png'),Path('training/0/1000.png'),Path('training/0/10005.png'),Path('training/0/10010.png'),Path('training/0/10022.png'),Path('training/0/10025.png'),Path('training/0/10026.png'),Path('training/0/10045.png'),Path('training/0/10069.png'),Path('training/0/10071.png')...],\n",
              " 1: (#6742) [Path('training/1/10006.png'),Path('training/1/10007.png'),Path('training/1/1002.png'),Path('training/1/10020.png'),Path('training/1/10027.png'),Path('training/1/1003.png'),Path('training/1/10040.png'),Path('training/1/10048.png'),Path('training/1/10058.png'),Path('training/1/10067.png')...],\n",
              " 2: (#5958) [Path('training/2/10009.png'),Path('training/2/10016.png'),Path('training/2/10024.png'),Path('training/2/10029.png'),Path('training/2/10072.png'),Path('training/2/10073.png'),Path('training/2/10075.png'),Path('training/2/10078.png'),Path('training/2/10081.png'),Path('training/2/10082.png')...],\n",
              " 3: (#6131) [Path('training/3/10.png'),Path('training/3/10000.png'),Path('training/3/10011.png'),Path('training/3/10031.png'),Path('training/3/10034.png'),Path('training/3/10042.png'),Path('training/3/10052.png'),Path('training/3/1007.png'),Path('training/3/10074.png'),Path('training/3/10091.png')...],\n",
              " 4: (#5842) [Path('training/4/10013.png'),Path('training/4/10018.png'),Path('training/4/10033.png'),Path('training/4/1004.png'),Path('training/4/1006.png'),Path('training/4/10060.png'),Path('training/4/1008.png'),Path('training/4/10103.png'),Path('training/4/10104.png'),Path('training/4/10114.png')...],\n",
              " 5: (#5421) [Path('training/5/0.png'),Path('training/5/100.png'),Path('training/5/10008.png'),Path('training/5/10015.png'),Path('training/5/10030.png'),Path('training/5/10035.png'),Path('training/5/10049.png'),Path('training/5/10051.png'),Path('training/5/10056.png'),Path('training/5/10062.png')...],\n",
              " 6: (#5918) [Path('training/6/10017.png'),Path('training/6/10032.png'),Path('training/6/10036.png'),Path('training/6/10037.png'),Path('training/6/10044.png'),Path('training/6/10053.png'),Path('training/6/10076.png'),Path('training/6/10089.png'),Path('training/6/10101.png'),Path('training/6/10108.png')...],\n",
              " 7: (#6265) [Path('training/7/10002.png'),Path('training/7/1001.png'),Path('training/7/10014.png'),Path('training/7/10019.png'),Path('training/7/10039.png'),Path('training/7/10046.png'),Path('training/7/10050.png'),Path('training/7/10063.png'),Path('training/7/10077.png'),Path('training/7/10086.png')...],\n",
              " 8: (#5851) [Path('training/8/10001.png'),Path('training/8/10012.png'),Path('training/8/10021.png'),Path('training/8/10041.png'),Path('training/8/10054.png'),Path('training/8/10057.png'),Path('training/8/10061.png'),Path('training/8/10064.png'),Path('training/8/10066.png'),Path('training/8/10079.png')...],\n",
              " 9: (#5949) [Path('training/9/10003.png'),Path('training/9/10004.png'),Path('training/9/10023.png'),Path('training/9/10028.png'),Path('training/9/10038.png'),Path('training/9/10043.png'),Path('training/9/10047.png'),Path('training/9/1005.png'),Path('training/9/10055.png'),Path('training/9/10059.png')...]}"
            ]
          },
          "metadata": {
            "tags": []
          },
          "execution_count": 7
        }
      ]
    },
    {
      "cell_type": "markdown",
      "metadata": {
        "id": "312NwVltAo_I"
      },
      "source": [
        "Let’s take a look at one image for each of the digits:"
      ]
    },
    {
      "cell_type": "code",
      "metadata": {
        "id": "bjWBvBVMAo_I",
        "colab": {
          "base_uri": "https://localhost:8080/",
          "height": 297
        },
        "outputId": "04d6bd64-3ba9-43d5-bf25-495f1ea2b268"
      },
      "source": [
        "for i in range(10):\n",
        "    img_paths = paths_dict[i][3]\n",
        "    img = Image.open(img_paths)\n",
        "    display(img)"
      ],
      "execution_count": 8,
      "outputs": [
        {
          "output_type": "display_data",
          "data": {
            "image/png": "[encoded data removed]",
            "text/plain": [
              "<PIL.PngImagePlugin.PngImageFile image mode=L size=28x28 at 0x7F409C74A910>"
            ]
          },
          "metadata": {
            "tags": []
          }
        },
        {
          "output_type": "display_data",
          "data": {
            "image/png": "[encoded data removed]",
            "text/plain": [
              "<PIL.PngImagePlugin.PngImageFile image mode=L size=28x28 at 0x7F409C6C8050>"
            ]
          },
          "metadata": {
            "tags": []
          }
        },
        {
          "output_type": "display_data",
          "data": {
            "image/png": "[encoded data removed]",
            "text/plain": [
              "<PIL.PngImagePlugin.PngImageFile image mode=L size=28x28 at 0x7F40A0E221D0>"
            ]
          },
          "metadata": {
            "tags": []
          }
        },
        {
          "output_type": "display_data",
          "data": {
            "image/png": "[encoded data removed]",
            "text/plain": [
              "<PIL.PngImagePlugin.PngImageFile image mode=L size=28x28 at 0x7F409C6BEF90>"
            ]
          },
          "metadata": {
            "tags": []
          }
        },
        {
          "output_type": "display_data",
          "data": {
            "image/png": "[encoded data removed]",
            "text/plain": [
              "<PIL.PngImagePlugin.PngImageFile image mode=L size=28x28 at 0x7F409C6C8650>"
            ]
          },
          "metadata": {
            "tags": []
          }
        },
        {
          "output_type": "display_data",
          "data": {
            "image/png": "[encoded data removed]",
            "text/plain": [
              "<PIL.PngImagePlugin.PngImageFile image mode=L size=28x28 at 0x7F409C6BEFD0>"
            ]
          },
          "metadata": {
            "tags": []
          }
        },
        {
          "output_type": "display_data",
          "data": {
            "image/png": "[encoded data removed]",
            "text/plain": [
              "<PIL.PngImagePlugin.PngImageFile image mode=L size=28x28 at 0x7F409C6C88D0>"
            ]
          },
          "metadata": {
            "tags": []
          }
        },
        {
          "output_type": "display_data",
          "data": {
            "image/png": "[encoded data removed]",
            "text/plain": [
              "<PIL.PngImagePlugin.PngImageFile image mode=L size=28x28 at 0x7F409C6C8310>"
            ]
          },
          "metadata": {
            "tags": []
          }
        },
        {
          "output_type": "display_data",
          "data": {
            "image/png": "[encoded data removed]",
            "text/plain": [
              "<PIL.PngImagePlugin.PngImageFile image mode=L size=28x28 at 0x7F409C6C8B50>"
            ]
          },
          "metadata": {
            "tags": []
          }
        },
        {
          "output_type": "display_data",
          "data": {
            "image/png": "[encoded data removed]",
            "text/plain": [
              "<PIL.PngImagePlugin.PngImageFile image mode=L size=28x28 at 0x7F409C6C8C90>"
            ]
          },
          "metadata": {
            "tags": []
          }
        }
      ]
    },
    {
      "cell_type": "markdown",
      "metadata": {
        "id": "3Nu_zxJnAo_L"
      },
      "source": [
        "Let's create a tensor containing all of the images representing a single digit, stacked together. We use the same list comprehension as in `04_mnist_basic`. But since we have 10 groups, we again use a dictionary indexed with the digit 0 to 9, to hold the stacked images, instead of 10 variables. You also can use a list of tensors here. There are also other methods that may be faster."
      ]
    },
    {
      "cell_type": "code",
      "metadata": {
        "id": "K-QBaP57Ao_L"
      },
      "source": [
        "tensors_dict = {}\n",
        "for i in range(10):\n",
        "    tensors_dict[i] = [tensor(Image.open(o)) for o in paths_dict[i]]"
      ],
      "execution_count": 9,
      "outputs": []
    },
    {
      "cell_type": "code",
      "metadata": {
        "colab": {
          "base_uri": "https://localhost:8080/",
          "height": 210
        },
        "id": "3lr9h45QANvp",
        "outputId": "ae737111-7620-4443-f709-7517b06e7f1f"
      },
      "source": [
        "# Show the number of images for each digit\n",
        "print(f'Total number of images: {sum([len(v) for k, v in tensors_dict.items()]):,d}')\n",
        "display([f\"{len(v):,d} images for {k}\" for k, v in tensors_dict.items()])\n"
      ],
      "execution_count": 10,
      "outputs": [
        {
          "output_type": "stream",
          "text": [
            "Total number of images: 60,000\n"
          ],
          "name": "stdout"
        },
        {
          "output_type": "display_data",
          "data": {
            "text/plain": [
              "['5,923 images for 0',\n",
              " '6,742 images for 1',\n",
              " '5,958 images for 2',\n",
              " '6,131 images for 3',\n",
              " '5,842 images for 4',\n",
              " '5,421 images for 5',\n",
              " '5,918 images for 6',\n",
              " '6,265 images for 7',\n",
              " '5,851 images for 8',\n",
              " '5,949 images for 9']"
            ]
          },
          "metadata": {
            "tags": []
          }
        }
      ]
    },
    {
      "cell_type": "markdown",
      "metadata": {
        "id": "lLNeQOo3Ao_M"
      },
      "source": [
        "We'll also check that one of the images looks okay. Since we now have tensors (which Jupyter by default will print as values), rather than PIL images (which Jupyter by default will display as images), we need to use fastai's `show_image` function to display it:"
      ]
    },
    {
      "cell_type": "code",
      "metadata": {
        "id": "fhPxcHn1Ao_M",
        "colab": {
          "base_uri": "https://localhost:8080/",
          "height": 153
        },
        "outputId": "282825d1-3a9c-4692-86f8-9b1dd92da444"
      },
      "source": [
        "show_image(tensors_dict[2][1])\n",
        "show_image(tensors_dict[9][1]);"
      ],
      "execution_count": 11,
      "outputs": [
        {
          "output_type": "display_data",
          "data": {
            "image/png": "[encoded data removed]",
            "text/plain": [
              "<Figure size 72x72 with 1 Axes>"
            ]
          },
          "metadata": {
            "tags": [],
            "needs_background": "light"
          }
        },
        {
          "output_type": "display_data",
          "data": {
            "image/png": "[encoded data removed]",
            "text/plain": [
              "<Figure size 72x72 with 1 Axes>"
            ]
          },
          "metadata": {
            "tags": [],
            "needs_background": "light"
          }
        }
      ]
    },
    {
      "cell_type": "markdown",
      "metadata": {
        "id": "MVISc1SpAo_N"
      },
      "source": [
        "Some operations in PyTorch, such as taking a mean, require us to *cast* our integer types to float types. Since we'll be needing this later, we'll also cast our stacked tensor to `float` now. Casting in PyTorch is as simple as typing the name of the type you wish to cast to, and treating it as a method.\n",
        "\n",
        "Generally when images are floats, the pixel values are expected to be between 0 and 1, so we will also divide by 255 here:"
      ]
    },
    {
      "cell_type": "code",
      "metadata": {
        "id": "em4pFaPTAo_N"
      },
      "source": [
        "# Calculate the stacked tensor for each of the digit and store that tensor in a dictionary index by digit\n",
        "stacked_tensors_dict = {}\n",
        "for digit, img_tensor in tensors_dict.items():\n",
        "    stacked_tensors_dict[digit] = torch.stack(img_tensor).float()/255"
      ],
      "execution_count": 12,
      "outputs": []
    },
    {
      "cell_type": "markdown",
      "metadata": {
        "id": "dvddIlsBAo_N"
      },
      "source": [
        "Perhaps the most important attribute of a tensor is its *shape*. This tells you the length of each axis. In this case, we can see that we have around 6,000 images for each digit, each image of size 28×28 pixels. There is nothing specifically about this tensor that says that the first axis is the number of images, the second is the height, and the third is the width—the semantics of a tensor are entirely up to us, and how we construct it. As far as PyTorch is concerned, it is just a bunch of numbers in memory."
      ]
    },
    {
      "cell_type": "code",
      "metadata": {
        "colab": {
          "base_uri": "https://localhost:8080/"
        },
        "id": "HR_70dP0CDmt",
        "outputId": "d2a80983-3d11-4fcd-c5db-41abb6c40cc3"
      },
      "source": [
        "print('Shapes of image tensor for each digit:')\n",
        "for digit, img_tensor in stacked_tensors_dict.items():\n",
        "    print('   ', digit, ': ', stacked_tensors_dict[digit].shape)"
      ],
      "execution_count": 13,
      "outputs": [
        {
          "output_type": "stream",
          "text": [
            "Shapes of image tensor for each digit:\n",
            "    0 :  torch.Size([5923, 28, 28])\n",
            "    1 :  torch.Size([6742, 28, 28])\n",
            "    2 :  torch.Size([5958, 28, 28])\n",
            "    3 :  torch.Size([6131, 28, 28])\n",
            "    4 :  torch.Size([5842, 28, 28])\n",
            "    5 :  torch.Size([5421, 28, 28])\n",
            "    6 :  torch.Size([5918, 28, 28])\n",
            "    7 :  torch.Size([6265, 28, 28])\n",
            "    8 :  torch.Size([5851, 28, 28])\n",
            "    9 :  torch.Size([5949, 28, 28])\n"
          ],
          "name": "stdout"
        }
      ]
    },
    {
      "cell_type": "code",
      "metadata": {
        "id": "SVV6sou9NVrY"
      },
      "source": [
        ""
      ],
      "execution_count": 13,
      "outputs": []
    },
    {
      "cell_type": "markdown",
      "metadata": {
        "id": "KJVX90_NHIui"
      },
      "source": [
        "### Prepare validation set"
      ]
    },
    {
      "cell_type": "code",
      "metadata": {
        "id": "5S4A7eEjAo_Z",
        "colab": {
          "base_uri": "https://localhost:8080/"
        },
        "outputId": "8f93a1f4-027a-4322-b72a-31f2cc6a3d10"
      },
      "source": [
        "valid_tensors_dict = {}\n",
        "\n",
        "for digit, tnrs in stacked_tensors_dict.items():\n",
        "    valid_tensors_dict[digit] = torch.stack([tensor(Image.open(o)) \n",
        "                                             for o in (path/'testing'/f\"{digit}\").ls()])\n",
        "    valid_tensors_dict[digit] = valid_tensors_dict[digit].float()/255\n",
        "    print('shape for',digit, ':', valid_tensors_dict[digit].shape)"
      ],
      "execution_count": 14,
      "outputs": [
        {
          "output_type": "stream",
          "text": [
            "shape for 0 : torch.Size([980, 28, 28])\n",
            "shape for 1 : torch.Size([1135, 28, 28])\n",
            "shape for 2 : torch.Size([1032, 28, 28])\n",
            "shape for 3 : torch.Size([1010, 28, 28])\n",
            "shape for 4 : torch.Size([982, 28, 28])\n",
            "shape for 5 : torch.Size([892, 28, 28])\n",
            "shape for 6 : torch.Size([958, 28, 28])\n",
            "shape for 7 : torch.Size([1028, 28, 28])\n",
            "shape for 8 : torch.Size([974, 28, 28])\n",
            "shape for 9 : torch.Size([1009, 28, 28])\n"
          ],
          "name": "stdout"
        }
      ]
    },
    {
      "cell_type": "markdown",
      "metadata": {
        "id": "QQylH3NjHWcs"
      },
      "source": [
        "It's good to get in the habit of checking shapes as you go. Here we see 10 tensors, each representing one digit validation set of about 1,000 images of size 28×28. Total number of validation images is 10,000."
      ]
    },
    {
      "cell_type": "code",
      "metadata": {
        "colab": {
          "base_uri": "https://localhost:8080/"
        },
        "id": "RzgqkBhoHXET",
        "outputId": "0b647a3e-2767-4c0f-ed24-1f7a3958ef74"
      },
      "source": [
        "print('Shapes of image tensor for each digit:')\n",
        "for digit, tnrs in valid_tensors_dict.items():\n",
        "    print(' shape for',digit, ':', valid_tensors_dict[digit].shape)"
      ],
      "execution_count": 15,
      "outputs": [
        {
          "output_type": "stream",
          "text": [
            "Shapes of image tensor for each digit:\n",
            " shape for 0 : torch.Size([980, 28, 28])\n",
            " shape for 1 : torch.Size([1135, 28, 28])\n",
            " shape for 2 : torch.Size([1032, 28, 28])\n",
            " shape for 3 : torch.Size([1010, 28, 28])\n",
            " shape for 4 : torch.Size([982, 28, 28])\n",
            " shape for 5 : torch.Size([892, 28, 28])\n",
            " shape for 6 : torch.Size([958, 28, 28])\n",
            " shape for 7 : torch.Size([1028, 28, 28])\n",
            " shape for 8 : torch.Size([974, 28, 28])\n",
            " shape for 9 : torch.Size([1009, 28, 28])\n"
          ],
          "name": "stdout"
        }
      ]
    },
    {
      "cell_type": "markdown",
      "metadata": {
        "id": "0VpRly6QAo_c"
      },
      "source": [
        "## Stochastic Gradient Descent (SGD)"
      ]
    },
    {
      "cell_type": "code",
      "metadata": {
        "colab": {
          "base_uri": "https://localhost:8080/",
          "height": 124
        },
        "id": "OzVuXe_E-GtE",
        "outputId": "5cd0b3ff-c12c-46ba-91a1-49ef9b667cb4"
      },
      "source": [
        "gv('''\n",
        "\"1. init\"->\"2. predict\"->\"3. loss\"->\"4. gradient\"->\"5. step\"->\"7. stop\"\n",
        "\"5. step\"->\"2. predict\"[label=\"6. repeat\"]\n",
        "''')"
      ],
      "execution_count": 16,
      "outputs": [
        {
          "output_type": "execute_result",
          "data": {
            "text/plain": [
              "<graphviz.files.Source at 0x7f409b63a250>"
            ],
            "image/svg+xml": "<?xml version=\"1.0\" encoding=\"UTF-8\" standalone=\"no\"?>\n<!DOCTYPE svg PUBLIC \"-//W3C//DTD SVG 1.1//EN\"\n \"http://www.w3.org/Graphics/SVG/1.1/DTD/svg11.dtd\">\n<!-- Generated by graphviz version 2.40.1 (20161225.0304)\n -->\n<!-- Title: G Pages: 1 -->\n<svg width=\"712pt\" height=\"78pt\"\n viewBox=\"0.00 0.00 711.56 78.00\" xmlns=\"http://www.w3.org/2000/svg\" xmlns:xlink=\"http://www.w3.org/1999/xlink\">\n<g id=\"graph0\" class=\"graph\" transform=\"scale(1 1) rotate(0) translate(4 74)\">\n<title>G</title>\n<polygon fill=\"#ffffff\" stroke=\"transparent\" points=\"-4,4 -4,-74 707.5582,-74 707.5582,4 -4,4\"/>\n<!-- 1. init -->\n<g id=\"node1\" class=\"node\">\n<title>1. init</title>\n<ellipse fill=\"none\" stroke=\"#000000\" cx=\"32.4971\" cy=\"-18\" rx=\"32.4942\" ry=\"18\"/>\n<text text-anchor=\"middle\" x=\"32.4971\" y=\"-14.3\" font-family=\"Times,serif\" font-size=\"14.00\" fill=\"#000000\">1. init</text>\n</g>\n<!-- 2. predict -->\n<g id=\"node2\" class=\"node\">\n<title>2. predict</title>\n<ellipse fill=\"none\" stroke=\"#000000\" cx=\"148.1401\" cy=\"-18\" rx=\"46.2923\" ry=\"18\"/>\n<text text-anchor=\"middle\" x=\"148.1401\" y=\"-14.3\" font-family=\"Times,serif\" font-size=\"14.00\" fill=\"#000000\">2. predict</text>\n</g>\n<!-- 1. init&#45;&gt;2. predict -->\n<g id=\"edge1\" class=\"edge\">\n<title>1. init&#45;&gt;2. predict</title>\n<path fill=\"none\" stroke=\"#000000\" d=\"M65.0179,-18C73.2694,-18 82.3772,-18 91.4479,-18\"/>\n<polygon fill=\"#000000\" stroke=\"#000000\" points=\"91.6257,-21.5001 101.6257,-18 91.6257,-14.5001 91.6257,-21.5001\"/>\n</g>\n<!-- 3. loss -->\n<g id=\"node3\" class=\"node\">\n<title>3. loss</title>\n<ellipse fill=\"none\" stroke=\"#000000\" cx=\"265.733\" cy=\"-52\" rx=\"34.394\" ry=\"18\"/>\n<text text-anchor=\"middle\" x=\"265.733\" y=\"-48.3\" font-family=\"Times,serif\" font-size=\"14.00\" fill=\"#000000\">3. loss</text>\n</g>\n<!-- 2. predict&#45;&gt;3. loss -->\n<g id=\"edge2\" class=\"edge\">\n<title>2. predict&#45;&gt;3. loss</title>\n<path fill=\"none\" stroke=\"#000000\" d=\"M185.3473,-28.7578C198.2159,-32.4786 212.6869,-36.6626 225.7676,-40.4447\"/>\n<polygon fill=\"#000000\" stroke=\"#000000\" points=\"224.8712,-43.8288 235.4499,-43.2442 226.8156,-37.1042 224.8712,-43.8288\"/>\n</g>\n<!-- 4. gradient -->\n<g id=\"node4\" class=\"node\">\n<title>4. gradient</title>\n<ellipse fill=\"none\" stroke=\"#000000\" cx=\"435.8754\" cy=\"-52\" rx=\"50.8918\" ry=\"18\"/>\n<text text-anchor=\"middle\" x=\"435.8754\" y=\"-48.3\" font-family=\"Times,serif\" font-size=\"14.00\" fill=\"#000000\">4. gradient</text>\n</g>\n<!-- 3. loss&#45;&gt;4. gradient -->\n<g id=\"edge3\" class=\"edge\">\n<title>3. loss&#45;&gt;4. gradient</title>\n<path fill=\"none\" stroke=\"#000000\" d=\"M300.5744,-52C321.9366,-52 349.8822,-52 374.8263,-52\"/>\n<polygon fill=\"#000000\" stroke=\"#000000\" points=\"374.9406,-55.5001 384.9406,-52 374.9405,-48.5001 374.9406,-55.5001\"/>\n</g>\n<!-- 5. step -->\n<g id=\"node5\" class=\"node\">\n<title>5. step</title>\n<ellipse fill=\"none\" stroke=\"#000000\" cx=\"558.6678\" cy=\"-18\" rx=\"35.194\" ry=\"18\"/>\n<text text-anchor=\"middle\" x=\"558.6678\" y=\"-14.3\" font-family=\"Times,serif\" font-size=\"14.00\" fill=\"#000000\">5. step</text>\n</g>\n<!-- 4. gradient&#45;&gt;5. step -->\n<g id=\"edge4\" class=\"edge\">\n<title>4. gradient&#45;&gt;5. step</title>\n<path fill=\"none\" stroke=\"#000000\" d=\"M476.0823,-40.8671C489.4591,-37.1632 504.3655,-33.0358 517.7924,-29.318\"/>\n<polygon fill=\"#000000\" stroke=\"#000000\" points=\"519.0184,-32.6103 527.7218,-26.5687 517.1504,-25.8641 519.0184,-32.6103\"/>\n</g>\n<!-- 5. step&#45;&gt;2. predict -->\n<g id=\"edge6\" class=\"edge\">\n<title>5. step&#45;&gt;2. predict</title>\n<path fill=\"none\" stroke=\"#000000\" d=\"M523.5577,-18C452.405,-18 290.668,-18 204.5509,-18\"/>\n<polygon fill=\"#000000\" stroke=\"#000000\" points=\"204.4349,-14.5001 194.4349,-18 204.4348,-21.5001 204.4349,-14.5001\"/>\n<text text-anchor=\"middle\" x=\"342.6799\" y=\"-21.8\" font-family=\"Times,serif\" font-size=\"14.00\" fill=\"#000000\">6. repeat</text>\n</g>\n<!-- 7. stop -->\n<g id=\"node6\" class=\"node\">\n<title>7. stop</title>\n<ellipse fill=\"none\" stroke=\"#000000\" cx=\"667.1615\" cy=\"-18\" rx=\"36.2938\" ry=\"18\"/>\n<text text-anchor=\"middle\" x=\"667.1615\" y=\"-14.3\" font-family=\"Times,serif\" font-size=\"14.00\" fill=\"#000000\">7. stop</text>\n</g>\n<!-- 5. step&#45;&gt;7. stop -->\n<g id=\"edge5\" class=\"edge\">\n<title>5. step&#45;&gt;7. stop</title>\n<path fill=\"none\" stroke=\"#000000\" d=\"M593.8926,-18C602.3423,-18 611.4969,-18 620.3794,-18\"/>\n<polygon fill=\"#000000\" stroke=\"#000000\" points=\"620.6231,-21.5001 630.6231,-18 620.623,-14.5001 620.6231,-21.5001\"/>\n</g>\n</g>\n</svg>\n"
          },
          "metadata": {
            "tags": []
          },
          "execution_count": 16
        }
      ]
    },
    {
      "cell_type": "markdown",
      "metadata": {
        "id": "kAlUoNRzOafQ"
      },
      "source": [
        "Steps that we are going to require, to turn a function into a machine learning classifier:\n",
        "\n",
        "1. *Initialize* the weights.\n",
        "1. For each image, use these weights to *predict* whether it appears to be a 3 or a 7.\n",
        "1. Based on these predictions, calculate how good the model is (its *loss*).\n",
        "1. Calculate the *gradient*, which measures for each weight, how changing that weight would change the loss\n",
        "1. *Step* (that is, change) all the weights based on that calculation.\n",
        "1. Go back to the step 2, and *repeat* the process.\n",
        "1. Iterate until you decide to *stop* the training process (for instance, because the model is good enough or you don't want to wait any longer)."
      ]
    },
    {
      "cell_type": "markdown",
      "metadata": {
        "id": "e75BvXjsQW2X"
      },
      "source": [
        "#### Prepare datasets and dataloaders"
      ]
    },
    {
      "cell_type": "markdown",
      "metadata": {
        "id": "9bxXKzVvQ952"
      },
      "source": [
        "`train_x` is the set of independant variables (inputs), that is our images. We create  `train_x` tensor by concatenating all the tensors for each digit."
      ]
    },
    {
      "cell_type": "code",
      "metadata": {
        "id": "7eVXaIMnQ954"
      },
      "source": [
        "train_x = torch.cat([stacked_tensors_dict[i] for i in range(0,10)]).view(-1, 28*28)"
      ],
      "execution_count": 17,
      "outputs": []
    },
    {
      "cell_type": "code",
      "metadata": {
        "colab": {
          "base_uri": "https://localhost:8080/"
        },
        "id": "kENaWxHARETG",
        "outputId": "daa18e0c-3cc2-4db5-93e8-1eec76c0a719"
      },
      "source": [
        "train_x.shape"
      ],
      "execution_count": 18,
      "outputs": [
        {
          "output_type": "execute_result",
          "data": {
            "text/plain": [
              "torch.Size([60000, 784])"
            ]
          },
          "metadata": {
            "tags": []
          },
          "execution_count": 18
        }
      ]
    },
    {
      "cell_type": "markdown",
      "metadata": {
        "id": "AbuZLyURQ955"
      },
      "source": [
        "As expected, it is a set of 60,000 images represented as a flat one dimension vector of shape 28 x 28 = 784"
      ]
    },
    {
      "cell_type": "markdown",
      "metadata": {
        "id": "8U3evtmMQ957"
      },
      "source": [
        "We need a label for each image, 0 to 9, depending on the digit the image represent. It is not as simple as for the basic MNIST case, as we have more than two classes and the number of images in each class is not equal. There is probably an easier way than the one below !"
      ]
    },
    {
      "cell_type": "code",
      "metadata": {
        "id": "IImhF4RwQ958"
      },
      "source": [
        "# Returns a list of 10 sublists, where each sublist consists of a as many times digit as the number of image in the category\n",
        "l = [ [i] * stacked_tensors_dict[i].shape[0] for i in range(0,10)]\n",
        "\n",
        "# check the the total number of labels is equal to the numer of images\n",
        "assert sum([len(sublist) for sublist in l]) == train_x.shape[0] "
      ],
      "execution_count": 19,
      "outputs": []
    },
    {
      "cell_type": "code",
      "metadata": {
        "colab": {
          "base_uri": "https://localhost:8080/"
        },
        "id": "_CgSzj67Q959",
        "outputId": "f1b39793-0692-421a-ec6c-c5145c54b634"
      },
      "source": [
        "# Create a tensor based on the list of labels\n",
        "label_list = []\n",
        "for i in range(10):\n",
        "    label_list.extend(l[i])\n",
        "assert len(label_list) == train_x.shape[0]\n",
        "\n",
        "train_y = torch.tensor(label_list).unsqueeze(1)\n",
        "train_x.shape,train_y.shape"
      ],
      "execution_count": 20,
      "outputs": [
        {
          "output_type": "execute_result",
          "data": {
            "text/plain": [
              "(torch.Size([60000, 784]), torch.Size([60000, 1]))"
            ]
          },
          "metadata": {
            "tags": []
          },
          "execution_count": 20
        }
      ]
    },
    {
      "cell_type": "markdown",
      "metadata": {
        "id": "JVwaZsHSRrnS"
      },
      "source": [
        "The shapes of `train_x` and `train_y` are as expected"
      ]
    },
    {
      "cell_type": "markdown",
      "metadata": {
        "id": "cCa6eu2LW4yV"
      },
      "source": [
        "Attach tensors to the GPU when available"
      ]
    },
    {
      "cell_type": "code",
      "metadata": {
        "id": "YrbOm0g8Nwma"
      },
      "source": [
        "USE_GPU = True"
      ],
      "execution_count": 195,
      "outputs": []
    },
    {
      "cell_type": "code",
      "metadata": {
        "colab": {
          "base_uri": "https://localhost:8080/"
        },
        "id": "U34cRXshW9B6",
        "outputId": "c033719b-b2a3-42c5-be93-a4d5caaf494a"
      },
      "source": [
        "if USE_GPU:\n",
        "    device = torch.device('cuda' if torch.cuda.is_available() else 'cpu')\n",
        "else:\n",
        "    device = torch.device('cpu')\n",
        "\n",
        "print(f\"Using {device}\")"
      ],
      "execution_count": 196,
      "outputs": [
        {
          "output_type": "stream",
          "text": [
            "Using cuda\n"
          ],
          "name": "stdout"
        }
      ]
    },
    {
      "cell_type": "code",
      "metadata": {
        "colab": {
          "base_uri": "https://localhost:8080/"
        },
        "id": "l5DjEWEeYR8n",
        "outputId": "2de172ed-452f-4dbe-86cc-1b4003d8c4f4"
      },
      "source": [
        "# Attach dataset tensors to the correct device (cpu or cuda)\n",
        "train_x = train_x.to(device)\n",
        "train_y = train_y.to(device)\n",
        "train_x.is_cuda, train_y.is_cuda"
      ],
      "execution_count": 197,
      "outputs": [
        {
          "output_type": "execute_result",
          "data": {
            "text/plain": [
              "(True, True)"
            ]
          },
          "metadata": {
            "tags": []
          },
          "execution_count": 197
        }
      ]
    },
    {
      "cell_type": "markdown",
      "metadata": {
        "id": "67Prd18yQ95_"
      },
      "source": [
        "A `Dataset` in PyTorch is required to return a tuple of `(x,y)` when indexed. Python provides a `zip` function which, when combined with `list`, provides a simple way to get this functionality:"
      ]
    },
    {
      "cell_type": "code",
      "metadata": {
        "colab": {
          "base_uri": "https://localhost:8080/"
        },
        "id": "hnmy7VORQ96A",
        "outputId": "c3ee9c78-b25d-401f-b05c-606fe3b3f70d"
      },
      "source": [
        "from random import shuffle\n",
        "\n",
        "dset = list(zip(train_x,train_y))\n",
        "shuffle(dset)\n",
        "\n",
        "\n",
        "x, y = dset[0]\n",
        "x.shape,y"
      ],
      "execution_count": 198,
      "outputs": [
        {
          "output_type": "execute_result",
          "data": {
            "text/plain": [
              "(torch.Size([784]), tensor([2], device='cuda:0'))"
            ]
          },
          "metadata": {
            "tags": []
          },
          "execution_count": 198
        }
      ]
    },
    {
      "cell_type": "markdown",
      "metadata": {
        "id": "bgyrNSXsBcyH"
      },
      "source": [
        "Now we do the same for the validation sets"
      ]
    },
    {
      "cell_type": "code",
      "metadata": {
        "colab": {
          "base_uri": "https://localhost:8080/"
        },
        "id": "QJmLpADmQ96A",
        "outputId": "72df3db1-a90a-4b15-e30f-33d92aa85b8c"
      },
      "source": [
        "valid_x = torch.cat([valid_tensors_dict[i] for i in range(0,10)]).view(-1, 28*28)\n",
        "\n",
        "# Returns a list of 10 sublists, where each sublist consists of a as many times digit as the number of image in the category\n",
        "l = [ [i] * valid_tensors_dict[i].shape[0] for i in range(0,10)]\n",
        "\n",
        "# check the the total number of labels is equal to the numer of images\n",
        "assert sum([len(sublist) for sublist in l]) == valid_x.shape[0] \n",
        "print(valid_x.shape)\n",
        "\n",
        "# Create a tensor based on the list of labels\n",
        "label_list = []\n",
        "for i in range(10):\n",
        "    label_list.extend(l[i])\n",
        "assert len(label_list) == valid_x.shape[0]\n",
        "\n",
        "valid_y = torch.tensor(label_list).unsqueeze(1)\n",
        "print(valid_y.shape)\n",
        "\n",
        "# Attach validation tensor to the correct device\n",
        "valid_x = valid_x.to(device)\n",
        "valid_y = valid_y.to(device)\n",
        "\n",
        "print(valid_x.is_cuda, valid_y.is_cuda)\n",
        "\n",
        "valid_dset = list(zip(valid_x,valid_y))"
      ],
      "execution_count": 199,
      "outputs": [
        {
          "output_type": "stream",
          "text": [
            "torch.Size([10000, 784])\n",
            "torch.Size([10000, 1])\n",
            "True True\n"
          ],
          "name": "stdout"
        }
      ]
    },
    {
      "cell_type": "markdown",
      "metadata": {
        "id": "Lo1sINyOQ96A"
      },
      "source": [
        "Datasets are ready. Now we prepare the dataloaders to feed the training loop."
      ]
    },
    {
      "cell_type": "code",
      "metadata": {
        "id": "ppJHdq70Yxb2"
      },
      "source": [
        "dl = DataLoader(dset, batch_size=256)\n",
        "valid_dl = DataLoader(valid_dset, batch_size=256)"
      ],
      "execution_count": 200,
      "outputs": []
    },
    {
      "cell_type": "markdown",
      "metadata": {
        "id": "hAj5qWL1Ao_k"
      },
      "source": [
        "#### Define the model architecture and parameters"
      ]
    },
    {
      "cell_type": "markdown",
      "metadata": {
        "id": "U3_b3NRtDZFl"
      },
      "source": [
        "Model is defined by creating functions to compute each of the 7 steps listed above"
      ]
    },
    {
      "cell_type": "markdown",
      "metadata": {
        "id": "p--DimUkCqhc"
      },
      "source": [
        "##### Parameters"
      ]
    },
    {
      "cell_type": "markdown",
      "metadata": {
        "id": "zpK6kbbRSOMp"
      },
      "source": [
        "In our model, we need to evaluate the distance from one image (input) to each of the possible classes (0 - 9). So we need to predict 10 values, out of which we will pick the minimum value to predict the correpsonding digit.\n",
        "\n",
        "In effect,**y** in **y=Wx+b** represents the `distances` between the image **x** and each of the digits. **y** is therefore a vector of shape `(10)`. The prediction is computed from an image **x** which is a vector of shape `(784)`. Therefore **W** must be of shape `(784, 10)`. And **b** must be of the same shape as the output, that is shape `(10)`.\n",
        "\n",
        "<img src=\"https://raw.githubusercontent.com/vtecftwy/fastbook/master/images/img_mnist_full_linear_layer.png\" height=\"400px\" />\n"
      ]
    },
    {
      "cell_type": "markdown",
      "metadata": {
        "id": "LzhbtgMGCVJS"
      },
      "source": [
        "Define a function to create random parameters, and then create **W** and **b** with the correct shapes"
      ]
    },
    {
      "cell_type": "code",
      "metadata": {
        "colab": {
          "base_uri": "https://localhost:8080/"
        },
        "id": "Qn2XEth3Qs2X",
        "outputId": "48ef23fe-b9fb-43b6-9623-0117063a60aa"
      },
      "source": [
        "def init_params(size, std=1): \n",
        "    ps = (torch.randn(size)*std)\n",
        "    ps = ps.to(device)\n",
        "    ps.requires_grad = True\n",
        "    return ps\n",
        "\n",
        "weights = init_params((28*28, 10))\n",
        "bias = init_params(10)\n",
        "\n",
        "weights.shape, bias.shape, weights.device, weights.requires_grad, weights.is_leaf"
      ],
      "execution_count": 201,
      "outputs": [
        {
          "output_type": "execute_result",
          "data": {
            "text/plain": [
              "(torch.Size([784, 10]),\n",
              " torch.Size([10]),\n",
              " device(type='cuda', index=0),\n",
              " True,\n",
              " True)"
            ]
          },
          "metadata": {
            "tags": []
          },
          "execution_count": 201
        }
      ]
    },
    {
      "cell_type": "markdown",
      "metadata": {
        "id": "G6Ybt963Ao_l"
      },
      "source": [
        "##### Define functions to calculate the predictions"
      ]
    },
    {
      "cell_type": "code",
      "metadata": {
        "id": "g_xOqHw_Tioi"
      },
      "source": [
        "def linear(xb):\n",
        "    outputs =  xb @ weights + bias\n",
        "    probs = torch.log_softmax(outputs, dim=1)\n",
        "    return probs\n",
        "\n",
        "def classifier(xb):\n",
        "    probs = linear(xb)\n",
        "    return probs.argmax(dim=1).unsqueeze(dim=1)"
      ],
      "execution_count": 202,
      "outputs": []
    },
    {
      "cell_type": "markdown",
      "metadata": {
        "id": "0HHF3tn7Ao_m"
      },
      "source": [
        "##### Define a function to calculate the loss"
      ]
    },
    {
      "cell_type": "code",
      "metadata": {
        "id": "ww5kD8caAo_k"
      },
      "source": [
        "loss_fct = F.nll_loss"
      ],
      "execution_count": 186,
      "outputs": []
    },
    {
      "cell_type": "markdown",
      "metadata": {
        "id": "xQLwzJCBAo_n"
      },
      "source": [
        "##### Define a function to calculate the gradients"
      ]
    },
    {
      "cell_type": "code",
      "metadata": {
        "id": "ILZAptP-ZP9O"
      },
      "source": [
        "def calc_grad(xb, yb, model):\n",
        "    preds = model(xb)\n",
        "    loss = loss_fct(preds, yb.squeeze())\n",
        "    loss.backward()"
      ],
      "execution_count": 187,
      "outputs": []
    },
    {
      "cell_type": "code",
      "metadata": {
        "id": "Cv3lJG7cQB1v"
      },
      "source": [
        "# xb, yb = first(dl)\n",
        "# # display(xb.shape, yb.shape)\n",
        "# display(xb.device, weights.device, bias.device)\n",
        "# probs = linear(xb)\n",
        "# display(probs.shape)\n",
        "# classifier(xb)\n",
        "# # display(yb)\n",
        "# loss_fct(probs, yb.squeeze())\n",
        "# calc_grad(xb, yb, linear)\n",
        "# bias.grad"
      ],
      "execution_count": 188,
      "outputs": []
    },
    {
      "cell_type": "markdown",
      "metadata": {
        "id": "BSi9WAxUAo_q"
      },
      "source": [
        "##### Define a function performing one step/one epoch"
      ]
    },
    {
      "cell_type": "code",
      "metadata": {
        "id": "jImqcs7aZlYp"
      },
      "source": [
        "def train_epoch(model, lr, params):\n",
        "    for i, (xb, yb) in enumerate(dl):\n",
        "        calc_grad(xb, yb, model)\n",
        "        for p in params:\n",
        "            p.data -= p.grad * lr\n",
        "            p.grad.zero_()"
      ],
      "execution_count": 189,
      "outputs": []
    },
    {
      "cell_type": "markdown",
      "metadata": {
        "id": "6W7gQ4jEAo_r"
      },
      "source": [
        "##### Define a function to evaluate the validation accurary"
      ]
    },
    {
      "cell_type": "code",
      "metadata": {
        "id": "WsS8le8QD8To"
      },
      "source": [
        "def accuracy_epoch(x, y):\n",
        "    preds = classifier(x.to(device))\n",
        "    accuracy = torch.eq(preds, y.to(device)).sum() / preds.shape[0]\n",
        "    return accuracy.item()"
      ],
      "execution_count": 190,
      "outputs": []
    },
    {
      "cell_type": "markdown",
      "metadata": {
        "id": "51Bt7YLMEwR6"
      },
      "source": [
        "#### Bringing it all together and run training loop"
      ]
    },
    {
      "cell_type": "code",
      "metadata": {
        "id": "OpengN_UD8HK"
      },
      "source": [
        "# Initialize the model\n",
        "weights = init_params((28*28, 10))\n",
        "bias = init_params(10)\n",
        "\n",
        "lr = 1\n",
        "params = weights, bias"
      ],
      "execution_count": 203,
      "outputs": []
    },
    {
      "cell_type": "code",
      "metadata": {
        "colab": {
          "base_uri": "https://localhost:8080/"
        },
        "id": "eFbJ0N5aSlhA",
        "outputId": "dc118e15-6f5a-4c63-96b2-9aba433725ea"
      },
      "source": [
        "# Run one period and evaluate the performance\n",
        "train_epoch(linear, lr, params)\n",
        "accuracy_epoch(valid_x, valid_y)"
      ],
      "execution_count": 204,
      "outputs": [
        {
          "output_type": "execute_result",
          "data": {
            "text/plain": [
              "0.8481000065803528"
            ]
          },
          "metadata": {
            "tags": []
          },
          "execution_count": 204
        }
      ]
    },
    {
      "cell_type": "code",
      "metadata": {
        "id": "nET2H9YQD79j",
        "colab": {
          "base_uri": "https://localhost:8080/"
        },
        "outputId": "3ed992b3-2545-457f-a55c-3bbea7f870d8"
      },
      "source": [
        "%%time\n",
        "n_epochs = 10\n",
        "for i in range(n_epochs):\n",
        "    train_epoch(linear, lr, params)\n",
        "    print(f\"{i}:{accuracy_epoch(valid_x, valid_y):1.4f}\", end=' ')\n",
        "print('\\n')"
      ],
      "execution_count": 205,
      "outputs": [
        {
          "output_type": "stream",
          "text": [
            "0:0.8693 1:0.8796 2:0.8852 3:0.8879 4:0.8903 5:0.8925 6:0.8966 7:0.8990 8:0.8999 9:0.9013 \n",
            "\n",
            "CPU times: user 3.19 s, sys: 90.9 ms, total: 3.28 s\n",
            "Wall time: 3.29 s\n"
          ],
          "name": "stdout"
        }
      ]
    },
    {
      "cell_type": "code",
      "metadata": {
        "colab": {
          "base_uri": "https://localhost:8080/"
        },
        "id": "UNsiOf5lE01F",
        "outputId": "d970cbce-7ca0-4e4d-cc4e-162b14489790"
      },
      "source": [
        "n_epochs = 10\n",
        "for i in range(n_epochs):\n",
        "    train_epoch(linear, lr, params)\n",
        "    print(f\"{i}:{accuracy_epoch(valid_x, valid_y):1.4f}\", end=' ')"
      ],
      "execution_count": 206,
      "outputs": [
        {
          "output_type": "stream",
          "text": [
            "0:0.9023 1:0.9035 2:0.9035 3:0.9038 4:0.9045 5:0.9053 6:0.9056 7:0.9061 8:0.9059 9:0.9066 "
          ],
          "name": "stdout"
        }
      ]
    },
    {
      "cell_type": "code",
      "metadata": {
        "colab": {
          "base_uri": "https://localhost:8080/"
        },
        "id": "hFy5_mq-FBJi",
        "outputId": "c01bb6de-c63d-49de-b83b-7e0ffab1316c"
      },
      "source": [
        "n_epochs = 10\n",
        "for i in range(n_epochs):\n",
        "    train_epoch(linear, lr, params)\n",
        "    print(f\"{i}:{accuracy_epoch(valid_x, valid_y):1.4f}\", end=' ')"
      ],
      "execution_count": 207,
      "outputs": [
        {
          "output_type": "stream",
          "text": [
            "0:0.9069 1:0.9075 2:0.9078 3:0.9082 4:0.9085 5:0.9086 6:0.9088 7:0.9091 8:0.9099 9:0.9102 "
          ],
          "name": "stdout"
        }
      ]
    },
    {
      "cell_type": "code",
      "metadata": {
        "colab": {
          "base_uri": "https://localhost:8080/"
        },
        "id": "NnYVAx1MFNLq",
        "outputId": "7f1cdbc9-f1ce-47a7-d8ab-48d09652c69a"
      },
      "source": [
        "%%time\n",
        "n_epochs = 100\n",
        "for i in range(n_epochs):\n",
        "    train_epoch(linear, lr, params)\n",
        "    if i%10 == 0:\n",
        "        print(f\"{i}:{accuracy_epoch(valid_x, valid_y):1.4f}\", end=' ')\n",
        "print('\\n', accuracy_epoch(valid_x, valid_y))"
      ],
      "execution_count": 208,
      "outputs": [
        {
          "output_type": "stream",
          "text": [
            "0:0.9110 10:0.9129 20:0.9130 30:0.9146 40:0.9161 50:0.9161 60:0.9161 70:0.9166 80:0.9168 90:0.9168 \n",
            " 0.9167999625205994\n",
            "CPU times: user 31.4 s, sys: 824 ms, total: 32.2 s\n",
            "Wall time: 32 s\n"
          ],
          "name": "stdout"
        }
      ]
    },
    {
      "cell_type": "code",
      "metadata": {
        "colab": {
          "base_uri": "https://localhost:8080/"
        },
        "id": "ZcXT3ED0F7nC",
        "outputId": "d89a9e7c-03d6-4506-f4fa-4b7ae249b34b"
      },
      "source": [
        "n_epochs = 100\n",
        "for i in range(n_epochs):\n",
        "    train_epoch(linear, lr, params)\n",
        "    if i%10 == 0:\n",
        "        print(f\"{i}:{accuracy_epoch(valid_x, valid_y):1.4f}\", end=' ')\n",
        "print('\\n', accuracy_epoch(valid_x, valid_y))"
      ],
      "execution_count": 209,
      "outputs": [
        {
          "output_type": "stream",
          "text": [
            "0:0.9169 10:0.9170 20:0.9172 30:0.9172 40:0.9180 50:0.9181 60:0.9186 70:0.9188 80:0.9187 90:0.9187 \n",
            " 0.9182999730110168\n"
          ],
          "name": "stdout"
        }
      ]
    },
    {
      "cell_type": "code",
      "metadata": {
        "id": "G6puUR2RGFUS"
      },
      "source": [
        "# %%time\n",
        "# n_epochs = 1000\n",
        "# for i in range(n_epochs):\n",
        "#     train_epoch(linear, lr, params)\n",
        "#     if i%100 == 0:\n",
        "#         print(f\"{i}:{accuracy_epoch(valid_x, valid_y):1.4f}\", end=' ')\n",
        "# print('\\n', accuracy_epoch(valid_x, valid_y))"
      ],
      "execution_count": 172,
      "outputs": []
    },
    {
      "cell_type": "code",
      "metadata": {
        "colab": {
          "base_uri": "https://localhost:8080/"
        },
        "id": "r-b6pqY3GfSo",
        "outputId": "116beae1-3963-4851-cd65-7f3e18e4b004"
      },
      "source": [
        "print(accuracy_epoch(valid_x, valid_y))"
      ],
      "execution_count": 210,
      "outputs": [
        {
          "output_type": "stream",
          "text": [
            "0.9182999730110168\n"
          ],
          "name": "stdout"
        }
      ]
    },
    {
      "cell_type": "code",
      "metadata": {
        "colab": {
          "base_uri": "https://localhost:8080/",
          "height": 102
        },
        "id": "1RQ09gHxQeZH",
        "outputId": "beea7e6a-8c8e-4a67-abad-f1c75aeeeac4"
      },
      "source": [
        "img = valid_tensors_dict[8][49]\n",
        "show_image(img)\n",
        "plt.show()\n",
        "classifier(img.view(28*28).unsqueeze(dim=0).to(device))"
      ],
      "execution_count": 174,
      "outputs": [
        {
          "output_type": "display_data",
          "data": {
            "image/png": "[encoded data removed]",
            "text/plain": [
              "<Figure size 72x72 with 1 Axes>"
            ]
          },
          "metadata": {
            "tags": [],
            "needs_background": "light"
          }
        },
        {
          "output_type": "execute_result",
          "data": {
            "text/plain": [
              "tensor([[8]], device='cuda:0')"
            ]
          },
          "metadata": {
            "tags": []
          },
          "execution_count": 174
        }
      ]
    },
    {
      "cell_type": "code",
      "metadata": {
        "colab": {
          "base_uri": "https://localhost:8080/",
          "height": 102
        },
        "id": "Y-Xceh_zv8l9",
        "outputId": "ac873b08-c10a-4e5c-e52e-f3b03c7019fc"
      },
      "source": [
        "img = valid_tensors_dict[2][159]\n",
        "show_image(img)\n",
        "plt.show()\n",
        "classifier(img.view(28*28).unsqueeze(dim=0).to(device))"
      ],
      "execution_count": 175,
      "outputs": [
        {
          "output_type": "display_data",
          "data": {
            "image/png": "[encoded data removed]",
            "text/plain": [
              "<Figure size 72x72 with 1 Axes>"
            ]
          },
          "metadata": {
            "tags": [],
            "needs_background": "light"
          }
        },
        {
          "output_type": "execute_result",
          "data": {
            "text/plain": [
              "tensor([[2]], device='cuda:0')"
            ]
          },
          "metadata": {
            "tags": []
          },
          "execution_count": 175
        }
      ]
    },
    {
      "cell_type": "code",
      "metadata": {
        "colab": {
          "base_uri": "https://localhost:8080/",
          "height": 102
        },
        "id": "mKAD5umvv8cD",
        "outputId": "ce594a60-897b-43c0-9b57-b81ffa31c47a"
      },
      "source": [
        "img = valid_tensors_dict[7][957]\n",
        "show_image(img)\n",
        "plt.show()\n",
        "classifier(img.view(28*28).unsqueeze(dim=0).to(device))"
      ],
      "execution_count": 176,
      "outputs": [
        {
          "output_type": "display_data",
          "data": {
            "image/png": "[encoded data removed]",
            "text/plain": [
              "<Figure size 72x72 with 1 Axes>"
            ]
          },
          "metadata": {
            "tags": [],
            "needs_background": "light"
          }
        },
        {
          "output_type": "execute_result",
          "data": {
            "text/plain": [
              "tensor([[7]], device='cuda:0')"
            ]
          },
          "metadata": {
            "tags": []
          },
          "execution_count": 176
        }
      ]
    },
    {
      "cell_type": "markdown",
      "metadata": {
        "id": "_84wJTiRo4HQ"
      },
      "source": [
        "### Comparison CPU and GPU"
      ]
    },
    {
      "cell_type": "markdown",
      "metadata": {
        "id": "JoEMdHL9o38Z"
      },
      "source": [
        "When run with the GPU:\n",
        "- 10 epochs:\n",
        "```  python\n",
        "%%time\n",
        "n_epochs = 10\n",
        "for i in range(n_epochs):\n",
        "    train_epoch(linear, lr, params)\n",
        "    print(f\"{i}:{accuracy_epoch(valid_x, valid_y):1.4f}\", end=' ')\n",
        "print('\\n')\n",
        "```\n",
        "```\n",
        "CPU times: user 3.25 s, sys: 95.1 ms, total: 3.35 s\n",
        "Wall time: 3.37 s\n",
        "```\n",
        "- 100 epochs:\n",
        "``` python\n",
        "%%time\n",
        "n_epochs = 100\n",
        "for i in range(n_epochs):\n",
        "    train_epoch(linear, lr, params)\n",
        "    if i%10 == 0:\n",
        "        print(f\"{i}:{accuracy_epoch(valid_x, valid_y):1.4f}\", end=' ')\n",
        "print('\\n', accuracy_epoch(valid_x, valid_y))\n",
        "```\n",
        "```\n",
        "CPU times: user 31.3 s, sys: 814 ms, total: 32.2 s\n",
        "Wall time: 32 s\n",
        "```"
      ]
    },
    {
      "cell_type": "markdown",
      "metadata": {
        "id": "n2nNce8xo-hp"
      },
      "source": [
        "When run with the CPU:\n",
        "- 10 epochs:\n",
        "```  python\n",
        "%%time\n",
        "n_epochs = 10\n",
        "for i in range(n_epochs):\n",
        "    train_epoch(linear, lr, params)\n",
        "    print(f\"{i}:{accuracy_epoch(valid_x, valid_y):1.4f}\", end=' ')\n",
        "print('\\n')\n",
        "```\n",
        "```\n",
        "CPU times: user 3.98 s, sys: 49.5 ms, total: 4.03 s\n",
        "Wall time: 4.03 s\n",
        "```\n",
        "- 100 epochs:\n",
        "``` python\n",
        "%%time\n",
        "n_epochs = 100\n",
        "for i in range(n_epochs):\n",
        "    train_epoch(linear, lr, params)\n",
        "    if i%10 == 0:\n",
        "        print(f\"{i}:{accuracy_epoch(valid_x, valid_y):1.4f}\", end=' ')\n",
        "print('\\n', accuracy_epoch(valid_x, valid_y))\n",
        "```\n",
        "```\n",
        "CPU times: user 38 s, sys: 321 ms, total: 38.3 s\n",
        "Wall time: 38.2 s\n",
        "```\n",
        "\n",
        "Conclusion: the GPU is faster but not very much because the model is very simple and i/o operations are taking a large time relatively to the computation itself."
      ]
    },
    {
      "cell_type": "markdown",
      "metadata": {
        "id": "ddlCEUDyux37"
      },
      "source": [
        "## Improve model by introducing ReLu and two layers"
      ]
    },
    {
      "cell_type": "code",
      "metadata": {
        "colab": {
          "base_uri": "https://localhost:8080/"
        },
        "id": "5AKIgUMKvAXc",
        "outputId": "ee89f431-484a-4a01-cf2e-b556e6bcefa3"
      },
      "source": [
        "w1 = init_params((28*28, 100))\n",
        "b1 = init_params(100)\n",
        "\n",
        "w2 = init_params((100, 10))\n",
        "b2 = init_params(10)\n",
        "\n",
        "w1.shape, b1.shape, w2.shape, b2.shape"
      ],
      "execution_count": 138,
      "outputs": [
        {
          "output_type": "execute_result",
          "data": {
            "text/plain": [
              "(torch.Size([784, 100]),\n",
              " torch.Size([100]),\n",
              " torch.Size([100, 10]),\n",
              " torch.Size([10]))"
            ]
          },
          "metadata": {
            "tags": []
          },
          "execution_count": 138
        }
      ]
    },
    {
      "cell_type": "markdown",
      "metadata": {
        "id": "PX9mzfQCvAXe"
      },
      "source": [
        "##### Define functions to calculate the predictions"
      ]
    },
    {
      "cell_type": "code",
      "metadata": {
        "id": "SR6J5TNEvAXf"
      },
      "source": [
        "activ1 = nn.ReLU()\n",
        "\n",
        "def linear1(xb):\n",
        "    outputs =  xb @ w1 + b1\n",
        "    return activ1(outputs)\n",
        "\n",
        "def linear2(xb):\n",
        "    outputs =  xb @ w2 + b2\n",
        "    probs = torch.log_softmax(outputs, dim=1)\n",
        "    return probs\n",
        "\n",
        "def model(xb):\n",
        "    xb = linear1(xb)\n",
        "    xb = linear2(xb)\n",
        "    return xb\n",
        "\n",
        "def classifier(xb):\n",
        "    xb = model(xb)\n",
        "    return xb.argmax(dim=1).unsqueeze(dim=1)"
      ],
      "execution_count": 139,
      "outputs": []
    },
    {
      "cell_type": "code",
      "metadata": {
        "id": "Zkif8_INwhnU"
      },
      "source": [
        "# # Testing layer by layer\n",
        "# xb, yb = first(dl)\n",
        "# display(xb.shape, yb.shape)\n",
        "# display(linear1(xb).shape)\n",
        "# display(linear2(linear1(xb)).shape)\n",
        "# display(model(xb))\n",
        "# classifier(xb)[0:3]"
      ],
      "execution_count": 140,
      "outputs": []
    },
    {
      "cell_type": "markdown",
      "metadata": {
        "id": "DYA40BUgvAXf"
      },
      "source": [
        "##### Define a function to calculate the loss"
      ]
    },
    {
      "cell_type": "code",
      "metadata": {
        "id": "TaNy5A5OvAXg"
      },
      "source": [
        "loss_fct = F.nll_loss"
      ],
      "execution_count": 141,
      "outputs": []
    },
    {
      "cell_type": "markdown",
      "metadata": {
        "id": "HNSqQxstvAXg"
      },
      "source": [
        "##### Define a function to calculate the gradients"
      ]
    },
    {
      "cell_type": "code",
      "metadata": {
        "id": "G7Ac3w6JvAXg"
      },
      "source": [
        "def calc_grad(xb, yb, model):\n",
        "    preds = model(xb)\n",
        "    loss = loss_fct(preds, yb.squeeze())\n",
        "    # print(loss)\n",
        "    loss.backward()"
      ],
      "execution_count": 142,
      "outputs": []
    },
    {
      "cell_type": "code",
      "metadata": {
        "id": "xhCBXbTyvAXh"
      },
      "source": [
        "# # Testing function\n",
        "# xb, yb = first(dl)\n",
        "# display(xb.shape, yb.shape)\n",
        "# probs = model(xb)\n",
        "# display(probs.shape)\n",
        "# # display(yb)\n",
        "# loss_fct(probs, yb.squeeze())\n",
        "# calc_grad(xb, yb, model)"
      ],
      "execution_count": 143,
      "outputs": []
    },
    {
      "cell_type": "markdown",
      "metadata": {
        "id": "3oWpDgcWvAXh"
      },
      "source": [
        "##### Define a function performing one step/one epoch"
      ]
    },
    {
      "cell_type": "code",
      "metadata": {
        "id": "qkDQTt8yvAXi"
      },
      "source": [
        "def train_epoch(model, lr, params):\n",
        "    for xb, yb in dl:\n",
        "        calc_grad(xb, yb, model)\n",
        "        for p in params:\n",
        "            p.data -= p.grad * lr\n",
        "            p.grad.zero_()"
      ],
      "execution_count": 144,
      "outputs": []
    },
    {
      "cell_type": "markdown",
      "metadata": {
        "id": "6J6GFo3jvAXi"
      },
      "source": [
        "##### Define a function to evaluate the validation accurary"
      ]
    },
    {
      "cell_type": "code",
      "metadata": {
        "id": "-d3hPWfyvAXi"
      },
      "source": [
        "def accuracy_epoch(x, y):\n",
        "    preds = classifier(x.to(device))\n",
        "    accuracy = torch.eq(preds, y.to(device)).sum() / preds.shape[0]\n",
        "    return accuracy.item()"
      ],
      "execution_count": 145,
      "outputs": []
    },
    {
      "cell_type": "markdown",
      "metadata": {
        "id": "yaqhJzDevAXi"
      },
      "source": [
        "#### Bringing it all together and run training loop"
      ]
    },
    {
      "cell_type": "markdown",
      "metadata": {
        "id": "aBuIeTLGPYI4"
      },
      "source": [
        "Create a function to run `n` epochs and display results."
      ]
    },
    {
      "cell_type": "code",
      "metadata": {
        "id": "WIeimeJl78K1"
      },
      "source": [
        "from math import log10\n",
        "\n",
        "def run_n_epochs(model, lr, params, n_epochs):\n",
        "    trigger = 10**(int(log10(n_epochs))-1)\n",
        "    cols = 10\n",
        "    starting_i = metric_results['epochs'][-1] + 1\n",
        "    for i in range(starting_i, starting_i + n_epochs):\n",
        "        train_epoch(model, lr, params)\n",
        "        if i%trigger == 0:\n",
        "            v = accuracy_epoch(valid_x, valid_y)\n",
        "\n",
        "            metric_results['epochs'].append(i)\n",
        "            metric_results['values'].append(v)\n",
        "            \n",
        "            end_str = '\\n' if i//trigger%cols == 0 else ' ' \n",
        "            print(f\"{i:3d}:{v:1.4f}\", end=end_str)\n",
        "    print(f\"\\nLast:{v:1.4f}\")\n",
        "    fig, ax = plt.subplots(1, 1, figsize=(12,4))\n",
        "    ax.scatter(metric_results['epochs'][1:], metric_results['values'][1:])\n",
        "    return metric_results"
      ],
      "execution_count": 146,
      "outputs": []
    },
    {
      "cell_type": "markdown",
      "metadata": {
        "id": "PbcQyVqtPgro"
      },
      "source": [
        "Shuffle data, initalize parameters, run one epoch"
      ]
    },
    {
      "cell_type": "code",
      "metadata": {
        "colab": {
          "base_uri": "https://localhost:8080/"
        },
        "id": "TyFqswY8vAXj",
        "outputId": "dcaf3a0c-91ff-42c1-8c97-16c5c62fa801"
      },
      "source": [
        "shuffle(dset)\n",
        "dl = DataLoader(dset, batch_size=256)\n",
        "valid_dl = DataLoader(valid_dset, batch_size=5)\n",
        "\n",
        "w1 = init_params((28*28, 100))\n",
        "b1 = init_params(100)\n",
        "w2 = init_params((100, 10))\n",
        "b2 = init_params(10)\n",
        "\n",
        "lr = 1\n",
        "params = w1, b1, w2, b2\n",
        "\n",
        "metric_results = {}\n",
        "metric_results['epochs'] = [0]\n",
        "metric_results['values'] = [0]\n",
        "\n",
        "train_epoch(model, lr, params)\n",
        "accuracy_epoch(valid_x, valid_y)"
      ],
      "execution_count": 147,
      "outputs": [
        {
          "output_type": "execute_result",
          "data": {
            "text/plain": [
              "0.7558000087738037"
            ]
          },
          "metadata": {
            "tags": []
          },
          "execution_count": 147
        }
      ]
    },
    {
      "cell_type": "code",
      "metadata": {
        "colab": {
          "base_uri": "https://localhost:8080/",
          "height": 370
        },
        "id": "wnLgh5gXAj1T",
        "outputId": "e689c725-accc-4fcf-fd10-448cced78cb7"
      },
      "source": [
        "%%time\n",
        "metric_results = run_n_epochs(model, lr, params, 20)"
      ],
      "execution_count": 148,
      "outputs": [
        {
          "output_type": "stream",
          "text": [
            "  1:0.7796   2:0.8210   3:0.8416   4:0.8567   5:0.8636   6:0.8736   7:0.8844   8:0.8909   9:0.8958  10:0.8994\n",
            " 11:0.9022  12:0.9054  13:0.9079  14:0.9113  15:0.9123  16:0.9135  17:0.9150  18:0.9162  19:0.9155  20:0.9174\n",
            "\n",
            "Last:0.9174\n",
            "CPU times: user 7.5 s, sys: 200 ms, total: 7.7 s\n",
            "Wall time: 7.71 s\n"
          ],
          "name": "stdout"
        },
        {
          "output_type": "display_data",
          "data": {
            "image/png": "[encoded data removed]",
            "text/plain": [
              "<Figure size 864x288 with 1 Axes>"
            ]
          },
          "metadata": {
            "tags": [],
            "needs_background": "light"
          }
        }
      ]
    },
    {
      "cell_type": "code",
      "metadata": {
        "colab": {
          "base_uri": "https://localhost:8080/",
          "height": 335
        },
        "id": "QIXGZWGZ8TzL",
        "outputId": "7c340668-0902-48cb-de00-5a0eead3f96d"
      },
      "source": [
        "metric_results = run_n_epochs(model, lr, params, 20)"
      ],
      "execution_count": 149,
      "outputs": [
        {
          "output_type": "stream",
          "text": [
            " 21:0.9178  22:0.9198  23:0.9219  24:0.9216  25:0.9238  26:0.9233  27:0.9252  28:0.9242  29:0.9265  30:0.9271\n",
            " 31:0.9287  32:0.9284  33:0.9304  34:0.9296  35:0.9301  36:0.9325  37:0.9318  38:0.9334  39:0.9355  40:0.9351\n",
            "\n",
            "Last:0.9351\n"
          ],
          "name": "stdout"
        },
        {
          "output_type": "display_data",
          "data": {
            "image/png": "[encoded data removed]",
            "text/plain": [
              "<Figure size 864x288 with 1 Axes>"
            ]
          },
          "metadata": {
            "tags": [],
            "needs_background": "light"
          }
        }
      ]
    },
    {
      "cell_type": "code",
      "metadata": {
        "colab": {
          "base_uri": "https://localhost:8080/",
          "height": 337
        },
        "id": "mwMUwNjs90uc",
        "outputId": "53c2bd67-5887-4e17-cf84-418e8ae26e39"
      },
      "source": [
        "metric_results = run_n_epochs(model, lr, params, 20)"
      ],
      "execution_count": 150,
      "outputs": [
        {
          "output_type": "stream",
          "text": [
            " 41:0.9361  42:0.9364  43:0.9367  44:0.9383  45:0.9381  46:0.9396  47:0.9389  48:0.9407  49:0.9407  50:0.9397\n",
            " 51:0.9414  52:0.9419  53:0.9412  54:0.9427  55:0.9431  56:0.9440  57:0.9443  58:0.9437  59:0.9449  60:0.9448\n",
            "\n",
            "Last:0.9448\n"
          ],
          "name": "stdout"
        },
        {
          "output_type": "display_data",
          "data": {
            "image/png": "[encoded data removed]",
            "text/plain": [
              "<Figure size 864x288 with 1 Axes>"
            ]
          },
          "metadata": {
            "tags": [],
            "needs_background": "light"
          }
        }
      ]
    },
    {
      "cell_type": "code",
      "metadata": {
        "id": "OtEoMIN_1Z50",
        "colab": {
          "base_uri": "https://localhost:8080/",
          "height": 388
        },
        "outputId": "a6fa6399-cb6c-4dad-f059-63f7f22b40b3"
      },
      "source": [
        "metric_results = run_n_epochs(model, lr, params, 50)"
      ],
      "execution_count": 151,
      "outputs": [
        {
          "output_type": "stream",
          "text": [
            " 61:0.9448  62:0.9448  63:0.9453  64:0.9452  65:0.9458  66:0.9457  67:0.9455  68:0.9464  69:0.9465  70:0.9465\n",
            " 71:0.9467  72:0.9467  73:0.9462  74:0.9472  75:0.9465  76:0.9465  77:0.9467  78:0.9469  79:0.9468  80:0.9469\n",
            " 81:0.9468  82:0.9469  83:0.9469  84:0.9471  85:0.9472  86:0.9474  87:0.9472  88:0.9470  89:0.9474  90:0.9475\n",
            " 91:0.9470  92:0.9475  93:0.9475  94:0.9475  95:0.9475  96:0.9478  97:0.9473  98:0.9476  99:0.9474 100:0.9474\n",
            "101:0.9480 102:0.9476 103:0.9482 104:0.9481 105:0.9482 106:0.9479 107:0.9486 108:0.9483 109:0.9482 110:0.9485\n",
            "\n",
            "Last:0.9485\n"
          ],
          "name": "stdout"
        },
        {
          "output_type": "display_data",
          "data": {
            "image/png": "[encoded data removed]",
            "text/plain": [
              "<Figure size 864x288 with 1 Axes>"
            ]
          },
          "metadata": {
            "tags": [],
            "needs_background": "light"
          }
        }
      ]
    },
    {
      "cell_type": "code",
      "metadata": {
        "id": "xzbnd9At1gpU",
        "colab": {
          "base_uri": "https://localhost:8080/",
          "height": 388
        },
        "outputId": "23e1d11b-e231-4fc7-8195-1ce360b39d35"
      },
      "source": [
        "metric_results = run_n_epochs(model, lr, params, 50)"
      ],
      "execution_count": 152,
      "outputs": [
        {
          "output_type": "stream",
          "text": [
            "111:0.9489 112:0.9481 113:0.9486 114:0.9482 115:0.9485 116:0.9481 117:0.9487 118:0.9488 119:0.9484 120:0.9485\n",
            "121:0.9484 122:0.9477 123:0.9482 124:0.9481 125:0.9481 126:0.9484 127:0.9485 128:0.9484 129:0.9486 130:0.9487\n",
            "131:0.9484 132:0.9492 133:0.9489 134:0.9490 135:0.9491 136:0.9487 137:0.9489 138:0.9490 139:0.9487 140:0.9487\n",
            "141:0.9495 142:0.9492 143:0.9489 144:0.9492 145:0.9495 146:0.9494 147:0.9493 148:0.9494 149:0.9499 150:0.9495\n",
            "151:0.9494 152:0.9494 153:0.9491 154:0.9487 155:0.9489 156:0.9488 157:0.9494 158:0.9490 159:0.9491 160:0.9490\n",
            "\n",
            "Last:0.9490\n"
          ],
          "name": "stdout"
        },
        {
          "output_type": "display_data",
          "data": {
            "image/png": "[encoded data removed]",
            "text/plain": [
              "<Figure size 864x288 with 1 Axes>"
            ]
          },
          "metadata": {
            "tags": [],
            "needs_background": "light"
          }
        }
      ]
    },
    {
      "cell_type": "code",
      "metadata": {
        "colab": {
          "base_uri": "https://localhost:8080/",
          "height": 353
        },
        "id": "TBposkA4Ditj",
        "outputId": "11a80b3c-0820-4ad5-af24-c3127d51b479"
      },
      "source": [
        "%%time\n",
        "metric_results = run_n_epochs(model, lr/2, params, 100)"
      ],
      "execution_count": 153,
      "outputs": [
        {
          "output_type": "stream",
          "text": [
            "170:0.9494 180:0.9498 190:0.9492 200:0.9490\n",
            "210:0.9492 220:0.9494 230:0.9494 240:0.9496 250:0.9493 260:0.9495 \n",
            "Last:0.9495\n",
            "CPU times: user 36 s, sys: 915 ms, total: 37 s\n",
            "Wall time: 36.7 s\n"
          ],
          "name": "stdout"
        },
        {
          "output_type": "display_data",
          "data": {
            "image/png": "[encoded data removed]",
            "text/plain": [
              "<Figure size 864x288 with 1 Axes>"
            ]
          },
          "metadata": {
            "tags": [],
            "needs_background": "light"
          }
        }
      ]
    },
    {
      "cell_type": "code",
      "metadata": {
        "colab": {
          "base_uri": "https://localhost:8080/",
          "height": 102
        },
        "id": "3mXfRZW3-IZk",
        "outputId": "fcda4cd1-3333-47ea-e74d-cf5bd3adbfc7"
      },
      "source": [
        "img = valid_tensors_dict[8][49]\n",
        "show_image(img)\n",
        "plt.show()\n",
        "classifier(img.view(28*28).unsqueeze(dim=0).to(device))"
      ],
      "execution_count": 154,
      "outputs": [
        {
          "output_type": "display_data",
          "data": {
            "image/png": "[encoded data removed]",
            "text/plain": [
              "<Figure size 72x72 with 1 Axes>"
            ]
          },
          "metadata": {
            "tags": [],
            "needs_background": "light"
          }
        },
        {
          "output_type": "execute_result",
          "data": {
            "text/plain": [
              "tensor([[8]], device='cuda:0')"
            ]
          },
          "metadata": {
            "tags": []
          },
          "execution_count": 154
        }
      ]
    },
    {
      "cell_type": "code",
      "metadata": {
        "colab": {
          "base_uri": "https://localhost:8080/",
          "height": 102
        },
        "id": "G7DbB7ha-IZr",
        "outputId": "2ed8c738-c76e-43d3-f209-fff8bd7a8442"
      },
      "source": [
        "img = valid_tensors_dict[2][159]\n",
        "show_image(img)\n",
        "plt.show()\n",
        "\n",
        "classifier(img.view(28*28).unsqueeze(dim=0).to(device))"
      ],
      "execution_count": 155,
      "outputs": [
        {
          "output_type": "display_data",
          "data": {
            "image/png": "[encoded data removed]",
            "text/plain": [
              "<Figure size 72x72 with 1 Axes>"
            ]
          },
          "metadata": {
            "tags": [],
            "needs_background": "light"
          }
        },
        {
          "output_type": "execute_result",
          "data": {
            "text/plain": [
              "tensor([[2]], device='cuda:0')"
            ]
          },
          "metadata": {
            "tags": []
          },
          "execution_count": 155
        }
      ]
    },
    {
      "cell_type": "code",
      "metadata": {
        "colab": {
          "base_uri": "https://localhost:8080/",
          "height": 102
        },
        "id": "YIrEcrwl-IZr",
        "outputId": "a9de4149-65c6-480a-c9c5-9eeb700e6d5f"
      },
      "source": [
        "img = valid_tensors_dict[7][957]\n",
        "show_image(img)\n",
        "plt.show()\n",
        "\n",
        "classifier(img.view(28*28).unsqueeze(dim=0).to(device))"
      ],
      "execution_count": 156,
      "outputs": [
        {
          "output_type": "display_data",
          "data": {
            "image/png": "[encoded data removed]",
            "text/plain": [
              "<Figure size 72x72 with 1 Axes>"
            ]
          },
          "metadata": {
            "tags": [],
            "needs_background": "light"
          }
        },
        {
          "output_type": "execute_result",
          "data": {
            "text/plain": [
              "tensor([[7]], device='cuda:0')"
            ]
          },
          "metadata": {
            "tags": []
          },
          "execution_count": 156
        }
      ]
    },
    {
      "cell_type": "markdown",
      "metadata": {
        "id": "181oE9ezELNy"
      },
      "source": [
        "## Improvement 2 model by introducing ReLu and three layers"
      ]
    },
    {
      "cell_type": "code",
      "metadata": {
        "colab": {
          "base_uri": "https://localhost:8080/"
        },
        "id": "8Mej-i-JELNz",
        "outputId": "d91cb064-39f9-42e4-c59c-f94074bf6a94"
      },
      "source": [
        "w1 = init_params((28*28, 150))\n",
        "b1 = init_params(150)\n",
        "\n",
        "w2 = init_params((150, 75))\n",
        "b2 = init_params(75)\n",
        "\n",
        "w3 = init_params((75, 10))\n",
        "b3 = init_params(10)\n",
        "\n",
        "w1.shape, b1.shape, w2.shape, b2.shape, w3.shape, b3.shape, w1.is_cuda, w3.is_cuda"
      ],
      "execution_count": 110,
      "outputs": [
        {
          "output_type": "execute_result",
          "data": {
            "text/plain": [
              "(torch.Size([784, 150]),\n",
              " torch.Size([150]),\n",
              " torch.Size([150, 75]),\n",
              " torch.Size([75]),\n",
              " torch.Size([75, 10]),\n",
              " torch.Size([10]),\n",
              " True,\n",
              " True)"
            ]
          },
          "metadata": {
            "tags": []
          },
          "execution_count": 110
        }
      ]
    },
    {
      "cell_type": "markdown",
      "metadata": {
        "id": "gB-4uG4IELN0"
      },
      "source": [
        "##### Define functions to calculate the predictions"
      ]
    },
    {
      "cell_type": "code",
      "metadata": {
        "id": "LabWssUNELN1"
      },
      "source": [
        "activ2 = nn.ReLU()\n",
        "\n",
        "def linear1(xb):\n",
        "    outputs =  xb @ w1 + b1\n",
        "    return activ2(outputs)\n",
        "\n",
        "def linear2(xb):\n",
        "    outputs =  xb @ w2 + b2\n",
        "    return activ2(outputs)\n",
        "\n",
        "def linear3(xb):\n",
        "    \"\"\"https://pytorch.org/docs/stable/nn.functional.html#torch.nn.functional.log_softmax\"\"\"\n",
        "    outputs =  xb @ w3 + b3\n",
        "    probs = torch.log_softmax(outputs, dim=1)\n",
        "    return probs\n",
        "\n",
        "def model(xb):\n",
        "    xb = linear1(xb)\n",
        "    xb = linear2(xb)\n",
        "    xb = linear3(xb)\n",
        "    return xb\n",
        "\n",
        "def classifier(xb):\n",
        "    xb = model(xb)\n",
        "    return xb.argmax(dim=1).unsqueeze(dim=1)"
      ],
      "execution_count": 111,
      "outputs": []
    },
    {
      "cell_type": "code",
      "metadata": {
        "id": "a359RvWkELN1"
      },
      "source": [
        "# # Testing layer by layer\n",
        "# xb, yb = first(dl)\n",
        "# display(xb.shape, yb.shape)\n",
        "# display(linear1(xb).shape)\n",
        "# display(linear2(linear1(xb)).shape)\n",
        "# display(linear3(linear2(linear1(xb))).shape)\n",
        "# display(model(xb))\n",
        "# classifier(xb)[0:3]"
      ],
      "execution_count": 112,
      "outputs": []
    },
    {
      "cell_type": "markdown",
      "metadata": {
        "id": "llDIsX4KELN2"
      },
      "source": [
        "##### Define a function to calculate the loss"
      ]
    },
    {
      "cell_type": "code",
      "metadata": {
        "id": "2c9pQh2PELN2"
      },
      "source": [
        "loss_fct = F.nll_loss"
      ],
      "execution_count": 113,
      "outputs": []
    },
    {
      "cell_type": "markdown",
      "metadata": {
        "id": "imw0hvlqELN3"
      },
      "source": [
        "##### Define a function to calculate the gradients"
      ]
    },
    {
      "cell_type": "code",
      "metadata": {
        "id": "jZydlieWELN3"
      },
      "source": [
        "def calc_grad(xb, yb, model):\n",
        "    probs = model(xb)\n",
        "    loss = loss_fct(probs, yb.squeeze())\n",
        "    loss.backward()\n",
        "    return loss"
      ],
      "execution_count": 114,
      "outputs": []
    },
    {
      "cell_type": "code",
      "metadata": {
        "id": "o7j3EL5OELN4"
      },
      "source": [
        "# # Testing function\n",
        "# xb, yb = first(dl)\n",
        "# display(xb.shape, yb.shape)\n",
        "# probs = model(xb)\n",
        "# display(probs.shape)\n",
        "# # display(yb)\n",
        "# loss_fct(probs, yb.squeeze())\n",
        "# calc_grad(xb, yb, model)"
      ],
      "execution_count": 115,
      "outputs": []
    },
    {
      "cell_type": "markdown",
      "metadata": {
        "id": "hMEf8gBPELN4"
      },
      "source": [
        "##### Define a function performing one step/one epoch"
      ]
    },
    {
      "cell_type": "code",
      "metadata": {
        "id": "ythX26KAELN5"
      },
      "source": [
        "def train_epoch(model, lr, params):\n",
        "    for xb, yb in dl:\n",
        "        calc_grad(xb, yb, model)\n",
        "        for p in params:\n",
        "            # print(f\"Sum of grads: {p.grad.sum().item()}\")\n",
        "            p.data -= p.grad * lr\n",
        "            p.grad.zero_()"
      ],
      "execution_count": 116,
      "outputs": []
    },
    {
      "cell_type": "markdown",
      "metadata": {
        "id": "_vOlDoGnELN5"
      },
      "source": [
        "##### Define a function to evaluate the validation accurary"
      ]
    },
    {
      "cell_type": "code",
      "metadata": {
        "id": "O9ntDGtqELN7"
      },
      "source": [
        "def accuracy_epoch(x, y):\n",
        "    preds = classifier(x.to(device))\n",
        "    accuracy = torch.eq(preds, y.to(device)).sum() / preds.shape[0]\n",
        "    return accuracy.item()"
      ],
      "execution_count": 120,
      "outputs": []
    },
    {
      "cell_type": "markdown",
      "metadata": {
        "id": "Co3xbdagELN9"
      },
      "source": [
        "#### Bringing it all together and run training loop"
      ]
    },
    {
      "cell_type": "markdown",
      "metadata": {
        "id": "5Wt7YYg5ELN9"
      },
      "source": [
        "Create a function to run `n` epochs and display results."
      ]
    },
    {
      "cell_type": "code",
      "metadata": {
        "id": "BjnqFRyBELN9"
      },
      "source": [
        "from math import log10\n",
        "\n",
        "def run_n_epochs(model, lr, params, n_epochs):\n",
        "    trigger = 10**(int(log10(n_epochs))-1)\n",
        "    cols = 10\n",
        "    starting_i = metric_results['epochs'][-1] + 1\n",
        "    \n",
        "    for i in range(starting_i, starting_i + n_epochs):\n",
        "        train_epoch(model, lr, params)\n",
        "        if i%trigger == 0:\n",
        "            v = accuracy_epoch(valid_x, valid_y)\n",
        "\n",
        "            metric_results['epochs'].append(i)\n",
        "            metric_results['values'].append(v)\n",
        "            \n",
        "            end_str = '\\n' if i//trigger%cols == 0 else ' ' \n",
        "            print(f\"{i:3d}:{v:1.4f}\", end=end_str)\n",
        "    \n",
        "    print(f\"\\nLast:{v:1.4f}\")\n",
        "    \n",
        "    fig, ax = plt.subplots(1, 1, figsize=(12,4))\n",
        "    ax.scatter(metric_results['epochs'][1:], metric_results['values'][1:])\n",
        "\n",
        "    return metric_results"
      ],
      "execution_count": 118,
      "outputs": []
    },
    {
      "cell_type": "markdown",
      "metadata": {
        "id": "MzeqRUTNELN-"
      },
      "source": [
        "Shuffle data, initalize parameters, run one epoch"
      ]
    },
    {
      "cell_type": "code",
      "metadata": {
        "colab": {
          "base_uri": "https://localhost:8080/"
        },
        "id": "38xKDG2fELN-",
        "outputId": "2b928da1-51bf-4c6c-d4e9-3e726148ff4c"
      },
      "source": [
        "shuffle(dset)\n",
        "dl = DataLoader(dset, batch_size=128)\n",
        "valid_dl = DataLoader(valid_dset, batch_size=128)\n",
        "\n",
        "w1 = init_params((28*28, 150))\n",
        "b1 = init_params(150)\n",
        "w2 = init_params((150, 50))\n",
        "b2 = init_params(50)\n",
        "w3 = init_params((50, 10))\n",
        "b3 = init_params(10)\n",
        "\n",
        "# display(w1.shape, b1.shape, w1.is_cuda, w2.shape, b2.shape, w2.is_cuda, w3.shape, b3.shape, w3.is_cuda)\n",
        "\n",
        "lr = 0.1\n",
        "params = w1, b1, w2, b2, w3, b3\n",
        "\n",
        "metric_results = {}\n",
        "metric_results['epochs'] = [0]\n",
        "metric_results['values'] = [0]\n",
        "\n",
        "train_epoch(model, lr, params)\n",
        "accuracy_epoch(valid_x, valid_y)"
      ],
      "execution_count": 121,
      "outputs": [
        {
          "output_type": "execute_result",
          "data": {
            "text/plain": [
              "0.26809999346733093"
            ]
          },
          "metadata": {
            "tags": []
          },
          "execution_count": 121
        }
      ]
    },
    {
      "cell_type": "code",
      "metadata": {
        "colab": {
          "base_uri": "https://localhost:8080/",
          "height": 370
        },
        "id": "7vb3sexJELN_",
        "outputId": "e6635b9c-ed4c-4951-e92e-0630760f5332"
      },
      "source": [
        "%%time\n",
        "metric_results = run_n_epochs(model, lr, params, 20)"
      ],
      "execution_count": 122,
      "outputs": [
        {
          "output_type": "stream",
          "text": [
            "  1:0.3341   2:0.3509   3:0.3581   4:0.3825   5:0.4283   6:0.4346   7:0.4478   8:0.4541   9:0.4780  10:0.4659\n",
            " 11:0.4871  12:0.4946  13:0.5285  14:0.5618  15:0.5694  16:0.5949  17:0.6029  18:0.6106  19:0.6178  20:0.6301\n",
            "\n",
            "Last:0.6301\n",
            "CPU times: user 12.6 s, sys: 315 ms, total: 13 s\n",
            "Wall time: 12.9 s\n"
          ],
          "name": "stdout"
        },
        {
          "output_type": "display_data",
          "data": {
            "image/png": "[encoded data removed]",
            "text/plain": [
              "<Figure size 864x288 with 1 Axes>"
            ]
          },
          "metadata": {
            "tags": [],
            "needs_background": "light"
          }
        }
      ]
    },
    {
      "cell_type": "code",
      "metadata": {
        "colab": {
          "base_uri": "https://localhost:8080/",
          "height": 335
        },
        "id": "ViuA51I9ELN_",
        "outputId": "e655d6bc-271b-4fec-a1b5-d5c30c9d72a2"
      },
      "source": [
        "metric_results = run_n_epochs(model, lr, params, 20)"
      ],
      "execution_count": 123,
      "outputs": [
        {
          "output_type": "stream",
          "text": [
            " 21:0.6263  22:0.6394  23:0.6399  24:0.6424  25:0.6493  26:0.6500  27:0.6611  28:0.6540  29:0.6569  30:0.6573\n",
            " 31:0.6728  32:0.7042  33:0.6984  34:0.7100  35:0.7261  36:0.7339  37:0.7394  38:0.7428  39:0.7471  40:0.7442\n",
            "\n",
            "Last:0.7442\n"
          ],
          "name": "stdout"
        },
        {
          "output_type": "display_data",
          "data": {
            "image/png": "[encoded data removed]",
            "text/plain": [
              "<Figure size 864x288 with 1 Axes>"
            ]
          },
          "metadata": {
            "tags": [],
            "needs_background": "light"
          }
        }
      ]
    },
    {
      "cell_type": "code",
      "metadata": {
        "colab": {
          "base_uri": "https://localhost:8080/",
          "height": 388
        },
        "id": "Zqd0m-XGGLk4",
        "outputId": "fa9c5116-2bbb-46c5-a590-a2f3dc2fc34e"
      },
      "source": [
        "metric_results = run_n_epochs(model, lr, params, 50)"
      ],
      "execution_count": 124,
      "outputs": [
        {
          "output_type": "stream",
          "text": [
            " 41:0.7513  42:0.7542  43:0.7570  44:0.7385  45:0.7638  46:0.7910  47:0.7658  48:0.7675  49:0.7189  50:0.7762\n",
            " 51:0.7720  52:0.7982  53:0.7516  54:0.8096  55:0.7361  56:0.8247  57:0.8529  58:0.8266  59:0.8655  60:0.8775\n",
            " 61:0.8790  62:0.8857  63:0.8891  64:0.8923  65:0.8925  66:0.8951  67:0.8799  68:0.9004  69:0.9027  70:0.9025\n",
            " 71:0.9026  72:0.9082  73:0.9076  74:0.9089  75:0.9113  76:0.9110  77:0.9117  78:0.9129  79:0.9147  80:0.9160\n",
            " 81:0.9174  82:0.9182  83:0.9192  84:0.9199  85:0.9208  86:0.9214  87:0.9220  88:0.9234  89:0.9244  90:0.9248\n",
            "\n",
            "Last:0.9248\n"
          ],
          "name": "stdout"
        },
        {
          "output_type": "display_data",
          "data": {
            "image/png": "[encoded data removed]",
            "text/plain": [
              "<Figure size 864x288 with 1 Axes>"
            ]
          },
          "metadata": {
            "tags": [],
            "needs_background": "light"
          }
        }
      ]
    },
    {
      "cell_type": "code",
      "metadata": {
        "colab": {
          "base_uri": "https://localhost:8080/",
          "height": 335
        },
        "id": "IY3B6_N0GLeG",
        "outputId": "d6e1f9da-956f-4d51-a3f1-af3f4174d5ca"
      },
      "source": [
        "metric_results = run_n_epochs(model, lr/2, params, 20)"
      ],
      "execution_count": 125,
      "outputs": [
        {
          "output_type": "stream",
          "text": [
            " 91:0.9291  92:0.9294  93:0.9299  94:0.9298  95:0.9300  96:0.9302  97:0.9301  98:0.9311  99:0.9314 100:0.9318\n",
            "101:0.9324 102:0.9324 103:0.9324 104:0.9326 105:0.9325 106:0.9328 107:0.9331 108:0.9329 109:0.9332 110:0.9335\n",
            "\n",
            "Last:0.9335\n"
          ],
          "name": "stdout"
        },
        {
          "output_type": "display_data",
          "data": {
            "image/png": "[encoded data removed]",
            "text/plain": [
              "<Figure size 864x288 with 1 Axes>"
            ]
          },
          "metadata": {
            "tags": [],
            "needs_background": "light"
          }
        }
      ]
    },
    {
      "cell_type": "code",
      "metadata": {
        "colab": {
          "base_uri": "https://localhost:8080/",
          "height": 335
        },
        "id": "aerSw38SGLaR",
        "outputId": "9d0fdc60-ed01-457f-bf91-ecc55dc1f915"
      },
      "source": [
        "metric_results = run_n_epochs(model, lr/4, params, 20)"
      ],
      "execution_count": 126,
      "outputs": [
        {
          "output_type": "stream",
          "text": [
            "111:0.9353 112:0.9357 113:0.9355 114:0.9357 115:0.9362 116:0.9360 117:0.9363 118:0.9366 119:0.9368 120:0.9370\n",
            "121:0.9372 122:0.9373 123:0.9376 124:0.9377 125:0.9376 126:0.9376 127:0.9378 128:0.9378 129:0.9379 130:0.9381\n",
            "\n",
            "Last:0.9381\n"
          ],
          "name": "stdout"
        },
        {
          "output_type": "display_data",
          "data": {
            "image/png": "[encoded data removed]",
            "text/plain": [
              "<Figure size 864x288 with 1 Axes>"
            ]
          },
          "metadata": {
            "tags": [],
            "needs_background": "light"
          }
        }
      ]
    },
    {
      "cell_type": "code",
      "metadata": {
        "colab": {
          "base_uri": "https://localhost:8080/",
          "height": 335
        },
        "id": "0VtUybcaGjwd",
        "outputId": "851cb9c3-c066-4ca2-e910-63dd8355c0aa"
      },
      "source": [
        "metric_results = run_n_epochs(model, lr/8, params, 20)"
      ],
      "execution_count": 127,
      "outputs": [
        {
          "output_type": "stream",
          "text": [
            "131:0.9387 132:0.9390 133:0.9388 134:0.9389 135:0.9389 136:0.9389 137:0.9389 138:0.9387 139:0.9385 140:0.9386\n",
            "141:0.9387 142:0.9388 143:0.9387 144:0.9389 145:0.9388 146:0.9387 147:0.9387 148:0.9387 149:0.9388 150:0.9391\n",
            "\n",
            "Last:0.9391\n"
          ],
          "name": "stdout"
        },
        {
          "output_type": "display_data",
          "data": {
            "image/png": "[encoded data removed]",
            "text/plain": [
              "<Figure size 864x288 with 1 Axes>"
            ]
          },
          "metadata": {
            "tags": [],
            "needs_background": "light"
          }
        }
      ]
    },
    {
      "cell_type": "code",
      "metadata": {
        "colab": {
          "base_uri": "https://localhost:8080/",
          "height": 335
        },
        "id": "EEQmMBddGjs_",
        "outputId": "28f47f72-db06-4f43-85c0-3e051d40a854"
      },
      "source": [
        "metric_results = run_n_epochs(model, lr/8, params, 20)"
      ],
      "execution_count": 128,
      "outputs": [
        {
          "output_type": "stream",
          "text": [
            "151:0.9391 152:0.9392 153:0.9393 154:0.9395 155:0.9396 156:0.9397 157:0.9398 158:0.9398 159:0.9397 160:0.9397\n",
            "161:0.9397 162:0.9397 163:0.9397 164:0.9396 165:0.9397 166:0.9397 167:0.9397 168:0.9397 169:0.9397 170:0.9397\n",
            "\n",
            "Last:0.9397\n"
          ],
          "name": "stdout"
        },
        {
          "output_type": "display_data",
          "data": {
            "image/png": "[encoded data removed]",
            "text/plain": [
              "<Figure size 864x288 with 1 Axes>"
            ]
          },
          "metadata": {
            "tags": [],
            "needs_background": "light"
          }
        }
      ]
    },
    {
      "cell_type": "code",
      "metadata": {
        "colab": {
          "base_uri": "https://localhost:8080/",
          "height": 335
        },
        "id": "WjRUzdZPGjps",
        "outputId": "239bad44-58e9-4fd1-ad64-ae4f95298cbe"
      },
      "source": [
        "metric_results = run_n_epochs(model, lr/16, params, 20)"
      ],
      "execution_count": 129,
      "outputs": [
        {
          "output_type": "stream",
          "text": [
            "171:0.9401 172:0.9402 173:0.9402 174:0.9403 175:0.9402 176:0.9402 177:0.9400 178:0.9401 179:0.9400 180:0.9400\n",
            "181:0.9401 182:0.9401 183:0.9401 184:0.9402 185:0.9402 186:0.9402 187:0.9402 188:0.9402 189:0.9402 190:0.9402\n",
            "\n",
            "Last:0.9402\n"
          ],
          "name": "stdout"
        },
        {
          "output_type": "display_data",
          "data": {
            "image/png": "[encoded data removed]",
            "text/plain": [
              "<Figure size 864x288 with 1 Axes>"
            ]
          },
          "metadata": {
            "tags": [],
            "needs_background": "light"
          }
        }
      ]
    },
    {
      "cell_type": "code",
      "metadata": {
        "colab": {
          "base_uri": "https://localhost:8080/",
          "height": 388
        },
        "id": "yM_jEbbAGje0",
        "outputId": "82602e71-dc06-4513-bf38-8cb581fe7f20"
      },
      "source": [
        "metric_results = run_n_epochs(model, lr/32, params, 50)"
      ],
      "execution_count": 130,
      "outputs": [
        {
          "output_type": "stream",
          "text": [
            "191:0.9400 192:0.9399 193:0.9400 194:0.9400 195:0.9400 196:0.9400 197:0.9400 198:0.9400 199:0.9400 200:0.9400\n",
            "201:0.9400 202:0.9401 203:0.9402 204:0.9401 205:0.9401 206:0.9401 207:0.9401 208:0.9401 209:0.9401 210:0.9401\n",
            "211:0.9401 212:0.9402 213:0.9402 214:0.9402 215:0.9401 216:0.9403 217:0.9402 218:0.9402 219:0.9402 220:0.9402\n",
            "221:0.9405 222:0.9402 223:0.9404 224:0.9406 225:0.9406 226:0.9406 227:0.9405 228:0.9405 229:0.9405 230:0.9406\n",
            "231:0.9406 232:0.9406 233:0.9406 234:0.9405 235:0.9405 236:0.9405 237:0.9406 238:0.9407 239:0.9407 240:0.9407\n",
            "\n",
            "Last:0.9407\n"
          ],
          "name": "stdout"
        },
        {
          "output_type": "display_data",
          "data": {
            "image/png": "[encoded data removed]",
            "text/plain": [
              "<Figure size 864x288 with 1 Axes>"
            ]
          },
          "metadata": {
            "tags": [],
            "needs_background": "light"
          }
        }
      ]
    },
    {
      "cell_type": "code",
      "metadata": {
        "id": "RENoPJuzIkHk"
      },
      "source": [
        "# %%time\n",
        "# metric_results = run_n_epochs(model, lr/64, params, 200)"
      ],
      "execution_count": 133,
      "outputs": []
    },
    {
      "cell_type": "code",
      "metadata": {
        "id": "GpgXc1ZFIj9u"
      },
      "source": [
        "# %%time\n",
        "# metric_results = run_n_epochs(model, lr/32, params, 500)"
      ],
      "execution_count": 134,
      "outputs": []
    },
    {
      "cell_type": "code",
      "metadata": {
        "colab": {
          "base_uri": "https://localhost:8080/",
          "height": 102
        },
        "id": "vJuoInB0nd5w",
        "outputId": "bad96fa0-df75-45f0-ea93-5cbe5880a71a"
      },
      "source": [
        "img = valid_tensors_dict[8][49]\n",
        "show_image(img)\n",
        "plt.show()\n",
        "classifier(img.view(28*28).unsqueeze(dim=0).to(device))"
      ],
      "execution_count": 135,
      "outputs": [
        {
          "output_type": "display_data",
          "data": {
            "image/png": "[encoded data removed]",
            "text/plain": [
              "<Figure size 72x72 with 1 Axes>"
            ]
          },
          "metadata": {
            "tags": [],
            "needs_background": "light"
          }
        },
        {
          "output_type": "execute_result",
          "data": {
            "text/plain": [
              "tensor([[8]], device='cuda:0')"
            ]
          },
          "metadata": {
            "tags": []
          },
          "execution_count": 135
        }
      ]
    },
    {
      "cell_type": "code",
      "metadata": {
        "colab": {
          "base_uri": "https://localhost:8080/",
          "height": 102
        },
        "id": "oYwpTh7tnd5x",
        "outputId": "6109795e-f177-47fc-abdb-c9214f371bf6"
      },
      "source": [
        "img = valid_tensors_dict[2][159]\n",
        "show_image(img)\n",
        "plt.show()\n",
        "\n",
        "classifier(img.view(28*28).unsqueeze(dim=0).to(device))"
      ],
      "execution_count": 136,
      "outputs": [
        {
          "output_type": "display_data",
          "data": {
            "image/png": "[encoded data removed]",
            "text/plain": [
              "<Figure size 72x72 with 1 Axes>"
            ]
          },
          "metadata": {
            "tags": [],
            "needs_background": "light"
          }
        },
        {
          "output_type": "execute_result",
          "data": {
            "text/plain": [
              "tensor([[2]], device='cuda:0')"
            ]
          },
          "metadata": {
            "tags": []
          },
          "execution_count": 136
        }
      ]
    },
    {
      "cell_type": "code",
      "metadata": {
        "colab": {
          "base_uri": "https://localhost:8080/",
          "height": 102
        },
        "id": "cZmoc6zWnd5x",
        "outputId": "5b1ce22f-1a67-4327-afc3-f4f372c9e3ae"
      },
      "source": [
        "img = valid_tensors_dict[7][957]\n",
        "show_image(img)\n",
        "plt.show()\n",
        "\n",
        "classifier(img.view(28*28).unsqueeze(dim=0).to(device))"
      ],
      "execution_count": 137,
      "outputs": [
        {
          "output_type": "display_data",
          "data": {
            "image/png": "[encoded data removed]",
            "text/plain": [
              "<Figure size 72x72 with 1 Axes>"
            ]
          },
          "metadata": {
            "tags": [],
            "needs_background": "light"
          }
        },
        {
          "output_type": "execute_result",
          "data": {
            "text/plain": [
              "tensor([[7]], device='cuda:0')"
            ]
          },
          "metadata": {
            "tags": []
          },
          "execution_count": 137
        }
      ]
    },
    {
      "cell_type": "markdown",
      "metadata": {
        "id": "3VVEO4hfgTuG"
      },
      "source": [
        "## Attach dataset to GPU with DataBlock"
      ]
    },
    {
      "cell_type": "markdown",
      "metadata": {
        "id": "fS5c6Mj_geJ5"
      },
      "source": [
        "Will use the 2 layer model above but will attach the datasets to the GPU at DataBlock level"
      ]
    },
    {
      "cell_type": "markdown",
      "metadata": {
        "id": "nHNHrSNOgeJ6"
      },
      "source": [
        "##### Define functions to calculate the predictions"
      ]
    },
    {
      "cell_type": "code",
      "metadata": {
        "id": "DnPVuzd7geJ6"
      },
      "source": [
        "activ1 = nn.ReLU()\n",
        "\n",
        "def linear1(xb):\n",
        "    outputs =  xb @ w1 + b1\n",
        "    return activ1(outputs)\n",
        "\n",
        "def linear2(xb):\n",
        "    outputs =  xb @ w2 + b2\n",
        "    probs = torch.log_softmax(outputs, dim=1)\n",
        "    return probs\n",
        "\n",
        "def model(xb):\n",
        "    xb = linear1(xb)\n",
        "    xb = linear2(xb)\n",
        "    return xb\n",
        "\n",
        "def classifier(xb):\n",
        "    xb = model(xb)\n",
        "    return xb.argmax(dim=1).unsqueeze(dim=1)"
      ],
      "execution_count": 89,
      "outputs": []
    },
    {
      "cell_type": "markdown",
      "metadata": {
        "id": "6Ec-gbwZgeJ7"
      },
      "source": [
        "##### Define a function to calculate the loss"
      ]
    },
    {
      "cell_type": "code",
      "metadata": {
        "id": "_2Br2ij-geJ7"
      },
      "source": [
        "loss_fct = F.nll_loss"
      ],
      "execution_count": 90,
      "outputs": []
    },
    {
      "cell_type": "markdown",
      "metadata": {
        "id": "-pCRLT_VgeJ7"
      },
      "source": [
        "##### Define a function to calculate the gradients"
      ]
    },
    {
      "cell_type": "code",
      "metadata": {
        "id": "uUBTb-a6geJ7"
      },
      "source": [
        "def calc_grad(xb, yb, model):\n",
        "    preds = model(xb)\n",
        "    loss = loss_fct(preds, yb.squeeze())\n",
        "    # print(loss)\n",
        "    loss.backward()"
      ],
      "execution_count": 91,
      "outputs": []
    },
    {
      "cell_type": "markdown",
      "metadata": {
        "id": "qjtDdsdBgeJ8"
      },
      "source": [
        "##### Define a function performing one step/one epoch"
      ]
    },
    {
      "cell_type": "code",
      "metadata": {
        "id": "9fkgn3uxgeJ8"
      },
      "source": [
        "def train_epoch(model, lr, params):\n",
        "    for xb, yb in dl:\n",
        "        calc_grad(xb, yb, model)\n",
        "        for p in params:\n",
        "            p.data -= p.grad * lr\n",
        "            p.grad.zero_()"
      ],
      "execution_count": 92,
      "outputs": []
    },
    {
      "cell_type": "markdown",
      "metadata": {
        "id": "raOP5XbJgeJ8"
      },
      "source": [
        "##### Define a function to evaluate the validation accurary"
      ]
    },
    {
      "cell_type": "code",
      "metadata": {
        "id": "m-Zwmg7zgeJ8"
      },
      "source": [
        "def accuracy_epoch(x, y):\n",
        "    preds = classifier(x.to(device))\n",
        "    accuracy = torch.eq(preds, y.to(device)).sum() / preds.shape[0]\n",
        "    return accuracy.item()"
      ],
      "execution_count": 93,
      "outputs": []
    },
    {
      "cell_type": "markdown",
      "metadata": {
        "id": "bMfxMcBbgeJ9"
      },
      "source": [
        "#### Bringing it all together and run training loop"
      ]
    },
    {
      "cell_type": "markdown",
      "metadata": {
        "id": "Q3UbJTf-geJ9"
      },
      "source": [
        "Create a function to run `n` epochs and display results."
      ]
    },
    {
      "cell_type": "code",
      "metadata": {
        "id": "N7W2_U-OgeJ9"
      },
      "source": [
        "from math import log10\n",
        "\n",
        "def run_n_epochs(model, lr, params, n_epochs):\n",
        "    trigger = 10**(int(log10(n_epochs))-1)\n",
        "    cols = 10\n",
        "    starting_i = metric_results['epochs'][-1] + 1\n",
        "    for i in range(starting_i, starting_i + n_epochs):\n",
        "        train_epoch(model, lr, params)\n",
        "        if i%trigger == 0:\n",
        "            v = accuracy_epoch(valid_x, valid_y)\n",
        "\n",
        "            metric_results['epochs'].append(i)\n",
        "            metric_results['values'].append(v)\n",
        "            \n",
        "            end_str = '\\n' if i//trigger%cols == 0 else ' ' \n",
        "            print(f\"{i:3d}:{v:1.4f}\", end=end_str)\n",
        "    print(f\"\\nLast:{v:1.4f}\")\n",
        "    fig, ax = plt.subplots(1, 1, figsize=(12,4))\n",
        "    ax.scatter(metric_results['epochs'][1:], metric_results['values'][1:])\n",
        "    return metric_results"
      ],
      "execution_count": 94,
      "outputs": []
    },
    {
      "cell_type": "markdown",
      "metadata": {
        "id": "kMnqQkKFhSqP"
      },
      "source": [
        "##### Prepare datasets and dataloaders"
      ]
    },
    {
      "cell_type": "markdown",
      "metadata": {
        "id": "dqbbXjEehSqQ"
      },
      "source": [
        "`train_x` is the set of independant variables (inputs), that is our images. We create  `train_x` tensor by concatenating all the tensors for each digit."
      ]
    },
    {
      "cell_type": "code",
      "metadata": {
        "id": "U5fJnhC_hSqR"
      },
      "source": [
        "train_x = torch.cat([stacked_tensors_dict[i] for i in range(0,10)]).view(-1, 28*28)"
      ],
      "execution_count": 95,
      "outputs": []
    },
    {
      "cell_type": "code",
      "metadata": {
        "colab": {
          "base_uri": "https://localhost:8080/"
        },
        "id": "SaoiuBhChSqS",
        "outputId": "7bd79688-8406-480f-d103-0f793e428eca"
      },
      "source": [
        "train_x.shape"
      ],
      "execution_count": 96,
      "outputs": [
        {
          "output_type": "execute_result",
          "data": {
            "text/plain": [
              "torch.Size([60000, 784])"
            ]
          },
          "metadata": {
            "tags": []
          },
          "execution_count": 96
        }
      ]
    },
    {
      "cell_type": "markdown",
      "metadata": {
        "id": "bnchNVkkhSqU"
      },
      "source": [
        "As expected, it is a set of 60,000 images represented as a flat one dimension vector of shape 28 x 28 = 784"
      ]
    },
    {
      "cell_type": "markdown",
      "metadata": {
        "id": "FaO93fdQhSqV"
      },
      "source": [
        "We need a label for each image, 0 to 9, depending on the digit the image represent. It is not as simple as for the basic MNIST case, as we have more than two classes and the number of images in each class is not equal. There is probably an easier way than the one below !"
      ]
    },
    {
      "cell_type": "code",
      "metadata": {
        "id": "FLT6U3J1hSqW"
      },
      "source": [
        "# Returns a list of 10 sublists, where each sublist consists of a as many times digit as the number of image in the category\n",
        "l = [ [i] * stacked_tensors_dict[i].shape[0] for i in range(0,10)]\n",
        "\n",
        "# check the the total number of labels is equal to the numer of images\n",
        "assert sum([len(sublist) for sublist in l]) == train_x.shape[0] "
      ],
      "execution_count": 97,
      "outputs": []
    },
    {
      "cell_type": "code",
      "metadata": {
        "colab": {
          "base_uri": "https://localhost:8080/"
        },
        "id": "Qdyeuw7zhSqW",
        "outputId": "7d19c8ef-dc22-48b6-d2df-281b5166e9b7"
      },
      "source": [
        "# Create a tensor based on the list of labels\n",
        "label_list = []\n",
        "for i in range(10):\n",
        "    label_list.extend(l[i])\n",
        "assert len(label_list) == train_x.shape[0]\n",
        "\n",
        "train_y = torch.tensor(label_list).unsqueeze(1)\n",
        "train_x.shape, train_y.shape"
      ],
      "execution_count": 98,
      "outputs": [
        {
          "output_type": "execute_result",
          "data": {
            "text/plain": [
              "(torch.Size([60000, 784]), torch.Size([60000, 1]))"
            ]
          },
          "metadata": {
            "tags": []
          },
          "execution_count": 98
        }
      ]
    },
    {
      "cell_type": "markdown",
      "metadata": {
        "id": "YNYxJ05phSqX"
      },
      "source": [
        "The shapes of `train_x` and `train_y` are as expected"
      ]
    },
    {
      "cell_type": "markdown",
      "metadata": {
        "id": "85fBy50QiKcN"
      },
      "source": [
        "Now we do the same for the validation sets"
      ]
    },
    {
      "cell_type": "code",
      "metadata": {
        "colab": {
          "base_uri": "https://localhost:8080/"
        },
        "id": "Xbts5ssjiKcY",
        "outputId": "5e77d6c6-6e25-45d0-b0f7-78c5116962dd"
      },
      "source": [
        "valid_x = torch.cat([valid_tensors_dict[i] for i in range(0,10)]).view(-1, 28*28)\n",
        "\n",
        "# Returns a list of 10 sublists, where each sublist consists of a as many times digit as the number of image in the category\n",
        "l = [ [i] * valid_tensors_dict[i].shape[0] for i in range(0,10)]\n",
        "\n",
        "# check the the total number of labels is equal to the numer of images\n",
        "assert sum([len(sublist) for sublist in l]) == valid_x.shape[0] \n",
        "print(valid_x.shape)\n",
        "\n",
        "# Create a tensor based on the list of labels\n",
        "label_list = []\n",
        "for i in range(10):\n",
        "    label_list.extend(l[i])\n",
        "assert len(label_list) == valid_x.shape[0]\n",
        "\n",
        "valid_y = torch.tensor(label_list).unsqueeze(1)\n",
        "print(valid_y.shape)\n",
        "\n",
        "valid_dset = list(zip(valid_x,valid_y))"
      ],
      "execution_count": 99,
      "outputs": [
        {
          "output_type": "stream",
          "text": [
            "torch.Size([10000, 784])\n",
            "torch.Size([10000, 1])\n"
          ],
          "name": "stdout"
        }
      ]
    },
    {
      "cell_type": "markdown",
      "metadata": {
        "id": "cjns5xphiKcZ"
      },
      "source": [
        "Datasets are ready. Now we prepare the dataloaders to feed the training loop.\n",
        "\n",
        "We also use the argument `device` to attach the data to the correct device (cpu or cuda)"
      ]
    },
    {
      "cell_type": "code",
      "metadata": {
        "colab": {
          "base_uri": "https://localhost:8080/"
        },
        "id": "COK5_uhJgeJ9",
        "outputId": "69c17a4c-3ab9-4605-8195-badc319fb0f9"
      },
      "source": [
        "shuffle(dset)\n",
        "dl = DataLoader(dset, batch_size=256, device=device)\n",
        "valid_dl = DataLoader(valid_dset, batch_size=256, device=device)\n",
        "\n",
        "w1 = init_params((28*28, 100))\n",
        "b1 = init_params(100)\n",
        "w2 = init_params((100, 10))\n",
        "b2 = init_params(10)\n",
        "\n",
        "lr = 1\n",
        "params = w1, b1, w2, b2\n",
        "\n",
        "metric_results = {}\n",
        "metric_results['epochs'] = [0]\n",
        "metric_results['values'] = [0]\n",
        "\n",
        "train_epoch(model, lr, params)\n",
        "accuracy_epoch(valid_x, valid_y)"
      ],
      "execution_count": 100,
      "outputs": [
        {
          "output_type": "execute_result",
          "data": {
            "text/plain": [
              "0.7138999700546265"
            ]
          },
          "metadata": {
            "tags": []
          },
          "execution_count": 100
        }
      ]
    },
    {
      "cell_type": "code",
      "metadata": {
        "colab": {
          "base_uri": "https://localhost:8080/",
          "height": 370
        },
        "id": "1f1uyuXqgeJ-",
        "outputId": "a767bc1d-409c-4aad-96aa-95055fc82830"
      },
      "source": [
        "%%time\n",
        "metric_results = run_n_epochs(model, lr, params, 20)"
      ],
      "execution_count": 101,
      "outputs": [
        {
          "output_type": "stream",
          "text": [
            "  1:0.7866   2:0.8054   3:0.8188   4:0.8284   5:0.8348   6:0.8404   7:0.8431   8:0.8450   9:0.8489  10:0.8529\n",
            " 11:0.8571  12:0.8629  13:0.8783  14:0.8810  15:0.8931  16:0.8958  17:0.8970  18:0.8997  19:0.9039  20:0.9072\n",
            "\n",
            "Last:0.9072\n",
            "CPU times: user 7.53 s, sys: 211 ms, total: 7.75 s\n",
            "Wall time: 7.74 s\n"
          ],
          "name": "stdout"
        },
        {
          "output_type": "display_data",
          "data": {
            "image/png": "[encoded data removed]",
            "text/plain": [
              "<Figure size 864x288 with 1 Axes>"
            ]
          },
          "metadata": {
            "tags": [],
            "needs_background": "light"
          }
        }
      ]
    },
    {
      "cell_type": "code",
      "metadata": {
        "colab": {
          "base_uri": "https://localhost:8080/",
          "height": 335
        },
        "id": "OT0uQtjNgeJ-",
        "outputId": "a04ee769-8658-46b5-dff6-3676ae8bec71"
      },
      "source": [
        "metric_results = run_n_epochs(model, lr, params, 20)"
      ],
      "execution_count": 102,
      "outputs": [
        {
          "output_type": "stream",
          "text": [
            " 21:0.9098  22:0.9118  23:0.9134  24:0.9137  25:0.9153  26:0.9158  27:0.9170  28:0.9184  29:0.9194  30:0.9207\n",
            " 31:0.9226  32:0.9230  33:0.9234  34:0.9241  35:0.9248  36:0.9252  37:0.9263  38:0.9267  39:0.9271  40:0.9278\n",
            "\n",
            "Last:0.9278\n"
          ],
          "name": "stdout"
        },
        {
          "output_type": "display_data",
          "data": {
            "image/png": "[encoded data removed]",
            "text/plain": [
              "<Figure size 864x288 with 1 Axes>"
            ]
          },
          "metadata": {
            "tags": [],
            "needs_background": "light"
          }
        }
      ]
    },
    {
      "cell_type": "code",
      "metadata": {
        "colab": {
          "base_uri": "https://localhost:8080/",
          "height": 338
        },
        "id": "wO4MSlmogeJ-",
        "outputId": "e30260e7-674b-4a47-88d8-090722d65a5d"
      },
      "source": [
        "metric_results = run_n_epochs(model, lr, params, 20)"
      ],
      "execution_count": 103,
      "outputs": [
        {
          "output_type": "stream",
          "text": [
            " 41:0.9280  42:0.9281  43:0.9286  44:0.9295  45:0.9295  46:0.9302  47:0.9307  48:0.9304  49:0.9301  50:0.9300\n",
            " 51:0.9308  52:0.9310  53:0.9313  54:0.9312  55:0.9314  56:0.9316  57:0.9320  58:0.9321  59:0.9324  60:0.9335\n",
            "\n",
            "Last:0.9335\n"
          ],
          "name": "stdout"
        },
        {
          "output_type": "display_data",
          "data": {
            "image/png": "[encoded data removed]",
            "text/plain": [
              "<Figure size 864x288 with 1 Axes>"
            ]
          },
          "metadata": {
            "tags": [],
            "needs_background": "light"
          }
        }
      ]
    },
    {
      "cell_type": "code",
      "metadata": {
        "colab": {
          "base_uri": "https://localhost:8080/",
          "height": 388
        },
        "id": "TDStul_pgeJ-",
        "outputId": "09dbf560-b789-4332-ce97-7e8d7477730e"
      },
      "source": [
        "metric_results = run_n_epochs(model, lr, params, 50)"
      ],
      "execution_count": 104,
      "outputs": [
        {
          "output_type": "stream",
          "text": [
            " 61:0.9335  62:0.9341  63:0.9349  64:0.9352  65:0.9347  66:0.9347  67:0.9357  68:0.9360  69:0.9365  70:0.9366\n",
            " 71:0.9364  72:0.9369  73:0.9371  74:0.9373  75:0.9376  76:0.9376  77:0.9378  78:0.9379  79:0.9372  80:0.9376\n",
            " 81:0.9386  82:0.9383  83:0.9384  84:0.9387  85:0.9388  86:0.9396  87:0.9405  88:0.9405  89:0.9409  90:0.9412\n",
            " 91:0.9408  92:0.9415  93:0.9413  94:0.9407  95:0.9419  96:0.9418  97:0.9415  98:0.9417  99:0.9421 100:0.9428\n",
            "101:0.9428 102:0.9428 103:0.9423 104:0.9425 105:0.9430 106:0.9430 107:0.9441 108:0.9442 109:0.9443 110:0.9445\n",
            "\n",
            "Last:0.9445\n"
          ],
          "name": "stdout"
        },
        {
          "output_type": "display_data",
          "data": {
            "image/png": "[encoded data removed]",
            "text/plain": [
              "<Figure size 864x288 with 1 Axes>"
            ]
          },
          "metadata": {
            "tags": [],
            "needs_background": "light"
          }
        }
      ]
    },
    {
      "cell_type": "code",
      "metadata": {
        "colab": {
          "base_uri": "https://localhost:8080/",
          "height": 388
        },
        "id": "r3k4B1YugeJ-",
        "outputId": "6cca3842-4bd2-4a02-ffa3-93d08e9454f8"
      },
      "source": [
        "metric_results = run_n_epochs(model, lr, params, 50)"
      ],
      "execution_count": 105,
      "outputs": [
        {
          "output_type": "stream",
          "text": [
            "111:0.9442 112:0.9442 113:0.9446 114:0.9444 115:0.9443 116:0.9444 117:0.9448 118:0.9442 119:0.9446 120:0.9448\n",
            "121:0.9449 122:0.9454 123:0.9452 124:0.9452 125:0.9451 126:0.9452 127:0.9454 128:0.9455 129:0.9456 130:0.9449\n",
            "131:0.9446 132:0.9450 133:0.9448 134:0.9450 135:0.9450 136:0.9449 137:0.9453 138:0.9455 139:0.9448 140:0.9442\n",
            "141:0.9446 142:0.9447 143:0.9443 144:0.9446 145:0.9439 146:0.9444 147:0.9449 148:0.9449 149:0.9450 150:0.9445\n",
            "151:0.9440 152:0.9444 153:0.9440 154:0.9440 155:0.9439 156:0.9438 157:0.9435 158:0.9440 159:0.9437 160:0.9434\n",
            "\n",
            "Last:0.9434\n"
          ],
          "name": "stdout"
        },
        {
          "output_type": "display_data",
          "data": {
            "image/png": "[encoded data removed]",
            "text/plain": [
              "<Figure size 864x288 with 1 Axes>"
            ]
          },
          "metadata": {
            "tags": [],
            "needs_background": "light"
          }
        }
      ]
    },
    {
      "cell_type": "code",
      "metadata": {
        "colab": {
          "base_uri": "https://localhost:8080/",
          "height": 353
        },
        "id": "HOp6WX86geJ-",
        "outputId": "49756b48-e1d4-4b07-b08b-0b08aba249f5"
      },
      "source": [
        "%%time\n",
        "metric_results = run_n_epochs(model, lr/5, params, 100)"
      ],
      "execution_count": 106,
      "outputs": [
        {
          "output_type": "stream",
          "text": [
            "170:0.9433 180:0.9435 190:0.9432 200:0.9432\n",
            "210:0.9432 220:0.9435 230:0.9440 240:0.9440 250:0.9435 260:0.9437 \n",
            "Last:0.9437\n",
            "CPU times: user 36.7 s, sys: 941 ms, total: 37.6 s\n",
            "Wall time: 37.4 s\n"
          ],
          "name": "stdout"
        },
        {
          "output_type": "display_data",
          "data": {
            "image/png": "[encoded data removed]",
            "text/plain": [
              "<Figure size 864x288 with 1 Axes>"
            ]
          },
          "metadata": {
            "tags": [],
            "needs_background": "light"
          }
        }
      ]
    },
    {
      "cell_type": "code",
      "metadata": {
        "colab": {
          "base_uri": "https://localhost:8080/",
          "height": 102
        },
        "id": "omNdkI1MgeJ_",
        "outputId": "3c81bf42-7868-45a8-ff20-1d356ba00166"
      },
      "source": [
        "img = valid_tensors_dict[8][49]\n",
        "show_image(img)\n",
        "plt.show()\n",
        "classifier(img.view(28*28).unsqueeze(dim=0).to(device))"
      ],
      "execution_count": 107,
      "outputs": [
        {
          "output_type": "display_data",
          "data": {
            "image/png": "[encoded data removed]",
            "text/plain": [
              "<Figure size 72x72 with 1 Axes>"
            ]
          },
          "metadata": {
            "tags": [],
            "needs_background": "light"
          }
        },
        {
          "output_type": "execute_result",
          "data": {
            "text/plain": [
              "tensor([[8]], device='cuda:0')"
            ]
          },
          "metadata": {
            "tags": []
          },
          "execution_count": 107
        }
      ]
    },
    {
      "cell_type": "code",
      "metadata": {
        "colab": {
          "base_uri": "https://localhost:8080/",
          "height": 102
        },
        "id": "Fm6gIjc_geJ_",
        "outputId": "2dbb6960-9c9f-488d-e2f4-bc39353f7a3f"
      },
      "source": [
        "img = valid_tensors_dict[2][159]\n",
        "show_image(img)\n",
        "plt.show()\n",
        "\n",
        "classifier(img.view(28*28).unsqueeze(dim=0).to(device))"
      ],
      "execution_count": 108,
      "outputs": [
        {
          "output_type": "display_data",
          "data": {
            "image/png": "[encoded data removed]",
            "text/plain": [
              "<Figure size 72x72 with 1 Axes>"
            ]
          },
          "metadata": {
            "tags": [],
            "needs_background": "light"
          }
        },
        {
          "output_type": "execute_result",
          "data": {
            "text/plain": [
              "tensor([[2]], device='cuda:0')"
            ]
          },
          "metadata": {
            "tags": []
          },
          "execution_count": 108
        }
      ]
    },
    {
      "cell_type": "code",
      "metadata": {
        "colab": {
          "base_uri": "https://localhost:8080/",
          "height": 102
        },
        "id": "ZBNC1LZggeJ_",
        "outputId": "a23a6832-553c-4c7f-e463-4d2e02feb25b"
      },
      "source": [
        "img = valid_tensors_dict[7][957]\n",
        "show_image(img)\n",
        "plt.show()\n",
        "\n",
        "classifier(img.view(28*28).unsqueeze(dim=0).to(device))"
      ],
      "execution_count": 109,
      "outputs": [
        {
          "output_type": "display_data",
          "data": {
            "image/png": "[encoded data removed]",
            "text/plain": [
              "<Figure size 72x72 with 1 Axes>"
            ]
          },
          "metadata": {
            "tags": [],
            "needs_background": "light"
          }
        },
        {
          "output_type": "execute_result",
          "data": {
            "text/plain": [
              "tensor([[7]], device='cuda:0')"
            ]
          },
          "metadata": {
            "tags": []
          },
          "execution_count": 109
        }
      ]
    }
  ]
}