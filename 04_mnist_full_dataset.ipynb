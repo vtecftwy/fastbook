{
  "nbformat": 4,
  "nbformat_minor": 0,
  "metadata": {
    "jupytext": {
      "split_at_heading": true
    },
    "kernelspec": {
      "display_name": "Python 3",
      "language": "python",
      "name": "python3"
    },
    "colab": {
      "name": "04_mnist_full_dataset.ipynb",
      "provenance": [],
      "collapsed_sections": [],
      "include_colab_link": true
    },
    "accelerator": "GPU",
    "widgets": {
      "application/vnd.jupyter.widget-state+json": {
        "552c4fb25de34a8fad2b46a3d112acf9": {
          "model_module": "@jupyter-widgets/controls",
          "model_name": "HBoxModel",
          "state": {
            "_view_name": "HBoxView",
            "_dom_classes": [],
            "_model_name": "HBoxModel",
            "_view_module": "@jupyter-widgets/controls",
            "_model_module_version": "1.5.0",
            "_view_count": null,
            "_view_module_version": "1.5.0",
            "box_style": "",
            "layout": "IPY_MODEL_80ddda2bf8f44d5e9995124d218b67b7",
            "_model_module": "@jupyter-widgets/controls",
            "children": [
              "IPY_MODEL_3fe5e83a2da34c738656cca34a6bea12",
              "IPY_MODEL_b814093b5f0d4f6099d789fcc580a9a2"
            ]
          }
        },
        "80ddda2bf8f44d5e9995124d218b67b7": {
          "model_module": "@jupyter-widgets/base",
          "model_name": "LayoutModel",
          "state": {
            "_view_name": "LayoutView",
            "grid_template_rows": null,
            "right": null,
            "justify_content": null,
            "_view_module": "@jupyter-widgets/base",
            "overflow": null,
            "_model_module_version": "1.2.0",
            "_view_count": null,
            "flex_flow": null,
            "width": null,
            "min_width": null,
            "border": null,
            "align_items": null,
            "bottom": null,
            "_model_module": "@jupyter-widgets/base",
            "top": null,
            "grid_column": null,
            "overflow_y": null,
            "overflow_x": null,
            "grid_auto_flow": null,
            "grid_area": null,
            "grid_template_columns": null,
            "flex": null,
            "_model_name": "LayoutModel",
            "justify_items": null,
            "grid_row": null,
            "max_height": null,
            "align_content": null,
            "visibility": null,
            "align_self": null,
            "height": null,
            "min_height": null,
            "padding": null,
            "grid_auto_rows": null,
            "grid_gap": null,
            "max_width": null,
            "order": null,
            "_view_module_version": "1.2.0",
            "grid_template_areas": null,
            "object_position": null,
            "object_fit": null,
            "grid_auto_columns": null,
            "margin": null,
            "display": null,
            "left": null
          }
        },
        "3fe5e83a2da34c738656cca34a6bea12": {
          "model_module": "@jupyter-widgets/controls",
          "model_name": "FloatProgressModel",
          "state": {
            "_view_name": "ProgressView",
            "style": "IPY_MODEL_b6067ecba7554acc875073ed93c27673",
            "_dom_classes": [],
            "description": "100%",
            "_model_name": "FloatProgressModel",
            "bar_style": "success",
            "max": 46827520,
            "_view_module": "@jupyter-widgets/controls",
            "_model_module_version": "1.5.0",
            "value": 46827520,
            "_view_count": null,
            "_view_module_version": "1.5.0",
            "orientation": "horizontal",
            "min": 0,
            "description_tooltip": null,
            "_model_module": "@jupyter-widgets/controls",
            "layout": "IPY_MODEL_608cfa66c28e4701b7e0126e5380dd71"
          }
        },
        "b814093b5f0d4f6099d789fcc580a9a2": {
          "model_module": "@jupyter-widgets/controls",
          "model_name": "HTMLModel",
          "state": {
            "_view_name": "HTMLView",
            "style": "IPY_MODEL_67560280da324618a2dfe67b9159699b",
            "_dom_classes": [],
            "description": "",
            "_model_name": "HTMLModel",
            "placeholder": "​",
            "_view_module": "@jupyter-widgets/controls",
            "_model_module_version": "1.5.0",
            "value": " 44.7M/44.7M [00:24&lt;00:00, 1.88MB/s]",
            "_view_count": null,
            "_view_module_version": "1.5.0",
            "description_tooltip": null,
            "_model_module": "@jupyter-widgets/controls",
            "layout": "IPY_MODEL_b68a7f164a5f49f8b62f01526826bc14"
          }
        },
        "b6067ecba7554acc875073ed93c27673": {
          "model_module": "@jupyter-widgets/controls",
          "model_name": "ProgressStyleModel",
          "state": {
            "_view_name": "StyleView",
            "_model_name": "ProgressStyleModel",
            "description_width": "initial",
            "_view_module": "@jupyter-widgets/base",
            "_model_module_version": "1.5.0",
            "_view_count": null,
            "_view_module_version": "1.2.0",
            "bar_color": null,
            "_model_module": "@jupyter-widgets/controls"
          }
        },
        "608cfa66c28e4701b7e0126e5380dd71": {
          "model_module": "@jupyter-widgets/base",
          "model_name": "LayoutModel",
          "state": {
            "_view_name": "LayoutView",
            "grid_template_rows": null,
            "right": null,
            "justify_content": null,
            "_view_module": "@jupyter-widgets/base",
            "overflow": null,
            "_model_module_version": "1.2.0",
            "_view_count": null,
            "flex_flow": null,
            "width": null,
            "min_width": null,
            "border": null,
            "align_items": null,
            "bottom": null,
            "_model_module": "@jupyter-widgets/base",
            "top": null,
            "grid_column": null,
            "overflow_y": null,
            "overflow_x": null,
            "grid_auto_flow": null,
            "grid_area": null,
            "grid_template_columns": null,
            "flex": null,
            "_model_name": "LayoutModel",
            "justify_items": null,
            "grid_row": null,
            "max_height": null,
            "align_content": null,
            "visibility": null,
            "align_self": null,
            "height": null,
            "min_height": null,
            "padding": null,
            "grid_auto_rows": null,
            "grid_gap": null,
            "max_width": null,
            "order": null,
            "_view_module_version": "1.2.0",
            "grid_template_areas": null,
            "object_position": null,
            "object_fit": null,
            "grid_auto_columns": null,
            "margin": null,
            "display": null,
            "left": null
          }
        },
        "67560280da324618a2dfe67b9159699b": {
          "model_module": "@jupyter-widgets/controls",
          "model_name": "DescriptionStyleModel",
          "state": {
            "_view_name": "StyleView",
            "_model_name": "DescriptionStyleModel",
            "description_width": "",
            "_view_module": "@jupyter-widgets/base",
            "_model_module_version": "1.5.0",
            "_view_count": null,
            "_view_module_version": "1.2.0",
            "_model_module": "@jupyter-widgets/controls"
          }
        },
        "b68a7f164a5f49f8b62f01526826bc14": {
          "model_module": "@jupyter-widgets/base",
          "model_name": "LayoutModel",
          "state": {
            "_view_name": "LayoutView",
            "grid_template_rows": null,
            "right": null,
            "justify_content": null,
            "_view_module": "@jupyter-widgets/base",
            "overflow": null,
            "_model_module_version": "1.2.0",
            "_view_count": null,
            "flex_flow": null,
            "width": null,
            "min_width": null,
            "border": null,
            "align_items": null,
            "bottom": null,
            "_model_module": "@jupyter-widgets/base",
            "top": null,
            "grid_column": null,
            "overflow_y": null,
            "overflow_x": null,
            "grid_auto_flow": null,
            "grid_area": null,
            "grid_template_columns": null,
            "flex": null,
            "_model_name": "LayoutModel",
            "justify_items": null,
            "grid_row": null,
            "max_height": null,
            "align_content": null,
            "visibility": null,
            "align_self": null,
            "height": null,
            "min_height": null,
            "padding": null,
            "grid_auto_rows": null,
            "grid_gap": null,
            "max_width": null,
            "order": null,
            "_view_module_version": "1.2.0",
            "grid_template_areas": null,
            "object_position": null,
            "object_fit": null,
            "grid_auto_columns": null,
            "margin": null,
            "display": null,
            "left": null
          }
        }
      }
    }
  },
  "cells": [
    {
      "cell_type": "markdown",
      "metadata": {
        "id": "view-in-github",
        "colab_type": "text"
      },
      "source": [
        "<a href=\"https://colab.research.google.com/github/vtecftwy/fastbook/blob/walk-thru/04_mnist_full_dataset.ipynb\" target=\"_parent\"><img src=\"https://colab.research.google.com/assets/colab-badge.svg\" alt=\"Open In Colab\"/></a>"
      ]
    },
    {
      "cell_type": "markdown",
      "metadata": {
        "id": "8czcNhgvDEwg"
      },
      "source": [
        "# MNIST Full Dataset\r\n",
        "Model to classify MNIST for unpackAI Bootcamp 2: first session"
      ]
    },
    {
      "cell_type": "code",
      "metadata": {
        "id": "4cvsxjI79goj",
        "colab": {
          "base_uri": "https://localhost:8080/"
        },
        "outputId": "5d73992e-7eb0-4bb7-9145-ed856d51d94d"
      },
      "source": [
        "!pip install -Uqq fastbook\n",
        "import fastbook\n",
        "fastbook.setup_book()"
      ],
      "execution_count": 2,
      "outputs": [
        {
          "output_type": "stream",
          "text": [
            "\u001b[?25l\r\u001b[K     |▌                               | 10kB 27.7MB/s eta 0:00:01\r\u001b[K     |█                               | 20kB 33.0MB/s eta 0:00:01\r\u001b[K     |█▍                              | 30kB 35.9MB/s eta 0:00:01\r\u001b[K     |█▉                              | 40kB 32.0MB/s eta 0:00:01\r\u001b[K     |██▎                             | 51kB 29.1MB/s eta 0:00:01\r\u001b[K     |██▊                             | 61kB 23.3MB/s eta 0:00:01\r\u001b[K     |███▏                            | 71kB 24.6MB/s eta 0:00:01\r\u001b[K     |███▋                            | 81kB 20.5MB/s eta 0:00:01\r\u001b[K     |████                            | 92kB 19.1MB/s eta 0:00:01\r\u001b[K     |████▌                           | 102kB 19.2MB/s eta 0:00:01\r\u001b[K     |█████                           | 112kB 19.2MB/s eta 0:00:01\r\u001b[K     |█████▌                          | 122kB 19.2MB/s eta 0:00:01\r\u001b[K     |██████                          | 133kB 19.2MB/s eta 0:00:01\r\u001b[K     |██████▍                         | 143kB 19.2MB/s eta 0:00:01\r\u001b[K     |██████▉                         | 153kB 19.2MB/s eta 0:00:01\r\u001b[K     |███████▎                        | 163kB 19.2MB/s eta 0:00:01\r\u001b[K     |███████▊                        | 174kB 19.2MB/s eta 0:00:01\r\u001b[K     |████████▏                       | 184kB 19.2MB/s eta 0:00:01\r\u001b[K     |████████▋                       | 194kB 19.2MB/s eta 0:00:01\r\u001b[K     |█████████                       | 204kB 19.2MB/s eta 0:00:01\r\u001b[K     |█████████▋                      | 215kB 19.2MB/s eta 0:00:01\r\u001b[K     |██████████                      | 225kB 19.2MB/s eta 0:00:01\r\u001b[K     |██████████▌                     | 235kB 19.2MB/s eta 0:00:01\r\u001b[K     |███████████                     | 245kB 19.2MB/s eta 0:00:01\r\u001b[K     |███████████▍                    | 256kB 19.2MB/s eta 0:00:01\r\u001b[K     |███████████▉                    | 266kB 19.2MB/s eta 0:00:01\r\u001b[K     |████████████▎                   | 276kB 19.2MB/s eta 0:00:01\r\u001b[K     |████████████▊                   | 286kB 19.2MB/s eta 0:00:01\r\u001b[K     |█████████████▏                  | 296kB 19.2MB/s eta 0:00:01\r\u001b[K     |█████████████▋                  | 307kB 19.2MB/s eta 0:00:01\r\u001b[K     |██████████████                  | 317kB 19.2MB/s eta 0:00:01\r\u001b[K     |██████████████▋                 | 327kB 19.2MB/s eta 0:00:01\r\u001b[K     |███████████████                 | 337kB 19.2MB/s eta 0:00:01\r\u001b[K     |███████████████▌                | 348kB 19.2MB/s eta 0:00:01\r\u001b[K     |████████████████                | 358kB 19.2MB/s eta 0:00:01\r\u001b[K     |████████████████▍               | 368kB 19.2MB/s eta 0:00:01\r\u001b[K     |████████████████▉               | 378kB 19.2MB/s eta 0:00:01\r\u001b[K     |█████████████████▎              | 389kB 19.2MB/s eta 0:00:01\r\u001b[K     |█████████████████▊              | 399kB 19.2MB/s eta 0:00:01\r\u001b[K     |██████████████████▏             | 409kB 19.2MB/s eta 0:00:01\r\u001b[K     |██████████████████▋             | 419kB 19.2MB/s eta 0:00:01\r\u001b[K     |███████████████████▏            | 430kB 19.2MB/s eta 0:00:01\r\u001b[K     |███████████████████▋            | 440kB 19.2MB/s eta 0:00:01\r\u001b[K     |████████████████████            | 450kB 19.2MB/s eta 0:00:01\r\u001b[K     |████████████████████▌           | 460kB 19.2MB/s eta 0:00:01\r\u001b[K     |█████████████████████           | 471kB 19.2MB/s eta 0:00:01\r\u001b[K     |█████████████████████▍          | 481kB 19.2MB/s eta 0:00:01\r\u001b[K     |█████████████████████▉          | 491kB 19.2MB/s eta 0:00:01\r\u001b[K     |██████████████████████▎         | 501kB 19.2MB/s eta 0:00:01\r\u001b[K     |██████████████████████▊         | 512kB 19.2MB/s eta 0:00:01\r\u001b[K     |███████████████████████▏        | 522kB 19.2MB/s eta 0:00:01\r\u001b[K     |███████████████████████▋        | 532kB 19.2MB/s eta 0:00:01\r\u001b[K     |████████████████████████▏       | 542kB 19.2MB/s eta 0:00:01\r\u001b[K     |████████████████████████▋       | 552kB 19.2MB/s eta 0:00:01\r\u001b[K     |█████████████████████████       | 563kB 19.2MB/s eta 0:00:01\r\u001b[K     |█████████████████████████▌      | 573kB 19.2MB/s eta 0:00:01\r\u001b[K     |██████████████████████████      | 583kB 19.2MB/s eta 0:00:01\r\u001b[K     |██████████████████████████▍     | 593kB 19.2MB/s eta 0:00:01\r\u001b[K     |██████████████████████████▉     | 604kB 19.2MB/s eta 0:00:01\r\u001b[K     |███████████████████████████▎    | 614kB 19.2MB/s eta 0:00:01\r\u001b[K     |███████████████████████████▊    | 624kB 19.2MB/s eta 0:00:01\r\u001b[K     |████████████████████████████▏   | 634kB 19.2MB/s eta 0:00:01\r\u001b[K     |████████████████████████████▊   | 645kB 19.2MB/s eta 0:00:01\r\u001b[K     |█████████████████████████████▏  | 655kB 19.2MB/s eta 0:00:01\r\u001b[K     |█████████████████████████████▋  | 665kB 19.2MB/s eta 0:00:01\r\u001b[K     |██████████████████████████████  | 675kB 19.2MB/s eta 0:00:01\r\u001b[K     |██████████████████████████████▌ | 686kB 19.2MB/s eta 0:00:01\r\u001b[K     |███████████████████████████████ | 696kB 19.2MB/s eta 0:00:01\r\u001b[K     |███████████████████████████████▍| 706kB 19.2MB/s eta 0:00:01\r\u001b[K     |███████████████████████████████▉| 716kB 19.2MB/s eta 0:00:01\r\u001b[K     |████████████████████████████████| 727kB 19.2MB/s \n",
            "\u001b[K     |████████████████████████████████| 51kB 8.4MB/s \n",
            "\u001b[K     |████████████████████████████████| 194kB 49.1MB/s \n",
            "\u001b[K     |████████████████████████████████| 1.1MB 54.3MB/s \n",
            "\u001b[K     |████████████████████████████████| 61kB 10.1MB/s \n",
            "\u001b[?25hMounted at /content/gdrive\n"
          ],
          "name": "stdout"
        }
      ]
    },
    {
      "cell_type": "code",
      "metadata": {
        "id": "KLNuuB179gou"
      },
      "source": [
        "from fastai.vision.all import *\n",
        "from fastbook import *\n",
        "\n",
        "matplotlib.rc('image', cmap='Greys')"
      ],
      "execution_count": 3,
      "outputs": []
    },
    {
      "cell_type": "markdown",
      "metadata": {
        "id": "IG2GIkeMJvrK"
      },
      "source": [
        "## Load MNIST data and create dataloaders"
      ]
    },
    {
      "cell_type": "code",
      "metadata": {
        "colab": {
          "base_uri": "https://localhost:8080/",
          "height": 90
        },
        "id": "JR17Y3o-DfhG",
        "outputId": "eb1212a1-c543-4f94-c22d-9acc5a8c16e9"
      },
      "source": [
        "path = untar_data(URLs.MNIST)\r\n",
        "path.ls(),  (path/'training').ls(), (path/'testing').ls()"
      ],
      "execution_count": 4,
      "outputs": [
        {
          "output_type": "display_data",
          "data": {
            "text/html": [
              ""
            ],
            "text/plain": [
              "<IPython.core.display.HTML object>"
            ]
          },
          "metadata": {
            "tags": []
          }
        },
        {
          "output_type": "execute_result",
          "data": {
            "text/plain": [
              "((#2) [Path('/root/.fastai/data/mnist_png/testing'),Path('/root/.fastai/data/mnist_png/training')],\n",
              " (#10) [Path('/root/.fastai/data/mnist_png/training/3'),Path('/root/.fastai/data/mnist_png/training/1'),Path('/root/.fastai/data/mnist_png/training/0'),Path('/root/.fastai/data/mnist_png/training/9'),Path('/root/.fastai/data/mnist_png/training/6'),Path('/root/.fastai/data/mnist_png/training/2'),Path('/root/.fastai/data/mnist_png/training/8'),Path('/root/.fastai/data/mnist_png/training/5'),Path('/root/.fastai/data/mnist_png/training/7'),Path('/root/.fastai/data/mnist_png/training/4')],\n",
              " (#10) [Path('/root/.fastai/data/mnist_png/testing/3'),Path('/root/.fastai/data/mnist_png/testing/1'),Path('/root/.fastai/data/mnist_png/testing/0'),Path('/root/.fastai/data/mnist_png/testing/9'),Path('/root/.fastai/data/mnist_png/testing/6'),Path('/root/.fastai/data/mnist_png/testing/2'),Path('/root/.fastai/data/mnist_png/testing/8'),Path('/root/.fastai/data/mnist_png/testing/5'),Path('/root/.fastai/data/mnist_png/testing/7'),Path('/root/.fastai/data/mnist_png/testing/4')])"
            ]
          },
          "metadata": {
            "tags": []
          },
          "execution_count": 4
        }
      ]
    },
    {
      "cell_type": "markdown",
      "metadata": {
        "id": "kGAA0yWZK3XB"
      },
      "source": [
        "Folder structure: \r\n",
        "- `training\\0`: all images of 0\r\n",
        "- `training\\1`: all images of 1\r\n",
        "- . . . \r\n",
        "- `training\\9`: all images of 9\r\n",
        "- `testing\\0`: all images of 0\r\n",
        "- `testing\\1`: all images of 1\r\n",
        "- . . . \r\n",
        "- `testing\\9`: all images of 9"
      ]
    },
    {
      "cell_type": "markdown",
      "metadata": {
        "id": "ncTC-nabKEs5"
      },
      "source": [
        "Elements to create the DataBlocks:\r\n",
        "- `blocks`: \r\n",
        "    - `ImageBlock`. But MNIST images are BW, so we also pass the cls `PILImageBW`\r\n",
        "    - `CategoryBlock`\r\n",
        "- `get_items`: `get_image_files` method to get the list of all image files in the folder\r\n",
        "- `get_y`: `parent_label` as images are grouped be folder/category\r\n",
        "- `splitter`: `RamdomSplitter` because this dataset only includes a training folder and a testing folder, no validation folder.\r\n",
        "\r\n",
        "Augmentation: exclude flipping and cropping"
      ]
    },
    {
      "cell_type": "code",
      "metadata": {
        "id": "tCllOLNrvi-0"
      },
      "source": [
        "rotation = Rotate(max_deg=30, p=0.5, draw=None, size=None, mode='bilinear', pad_mode='reflection', align_corners=True, batch=False)\r\n",
        "\r\n",
        "augmentation = aug_transforms(mult=1.0, \r\n",
        "                              do_flip=False, \r\n",
        "                              flip_vert=False, \r\n",
        "                              max_rotate=15.0, \r\n",
        "                              min_zoom=0.50, \r\n",
        "                              max_zoom=1.0, \r\n",
        "                              max_lighting=0.3, \r\n",
        "                              max_warp=0, \r\n",
        "                              p_affine=0.75, \r\n",
        "                              p_lighting=0.75, \r\n",
        "                              xtra_tfms=None, \r\n",
        "                              size=None, \r\n",
        "                              mode='bilinear',\r\n",
        "                            #   mode='nearest',\r\n",
        "                              pad_mode='border', # {'zeros': 'constant', 'border': 'edge', 'reflection': 'reflect'}\r\n",
        "                              align_corners=True, \r\n",
        "                              batch=False, \r\n",
        "                              min_scale=1.0)"
      ],
      "execution_count": 51,
      "outputs": []
    },
    {
      "cell_type": "code",
      "metadata": {
        "id": "eA3O9VZPDfeY"
      },
      "source": [
        "dblock = DataBlock(blocks=(ImageBlock(cls=PILImageBW), CategoryBlock),\r\n",
        "                   get_items=get_image_files,\r\n",
        "                   get_y=parent_label,\r\n",
        "                   splitter=RandomSplitter(seed=1988),\r\n",
        "                   batch_tfms=augmentation\r\n",
        "                   )"
      ],
      "execution_count": 52,
      "outputs": []
    },
    {
      "cell_type": "code",
      "metadata": {
        "id": "48yX8hpKDfbQ"
      },
      "source": [
        "dls = dblock.dataloaders(path/'training', bs=256)"
      ],
      "execution_count": 53,
      "outputs": []
    },
    {
      "cell_type": "code",
      "metadata": {
        "colab": {
          "base_uri": "https://localhost:8080/",
          "height": 700
        },
        "id": "ioQJp0yCHgwz",
        "outputId": "7daf9b6e-00f5-4161-afc1-980ac27bdf90"
      },
      "source": [
        "dls.show_batch(max_n=49, figsize=(12,12))"
      ],
      "execution_count": 54,
      "outputs": [
        {
          "output_type": "display_data",
          "data": {
            "image/png": "[encoded data removed]",
            "text/plain": [
              "<Figure size 864x864 with 49 Axes>"
            ]
          },
          "metadata": {
            "tags": [],
            "needs_background": "light"
          }
        }
      ]
    },
    {
      "cell_type": "code",
      "metadata": {
        "colab": {
          "base_uri": "https://localhost:8080/"
        },
        "id": "hYNb9olzDfYo",
        "outputId": "32c9d05e-eb76-41ab-80ef-07b138b2903f"
      },
      "source": [
        "dls.vocab"
      ],
      "execution_count": 37,
      "outputs": [
        {
          "output_type": "execute_result",
          "data": {
            "text/plain": [
              "['0', '1', '2', '3', '4', '5', '6', '7', '8', '9']"
            ]
          },
          "metadata": {
            "tags": []
          },
          "execution_count": 37
        }
      ]
    },
    {
      "cell_type": "code",
      "metadata": {
        "id": "g2fT3f-iDfVt"
      },
      "source": [
        "# dblock.summary(path)"
      ],
      "execution_count": null,
      "outputs": []
    },
    {
      "cell_type": "markdown",
      "metadata": {
        "id": "VwtXnHz6Ddxb"
      },
      "source": [
        "## Define Testset dataloader and metrics"
      ]
    },
    {
      "cell_type": "code",
      "metadata": {
        "id": "2HwXypgzDc3l"
      },
      "source": [
        "test_dls = dblock.dataloaders(path/'testing')\r\n",
        "test_dl = dls.test_dl(test_items=test_dls.items, with_labels=True)"
      ],
      "execution_count": 55,
      "outputs": []
    },
    {
      "cell_type": "code",
      "metadata": {
        "id": "puYAfuH7DcvE",
        "colab": {
          "base_uri": "https://localhost:8080/",
          "height": 700
        },
        "outputId": "57831dc9-b7be-4f34-8141-eb92aac8f298"
      },
      "source": [
        "test_dls.show_batch(max_n=36, figsize=(12,12))"
      ],
      "execution_count": 56,
      "outputs": [
        {
          "output_type": "display_data",
          "data": {
            "image/png": "[encoded data removed]",
            "text/plain": [
              "<Figure size 864x864 with 36 Axes>"
            ]
          },
          "metadata": {
            "tags": [],
            "needs_background": "light"
          }
        }
      ]
    },
    {
      "cell_type": "code",
      "metadata": {
        "id": "-urv3-i1vVB-"
      },
      "source": [
        "precision = Precision(average='macro')\r\n",
        "recall = Recall(average='macro')"
      ],
      "execution_count": 57,
      "outputs": []
    },
    {
      "cell_type": "markdown",
      "metadata": {
        "id": "U-MEcLdv6o6I"
      },
      "source": [
        "## Resnet 18  Pretrained"
      ]
    },
    {
      "cell_type": "code",
      "metadata": {
        "id": "9vb3iyIsDfSh",
        "colab": {
          "base_uri": "https://localhost:8080/",
          "height": 84,
          "referenced_widgets": [
            "552c4fb25de34a8fad2b46a3d112acf9",
            "80ddda2bf8f44d5e9995124d218b67b7",
            "3fe5e83a2da34c738656cca34a6bea12",
            "b814093b5f0d4f6099d789fcc580a9a2",
            "b6067ecba7554acc875073ed93c27673",
            "608cfa66c28e4701b7e0126e5380dd71",
            "67560280da324618a2dfe67b9159699b",
            "b68a7f164a5f49f8b62f01526826bc14"
          ]
        },
        "outputId": "c10b73dc-d040-4f71-c056-c4ce262dfa7f"
      },
      "source": [
        "learn_18 = cnn_learner(dls, resnet18, metrics=[error_rate, accuracy, precision, recall], pretrained=True)"
      ],
      "execution_count": 24,
      "outputs": [
        {
          "output_type": "stream",
          "text": [
            "Downloading: \"https://download.pytorch.org/models/resnet18-5c106cde.pth\" to /root/.cache/torch/hub/checkpoints/resnet18-5c106cde.pth\n"
          ],
          "name": "stderr"
        },
        {
          "output_type": "display_data",
          "data": {
            "application/vnd.jupyter.widget-view+json": {
              "model_id": "552c4fb25de34a8fad2b46a3d112acf9",
              "version_minor": 0,
              "version_major": 2
            },
            "text/plain": [
              "HBox(children=(FloatProgress(value=0.0, max=46827520.0), HTML(value='')))"
            ]
          },
          "metadata": {
            "tags": []
          }
        },
        {
          "output_type": "stream",
          "text": [
            "\n"
          ],
          "name": "stdout"
        }
      ]
    },
    {
      "cell_type": "code",
      "metadata": {
        "colab": {
          "base_uri": "https://localhost:8080/",
          "height": 301
        },
        "id": "M_qGB_d3DfOv",
        "outputId": "5cfbe0ea-ebea-427a-c092-39e0cb6b946a"
      },
      "source": [
        "learn_18.lr_find()"
      ],
      "execution_count": 25,
      "outputs": [
        {
          "output_type": "display_data",
          "data": {
            "text/html": [
              ""
            ],
            "text/plain": [
              "<IPython.core.display.HTML object>"
            ]
          },
          "metadata": {
            "tags": []
          }
        },
        {
          "output_type": "execute_result",
          "data": {
            "text/plain": [
              "SuggestedLRs(lr_min=0.05248074531555176, lr_steep=0.007585775572806597)"
            ]
          },
          "metadata": {
            "tags": []
          },
          "execution_count": 25
        },
        {
          "output_type": "display_data",
          "data": {
            "image/png": "[encoded data removed]",
            "text/plain": [
              "<Figure size 432x288 with 1 Axes>"
            ]
          },
          "metadata": {
            "tags": [],
            "needs_background": "light"
          }
        }
      ]
    },
    {
      "cell_type": "code",
      "metadata": {
        "colab": {
          "base_uri": "https://localhost:8080/",
          "height": 284
        },
        "id": "WBVmQf4zDfF3",
        "outputId": "e1f5ef88-f6bd-4cee-8213-49a8c040c68c"
      },
      "source": [
        "n = 8\r\n",
        "lr = 1e-2\r\n",
        "learn_18.fit_one_cycle(n_epoch=n, lr_max=lr)"
      ],
      "execution_count": 26,
      "outputs": [
        {
          "output_type": "display_data",
          "data": {
            "text/html": [
              "<table border=\"1\" class=\"dataframe\">\n",
              "  <thead>\n",
              "    <tr style=\"text-align: left;\">\n",
              "      <th>epoch</th>\n",
              "      <th>train_loss</th>\n",
              "      <th>valid_loss</th>\n",
              "      <th>error_rate</th>\n",
              "      <th>accuracy</th>\n",
              "      <th>precision_score</th>\n",
              "      <th>recall_score</th>\n",
              "      <th>time</th>\n",
              "    </tr>\n",
              "  </thead>\n",
              "  <tbody>\n",
              "    <tr>\n",
              "      <td>0</td>\n",
              "      <td>0.587803</td>\n",
              "      <td>0.225222</td>\n",
              "      <td>0.067833</td>\n",
              "      <td>0.932167</td>\n",
              "      <td>0.933957</td>\n",
              "      <td>0.931498</td>\n",
              "      <td>00:55</td>\n",
              "    </tr>\n",
              "    <tr>\n",
              "      <td>1</td>\n",
              "      <td>0.215280</td>\n",
              "      <td>0.133776</td>\n",
              "      <td>0.037417</td>\n",
              "      <td>0.962583</td>\n",
              "      <td>0.963282</td>\n",
              "      <td>0.962333</td>\n",
              "      <td>00:55</td>\n",
              "    </tr>\n",
              "    <tr>\n",
              "      <td>2</td>\n",
              "      <td>0.147358</td>\n",
              "      <td>0.070805</td>\n",
              "      <td>0.019083</td>\n",
              "      <td>0.980917</td>\n",
              "      <td>0.981004</td>\n",
              "      <td>0.980624</td>\n",
              "      <td>00:54</td>\n",
              "    </tr>\n",
              "    <tr>\n",
              "      <td>3</td>\n",
              "      <td>0.114209</td>\n",
              "      <td>0.081954</td>\n",
              "      <td>0.024250</td>\n",
              "      <td>0.975750</td>\n",
              "      <td>0.976173</td>\n",
              "      <td>0.975395</td>\n",
              "      <td>00:55</td>\n",
              "    </tr>\n",
              "    <tr>\n",
              "      <td>4</td>\n",
              "      <td>0.099834</td>\n",
              "      <td>0.061050</td>\n",
              "      <td>0.017833</td>\n",
              "      <td>0.982167</td>\n",
              "      <td>0.982320</td>\n",
              "      <td>0.981888</td>\n",
              "      <td>00:55</td>\n",
              "    </tr>\n",
              "    <tr>\n",
              "      <td>5</td>\n",
              "      <td>0.078227</td>\n",
              "      <td>0.040146</td>\n",
              "      <td>0.012167</td>\n",
              "      <td>0.987833</td>\n",
              "      <td>0.987872</td>\n",
              "      <td>0.987725</td>\n",
              "      <td>00:55</td>\n",
              "    </tr>\n",
              "    <tr>\n",
              "      <td>6</td>\n",
              "      <td>0.065872</td>\n",
              "      <td>0.042966</td>\n",
              "      <td>0.013667</td>\n",
              "      <td>0.986333</td>\n",
              "      <td>0.986462</td>\n",
              "      <td>0.986288</td>\n",
              "      <td>00:54</td>\n",
              "    </tr>\n",
              "    <tr>\n",
              "      <td>7</td>\n",
              "      <td>0.060254</td>\n",
              "      <td>0.038855</td>\n",
              "      <td>0.012833</td>\n",
              "      <td>0.987167</td>\n",
              "      <td>0.987279</td>\n",
              "      <td>0.987026</td>\n",
              "      <td>00:55</td>\n",
              "    </tr>\n",
              "  </tbody>\n",
              "</table>"
            ],
            "text/plain": [
              "<IPython.core.display.HTML object>"
            ]
          },
          "metadata": {
            "tags": []
          }
        }
      ]
    },
    {
      "cell_type": "markdown",
      "metadata": {
        "id": "P4oLWqkkwAu1"
      },
      "source": [
        "Results for dataloader without augmentation:\r\n",
        "\r\n",
        "| epoch | train_loss | valid_loss | error_rate | accuracy | precision_score | recall_score | time  |\r\n",
        "|-------|------------|------------|------------|----------|-----------------|--------------|-------|\r\n",
        "| 0     | 0.409579   | 0.171444   | 0.051917   | 0.948083 | 0.947772        | 0.947966     | 00:52 |\r\n",
        "| 1     | 0.138568   | 0.140069   | 0.040583   | 0.959417 | 0.960020        | 0.959577     | 00:51 |\r\n",
        "| 2     | 0.093107   | 0.151755   | 0.041333   | 0.958667 | 0.959541        | 0.959296     | 00:50 |\r\n",
        "| 3     | 0.070350   | 0.068100   | 0.017750   | 0.982250 | 0.982272        | 0.982171     | 00:50 |\r\n",
        "| 4     | 0.053668   | 0.054839   | 0.014417   | 0.985583 | 0.985631        | 0.985578     | 00:49 |\r\n",
        "| 5     | 0.035598   | 0.040150   | 0.010917   | 0.989083 | 0.989159        | 0.989073     | 00:49 |\r\n",
        "| 6     | 0.025495   | 0.040677   | 0.010167   | 0.989833 | 0.989855        | 0.989753     | 00:49 |\r\n",
        "| 7     | 0.015215   | 0.040784   | 0.009500   | 0.990500 | 0.990497        | 0.990430     | 00:50 |\r\n",
        "\r\n",
        "Results for dataloader with augmentation:\r\n",
        "\r\n",
        "| epoch | train_loss | valid_loss | error_rate | accuracy | precision_score | recall_score | time  |\r\n",
        "|-------|------------|------------|------------|----------|-----------------|--------------|-------|\r\n",
        "| 0     | 0.281269   | 0.156072   | 0.046917   | 0.953083 | 0.954461        | 0.952646     | 00:51 |\r\n",
        "| 1     | 0.112043   | 0.075744   | 0.022583   | 0.977417 | 0.977428        | 0.976989     | 00:51 |\r\n",
        "| 2     | 0.078653   | 0.052826   | 0.014917   | 0.985083 | 0.985192        | 0.984778     | 00:51 |\r\n",
        "| 3     | 0.060607   | 0.056665   | 0.015250   | 0.984750 | 0.985066        | 0.984336     | 00:51 |\r\n",
        "| 4     | 0.042045   | 0.054098   | 0.015417   | 0.984583 | 0.984736        | 0.984505     | 00:51 |\r\n",
        "| 5     | 0.027003   | 0.040291   | 0.010500   | 0.989500 | 0.989536        | 0.989372     | 00:51 |\r\n",
        "| 6     | 0.011142   | 0.029470   | 0.007417   | 0.992583 | 0.992556        | 0.992548     | 00:51 |\r\n",
        "| 7     | 0.005596   | 0.028730   | 0.007167   | 0.992833 | 0.992806        | 0.992759     | 00:51 |"
      ]
    },
    {
      "cell_type": "code",
      "metadata": {
        "colab": {
          "base_uri": "https://localhost:8080/",
          "height": 265
        },
        "id": "bigrG5HFYksx",
        "outputId": "44b6bdb0-3982-47a6-82c3-f953812e36d3"
      },
      "source": [
        "learn_18.recorder.plot_loss(skip_start=100)"
      ],
      "execution_count": 27,
      "outputs": [
        {
          "output_type": "display_data",
          "data": {
            "image/png": "[encoded data removed]",
            "text/plain": [
              "<Figure size 432x288 with 1 Axes>"
            ]
          },
          "metadata": {
            "tags": [],
            "needs_background": "light"
          }
        }
      ]
    },
    {
      "cell_type": "code",
      "metadata": {
        "colab": {
          "base_uri": "https://localhost:8080/",
          "height": 34
        },
        "id": "6f61Au0Un30t",
        "outputId": "00617546-29b0-425b-c111-8ee16999b8c1"
      },
      "source": [
        "learn_18.validate(dl=test_dl)"
      ],
      "execution_count": 28,
      "outputs": [
        {
          "output_type": "display_data",
          "data": {
            "text/html": [
              ""
            ],
            "text/plain": [
              "<IPython.core.display.HTML object>"
            ]
          },
          "metadata": {
            "tags": []
          }
        },
        {
          "output_type": "execute_result",
          "data": {
            "text/plain": [
              "(#5) [0.029335234314203262,0.00912499986588955,0.9908750057220459,0.9908797154533575,0.9908350920223237]"
            ]
          },
          "metadata": {
            "tags": []
          },
          "execution_count": 28
        }
      ]
    },
    {
      "cell_type": "markdown",
      "metadata": {
        "id": "gghAtlUR9BUz"
      },
      "source": [
        "With no augmentation\r\n",
        "\r\n",
        "| Metric | Value |\r\n",
        "|--------|-----:|\r\n",
        "| Error Rate | 0.008125 |\r\n",
        "| Accuracy |0.991875|\r\n",
        "| Precision | 0.991881|\r\n",
        "| Recall | 0.991857|\r\n",
        "\r\n",
        "With augmentation:\r\n",
        "\r\n",
        "| Metric | Value |\r\n",
        "|--------|-----:|\r\n",
        "| Error Rate | 0.009125\r\n",
        "| Accuracy | 0.990875\r\n",
        "| Precision | 0.990880\r\n",
        "| Recall | 0.990835"
      ]
    },
    {
      "cell_type": "markdown",
      "metadata": {
        "id": "RoF3JeHN6wJK"
      },
      "source": [
        "## Resnet 18  Untrained"
      ]
    },
    {
      "cell_type": "code",
      "metadata": {
        "id": "bAx1fWhI6w3z"
      },
      "source": [
        "learn_18_unt = cnn_learner(dls, \r\n",
        "                           resnet18, metrics=[error_rate, accuracy, precision, recall], \r\n",
        "                           pretrained=False\r\n",
        "                           )"
      ],
      "execution_count": 29,
      "outputs": []
    },
    {
      "cell_type": "code",
      "metadata": {
        "colab": {
          "base_uri": "https://localhost:8080/",
          "height": 301
        },
        "id": "O4IIHlFt6w0j",
        "outputId": "4b03ba89-3c44-4bf0-9bcd-7145f80961ff"
      },
      "source": [
        "learn_18_unt.lr_find()"
      ],
      "execution_count": 30,
      "outputs": [
        {
          "output_type": "display_data",
          "data": {
            "text/html": [
              ""
            ],
            "text/plain": [
              "<IPython.core.display.HTML object>"
            ]
          },
          "metadata": {
            "tags": []
          }
        },
        {
          "output_type": "execute_result",
          "data": {
            "text/plain": [
              "SuggestedLRs(lr_min=0.014454397559165954, lr_steep=0.0020892962347716093)"
            ]
          },
          "metadata": {
            "tags": []
          },
          "execution_count": 30
        },
        {
          "output_type": "display_data",
          "data": {
            "image/png": "[encoded data removed]",
            "text/plain": [
              "<Figure size 432x288 with 1 Axes>"
            ]
          },
          "metadata": {
            "tags": [],
            "needs_background": "light"
          }
        }
      ]
    },
    {
      "cell_type": "code",
      "metadata": {
        "colab": {
          "base_uri": "https://localhost:8080/",
          "height": 284
        },
        "id": "JvsbAIoc6wxj",
        "outputId": "5a85bb3c-d21c-41dd-cb27-25e33a21042f"
      },
      "source": [
        "n = 8\r\n",
        "lr = 2e-3\r\n",
        "learn_18_unt.fit_one_cycle(n_epoch=n, lr_max=lr)"
      ],
      "execution_count": 31,
      "outputs": [
        {
          "output_type": "display_data",
          "data": {
            "text/html": [
              "<table border=\"1\" class=\"dataframe\">\n",
              "  <thead>\n",
              "    <tr style=\"text-align: left;\">\n",
              "      <th>epoch</th>\n",
              "      <th>train_loss</th>\n",
              "      <th>valid_loss</th>\n",
              "      <th>error_rate</th>\n",
              "      <th>accuracy</th>\n",
              "      <th>precision_score</th>\n",
              "      <th>recall_score</th>\n",
              "      <th>time</th>\n",
              "    </tr>\n",
              "  </thead>\n",
              "  <tbody>\n",
              "    <tr>\n",
              "      <td>0</td>\n",
              "      <td>0.451950</td>\n",
              "      <td>0.293534</td>\n",
              "      <td>0.070167</td>\n",
              "      <td>0.929833</td>\n",
              "      <td>0.934617</td>\n",
              "      <td>0.930077</td>\n",
              "      <td>00:56</td>\n",
              "    </tr>\n",
              "    <tr>\n",
              "      <td>1</td>\n",
              "      <td>0.209920</td>\n",
              "      <td>0.157511</td>\n",
              "      <td>0.046417</td>\n",
              "      <td>0.953583</td>\n",
              "      <td>0.955947</td>\n",
              "      <td>0.953505</td>\n",
              "      <td>00:56</td>\n",
              "    </tr>\n",
              "    <tr>\n",
              "      <td>2</td>\n",
              "      <td>0.141694</td>\n",
              "      <td>0.171997</td>\n",
              "      <td>0.044833</td>\n",
              "      <td>0.955167</td>\n",
              "      <td>0.958470</td>\n",
              "      <td>0.954816</td>\n",
              "      <td>00:56</td>\n",
              "    </tr>\n",
              "    <tr>\n",
              "      <td>3</td>\n",
              "      <td>0.115787</td>\n",
              "      <td>0.105908</td>\n",
              "      <td>0.030500</td>\n",
              "      <td>0.969500</td>\n",
              "      <td>0.970300</td>\n",
              "      <td>0.969616</td>\n",
              "      <td>00:56</td>\n",
              "    </tr>\n",
              "    <tr>\n",
              "      <td>4</td>\n",
              "      <td>0.092771</td>\n",
              "      <td>0.051511</td>\n",
              "      <td>0.014583</td>\n",
              "      <td>0.985417</td>\n",
              "      <td>0.985440</td>\n",
              "      <td>0.985379</td>\n",
              "      <td>00:56</td>\n",
              "    </tr>\n",
              "    <tr>\n",
              "      <td>5</td>\n",
              "      <td>0.061399</td>\n",
              "      <td>0.037154</td>\n",
              "      <td>0.010917</td>\n",
              "      <td>0.989083</td>\n",
              "      <td>0.989066</td>\n",
              "      <td>0.989119</td>\n",
              "      <td>00:57</td>\n",
              "    </tr>\n",
              "    <tr>\n",
              "      <td>6</td>\n",
              "      <td>0.044307</td>\n",
              "      <td>0.026106</td>\n",
              "      <td>0.006750</td>\n",
              "      <td>0.993250</td>\n",
              "      <td>0.993149</td>\n",
              "      <td>0.993251</td>\n",
              "      <td>00:56</td>\n",
              "    </tr>\n",
              "    <tr>\n",
              "      <td>7</td>\n",
              "      <td>0.030072</td>\n",
              "      <td>0.023031</td>\n",
              "      <td>0.006000</td>\n",
              "      <td>0.994000</td>\n",
              "      <td>0.993958</td>\n",
              "      <td>0.993945</td>\n",
              "      <td>00:56</td>\n",
              "    </tr>\n",
              "  </tbody>\n",
              "</table>"
            ],
            "text/plain": [
              "<IPython.core.display.HTML object>"
            ]
          },
          "metadata": {
            "tags": []
          }
        }
      ]
    },
    {
      "cell_type": "markdown",
      "metadata": {
        "id": "0kNXXpq-wrBE"
      },
      "source": [
        "Results without augmentation:\r\n",
        "\r\n",
        "| epoch | train_loss | valid_loss | error_rate | accuracy | precision_score | recall_score | time  |\r\n",
        "|-------|------------|------------|------------|----------|-----------------|--------------|-------|\r\n",
        "| 0     | 0.281269   | 0.156072   | 0.046917   | 0.953083 | 0.954461        | 0.952646     | 00:51 |\r\n",
        "| 1     | 0.112043   | 0.075744   | 0.022583   | 0.977417 | 0.977428        | 0.976989     | 00:51 |\r\n",
        "| 2     | 0.078653   | 0.052826   | 0.014917   | 0.985083 | 0.985192        | 0.984778     | 00:51 |\r\n",
        "| 3     | 0.060607   | 0.056665   | 0.015250   | 0.984750 | 0.985066        | 0.984336     | 00:51 |\r\n",
        "| 4     | 0.042045   | 0.054098   | 0.015417   | 0.984583 | 0.984736        | 0.984505     | 00:51 |\r\n",
        "| 5     | 0.027003   | 0.040291   | 0.010500   | 0.989500 | 0.989536        | 0.989372     | 00:51 |\r\n",
        "| 6     | 0.011142   | 0.029470   | 0.007417   | 0.992583 | 0.992556        | 0.992548     | 00:51 |\r\n",
        "| 7     | 0.005596   | 0.028730   | 0.007167   | 0.992833 | 0.992806        | 0.992759     | 00:51 |\r\n",
        "\r\n",
        "Results with augmentation\r\n",
        "\r\n",
        "| epoch | train_loss | valid_loss | error_rate | accuracy | precision_score | recall_score | time  |\r\n",
        "|-------|------------|------------|------------|----------|-----------------|--------------|-------|\r\n",
        "| 0     | 0.451950   | 0.293534   | 0.070167   | 0.929833 | 0.934617        | 0.930077     | 00:56 |\r\n",
        "| 1     | 0.209920   | 0.157511   | 0.046417   | 0.953583 | 0.955947        | 0.953505     | 00:56 |\r\n",
        "| 2     | 0.141694   | 0.171997   | 0.044833   | 0.955167 | 0.958470        | 0.954816     | 00:56 |\r\n",
        "| 3     | 0.115787   | 0.105908   | 0.030500   | 0.969500 | 0.970300        | 0.969616     | 00:56 |\r\n",
        "| 4     | 0.092771   | 0.051511   | 0.014583   | 0.985417 | 0.985440        | 0.985379     | 00:56 |\r\n",
        "| 5     | 0.061399   | 0.037154   | 0.010917   | 0.989083 | 0.989066        | 0.989119     | 00:57 |\r\n",
        "| 6     | 0.044307   | 0.026106   | 0.006750   | 0.993250 | 0.993149        | 0.993251     | 00:56 |\r\n",
        "| 7     | 0.030072   | 0.023031   | 0.006000   | 0.994000 | 0.993958        | 0.993945     | 00:56 |"
      ]
    },
    {
      "cell_type": "code",
      "metadata": {
        "colab": {
          "base_uri": "https://localhost:8080/",
          "height": 265
        },
        "id": "yrSVOJGx6wuq",
        "outputId": "c5f48e1b-41d1-4285-9097-eb6e7cad13f1"
      },
      "source": [
        "learn_18_unt.recorder.plot_loss(skip_start=100)"
      ],
      "execution_count": 32,
      "outputs": [
        {
          "output_type": "display_data",
          "data": {
            "image/png": "[encoded data removed]",
            "text/plain": [
              "<Figure size 432x288 with 1 Axes>"
            ]
          },
          "metadata": {
            "tags": [],
            "needs_background": "light"
          }
        }
      ]
    },
    {
      "cell_type": "code",
      "metadata": {
        "colab": {
          "base_uri": "https://localhost:8080/",
          "height": 34
        },
        "id": "taa5Tved6wrz",
        "outputId": "79aa18c5-739f-495c-d05c-d1b1ac8bbfbb"
      },
      "source": [
        "learn_18_unt.validate(dl=test_dl)"
      ],
      "execution_count": 33,
      "outputs": [
        {
          "output_type": "display_data",
          "data": {
            "text/html": [
              ""
            ],
            "text/plain": [
              "<IPython.core.display.HTML object>"
            ]
          },
          "metadata": {
            "tags": []
          }
        },
        {
          "output_type": "execute_result",
          "data": {
            "text/plain": [
              "(#5) [0.01865571364760399,0.005874999798834324,0.9941250085830688,0.9941249993639486,0.9940353536788195]"
            ]
          },
          "metadata": {
            "tags": []
          },
          "execution_count": 33
        }
      ]
    },
    {
      "cell_type": "markdown",
      "metadata": {
        "id": "gEu80qdK-U5r"
      },
      "source": [
        "Without augmentation:\r\n",
        "\r\n",
        "| Metric | Value |\r\n",
        "|--------|-----:|\r\n",
        "| Error Rate | 0.0067500\r\n",
        "| Accuracy | 0.9932500\r\n",
        "| Precision | 0.9932891\r\n",
        "| Recall | 0.9931777\r\n",
        "\r\n",
        "With augmentation:\r\n",
        "\r\n",
        "| Metric | Value |\r\n",
        "|--------|-----:|\r\n",
        "| Error Rate | 0.00587500\r\n",
        "| Accuracy | 0.99412501\r\n",
        "| Precision | 0.99412500\r\n",
        "| Recall | 0.99403535"
      ]
    },
    {
      "cell_type": "markdown",
      "metadata": {
        "id": "fD6hHI4p8MpS"
      },
      "source": [
        "## Resnet 34 Pretrained"
      ]
    },
    {
      "cell_type": "code",
      "metadata": {
        "id": "ykb5g9MCQ2xy"
      },
      "source": [
        "learn_34 = cnn_learner(dls, resnet34, metrics=[error_rate, accuracy, precision, recall], pretrained=True)"
      ],
      "execution_count": null,
      "outputs": []
    },
    {
      "cell_type": "code",
      "metadata": {
        "colab": {
          "base_uri": "https://localhost:8080/",
          "height": 301
        },
        "id": "-NuWWC75RAFB",
        "outputId": "0971b009-603e-4f0b-d852-8f7b7b1e6bab"
      },
      "source": [
        "learn_34.lr_find()"
      ],
      "execution_count": null,
      "outputs": [
        {
          "output_type": "display_data",
          "data": {
            "text/html": [
              ""
            ],
            "text/plain": [
              "<IPython.core.display.HTML object>"
            ]
          },
          "metadata": {
            "tags": []
          }
        },
        {
          "output_type": "execute_result",
          "data": {
            "text/plain": [
              "SuggestedLRs(lr_min=0.04365158379077912, lr_steep=0.013182567432522774)"
            ]
          },
          "metadata": {
            "tags": []
          },
          "execution_count": 203
        },
        {
          "output_type": "display_data",
          "data": {
            "image/png": "[encoded data removed]",
            "text/plain": [
              "<Figure size 432x288 with 1 Axes>"
            ]
          },
          "metadata": {
            "tags": [],
            "needs_background": "light"
          }
        }
      ]
    },
    {
      "cell_type": "code",
      "metadata": {
        "colab": {
          "base_uri": "https://localhost:8080/",
          "height": 284
        },
        "id": "R9FqrXAmYV05",
        "outputId": "cca2dc84-71c7-4b2a-d79e-1ed6383a0031"
      },
      "source": [
        "n = 8\r\n",
        "lr = 1e-2\r\n",
        "learn_34.fit_one_cycle(n_epoch=n, lr_max=lr)"
      ],
      "execution_count": null,
      "outputs": [
        {
          "output_type": "display_data",
          "data": {
            "text/html": [
              "<table border=\"1\" class=\"dataframe\">\n",
              "  <thead>\n",
              "    <tr style=\"text-align: left;\">\n",
              "      <th>epoch</th>\n",
              "      <th>train_loss</th>\n",
              "      <th>valid_loss</th>\n",
              "      <th>error_rate</th>\n",
              "      <th>accuracy</th>\n",
              "      <th>precision_score</th>\n",
              "      <th>recall_score</th>\n",
              "      <th>time</th>\n",
              "    </tr>\n",
              "  </thead>\n",
              "  <tbody>\n",
              "    <tr>\n",
              "      <td>0</td>\n",
              "      <td>0.368139</td>\n",
              "      <td>0.167955</td>\n",
              "      <td>0.050250</td>\n",
              "      <td>0.949750</td>\n",
              "      <td>0.950084</td>\n",
              "      <td>0.949740</td>\n",
              "      <td>00:56</td>\n",
              "    </tr>\n",
              "    <tr>\n",
              "      <td>1</td>\n",
              "      <td>0.127198</td>\n",
              "      <td>0.129974</td>\n",
              "      <td>0.037500</td>\n",
              "      <td>0.962500</td>\n",
              "      <td>0.964245</td>\n",
              "      <td>0.961122</td>\n",
              "      <td>00:55</td>\n",
              "    </tr>\n",
              "    <tr>\n",
              "      <td>2</td>\n",
              "      <td>0.089532</td>\n",
              "      <td>0.125045</td>\n",
              "      <td>0.034750</td>\n",
              "      <td>0.965250</td>\n",
              "      <td>0.966986</td>\n",
              "      <td>0.964015</td>\n",
              "      <td>00:56</td>\n",
              "    </tr>\n",
              "    <tr>\n",
              "      <td>3</td>\n",
              "      <td>0.068741</td>\n",
              "      <td>0.072835</td>\n",
              "      <td>0.021833</td>\n",
              "      <td>0.978167</td>\n",
              "      <td>0.978542</td>\n",
              "      <td>0.978169</td>\n",
              "      <td>00:55</td>\n",
              "    </tr>\n",
              "    <tr>\n",
              "      <td>4</td>\n",
              "      <td>0.048072</td>\n",
              "      <td>0.049588</td>\n",
              "      <td>0.013083</td>\n",
              "      <td>0.986917</td>\n",
              "      <td>0.987393</td>\n",
              "      <td>0.986802</td>\n",
              "      <td>00:56</td>\n",
              "    </tr>\n",
              "    <tr>\n",
              "      <td>5</td>\n",
              "      <td>0.031072</td>\n",
              "      <td>0.038731</td>\n",
              "      <td>0.009083</td>\n",
              "      <td>0.990917</td>\n",
              "      <td>0.991010</td>\n",
              "      <td>0.990727</td>\n",
              "      <td>00:56</td>\n",
              "    </tr>\n",
              "    <tr>\n",
              "      <td>6</td>\n",
              "      <td>0.017881</td>\n",
              "      <td>0.031832</td>\n",
              "      <td>0.007750</td>\n",
              "      <td>0.992250</td>\n",
              "      <td>0.992271</td>\n",
              "      <td>0.992135</td>\n",
              "      <td>00:56</td>\n",
              "    </tr>\n",
              "    <tr>\n",
              "      <td>7</td>\n",
              "      <td>0.011673</td>\n",
              "      <td>0.030884</td>\n",
              "      <td>0.007167</td>\n",
              "      <td>0.992833</td>\n",
              "      <td>0.992831</td>\n",
              "      <td>0.992728</td>\n",
              "      <td>00:55</td>\n",
              "    </tr>\n",
              "  </tbody>\n",
              "</table>"
            ],
            "text/plain": [
              "<IPython.core.display.HTML object>"
            ]
          },
          "metadata": {
            "tags": []
          }
        }
      ]
    },
    {
      "cell_type": "code",
      "metadata": {
        "colab": {
          "base_uri": "https://localhost:8080/",
          "height": 265
        },
        "id": "4DQ7wYTvYVua",
        "outputId": "fb8150ae-1ca4-451e-897e-90891a596494"
      },
      "source": [
        "learn_34.recorder.plot_loss(skip_start=100)"
      ],
      "execution_count": null,
      "outputs": [
        {
          "output_type": "display_data",
          "data": {
            "image/png": "[encoded data removed]",
            "text/plain": [
              "<Figure size 432x288 with 1 Axes>"
            ]
          },
          "metadata": {
            "tags": [],
            "needs_background": "light"
          }
        }
      ]
    },
    {
      "cell_type": "code",
      "metadata": {
        "colab": {
          "base_uri": "https://localhost:8080/",
          "height": 34
        },
        "id": "-N8-63E-r5hm",
        "outputId": "6c72918d-e4d8-4944-af95-55b1bfac6654"
      },
      "source": [
        "learn_34.validate(dl=test_dl)"
      ],
      "execution_count": null,
      "outputs": [
        {
          "output_type": "display_data",
          "data": {
            "text/html": [
              ""
            ],
            "text/plain": [
              "<IPython.core.display.HTML object>"
            ]
          },
          "metadata": {
            "tags": []
          }
        },
        {
          "output_type": "execute_result",
          "data": {
            "text/plain": [
              "(#5) [0.021880125626921654,0.00787500012665987,0.9921249747276306,0.9921124563875956,0.9920476920599901]"
            ]
          },
          "metadata": {
            "tags": []
          },
          "execution_count": 206
        }
      ]
    },
    {
      "cell_type": "markdown",
      "metadata": {
        "id": "Kbc7NC-r_KaU"
      },
      "source": [
        "| Metric | Value |\r\n",
        "|--------|-----:|\r\n",
        "| Error Rate | 0.00787500\r\n",
        "| Accuracy | 0.99212497\r\n",
        "| Precision | 0.99211246\r\n",
        "| Recall | 0.99204769"
      ]
    },
    {
      "cell_type": "code",
      "metadata": {
        "id": "lHkcqZ4KYVe8"
      },
      "source": [
        "learn_34.unfreeze()"
      ],
      "execution_count": null,
      "outputs": []
    },
    {
      "cell_type": "code",
      "metadata": {
        "colab": {
          "base_uri": "https://localhost:8080/",
          "height": 304
        },
        "id": "tu6WElztgyk6",
        "outputId": "d65acc1a-ec0d-4e3f-8b39-1432823e632a"
      },
      "source": [
        "learn_34.lr_find()"
      ],
      "execution_count": null,
      "outputs": [
        {
          "output_type": "display_data",
          "data": {
            "text/html": [
              ""
            ],
            "text/plain": [
              "<IPython.core.display.HTML object>"
            ]
          },
          "metadata": {
            "tags": []
          }
        },
        {
          "output_type": "execute_result",
          "data": {
            "text/plain": [
              "SuggestedLRs(lr_min=9.12010818865383e-08, lr_steep=3.981071586167673e-06)"
            ]
          },
          "metadata": {
            "tags": []
          },
          "execution_count": 209
        },
        {
          "output_type": "display_data",
          "data": {
            "image/png": "[encoded data removed]",
            "text/plain": [
              "<Figure size 432x288 with 1 Axes>"
            ]
          },
          "metadata": {
            "tags": [],
            "needs_background": "light"
          }
        }
      ]
    },
    {
      "cell_type": "code",
      "metadata": {
        "colab": {
          "base_uri": "https://localhost:8080/",
          "height": 343
        },
        "id": "UnhM0Rq6gybD",
        "outputId": "87d53d2f-b7a0-4ab3-cd11-d729ba63f162"
      },
      "source": [
        "n = 10\r\n",
        "lr = 5e-7\r\n",
        "learn_34.fit_one_cycle(n_epoch=n, lr_max=lr)"
      ],
      "execution_count": null,
      "outputs": [
        {
          "output_type": "display_data",
          "data": {
            "text/html": [
              "<table border=\"1\" class=\"dataframe\">\n",
              "  <thead>\n",
              "    <tr style=\"text-align: left;\">\n",
              "      <th>epoch</th>\n",
              "      <th>train_loss</th>\n",
              "      <th>valid_loss</th>\n",
              "      <th>error_rate</th>\n",
              "      <th>accuracy</th>\n",
              "      <th>precision_score</th>\n",
              "      <th>recall_score</th>\n",
              "      <th>time</th>\n",
              "    </tr>\n",
              "  </thead>\n",
              "  <tbody>\n",
              "    <tr>\n",
              "      <td>0</td>\n",
              "      <td>0.009512</td>\n",
              "      <td>0.030438</td>\n",
              "      <td>0.006917</td>\n",
              "      <td>0.993083</td>\n",
              "      <td>0.993099</td>\n",
              "      <td>0.992969</td>\n",
              "      <td>01:00</td>\n",
              "    </tr>\n",
              "    <tr>\n",
              "      <td>1</td>\n",
              "      <td>0.009969</td>\n",
              "      <td>0.030400</td>\n",
              "      <td>0.007333</td>\n",
              "      <td>0.992667</td>\n",
              "      <td>0.992706</td>\n",
              "      <td>0.992521</td>\n",
              "      <td>00:58</td>\n",
              "    </tr>\n",
              "    <tr>\n",
              "      <td>2</td>\n",
              "      <td>0.010843</td>\n",
              "      <td>0.030063</td>\n",
              "      <td>0.006833</td>\n",
              "      <td>0.993167</td>\n",
              "      <td>0.993175</td>\n",
              "      <td>0.993063</td>\n",
              "      <td>00:59</td>\n",
              "    </tr>\n",
              "    <tr>\n",
              "      <td>3</td>\n",
              "      <td>0.009818</td>\n",
              "      <td>0.030025</td>\n",
              "      <td>0.007000</td>\n",
              "      <td>0.993000</td>\n",
              "      <td>0.993010</td>\n",
              "      <td>0.992887</td>\n",
              "      <td>00:59</td>\n",
              "    </tr>\n",
              "    <tr>\n",
              "      <td>4</td>\n",
              "      <td>0.008848</td>\n",
              "      <td>0.030471</td>\n",
              "      <td>0.007083</td>\n",
              "      <td>0.992917</td>\n",
              "      <td>0.992932</td>\n",
              "      <td>0.992816</td>\n",
              "      <td>00:59</td>\n",
              "    </tr>\n",
              "    <tr>\n",
              "      <td>5</td>\n",
              "      <td>0.008581</td>\n",
              "      <td>0.030649</td>\n",
              "      <td>0.007250</td>\n",
              "      <td>0.992750</td>\n",
              "      <td>0.992786</td>\n",
              "      <td>0.992606</td>\n",
              "      <td>00:58</td>\n",
              "    </tr>\n",
              "    <tr>\n",
              "      <td>6</td>\n",
              "      <td>0.008628</td>\n",
              "      <td>0.030191</td>\n",
              "      <td>0.007250</td>\n",
              "      <td>0.992750</td>\n",
              "      <td>0.992784</td>\n",
              "      <td>0.992632</td>\n",
              "      <td>00:59</td>\n",
              "    </tr>\n",
              "    <tr>\n",
              "      <td>7</td>\n",
              "      <td>0.008571</td>\n",
              "      <td>0.030379</td>\n",
              "      <td>0.006833</td>\n",
              "      <td>0.993167</td>\n",
              "      <td>0.993189</td>\n",
              "      <td>0.993030</td>\n",
              "      <td>00:59</td>\n",
              "    </tr>\n",
              "    <tr>\n",
              "      <td>8</td>\n",
              "      <td>0.007604</td>\n",
              "      <td>0.030400</td>\n",
              "      <td>0.007083</td>\n",
              "      <td>0.992917</td>\n",
              "      <td>0.992955</td>\n",
              "      <td>0.992764</td>\n",
              "      <td>00:59</td>\n",
              "    </tr>\n",
              "    <tr>\n",
              "      <td>9</td>\n",
              "      <td>0.009241</td>\n",
              "      <td>0.030837</td>\n",
              "      <td>0.006917</td>\n",
              "      <td>0.993083</td>\n",
              "      <td>0.993147</td>\n",
              "      <td>0.992917</td>\n",
              "      <td>00:58</td>\n",
              "    </tr>\n",
              "  </tbody>\n",
              "</table>"
            ],
            "text/plain": [
              "<IPython.core.display.HTML object>"
            ]
          },
          "metadata": {
            "tags": []
          }
        }
      ]
    },
    {
      "cell_type": "code",
      "metadata": {
        "colab": {
          "base_uri": "https://localhost:8080/",
          "height": 265
        },
        "id": "ZdahwSiZg_EL",
        "outputId": "778ff776-c410-4b95-c87e-d0f001abc964"
      },
      "source": [
        "learn_34.recorder.plot_loss(skip_start=10)"
      ],
      "execution_count": null,
      "outputs": [
        {
          "output_type": "display_data",
          "data": {
            "image/png": "[encoded data removed]",
            "text/plain": [
              "<Figure size 432x288 with 1 Axes>"
            ]
          },
          "metadata": {
            "tags": [],
            "needs_background": "light"
          }
        }
      ]
    },
    {
      "cell_type": "code",
      "metadata": {
        "colab": {
          "base_uri": "https://localhost:8080/",
          "height": 34
        },
        "id": "uBadjwb-g-6I",
        "outputId": "2dd5b4db-1c4c-4fe7-c325-4ae3983d6354"
      },
      "source": [
        "learn_34.validate(dl=test_dl)"
      ],
      "execution_count": null,
      "outputs": [
        {
          "output_type": "display_data",
          "data": {
            "text/html": [
              ""
            ],
            "text/plain": [
              "<IPython.core.display.HTML object>"
            ]
          },
          "metadata": {
            "tags": []
          }
        },
        {
          "output_type": "execute_result",
          "data": {
            "text/plain": [
              "(#5) [0.020970115438103676,0.007249999791383743,0.9927499890327454,0.992786805523178,0.9926656570580338]"
            ]
          },
          "metadata": {
            "tags": []
          },
          "execution_count": 214
        }
      ]
    },
    {
      "cell_type": "markdown",
      "metadata": {
        "id": "4u0BdUrq-XFC"
      },
      "source": [
        "| Metric | Value |\r\n",
        "|--------|-----:|\r\n",
        "| Error Rate | 0.00787500\r\n",
        "| Accuracy | 0.99212497\r\n",
        "| Precision | 0.99211246\r\n",
        "| Recall | 0.99204769"
      ]
    },
    {
      "cell_type": "markdown",
      "metadata": {
        "id": "NjGzhMjH_wZs"
      },
      "source": [
        "## Resnet 34 Untrained"
      ]
    },
    {
      "cell_type": "code",
      "metadata": {
        "id": "sGN2mo0V_xD-"
      },
      "source": [
        "learn_34_unt = cnn_learner(dls, resnet34, metrics=[error_rate, accuracy, precision, recall], pretrained=False)"
      ],
      "execution_count": 56,
      "outputs": []
    },
    {
      "cell_type": "code",
      "metadata": {
        "colab": {
          "base_uri": "https://localhost:8080/",
          "height": 301
        },
        "id": "lTBbSqe4_xL7",
        "outputId": "dd931266-934b-4ec0-cb0e-21b10ecfad55"
      },
      "source": [
        "learn_34_unt.lr_find()"
      ],
      "execution_count": 41,
      "outputs": [
        {
          "output_type": "display_data",
          "data": {
            "text/html": [
              ""
            ],
            "text/plain": [
              "<IPython.core.display.HTML object>"
            ]
          },
          "metadata": {
            "tags": []
          }
        },
        {
          "output_type": "execute_result",
          "data": {
            "text/plain": [
              "SuggestedLRs(lr_min=0.03630780577659607, lr_steep=0.0030199517495930195)"
            ]
          },
          "metadata": {
            "tags": []
          },
          "execution_count": 41
        },
        {
          "output_type": "display_data",
          "data": {
            "image/png": "[encoded data removed]",
            "text/plain": [
              "<Figure size 432x288 with 1 Axes>"
            ]
          },
          "metadata": {
            "tags": [],
            "needs_background": "light"
          }
        }
      ]
    },
    {
      "cell_type": "code",
      "metadata": {
        "colab": {
          "base_uri": "https://localhost:8080/",
          "height": 402
        },
        "id": "-tdC72mV_xJb",
        "outputId": "718f70d8-b0aa-4ffc-ad82-f9c306202562"
      },
      "source": [
        "n = 12\r\n",
        "lr = 5e-3\r\n",
        "learn_34_unt.fit_one_cycle(n_epoch=n, lr_max=lr)"
      ],
      "execution_count": 42,
      "outputs": [
        {
          "output_type": "display_data",
          "data": {
            "text/html": [
              "<table border=\"1\" class=\"dataframe\">\n",
              "  <thead>\n",
              "    <tr style=\"text-align: left;\">\n",
              "      <th>epoch</th>\n",
              "      <th>train_loss</th>\n",
              "      <th>valid_loss</th>\n",
              "      <th>error_rate</th>\n",
              "      <th>accuracy</th>\n",
              "      <th>precision_score</th>\n",
              "      <th>recall_score</th>\n",
              "      <th>time</th>\n",
              "    </tr>\n",
              "  </thead>\n",
              "  <tbody>\n",
              "    <tr>\n",
              "      <td>0</td>\n",
              "      <td>0.434923</td>\n",
              "      <td>0.204655</td>\n",
              "      <td>0.056417</td>\n",
              "      <td>0.943583</td>\n",
              "      <td>0.948386</td>\n",
              "      <td>0.943349</td>\n",
              "      <td>01:00</td>\n",
              "    </tr>\n",
              "    <tr>\n",
              "      <td>1</td>\n",
              "      <td>0.203476</td>\n",
              "      <td>0.492449</td>\n",
              "      <td>0.142417</td>\n",
              "      <td>0.857583</td>\n",
              "      <td>0.897650</td>\n",
              "      <td>0.858080</td>\n",
              "      <td>01:00</td>\n",
              "    </tr>\n",
              "    <tr>\n",
              "      <td>2</td>\n",
              "      <td>0.181186</td>\n",
              "      <td>0.173188</td>\n",
              "      <td>0.041250</td>\n",
              "      <td>0.958750</td>\n",
              "      <td>0.959990</td>\n",
              "      <td>0.959058</td>\n",
              "      <td>01:00</td>\n",
              "    </tr>\n",
              "    <tr>\n",
              "      <td>3</td>\n",
              "      <td>0.141588</td>\n",
              "      <td>0.228250</td>\n",
              "      <td>0.066500</td>\n",
              "      <td>0.933500</td>\n",
              "      <td>0.939748</td>\n",
              "      <td>0.933744</td>\n",
              "      <td>00:59</td>\n",
              "    </tr>\n",
              "    <tr>\n",
              "      <td>4</td>\n",
              "      <td>0.122586</td>\n",
              "      <td>0.083044</td>\n",
              "      <td>0.024917</td>\n",
              "      <td>0.975083</td>\n",
              "      <td>0.975605</td>\n",
              "      <td>0.975126</td>\n",
              "      <td>01:00</td>\n",
              "    </tr>\n",
              "    <tr>\n",
              "      <td>5</td>\n",
              "      <td>0.100340</td>\n",
              "      <td>0.081758</td>\n",
              "      <td>0.023833</td>\n",
              "      <td>0.976167</td>\n",
              "      <td>0.976255</td>\n",
              "      <td>0.976230</td>\n",
              "      <td>00:59</td>\n",
              "    </tr>\n",
              "    <tr>\n",
              "      <td>6</td>\n",
              "      <td>0.080325</td>\n",
              "      <td>0.042493</td>\n",
              "      <td>0.011833</td>\n",
              "      <td>0.988167</td>\n",
              "      <td>0.988165</td>\n",
              "      <td>0.988201</td>\n",
              "      <td>00:59</td>\n",
              "    </tr>\n",
              "    <tr>\n",
              "      <td>7</td>\n",
              "      <td>0.065300</td>\n",
              "      <td>0.050322</td>\n",
              "      <td>0.013750</td>\n",
              "      <td>0.986250</td>\n",
              "      <td>0.986360</td>\n",
              "      <td>0.986087</td>\n",
              "      <td>00:59</td>\n",
              "    </tr>\n",
              "    <tr>\n",
              "      <td>8</td>\n",
              "      <td>0.048775</td>\n",
              "      <td>0.033287</td>\n",
              "      <td>0.009667</td>\n",
              "      <td>0.990333</td>\n",
              "      <td>0.990488</td>\n",
              "      <td>0.990173</td>\n",
              "      <td>00:59</td>\n",
              "    </tr>\n",
              "    <tr>\n",
              "      <td>9</td>\n",
              "      <td>0.035085</td>\n",
              "      <td>0.023485</td>\n",
              "      <td>0.006833</td>\n",
              "      <td>0.993167</td>\n",
              "      <td>0.993230</td>\n",
              "      <td>0.993121</td>\n",
              "      <td>00:59</td>\n",
              "    </tr>\n",
              "    <tr>\n",
              "      <td>10</td>\n",
              "      <td>0.025312</td>\n",
              "      <td>0.020328</td>\n",
              "      <td>0.005917</td>\n",
              "      <td>0.994083</td>\n",
              "      <td>0.994074</td>\n",
              "      <td>0.994052</td>\n",
              "      <td>00:59</td>\n",
              "    </tr>\n",
              "    <tr>\n",
              "      <td>11</td>\n",
              "      <td>0.024283</td>\n",
              "      <td>0.019765</td>\n",
              "      <td>0.005500</td>\n",
              "      <td>0.994500</td>\n",
              "      <td>0.994496</td>\n",
              "      <td>0.994458</td>\n",
              "      <td>01:00</td>\n",
              "    </tr>\n",
              "  </tbody>\n",
              "</table>"
            ],
            "text/plain": [
              "<IPython.core.display.HTML object>"
            ]
          },
          "metadata": {
            "tags": []
          }
        }
      ]
    },
    {
      "cell_type": "markdown",
      "metadata": {
        "id": "lA0L_Mai1nzS"
      },
      "source": [
        "Results witout augmentation:\r\n",
        "\r\n",
        "| epoch | train_loss | valid_loss | error_rate | accuracy | precision_score | recall_score | time  |\r\n",
        "|-------|------------|------------|------------|----------|-----------------|--------------|-------|\r\n",
        "| 0     | 0.039619   | 0.112828   | 0.030000   | 0.970000 | 0.971269        | 0.970083     | 00:55 |\r\n",
        "| 1     | 0.064647   | 0.080043   | 0.021500   | 0.978500 | 0.978347        | 0.978670     | 00:55 |\r\n",
        "| 2     | 0.047435   | 0.054005   | 0.014250   | 0.985750 | 0.985919        | 0.985624     | 00:55 |\r\n",
        "| 3     | 0.039049   | 0.062228   | 0.014083   | 0.985917 | 0.986261        | 0.985824     | 00:55 |\r\n",
        "| 4     | 0.022147   | 0.028577   | 0.007667   | 0.992333 | 0.992278        | 0.992295     | 00:55 |\r\n",
        "| 5     | 0.011803   | 0.025830   | 0.006583   | 0.993417 | 0.993452        | 0.993354     | 00:55 |\r\n",
        "| 6     | 0.006023   | 0.026232   | 0.005667   | 0.994333 | 0.994374        | 0.994267     | 00:55 |\r\n",
        "| 7     | 0.002737   | 0.024292   | 0.005583   | 0.994417 | 0.994437        | 0.994346     | 00:55 |\r\n",
        "\r\n",
        "Results with augmentation:\r\n",
        "\r\n",
        "| epoch | train_loss | valid_loss | error_rate | accuracy | precision_score | recall_score | time  |\r\n",
        "|-------|------------|------------|------------|----------|-----------------|--------------|-------|\r\n",
        "| 0     | 0.419716   | 0.214317   | 0.060583   | 0.939417 | 0.942483        | 0.938733     | 01:00 |\r\n",
        "| 1     | 0.216846   | 0.299122   | 0.071500   | 0.928500 | 0.934034        | 0.927810     | 01:00 |\r\n",
        "| 2     | 0.151916   | 0.144922   | 0.037583   | 0.962417 | 0.963831        | 0.962474     | 01:00 |\r\n",
        "| 3     | 0.130369   | 0.160243   | 0.040667   | 0.959333 | 0.961333        | 0.959479     | 00:59 |\r\n",
        "| 4     | 0.105945   | 0.053418   | 0.014750   | 0.985250 | 0.985487        | 0.984934     | 00:59 |\r\n",
        "| 5     | 0.069260   | 0.056563   | 0.015500   | 0.984500 | 0.984772        | 0.984540     | 00:59 |\r\n",
        "| 6     | 0.043437   | 0.025455   | 0.006833   | 0.993167 | 0.993140        | 0.993200     | 00:59 |\r\n",
        "| 7     | 0.035656   | 0.021499   | 0.006000   | 0.994000 | 0.993988        | 0.994029     | 00:59 |\r\n",
        "\r\n",
        "\r\n",
        "Results with augmentation:\r\n",
        "\r\n",
        "| epoch | train_loss | valid_loss | error_rate | accuracy | precision_score | recall_score | time  |\r\n",
        "|-------|------------|------------|------------|----------|-----------------|--------------|-------|\r\n",
        "| 0     | 0.434923   | 0.204655   | 0.056417   | 0.943583 | 0.948386        | 0.943349     | 01:00 |\r\n",
        "| 1     | 0.203476   | 0.492449   | 0.142417   | 0.857583 | 0.897650        | 0.858080     | 01:00 |\r\n",
        "| 2     | 0.181186   | 0.173188   | 0.041250   | 0.958750 | 0.959990        | 0.959058     | 01:00 |\r\n",
        "| 3     | 0.141588   | 0.228250   | 0.066500   | 0.933500 | 0.939748        | 0.933744     | 00:59 |\r\n",
        "| 4     | 0.122586   | 0.083044   | 0.024917   | 0.975083 | 0.975605        | 0.975126     | 01:00 |\r\n",
        "| 5     | 0.100340   | 0.081758   | 0.023833   | 0.976167 | 0.976255        | 0.976230     | 00:59 |\r\n",
        "| 6     | 0.080325   | 0.042493   | 0.011833   | 0.988167 | 0.988165        | 0.988201     | 00:59 |\r\n",
        "| 7     | 0.065300   | 0.050322   | 0.013750   | 0.986250 | 0.986360        | 0.986087     | 00:59 |\r\n",
        "| 8     | 0.048775   | 0.033287   | 0.009667   | 0.990333 | 0.990488        | 0.990173     | 00:59 |\r\n",
        "| 9     | 0.035085   | 0.023485   | 0.006833   | 0.993167 | 0.993230        | 0.993121     | 00:59 |\r\n",
        "| 10    | 0.025312   | 0.020328   | 0.005917   | 0.994083 | 0.994074        | 0.994052     | 00:59 |\r\n",
        "| 11    | 0.024283   | 0.019765   | 0.005500   | 0.994500 | 0.994496        | 0.994458     | 01:00 |"
      ]
    },
    {
      "cell_type": "code",
      "metadata": {
        "colab": {
          "base_uri": "https://localhost:8080/",
          "height": 265
        },
        "id": "wEdL52Hz_xGr",
        "outputId": "61a29c18-7750-4ffd-bd5c-55df31aefedf"
      },
      "source": [
        "learn_34_unt.recorder.plot_loss(skip_start=200)"
      ],
      "execution_count": 43,
      "outputs": [
        {
          "output_type": "display_data",
          "data": {
            "image/png": "[encoded data removed]",
            "text/plain": [
              "<Figure size 432x288 with 1 Axes>"
            ]
          },
          "metadata": {
            "tags": [],
            "needs_background": "light"
          }
        }
      ]
    },
    {
      "cell_type": "code",
      "metadata": {
        "colab": {
          "base_uri": "https://localhost:8080/",
          "height": 34
        },
        "id": "PR7THVFhALs3",
        "outputId": "c4fc36f7-55dc-4cad-ed8b-158e8250aaeb"
      },
      "source": [
        "learn_34_unt.validate(dl=test_dl)"
      ],
      "execution_count": 44,
      "outputs": [
        {
          "output_type": "display_data",
          "data": {
            "text/html": [
              ""
            ],
            "text/plain": [
              "<IPython.core.display.HTML object>"
            ]
          },
          "metadata": {
            "tags": []
          }
        },
        {
          "output_type": "execute_result",
          "data": {
            "text/plain": [
              "(#5) [0.017111217603087425,0.005499999970197678,0.9944999814033508,0.9945027227596519,0.994406523586257]"
            ]
          },
          "metadata": {
            "tags": []
          },
          "execution_count": 44
        }
      ]
    },
    {
      "cell_type": "markdown",
      "metadata": {
        "id": "5Tavc-8lAMDD"
      },
      "source": [
        "Without augmentation\r\n",
        "\r\n",
        "| Metric | Value |\r\n",
        "|--------|-----:|\r\n",
        "| Error Rate | 0.005250\r\n",
        "| Accuracy | 0.994750\r\n",
        "| Precision | 0.994779\r\n",
        "| Recall | 0.994746\r\n",
        "\r\n",
        "\r\n",
        "With augmentation (12 epoch)\r\n",
        "\r\n",
        "| Metric | Value |\r\n",
        "|--------|-----:|\r\n",
        "| Error Rate | 0.00550000\r\n",
        "| Accuracy | 0.99450000\r\n",
        "| Precision | 0.99450272\r\n",
        "| Recall | 0.99440652"
      ]
    },
    {
      "cell_type": "code",
      "metadata": {
        "colab": {
          "base_uri": "https://localhost:8080/",
          "height": 301
        },
        "id": "P2Vkua0hALi0",
        "outputId": "150d3af5-a68b-4a8e-d491-cdf753f2bd32"
      },
      "source": [
        "learn_34_unt.lr_find()"
      ],
      "execution_count": 45,
      "outputs": [
        {
          "output_type": "display_data",
          "data": {
            "text/html": [
              ""
            ],
            "text/plain": [
              "<IPython.core.display.HTML object>"
            ]
          },
          "metadata": {
            "tags": []
          }
        },
        {
          "output_type": "execute_result",
          "data": {
            "text/plain": [
              "SuggestedLRs(lr_min=1.0964782268274575e-05, lr_steep=9.12010818865383e-07)"
            ]
          },
          "metadata": {
            "tags": []
          },
          "execution_count": 45
        },
        {
          "output_type": "display_data",
          "data": {
            "image/png": "[encoded data removed]",
            "text/plain": [
              "<Figure size 432x288 with 1 Axes>"
            ]
          },
          "metadata": {
            "tags": [],
            "needs_background": "light"
          }
        }
      ]
    },
    {
      "cell_type": "code",
      "metadata": {
        "colab": {
          "base_uri": "https://localhost:8080/",
          "height": 402
        },
        "id": "VhagJ2LdCh88",
        "outputId": "92c6cea6-1482-4815-dd2f-ff333d72ce4e"
      },
      "source": [
        "n = 12\r\n",
        "lr = 1e-5\r\n",
        "learn_34_unt.fit_one_cycle(n_epoch=n, lr_max=lr)"
      ],
      "execution_count": 46,
      "outputs": [
        {
          "output_type": "display_data",
          "data": {
            "text/html": [
              "<table border=\"1\" class=\"dataframe\">\n",
              "  <thead>\n",
              "    <tr style=\"text-align: left;\">\n",
              "      <th>epoch</th>\n",
              "      <th>train_loss</th>\n",
              "      <th>valid_loss</th>\n",
              "      <th>error_rate</th>\n",
              "      <th>accuracy</th>\n",
              "      <th>precision_score</th>\n",
              "      <th>recall_score</th>\n",
              "      <th>time</th>\n",
              "    </tr>\n",
              "  </thead>\n",
              "  <tbody>\n",
              "    <tr>\n",
              "      <td>0</td>\n",
              "      <td>0.024273</td>\n",
              "      <td>0.020061</td>\n",
              "      <td>0.005750</td>\n",
              "      <td>0.994250</td>\n",
              "      <td>0.994243</td>\n",
              "      <td>0.994210</td>\n",
              "      <td>00:59</td>\n",
              "    </tr>\n",
              "    <tr>\n",
              "      <td>1</td>\n",
              "      <td>0.025166</td>\n",
              "      <td>0.020279</td>\n",
              "      <td>0.005583</td>\n",
              "      <td>0.994417</td>\n",
              "      <td>0.994420</td>\n",
              "      <td>0.994381</td>\n",
              "      <td>00:58</td>\n",
              "    </tr>\n",
              "    <tr>\n",
              "      <td>2</td>\n",
              "      <td>0.021255</td>\n",
              "      <td>0.019957</td>\n",
              "      <td>0.005417</td>\n",
              "      <td>0.994583</td>\n",
              "      <td>0.994610</td>\n",
              "      <td>0.994537</td>\n",
              "      <td>00:58</td>\n",
              "    </tr>\n",
              "    <tr>\n",
              "      <td>3</td>\n",
              "      <td>0.021536</td>\n",
              "      <td>0.019948</td>\n",
              "      <td>0.005583</td>\n",
              "      <td>0.994417</td>\n",
              "      <td>0.994429</td>\n",
              "      <td>0.994364</td>\n",
              "      <td>00:59</td>\n",
              "    </tr>\n",
              "    <tr>\n",
              "      <td>4</td>\n",
              "      <td>0.021343</td>\n",
              "      <td>0.019719</td>\n",
              "      <td>0.005417</td>\n",
              "      <td>0.994583</td>\n",
              "      <td>0.994616</td>\n",
              "      <td>0.994529</td>\n",
              "      <td>01:00</td>\n",
              "    </tr>\n",
              "    <tr>\n",
              "      <td>5</td>\n",
              "      <td>0.021068</td>\n",
              "      <td>0.020135</td>\n",
              "      <td>0.005750</td>\n",
              "      <td>0.994250</td>\n",
              "      <td>0.994273</td>\n",
              "      <td>0.994172</td>\n",
              "      <td>01:00</td>\n",
              "    </tr>\n",
              "    <tr>\n",
              "      <td>6</td>\n",
              "      <td>0.019715</td>\n",
              "      <td>0.020253</td>\n",
              "      <td>0.005833</td>\n",
              "      <td>0.994167</td>\n",
              "      <td>0.994194</td>\n",
              "      <td>0.994101</td>\n",
              "      <td>01:00</td>\n",
              "    </tr>\n",
              "    <tr>\n",
              "      <td>7</td>\n",
              "      <td>0.019934</td>\n",
              "      <td>0.020018</td>\n",
              "      <td>0.005500</td>\n",
              "      <td>0.994500</td>\n",
              "      <td>0.994531</td>\n",
              "      <td>0.994457</td>\n",
              "      <td>00:59</td>\n",
              "    </tr>\n",
              "    <tr>\n",
              "      <td>8</td>\n",
              "      <td>0.020861</td>\n",
              "      <td>0.020042</td>\n",
              "      <td>0.005667</td>\n",
              "      <td>0.994333</td>\n",
              "      <td>0.994375</td>\n",
              "      <td>0.994282</td>\n",
              "      <td>01:00</td>\n",
              "    </tr>\n",
              "    <tr>\n",
              "      <td>9</td>\n",
              "      <td>0.021095</td>\n",
              "      <td>0.020045</td>\n",
              "      <td>0.005500</td>\n",
              "      <td>0.994500</td>\n",
              "      <td>0.994536</td>\n",
              "      <td>0.994456</td>\n",
              "      <td>00:59</td>\n",
              "    </tr>\n",
              "    <tr>\n",
              "      <td>10</td>\n",
              "      <td>0.020793</td>\n",
              "      <td>0.020150</td>\n",
              "      <td>0.005833</td>\n",
              "      <td>0.994167</td>\n",
              "      <td>0.994202</td>\n",
              "      <td>0.994074</td>\n",
              "      <td>00:59</td>\n",
              "    </tr>\n",
              "    <tr>\n",
              "      <td>11</td>\n",
              "      <td>0.019872</td>\n",
              "      <td>0.020227</td>\n",
              "      <td>0.005500</td>\n",
              "      <td>0.994500</td>\n",
              "      <td>0.994524</td>\n",
              "      <td>0.994453</td>\n",
              "      <td>01:01</td>\n",
              "    </tr>\n",
              "  </tbody>\n",
              "</table>"
            ],
            "text/plain": [
              "<IPython.core.display.HTML object>"
            ]
          },
          "metadata": {
            "tags": []
          }
        }
      ]
    },
    {
      "cell_type": "code",
      "metadata": {
        "colab": {
          "base_uri": "https://localhost:8080/",
          "height": 265
        },
        "id": "IwTIDBzdGvbE",
        "outputId": "86131fea-c20e-450f-9f86-82126f7ace65"
      },
      "source": [
        "learn_34_unt.recorder.plot_loss(skip_start=200)"
      ],
      "execution_count": 47,
      "outputs": [
        {
          "output_type": "display_data",
          "data": {
            "image/png": "[encoded data removed]",
            "text/plain": [
              "<Figure size 432x288 with 1 Axes>"
            ]
          },
          "metadata": {
            "tags": [],
            "needs_background": "light"
          }
        }
      ]
    },
    {
      "cell_type": "code",
      "metadata": {
        "colab": {
          "base_uri": "https://localhost:8080/",
          "height": 34
        },
        "id": "40LZG9J-_z0m",
        "outputId": "4ea0cdd4-b0e4-416d-ac42-de7578da8b12"
      },
      "source": [
        "learn_34_unt.validate(dl=test_dl)"
      ],
      "execution_count": 48,
      "outputs": [
        {
          "output_type": "display_data",
          "data": {
            "text/html": [
              ""
            ],
            "text/plain": [
              "<IPython.core.display.HTML object>"
            ]
          },
          "metadata": {
            "tags": []
          }
        },
        {
          "output_type": "execute_result",
          "data": {
            "text/plain": [
              "(#5) [0.01646798849105835,0.004999999888241291,0.9950000047683716,0.994989374590513,0.9949151000267291]"
            ]
          },
          "metadata": {
            "tags": []
          },
          "execution_count": 48
        }
      ]
    },
    {
      "cell_type": "markdown",
      "metadata": {
        "id": "De0dfd7yACDy"
      },
      "source": [
        "With augmentation (12 additional epochs)\r\n",
        "\r\n",
        "| Metric | Value |\r\n",
        "|--------|-----:|\r\n",
        "| Error Rate | 0.00500000\r\n",
        "| Accuracy | 0.99500000\r\n",
        "| Precision | 0.99498937\r\n",
        "| Recall | 0.99491510"
      ]
    },
    {
      "cell_type": "code",
      "metadata": {
        "colab": {
          "base_uri": "https://localhost:8080/",
          "height": 599
        },
        "id": "9L3ugRRdGmDf",
        "outputId": "3d0fdd63-610f-48dd-d2a6-5d7426bc2a36"
      },
      "source": [
        "interp_34_unt = ClassificationInterpretation.from_learner(learn_34_unt)\r\n",
        "interp_34_unt.plot_confusion_matrix(figsize=(8,8))"
      ],
      "execution_count": 49,
      "outputs": [
        {
          "output_type": "display_data",
          "data": {
            "text/html": [
              ""
            ],
            "text/plain": [
              "<IPython.core.display.HTML object>"
            ]
          },
          "metadata": {
            "tags": []
          }
        },
        {
          "output_type": "display_data",
          "data": {
            "image/png": "[encoded data removed]",
            "text/plain": [
              "<Figure size 576x576 with 1 Axes>"
            ]
          },
          "metadata": {
            "tags": [],
            "needs_background": "light"
          }
        }
      ]
    },
    {
      "cell_type": "code",
      "metadata": {
        "colab": {
          "base_uri": "https://localhost:8080/",
          "height": 770
        },
        "id": "6ONahAS2A1FK",
        "outputId": "f5432027-1ae0-4244-b103-d7e9e14cd953"
      },
      "source": [
        "# interp_34_unt.most_confused()\r\n",
        "interp_34_unt.plot_top_losses(k=36, figsize=(12,12))"
      ],
      "execution_count": 55,
      "outputs": [
        {
          "output_type": "display_data",
          "data": {
            "image/png": "[encoded data removed]",
            "text/plain": [
              "<Figure size 864x864 with 36 Axes>"
            ]
          },
          "metadata": {
            "tags": [],
            "needs_background": "light"
          }
        }
      ]
    },
    {
      "cell_type": "markdown",
      "metadata": {
        "id": "wqj7l_HeCT8M"
      },
      "source": [
        "## Resnet 34, augmentation, mixup and label smoothing\r\n",
        "\r\n",
        "- `loss_funct=LabelSmoothingCrossEntropy()`\r\n",
        "- `cbs=MixUp()`"
      ]
    },
    {
      "cell_type": "code",
      "metadata": {
        "id": "bLFb2jB_CT0c"
      },
      "source": [
        "learn_34_unt = cnn_learner(dls, \r\n",
        "                           resnet34, \r\n",
        "                           metrics=[error_rate, accuracy, precision, recall], \r\n",
        "                           loss_func=LabelSmoothingCrossEntropy(),\r\n",
        "                           pretrained=False)"
      ],
      "execution_count": 61,
      "outputs": []
    },
    {
      "cell_type": "code",
      "metadata": {
        "colab": {
          "base_uri": "https://localhost:8080/",
          "height": 301
        },
        "id": "Syz0se8kDMsn",
        "outputId": "b79d42e2-1772-4011-f01b-40a18e3784bb"
      },
      "source": [
        "learn_34_unt.lr_find()"
      ],
      "execution_count": 58,
      "outputs": [
        {
          "output_type": "display_data",
          "data": {
            "text/html": [
              ""
            ],
            "text/plain": [
              "<IPython.core.display.HTML object>"
            ]
          },
          "metadata": {
            "tags": []
          }
        },
        {
          "output_type": "execute_result",
          "data": {
            "text/plain": [
              "SuggestedLRs(lr_min=0.025118863582611083, lr_steep=0.013182567432522774)"
            ]
          },
          "metadata": {
            "tags": []
          },
          "execution_count": 58
        },
        {
          "output_type": "display_data",
          "data": {
            "image/png": "[encoded data removed]",
            "text/plain": [
              "<Figure size 432x288 with 1 Axes>"
            ]
          },
          "metadata": {
            "tags": [],
            "needs_background": "light"
          }
        }
      ]
    },
    {
      "cell_type": "code",
      "metadata": {
        "colab": {
          "base_uri": "https://localhost:8080/",
          "height": 580
        },
        "id": "Q3uOp_XZDMtB",
        "outputId": "a847112d-3dec-435b-99b3-6fd736ff044b"
      },
      "source": [
        "n = 18\r\n",
        "lr = 5e-3\r\n",
        "learn_34_unt.fit_one_cycle(n_epoch=n, lr_max=lr)"
      ],
      "execution_count": 62,
      "outputs": [
        {
          "output_type": "display_data",
          "data": {
            "text/html": [
              "<table border=\"1\" class=\"dataframe\">\n",
              "  <thead>\n",
              "    <tr style=\"text-align: left;\">\n",
              "      <th>epoch</th>\n",
              "      <th>train_loss</th>\n",
              "      <th>valid_loss</th>\n",
              "      <th>error_rate</th>\n",
              "      <th>accuracy</th>\n",
              "      <th>precision_score</th>\n",
              "      <th>recall_score</th>\n",
              "      <th>time</th>\n",
              "    </tr>\n",
              "  </thead>\n",
              "  <tbody>\n",
              "    <tr>\n",
              "      <td>0</td>\n",
              "      <td>0.996890</td>\n",
              "      <td>0.694623</td>\n",
              "      <td>0.045667</td>\n",
              "      <td>0.954333</td>\n",
              "      <td>0.955231</td>\n",
              "      <td>0.953943</td>\n",
              "      <td>00:59</td>\n",
              "    </tr>\n",
              "    <tr>\n",
              "      <td>1</td>\n",
              "      <td>0.719282</td>\n",
              "      <td>0.672342</td>\n",
              "      <td>0.047750</td>\n",
              "      <td>0.952250</td>\n",
              "      <td>0.953402</td>\n",
              "      <td>0.952502</td>\n",
              "      <td>00:59</td>\n",
              "    </tr>\n",
              "    <tr>\n",
              "      <td>2</td>\n",
              "      <td>0.683418</td>\n",
              "      <td>0.642272</td>\n",
              "      <td>0.043667</td>\n",
              "      <td>0.956333</td>\n",
              "      <td>0.960488</td>\n",
              "      <td>0.955973</td>\n",
              "      <td>00:59</td>\n",
              "    </tr>\n",
              "    <tr>\n",
              "      <td>3</td>\n",
              "      <td>0.648781</td>\n",
              "      <td>1.398842</td>\n",
              "      <td>0.058417</td>\n",
              "      <td>0.941583</td>\n",
              "      <td>0.948166</td>\n",
              "      <td>0.941457</td>\n",
              "      <td>00:59</td>\n",
              "    </tr>\n",
              "    <tr>\n",
              "      <td>4</td>\n",
              "      <td>0.648934</td>\n",
              "      <td>0.551913</td>\n",
              "      <td>0.015833</td>\n",
              "      <td>0.984167</td>\n",
              "      <td>0.984123</td>\n",
              "      <td>0.984231</td>\n",
              "      <td>00:59</td>\n",
              "    </tr>\n",
              "    <tr>\n",
              "      <td>5</td>\n",
              "      <td>0.608063</td>\n",
              "      <td>0.665820</td>\n",
              "      <td>0.017917</td>\n",
              "      <td>0.982083</td>\n",
              "      <td>0.982536</td>\n",
              "      <td>0.982039</td>\n",
              "      <td>00:59</td>\n",
              "    </tr>\n",
              "    <tr>\n",
              "      <td>6</td>\n",
              "      <td>0.595501</td>\n",
              "      <td>0.560466</td>\n",
              "      <td>0.018833</td>\n",
              "      <td>0.981167</td>\n",
              "      <td>0.980839</td>\n",
              "      <td>0.981214</td>\n",
              "      <td>00:59</td>\n",
              "    </tr>\n",
              "    <tr>\n",
              "      <td>7</td>\n",
              "      <td>0.573963</td>\n",
              "      <td>0.537315</td>\n",
              "      <td>0.013750</td>\n",
              "      <td>0.986250</td>\n",
              "      <td>0.986190</td>\n",
              "      <td>0.986289</td>\n",
              "      <td>00:58</td>\n",
              "    </tr>\n",
              "    <tr>\n",
              "      <td>8</td>\n",
              "      <td>0.559434</td>\n",
              "      <td>0.537523</td>\n",
              "      <td>0.010750</td>\n",
              "      <td>0.989250</td>\n",
              "      <td>0.989261</td>\n",
              "      <td>0.989173</td>\n",
              "      <td>00:59</td>\n",
              "    </tr>\n",
              "    <tr>\n",
              "      <td>9</td>\n",
              "      <td>0.552290</td>\n",
              "      <td>0.529826</td>\n",
              "      <td>0.011583</td>\n",
              "      <td>0.988417</td>\n",
              "      <td>0.988502</td>\n",
              "      <td>0.988317</td>\n",
              "      <td>00:58</td>\n",
              "    </tr>\n",
              "    <tr>\n",
              "      <td>10</td>\n",
              "      <td>0.544595</td>\n",
              "      <td>0.521998</td>\n",
              "      <td>0.007750</td>\n",
              "      <td>0.992250</td>\n",
              "      <td>0.992213</td>\n",
              "      <td>0.992215</td>\n",
              "      <td>00:59</td>\n",
              "    </tr>\n",
              "    <tr>\n",
              "      <td>11</td>\n",
              "      <td>0.535978</td>\n",
              "      <td>0.522946</td>\n",
              "      <td>0.008167</td>\n",
              "      <td>0.991833</td>\n",
              "      <td>0.991763</td>\n",
              "      <td>0.991882</td>\n",
              "      <td>00:59</td>\n",
              "    </tr>\n",
              "    <tr>\n",
              "      <td>12</td>\n",
              "      <td>0.532356</td>\n",
              "      <td>0.518702</td>\n",
              "      <td>0.006333</td>\n",
              "      <td>0.993667</td>\n",
              "      <td>0.993633</td>\n",
              "      <td>0.993647</td>\n",
              "      <td>00:59</td>\n",
              "    </tr>\n",
              "    <tr>\n",
              "      <td>13</td>\n",
              "      <td>0.526228</td>\n",
              "      <td>0.517767</td>\n",
              "      <td>0.006250</td>\n",
              "      <td>0.993750</td>\n",
              "      <td>0.993840</td>\n",
              "      <td>0.993656</td>\n",
              "      <td>00:59</td>\n",
              "    </tr>\n",
              "    <tr>\n",
              "      <td>14</td>\n",
              "      <td>0.523410</td>\n",
              "      <td>0.516607</td>\n",
              "      <td>0.005833</td>\n",
              "      <td>0.994167</td>\n",
              "      <td>0.994201</td>\n",
              "      <td>0.994117</td>\n",
              "      <td>00:59</td>\n",
              "    </tr>\n",
              "    <tr>\n",
              "      <td>15</td>\n",
              "      <td>0.520431</td>\n",
              "      <td>0.515716</td>\n",
              "      <td>0.005333</td>\n",
              "      <td>0.994667</td>\n",
              "      <td>0.994635</td>\n",
              "      <td>0.994611</td>\n",
              "      <td>00:59</td>\n",
              "    </tr>\n",
              "    <tr>\n",
              "      <td>16</td>\n",
              "      <td>0.519755</td>\n",
              "      <td>0.515461</td>\n",
              "      <td>0.005417</td>\n",
              "      <td>0.994583</td>\n",
              "      <td>0.994560</td>\n",
              "      <td>0.994545</td>\n",
              "      <td>00:59</td>\n",
              "    </tr>\n",
              "    <tr>\n",
              "      <td>17</td>\n",
              "      <td>0.518248</td>\n",
              "      <td>0.515086</td>\n",
              "      <td>0.005417</td>\n",
              "      <td>0.994583</td>\n",
              "      <td>0.994543</td>\n",
              "      <td>0.994528</td>\n",
              "      <td>00:58</td>\n",
              "    </tr>\n",
              "  </tbody>\n",
              "</table>"
            ],
            "text/plain": [
              "<IPython.core.display.HTML object>"
            ]
          },
          "metadata": {
            "tags": []
          }
        }
      ]
    },
    {
      "cell_type": "code",
      "metadata": {
        "id": "_7qCF7W5CTkz"
      },
      "source": [
        ""
      ],
      "execution_count": null,
      "outputs": []
    },
    {
      "cell_type": "code",
      "metadata": {
        "id": "05RBUn1sCTii"
      },
      "source": [
        ""
      ],
      "execution_count": null,
      "outputs": []
    },
    {
      "cell_type": "code",
      "metadata": {
        "id": "aqSqVAJWCTfJ"
      },
      "source": [
        "learn_34_unt = cnn_learner(dls, \r\n",
        "                           resnet34, \r\n",
        "                           metrics=[error_rate, accuracy, precision, recall], \r\n",
        "                           cbs=MixUp(),\r\n",
        "                           pretrained=False)"
      ],
      "execution_count": 66,
      "outputs": []
    },
    {
      "cell_type": "code",
      "metadata": {
        "colab": {
          "base_uri": "https://localhost:8080/",
          "height": 305
        },
        "id": "HT0YF276CTcY",
        "outputId": "85a93e9a-cf9b-4586-9a11-da1e8b764ea3"
      },
      "source": [
        "learn_34_unt.lr_find()"
      ],
      "execution_count": 64,
      "outputs": [
        {
          "output_type": "display_data",
          "data": {
            "text/html": [
              ""
            ],
            "text/plain": [
              "<IPython.core.display.HTML object>"
            ]
          },
          "metadata": {
            "tags": []
          }
        },
        {
          "output_type": "execute_result",
          "data": {
            "text/plain": [
              "SuggestedLRs(lr_min=0.03019951581954956, lr_steep=0.007585775572806597)"
            ]
          },
          "metadata": {
            "tags": []
          },
          "execution_count": 64
        },
        {
          "output_type": "display_data",
          "data": {
            "image/png": "[encoded data removed]",
            "text/plain": [
              "<Figure size 432x288 with 1 Axes>"
            ]
          },
          "metadata": {
            "tags": [],
            "needs_background": "light"
          }
        }
      ]
    },
    {
      "cell_type": "code",
      "metadata": {
        "colab": {
          "base_uri": "https://localhost:8080/",
          "height": 1000
        },
        "id": "qon6ZxUsCTZl",
        "outputId": "ae9f3d91-f823-4305-a0fc-9cde55c6c515"
      },
      "source": [
        "n = 60\r\n",
        "lr = 5e-3\r\n",
        "learn_34_unt.fit_one_cycle(n_epoch=n, lr_max=lr)"
      ],
      "execution_count": 67,
      "outputs": [
        {
          "output_type": "display_data",
          "data": {
            "text/html": [
              "<table border=\"1\" class=\"dataframe\">\n",
              "  <thead>\n",
              "    <tr style=\"text-align: left;\">\n",
              "      <th>epoch</th>\n",
              "      <th>train_loss</th>\n",
              "      <th>valid_loss</th>\n",
              "      <th>error_rate</th>\n",
              "      <th>accuracy</th>\n",
              "      <th>precision_score</th>\n",
              "      <th>recall_score</th>\n",
              "      <th>time</th>\n",
              "    </tr>\n",
              "  </thead>\n",
              "  <tbody>\n",
              "    <tr>\n",
              "      <td>0</td>\n",
              "      <td>0.742799</td>\n",
              "      <td>0.168702</td>\n",
              "      <td>0.052917</td>\n",
              "      <td>0.947083</td>\n",
              "      <td>0.948056</td>\n",
              "      <td>0.947302</td>\n",
              "      <td>00:57</td>\n",
              "    </tr>\n",
              "    <tr>\n",
              "      <td>1</td>\n",
              "      <td>0.421168</td>\n",
              "      <td>0.232829</td>\n",
              "      <td>0.067750</td>\n",
              "      <td>0.932250</td>\n",
              "      <td>0.941907</td>\n",
              "      <td>0.930407</td>\n",
              "      <td>00:56</td>\n",
              "    </tr>\n",
              "    <tr>\n",
              "      <td>2</td>\n",
              "      <td>0.338233</td>\n",
              "      <td>0.694960</td>\n",
              "      <td>0.196167</td>\n",
              "      <td>0.803833</td>\n",
              "      <td>0.875774</td>\n",
              "      <td>0.810617</td>\n",
              "      <td>00:57</td>\n",
              "    </tr>\n",
              "    <tr>\n",
              "      <td>3</td>\n",
              "      <td>0.301920</td>\n",
              "      <td>0.130510</td>\n",
              "      <td>0.038417</td>\n",
              "      <td>0.961583</td>\n",
              "      <td>0.963323</td>\n",
              "      <td>0.961431</td>\n",
              "      <td>00:57</td>\n",
              "    </tr>\n",
              "    <tr>\n",
              "      <td>4</td>\n",
              "      <td>0.279985</td>\n",
              "      <td>0.244805</td>\n",
              "      <td>0.072000</td>\n",
              "      <td>0.928000</td>\n",
              "      <td>0.936541</td>\n",
              "      <td>0.928795</td>\n",
              "      <td>00:57</td>\n",
              "    </tr>\n",
              "    <tr>\n",
              "      <td>5</td>\n",
              "      <td>0.259933</td>\n",
              "      <td>0.142445</td>\n",
              "      <td>0.039167</td>\n",
              "      <td>0.960833</td>\n",
              "      <td>0.965072</td>\n",
              "      <td>0.960477</td>\n",
              "      <td>00:58</td>\n",
              "    </tr>\n",
              "    <tr>\n",
              "      <td>6</td>\n",
              "      <td>0.248657</td>\n",
              "      <td>1.990916</td>\n",
              "      <td>0.241917</td>\n",
              "      <td>0.758083</td>\n",
              "      <td>0.878661</td>\n",
              "      <td>0.759092</td>\n",
              "      <td>00:58</td>\n",
              "    </tr>\n",
              "    <tr>\n",
              "      <td>7</td>\n",
              "      <td>0.221167</td>\n",
              "      <td>0.095080</td>\n",
              "      <td>0.028333</td>\n",
              "      <td>0.971667</td>\n",
              "      <td>0.972841</td>\n",
              "      <td>0.971858</td>\n",
              "      <td>00:58</td>\n",
              "    </tr>\n",
              "    <tr>\n",
              "      <td>8</td>\n",
              "      <td>0.209215</td>\n",
              "      <td>0.065265</td>\n",
              "      <td>0.018250</td>\n",
              "      <td>0.981750</td>\n",
              "      <td>0.981870</td>\n",
              "      <td>0.981938</td>\n",
              "      <td>00:58</td>\n",
              "    </tr>\n",
              "    <tr>\n",
              "      <td>9</td>\n",
              "      <td>0.207008</td>\n",
              "      <td>0.091199</td>\n",
              "      <td>0.024333</td>\n",
              "      <td>0.975667</td>\n",
              "      <td>0.976512</td>\n",
              "      <td>0.975841</td>\n",
              "      <td>00:58</td>\n",
              "    </tr>\n",
              "    <tr>\n",
              "      <td>10</td>\n",
              "      <td>0.188538</td>\n",
              "      <td>0.097484</td>\n",
              "      <td>0.025083</td>\n",
              "      <td>0.974917</td>\n",
              "      <td>0.976053</td>\n",
              "      <td>0.974880</td>\n",
              "      <td>00:58</td>\n",
              "    </tr>\n",
              "    <tr>\n",
              "      <td>11</td>\n",
              "      <td>0.185194</td>\n",
              "      <td>0.105551</td>\n",
              "      <td>0.032833</td>\n",
              "      <td>0.967167</td>\n",
              "      <td>0.968057</td>\n",
              "      <td>0.967483</td>\n",
              "      <td>00:57</td>\n",
              "    </tr>\n",
              "    <tr>\n",
              "      <td>12</td>\n",
              "      <td>0.166405</td>\n",
              "      <td>0.037475</td>\n",
              "      <td>0.009917</td>\n",
              "      <td>0.990083</td>\n",
              "      <td>0.990004</td>\n",
              "      <td>0.990084</td>\n",
              "      <td>00:57</td>\n",
              "    </tr>\n",
              "    <tr>\n",
              "      <td>13</td>\n",
              "      <td>0.160692</td>\n",
              "      <td>0.047938</td>\n",
              "      <td>0.014417</td>\n",
              "      <td>0.985583</td>\n",
              "      <td>0.985716</td>\n",
              "      <td>0.985520</td>\n",
              "      <td>00:58</td>\n",
              "    </tr>\n",
              "    <tr>\n",
              "      <td>14</td>\n",
              "      <td>0.153977</td>\n",
              "      <td>0.058962</td>\n",
              "      <td>0.016750</td>\n",
              "      <td>0.983250</td>\n",
              "      <td>0.983555</td>\n",
              "      <td>0.983344</td>\n",
              "      <td>00:58</td>\n",
              "    </tr>\n",
              "    <tr>\n",
              "      <td>15</td>\n",
              "      <td>0.143754</td>\n",
              "      <td>0.046041</td>\n",
              "      <td>0.012833</td>\n",
              "      <td>0.987167</td>\n",
              "      <td>0.987262</td>\n",
              "      <td>0.986946</td>\n",
              "      <td>00:58</td>\n",
              "    </tr>\n",
              "    <tr>\n",
              "      <td>16</td>\n",
              "      <td>0.132944</td>\n",
              "      <td>0.032738</td>\n",
              "      <td>0.008667</td>\n",
              "      <td>0.991333</td>\n",
              "      <td>0.991276</td>\n",
              "      <td>0.991245</td>\n",
              "      <td>00:58</td>\n",
              "    </tr>\n",
              "    <tr>\n",
              "      <td>17</td>\n",
              "      <td>0.135893</td>\n",
              "      <td>0.036539</td>\n",
              "      <td>0.010250</td>\n",
              "      <td>0.989750</td>\n",
              "      <td>0.989599</td>\n",
              "      <td>0.989843</td>\n",
              "      <td>00:58</td>\n",
              "    </tr>\n",
              "    <tr>\n",
              "      <td>18</td>\n",
              "      <td>0.120967</td>\n",
              "      <td>0.031987</td>\n",
              "      <td>0.008667</td>\n",
              "      <td>0.991333</td>\n",
              "      <td>0.991381</td>\n",
              "      <td>0.991321</td>\n",
              "      <td>00:58</td>\n",
              "    </tr>\n",
              "    <tr>\n",
              "      <td>19</td>\n",
              "      <td>0.122188</td>\n",
              "      <td>0.034439</td>\n",
              "      <td>0.008583</td>\n",
              "      <td>0.991417</td>\n",
              "      <td>0.991301</td>\n",
              "      <td>0.991455</td>\n",
              "      <td>00:58</td>\n",
              "    </tr>\n",
              "    <tr>\n",
              "      <td>20</td>\n",
              "      <td>0.115294</td>\n",
              "      <td>0.029395</td>\n",
              "      <td>0.007917</td>\n",
              "      <td>0.992083</td>\n",
              "      <td>0.992080</td>\n",
              "      <td>0.992079</td>\n",
              "      <td>00:58</td>\n",
              "    </tr>\n",
              "    <tr>\n",
              "      <td>21</td>\n",
              "      <td>0.107896</td>\n",
              "      <td>0.027385</td>\n",
              "      <td>0.007750</td>\n",
              "      <td>0.992250</td>\n",
              "      <td>0.992274</td>\n",
              "      <td>0.992109</td>\n",
              "      <td>00:58</td>\n",
              "    </tr>\n",
              "    <tr>\n",
              "      <td>22</td>\n",
              "      <td>0.104499</td>\n",
              "      <td>0.026819</td>\n",
              "      <td>0.007083</td>\n",
              "      <td>0.992917</td>\n",
              "      <td>0.992889</td>\n",
              "      <td>0.992951</td>\n",
              "      <td>00:58</td>\n",
              "    </tr>\n",
              "    <tr>\n",
              "      <td>23</td>\n",
              "      <td>0.103799</td>\n",
              "      <td>0.033846</td>\n",
              "      <td>0.009000</td>\n",
              "      <td>0.991000</td>\n",
              "      <td>0.991010</td>\n",
              "      <td>0.990997</td>\n",
              "      <td>00:58</td>\n",
              "    </tr>\n",
              "    <tr>\n",
              "      <td>24</td>\n",
              "      <td>0.108732</td>\n",
              "      <td>0.027963</td>\n",
              "      <td>0.007167</td>\n",
              "      <td>0.992833</td>\n",
              "      <td>0.992883</td>\n",
              "      <td>0.992732</td>\n",
              "      <td>00:58</td>\n",
              "    </tr>\n",
              "    <tr>\n",
              "      <td>25</td>\n",
              "      <td>0.099128</td>\n",
              "      <td>0.027610</td>\n",
              "      <td>0.006917</td>\n",
              "      <td>0.993083</td>\n",
              "      <td>0.993062</td>\n",
              "      <td>0.993022</td>\n",
              "      <td>00:58</td>\n",
              "    </tr>\n",
              "    <tr>\n",
              "      <td>26</td>\n",
              "      <td>0.098158</td>\n",
              "      <td>0.025149</td>\n",
              "      <td>0.006167</td>\n",
              "      <td>0.993833</td>\n",
              "      <td>0.993889</td>\n",
              "      <td>0.993761</td>\n",
              "      <td>00:58</td>\n",
              "    </tr>\n",
              "    <tr>\n",
              "      <td>27</td>\n",
              "      <td>0.096723</td>\n",
              "      <td>0.024978</td>\n",
              "      <td>0.006667</td>\n",
              "      <td>0.993333</td>\n",
              "      <td>0.993338</td>\n",
              "      <td>0.993276</td>\n",
              "      <td>00:58</td>\n",
              "    </tr>\n",
              "    <tr>\n",
              "      <td>28</td>\n",
              "      <td>0.097790</td>\n",
              "      <td>0.030629</td>\n",
              "      <td>0.007333</td>\n",
              "      <td>0.992667</td>\n",
              "      <td>0.992661</td>\n",
              "      <td>0.992597</td>\n",
              "      <td>00:58</td>\n",
              "    </tr>\n",
              "    <tr>\n",
              "      <td>29</td>\n",
              "      <td>0.084500</td>\n",
              "      <td>0.026788</td>\n",
              "      <td>0.007167</td>\n",
              "      <td>0.992833</td>\n",
              "      <td>0.992904</td>\n",
              "      <td>0.992764</td>\n",
              "      <td>00:58</td>\n",
              "    </tr>\n",
              "    <tr>\n",
              "      <td>30</td>\n",
              "      <td>0.087786</td>\n",
              "      <td>0.024338</td>\n",
              "      <td>0.005833</td>\n",
              "      <td>0.994167</td>\n",
              "      <td>0.994176</td>\n",
              "      <td>0.994090</td>\n",
              "      <td>00:58</td>\n",
              "    </tr>\n",
              "    <tr>\n",
              "      <td>31</td>\n",
              "      <td>0.082956</td>\n",
              "      <td>0.020931</td>\n",
              "      <td>0.006167</td>\n",
              "      <td>0.993833</td>\n",
              "      <td>0.993807</td>\n",
              "      <td>0.993856</td>\n",
              "      <td>00:58</td>\n",
              "    </tr>\n",
              "    <tr>\n",
              "      <td>32</td>\n",
              "      <td>0.082611</td>\n",
              "      <td>0.021603</td>\n",
              "      <td>0.006167</td>\n",
              "      <td>0.993833</td>\n",
              "      <td>0.993891</td>\n",
              "      <td>0.993771</td>\n",
              "      <td>00:58</td>\n",
              "    </tr>\n",
              "    <tr>\n",
              "      <td>33</td>\n",
              "      <td>0.084189</td>\n",
              "      <td>0.028458</td>\n",
              "      <td>0.008583</td>\n",
              "      <td>0.991417</td>\n",
              "      <td>0.991197</td>\n",
              "      <td>0.991434</td>\n",
              "      <td>00:58</td>\n",
              "    </tr>\n",
              "    <tr>\n",
              "      <td>34</td>\n",
              "      <td>0.079561</td>\n",
              "      <td>0.022742</td>\n",
              "      <td>0.006750</td>\n",
              "      <td>0.993250</td>\n",
              "      <td>0.993163</td>\n",
              "      <td>0.993237</td>\n",
              "      <td>00:59</td>\n",
              "    </tr>\n",
              "    <tr>\n",
              "      <td>35</td>\n",
              "      <td>0.079271</td>\n",
              "      <td>0.025610</td>\n",
              "      <td>0.006750</td>\n",
              "      <td>0.993250</td>\n",
              "      <td>0.993282</td>\n",
              "      <td>0.993142</td>\n",
              "      <td>00:59</td>\n",
              "    </tr>\n",
              "    <tr>\n",
              "      <td>36</td>\n",
              "      <td>0.072103</td>\n",
              "      <td>0.022750</td>\n",
              "      <td>0.006000</td>\n",
              "      <td>0.994000</td>\n",
              "      <td>0.994039</td>\n",
              "      <td>0.993923</td>\n",
              "      <td>01:00</td>\n",
              "    </tr>\n",
              "    <tr>\n",
              "      <td>37</td>\n",
              "      <td>0.071505</td>\n",
              "      <td>0.023418</td>\n",
              "      <td>0.006083</td>\n",
              "      <td>0.993917</td>\n",
              "      <td>0.993952</td>\n",
              "      <td>0.993787</td>\n",
              "      <td>01:00</td>\n",
              "    </tr>\n",
              "    <tr>\n",
              "      <td>38</td>\n",
              "      <td>0.072978</td>\n",
              "      <td>0.028358</td>\n",
              "      <td>0.008333</td>\n",
              "      <td>0.991667</td>\n",
              "      <td>0.991730</td>\n",
              "      <td>0.991570</td>\n",
              "      <td>01:00</td>\n",
              "    </tr>\n",
              "    <tr>\n",
              "      <td>39</td>\n",
              "      <td>0.065315</td>\n",
              "      <td>0.023588</td>\n",
              "      <td>0.006417</td>\n",
              "      <td>0.993583</td>\n",
              "      <td>0.993550</td>\n",
              "      <td>0.993498</td>\n",
              "      <td>01:00</td>\n",
              "    </tr>\n",
              "    <tr>\n",
              "      <td>40</td>\n",
              "      <td>0.064915</td>\n",
              "      <td>0.020240</td>\n",
              "      <td>0.005083</td>\n",
              "      <td>0.994917</td>\n",
              "      <td>0.994872</td>\n",
              "      <td>0.994812</td>\n",
              "      <td>01:00</td>\n",
              "    </tr>\n",
              "    <tr>\n",
              "      <td>41</td>\n",
              "      <td>0.063563</td>\n",
              "      <td>0.020486</td>\n",
              "      <td>0.005750</td>\n",
              "      <td>0.994250</td>\n",
              "      <td>0.994173</td>\n",
              "      <td>0.994193</td>\n",
              "      <td>01:00</td>\n",
              "    </tr>\n",
              "    <tr>\n",
              "      <td>42</td>\n",
              "      <td>0.061365</td>\n",
              "      <td>0.021892</td>\n",
              "      <td>0.005833</td>\n",
              "      <td>0.994167</td>\n",
              "      <td>0.994132</td>\n",
              "      <td>0.994040</td>\n",
              "      <td>00:59</td>\n",
              "    </tr>\n",
              "    <tr>\n",
              "      <td>43</td>\n",
              "      <td>0.059361</td>\n",
              "      <td>0.019965</td>\n",
              "      <td>0.005417</td>\n",
              "      <td>0.994583</td>\n",
              "      <td>0.994559</td>\n",
              "      <td>0.994497</td>\n",
              "      <td>00:59</td>\n",
              "    </tr>\n",
              "    <tr>\n",
              "      <td>44</td>\n",
              "      <td>0.056666</td>\n",
              "      <td>0.019860</td>\n",
              "      <td>0.005417</td>\n",
              "      <td>0.994583</td>\n",
              "      <td>0.994590</td>\n",
              "      <td>0.994461</td>\n",
              "      <td>01:00</td>\n",
              "    </tr>\n",
              "    <tr>\n",
              "      <td>45</td>\n",
              "      <td>0.055815</td>\n",
              "      <td>0.019480</td>\n",
              "      <td>0.005250</td>\n",
              "      <td>0.994750</td>\n",
              "      <td>0.994732</td>\n",
              "      <td>0.994686</td>\n",
              "      <td>01:00</td>\n",
              "    </tr>\n",
              "    <tr>\n",
              "      <td>46</td>\n",
              "      <td>0.057824</td>\n",
              "      <td>0.019051</td>\n",
              "      <td>0.004917</td>\n",
              "      <td>0.995083</td>\n",
              "      <td>0.995097</td>\n",
              "      <td>0.994944</td>\n",
              "      <td>00:59</td>\n",
              "    </tr>\n",
              "    <tr>\n",
              "      <td>47</td>\n",
              "      <td>0.055228</td>\n",
              "      <td>0.021031</td>\n",
              "      <td>0.005833</td>\n",
              "      <td>0.994167</td>\n",
              "      <td>0.994166</td>\n",
              "      <td>0.994076</td>\n",
              "      <td>00:59</td>\n",
              "    </tr>\n",
              "    <tr>\n",
              "      <td>48</td>\n",
              "      <td>0.051702</td>\n",
              "      <td>0.019339</td>\n",
              "      <td>0.005500</td>\n",
              "      <td>0.994500</td>\n",
              "      <td>0.994472</td>\n",
              "      <td>0.994416</td>\n",
              "      <td>00:59</td>\n",
              "    </tr>\n",
              "    <tr>\n",
              "      <td>49</td>\n",
              "      <td>0.053509</td>\n",
              "      <td>0.018638</td>\n",
              "      <td>0.004583</td>\n",
              "      <td>0.995417</td>\n",
              "      <td>0.995390</td>\n",
              "      <td>0.995346</td>\n",
              "      <td>00:59</td>\n",
              "    </tr>\n",
              "    <tr>\n",
              "      <td>50</td>\n",
              "      <td>0.053954</td>\n",
              "      <td>0.019225</td>\n",
              "      <td>0.005250</td>\n",
              "      <td>0.994750</td>\n",
              "      <td>0.994731</td>\n",
              "      <td>0.994658</td>\n",
              "      <td>00:59</td>\n",
              "    </tr>\n",
              "    <tr>\n",
              "      <td>51</td>\n",
              "      <td>0.048250</td>\n",
              "      <td>0.019035</td>\n",
              "      <td>0.004500</td>\n",
              "      <td>0.995500</td>\n",
              "      <td>0.995499</td>\n",
              "      <td>0.995397</td>\n",
              "      <td>00:59</td>\n",
              "    </tr>\n",
              "    <tr>\n",
              "      <td>52</td>\n",
              "      <td>0.050691</td>\n",
              "      <td>0.018828</td>\n",
              "      <td>0.004750</td>\n",
              "      <td>0.995250</td>\n",
              "      <td>0.995246</td>\n",
              "      <td>0.995149</td>\n",
              "      <td>00:59</td>\n",
              "    </tr>\n",
              "    <tr>\n",
              "      <td>53</td>\n",
              "      <td>0.045062</td>\n",
              "      <td>0.018249</td>\n",
              "      <td>0.004500</td>\n",
              "      <td>0.995500</td>\n",
              "      <td>0.995490</td>\n",
              "      <td>0.995421</td>\n",
              "      <td>00:59</td>\n",
              "    </tr>\n",
              "    <tr>\n",
              "      <td>54</td>\n",
              "      <td>0.047429</td>\n",
              "      <td>0.018094</td>\n",
              "      <td>0.005000</td>\n",
              "      <td>0.995000</td>\n",
              "      <td>0.994987</td>\n",
              "      <td>0.994936</td>\n",
              "      <td>00:59</td>\n",
              "    </tr>\n",
              "    <tr>\n",
              "      <td>55</td>\n",
              "      <td>0.046252</td>\n",
              "      <td>0.018134</td>\n",
              "      <td>0.004667</td>\n",
              "      <td>0.995333</td>\n",
              "      <td>0.995330</td>\n",
              "      <td>0.995272</td>\n",
              "      <td>00:59</td>\n",
              "    </tr>\n",
              "    <tr>\n",
              "      <td>56</td>\n",
              "      <td>0.045761</td>\n",
              "      <td>0.018483</td>\n",
              "      <td>0.004583</td>\n",
              "      <td>0.995417</td>\n",
              "      <td>0.995413</td>\n",
              "      <td>0.995355</td>\n",
              "      <td>01:00</td>\n",
              "    </tr>\n",
              "    <tr>\n",
              "      <td>57</td>\n",
              "      <td>0.046981</td>\n",
              "      <td>0.018366</td>\n",
              "      <td>0.004917</td>\n",
              "      <td>0.995083</td>\n",
              "      <td>0.995076</td>\n",
              "      <td>0.995015</td>\n",
              "      <td>01:00</td>\n",
              "    </tr>\n",
              "    <tr>\n",
              "      <td>58</td>\n",
              "      <td>0.051683</td>\n",
              "      <td>0.018604</td>\n",
              "      <td>0.004583</td>\n",
              "      <td>0.995417</td>\n",
              "      <td>0.995409</td>\n",
              "      <td>0.995347</td>\n",
              "      <td>01:00</td>\n",
              "    </tr>\n",
              "    <tr>\n",
              "      <td>59</td>\n",
              "      <td>0.045357</td>\n",
              "      <td>0.017982</td>\n",
              "      <td>0.004750</td>\n",
              "      <td>0.995250</td>\n",
              "      <td>0.995240</td>\n",
              "      <td>0.995188</td>\n",
              "      <td>01:00</td>\n",
              "    </tr>\n",
              "  </tbody>\n",
              "</table>"
            ],
            "text/plain": [
              "<IPython.core.display.HTML object>"
            ]
          },
          "metadata": {
            "tags": []
          }
        }
      ]
    },
    {
      "cell_type": "code",
      "metadata": {
        "colab": {
          "base_uri": "https://localhost:8080/",
          "height": 167
        },
        "id": "Nu4kult-CTWG",
        "outputId": "8f8b742c-22d1-44ac-89da-27cd61bc8771"
      },
      "source": [
        "learn_34_unt.validate(dl=test_dl)"
      ],
      "execution_count": 1,
      "outputs": [
        {
          "output_type": "error",
          "ename": "NameError",
          "evalue": "ignored",
          "traceback": [
            "\u001b[0;31m---------------------------------------------------------------------------\u001b[0m",
            "\u001b[0;31mNameError\u001b[0m                                 Traceback (most recent call last)",
            "\u001b[0;32m<ipython-input-1-8d292e7c0120>\u001b[0m in \u001b[0;36m<module>\u001b[0;34m()\u001b[0m\n\u001b[0;32m----> 1\u001b[0;31m \u001b[0mlearn_34_unt\u001b[0m\u001b[0;34m.\u001b[0m\u001b[0mvalidate\u001b[0m\u001b[0;34m(\u001b[0m\u001b[0mdl\u001b[0m\u001b[0;34m=\u001b[0m\u001b[0mtest_dl\u001b[0m\u001b[0;34m)\u001b[0m\u001b[0;34m\u001b[0m\u001b[0;34m\u001b[0m\u001b[0m\n\u001b[0m",
            "\u001b[0;31mNameError\u001b[0m: name 'learn_34_unt' is not defined"
          ]
        }
      ]
    },
    {
      "cell_type": "code",
      "metadata": {
        "id": "l_a4lbOmCTTi"
      },
      "source": [
        ""
      ],
      "execution_count": null,
      "outputs": []
    },
    {
      "cell_type": "code",
      "metadata": {
        "id": "W9khWfQkCTQU"
      },
      "source": [
        ""
      ],
      "execution_count": null,
      "outputs": []
    },
    {
      "cell_type": "code",
      "metadata": {
        "id": "lnx52dX_CTNl"
      },
      "source": [
        ""
      ],
      "execution_count": null,
      "outputs": []
    },
    {
      "cell_type": "code",
      "metadata": {
        "id": "KOPV4wN3CTAx"
      },
      "source": [
        ""
      ],
      "execution_count": null,
      "outputs": []
    }
  ]
}