{
  "nbformat": 4,
  "nbformat_minor": 0,
  "metadata": {
    "jupytext": {
      "split_at_heading": true
    },
    "kernelspec": {
      "display_name": "Python 3",
      "language": "python",
      "name": "python3"
    },
    "colab": {
      "name": "04_mnist_full_dataset.ipynb",
      "provenance": [],
      "collapsed_sections": [],
      "toc_visible": true,
      "include_colab_link": true
    },
    "accelerator": "GPU",
    "widgets": {
      "application/vnd.jupyter.widget-state+json": {
        "1c06f9adc7c24a88aa0761276541f237": {
          "model_module": "@jupyter-widgets/controls",
          "model_name": "HBoxModel",
          "state": {
            "_view_name": "HBoxView",
            "_dom_classes": [],
            "_model_name": "HBoxModel",
            "_view_module": "@jupyter-widgets/controls",
            "_model_module_version": "1.5.0",
            "_view_count": null,
            "_view_module_version": "1.5.0",
            "box_style": "",
            "layout": "IPY_MODEL_d1b3c7cbb3ad4f6680f4041090baf59d",
            "_model_module": "@jupyter-widgets/controls",
            "children": [
              "IPY_MODEL_5c709d7e792c4cd5a390115f5263df1f",
              "IPY_MODEL_70815d5d0f334ab981cd635ac095e254"
            ]
          }
        },
        "d1b3c7cbb3ad4f6680f4041090baf59d": {
          "model_module": "@jupyter-widgets/base",
          "model_name": "LayoutModel",
          "state": {
            "_view_name": "LayoutView",
            "grid_template_rows": null,
            "right": null,
            "justify_content": null,
            "_view_module": "@jupyter-widgets/base",
            "overflow": null,
            "_model_module_version": "1.2.0",
            "_view_count": null,
            "flex_flow": null,
            "width": null,
            "min_width": null,
            "border": null,
            "align_items": null,
            "bottom": null,
            "_model_module": "@jupyter-widgets/base",
            "top": null,
            "grid_column": null,
            "overflow_y": null,
            "overflow_x": null,
            "grid_auto_flow": null,
            "grid_area": null,
            "grid_template_columns": null,
            "flex": null,
            "_model_name": "LayoutModel",
            "justify_items": null,
            "grid_row": null,
            "max_height": null,
            "align_content": null,
            "visibility": null,
            "align_self": null,
            "height": null,
            "min_height": null,
            "padding": null,
            "grid_auto_rows": null,
            "grid_gap": null,
            "max_width": null,
            "order": null,
            "_view_module_version": "1.2.0",
            "grid_template_areas": null,
            "object_position": null,
            "object_fit": null,
            "grid_auto_columns": null,
            "margin": null,
            "display": null,
            "left": null
          }
        },
        "5c709d7e792c4cd5a390115f5263df1f": {
          "model_module": "@jupyter-widgets/controls",
          "model_name": "FloatProgressModel",
          "state": {
            "_view_name": "ProgressView",
            "style": "IPY_MODEL_b19af10fbc5f4c329811b0c969928581",
            "_dom_classes": [],
            "description": "100%",
            "_model_name": "FloatProgressModel",
            "bar_style": "success",
            "max": 46827520,
            "_view_module": "@jupyter-widgets/controls",
            "_model_module_version": "1.5.0",
            "value": 46827520,
            "_view_count": null,
            "_view_module_version": "1.5.0",
            "orientation": "horizontal",
            "min": 0,
            "description_tooltip": null,
            "_model_module": "@jupyter-widgets/controls",
            "layout": "IPY_MODEL_15c2b64eae3947c5826bccb64da02c02"
          }
        },
        "70815d5d0f334ab981cd635ac095e254": {
          "model_module": "@jupyter-widgets/controls",
          "model_name": "HTMLModel",
          "state": {
            "_view_name": "HTMLView",
            "style": "IPY_MODEL_3f70079cfbc54e3ea1d5732e6201548e",
            "_dom_classes": [],
            "description": "",
            "_model_name": "HTMLModel",
            "placeholder": "​",
            "_view_module": "@jupyter-widgets/controls",
            "_model_module_version": "1.5.0",
            "value": " 44.7M/44.7M [01:40&lt;00:00, 468kB/s]",
            "_view_count": null,
            "_view_module_version": "1.5.0",
            "description_tooltip": null,
            "_model_module": "@jupyter-widgets/controls",
            "layout": "IPY_MODEL_b51987c26b4a47f08cff50e5c0517e09"
          }
        },
        "b19af10fbc5f4c329811b0c969928581": {
          "model_module": "@jupyter-widgets/controls",
          "model_name": "ProgressStyleModel",
          "state": {
            "_view_name": "StyleView",
            "_model_name": "ProgressStyleModel",
            "description_width": "initial",
            "_view_module": "@jupyter-widgets/base",
            "_model_module_version": "1.5.0",
            "_view_count": null,
            "_view_module_version": "1.2.0",
            "bar_color": null,
            "_model_module": "@jupyter-widgets/controls"
          }
        },
        "15c2b64eae3947c5826bccb64da02c02": {
          "model_module": "@jupyter-widgets/base",
          "model_name": "LayoutModel",
          "state": {
            "_view_name": "LayoutView",
            "grid_template_rows": null,
            "right": null,
            "justify_content": null,
            "_view_module": "@jupyter-widgets/base",
            "overflow": null,
            "_model_module_version": "1.2.0",
            "_view_count": null,
            "flex_flow": null,
            "width": null,
            "min_width": null,
            "border": null,
            "align_items": null,
            "bottom": null,
            "_model_module": "@jupyter-widgets/base",
            "top": null,
            "grid_column": null,
            "overflow_y": null,
            "overflow_x": null,
            "grid_auto_flow": null,
            "grid_area": null,
            "grid_template_columns": null,
            "flex": null,
            "_model_name": "LayoutModel",
            "justify_items": null,
            "grid_row": null,
            "max_height": null,
            "align_content": null,
            "visibility": null,
            "align_self": null,
            "height": null,
            "min_height": null,
            "padding": null,
            "grid_auto_rows": null,
            "grid_gap": null,
            "max_width": null,
            "order": null,
            "_view_module_version": "1.2.0",
            "grid_template_areas": null,
            "object_position": null,
            "object_fit": null,
            "grid_auto_columns": null,
            "margin": null,
            "display": null,
            "left": null
          }
        },
        "3f70079cfbc54e3ea1d5732e6201548e": {
          "model_module": "@jupyter-widgets/controls",
          "model_name": "DescriptionStyleModel",
          "state": {
            "_view_name": "StyleView",
            "_model_name": "DescriptionStyleModel",
            "description_width": "",
            "_view_module": "@jupyter-widgets/base",
            "_model_module_version": "1.5.0",
            "_view_count": null,
            "_view_module_version": "1.2.0",
            "_model_module": "@jupyter-widgets/controls"
          }
        },
        "b51987c26b4a47f08cff50e5c0517e09": {
          "model_module": "@jupyter-widgets/base",
          "model_name": "LayoutModel",
          "state": {
            "_view_name": "LayoutView",
            "grid_template_rows": null,
            "right": null,
            "justify_content": null,
            "_view_module": "@jupyter-widgets/base",
            "overflow": null,
            "_model_module_version": "1.2.0",
            "_view_count": null,
            "flex_flow": null,
            "width": null,
            "min_width": null,
            "border": null,
            "align_items": null,
            "bottom": null,
            "_model_module": "@jupyter-widgets/base",
            "top": null,
            "grid_column": null,
            "overflow_y": null,
            "overflow_x": null,
            "grid_auto_flow": null,
            "grid_area": null,
            "grid_template_columns": null,
            "flex": null,
            "_model_name": "LayoutModel",
            "justify_items": null,
            "grid_row": null,
            "max_height": null,
            "align_content": null,
            "visibility": null,
            "align_self": null,
            "height": null,
            "min_height": null,
            "padding": null,
            "grid_auto_rows": null,
            "grid_gap": null,
            "max_width": null,
            "order": null,
            "_view_module_version": "1.2.0",
            "grid_template_areas": null,
            "object_position": null,
            "object_fit": null,
            "grid_auto_columns": null,
            "margin": null,
            "display": null,
            "left": null
          }
        }
      }
    }
  },
  "cells": [
    {
      "cell_type": "markdown",
      "metadata": {
        "id": "view-in-github",
        "colab_type": "text"
      },
      "source": [
        "<a href=\"https://colab.research.google.com/github/vtecftwy/fastbook/blob/walk-thru/04_mnist_full_dataset.ipynb\" target=\"_parent\"><img src=\"https://colab.research.google.com/assets/colab-badge.svg\" alt=\"Open In Colab\"/></a>"
      ]
    },
    {
      "cell_type": "markdown",
      "metadata": {
        "id": "8czcNhgvDEwg"
      },
      "source": [
        "# MNIST Full Dataset\r\n",
        "Model to classify MNIST for unpackAI Bootcamp 2: first session"
      ]
    },
    {
      "cell_type": "code",
      "metadata": {
        "id": "4cvsxjI79goj",
        "colab": {
          "base_uri": "https://localhost:8080/"
        },
        "outputId": "6cd11903-f3d9-4446-ddae-a29e9ba778c2"
      },
      "source": [
        "!pip install -Uqq fastbook\n",
        "import fastbook\n",
        "fastbook.setup_book()"
      ],
      "execution_count": 1,
      "outputs": [
        {
          "output_type": "stream",
          "text": [
            "\u001b[K     |████████████████████████████████| 727kB 16.5MB/s \n",
            "\u001b[K     |████████████████████████████████| 1.1MB 47.0MB/s \n",
            "\u001b[K     |████████████████████████████████| 194kB 57.9MB/s \n",
            "\u001b[K     |████████████████████████████████| 51kB 7.8MB/s \n",
            "\u001b[K     |████████████████████████████████| 61kB 9.4MB/s \n",
            "\u001b[?25hMounted at /content/gdrive\n"
          ],
          "name": "stdout"
        }
      ]
    },
    {
      "cell_type": "code",
      "metadata": {
        "id": "KLNuuB179gou"
      },
      "source": [
        "from fastai.vision.all import *\n",
        "from fastbook import *\n",
        "\n",
        "matplotlib.rc('image', cmap='Greys')"
      ],
      "execution_count": 2,
      "outputs": []
    },
    {
      "cell_type": "markdown",
      "metadata": {
        "id": "IG2GIkeMJvrK"
      },
      "source": [
        "## Load MNIST data and create dataloaders"
      ]
    },
    {
      "cell_type": "code",
      "metadata": {
        "colab": {
          "base_uri": "https://localhost:8080/",
          "height": 90
        },
        "id": "JR17Y3o-DfhG",
        "outputId": "a4a9a7a5-7218-4938-835c-b23427a78a18"
      },
      "source": [
        "path = untar_data(URLs.MNIST)\r\n",
        "path.ls(),  (path/'training').ls(), (path/'testing').ls()"
      ],
      "execution_count": 3,
      "outputs": [
        {
          "output_type": "display_data",
          "data": {
            "text/html": [
              ""
            ],
            "text/plain": [
              "<IPython.core.display.HTML object>"
            ]
          },
          "metadata": {
            "tags": []
          }
        },
        {
          "output_type": "execute_result",
          "data": {
            "text/plain": [
              "((#2) [Path('/root/.fastai/data/mnist_png/testing'),Path('/root/.fastai/data/mnist_png/training')],\n",
              " (#10) [Path('/root/.fastai/data/mnist_png/training/3'),Path('/root/.fastai/data/mnist_png/training/1'),Path('/root/.fastai/data/mnist_png/training/0'),Path('/root/.fastai/data/mnist_png/training/9'),Path('/root/.fastai/data/mnist_png/training/6'),Path('/root/.fastai/data/mnist_png/training/2'),Path('/root/.fastai/data/mnist_png/training/8'),Path('/root/.fastai/data/mnist_png/training/5'),Path('/root/.fastai/data/mnist_png/training/7'),Path('/root/.fastai/data/mnist_png/training/4')],\n",
              " (#10) [Path('/root/.fastai/data/mnist_png/testing/3'),Path('/root/.fastai/data/mnist_png/testing/1'),Path('/root/.fastai/data/mnist_png/testing/0'),Path('/root/.fastai/data/mnist_png/testing/9'),Path('/root/.fastai/data/mnist_png/testing/6'),Path('/root/.fastai/data/mnist_png/testing/2'),Path('/root/.fastai/data/mnist_png/testing/8'),Path('/root/.fastai/data/mnist_png/testing/5'),Path('/root/.fastai/data/mnist_png/testing/7'),Path('/root/.fastai/data/mnist_png/testing/4')])"
            ]
          },
          "metadata": {
            "tags": []
          },
          "execution_count": 3
        }
      ]
    },
    {
      "cell_type": "markdown",
      "metadata": {
        "id": "kGAA0yWZK3XB"
      },
      "source": [
        "Folder structure: \r\n",
        "- `training\\0`: all images of 0\r\n",
        "- `training\\1`: all images of 1\r\n",
        "- . . . \r\n",
        "- `training\\9`: all images of 9\r\n",
        "- `testing\\0`: all images of 0\r\n",
        "- `testing\\1`: all images of 1\r\n",
        "- . . . \r\n",
        "- `testing\\9`: all images of 9"
      ]
    },
    {
      "cell_type": "markdown",
      "metadata": {
        "id": "ncTC-nabKEs5"
      },
      "source": [
        "Elements to create the DataBlocks:\r\n",
        "- `blocks`: \r\n",
        "    - `ImageBlock`. But MNIST images are BW, so we also pass the cls `PILImageBW`\r\n",
        "    - `CategoryBlock`\r\n",
        "- `get_items`: `get_image_files` method to get the list of all image files in the folder\r\n",
        "- `get_y`: `parent_label` as images are grouped be folder/category\r\n",
        "- `splitter`: `RamdomSplitter` because this dataset only includes a training folder and a testing folder, no validation folder."
      ]
    },
    {
      "cell_type": "code",
      "metadata": {
        "id": "eA3O9VZPDfeY"
      },
      "source": [
        "dblock = DataBlock(blocks=(ImageBlock(cls=PILImageBW), CategoryBlock),\r\n",
        "                   get_items=get_image_files,\r\n",
        "                   get_y=parent_label,\r\n",
        "                   splitter=RandomSplitter(seed=1988)\r\n",
        "                   )"
      ],
      "execution_count": 7,
      "outputs": []
    },
    {
      "cell_type": "code",
      "metadata": {
        "id": "48yX8hpKDfbQ"
      },
      "source": [
        "dls = dblock.dataloaders(path/'training', bs=256)"
      ],
      "execution_count": 8,
      "outputs": []
    },
    {
      "cell_type": "code",
      "metadata": {
        "colab": {
          "base_uri": "https://localhost:8080/",
          "height": 482
        },
        "id": "ioQJp0yCHgwz",
        "outputId": "d55904e7-7aa3-4111-c77e-95d241a6992b"
      },
      "source": [
        "dls.show_batch(max_n=25, figsize=(8,8))"
      ],
      "execution_count": 9,
      "outputs": [
        {
          "output_type": "display_data",
          "data": {
            "image/png": "[encoded data removed]",
            "text/plain": [
              "<Figure size 576x576 with 25 Axes>"
            ]
          },
          "metadata": {
            "tags": [],
            "needs_background": "light"
          }
        }
      ]
    },
    {
      "cell_type": "code",
      "metadata": {
        "colab": {
          "base_uri": "https://localhost:8080/"
        },
        "id": "hYNb9olzDfYo",
        "outputId": "31952ccb-a69c-4d55-e2c8-d3231dc159de"
      },
      "source": [
        "dls.vocab"
      ],
      "execution_count": 10,
      "outputs": [
        {
          "output_type": "execute_result",
          "data": {
            "text/plain": [
              "['0', '1', '2', '3', '4', '5', '6', '7', '8', '9']"
            ]
          },
          "metadata": {
            "tags": []
          },
          "execution_count": 10
        }
      ]
    },
    {
      "cell_type": "code",
      "metadata": {
        "id": "g2fT3f-iDfVt"
      },
      "source": [
        "# dblock.summary(path)"
      ],
      "execution_count": 12,
      "outputs": []
    },
    {
      "cell_type": "markdown",
      "metadata": {
        "id": "VwtXnHz6Ddxb"
      },
      "source": [
        "Testset dataloader"
      ]
    },
    {
      "cell_type": "code",
      "metadata": {
        "id": "2HwXypgzDc3l"
      },
      "source": [
        "test_dls = dblock.dataloaders(path/'testing')\r\n",
        "test_dl = dls.test_dl(test_items=test_dls.items, with_labels=True)"
      ],
      "execution_count": null,
      "outputs": []
    },
    {
      "cell_type": "code",
      "metadata": {
        "id": "puYAfuH7DcvE"
      },
      "source": [
        "test_dls.show_batch(max_n=25, figsize=(8,8))"
      ],
      "execution_count": null,
      "outputs": []
    },
    {
      "cell_type": "markdown",
      "metadata": {
        "id": "U-MEcLdv6o6I"
      },
      "source": [
        "## Resnet 18  Pretrained"
      ]
    },
    {
      "cell_type": "code",
      "metadata": {
        "id": "9vb3iyIsDfSh",
        "colab": {
          "base_uri": "https://localhost:8080/",
          "height": 84,
          "referenced_widgets": [
            "1c06f9adc7c24a88aa0761276541f237",
            "d1b3c7cbb3ad4f6680f4041090baf59d",
            "5c709d7e792c4cd5a390115f5263df1f",
            "70815d5d0f334ab981cd635ac095e254",
            "b19af10fbc5f4c329811b0c969928581",
            "15c2b64eae3947c5826bccb64da02c02",
            "3f70079cfbc54e3ea1d5732e6201548e",
            "b51987c26b4a47f08cff50e5c0517e09"
          ]
        },
        "outputId": "0bd7e71a-1962-46c7-e7bf-bd93f201f53a"
      },
      "source": [
        "precision = Precision(average='macro')\r\n",
        "recall = Recall(average='macro')\r\n",
        "\r\n",
        "learn_18 = cnn_learner(dls, resnet18, metrics=[error_rate, accuracy, precision, recall], pretrained=True)"
      ],
      "execution_count": 13,
      "outputs": [
        {
          "output_type": "stream",
          "text": [
            "Downloading: \"https://download.pytorch.org/models/resnet18-5c106cde.pth\" to /root/.cache/torch/hub/checkpoints/resnet18-5c106cde.pth\n"
          ],
          "name": "stderr"
        },
        {
          "output_type": "display_data",
          "data": {
            "application/vnd.jupyter.widget-view+json": {
              "model_id": "1c06f9adc7c24a88aa0761276541f237",
              "version_minor": 0,
              "version_major": 2
            },
            "text/plain": [
              "HBox(children=(FloatProgress(value=0.0, max=46827520.0), HTML(value='')))"
            ]
          },
          "metadata": {
            "tags": []
          }
        },
        {
          "output_type": "stream",
          "text": [
            "\n"
          ],
          "name": "stdout"
        }
      ]
    },
    {
      "cell_type": "code",
      "metadata": {
        "colab": {
          "base_uri": "https://localhost:8080/",
          "height": 301
        },
        "id": "M_qGB_d3DfOv",
        "outputId": "d5b309eb-994a-46a9-bc2d-54293891d651"
      },
      "source": [
        "learn_18.lr_find()"
      ],
      "execution_count": 14,
      "outputs": [
        {
          "output_type": "display_data",
          "data": {
            "text/html": [
              ""
            ],
            "text/plain": [
              "<IPython.core.display.HTML object>"
            ]
          },
          "metadata": {
            "tags": []
          }
        },
        {
          "output_type": "execute_result",
          "data": {
            "text/plain": [
              "SuggestedLRs(lr_min=0.06309573650360108, lr_steep=0.009120108559727669)"
            ]
          },
          "metadata": {
            "tags": []
          },
          "execution_count": 14
        },
        {
          "output_type": "display_data",
          "data": {
            "image/png": "[encoded data removed]",
            "text/plain": [
              "<Figure size 432x288 with 1 Axes>"
            ]
          },
          "metadata": {
            "tags": [],
            "needs_background": "light"
          }
        }
      ]
    },
    {
      "cell_type": "code",
      "metadata": {
        "colab": {
          "base_uri": "https://localhost:8080/",
          "height": 284
        },
        "id": "WBVmQf4zDfF3",
        "outputId": "59fadd8a-90ed-4e9f-86a8-b0076b345090"
      },
      "source": [
        "n = 8\r\n",
        "lr = 1e-2\r\n",
        "learn_18.fit_one_cycle(n_epoch=n, lr_max=lr)"
      ],
      "execution_count": null,
      "outputs": [
        {
          "output_type": "display_data",
          "data": {
            "text/html": [
              "<table border=\"1\" class=\"dataframe\">\n",
              "  <thead>\n",
              "    <tr style=\"text-align: left;\">\n",
              "      <th>epoch</th>\n",
              "      <th>train_loss</th>\n",
              "      <th>valid_loss</th>\n",
              "      <th>error_rate</th>\n",
              "      <th>accuracy</th>\n",
              "      <th>precision_score</th>\n",
              "      <th>recall_score</th>\n",
              "      <th>time</th>\n",
              "    </tr>\n",
              "  </thead>\n",
              "  <tbody>\n",
              "    <tr>\n",
              "      <td>0</td>\n",
              "      <td>0.409579</td>\n",
              "      <td>0.171444</td>\n",
              "      <td>0.051917</td>\n",
              "      <td>0.948083</td>\n",
              "      <td>0.947772</td>\n",
              "      <td>0.947966</td>\n",
              "      <td>00:52</td>\n",
              "    </tr>\n",
              "    <tr>\n",
              "      <td>1</td>\n",
              "      <td>0.138568</td>\n",
              "      <td>0.140069</td>\n",
              "      <td>0.040583</td>\n",
              "      <td>0.959417</td>\n",
              "      <td>0.960020</td>\n",
              "      <td>0.959577</td>\n",
              "      <td>00:51</td>\n",
              "    </tr>\n",
              "    <tr>\n",
              "      <td>2</td>\n",
              "      <td>0.093107</td>\n",
              "      <td>0.151755</td>\n",
              "      <td>0.041333</td>\n",
              "      <td>0.958667</td>\n",
              "      <td>0.959541</td>\n",
              "      <td>0.959296</td>\n",
              "      <td>00:50</td>\n",
              "    </tr>\n",
              "    <tr>\n",
              "      <td>3</td>\n",
              "      <td>0.070350</td>\n",
              "      <td>0.068100</td>\n",
              "      <td>0.017750</td>\n",
              "      <td>0.982250</td>\n",
              "      <td>0.982272</td>\n",
              "      <td>0.982171</td>\n",
              "      <td>00:50</td>\n",
              "    </tr>\n",
              "    <tr>\n",
              "      <td>4</td>\n",
              "      <td>0.053668</td>\n",
              "      <td>0.054839</td>\n",
              "      <td>0.014417</td>\n",
              "      <td>0.985583</td>\n",
              "      <td>0.985631</td>\n",
              "      <td>0.985578</td>\n",
              "      <td>00:49</td>\n",
              "    </tr>\n",
              "    <tr>\n",
              "      <td>5</td>\n",
              "      <td>0.035598</td>\n",
              "      <td>0.040150</td>\n",
              "      <td>0.010917</td>\n",
              "      <td>0.989083</td>\n",
              "      <td>0.989159</td>\n",
              "      <td>0.989073</td>\n",
              "      <td>00:49</td>\n",
              "    </tr>\n",
              "    <tr>\n",
              "      <td>6</td>\n",
              "      <td>0.025495</td>\n",
              "      <td>0.040677</td>\n",
              "      <td>0.010167</td>\n",
              "      <td>0.989833</td>\n",
              "      <td>0.989855</td>\n",
              "      <td>0.989753</td>\n",
              "      <td>00:49</td>\n",
              "    </tr>\n",
              "    <tr>\n",
              "      <td>7</td>\n",
              "      <td>0.015215</td>\n",
              "      <td>0.040784</td>\n",
              "      <td>0.009500</td>\n",
              "      <td>0.990500</td>\n",
              "      <td>0.990497</td>\n",
              "      <td>0.990430</td>\n",
              "      <td>00:50</td>\n",
              "    </tr>\n",
              "  </tbody>\n",
              "</table>"
            ],
            "text/plain": [
              "<IPython.core.display.HTML object>"
            ]
          },
          "metadata": {
            "tags": []
          }
        }
      ]
    },
    {
      "cell_type": "code",
      "metadata": {
        "colab": {
          "base_uri": "https://localhost:8080/",
          "height": 265
        },
        "id": "bigrG5HFYksx",
        "outputId": "1a85eb7c-68d7-47a3-a846-b2857eb500a2"
      },
      "source": [
        "learn_18.recorder.plot_loss(skip_start=100)"
      ],
      "execution_count": null,
      "outputs": [
        {
          "output_type": "display_data",
          "data": {
            "image/png": "[encoded data removed]",
            "text/plain": [
              "<Figure size 432x288 with 1 Axes>"
            ]
          },
          "metadata": {
            "tags": [],
            "needs_background": "light"
          }
        }
      ]
    },
    {
      "cell_type": "code",
      "metadata": {
        "colab": {
          "base_uri": "https://localhost:8080/",
          "height": 34
        },
        "id": "6f61Au0Un30t",
        "outputId": "41d30605-2aae-46da-a4a7-a6b354c16d24"
      },
      "source": [
        "learn_18.validate(dl=test_dl)"
      ],
      "execution_count": null,
      "outputs": [
        {
          "output_type": "display_data",
          "data": {
            "text/html": [
              ""
            ],
            "text/plain": [
              "<IPython.core.display.HTML object>"
            ]
          },
          "metadata": {
            "tags": []
          }
        },
        {
          "output_type": "execute_result",
          "data": {
            "text/plain": [
              "(#5) [0.026596538722515106,0.008124999701976776,0.9918749928474426,0.9918806682284032,0.991857293525882]"
            ]
          },
          "metadata": {
            "tags": []
          },
          "execution_count": 201
        }
      ]
    },
    {
      "cell_type": "markdown",
      "metadata": {
        "id": "gghAtlUR9BUz"
      },
      "source": [
        "| Metric | Value |\r\n",
        "|--------|-----:|\r\n",
        "| Error Rate | 0.008125 |\r\n",
        "| Accuracy |0.991875|\r\n",
        "| Precision | 0.991881|\r\n",
        "| Recall | 0.991857|"
      ]
    },
    {
      "cell_type": "markdown",
      "metadata": {
        "id": "RoF3JeHN6wJK"
      },
      "source": [
        "## Resnet 18  Untrained"
      ]
    },
    {
      "cell_type": "code",
      "metadata": {
        "id": "bAx1fWhI6w3z"
      },
      "source": [
        "learn_18_unt = cnn_learner(dls, resnet18, metrics=[error_rate, accuracy, precision, recall], pretrained=False)"
      ],
      "execution_count": 15,
      "outputs": []
    },
    {
      "cell_type": "code",
      "metadata": {
        "colab": {
          "base_uri": "https://localhost:8080/",
          "height": 301
        },
        "id": "O4IIHlFt6w0j",
        "outputId": "87d5855c-fc34-4cd7-8272-2cf65f44ae14"
      },
      "source": [
        "learn_18_unt.lr_find()"
      ],
      "execution_count": 16,
      "outputs": [
        {
          "output_type": "display_data",
          "data": {
            "text/html": [
              ""
            ],
            "text/plain": [
              "<IPython.core.display.HTML object>"
            ]
          },
          "metadata": {
            "tags": []
          }
        },
        {
          "output_type": "execute_result",
          "data": {
            "text/plain": [
              "SuggestedLRs(lr_min=0.014454397559165954, lr_steep=0.0004786300996784121)"
            ]
          },
          "metadata": {
            "tags": []
          },
          "execution_count": 16
        },
        {
          "output_type": "display_data",
          "data": {
            "image/png": "[encoded data removed]",
            "text/plain": [
              "<Figure size 432x288 with 1 Axes>"
            ]
          },
          "metadata": {
            "tags": [],
            "needs_background": "light"
          }
        }
      ]
    },
    {
      "cell_type": "code",
      "metadata": {
        "colab": {
          "base_uri": "https://localhost:8080/",
          "height": 284
        },
        "id": "JvsbAIoc6wxj",
        "outputId": "0a06b592-0f06-4c0c-c419-19a3d1b4708a"
      },
      "source": [
        "n = 8\r\n",
        "lr = 1e-3\r\n",
        "learn_18_unt.fit_one_cycle(n_epoch=n, lr_max=lr)"
      ],
      "execution_count": 17,
      "outputs": [
        {
          "output_type": "display_data",
          "data": {
            "text/html": [
              "<table border=\"1\" class=\"dataframe\">\n",
              "  <thead>\n",
              "    <tr style=\"text-align: left;\">\n",
              "      <th>epoch</th>\n",
              "      <th>train_loss</th>\n",
              "      <th>valid_loss</th>\n",
              "      <th>error_rate</th>\n",
              "      <th>accuracy</th>\n",
              "      <th>precision_score</th>\n",
              "      <th>recall_score</th>\n",
              "      <th>time</th>\n",
              "    </tr>\n",
              "  </thead>\n",
              "  <tbody>\n",
              "    <tr>\n",
              "      <td>0</td>\n",
              "      <td>0.281269</td>\n",
              "      <td>0.156072</td>\n",
              "      <td>0.046917</td>\n",
              "      <td>0.953083</td>\n",
              "      <td>0.954461</td>\n",
              "      <td>0.952646</td>\n",
              "      <td>00:51</td>\n",
              "    </tr>\n",
              "    <tr>\n",
              "      <td>1</td>\n",
              "      <td>0.112043</td>\n",
              "      <td>0.075744</td>\n",
              "      <td>0.022583</td>\n",
              "      <td>0.977417</td>\n",
              "      <td>0.977428</td>\n",
              "      <td>0.976989</td>\n",
              "      <td>00:51</td>\n",
              "    </tr>\n",
              "    <tr>\n",
              "      <td>2</td>\n",
              "      <td>0.078653</td>\n",
              "      <td>0.052826</td>\n",
              "      <td>0.014917</td>\n",
              "      <td>0.985083</td>\n",
              "      <td>0.985192</td>\n",
              "      <td>0.984778</td>\n",
              "      <td>00:51</td>\n",
              "    </tr>\n",
              "    <tr>\n",
              "      <td>3</td>\n",
              "      <td>0.060607</td>\n",
              "      <td>0.056665</td>\n",
              "      <td>0.015250</td>\n",
              "      <td>0.984750</td>\n",
              "      <td>0.985066</td>\n",
              "      <td>0.984336</td>\n",
              "      <td>00:51</td>\n",
              "    </tr>\n",
              "    <tr>\n",
              "      <td>4</td>\n",
              "      <td>0.042045</td>\n",
              "      <td>0.054098</td>\n",
              "      <td>0.015417</td>\n",
              "      <td>0.984583</td>\n",
              "      <td>0.984736</td>\n",
              "      <td>0.984505</td>\n",
              "      <td>00:51</td>\n",
              "    </tr>\n",
              "    <tr>\n",
              "      <td>5</td>\n",
              "      <td>0.027003</td>\n",
              "      <td>0.040291</td>\n",
              "      <td>0.010500</td>\n",
              "      <td>0.989500</td>\n",
              "      <td>0.989536</td>\n",
              "      <td>0.989372</td>\n",
              "      <td>00:51</td>\n",
              "    </tr>\n",
              "    <tr>\n",
              "      <td>6</td>\n",
              "      <td>0.011142</td>\n",
              "      <td>0.029470</td>\n",
              "      <td>0.007417</td>\n",
              "      <td>0.992583</td>\n",
              "      <td>0.992556</td>\n",
              "      <td>0.992548</td>\n",
              "      <td>00:51</td>\n",
              "    </tr>\n",
              "    <tr>\n",
              "      <td>7</td>\n",
              "      <td>0.005596</td>\n",
              "      <td>0.028730</td>\n",
              "      <td>0.007167</td>\n",
              "      <td>0.992833</td>\n",
              "      <td>0.992806</td>\n",
              "      <td>0.992759</td>\n",
              "      <td>00:51</td>\n",
              "    </tr>\n",
              "  </tbody>\n",
              "</table>"
            ],
            "text/plain": [
              "<IPython.core.display.HTML object>"
            ]
          },
          "metadata": {
            "tags": []
          }
        }
      ]
    },
    {
      "cell_type": "code",
      "metadata": {
        "colab": {
          "base_uri": "https://localhost:8080/",
          "height": 265
        },
        "id": "yrSVOJGx6wuq",
        "outputId": "395ad785-e12f-4e6a-e361-3d5ed457e40a"
      },
      "source": [
        "learn_18_unt.recorder.plot_loss(skip_start=100)"
      ],
      "execution_count": 18,
      "outputs": [
        {
          "output_type": "display_data",
          "data": {
            "image/png": "[encoded data removed]",
            "text/plain": [
              "<Figure size 432x288 with 1 Axes>"
            ]
          },
          "metadata": {
            "tags": [],
            "needs_background": "light"
          }
        }
      ]
    },
    {
      "cell_type": "code",
      "metadata": {
        "colab": {
          "base_uri": "https://localhost:8080/",
          "height": 34
        },
        "id": "taa5Tved6wrz",
        "outputId": "dc326e87-735b-447e-b158-188d37475fed"
      },
      "source": [
        "learn_18_unt.validate(dl=test_dl)"
      ],
      "execution_count": 21,
      "outputs": [
        {
          "output_type": "display_data",
          "data": {
            "text/html": [
              ""
            ],
            "text/plain": [
              "<IPython.core.display.HTML object>"
            ]
          },
          "metadata": {
            "tags": []
          }
        },
        {
          "output_type": "execute_result",
          "data": {
            "text/plain": [
              "(#5) [0.019653407856822014,0.006750000175088644,0.9932500123977661,0.9932891450394876,0.9931776971926778]"
            ]
          },
          "metadata": {
            "tags": []
          },
          "execution_count": 21
        }
      ]
    },
    {
      "cell_type": "markdown",
      "metadata": {
        "id": "gEu80qdK-U5r"
      },
      "source": [
        "| Metric | Value |\r\n",
        "|--------|-----:|\r\n",
        "| Error Rate | 0.0067500\r\n",
        "| Accuracy | 0.9932500\r\n",
        "| Precision | 0.9932891\r\n",
        "| Recall | 0.9931777"
      ]
    },
    {
      "cell_type": "markdown",
      "metadata": {
        "id": "fD6hHI4p8MpS"
      },
      "source": [
        "## Resnet 34 Pretrained"
      ]
    },
    {
      "cell_type": "code",
      "metadata": {
        "id": "ykb5g9MCQ2xy"
      },
      "source": [
        "learn_34 = cnn_learner(dls, resnet34, metrics=[error_rate, accuracy, precision, recall], pretrained=True)"
      ],
      "execution_count": null,
      "outputs": []
    },
    {
      "cell_type": "code",
      "metadata": {
        "colab": {
          "base_uri": "https://localhost:8080/",
          "height": 301
        },
        "id": "-NuWWC75RAFB",
        "outputId": "0971b009-603e-4f0b-d852-8f7b7b1e6bab"
      },
      "source": [
        "learn_34.lr_find()"
      ],
      "execution_count": null,
      "outputs": [
        {
          "output_type": "display_data",
          "data": {
            "text/html": [
              ""
            ],
            "text/plain": [
              "<IPython.core.display.HTML object>"
            ]
          },
          "metadata": {
            "tags": []
          }
        },
        {
          "output_type": "execute_result",
          "data": {
            "text/plain": [
              "SuggestedLRs(lr_min=0.04365158379077912, lr_steep=0.013182567432522774)"
            ]
          },
          "metadata": {
            "tags": []
          },
          "execution_count": 203
        },
        {
          "output_type": "display_data",
          "data": {
            "image/png": "[encoded data removed]",
            "text/plain": [
              "<Figure size 432x288 with 1 Axes>"
            ]
          },
          "metadata": {
            "tags": [],
            "needs_background": "light"
          }
        }
      ]
    },
    {
      "cell_type": "code",
      "metadata": {
        "colab": {
          "base_uri": "https://localhost:8080/",
          "height": 284
        },
        "id": "R9FqrXAmYV05",
        "outputId": "cca2dc84-71c7-4b2a-d79e-1ed6383a0031"
      },
      "source": [
        "n = 8\r\n",
        "lr = 1e-2\r\n",
        "learn_34.fit_one_cycle(n_epoch=n, lr_max=lr)"
      ],
      "execution_count": null,
      "outputs": [
        {
          "output_type": "display_data",
          "data": {
            "text/html": [
              "<table border=\"1\" class=\"dataframe\">\n",
              "  <thead>\n",
              "    <tr style=\"text-align: left;\">\n",
              "      <th>epoch</th>\n",
              "      <th>train_loss</th>\n",
              "      <th>valid_loss</th>\n",
              "      <th>error_rate</th>\n",
              "      <th>accuracy</th>\n",
              "      <th>precision_score</th>\n",
              "      <th>recall_score</th>\n",
              "      <th>time</th>\n",
              "    </tr>\n",
              "  </thead>\n",
              "  <tbody>\n",
              "    <tr>\n",
              "      <td>0</td>\n",
              "      <td>0.368139</td>\n",
              "      <td>0.167955</td>\n",
              "      <td>0.050250</td>\n",
              "      <td>0.949750</td>\n",
              "      <td>0.950084</td>\n",
              "      <td>0.949740</td>\n",
              "      <td>00:56</td>\n",
              "    </tr>\n",
              "    <tr>\n",
              "      <td>1</td>\n",
              "      <td>0.127198</td>\n",
              "      <td>0.129974</td>\n",
              "      <td>0.037500</td>\n",
              "      <td>0.962500</td>\n",
              "      <td>0.964245</td>\n",
              "      <td>0.961122</td>\n",
              "      <td>00:55</td>\n",
              "    </tr>\n",
              "    <tr>\n",
              "      <td>2</td>\n",
              "      <td>0.089532</td>\n",
              "      <td>0.125045</td>\n",
              "      <td>0.034750</td>\n",
              "      <td>0.965250</td>\n",
              "      <td>0.966986</td>\n",
              "      <td>0.964015</td>\n",
              "      <td>00:56</td>\n",
              "    </tr>\n",
              "    <tr>\n",
              "      <td>3</td>\n",
              "      <td>0.068741</td>\n",
              "      <td>0.072835</td>\n",
              "      <td>0.021833</td>\n",
              "      <td>0.978167</td>\n",
              "      <td>0.978542</td>\n",
              "      <td>0.978169</td>\n",
              "      <td>00:55</td>\n",
              "    </tr>\n",
              "    <tr>\n",
              "      <td>4</td>\n",
              "      <td>0.048072</td>\n",
              "      <td>0.049588</td>\n",
              "      <td>0.013083</td>\n",
              "      <td>0.986917</td>\n",
              "      <td>0.987393</td>\n",
              "      <td>0.986802</td>\n",
              "      <td>00:56</td>\n",
              "    </tr>\n",
              "    <tr>\n",
              "      <td>5</td>\n",
              "      <td>0.031072</td>\n",
              "      <td>0.038731</td>\n",
              "      <td>0.009083</td>\n",
              "      <td>0.990917</td>\n",
              "      <td>0.991010</td>\n",
              "      <td>0.990727</td>\n",
              "      <td>00:56</td>\n",
              "    </tr>\n",
              "    <tr>\n",
              "      <td>6</td>\n",
              "      <td>0.017881</td>\n",
              "      <td>0.031832</td>\n",
              "      <td>0.007750</td>\n",
              "      <td>0.992250</td>\n",
              "      <td>0.992271</td>\n",
              "      <td>0.992135</td>\n",
              "      <td>00:56</td>\n",
              "    </tr>\n",
              "    <tr>\n",
              "      <td>7</td>\n",
              "      <td>0.011673</td>\n",
              "      <td>0.030884</td>\n",
              "      <td>0.007167</td>\n",
              "      <td>0.992833</td>\n",
              "      <td>0.992831</td>\n",
              "      <td>0.992728</td>\n",
              "      <td>00:55</td>\n",
              "    </tr>\n",
              "  </tbody>\n",
              "</table>"
            ],
            "text/plain": [
              "<IPython.core.display.HTML object>"
            ]
          },
          "metadata": {
            "tags": []
          }
        }
      ]
    },
    {
      "cell_type": "code",
      "metadata": {
        "colab": {
          "base_uri": "https://localhost:8080/",
          "height": 265
        },
        "id": "4DQ7wYTvYVua",
        "outputId": "fb8150ae-1ca4-451e-897e-90891a596494"
      },
      "source": [
        "learn_34.recorder.plot_loss(skip_start=100)"
      ],
      "execution_count": null,
      "outputs": [
        {
          "output_type": "display_data",
          "data": {
            "image/png": "[encoded data removed]",
            "text/plain": [
              "<Figure size 432x288 with 1 Axes>"
            ]
          },
          "metadata": {
            "tags": [],
            "needs_background": "light"
          }
        }
      ]
    },
    {
      "cell_type": "code",
      "metadata": {
        "colab": {
          "base_uri": "https://localhost:8080/",
          "height": 34
        },
        "id": "-N8-63E-r5hm",
        "outputId": "6c72918d-e4d8-4944-af95-55b1bfac6654"
      },
      "source": [
        "learn_34.validate(dl=test_dl)"
      ],
      "execution_count": null,
      "outputs": [
        {
          "output_type": "display_data",
          "data": {
            "text/html": [
              ""
            ],
            "text/plain": [
              "<IPython.core.display.HTML object>"
            ]
          },
          "metadata": {
            "tags": []
          }
        },
        {
          "output_type": "execute_result",
          "data": {
            "text/plain": [
              "(#5) [0.021880125626921654,0.00787500012665987,0.9921249747276306,0.9921124563875956,0.9920476920599901]"
            ]
          },
          "metadata": {
            "tags": []
          },
          "execution_count": 206
        }
      ]
    },
    {
      "cell_type": "markdown",
      "metadata": {
        "id": "Kbc7NC-r_KaU"
      },
      "source": [
        "| Metric | Value |\r\n",
        "|--------|-----:|\r\n",
        "| Error Rate | 0.00787500\r\n",
        "| Accuracy | 0.99212497\r\n",
        "| Precision | 0.99211246\r\n",
        "| Recall | 0.99204769"
      ]
    },
    {
      "cell_type": "code",
      "metadata": {
        "id": "lHkcqZ4KYVe8"
      },
      "source": [
        "learn_34.unfreeze()"
      ],
      "execution_count": null,
      "outputs": []
    },
    {
      "cell_type": "code",
      "metadata": {
        "colab": {
          "base_uri": "https://localhost:8080/",
          "height": 304
        },
        "id": "tu6WElztgyk6",
        "outputId": "d65acc1a-ec0d-4e3f-8b39-1432823e632a"
      },
      "source": [
        "learn_34.lr_find()"
      ],
      "execution_count": null,
      "outputs": [
        {
          "output_type": "display_data",
          "data": {
            "text/html": [
              ""
            ],
            "text/plain": [
              "<IPython.core.display.HTML object>"
            ]
          },
          "metadata": {
            "tags": []
          }
        },
        {
          "output_type": "execute_result",
          "data": {
            "text/plain": [
              "SuggestedLRs(lr_min=9.12010818865383e-08, lr_steep=3.981071586167673e-06)"
            ]
          },
          "metadata": {
            "tags": []
          },
          "execution_count": 209
        },
        {
          "output_type": "display_data",
          "data": {
            "image/png": "[encoded data removed]",
            "text/plain": [
              "<Figure size 432x288 with 1 Axes>"
            ]
          },
          "metadata": {
            "tags": [],
            "needs_background": "light"
          }
        }
      ]
    },
    {
      "cell_type": "code",
      "metadata": {
        "colab": {
          "base_uri": "https://localhost:8080/",
          "height": 343
        },
        "id": "UnhM0Rq6gybD",
        "outputId": "87d53d2f-b7a0-4ab3-cd11-d729ba63f162"
      },
      "source": [
        "n = 10\r\n",
        "lr = 5e-7\r\n",
        "learn_34.fit_one_cycle(n_epoch=n, lr_max=lr)"
      ],
      "execution_count": null,
      "outputs": [
        {
          "output_type": "display_data",
          "data": {
            "text/html": [
              "<table border=\"1\" class=\"dataframe\">\n",
              "  <thead>\n",
              "    <tr style=\"text-align: left;\">\n",
              "      <th>epoch</th>\n",
              "      <th>train_loss</th>\n",
              "      <th>valid_loss</th>\n",
              "      <th>error_rate</th>\n",
              "      <th>accuracy</th>\n",
              "      <th>precision_score</th>\n",
              "      <th>recall_score</th>\n",
              "      <th>time</th>\n",
              "    </tr>\n",
              "  </thead>\n",
              "  <tbody>\n",
              "    <tr>\n",
              "      <td>0</td>\n",
              "      <td>0.009512</td>\n",
              "      <td>0.030438</td>\n",
              "      <td>0.006917</td>\n",
              "      <td>0.993083</td>\n",
              "      <td>0.993099</td>\n",
              "      <td>0.992969</td>\n",
              "      <td>01:00</td>\n",
              "    </tr>\n",
              "    <tr>\n",
              "      <td>1</td>\n",
              "      <td>0.009969</td>\n",
              "      <td>0.030400</td>\n",
              "      <td>0.007333</td>\n",
              "      <td>0.992667</td>\n",
              "      <td>0.992706</td>\n",
              "      <td>0.992521</td>\n",
              "      <td>00:58</td>\n",
              "    </tr>\n",
              "    <tr>\n",
              "      <td>2</td>\n",
              "      <td>0.010843</td>\n",
              "      <td>0.030063</td>\n",
              "      <td>0.006833</td>\n",
              "      <td>0.993167</td>\n",
              "      <td>0.993175</td>\n",
              "      <td>0.993063</td>\n",
              "      <td>00:59</td>\n",
              "    </tr>\n",
              "    <tr>\n",
              "      <td>3</td>\n",
              "      <td>0.009818</td>\n",
              "      <td>0.030025</td>\n",
              "      <td>0.007000</td>\n",
              "      <td>0.993000</td>\n",
              "      <td>0.993010</td>\n",
              "      <td>0.992887</td>\n",
              "      <td>00:59</td>\n",
              "    </tr>\n",
              "    <tr>\n",
              "      <td>4</td>\n",
              "      <td>0.008848</td>\n",
              "      <td>0.030471</td>\n",
              "      <td>0.007083</td>\n",
              "      <td>0.992917</td>\n",
              "      <td>0.992932</td>\n",
              "      <td>0.992816</td>\n",
              "      <td>00:59</td>\n",
              "    </tr>\n",
              "    <tr>\n",
              "      <td>5</td>\n",
              "      <td>0.008581</td>\n",
              "      <td>0.030649</td>\n",
              "      <td>0.007250</td>\n",
              "      <td>0.992750</td>\n",
              "      <td>0.992786</td>\n",
              "      <td>0.992606</td>\n",
              "      <td>00:58</td>\n",
              "    </tr>\n",
              "    <tr>\n",
              "      <td>6</td>\n",
              "      <td>0.008628</td>\n",
              "      <td>0.030191</td>\n",
              "      <td>0.007250</td>\n",
              "      <td>0.992750</td>\n",
              "      <td>0.992784</td>\n",
              "      <td>0.992632</td>\n",
              "      <td>00:59</td>\n",
              "    </tr>\n",
              "    <tr>\n",
              "      <td>7</td>\n",
              "      <td>0.008571</td>\n",
              "      <td>0.030379</td>\n",
              "      <td>0.006833</td>\n",
              "      <td>0.993167</td>\n",
              "      <td>0.993189</td>\n",
              "      <td>0.993030</td>\n",
              "      <td>00:59</td>\n",
              "    </tr>\n",
              "    <tr>\n",
              "      <td>8</td>\n",
              "      <td>0.007604</td>\n",
              "      <td>0.030400</td>\n",
              "      <td>0.007083</td>\n",
              "      <td>0.992917</td>\n",
              "      <td>0.992955</td>\n",
              "      <td>0.992764</td>\n",
              "      <td>00:59</td>\n",
              "    </tr>\n",
              "    <tr>\n",
              "      <td>9</td>\n",
              "      <td>0.009241</td>\n",
              "      <td>0.030837</td>\n",
              "      <td>0.006917</td>\n",
              "      <td>0.993083</td>\n",
              "      <td>0.993147</td>\n",
              "      <td>0.992917</td>\n",
              "      <td>00:58</td>\n",
              "    </tr>\n",
              "  </tbody>\n",
              "</table>"
            ],
            "text/plain": [
              "<IPython.core.display.HTML object>"
            ]
          },
          "metadata": {
            "tags": []
          }
        }
      ]
    },
    {
      "cell_type": "code",
      "metadata": {
        "colab": {
          "base_uri": "https://localhost:8080/",
          "height": 265
        },
        "id": "ZdahwSiZg_EL",
        "outputId": "778ff776-c410-4b95-c87e-d0f001abc964"
      },
      "source": [
        "learn_34.recorder.plot_loss(skip_start=10)"
      ],
      "execution_count": null,
      "outputs": [
        {
          "output_type": "display_data",
          "data": {
            "image/png": "[encoded data removed]",
            "text/plain": [
              "<Figure size 432x288 with 1 Axes>"
            ]
          },
          "metadata": {
            "tags": [],
            "needs_background": "light"
          }
        }
      ]
    },
    {
      "cell_type": "code",
      "metadata": {
        "colab": {
          "base_uri": "https://localhost:8080/",
          "height": 34
        },
        "id": "uBadjwb-g-6I",
        "outputId": "2dd5b4db-1c4c-4fe7-c325-4ae3983d6354"
      },
      "source": [
        "learn_34.validate(dl=test_dl)"
      ],
      "execution_count": null,
      "outputs": [
        {
          "output_type": "display_data",
          "data": {
            "text/html": [
              ""
            ],
            "text/plain": [
              "<IPython.core.display.HTML object>"
            ]
          },
          "metadata": {
            "tags": []
          }
        },
        {
          "output_type": "execute_result",
          "data": {
            "text/plain": [
              "(#5) [0.020970115438103676,0.007249999791383743,0.9927499890327454,0.992786805523178,0.9926656570580338]"
            ]
          },
          "metadata": {
            "tags": []
          },
          "execution_count": 214
        }
      ]
    },
    {
      "cell_type": "markdown",
      "metadata": {
        "id": "4u0BdUrq-XFC"
      },
      "source": [
        "| Metric | Value |\r\n",
        "|--------|-----:|\r\n",
        "| Error Rate | 0.00787500\r\n",
        "| Accuracy | 0.99212497\r\n",
        "| Precision | 0.99211246\r\n",
        "| Recall | 0.99204769"
      ]
    },
    {
      "cell_type": "markdown",
      "metadata": {
        "id": "NjGzhMjH_wZs"
      },
      "source": [
        "## Resnet 34 Untrained"
      ]
    },
    {
      "cell_type": "code",
      "metadata": {
        "id": "sGN2mo0V_xD-"
      },
      "source": [
        "learn_34_unt = cnn_learner(dls, resnet34, metrics=[error_rate, accuracy, precision, recall], pretrained=False)"
      ],
      "execution_count": 22,
      "outputs": []
    },
    {
      "cell_type": "code",
      "metadata": {
        "colab": {
          "base_uri": "https://localhost:8080/",
          "height": 305
        },
        "id": "lTBbSqe4_xL7",
        "outputId": "28fb64ee-0c34-4b68-bae8-9094960a2617"
      },
      "source": [
        "learn_34_unt.lr_find()"
      ],
      "execution_count": 23,
      "outputs": [
        {
          "output_type": "display_data",
          "data": {
            "text/html": [
              ""
            ],
            "text/plain": [
              "<IPython.core.display.HTML object>"
            ]
          },
          "metadata": {
            "tags": []
          }
        },
        {
          "output_type": "execute_result",
          "data": {
            "text/plain": [
              "SuggestedLRs(lr_min=0.012022644281387329, lr_steep=0.0003311311302240938)"
            ]
          },
          "metadata": {
            "tags": []
          },
          "execution_count": 23
        },
        {
          "output_type": "display_data",
          "data": {
            "image/png": "[encoded data removed]",
            "text/plain": [
              "<Figure size 432x288 with 1 Axes>"
            ]
          },
          "metadata": {
            "tags": [],
            "needs_background": "light"
          }
        }
      ]
    },
    {
      "cell_type": "code",
      "metadata": {
        "colab": {
          "base_uri": "https://localhost:8080/",
          "height": 284
        },
        "id": "-tdC72mV_xJb",
        "outputId": "17233646-1745-4685-db38-87a4e18d2e6c"
      },
      "source": [
        "n = 8\r\n",
        "lr = 2e-3\r\n",
        "learn_34_unt.fit_one_cycle(n_epoch=n, lr_max=lr)"
      ],
      "execution_count": 32,
      "outputs": [
        {
          "output_type": "display_data",
          "data": {
            "text/html": [
              "<table border=\"1\" class=\"dataframe\">\n",
              "  <thead>\n",
              "    <tr style=\"text-align: left;\">\n",
              "      <th>epoch</th>\n",
              "      <th>train_loss</th>\n",
              "      <th>valid_loss</th>\n",
              "      <th>error_rate</th>\n",
              "      <th>accuracy</th>\n",
              "      <th>precision_score</th>\n",
              "      <th>recall_score</th>\n",
              "      <th>time</th>\n",
              "    </tr>\n",
              "  </thead>\n",
              "  <tbody>\n",
              "    <tr>\n",
              "      <td>0</td>\n",
              "      <td>0.039619</td>\n",
              "      <td>0.112828</td>\n",
              "      <td>0.030000</td>\n",
              "      <td>0.970000</td>\n",
              "      <td>0.971269</td>\n",
              "      <td>0.970083</td>\n",
              "      <td>00:55</td>\n",
              "    </tr>\n",
              "    <tr>\n",
              "      <td>1</td>\n",
              "      <td>0.064647</td>\n",
              "      <td>0.080043</td>\n",
              "      <td>0.021500</td>\n",
              "      <td>0.978500</td>\n",
              "      <td>0.978347</td>\n",
              "      <td>0.978670</td>\n",
              "      <td>00:55</td>\n",
              "    </tr>\n",
              "    <tr>\n",
              "      <td>2</td>\n",
              "      <td>0.047435</td>\n",
              "      <td>0.054005</td>\n",
              "      <td>0.014250</td>\n",
              "      <td>0.985750</td>\n",
              "      <td>0.985919</td>\n",
              "      <td>0.985624</td>\n",
              "      <td>00:55</td>\n",
              "    </tr>\n",
              "    <tr>\n",
              "      <td>3</td>\n",
              "      <td>0.039049</td>\n",
              "      <td>0.062228</td>\n",
              "      <td>0.014083</td>\n",
              "      <td>0.985917</td>\n",
              "      <td>0.986261</td>\n",
              "      <td>0.985824</td>\n",
              "      <td>00:55</td>\n",
              "    </tr>\n",
              "    <tr>\n",
              "      <td>4</td>\n",
              "      <td>0.022147</td>\n",
              "      <td>0.028577</td>\n",
              "      <td>0.007667</td>\n",
              "      <td>0.992333</td>\n",
              "      <td>0.992278</td>\n",
              "      <td>0.992295</td>\n",
              "      <td>00:55</td>\n",
              "    </tr>\n",
              "    <tr>\n",
              "      <td>5</td>\n",
              "      <td>0.011803</td>\n",
              "      <td>0.025830</td>\n",
              "      <td>0.006583</td>\n",
              "      <td>0.993417</td>\n",
              "      <td>0.993452</td>\n",
              "      <td>0.993354</td>\n",
              "      <td>00:55</td>\n",
              "    </tr>\n",
              "    <tr>\n",
              "      <td>6</td>\n",
              "      <td>0.006023</td>\n",
              "      <td>0.026232</td>\n",
              "      <td>0.005667</td>\n",
              "      <td>0.994333</td>\n",
              "      <td>0.994374</td>\n",
              "      <td>0.994267</td>\n",
              "      <td>00:55</td>\n",
              "    </tr>\n",
              "    <tr>\n",
              "      <td>7</td>\n",
              "      <td>0.002737</td>\n",
              "      <td>0.024292</td>\n",
              "      <td>0.005583</td>\n",
              "      <td>0.994417</td>\n",
              "      <td>0.994437</td>\n",
              "      <td>0.994346</td>\n",
              "      <td>00:55</td>\n",
              "    </tr>\n",
              "  </tbody>\n",
              "</table>"
            ],
            "text/plain": [
              "<IPython.core.display.HTML object>"
            ]
          },
          "metadata": {
            "tags": []
          }
        }
      ]
    },
    {
      "cell_type": "code",
      "metadata": {
        "colab": {
          "base_uri": "https://localhost:8080/",
          "height": 265
        },
        "id": "wEdL52Hz_xGr",
        "outputId": "15b8d720-f9d7-4adb-cc78-bb4f2880b47b"
      },
      "source": [
        "learn_34_unt.recorder.plot_loss(skip_start=200)"
      ],
      "execution_count": 35,
      "outputs": [
        {
          "output_type": "display_data",
          "data": {
            "image/png": "[encoded data removed]",
            "text/plain": [
              "<Figure size 432x288 with 1 Axes>"
            ]
          },
          "metadata": {
            "tags": [],
            "needs_background": "light"
          }
        }
      ]
    },
    {
      "cell_type": "code",
      "metadata": {
        "colab": {
          "base_uri": "https://localhost:8080/",
          "height": 34
        },
        "id": "PR7THVFhALs3",
        "outputId": "2c41913d-1ce3-4dc5-b6a0-fc7dc86e22b8"
      },
      "source": [
        "learn_34_unt.validate(dl=test_dl)"
      ],
      "execution_count": 36,
      "outputs": [
        {
          "output_type": "display_data",
          "data": {
            "text/html": [
              ""
            ],
            "text/plain": [
              "<IPython.core.display.HTML object>"
            ]
          },
          "metadata": {
            "tags": []
          }
        },
        {
          "output_type": "execute_result",
          "data": {
            "text/plain": [
              "(#5) [0.017303118482232094,0.005249999929219484,0.9947500228881836,0.9947785756690903,0.9947455574418097]"
            ]
          },
          "metadata": {
            "tags": []
          },
          "execution_count": 36
        }
      ]
    },
    {
      "cell_type": "markdown",
      "metadata": {
        "id": "5Tavc-8lAMDD"
      },
      "source": [
        "| Metric | Value |\r\n",
        "|--------|-----:|\r\n",
        "| Error Rate | 0.005250\r\n",
        "| Accuracy | 0.994750\r\n",
        "| Precision | 0.994779\r\n",
        "| Recall | 0.994746"
      ]
    },
    {
      "cell_type": "code",
      "metadata": {
        "colab": {
          "base_uri": "https://localhost:8080/",
          "height": 301
        },
        "id": "P2Vkua0hALi0",
        "outputId": "12909ca0-f5c7-4bcb-8278-ad600ae87b05"
      },
      "source": [
        "learn_34_unt.lr_find()"
      ],
      "execution_count": 38,
      "outputs": [
        {
          "output_type": "display_data",
          "data": {
            "text/html": [
              ""
            ],
            "text/plain": [
              "<IPython.core.display.HTML object>"
            ]
          },
          "metadata": {
            "tags": []
          }
        },
        {
          "output_type": "execute_result",
          "data": {
            "text/plain": [
              "SuggestedLRs(lr_min=5.754399462603033e-05, lr_steep=1.5848931980144698e-06)"
            ]
          },
          "metadata": {
            "tags": []
          },
          "execution_count": 38
        },
        {
          "output_type": "display_data",
          "data": {
            "image/png": "[encoded data removed]",
            "text/plain": [
              "<Figure size 432x288 with 1 Axes>"
            ]
          },
          "metadata": {
            "tags": [],
            "needs_background": "light"
          }
        }
      ]
    },
    {
      "cell_type": "code",
      "metadata": {
        "colab": {
          "base_uri": "https://localhost:8080/",
          "height": 123
        },
        "id": "VhagJ2LdCh88",
        "outputId": "32fc130d-5309-446c-c6c2-9454ad4ab40e"
      },
      "source": [
        "n = 8\r\n",
        "lr = 1e-6\r\n",
        "learn_34_unt.fit_one_cycle(n_epoch=n, lr_max=lr)"
      ],
      "execution_count": null,
      "outputs": [
        {
          "output_type": "display_data",
          "data": {
            "text/html": [
              "\n",
              "    <div>\n",
              "        <style>\n",
              "            /* Turns off some styling */\n",
              "            progress {\n",
              "                /* gets rid of default border in Firefox and Opera. */\n",
              "                border: none;\n",
              "                /* Needs to be in here for Safari polyfill so background images work as expected. */\n",
              "                background-size: auto;\n",
              "            }\n",
              "            .progress-bar-interrupted, .progress-bar-interrupted::-webkit-progress-bar {\n",
              "                background: #F44336;\n",
              "            }\n",
              "        </style>\n",
              "      <progress value='1' class='' max='8' style='width:300px; height:20px; vertical-align: middle;'></progress>\n",
              "      12.50% [1/8 00:56<06:33]\n",
              "    </div>\n",
              "    \n",
              "<table border=\"1\" class=\"dataframe\">\n",
              "  <thead>\n",
              "    <tr style=\"text-align: left;\">\n",
              "      <th>epoch</th>\n",
              "      <th>train_loss</th>\n",
              "      <th>valid_loss</th>\n",
              "      <th>error_rate</th>\n",
              "      <th>accuracy</th>\n",
              "      <th>precision_score</th>\n",
              "      <th>recall_score</th>\n",
              "      <th>time</th>\n",
              "    </tr>\n",
              "  </thead>\n",
              "  <tbody>\n",
              "    <tr>\n",
              "      <td>0</td>\n",
              "      <td>0.002605</td>\n",
              "      <td>0.024234</td>\n",
              "      <td>0.005583</td>\n",
              "      <td>0.994417</td>\n",
              "      <td>0.994411</td>\n",
              "      <td>0.994373</td>\n",
              "      <td>00:56</td>\n",
              "    </tr>\n",
              "  </tbody>\n",
              "</table><p>\n",
              "\n",
              "    <div>\n",
              "        <style>\n",
              "            /* Turns off some styling */\n",
              "            progress {\n",
              "                /* gets rid of default border in Firefox and Opera. */\n",
              "                border: none;\n",
              "                /* Needs to be in here for Safari polyfill so background images work as expected. */\n",
              "                background-size: auto;\n",
              "            }\n",
              "            .progress-bar-interrupted, .progress-bar-interrupted::-webkit-progress-bar {\n",
              "                background: #F44336;\n",
              "            }\n",
              "        </style>\n",
              "      <progress value='58' class='' max='187' style='width:300px; height:20px; vertical-align: middle;'></progress>\n",
              "      31.02% [58/187 00:14<00:33 0.0028]\n",
              "    </div>\n",
              "    "
            ],
            "text/plain": [
              "<IPython.core.display.HTML object>"
            ]
          },
          "metadata": {
            "tags": []
          }
        }
      ]
    }
  ]
}