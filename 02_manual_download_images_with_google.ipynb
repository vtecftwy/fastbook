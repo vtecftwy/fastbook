{
  "nbformat": 4,
  "nbformat_minor": 0,
  "metadata": {
    "kernelspec": {
      "display_name": "Python 3",
      "language": "python",
      "name": "python3"
    },
    "colab": {
      "name": "02_manual_download_images_with_google.ipynb",
      "provenance": [],
      "collapsed_sections": [],
      "toc_visible": true,
      "include_colab_link": true
    }
  },
  "cells": [
    {
      "cell_type": "markdown",
      "metadata": {
        "id": "view-in-github",
        "colab_type": "text"
      },
      "source": [
        "<a href=\"https://colab.research.google.com/github/vtecftwy/fastbook/blob/master/02_manual_download_images_with_google.ipynb\" target=\"_parent\"><img src=\"https://colab.research.google.com/assets/colab-badge.svg\" alt=\"Open In Colab\"/></a>"
      ]
    },
    {
      "cell_type": "markdown",
      "metadata": {
        "hide_input": false,
        "id": "7gXf-pImXLwI"
      },
      "source": [
        "# Alternative method to manually download images\n",
        "Creating your own dataset from Google Images. \n",
        "\n",
        "_Heavily based on the notebook by Francisco Ingham and Jeremy Howard in [`fastai/course-v3`](https://github.com/fastai/course-v3/blob/master/nbs/dl1/lesson2-download.ipynb), itself inspired by [Adrian Rosebrock](https://www.pyimagesearch.com/2017/12/04/how-to-create-a-deep-learning-dataset-using-google-images/)._"
      ]
    },
    {
      "cell_type": "markdown",
      "metadata": {
        "hide_input": true,
        "id": "cYqn-ScKXLwO"
      },
      "source": [
        "If you are not able to use the Bing Image Search API, this tutorial explains an alternative method using Google Images and some manual work.\r\n",
        "\r\n",
        "**Steps:**\r\n",
        "1. Get and save a list of image URLs for each class/category you define\r\n",
        "2. Download the images, each in their respective folder\r\n",
        "\r\n",
        "> You will have to repeat these steps for any new category you want to Google (e.g once for black bears, once for grizzly and once for teddy bears)."
      ]
    },
    {
      "cell_type": "code",
      "metadata": {
        "hide_input": false,
        "id": "7ZlGtl0lXLwP"
      },
      "source": [
        "from fastai.vision import *"
      ],
      "execution_count": 42,
      "outputs": []
    },
    {
      "cell_type": "markdown",
      "metadata": {
        "id": "22wxyx5oXLwP"
      },
      "source": [
        "## 1. Get a list of URLs"
      ]
    },
    {
      "cell_type": "markdown",
      "metadata": {
        "id": "U5BaejjJXLwP"
      },
      "source": [
        "### 1.1 Search and scroll"
      ]
    },
    {
      "cell_type": "markdown",
      "metadata": {
        "id": "lU_rmYn7XLwQ"
      },
      "source": [
        "Go to [Google Images](http://images.google.com) and search for the images you are interested in. The more specific you are in your Google Search, the better the results and the less manual pruning you will have to do.\n",
        "\n",
        "**Scroll down until you've seen all the images you want to download, or until you see a button that says 'Show more results'**. All the images you scrolled past are now available to download. To get more, click on the button, and continue scrolling. The maximum number of images Google Images shows is 700.\n",
        "\n",
        "It is a good idea to put things you want to exclude into the search query, for instance if you are searching for the Eurasian wolf, \"canis lupus lupus\", it might be a good idea to exclude other variants:\n",
        "\n",
        "    \"canis lupus lupus\" -dog -arctos -familiaris -baileyi -occidentalis\n",
        "\n",
        "You can also limit your results to show only photos by clicking on Tools and selecting Photos from the Type dropdown."
      ]
    },
    {
      "cell_type": "markdown",
      "metadata": {
        "id": "t9J0_4UpXLwQ"
      },
      "source": [
        "### 1.2 Download URLs into a file"
      ]
    },
    {
      "cell_type": "markdown",
      "metadata": {
        "id": "x7B4o-N3XLwQ"
      },
      "source": [
        "Now you must run some Javascript code in your browser which will save the URLs of all the images you want for you dataset.\n",
        "\n",
        "In Google Chrome press <kbd>Ctrl</kbd><kbd>Shift</kbd><kbd>j</kbd> on Windows/Linux and <kbd>Cmd</kbd><kbd>Opt</kbd><kbd>j</kbd> on macOS, and a small window the javascript 'Console' will appear. \n",
        "\n",
        "In Firefox press <kbd>Ctrl</kbd><kbd>Shift</kbd><kbd>k</kbd> on Windows/Linux or <kbd>Cmd</kbd><kbd>Opt</kbd><kbd>k</kbd> on macOS. That is where you will paste the JavaScript commands.\n",
        "\n",
        "You will need to get the urls of each of the images. \n",
        "\n",
        "When you run the code below in the console, a window will open and you should save the URL file with the appropriate name, e.g. `urls_black.csv`.\n",
        "\n",
        "Before running the following commands, you may want to disable ad blocking extensions (uBlock, AdBlockPlus etc.) in Chrome. Otherwise the window.open() command doesn't work. Then you can run the following commands:\n",
        "\n",
        "```javascript\n",
        "urls=Array.from(document.querySelectorAll('.rg_i')).map(el=> el.hasAttribute('data-src')?el.getAttribute('data-src'):el.getAttribute('data-iurl'));\n",
        "window.open('data:text/csv;charset=utf-8,' + escape(urls.join('\\n')));\n",
        "```\n",
        "\n",
        "\n",
        "Repeat for each image category you are building."
      ]
    },
    {
      "cell_type": "markdown",
      "metadata": {
        "id": "36FV_OmlXLwQ"
      },
      "source": [
        "### Create directory and upload urls file into your server"
      ]
    },
    {
      "cell_type": "markdown",
      "metadata": {
        "id": "bYyLUweoXLwR"
      },
      "source": [
        "**The next steps must be done from the notebook where you are building your model. Copy this code in that notebook.**\r\n",
        "\r\n",
        "Steps:\r\n",
        "- create a folder for each class/category of images\r\n",
        "- upload the url_xxx.csv files.\r\n",
        "- download the images, once for each url_file you have\r\n",
        "\r\n",
        "Choose an appropriate name for your images. You can run these steps multiple times to create different labels."
      ]
    },
    {
      "cell_type": "code",
      "metadata": {
        "id": "mNXVDLY9b8ap"
      },
      "source": [
        "SAVE_ON_GDRIVE = False"
      ],
      "execution_count": 43,
      "outputs": []
    },
    {
      "cell_type": "code",
      "metadata": {
        "id": "Qr39kwc8cGt6"
      },
      "source": [
        "if SAVE_ON_GDRIVE:\r\n",
        "    root_dir = \"/content/gdrive/My Drive/unpackai/my-model\"\r\n",
        "else:\r\n",
        "    root_dir = \"/content/\"\r\n",
        "\r\n",
        "path = Path(root_dir) / 'data'"
      ],
      "execution_count": 44,
      "outputs": []
    },
    {
      "cell_type": "code",
      "metadata": {
        "id": "D3o50WZyXLwR"
      },
      "source": [
        "# Run this cell for each of the category/class you have in your dataset\n",
        "img_folder_name = 'black'\n",
        "file = 'urls_black.csv'\n",
        "\n",
        "dest = path / img_folder_name\n",
        "dest.mkdir(parents=True, exist_ok=True)"
      ],
      "execution_count": 45,
      "outputs": []
    },
    {
      "cell_type": "code",
      "metadata": {
        "id": "vEIxQsvSXLwR"
      },
      "source": [
        "img_folder_name = 'teddys'\n",
        "file = 'urls_teddys.csv'\n",
        "\n",
        "dest = path / img_folder_name\n",
        "dest.mkdir(parents=True, exist_ok=True)"
      ],
      "execution_count": 49,
      "outputs": []
    },
    {
      "cell_type": "code",
      "metadata": {
        "id": "WFEEcVIsXLwR"
      },
      "source": [
        "img_folder_name = 'grizzly'\n",
        "file = 'urls_grizzly.csv'\n",
        "\n",
        "dest = path / img_folder_name\n",
        "dest.mkdir(parents=True, exist_ok=True)"
      ],
      "execution_count": 50,
      "outputs": []
    },
    {
      "cell_type": "markdown",
      "metadata": {
        "id": "F_amcWoBfTDZ"
      },
      "source": [
        "Check that all image folders are ready as expected"
      ]
    },
    {
      "cell_type": "code",
      "metadata": {
        "id": "9dMq1YIFXLwS",
        "colab": {
          "base_uri": "https://localhost:8080/"
        },
        "outputId": "f37a8fce-45c9-4235-b8ea-9db59b14ec7a"
      },
      "source": [
        "path.ls()"
      ],
      "execution_count": 51,
      "outputs": [
        {
          "output_type": "execute_result",
          "data": {
            "text/plain": [
              "[PosixPath('/content/data/teddys'),\n",
              " PosixPath('/content/data/url_teddy.csv'),\n",
              " PosixPath('/content/data/black'),\n",
              " PosixPath('/content/data/grizzly'),\n",
              " PosixPath('/content/data/.ipynb_checkpoints'),\n",
              " PosixPath('/content/data/url_grizzly.csv'),\n",
              " PosixPath('/content/data/urls_black.csv')]"
            ]
          },
          "metadata": {
            "tags": []
          },
          "execution_count": 51
        }
      ]
    },
    {
      "cell_type": "markdown",
      "metadata": {
        "id": "LGG_2iTrXLwT"
      },
      "source": [
        "Finally, upload the corresponding `urls_xxx.csv` file for each of the category/class in your dataset. \n",
        "\n",
        "You just need to press the folder icon on the left vertical menu, sekect the `data` folder just created above, right click on it and then select `Upload`. See the screenshot below.\n",
        "\n",
        "![upload file](https://raw.githubusercontent.com/vtecftwy/fastbook/master/images/dwnl_0000.png)"
      ]
    },
    {
      "cell_type": "markdown",
      "metadata": {
        "id": "g-yIkmxZXLwT"
      },
      "source": [
        "## Download images"
      ]
    },
    {
      "cell_type": "markdown",
      "metadata": {
        "id": "E9eBzkygXLwT"
      },
      "source": [
        "Now you will need to download your images from their respective urls.\n",
        "\n",
        "fast.ai has a function that allows you to do just that. You just have to specify the urls filename as well as the destination folder and this function will download and save all images that can be opened. If they have some problem in being opened, they will not be saved.\n",
        "\n",
        "Let's download our images! Notice you can choose a maximum number of images to be downloaded. In this case we will not download all the urls.\n",
        "\n",
        "You will need to run this line once for every category."
      ]
    },
    {
      "cell_type": "code",
      "metadata": {
        "id": "mvXKy9mSXLwT"
      },
      "source": [
        "classes = ['teddys','grizzly','black']"
      ],
      "execution_count": 52,
      "outputs": []
    },
    {
      "cell_type": "code",
      "metadata": {
        "id": "glzy08XvXLwU",
        "colab": {
          "base_uri": "https://localhost:8080/",
          "height": 17
        },
        "outputId": "05d2336e-ec7b-45f1-b669-0e6d7b129e89"
      },
      "source": [
        "dest = path / 'black'\r\n",
        "file = 'urls_black.csv'\r\n",
        "download_images(path/file, dest, max_pics=200)\r\n",
        "\r\n",
        "dest = path / 'teddys'\r\n",
        "file = 'urls_teddys.csv'\r\n",
        "download_images(path/file, dest, max_pics=200)\r\n",
        "\r\n",
        "dest = path / 'grizzly'\r\n",
        "file = 'urls_grizzly.csv'\r\n",
        "download_images(path/file, dest, max_pics=200)"
      ],
      "execution_count": 64,
      "outputs": [
        {
          "output_type": "display_data",
          "data": {
            "text/html": [
              ""
            ],
            "text/plain": [
              "<IPython.core.display.HTML object>"
            ]
          },
          "metadata": {
            "tags": []
          }
        },
        {
          "output_type": "display_data",
          "data": {
            "text/html": [
              ""
            ],
            "text/plain": [
              "<IPython.core.display.HTML object>"
            ]
          },
          "metadata": {
            "tags": []
          }
        },
        {
          "output_type": "display_data",
          "data": {
            "text/html": [
              ""
            ],
            "text/plain": [
              "<IPython.core.display.HTML object>"
            ]
          },
          "metadata": {
            "tags": []
          }
        }
      ]
    },
    {
      "cell_type": "code",
      "metadata": {
        "id": "QbQNIQsOXLwU",
        "outputId": "5187fa74-94f6-4a55-938f-f39200aa3f22"
      },
      "source": [
        "# If you have problems download, try with `max_workers=0` to see exceptions:\n",
        "download_images(path/file, dest, max_pics=20, max_workers=0)"
      ],
      "execution_count": null,
      "outputs": [
        {
          "output_type": "stream",
          "text": [
            ""
          ],
          "name": "stdout"
        }
      ]
    },
    {
      "cell_type": "markdown",
      "metadata": {
        "id": "27xn0PP6XLwU"
      },
      "source": [
        "Then we can remove any images that can't be opened:"
      ]
    },
    {
      "cell_type": "code",
      "metadata": {
        "id": "qqug7NHPXLwU",
        "colab": {
          "base_uri": "https://localhost:8080/",
          "height": 68
        },
        "outputId": "5f1f17bb-d3e1-4448-917f-c71f5771a8db"
      },
      "source": [
        "for c in classes:\n",
        "    print(c)\n",
        "    verify_images(path/c, delete=True, max_size=500)"
      ],
      "execution_count": 65,
      "outputs": [
        {
          "output_type": "stream",
          "text": [
            "teddys\n"
          ],
          "name": "stdout"
        },
        {
          "output_type": "display_data",
          "data": {
            "text/html": [
              ""
            ],
            "text/plain": [
              "<IPython.core.display.HTML object>"
            ]
          },
          "metadata": {
            "tags": []
          }
        },
        {
          "output_type": "stream",
          "text": [
            "grizzly\n"
          ],
          "name": "stdout"
        },
        {
          "output_type": "display_data",
          "data": {
            "text/html": [
              ""
            ],
            "text/plain": [
              "<IPython.core.display.HTML object>"
            ]
          },
          "metadata": {
            "tags": []
          }
        },
        {
          "output_type": "stream",
          "text": [
            "black\n"
          ],
          "name": "stdout"
        },
        {
          "output_type": "display_data",
          "data": {
            "text/html": [
              ""
            ],
            "text/plain": [
              "<IPython.core.display.HTML object>"
            ]
          },
          "metadata": {
            "tags": []
          }
        }
      ]
    }
  ]
}