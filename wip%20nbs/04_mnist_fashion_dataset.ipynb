{
  "nbformat": 4,
  "nbformat_minor": 0,
  "metadata": {
    "jupytext": {
      "split_at_heading": true
    },
    "kernelspec": {
      "display_name": "Python 3",
      "language": "python",
      "name": "python3"
    },
    "colab": {
      "name": "04_mnist_fashion_dataset.ipynb",
      "provenance": [],
      "collapsed_sections": [
        "gVM4EYaEPltI",
        "HDVG9lM3IOx9",
        "LUBnza2eIOx_",
        "tkabfNyYL2KA",
        "7I9-aLLpWKIS",
        "mcoAhnlzlyqP",
        "Q8yF3b0S-0FK"
      ],
      "toc_visible": true,
      "include_colab_link": true
    },
    "accelerator": "GPU",
    "widgets": {
      "application/vnd.jupyter.widget-state+json": {
        "83831b7fae5944d39b60230ac69a0611": {
          "model_module": "@jupyter-widgets/controls",
          "model_name": "HBoxModel",
          "state": {
            "_view_name": "HBoxView",
            "_dom_classes": [],
            "_model_name": "HBoxModel",
            "_view_module": "@jupyter-widgets/controls",
            "_model_module_version": "1.5.0",
            "_view_count": null,
            "_view_module_version": "1.5.0",
            "box_style": "",
            "layout": "IPY_MODEL_f2b74ee9438748fd8b932c99127b32cc",
            "_model_module": "@jupyter-widgets/controls",
            "children": [
              "IPY_MODEL_3a268ae55f3d4e3cb126e1921d35df60",
              "IPY_MODEL_690c56f14afe489e85ec0474add13aef"
            ]
          }
        },
        "f2b74ee9438748fd8b932c99127b32cc": {
          "model_module": "@jupyter-widgets/base",
          "model_name": "LayoutModel",
          "state": {
            "_view_name": "LayoutView",
            "grid_template_rows": null,
            "right": null,
            "justify_content": null,
            "_view_module": "@jupyter-widgets/base",
            "overflow": null,
            "_model_module_version": "1.2.0",
            "_view_count": null,
            "flex_flow": null,
            "width": null,
            "min_width": null,
            "border": null,
            "align_items": null,
            "bottom": null,
            "_model_module": "@jupyter-widgets/base",
            "top": null,
            "grid_column": null,
            "overflow_y": null,
            "overflow_x": null,
            "grid_auto_flow": null,
            "grid_area": null,
            "grid_template_columns": null,
            "flex": null,
            "_model_name": "LayoutModel",
            "justify_items": null,
            "grid_row": null,
            "max_height": null,
            "align_content": null,
            "visibility": null,
            "align_self": null,
            "height": null,
            "min_height": null,
            "padding": null,
            "grid_auto_rows": null,
            "grid_gap": null,
            "max_width": null,
            "order": null,
            "_view_module_version": "1.2.0",
            "grid_template_areas": null,
            "object_position": null,
            "object_fit": null,
            "grid_auto_columns": null,
            "margin": null,
            "display": null,
            "left": null
          }
        },
        "3a268ae55f3d4e3cb126e1921d35df60": {
          "model_module": "@jupyter-widgets/controls",
          "model_name": "FloatProgressModel",
          "state": {
            "_view_name": "ProgressView",
            "style": "IPY_MODEL_2e1c5e0b0c934c2abb5905c562e77378",
            "_dom_classes": [],
            "description": "",
            "_model_name": "FloatProgressModel",
            "bar_style": "info",
            "max": 1,
            "_view_module": "@jupyter-widgets/controls",
            "_model_module_version": "1.5.0",
            "value": 1,
            "_view_count": null,
            "_view_module_version": "1.5.0",
            "orientation": "horizontal",
            "min": 0,
            "description_tooltip": null,
            "_model_module": "@jupyter-widgets/controls",
            "layout": "IPY_MODEL_69729e4a0da141118b2c1ea9c5ceb8b0"
          }
        },
        "690c56f14afe489e85ec0474add13aef": {
          "model_module": "@jupyter-widgets/controls",
          "model_name": "HTMLModel",
          "state": {
            "_view_name": "HTMLView",
            "style": "IPY_MODEL_afc99680e23c4b328b1f1633c11801ad",
            "_dom_classes": [],
            "description": "",
            "_model_name": "HTMLModel",
            "placeholder": "​",
            "_view_module": "@jupyter-widgets/controls",
            "_model_module_version": "1.5.0",
            "value": " 26427392/? [00:20&lt;00:00, 6692487.45it/s]",
            "_view_count": null,
            "_view_module_version": "1.5.0",
            "description_tooltip": null,
            "_model_module": "@jupyter-widgets/controls",
            "layout": "IPY_MODEL_f6cf5ce0621847bd886f102e03ba4669"
          }
        },
        "2e1c5e0b0c934c2abb5905c562e77378": {
          "model_module": "@jupyter-widgets/controls",
          "model_name": "ProgressStyleModel",
          "state": {
            "_view_name": "StyleView",
            "_model_name": "ProgressStyleModel",
            "description_width": "initial",
            "_view_module": "@jupyter-widgets/base",
            "_model_module_version": "1.5.0",
            "_view_count": null,
            "_view_module_version": "1.2.0",
            "bar_color": null,
            "_model_module": "@jupyter-widgets/controls"
          }
        },
        "69729e4a0da141118b2c1ea9c5ceb8b0": {
          "model_module": "@jupyter-widgets/base",
          "model_name": "LayoutModel",
          "state": {
            "_view_name": "LayoutView",
            "grid_template_rows": null,
            "right": null,
            "justify_content": null,
            "_view_module": "@jupyter-widgets/base",
            "overflow": null,
            "_model_module_version": "1.2.0",
            "_view_count": null,
            "flex_flow": null,
            "width": null,
            "min_width": null,
            "border": null,
            "align_items": null,
            "bottom": null,
            "_model_module": "@jupyter-widgets/base",
            "top": null,
            "grid_column": null,
            "overflow_y": null,
            "overflow_x": null,
            "grid_auto_flow": null,
            "grid_area": null,
            "grid_template_columns": null,
            "flex": null,
            "_model_name": "LayoutModel",
            "justify_items": null,
            "grid_row": null,
            "max_height": null,
            "align_content": null,
            "visibility": null,
            "align_self": null,
            "height": null,
            "min_height": null,
            "padding": null,
            "grid_auto_rows": null,
            "grid_gap": null,
            "max_width": null,
            "order": null,
            "_view_module_version": "1.2.0",
            "grid_template_areas": null,
            "object_position": null,
            "object_fit": null,
            "grid_auto_columns": null,
            "margin": null,
            "display": null,
            "left": null
          }
        },
        "afc99680e23c4b328b1f1633c11801ad": {
          "model_module": "@jupyter-widgets/controls",
          "model_name": "DescriptionStyleModel",
          "state": {
            "_view_name": "StyleView",
            "_model_name": "DescriptionStyleModel",
            "description_width": "",
            "_view_module": "@jupyter-widgets/base",
            "_model_module_version": "1.5.0",
            "_view_count": null,
            "_view_module_version": "1.2.0",
            "_model_module": "@jupyter-widgets/controls"
          }
        },
        "f6cf5ce0621847bd886f102e03ba4669": {
          "model_module": "@jupyter-widgets/base",
          "model_name": "LayoutModel",
          "state": {
            "_view_name": "LayoutView",
            "grid_template_rows": null,
            "right": null,
            "justify_content": null,
            "_view_module": "@jupyter-widgets/base",
            "overflow": null,
            "_model_module_version": "1.2.0",
            "_view_count": null,
            "flex_flow": null,
            "width": null,
            "min_width": null,
            "border": null,
            "align_items": null,
            "bottom": null,
            "_model_module": "@jupyter-widgets/base",
            "top": null,
            "grid_column": null,
            "overflow_y": null,
            "overflow_x": null,
            "grid_auto_flow": null,
            "grid_area": null,
            "grid_template_columns": null,
            "flex": null,
            "_model_name": "LayoutModel",
            "justify_items": null,
            "grid_row": null,
            "max_height": null,
            "align_content": null,
            "visibility": null,
            "align_self": null,
            "height": null,
            "min_height": null,
            "padding": null,
            "grid_auto_rows": null,
            "grid_gap": null,
            "max_width": null,
            "order": null,
            "_view_module_version": "1.2.0",
            "grid_template_areas": null,
            "object_position": null,
            "object_fit": null,
            "grid_auto_columns": null,
            "margin": null,
            "display": null,
            "left": null
          }
        },
        "6c671e548f47495db037be65c93e828d": {
          "model_module": "@jupyter-widgets/controls",
          "model_name": "HBoxModel",
          "state": {
            "_view_name": "HBoxView",
            "_dom_classes": [],
            "_model_name": "HBoxModel",
            "_view_module": "@jupyter-widgets/controls",
            "_model_module_version": "1.5.0",
            "_view_count": null,
            "_view_module_version": "1.5.0",
            "box_style": "",
            "layout": "IPY_MODEL_7efb1ef708a64dbd942809ae4fd7edee",
            "_model_module": "@jupyter-widgets/controls",
            "children": [
              "IPY_MODEL_475a315981614460919fed8db46d1c75",
              "IPY_MODEL_c1394a0986254c1f85051d436bbf8edc"
            ]
          }
        },
        "7efb1ef708a64dbd942809ae4fd7edee": {
          "model_module": "@jupyter-widgets/base",
          "model_name": "LayoutModel",
          "state": {
            "_view_name": "LayoutView",
            "grid_template_rows": null,
            "right": null,
            "justify_content": null,
            "_view_module": "@jupyter-widgets/base",
            "overflow": null,
            "_model_module_version": "1.2.0",
            "_view_count": null,
            "flex_flow": null,
            "width": null,
            "min_width": null,
            "border": null,
            "align_items": null,
            "bottom": null,
            "_model_module": "@jupyter-widgets/base",
            "top": null,
            "grid_column": null,
            "overflow_y": null,
            "overflow_x": null,
            "grid_auto_flow": null,
            "grid_area": null,
            "grid_template_columns": null,
            "flex": null,
            "_model_name": "LayoutModel",
            "justify_items": null,
            "grid_row": null,
            "max_height": null,
            "align_content": null,
            "visibility": null,
            "align_self": null,
            "height": null,
            "min_height": null,
            "padding": null,
            "grid_auto_rows": null,
            "grid_gap": null,
            "max_width": null,
            "order": null,
            "_view_module_version": "1.2.0",
            "grid_template_areas": null,
            "object_position": null,
            "object_fit": null,
            "grid_auto_columns": null,
            "margin": null,
            "display": null,
            "left": null
          }
        },
        "475a315981614460919fed8db46d1c75": {
          "model_module": "@jupyter-widgets/controls",
          "model_name": "FloatProgressModel",
          "state": {
            "_view_name": "ProgressView",
            "style": "IPY_MODEL_740210f6f76f4cac85c532e92f6037e1",
            "_dom_classes": [],
            "description": "",
            "_model_name": "FloatProgressModel",
            "bar_style": "info",
            "max": 1,
            "_view_module": "@jupyter-widgets/controls",
            "_model_module_version": "1.5.0",
            "value": 1,
            "_view_count": null,
            "_view_module_version": "1.5.0",
            "orientation": "horizontal",
            "min": 0,
            "description_tooltip": null,
            "_model_module": "@jupyter-widgets/controls",
            "layout": "IPY_MODEL_ed387a6b311f4285870cdd1b84cc409d"
          }
        },
        "c1394a0986254c1f85051d436bbf8edc": {
          "model_module": "@jupyter-widgets/controls",
          "model_name": "HTMLModel",
          "state": {
            "_view_name": "HTMLView",
            "style": "IPY_MODEL_93c57c71f2904f6988799827ecd69ca7",
            "_dom_classes": [],
            "description": "",
            "_model_name": "HTMLModel",
            "placeholder": "​",
            "_view_module": "@jupyter-widgets/controls",
            "_model_module_version": "1.5.0",
            "value": " 32768/? [00:16&lt;00:00, 118721.35it/s]",
            "_view_count": null,
            "_view_module_version": "1.5.0",
            "description_tooltip": null,
            "_model_module": "@jupyter-widgets/controls",
            "layout": "IPY_MODEL_e8865d62cea847c9a6621c359f370a1d"
          }
        },
        "740210f6f76f4cac85c532e92f6037e1": {
          "model_module": "@jupyter-widgets/controls",
          "model_name": "ProgressStyleModel",
          "state": {
            "_view_name": "StyleView",
            "_model_name": "ProgressStyleModel",
            "description_width": "initial",
            "_view_module": "@jupyter-widgets/base",
            "_model_module_version": "1.5.0",
            "_view_count": null,
            "_view_module_version": "1.2.0",
            "bar_color": null,
            "_model_module": "@jupyter-widgets/controls"
          }
        },
        "ed387a6b311f4285870cdd1b84cc409d": {
          "model_module": "@jupyter-widgets/base",
          "model_name": "LayoutModel",
          "state": {
            "_view_name": "LayoutView",
            "grid_template_rows": null,
            "right": null,
            "justify_content": null,
            "_view_module": "@jupyter-widgets/base",
            "overflow": null,
            "_model_module_version": "1.2.0",
            "_view_count": null,
            "flex_flow": null,
            "width": null,
            "min_width": null,
            "border": null,
            "align_items": null,
            "bottom": null,
            "_model_module": "@jupyter-widgets/base",
            "top": null,
            "grid_column": null,
            "overflow_y": null,
            "overflow_x": null,
            "grid_auto_flow": null,
            "grid_area": null,
            "grid_template_columns": null,
            "flex": null,
            "_model_name": "LayoutModel",
            "justify_items": null,
            "grid_row": null,
            "max_height": null,
            "align_content": null,
            "visibility": null,
            "align_self": null,
            "height": null,
            "min_height": null,
            "padding": null,
            "grid_auto_rows": null,
            "grid_gap": null,
            "max_width": null,
            "order": null,
            "_view_module_version": "1.2.0",
            "grid_template_areas": null,
            "object_position": null,
            "object_fit": null,
            "grid_auto_columns": null,
            "margin": null,
            "display": null,
            "left": null
          }
        },
        "93c57c71f2904f6988799827ecd69ca7": {
          "model_module": "@jupyter-widgets/controls",
          "model_name": "DescriptionStyleModel",
          "state": {
            "_view_name": "StyleView",
            "_model_name": "DescriptionStyleModel",
            "description_width": "",
            "_view_module": "@jupyter-widgets/base",
            "_model_module_version": "1.5.0",
            "_view_count": null,
            "_view_module_version": "1.2.0",
            "_model_module": "@jupyter-widgets/controls"
          }
        },
        "e8865d62cea847c9a6621c359f370a1d": {
          "model_module": "@jupyter-widgets/base",
          "model_name": "LayoutModel",
          "state": {
            "_view_name": "LayoutView",
            "grid_template_rows": null,
            "right": null,
            "justify_content": null,
            "_view_module": "@jupyter-widgets/base",
            "overflow": null,
            "_model_module_version": "1.2.0",
            "_view_count": null,
            "flex_flow": null,
            "width": null,
            "min_width": null,
            "border": null,
            "align_items": null,
            "bottom": null,
            "_model_module": "@jupyter-widgets/base",
            "top": null,
            "grid_column": null,
            "overflow_y": null,
            "overflow_x": null,
            "grid_auto_flow": null,
            "grid_area": null,
            "grid_template_columns": null,
            "flex": null,
            "_model_name": "LayoutModel",
            "justify_items": null,
            "grid_row": null,
            "max_height": null,
            "align_content": null,
            "visibility": null,
            "align_self": null,
            "height": null,
            "min_height": null,
            "padding": null,
            "grid_auto_rows": null,
            "grid_gap": null,
            "max_width": null,
            "order": null,
            "_view_module_version": "1.2.0",
            "grid_template_areas": null,
            "object_position": null,
            "object_fit": null,
            "grid_auto_columns": null,
            "margin": null,
            "display": null,
            "left": null
          }
        },
        "d6e6ca199bd443cb98278a5350b0ddf3": {
          "model_module": "@jupyter-widgets/controls",
          "model_name": "HBoxModel",
          "state": {
            "_view_name": "HBoxView",
            "_dom_classes": [],
            "_model_name": "HBoxModel",
            "_view_module": "@jupyter-widgets/controls",
            "_model_module_version": "1.5.0",
            "_view_count": null,
            "_view_module_version": "1.5.0",
            "box_style": "",
            "layout": "IPY_MODEL_641b481b5ff743db92473e360dc7ee06",
            "_model_module": "@jupyter-widgets/controls",
            "children": [
              "IPY_MODEL_f822fc354927422a88b7ce8085049c3e",
              "IPY_MODEL_8979fe29d38e42d496b310bde68b3fe3"
            ]
          }
        },
        "641b481b5ff743db92473e360dc7ee06": {
          "model_module": "@jupyter-widgets/base",
          "model_name": "LayoutModel",
          "state": {
            "_view_name": "LayoutView",
            "grid_template_rows": null,
            "right": null,
            "justify_content": null,
            "_view_module": "@jupyter-widgets/base",
            "overflow": null,
            "_model_module_version": "1.2.0",
            "_view_count": null,
            "flex_flow": null,
            "width": null,
            "min_width": null,
            "border": null,
            "align_items": null,
            "bottom": null,
            "_model_module": "@jupyter-widgets/base",
            "top": null,
            "grid_column": null,
            "overflow_y": null,
            "overflow_x": null,
            "grid_auto_flow": null,
            "grid_area": null,
            "grid_template_columns": null,
            "flex": null,
            "_model_name": "LayoutModel",
            "justify_items": null,
            "grid_row": null,
            "max_height": null,
            "align_content": null,
            "visibility": null,
            "align_self": null,
            "height": null,
            "min_height": null,
            "padding": null,
            "grid_auto_rows": null,
            "grid_gap": null,
            "max_width": null,
            "order": null,
            "_view_module_version": "1.2.0",
            "grid_template_areas": null,
            "object_position": null,
            "object_fit": null,
            "grid_auto_columns": null,
            "margin": null,
            "display": null,
            "left": null
          }
        },
        "f822fc354927422a88b7ce8085049c3e": {
          "model_module": "@jupyter-widgets/controls",
          "model_name": "FloatProgressModel",
          "state": {
            "_view_name": "ProgressView",
            "style": "IPY_MODEL_efe5c02d86134abf9e13d3df5920df41",
            "_dom_classes": [],
            "description": "",
            "_model_name": "FloatProgressModel",
            "bar_style": "success",
            "max": 1,
            "_view_module": "@jupyter-widgets/controls",
            "_model_module_version": "1.5.0",
            "value": 1,
            "_view_count": null,
            "_view_module_version": "1.5.0",
            "orientation": "horizontal",
            "min": 0,
            "description_tooltip": null,
            "_model_module": "@jupyter-widgets/controls",
            "layout": "IPY_MODEL_2f1944dd1c6743b7a52503ef6184af75"
          }
        },
        "8979fe29d38e42d496b310bde68b3fe3": {
          "model_module": "@jupyter-widgets/controls",
          "model_name": "HTMLModel",
          "state": {
            "_view_name": "HTMLView",
            "style": "IPY_MODEL_040831f5e1b6432c9b66d9dc065142b4",
            "_dom_classes": [],
            "description": "",
            "_model_name": "HTMLModel",
            "placeholder": "​",
            "_view_module": "@jupyter-widgets/controls",
            "_model_module_version": "1.5.0",
            "value": " 4423680/? [00:03&lt;00:00, 1340245.64it/s]",
            "_view_count": null,
            "_view_module_version": "1.5.0",
            "description_tooltip": null,
            "_model_module": "@jupyter-widgets/controls",
            "layout": "IPY_MODEL_474b508cae5941359b1f3ea4f3cf9a7d"
          }
        },
        "efe5c02d86134abf9e13d3df5920df41": {
          "model_module": "@jupyter-widgets/controls",
          "model_name": "ProgressStyleModel",
          "state": {
            "_view_name": "StyleView",
            "_model_name": "ProgressStyleModel",
            "description_width": "initial",
            "_view_module": "@jupyter-widgets/base",
            "_model_module_version": "1.5.0",
            "_view_count": null,
            "_view_module_version": "1.2.0",
            "bar_color": null,
            "_model_module": "@jupyter-widgets/controls"
          }
        },
        "2f1944dd1c6743b7a52503ef6184af75": {
          "model_module": "@jupyter-widgets/base",
          "model_name": "LayoutModel",
          "state": {
            "_view_name": "LayoutView",
            "grid_template_rows": null,
            "right": null,
            "justify_content": null,
            "_view_module": "@jupyter-widgets/base",
            "overflow": null,
            "_model_module_version": "1.2.0",
            "_view_count": null,
            "flex_flow": null,
            "width": null,
            "min_width": null,
            "border": null,
            "align_items": null,
            "bottom": null,
            "_model_module": "@jupyter-widgets/base",
            "top": null,
            "grid_column": null,
            "overflow_y": null,
            "overflow_x": null,
            "grid_auto_flow": null,
            "grid_area": null,
            "grid_template_columns": null,
            "flex": null,
            "_model_name": "LayoutModel",
            "justify_items": null,
            "grid_row": null,
            "max_height": null,
            "align_content": null,
            "visibility": null,
            "align_self": null,
            "height": null,
            "min_height": null,
            "padding": null,
            "grid_auto_rows": null,
            "grid_gap": null,
            "max_width": null,
            "order": null,
            "_view_module_version": "1.2.0",
            "grid_template_areas": null,
            "object_position": null,
            "object_fit": null,
            "grid_auto_columns": null,
            "margin": null,
            "display": null,
            "left": null
          }
        },
        "040831f5e1b6432c9b66d9dc065142b4": {
          "model_module": "@jupyter-widgets/controls",
          "model_name": "DescriptionStyleModel",
          "state": {
            "_view_name": "StyleView",
            "_model_name": "DescriptionStyleModel",
            "description_width": "",
            "_view_module": "@jupyter-widgets/base",
            "_model_module_version": "1.5.0",
            "_view_count": null,
            "_view_module_version": "1.2.0",
            "_model_module": "@jupyter-widgets/controls"
          }
        },
        "474b508cae5941359b1f3ea4f3cf9a7d": {
          "model_module": "@jupyter-widgets/base",
          "model_name": "LayoutModel",
          "state": {
            "_view_name": "LayoutView",
            "grid_template_rows": null,
            "right": null,
            "justify_content": null,
            "_view_module": "@jupyter-widgets/base",
            "overflow": null,
            "_model_module_version": "1.2.0",
            "_view_count": null,
            "flex_flow": null,
            "width": null,
            "min_width": null,
            "border": null,
            "align_items": null,
            "bottom": null,
            "_model_module": "@jupyter-widgets/base",
            "top": null,
            "grid_column": null,
            "overflow_y": null,
            "overflow_x": null,
            "grid_auto_flow": null,
            "grid_area": null,
            "grid_template_columns": null,
            "flex": null,
            "_model_name": "LayoutModel",
            "justify_items": null,
            "grid_row": null,
            "max_height": null,
            "align_content": null,
            "visibility": null,
            "align_self": null,
            "height": null,
            "min_height": null,
            "padding": null,
            "grid_auto_rows": null,
            "grid_gap": null,
            "max_width": null,
            "order": null,
            "_view_module_version": "1.2.0",
            "grid_template_areas": null,
            "object_position": null,
            "object_fit": null,
            "grid_auto_columns": null,
            "margin": null,
            "display": null,
            "left": null
          }
        },
        "af480e711ff4483b8f11089bfeb18fd2": {
          "model_module": "@jupyter-widgets/controls",
          "model_name": "HBoxModel",
          "state": {
            "_view_name": "HBoxView",
            "_dom_classes": [],
            "_model_name": "HBoxModel",
            "_view_module": "@jupyter-widgets/controls",
            "_model_module_version": "1.5.0",
            "_view_count": null,
            "_view_module_version": "1.5.0",
            "box_style": "",
            "layout": "IPY_MODEL_90c26711f48b4d02a69a3abc6ea47752",
            "_model_module": "@jupyter-widgets/controls",
            "children": [
              "IPY_MODEL_0447226f2c3441059867685c986cccb8",
              "IPY_MODEL_ce3b22a26f4d48faac231d82b7f395f3"
            ]
          }
        },
        "90c26711f48b4d02a69a3abc6ea47752": {
          "model_module": "@jupyter-widgets/base",
          "model_name": "LayoutModel",
          "state": {
            "_view_name": "LayoutView",
            "grid_template_rows": null,
            "right": null,
            "justify_content": null,
            "_view_module": "@jupyter-widgets/base",
            "overflow": null,
            "_model_module_version": "1.2.0",
            "_view_count": null,
            "flex_flow": null,
            "width": null,
            "min_width": null,
            "border": null,
            "align_items": null,
            "bottom": null,
            "_model_module": "@jupyter-widgets/base",
            "top": null,
            "grid_column": null,
            "overflow_y": null,
            "overflow_x": null,
            "grid_auto_flow": null,
            "grid_area": null,
            "grid_template_columns": null,
            "flex": null,
            "_model_name": "LayoutModel",
            "justify_items": null,
            "grid_row": null,
            "max_height": null,
            "align_content": null,
            "visibility": null,
            "align_self": null,
            "height": null,
            "min_height": null,
            "padding": null,
            "grid_auto_rows": null,
            "grid_gap": null,
            "max_width": null,
            "order": null,
            "_view_module_version": "1.2.0",
            "grid_template_areas": null,
            "object_position": null,
            "object_fit": null,
            "grid_auto_columns": null,
            "margin": null,
            "display": null,
            "left": null
          }
        },
        "0447226f2c3441059867685c986cccb8": {
          "model_module": "@jupyter-widgets/controls",
          "model_name": "FloatProgressModel",
          "state": {
            "_view_name": "ProgressView",
            "style": "IPY_MODEL_812ca9b01cc744f79bf9c35d73208fbf",
            "_dom_classes": [],
            "description": "",
            "_model_name": "FloatProgressModel",
            "bar_style": "success",
            "max": 1,
            "_view_module": "@jupyter-widgets/controls",
            "_model_module_version": "1.5.0",
            "value": 1,
            "_view_count": null,
            "_view_module_version": "1.5.0",
            "orientation": "horizontal",
            "min": 0,
            "description_tooltip": null,
            "_model_module": "@jupyter-widgets/controls",
            "layout": "IPY_MODEL_b49224eb8f15489eb2f540a96e78474e"
          }
        },
        "ce3b22a26f4d48faac231d82b7f395f3": {
          "model_module": "@jupyter-widgets/controls",
          "model_name": "HTMLModel",
          "state": {
            "_view_name": "HTMLView",
            "style": "IPY_MODEL_c279fb25e99440749f42aade8dcdb426",
            "_dom_classes": [],
            "description": "",
            "_model_name": "HTMLModel",
            "placeholder": "​",
            "_view_module": "@jupyter-widgets/controls",
            "_model_module_version": "1.5.0",
            "value": " 8192/? [00:01&lt;00:00, 4730.69it/s]",
            "_view_count": null,
            "_view_module_version": "1.5.0",
            "description_tooltip": null,
            "_model_module": "@jupyter-widgets/controls",
            "layout": "IPY_MODEL_a37ebab9ee594672957d4fccb55bb96d"
          }
        },
        "812ca9b01cc744f79bf9c35d73208fbf": {
          "model_module": "@jupyter-widgets/controls",
          "model_name": "ProgressStyleModel",
          "state": {
            "_view_name": "StyleView",
            "_model_name": "ProgressStyleModel",
            "description_width": "initial",
            "_view_module": "@jupyter-widgets/base",
            "_model_module_version": "1.5.0",
            "_view_count": null,
            "_view_module_version": "1.2.0",
            "bar_color": null,
            "_model_module": "@jupyter-widgets/controls"
          }
        },
        "b49224eb8f15489eb2f540a96e78474e": {
          "model_module": "@jupyter-widgets/base",
          "model_name": "LayoutModel",
          "state": {
            "_view_name": "LayoutView",
            "grid_template_rows": null,
            "right": null,
            "justify_content": null,
            "_view_module": "@jupyter-widgets/base",
            "overflow": null,
            "_model_module_version": "1.2.0",
            "_view_count": null,
            "flex_flow": null,
            "width": null,
            "min_width": null,
            "border": null,
            "align_items": null,
            "bottom": null,
            "_model_module": "@jupyter-widgets/base",
            "top": null,
            "grid_column": null,
            "overflow_y": null,
            "overflow_x": null,
            "grid_auto_flow": null,
            "grid_area": null,
            "grid_template_columns": null,
            "flex": null,
            "_model_name": "LayoutModel",
            "justify_items": null,
            "grid_row": null,
            "max_height": null,
            "align_content": null,
            "visibility": null,
            "align_self": null,
            "height": null,
            "min_height": null,
            "padding": null,
            "grid_auto_rows": null,
            "grid_gap": null,
            "max_width": null,
            "order": null,
            "_view_module_version": "1.2.0",
            "grid_template_areas": null,
            "object_position": null,
            "object_fit": null,
            "grid_auto_columns": null,
            "margin": null,
            "display": null,
            "left": null
          }
        },
        "c279fb25e99440749f42aade8dcdb426": {
          "model_module": "@jupyter-widgets/controls",
          "model_name": "DescriptionStyleModel",
          "state": {
            "_view_name": "StyleView",
            "_model_name": "DescriptionStyleModel",
            "description_width": "",
            "_view_module": "@jupyter-widgets/base",
            "_model_module_version": "1.5.0",
            "_view_count": null,
            "_view_module_version": "1.2.0",
            "_model_module": "@jupyter-widgets/controls"
          }
        },
        "a37ebab9ee594672957d4fccb55bb96d": {
          "model_module": "@jupyter-widgets/base",
          "model_name": "LayoutModel",
          "state": {
            "_view_name": "LayoutView",
            "grid_template_rows": null,
            "right": null,
            "justify_content": null,
            "_view_module": "@jupyter-widgets/base",
            "overflow": null,
            "_model_module_version": "1.2.0",
            "_view_count": null,
            "flex_flow": null,
            "width": null,
            "min_width": null,
            "border": null,
            "align_items": null,
            "bottom": null,
            "_model_module": "@jupyter-widgets/base",
            "top": null,
            "grid_column": null,
            "overflow_y": null,
            "overflow_x": null,
            "grid_auto_flow": null,
            "grid_area": null,
            "grid_template_columns": null,
            "flex": null,
            "_model_name": "LayoutModel",
            "justify_items": null,
            "grid_row": null,
            "max_height": null,
            "align_content": null,
            "visibility": null,
            "align_self": null,
            "height": null,
            "min_height": null,
            "padding": null,
            "grid_auto_rows": null,
            "grid_gap": null,
            "max_width": null,
            "order": null,
            "_view_module_version": "1.2.0",
            "grid_template_areas": null,
            "object_position": null,
            "object_fit": null,
            "grid_auto_columns": null,
            "margin": null,
            "display": null,
            "left": null
          }
        },
        "fd676cf0b9ff4c1aa1226c7c9dbc7ae7": {
          "model_module": "@jupyter-widgets/controls",
          "model_name": "HBoxModel",
          "state": {
            "_view_name": "HBoxView",
            "_dom_classes": [],
            "_model_name": "HBoxModel",
            "_view_module": "@jupyter-widgets/controls",
            "_model_module_version": "1.5.0",
            "_view_count": null,
            "_view_module_version": "1.5.0",
            "box_style": "",
            "layout": "IPY_MODEL_69304f4f6b3944d0b8d5a9f1c25c70e6",
            "_model_module": "@jupyter-widgets/controls",
            "children": [
              "IPY_MODEL_c4aedc1570fd4dbf83bcddc44d9b3985",
              "IPY_MODEL_950900636bb54a89be701ce9f9ffcb1a"
            ]
          }
        },
        "69304f4f6b3944d0b8d5a9f1c25c70e6": {
          "model_module": "@jupyter-widgets/base",
          "model_name": "LayoutModel",
          "state": {
            "_view_name": "LayoutView",
            "grid_template_rows": null,
            "right": null,
            "justify_content": null,
            "_view_module": "@jupyter-widgets/base",
            "overflow": null,
            "_model_module_version": "1.2.0",
            "_view_count": null,
            "flex_flow": null,
            "width": null,
            "min_width": null,
            "border": null,
            "align_items": null,
            "bottom": null,
            "_model_module": "@jupyter-widgets/base",
            "top": null,
            "grid_column": null,
            "overflow_y": null,
            "overflow_x": null,
            "grid_auto_flow": null,
            "grid_area": null,
            "grid_template_columns": null,
            "flex": null,
            "_model_name": "LayoutModel",
            "justify_items": null,
            "grid_row": null,
            "max_height": null,
            "align_content": null,
            "visibility": null,
            "align_self": null,
            "height": null,
            "min_height": null,
            "padding": null,
            "grid_auto_rows": null,
            "grid_gap": null,
            "max_width": null,
            "order": null,
            "_view_module_version": "1.2.0",
            "grid_template_areas": null,
            "object_position": null,
            "object_fit": null,
            "grid_auto_columns": null,
            "margin": null,
            "display": null,
            "left": null
          }
        },
        "c4aedc1570fd4dbf83bcddc44d9b3985": {
          "model_module": "@jupyter-widgets/controls",
          "model_name": "FloatProgressModel",
          "state": {
            "_view_name": "ProgressView",
            "style": "IPY_MODEL_4bc85e84133e4ac888582d6b48fcdc49",
            "_dom_classes": [],
            "description": "",
            "_model_name": "FloatProgressModel",
            "bar_style": "info",
            "max": 1,
            "_view_module": "@jupyter-widgets/controls",
            "_model_module_version": "1.5.0",
            "value": 1,
            "_view_count": null,
            "_view_module_version": "1.5.0",
            "orientation": "horizontal",
            "min": 0,
            "description_tooltip": null,
            "_model_module": "@jupyter-widgets/controls",
            "layout": "IPY_MODEL_290d62e9d2b943a8a7995934547e644e"
          }
        },
        "950900636bb54a89be701ce9f9ffcb1a": {
          "model_module": "@jupyter-widgets/controls",
          "model_name": "HTMLModel",
          "state": {
            "_view_name": "HTMLView",
            "style": "IPY_MODEL_b0e90d16e2294b2fa9deac2b5347f837",
            "_dom_classes": [],
            "description": "",
            "_model_name": "HTMLModel",
            "placeholder": "​",
            "_view_module": "@jupyter-widgets/controls",
            "_model_module_version": "1.5.0",
            "value": " 26427392/? [00:14&lt;00:00, 6879523.49it/s]",
            "_view_count": null,
            "_view_module_version": "1.5.0",
            "description_tooltip": null,
            "_model_module": "@jupyter-widgets/controls",
            "layout": "IPY_MODEL_d93670eb3bbf41ed8911d5e8303b6562"
          }
        },
        "4bc85e84133e4ac888582d6b48fcdc49": {
          "model_module": "@jupyter-widgets/controls",
          "model_name": "ProgressStyleModel",
          "state": {
            "_view_name": "StyleView",
            "_model_name": "ProgressStyleModel",
            "description_width": "initial",
            "_view_module": "@jupyter-widgets/base",
            "_model_module_version": "1.5.0",
            "_view_count": null,
            "_view_module_version": "1.2.0",
            "bar_color": null,
            "_model_module": "@jupyter-widgets/controls"
          }
        },
        "290d62e9d2b943a8a7995934547e644e": {
          "model_module": "@jupyter-widgets/base",
          "model_name": "LayoutModel",
          "state": {
            "_view_name": "LayoutView",
            "grid_template_rows": null,
            "right": null,
            "justify_content": null,
            "_view_module": "@jupyter-widgets/base",
            "overflow": null,
            "_model_module_version": "1.2.0",
            "_view_count": null,
            "flex_flow": null,
            "width": null,
            "min_width": null,
            "border": null,
            "align_items": null,
            "bottom": null,
            "_model_module": "@jupyter-widgets/base",
            "top": null,
            "grid_column": null,
            "overflow_y": null,
            "overflow_x": null,
            "grid_auto_flow": null,
            "grid_area": null,
            "grid_template_columns": null,
            "flex": null,
            "_model_name": "LayoutModel",
            "justify_items": null,
            "grid_row": null,
            "max_height": null,
            "align_content": null,
            "visibility": null,
            "align_self": null,
            "height": null,
            "min_height": null,
            "padding": null,
            "grid_auto_rows": null,
            "grid_gap": null,
            "max_width": null,
            "order": null,
            "_view_module_version": "1.2.0",
            "grid_template_areas": null,
            "object_position": null,
            "object_fit": null,
            "grid_auto_columns": null,
            "margin": null,
            "display": null,
            "left": null
          }
        },
        "b0e90d16e2294b2fa9deac2b5347f837": {
          "model_module": "@jupyter-widgets/controls",
          "model_name": "DescriptionStyleModel",
          "state": {
            "_view_name": "StyleView",
            "_model_name": "DescriptionStyleModel",
            "description_width": "",
            "_view_module": "@jupyter-widgets/base",
            "_model_module_version": "1.5.0",
            "_view_count": null,
            "_view_module_version": "1.2.0",
            "_model_module": "@jupyter-widgets/controls"
          }
        },
        "d93670eb3bbf41ed8911d5e8303b6562": {
          "model_module": "@jupyter-widgets/base",
          "model_name": "LayoutModel",
          "state": {
            "_view_name": "LayoutView",
            "grid_template_rows": null,
            "right": null,
            "justify_content": null,
            "_view_module": "@jupyter-widgets/base",
            "overflow": null,
            "_model_module_version": "1.2.0",
            "_view_count": null,
            "flex_flow": null,
            "width": null,
            "min_width": null,
            "border": null,
            "align_items": null,
            "bottom": null,
            "_model_module": "@jupyter-widgets/base",
            "top": null,
            "grid_column": null,
            "overflow_y": null,
            "overflow_x": null,
            "grid_auto_flow": null,
            "grid_area": null,
            "grid_template_columns": null,
            "flex": null,
            "_model_name": "LayoutModel",
            "justify_items": null,
            "grid_row": null,
            "max_height": null,
            "align_content": null,
            "visibility": null,
            "align_self": null,
            "height": null,
            "min_height": null,
            "padding": null,
            "grid_auto_rows": null,
            "grid_gap": null,
            "max_width": null,
            "order": null,
            "_view_module_version": "1.2.0",
            "grid_template_areas": null,
            "object_position": null,
            "object_fit": null,
            "grid_auto_columns": null,
            "margin": null,
            "display": null,
            "left": null
          }
        },
        "19cf536b75914fb4b82892cb1a005e8c": {
          "model_module": "@jupyter-widgets/controls",
          "model_name": "HBoxModel",
          "state": {
            "_view_name": "HBoxView",
            "_dom_classes": [],
            "_model_name": "HBoxModel",
            "_view_module": "@jupyter-widgets/controls",
            "_model_module_version": "1.5.0",
            "_view_count": null,
            "_view_module_version": "1.5.0",
            "box_style": "",
            "layout": "IPY_MODEL_28b0f5158ff44e7298866218de8bd96a",
            "_model_module": "@jupyter-widgets/controls",
            "children": [
              "IPY_MODEL_286f7cbdac834096b30d7a9fcaa02732",
              "IPY_MODEL_9bf3255a7cb44baf92d1095bd0251599"
            ]
          }
        },
        "28b0f5158ff44e7298866218de8bd96a": {
          "model_module": "@jupyter-widgets/base",
          "model_name": "LayoutModel",
          "state": {
            "_view_name": "LayoutView",
            "grid_template_rows": null,
            "right": null,
            "justify_content": null,
            "_view_module": "@jupyter-widgets/base",
            "overflow": null,
            "_model_module_version": "1.2.0",
            "_view_count": null,
            "flex_flow": null,
            "width": null,
            "min_width": null,
            "border": null,
            "align_items": null,
            "bottom": null,
            "_model_module": "@jupyter-widgets/base",
            "top": null,
            "grid_column": null,
            "overflow_y": null,
            "overflow_x": null,
            "grid_auto_flow": null,
            "grid_area": null,
            "grid_template_columns": null,
            "flex": null,
            "_model_name": "LayoutModel",
            "justify_items": null,
            "grid_row": null,
            "max_height": null,
            "align_content": null,
            "visibility": null,
            "align_self": null,
            "height": null,
            "min_height": null,
            "padding": null,
            "grid_auto_rows": null,
            "grid_gap": null,
            "max_width": null,
            "order": null,
            "_view_module_version": "1.2.0",
            "grid_template_areas": null,
            "object_position": null,
            "object_fit": null,
            "grid_auto_columns": null,
            "margin": null,
            "display": null,
            "left": null
          }
        },
        "286f7cbdac834096b30d7a9fcaa02732": {
          "model_module": "@jupyter-widgets/controls",
          "model_name": "FloatProgressModel",
          "state": {
            "_view_name": "ProgressView",
            "style": "IPY_MODEL_05e29d23d54b4320b35800011e17eec5",
            "_dom_classes": [],
            "description": "",
            "_model_name": "FloatProgressModel",
            "bar_style": "info",
            "max": 1,
            "_view_module": "@jupyter-widgets/controls",
            "_model_module_version": "1.5.0",
            "value": 1,
            "_view_count": null,
            "_view_module_version": "1.5.0",
            "orientation": "horizontal",
            "min": 0,
            "description_tooltip": null,
            "_model_module": "@jupyter-widgets/controls",
            "layout": "IPY_MODEL_d7c7032629804571ad9c73ed95b59dd0"
          }
        },
        "9bf3255a7cb44baf92d1095bd0251599": {
          "model_module": "@jupyter-widgets/controls",
          "model_name": "HTMLModel",
          "state": {
            "_view_name": "HTMLView",
            "style": "IPY_MODEL_d2bab962cd394b15b730d5055d3f8425",
            "_dom_classes": [],
            "description": "",
            "_model_name": "HTMLModel",
            "placeholder": "​",
            "_view_module": "@jupyter-widgets/controls",
            "_model_module_version": "1.5.0",
            "value": " 32768/? [00:11&lt;00:00, 119098.50it/s]",
            "_view_count": null,
            "_view_module_version": "1.5.0",
            "description_tooltip": null,
            "_model_module": "@jupyter-widgets/controls",
            "layout": "IPY_MODEL_c5d64087ffad4cb4bf9cbb9c5723ca02"
          }
        },
        "05e29d23d54b4320b35800011e17eec5": {
          "model_module": "@jupyter-widgets/controls",
          "model_name": "ProgressStyleModel",
          "state": {
            "_view_name": "StyleView",
            "_model_name": "ProgressStyleModel",
            "description_width": "initial",
            "_view_module": "@jupyter-widgets/base",
            "_model_module_version": "1.5.0",
            "_view_count": null,
            "_view_module_version": "1.2.0",
            "bar_color": null,
            "_model_module": "@jupyter-widgets/controls"
          }
        },
        "d7c7032629804571ad9c73ed95b59dd0": {
          "model_module": "@jupyter-widgets/base",
          "model_name": "LayoutModel",
          "state": {
            "_view_name": "LayoutView",
            "grid_template_rows": null,
            "right": null,
            "justify_content": null,
            "_view_module": "@jupyter-widgets/base",
            "overflow": null,
            "_model_module_version": "1.2.0",
            "_view_count": null,
            "flex_flow": null,
            "width": null,
            "min_width": null,
            "border": null,
            "align_items": null,
            "bottom": null,
            "_model_module": "@jupyter-widgets/base",
            "top": null,
            "grid_column": null,
            "overflow_y": null,
            "overflow_x": null,
            "grid_auto_flow": null,
            "grid_area": null,
            "grid_template_columns": null,
            "flex": null,
            "_model_name": "LayoutModel",
            "justify_items": null,
            "grid_row": null,
            "max_height": null,
            "align_content": null,
            "visibility": null,
            "align_self": null,
            "height": null,
            "min_height": null,
            "padding": null,
            "grid_auto_rows": null,
            "grid_gap": null,
            "max_width": null,
            "order": null,
            "_view_module_version": "1.2.0",
            "grid_template_areas": null,
            "object_position": null,
            "object_fit": null,
            "grid_auto_columns": null,
            "margin": null,
            "display": null,
            "left": null
          }
        },
        "d2bab962cd394b15b730d5055d3f8425": {
          "model_module": "@jupyter-widgets/controls",
          "model_name": "DescriptionStyleModel",
          "state": {
            "_view_name": "StyleView",
            "_model_name": "DescriptionStyleModel",
            "description_width": "",
            "_view_module": "@jupyter-widgets/base",
            "_model_module_version": "1.5.0",
            "_view_count": null,
            "_view_module_version": "1.2.0",
            "_model_module": "@jupyter-widgets/controls"
          }
        },
        "c5d64087ffad4cb4bf9cbb9c5723ca02": {
          "model_module": "@jupyter-widgets/base",
          "model_name": "LayoutModel",
          "state": {
            "_view_name": "LayoutView",
            "grid_template_rows": null,
            "right": null,
            "justify_content": null,
            "_view_module": "@jupyter-widgets/base",
            "overflow": null,
            "_model_module_version": "1.2.0",
            "_view_count": null,
            "flex_flow": null,
            "width": null,
            "min_width": null,
            "border": null,
            "align_items": null,
            "bottom": null,
            "_model_module": "@jupyter-widgets/base",
            "top": null,
            "grid_column": null,
            "overflow_y": null,
            "overflow_x": null,
            "grid_auto_flow": null,
            "grid_area": null,
            "grid_template_columns": null,
            "flex": null,
            "_model_name": "LayoutModel",
            "justify_items": null,
            "grid_row": null,
            "max_height": null,
            "align_content": null,
            "visibility": null,
            "align_self": null,
            "height": null,
            "min_height": null,
            "padding": null,
            "grid_auto_rows": null,
            "grid_gap": null,
            "max_width": null,
            "order": null,
            "_view_module_version": "1.2.0",
            "grid_template_areas": null,
            "object_position": null,
            "object_fit": null,
            "grid_auto_columns": null,
            "margin": null,
            "display": null,
            "left": null
          }
        },
        "4a4218d7c97a41aab774752c8945adab": {
          "model_module": "@jupyter-widgets/controls",
          "model_name": "HBoxModel",
          "state": {
            "_view_name": "HBoxView",
            "_dom_classes": [],
            "_model_name": "HBoxModel",
            "_view_module": "@jupyter-widgets/controls",
            "_model_module_version": "1.5.0",
            "_view_count": null,
            "_view_module_version": "1.5.0",
            "box_style": "",
            "layout": "IPY_MODEL_8cba6ff995b1460eb9e20a2c94b9eaf8",
            "_model_module": "@jupyter-widgets/controls",
            "children": [
              "IPY_MODEL_ede0c05fb5e649ec97791ac7ac8a5d9e",
              "IPY_MODEL_999839b2a1ee4e1886e89d8096ee84ec"
            ]
          }
        },
        "8cba6ff995b1460eb9e20a2c94b9eaf8": {
          "model_module": "@jupyter-widgets/base",
          "model_name": "LayoutModel",
          "state": {
            "_view_name": "LayoutView",
            "grid_template_rows": null,
            "right": null,
            "justify_content": null,
            "_view_module": "@jupyter-widgets/base",
            "overflow": null,
            "_model_module_version": "1.2.0",
            "_view_count": null,
            "flex_flow": null,
            "width": null,
            "min_width": null,
            "border": null,
            "align_items": null,
            "bottom": null,
            "_model_module": "@jupyter-widgets/base",
            "top": null,
            "grid_column": null,
            "overflow_y": null,
            "overflow_x": null,
            "grid_auto_flow": null,
            "grid_area": null,
            "grid_template_columns": null,
            "flex": null,
            "_model_name": "LayoutModel",
            "justify_items": null,
            "grid_row": null,
            "max_height": null,
            "align_content": null,
            "visibility": null,
            "align_self": null,
            "height": null,
            "min_height": null,
            "padding": null,
            "grid_auto_rows": null,
            "grid_gap": null,
            "max_width": null,
            "order": null,
            "_view_module_version": "1.2.0",
            "grid_template_areas": null,
            "object_position": null,
            "object_fit": null,
            "grid_auto_columns": null,
            "margin": null,
            "display": null,
            "left": null
          }
        },
        "ede0c05fb5e649ec97791ac7ac8a5d9e": {
          "model_module": "@jupyter-widgets/controls",
          "model_name": "FloatProgressModel",
          "state": {
            "_view_name": "ProgressView",
            "style": "IPY_MODEL_c6366901dbd44eabae4f81249d244881",
            "_dom_classes": [],
            "description": "",
            "_model_name": "FloatProgressModel",
            "bar_style": "info",
            "max": 1,
            "_view_module": "@jupyter-widgets/controls",
            "_model_module_version": "1.5.0",
            "value": 1,
            "_view_count": null,
            "_view_module_version": "1.5.0",
            "orientation": "horizontal",
            "min": 0,
            "description_tooltip": null,
            "_model_module": "@jupyter-widgets/controls",
            "layout": "IPY_MODEL_868b13e52aa642a6808d69ef2a7b66f2"
          }
        },
        "999839b2a1ee4e1886e89d8096ee84ec": {
          "model_module": "@jupyter-widgets/controls",
          "model_name": "HTMLModel",
          "state": {
            "_view_name": "HTMLView",
            "style": "IPY_MODEL_67b7ccccadf1427a8f71c85bd47fb7ae",
            "_dom_classes": [],
            "description": "",
            "_model_name": "HTMLModel",
            "placeholder": "​",
            "_view_module": "@jupyter-widgets/controls",
            "_model_module_version": "1.5.0",
            "value": " 4423680/? [00:20&lt;00:00, 793804.17it/s]",
            "_view_count": null,
            "_view_module_version": "1.5.0",
            "description_tooltip": null,
            "_model_module": "@jupyter-widgets/controls",
            "layout": "IPY_MODEL_9f61580fd44f41949deeaaea9dd805f1"
          }
        },
        "c6366901dbd44eabae4f81249d244881": {
          "model_module": "@jupyter-widgets/controls",
          "model_name": "ProgressStyleModel",
          "state": {
            "_view_name": "StyleView",
            "_model_name": "ProgressStyleModel",
            "description_width": "initial",
            "_view_module": "@jupyter-widgets/base",
            "_model_module_version": "1.5.0",
            "_view_count": null,
            "_view_module_version": "1.2.0",
            "bar_color": null,
            "_model_module": "@jupyter-widgets/controls"
          }
        },
        "868b13e52aa642a6808d69ef2a7b66f2": {
          "model_module": "@jupyter-widgets/base",
          "model_name": "LayoutModel",
          "state": {
            "_view_name": "LayoutView",
            "grid_template_rows": null,
            "right": null,
            "justify_content": null,
            "_view_module": "@jupyter-widgets/base",
            "overflow": null,
            "_model_module_version": "1.2.0",
            "_view_count": null,
            "flex_flow": null,
            "width": null,
            "min_width": null,
            "border": null,
            "align_items": null,
            "bottom": null,
            "_model_module": "@jupyter-widgets/base",
            "top": null,
            "grid_column": null,
            "overflow_y": null,
            "overflow_x": null,
            "grid_auto_flow": null,
            "grid_area": null,
            "grid_template_columns": null,
            "flex": null,
            "_model_name": "LayoutModel",
            "justify_items": null,
            "grid_row": null,
            "max_height": null,
            "align_content": null,
            "visibility": null,
            "align_self": null,
            "height": null,
            "min_height": null,
            "padding": null,
            "grid_auto_rows": null,
            "grid_gap": null,
            "max_width": null,
            "order": null,
            "_view_module_version": "1.2.0",
            "grid_template_areas": null,
            "object_position": null,
            "object_fit": null,
            "grid_auto_columns": null,
            "margin": null,
            "display": null,
            "left": null
          }
        },
        "67b7ccccadf1427a8f71c85bd47fb7ae": {
          "model_module": "@jupyter-widgets/controls",
          "model_name": "DescriptionStyleModel",
          "state": {
            "_view_name": "StyleView",
            "_model_name": "DescriptionStyleModel",
            "description_width": "",
            "_view_module": "@jupyter-widgets/base",
            "_model_module_version": "1.5.0",
            "_view_count": null,
            "_view_module_version": "1.2.0",
            "_model_module": "@jupyter-widgets/controls"
          }
        },
        "9f61580fd44f41949deeaaea9dd805f1": {
          "model_module": "@jupyter-widgets/base",
          "model_name": "LayoutModel",
          "state": {
            "_view_name": "LayoutView",
            "grid_template_rows": null,
            "right": null,
            "justify_content": null,
            "_view_module": "@jupyter-widgets/base",
            "overflow": null,
            "_model_module_version": "1.2.0",
            "_view_count": null,
            "flex_flow": null,
            "width": null,
            "min_width": null,
            "border": null,
            "align_items": null,
            "bottom": null,
            "_model_module": "@jupyter-widgets/base",
            "top": null,
            "grid_column": null,
            "overflow_y": null,
            "overflow_x": null,
            "grid_auto_flow": null,
            "grid_area": null,
            "grid_template_columns": null,
            "flex": null,
            "_model_name": "LayoutModel",
            "justify_items": null,
            "grid_row": null,
            "max_height": null,
            "align_content": null,
            "visibility": null,
            "align_self": null,
            "height": null,
            "min_height": null,
            "padding": null,
            "grid_auto_rows": null,
            "grid_gap": null,
            "max_width": null,
            "order": null,
            "_view_module_version": "1.2.0",
            "grid_template_areas": null,
            "object_position": null,
            "object_fit": null,
            "grid_auto_columns": null,
            "margin": null,
            "display": null,
            "left": null
          }
        },
        "b6b1a6c80e274b919b72025683b60402": {
          "model_module": "@jupyter-widgets/controls",
          "model_name": "HBoxModel",
          "state": {
            "_view_name": "HBoxView",
            "_dom_classes": [],
            "_model_name": "HBoxModel",
            "_view_module": "@jupyter-widgets/controls",
            "_model_module_version": "1.5.0",
            "_view_count": null,
            "_view_module_version": "1.5.0",
            "box_style": "",
            "layout": "IPY_MODEL_f4fec35865034eab9eafd160dab6bbbe",
            "_model_module": "@jupyter-widgets/controls",
            "children": [
              "IPY_MODEL_0eba3167b6e546afaff16c2a7fd94bae",
              "IPY_MODEL_6c529a566be14d51a81d5b717ff8193b"
            ]
          }
        },
        "f4fec35865034eab9eafd160dab6bbbe": {
          "model_module": "@jupyter-widgets/base",
          "model_name": "LayoutModel",
          "state": {
            "_view_name": "LayoutView",
            "grid_template_rows": null,
            "right": null,
            "justify_content": null,
            "_view_module": "@jupyter-widgets/base",
            "overflow": null,
            "_model_module_version": "1.2.0",
            "_view_count": null,
            "flex_flow": null,
            "width": null,
            "min_width": null,
            "border": null,
            "align_items": null,
            "bottom": null,
            "_model_module": "@jupyter-widgets/base",
            "top": null,
            "grid_column": null,
            "overflow_y": null,
            "overflow_x": null,
            "grid_auto_flow": null,
            "grid_area": null,
            "grid_template_columns": null,
            "flex": null,
            "_model_name": "LayoutModel",
            "justify_items": null,
            "grid_row": null,
            "max_height": null,
            "align_content": null,
            "visibility": null,
            "align_self": null,
            "height": null,
            "min_height": null,
            "padding": null,
            "grid_auto_rows": null,
            "grid_gap": null,
            "max_width": null,
            "order": null,
            "_view_module_version": "1.2.0",
            "grid_template_areas": null,
            "object_position": null,
            "object_fit": null,
            "grid_auto_columns": null,
            "margin": null,
            "display": null,
            "left": null
          }
        },
        "0eba3167b6e546afaff16c2a7fd94bae": {
          "model_module": "@jupyter-widgets/controls",
          "model_name": "FloatProgressModel",
          "state": {
            "_view_name": "ProgressView",
            "style": "IPY_MODEL_67961468aaaa46d8a00486b1617e9185",
            "_dom_classes": [],
            "description": "  0%",
            "_model_name": "FloatProgressModel",
            "bar_style": "info",
            "max": 1,
            "_view_module": "@jupyter-widgets/controls",
            "_model_module_version": "1.5.0",
            "value": 0,
            "_view_count": null,
            "_view_module_version": "1.5.0",
            "orientation": "horizontal",
            "min": 0,
            "description_tooltip": null,
            "_model_module": "@jupyter-widgets/controls",
            "layout": "IPY_MODEL_ab4473514d6446598940f23190ade540"
          }
        },
        "6c529a566be14d51a81d5b717ff8193b": {
          "model_module": "@jupyter-widgets/controls",
          "model_name": "HTMLModel",
          "state": {
            "_view_name": "HTMLView",
            "style": "IPY_MODEL_60828270f1814b509c9a7cdef60f72a8",
            "_dom_classes": [],
            "description": "",
            "_model_name": "HTMLModel",
            "placeholder": "​",
            "_view_module": "@jupyter-widgets/controls",
            "_model_module_version": "1.5.0",
            "value": " 0/5148 [00:00&lt;?, ?it/s]",
            "_view_count": null,
            "_view_module_version": "1.5.0",
            "description_tooltip": null,
            "_model_module": "@jupyter-widgets/controls",
            "layout": "IPY_MODEL_f487ec3f89224946861580aa5580f0d1"
          }
        },
        "67961468aaaa46d8a00486b1617e9185": {
          "model_module": "@jupyter-widgets/controls",
          "model_name": "ProgressStyleModel",
          "state": {
            "_view_name": "StyleView",
            "_model_name": "ProgressStyleModel",
            "description_width": "initial",
            "_view_module": "@jupyter-widgets/base",
            "_model_module_version": "1.5.0",
            "_view_count": null,
            "_view_module_version": "1.2.0",
            "bar_color": null,
            "_model_module": "@jupyter-widgets/controls"
          }
        },
        "ab4473514d6446598940f23190ade540": {
          "model_module": "@jupyter-widgets/base",
          "model_name": "LayoutModel",
          "state": {
            "_view_name": "LayoutView",
            "grid_template_rows": null,
            "right": null,
            "justify_content": null,
            "_view_module": "@jupyter-widgets/base",
            "overflow": null,
            "_model_module_version": "1.2.0",
            "_view_count": null,
            "flex_flow": null,
            "width": null,
            "min_width": null,
            "border": null,
            "align_items": null,
            "bottom": null,
            "_model_module": "@jupyter-widgets/base",
            "top": null,
            "grid_column": null,
            "overflow_y": null,
            "overflow_x": null,
            "grid_auto_flow": null,
            "grid_area": null,
            "grid_template_columns": null,
            "flex": null,
            "_model_name": "LayoutModel",
            "justify_items": null,
            "grid_row": null,
            "max_height": null,
            "align_content": null,
            "visibility": null,
            "align_self": null,
            "height": null,
            "min_height": null,
            "padding": null,
            "grid_auto_rows": null,
            "grid_gap": null,
            "max_width": null,
            "order": null,
            "_view_module_version": "1.2.0",
            "grid_template_areas": null,
            "object_position": null,
            "object_fit": null,
            "grid_auto_columns": null,
            "margin": null,
            "display": null,
            "left": null
          }
        },
        "60828270f1814b509c9a7cdef60f72a8": {
          "model_module": "@jupyter-widgets/controls",
          "model_name": "DescriptionStyleModel",
          "state": {
            "_view_name": "StyleView",
            "_model_name": "DescriptionStyleModel",
            "description_width": "",
            "_view_module": "@jupyter-widgets/base",
            "_model_module_version": "1.5.0",
            "_view_count": null,
            "_view_module_version": "1.2.0",
            "_model_module": "@jupyter-widgets/controls"
          }
        },
        "f487ec3f89224946861580aa5580f0d1": {
          "model_module": "@jupyter-widgets/base",
          "model_name": "LayoutModel",
          "state": {
            "_view_name": "LayoutView",
            "grid_template_rows": null,
            "right": null,
            "justify_content": null,
            "_view_module": "@jupyter-widgets/base",
            "overflow": null,
            "_model_module_version": "1.2.0",
            "_view_count": null,
            "flex_flow": null,
            "width": null,
            "min_width": null,
            "border": null,
            "align_items": null,
            "bottom": null,
            "_model_module": "@jupyter-widgets/base",
            "top": null,
            "grid_column": null,
            "overflow_y": null,
            "overflow_x": null,
            "grid_auto_flow": null,
            "grid_area": null,
            "grid_template_columns": null,
            "flex": null,
            "_model_name": "LayoutModel",
            "justify_items": null,
            "grid_row": null,
            "max_height": null,
            "align_content": null,
            "visibility": null,
            "align_self": null,
            "height": null,
            "min_height": null,
            "padding": null,
            "grid_auto_rows": null,
            "grid_gap": null,
            "max_width": null,
            "order": null,
            "_view_module_version": "1.2.0",
            "grid_template_areas": null,
            "object_position": null,
            "object_fit": null,
            "grid_auto_columns": null,
            "margin": null,
            "display": null,
            "left": null
          }
        }
      }
    }
  },
  "cells": [
    {
      "cell_type": "markdown",
      "metadata": {
        "id": "view-in-github",
        "colab_type": "text"
      },
      "source": [
        "<a href=\"https://colab.research.google.com/github/vtecftwy/fastbook/blob/master/wip%2520nbs/04_mnist_fashion_dataset.ipynb\" target=\"_parent\"><img src=\"https://colab.research.google.com/assets/colab-badge.svg\" alt=\"Open In Colab\"/></a>"
      ]
    },
    {
      "cell_type": "markdown",
      "metadata": {
        "id": "8czcNhgvDEwg"
      },
      "source": [
        "# Fashion MNIST Full Dataset\n",
        "Model to classify Fashion MNIST"
      ]
    },
    {
      "cell_type": "code",
      "metadata": {
        "id": "4cvsxjI79goj",
        "colab": {
          "base_uri": "https://localhost:8080/"
        },
        "outputId": "961ebec9-ac6a-40e3-8241-3c392b136e77"
      },
      "source": [
        "!pip install -Uqq fastbook\n",
        "import fastbook\n",
        "fastbook.setup_book()"
      ],
      "execution_count": null,
      "outputs": [
        {
          "output_type": "stream",
          "text": [
            "\u001b[K     |████████████████████████████████| 727kB 7.4MB/s \n",
            "\u001b[K     |████████████████████████████████| 51kB 7.0MB/s \n",
            "\u001b[K     |████████████████████████████████| 194kB 15.2MB/s \n",
            "\u001b[K     |████████████████████████████████| 1.2MB 21.0MB/s \n",
            "\u001b[K     |████████████████████████████████| 51kB 7.9MB/s \n",
            "\u001b[K     |████████████████████████████████| 61kB 9.0MB/s \n",
            "\u001b[K     |████████████████████████████████| 776.8MB 23kB/s \n",
            "\u001b[K     |████████████████████████████████| 12.8MB 248kB/s \n",
            "\u001b[31mERROR: torchtext 0.9.0 has requirement torch==1.8.0, but you'll have torch 1.7.1 which is incompatible.\u001b[0m\n",
            "\u001b[?25hMounted at /content/gdrive\n"
          ],
          "name": "stdout"
        }
      ]
    },
    {
      "cell_type": "code",
      "metadata": {
        "id": "KLNuuB179gou"
      },
      "source": [
        "from fastai.vision.all import *\n",
        "from fastbook import *\n",
        "\n",
        "matplotlib.rc('image', cmap='Greys')"
      ],
      "execution_count": null,
      "outputs": []
    },
    {
      "cell_type": "markdown",
      "metadata": {
        "id": "nqW0q796PeNh"
      },
      "source": [
        "## Load Fashion MNIST data"
      ]
    },
    {
      "cell_type": "markdown",
      "metadata": {
        "id": "d1fBLMF768Qb"
      },
      "source": [
        "Refer to Zolando Research github [repo] (https://github.com/zalandoresearch/fashion-mnist)\n",
        "\n",
        "| Name                       | Content             | Examples | Size       | Link     |\n",
        "|----------------------------|---------------------|----------|------------|----------|\n",
        "| train-images-idx3-ubyte.gz | training set images | 60,000   | 26 MBytes  | [Download](http://fashion-mnist.s3-website.eu-central-1.amazonaws.com/train-images-idx3-ubyte.gz) |\n",
        "| train-labels-idx1-ubyte.gz | training set labels | 60,000   | 29 KBytes  | [Download](http://fashion-mnist.s3-website.eu-central-1.amazonaws.com/train-labels-idx1-ubyte.gz)\n",
        "| t10k-images-idx3-ubyte.gz  | test set images     | 10,000   | 4.3 MBytes | [Download](http://fashion-mnist.s3-website.eu-central-1.amazonaws.com/t10k-images-idx3-ubyte.gz)\n",
        "| t10k-labels-idx1-ubyte.gz  | test set labels     | 10,000   | 5.1 KBytes | [Download](http://fashion-mnist.s3-website.eu-central-1.amazonaws.com/t10k-labels-idx1-ubyte.gz)\n",
        "\n",
        "\n",
        "Label descriptions:\n",
        "\n",
        "| Label | Description |\n",
        "|-------|-------------|\n",
        "| 0     | T-shirt/top |\n",
        "| 1     | Trouser     |\n",
        "| 2     | Pullover    |\n",
        "| 3     | Dress       |\n",
        "| 4     | Coat        |\n",
        "| 5     | Sandal      |\n",
        "| 6     | Shirt       |\n",
        "| 7     | Sneaker     |\n",
        "| 8     | Bag         |\n",
        "| 9     | Ankle boot  |"
      ]
    },
    {
      "cell_type": "markdown",
      "metadata": {
        "id": "gVM4EYaEPltI"
      },
      "source": [
        "### Download from repo and handle manually\n",
        "\n",
        "Fastai utility functions to handle external data: [reference](https://docs.fast.ai/data.external.html)\n",
        "- `download_url(url, dest, overwrite=False, pbar=None, show_progress=True, chunk_size=1048576, timeout=4, retries=5)`\n",
        "- `file_extract(fname, dest=None)`\n",
        "- `untar_data(url, fname=None, dest=None, c_key='data', force_download=False, extract_func=file_extract, timeout=4)`"
      ]
    },
    {
      "cell_type": "code",
      "metadata": {
        "colab": {
          "base_uri": "https://localhost:8080/"
        },
        "id": "lAv5LJsN8opP",
        "outputId": "2dbe2b7d-fd8d-4334-d7bc-9192763ad340"
      },
      "source": [
        "import os\n",
        "data_dir = Path('/content/fashion-mnist')\n",
        "os.makedirs(data_dir, exist_ok=True)\n",
        "datasets = {'train-images': 'http://fashion-mnist.s3-website.eu-central-1.amazonaws.com/train-images-idx3-ubyte.gz',\n",
        "            'train-labels': 'http://fashion-mnist.s3-website.eu-central-1.amazonaws.com/train-labels-idx1-ubyte.gz',\n",
        "            'test-images': 'http://fashion-mnist.s3-website.eu-central-1.amazonaws.com/t10k-images-idx3-ubyte.gz',\n",
        "            'test-labels': 'http://fashion-mnist.s3-website.eu-central-1.amazonaws.com/t10k-labels-idx1-ubyte.gz'\n",
        "            }\n",
        "\n",
        "for ds_name, link in datasets.items():\n",
        "    destination_file = data_dir / f\"{ds_name}.gz\"\n",
        "    download_url(url=link, dest=destination_file)\n",
        "\n",
        "data_dir.ls()"
      ],
      "execution_count": null,
      "outputs": [
        {
          "output_type": "execute_result",
          "data": {
            "text/plain": [
              "(#4) [Path('/content/fashion-mnist/test-labels.gz'),Path('/content/fashion-mnist/train-labels.gz'),Path('/content/fashion-mnist/test-images.gz'),Path('/content/fashion-mnist/train-images.gz')]"
            ]
          },
          "metadata": {
            "tags": []
          },
          "execution_count": 22
        }
      ]
    },
    {
      "cell_type": "code",
      "metadata": {
        "id": "JZHFqNvYP848"
      },
      "source": [
        "labels2description = {0: 'T-shirt/top',\n",
        "                      1: 'Trouser',\n",
        "                      2: 'Pullover',\n",
        "                      3: 'Dress',\n",
        "                      4: 'Coat',\n",
        "                      5: 'Sandal',\n",
        "                      6: 'Shirt',\n",
        "                      7: 'Sneaker',\n",
        "                      8: 'Bag',\n",
        "                      9:  'Ankle boot'\n",
        "                      }"
      ],
      "execution_count": null,
      "outputs": []
    },
    {
      "cell_type": "code",
      "metadata": {
        "colab": {
          "base_uri": "https://localhost:8080/"
        },
        "id": "gNGq2fN08oma",
        "outputId": "f8ff9a2e-a54e-4e15-ce32-b403b56baecc"
      },
      "source": [
        "import gzip\n",
        "\n",
        "train_test = 'train'\n",
        "# train_test = 'test'\n",
        "rows = 5\n",
        "cols = 5\n",
        "num_images = rows * cols\n",
        "image_size = 28\n",
        "\n",
        "with gzip.open(data_dir/f\"{train_test}-images.gz\", 'r') as f:\n",
        "    top = f.read(16)\n",
        "    buf=f.read(image_size * image_size * num_images)\n",
        "    images = np.frombuffer(buf, dtype=np.uint8).astype(np.float32)\n",
        "    images = images.reshape(num_images, image_size, image_size)\n",
        "\n",
        "with gzip.open(data_dir/f\"{train_test}-labels.gz\",'r') as f:\n",
        "    f.read(8)\n",
        "    buf=f.read(1 * 8 * num_images)\n",
        "    labels = np.frombuffer(buf, dtype=np.uint8).astype(np.float32)\n",
        "\n",
        "\n",
        "fig, axs = plt.subplots(nrows=rows, ncols=cols, figsize=(14, 14))\n",
        "for r in range(rows):\n",
        "    for c in range(cols):\n",
        "        idx = r * cols + c\n",
        "        image = np.asarray(images[idx]).squeeze()\n",
        "        axs[r, c].imshow(image)\n",
        "        axs[r, c].set_title(labels2description[labels[idx]])\n",
        "\n",
        "plt.show()"
      ],
      "execution_count": null,
      "outputs": [
        {
          "output_type": "display_data",
          "data": {
            "image/png": "[encoded data removed]",
            "text/plain": [
              "<Figure size 1008x1008 with 25 Axes>"
            ]
          },
          "metadata": {
            "tags": [],
            "needs_background": "light"
          }
        }
      ]
    },
    {
      "cell_type": "markdown",
      "metadata": {
        "id": "rdYFtTs5P0Y9"
      },
      "source": [
        "### Download using PyTorch datasets"
      ]
    },
    {
      "cell_type": "markdown",
      "metadata": {
        "id": "IG2GIkeMJvrK"
      },
      "source": [
        "PyTorch dataset: [PyTorch reference here](https://pytorch.org/docs/stable/torchvision/datasets.html#torchvision.datasets.FashionMNIST)\n",
        "\n",
        "``` python\n",
        "CLASStorchvision.datasets.FashionMNIST(root: str, \n",
        "                                       train: bool = True, \n",
        "                                       transform: Optional[Callable] = None, \n",
        "                                       target_transform: Optional[Callable] = None, \n",
        "                                       download: bool = False)\n",
        "```\n",
        "\n",
        "Parameters\n",
        "- `root` (string) – Root directory of dataset where `FashionMNIST/processed/training.pt` and `FashionMNIST/processed/test.pt` exist.\n",
        "- `train` (bool, optional) – If True, creates dataset from `training.pt`, otherwise from `test.pt`.\n",
        "- `download` (bool, optional) – If true, downloads the dataset from the internet and puts it in `root` directory. If dataset is already downloaded, it is not downloaded again.\n",
        "- `transform` (callable, optional) – A function/transform that takes in an `PI`L image and returns a transformed version. E.g, `transforms.RandomCrop`\n",
        "- `target_transform` (callable, optional) – A function/transform that takes in the target and transforms it.\n"
      ]
    },
    {
      "cell_type": "code",
      "metadata": {
        "id": "FUTwCyDcTtIl"
      },
      "source": [
        "from torchvision.datasets.mnist import FashionMNIST\n",
        "from torch.utils.data import DataLoader as torch_dl"
      ],
      "execution_count": null,
      "outputs": []
    },
    {
      "cell_type": "code",
      "metadata": {
        "id": "dOf0JhOgTtDR",
        "colab": {
          "base_uri": "https://localhost:8080/",
          "height": 715,
          "referenced_widgets": [
            "83831b7fae5944d39b60230ac69a0611",
            "f2b74ee9438748fd8b932c99127b32cc",
            "3a268ae55f3d4e3cb126e1921d35df60",
            "690c56f14afe489e85ec0474add13aef",
            "2e1c5e0b0c934c2abb5905c562e77378",
            "69729e4a0da141118b2c1ea9c5ceb8b0",
            "afc99680e23c4b328b1f1633c11801ad",
            "f6cf5ce0621847bd886f102e03ba4669",
            "6c671e548f47495db037be65c93e828d",
            "7efb1ef708a64dbd942809ae4fd7edee",
            "475a315981614460919fed8db46d1c75",
            "c1394a0986254c1f85051d436bbf8edc",
            "740210f6f76f4cac85c532e92f6037e1",
            "ed387a6b311f4285870cdd1b84cc409d",
            "93c57c71f2904f6988799827ecd69ca7",
            "e8865d62cea847c9a6621c359f370a1d",
            "d6e6ca199bd443cb98278a5350b0ddf3",
            "641b481b5ff743db92473e360dc7ee06",
            "f822fc354927422a88b7ce8085049c3e",
            "8979fe29d38e42d496b310bde68b3fe3",
            "efe5c02d86134abf9e13d3df5920df41",
            "2f1944dd1c6743b7a52503ef6184af75",
            "040831f5e1b6432c9b66d9dc065142b4",
            "474b508cae5941359b1f3ea4f3cf9a7d",
            "af480e711ff4483b8f11089bfeb18fd2",
            "90c26711f48b4d02a69a3abc6ea47752",
            "0447226f2c3441059867685c986cccb8",
            "ce3b22a26f4d48faac231d82b7f395f3",
            "812ca9b01cc744f79bf9c35d73208fbf",
            "b49224eb8f15489eb2f540a96e78474e",
            "c279fb25e99440749f42aade8dcdb426",
            "a37ebab9ee594672957d4fccb55bb96d",
            "fd676cf0b9ff4c1aa1226c7c9dbc7ae7",
            "69304f4f6b3944d0b8d5a9f1c25c70e6",
            "c4aedc1570fd4dbf83bcddc44d9b3985",
            "950900636bb54a89be701ce9f9ffcb1a",
            "4bc85e84133e4ac888582d6b48fcdc49",
            "290d62e9d2b943a8a7995934547e644e",
            "b0e90d16e2294b2fa9deac2b5347f837",
            "d93670eb3bbf41ed8911d5e8303b6562",
            "19cf536b75914fb4b82892cb1a005e8c",
            "28b0f5158ff44e7298866218de8bd96a",
            "286f7cbdac834096b30d7a9fcaa02732",
            "9bf3255a7cb44baf92d1095bd0251599",
            "05e29d23d54b4320b35800011e17eec5",
            "d7c7032629804571ad9c73ed95b59dd0",
            "d2bab962cd394b15b730d5055d3f8425",
            "c5d64087ffad4cb4bf9cbb9c5723ca02",
            "4a4218d7c97a41aab774752c8945adab",
            "8cba6ff995b1460eb9e20a2c94b9eaf8",
            "ede0c05fb5e649ec97791ac7ac8a5d9e",
            "999839b2a1ee4e1886e89d8096ee84ec",
            "c6366901dbd44eabae4f81249d244881",
            "868b13e52aa642a6808d69ef2a7b66f2",
            "67b7ccccadf1427a8f71c85bd47fb7ae",
            "9f61580fd44f41949deeaaea9dd805f1",
            "b6b1a6c80e274b919b72025683b60402",
            "f4fec35865034eab9eafd160dab6bbbe",
            "0eba3167b6e546afaff16c2a7fd94bae",
            "6c529a566be14d51a81d5b717ff8193b",
            "67961468aaaa46d8a00486b1617e9185",
            "ab4473514d6446598940f23190ade540",
            "60828270f1814b509c9a7cdef60f72a8",
            "f487ec3f89224946861580aa5580f0d1"
          ]
        },
        "outputId": "e848932b-be62-4a87-c2e7-d9176538e049"
      },
      "source": [
        "path2train = Path('/root/.fastai/data/FashionMNIST/train')\n",
        "path2test = Path('/root/.fastai/data/FashionMNIST/test')\n",
        "fashion_train = FashionMNIST(root=path2train, train=True, download=True)\n",
        "fashion_test =  FashionMNIST(root=path2test, train=False, download=True)"
      ],
      "execution_count": null,
      "outputs": [
        {
          "output_type": "stream",
          "text": [
            "Downloading http://fashion-mnist.s3-website.eu-central-1.amazonaws.com/train-images-idx3-ubyte.gz to /root/.fastai/data/FashionMNIST/train/FashionMNIST/raw/train-images-idx3-ubyte.gz\n"
          ],
          "name": "stdout"
        },
        {
          "output_type": "display_data",
          "data": {
            "application/vnd.jupyter.widget-view+json": {
              "model_id": "83831b7fae5944d39b60230ac69a0611",
              "version_minor": 0,
              "version_major": 2
            },
            "text/plain": [
              "HBox(children=(FloatProgress(value=1.0, bar_style='info', max=1.0), HTML(value='')))"
            ]
          },
          "metadata": {
            "tags": []
          }
        },
        {
          "output_type": "stream",
          "text": [
            "Extracting /root/.fastai/data/FashionMNIST/train/FashionMNIST/raw/train-images-idx3-ubyte.gz to /root/.fastai/data/FashionMNIST/train/FashionMNIST/raw\n",
            "Downloading http://fashion-mnist.s3-website.eu-central-1.amazonaws.com/train-labels-idx1-ubyte.gz to /root/.fastai/data/FashionMNIST/train/FashionMNIST/raw/train-labels-idx1-ubyte.gz\n"
          ],
          "name": "stdout"
        },
        {
          "output_type": "display_data",
          "data": {
            "application/vnd.jupyter.widget-view+json": {
              "model_id": "6c671e548f47495db037be65c93e828d",
              "version_minor": 0,
              "version_major": 2
            },
            "text/plain": [
              "HBox(children=(FloatProgress(value=1.0, bar_style='info', max=1.0), HTML(value='')))"
            ]
          },
          "metadata": {
            "tags": []
          }
        },
        {
          "output_type": "stream",
          "text": [
            "Extracting /root/.fastai/data/FashionMNIST/train/FashionMNIST/raw/train-labels-idx1-ubyte.gz to /root/.fastai/data/FashionMNIST/train/FashionMNIST/raw\n",
            "Downloading http://fashion-mnist.s3-website.eu-central-1.amazonaws.com/t10k-images-idx3-ubyte.gz to /root/.fastai/data/FashionMNIST/train/FashionMNIST/raw/t10k-images-idx3-ubyte.gz\n"
          ],
          "name": "stdout"
        },
        {
          "output_type": "display_data",
          "data": {
            "application/vnd.jupyter.widget-view+json": {
              "model_id": "d6e6ca199bd443cb98278a5350b0ddf3",
              "version_minor": 0,
              "version_major": 2
            },
            "text/plain": [
              "HBox(children=(FloatProgress(value=1.0, bar_style='info', max=1.0), HTML(value='')))"
            ]
          },
          "metadata": {
            "tags": []
          }
        },
        {
          "output_type": "stream",
          "text": [
            "Extracting /root/.fastai/data/FashionMNIST/train/FashionMNIST/raw/t10k-images-idx3-ubyte.gz to /root/.fastai/data/FashionMNIST/train/FashionMNIST/raw\n",
            "Downloading http://fashion-mnist.s3-website.eu-central-1.amazonaws.com/t10k-labels-idx1-ubyte.gz to /root/.fastai/data/FashionMNIST/train/FashionMNIST/raw/t10k-labels-idx1-ubyte.gz\n"
          ],
          "name": "stdout"
        },
        {
          "output_type": "display_data",
          "data": {
            "application/vnd.jupyter.widget-view+json": {
              "model_id": "af480e711ff4483b8f11089bfeb18fd2",
              "version_minor": 0,
              "version_major": 2
            },
            "text/plain": [
              "HBox(children=(FloatProgress(value=1.0, bar_style='info', max=1.0), HTML(value='')))"
            ]
          },
          "metadata": {
            "tags": []
          }
        },
        {
          "output_type": "stream",
          "text": [
            "Extracting /root/.fastai/data/FashionMNIST/train/FashionMNIST/raw/t10k-labels-idx1-ubyte.gz to /root/.fastai/data/FashionMNIST/train/FashionMNIST/raw\n",
            "Processing...\n",
            "Done!\n",
            "Downloading http://fashion-mnist.s3-website.eu-central-1.amazonaws.com/train-images-idx3-ubyte.gz to /root/.fastai/data/FashionMNIST/test/FashionMNIST/raw/train-images-idx3-ubyte.gz\n"
          ],
          "name": "stdout"
        },
        {
          "output_type": "stream",
          "text": [
            "/usr/local/lib/python3.7/dist-packages/torchvision/datasets/mnist.py:480: UserWarning: The given NumPy array is not writeable, and PyTorch does not support non-writeable tensors. This means you can write to the underlying (supposedly non-writeable) NumPy array using the tensor. You may want to copy the array to protect its data or make it writeable before converting it to a tensor. This type of warning will be suppressed for the rest of this program. (Triggered internally at  /pytorch/torch/csrc/utils/tensor_numpy.cpp:141.)\n",
            "  return torch.from_numpy(parsed.astype(m[2], copy=False)).view(*s)\n"
          ],
          "name": "stderr"
        },
        {
          "output_type": "display_data",
          "data": {
            "application/vnd.jupyter.widget-view+json": {
              "model_id": "fd676cf0b9ff4c1aa1226c7c9dbc7ae7",
              "version_minor": 0,
              "version_major": 2
            },
            "text/plain": [
              "HBox(children=(FloatProgress(value=1.0, bar_style='info', max=1.0), HTML(value='')))"
            ]
          },
          "metadata": {
            "tags": []
          }
        },
        {
          "output_type": "stream",
          "text": [
            "\n",
            "\n",
            "Extracting /root/.fastai/data/FashionMNIST/test/FashionMNIST/raw/train-images-idx3-ubyte.gz to /root/.fastai/data/FashionMNIST/test/FashionMNIST/raw\n",
            "Downloading http://fashion-mnist.s3-website.eu-central-1.amazonaws.com/train-labels-idx1-ubyte.gz to /root/.fastai/data/FashionMNIST/test/FashionMNIST/raw/train-labels-idx1-ubyte.gz\n"
          ],
          "name": "stdout"
        },
        {
          "output_type": "display_data",
          "data": {
            "application/vnd.jupyter.widget-view+json": {
              "model_id": "19cf536b75914fb4b82892cb1a005e8c",
              "version_minor": 0,
              "version_major": 2
            },
            "text/plain": [
              "HBox(children=(FloatProgress(value=1.0, bar_style='info', max=1.0), HTML(value='')))"
            ]
          },
          "metadata": {
            "tags": []
          }
        },
        {
          "output_type": "stream",
          "text": [
            "Extracting /root/.fastai/data/FashionMNIST/test/FashionMNIST/raw/train-labels-idx1-ubyte.gz to /root/.fastai/data/FashionMNIST/test/FashionMNIST/raw\n",
            "Downloading http://fashion-mnist.s3-website.eu-central-1.amazonaws.com/t10k-images-idx3-ubyte.gz to /root/.fastai/data/FashionMNIST/test/FashionMNIST/raw/t10k-images-idx3-ubyte.gz\n"
          ],
          "name": "stdout"
        },
        {
          "output_type": "display_data",
          "data": {
            "application/vnd.jupyter.widget-view+json": {
              "model_id": "4a4218d7c97a41aab774752c8945adab",
              "version_minor": 0,
              "version_major": 2
            },
            "text/plain": [
              "HBox(children=(FloatProgress(value=1.0, bar_style='info', max=1.0), HTML(value='')))"
            ]
          },
          "metadata": {
            "tags": []
          }
        },
        {
          "output_type": "stream",
          "text": [
            "Extracting /root/.fastai/data/FashionMNIST/test/FashionMNIST/raw/t10k-images-idx3-ubyte.gz to /root/.fastai/data/FashionMNIST/test/FashionMNIST/raw\n",
            "Downloading http://fashion-mnist.s3-website.eu-central-1.amazonaws.com/t10k-labels-idx1-ubyte.gz to /root/.fastai/data/FashionMNIST/test/FashionMNIST/raw/t10k-labels-idx1-ubyte.gz\n"
          ],
          "name": "stdout"
        },
        {
          "output_type": "display_data",
          "data": {
            "application/vnd.jupyter.widget-view+json": {
              "model_id": "b6b1a6c80e274b919b72025683b60402",
              "version_minor": 0,
              "version_major": 2
            },
            "text/plain": [
              "HBox(children=(FloatProgress(value=1.0, bar_style='info', max=1.0), HTML(value='')))"
            ]
          },
          "metadata": {
            "tags": []
          }
        },
        {
          "output_type": "stream",
          "text": [
            "Extracting /root/.fastai/data/FashionMNIST/test/FashionMNIST/raw/t10k-labels-idx1-ubyte.gz to /root/.fastai/data/FashionMNIST/test/FashionMNIST/raw\n",
            "Processing...\n",
            "Done!\n"
          ],
          "name": "stdout"
        }
      ]
    },
    {
      "cell_type": "code",
      "metadata": {
        "colab": {
          "base_uri": "https://localhost:8080/",
          "height": 158
        },
        "id": "3Wqb0cWTMixF",
        "outputId": "d2741ee9-94f3-489c-f60e-3a2bed38695a"
      },
      "source": [
        "display(fashion_train)\n",
        "display(fashion_test)"
      ],
      "execution_count": null,
      "outputs": [
        {
          "output_type": "display_data",
          "data": {
            "text/plain": [
              "Dataset FashionMNIST\n",
              "    Number of datapoints: 60000\n",
              "    Root location: /root/.fastai/data/FashionMNIST/train\n",
              "    Split: Train"
            ]
          },
          "metadata": {
            "tags": []
          }
        },
        {
          "output_type": "display_data",
          "data": {
            "text/plain": [
              "Dataset FashionMNIST\n",
              "    Number of datapoints: 10000\n",
              "    Root location: /root/.fastai/data/FashionMNIST/test\n",
              "    Split: Test"
            ]
          },
          "metadata": {
            "tags": []
          }
        }
      ]
    },
    {
      "cell_type": "code",
      "metadata": {
        "id": "IwKi8O061tdV"
      },
      "source": [
        "# path = Path(fashion_train.root) / 'FashionMNIST'\n",
        "# Path.BASE_PATH = Path('/root/.fastai/data/FashionMNIST')"
      ],
      "execution_count": null,
      "outputs": []
    },
    {
      "cell_type": "code",
      "metadata": {
        "id": "7mkgNTWYTtAe"
      },
      "source": [
        "# path2train.ls(), path.ls(), (path/'raw').ls(), (path/'processed').ls()"
      ],
      "execution_count": null,
      "outputs": []
    },
    {
      "cell_type": "markdown",
      "metadata": {
        "id": "W9mM07XQGX4C"
      },
      "source": [
        "###  Explore the dataset"
      ]
    },
    {
      "cell_type": "code",
      "metadata": {
        "id": "98LHxSmUZZer",
        "colab": {
          "base_uri": "https://localhost:8080/",
          "height": 369
        },
        "outputId": "5e8a1db4-7609-4a57-aa6c-a2cc4f172524"
      },
      "source": [
        "train_images = fashion_train.data\n",
        "train_labels = fashion_train.targets\n",
        "\n",
        "test_images = fashion_test.data\n",
        "test_labels = fashion_test.targets\n",
        "\n",
        "display(fashion_train.classes)\n",
        "display(fashion_train.class_to_idx)"
      ],
      "execution_count": null,
      "outputs": [
        {
          "output_type": "display_data",
          "data": {
            "text/plain": [
              "['T-shirt/top',\n",
              " 'Trouser',\n",
              " 'Pullover',\n",
              " 'Dress',\n",
              " 'Coat',\n",
              " 'Sandal',\n",
              " 'Shirt',\n",
              " 'Sneaker',\n",
              " 'Bag',\n",
              " 'Ankle boot']"
            ]
          },
          "metadata": {
            "tags": []
          }
        },
        {
          "output_type": "display_data",
          "data": {
            "text/plain": [
              "{'Ankle boot': 9,\n",
              " 'Bag': 8,\n",
              " 'Coat': 4,\n",
              " 'Dress': 3,\n",
              " 'Pullover': 2,\n",
              " 'Sandal': 5,\n",
              " 'Shirt': 6,\n",
              " 'Sneaker': 7,\n",
              " 'T-shirt/top': 0,\n",
              " 'Trouser': 1}"
            ]
          },
          "metadata": {
            "tags": []
          }
        }
      ]
    },
    {
      "cell_type": "code",
      "metadata": {
        "colab": {
          "base_uri": "https://localhost:8080/"
        },
        "id": "pll1mGiJNcPJ",
        "outputId": "66b2432c-a03a-4d07-870a-f052a88a6eb9"
      },
      "source": [
        "train_images.shape, train_labels.shape, len(fashion_train.classes)"
      ],
      "execution_count": null,
      "outputs": [
        {
          "output_type": "execute_result",
          "data": {
            "text/plain": [
              "(torch.Size([60000, 28, 28]), torch.Size([60000]), 10)"
            ]
          },
          "metadata": {
            "tags": []
          },
          "execution_count": 7
        }
      ]
    },
    {
      "cell_type": "code",
      "metadata": {
        "id": "Lp0wjhLEZZbj",
        "colab": {
          "base_uri": "https://localhost:8080/",
          "height": 825
        },
        "outputId": "56f3551d-9041-441d-a57e-c260fe797089"
      },
      "source": [
        "train_set = True\n",
        "rows = 6\n",
        "cols = 6\n",
        "num_images = rows * cols\n",
        "\n",
        "images = train_images if train_set else test_images\n",
        "labels = train_labels if train_set else test_labels\n",
        "\n",
        "fig, axs = plt.subplots(nrows=rows, ncols=cols, figsize=(14, 14))\n",
        "for r in range(rows):\n",
        "    for c in range(cols):\n",
        "        idx = r * cols + c\n",
        "        image = np.asarray(images[idx]).squeeze()\n",
        "        axs[r, c].imshow(image)\n",
        "        axs[r, c].set_title((fashion_train.classes[int(labels[idx])]))\n",
        "\n",
        "plt.show()"
      ],
      "execution_count": null,
      "outputs": [
        {
          "output_type": "display_data",
          "data": {
            "image/png": "[encoded data removed]",
            "text/plain": [
              "<Figure size 1008x1008 with 36 Axes>"
            ]
          },
          "metadata": {
            "tags": [],
            "needs_background": "light"
          }
        }
      ]
    },
    {
      "cell_type": "code",
      "metadata": {
        "colab": {
          "base_uri": "https://localhost:8080/",
          "height": 778
        },
        "id": "Ji1edamzAuev",
        "outputId": "6cdba002-5430-4dd7-ae89-eceb1d0e4964"
      },
      "source": [
        "img_tnsr = fashion_train.data[0]\n",
        "plt.imshow(img_tnsr)\n",
        "plt.show()\n",
        "display(img_tnsr)"
      ],
      "execution_count": null,
      "outputs": [
        {
          "output_type": "display_data",
          "data": {
            "image/png": "[encoded data removed]",
            "text/plain": [
              "<Figure size 432x288 with 1 Axes>"
            ]
          },
          "metadata": {
            "tags": [],
            "needs_background": "light"
          }
        },
        {
          "output_type": "display_data",
          "data": {
            "text/plain": [
              "tensor([[  0,   0,   0,   0,   0,   0,   0,   0,   0,   0,   0,   0,   0,   0,   0,   0,   0,   0,   0,   0,   0,   0,   0,   0,   0,   0,   0,   0],\n",
              "        [  0,   0,   0,   0,   0,   0,   0,   0,   0,   0,   0,   0,   0,   0,   0,   0,   0,   0,   0,   0,   0,   0,   0,   0,   0,   0,   0,   0],\n",
              "        [  0,   0,   0,   0,   0,   0,   0,   0,   0,   0,   0,   0,   0,   0,   0,   0,   0,   0,   0,   0,   0,   0,   0,   0,   0,   0,   0,   0],\n",
              "        [  0,   0,   0,   0,   0,   0,   0,   0,   0,   0,   0,   0,   1,   0,   0,  13,  73,   0,   0,   1,   4,   0,   0,   0,   0,   1,   1,   0],\n",
              "        [  0,   0,   0,   0,   0,   0,   0,   0,   0,   0,   0,   0,   3,   0,  36, 136, 127,  62,  54,   0,   0,   0,   1,   3,   4,   0,   0,   3],\n",
              "        [  0,   0,   0,   0,   0,   0,   0,   0,   0,   0,   0,   0,   6,   0, 102, 204, 176, 134, 144, 123,  23,   0,   0,   0,   0,  12,  10,   0],\n",
              "        [  0,   0,   0,   0,   0,   0,   0,   0,   0,   0,   0,   0,   0,   0, 155, 236, 207, 178, 107, 156, 161, 109,  64,  23,  77, 130,  72,  15],\n",
              "        [  0,   0,   0,   0,   0,   0,   0,   0,   0,   0,   0,   1,   0,  69, 207, 223, 218, 216, 216, 163, 127, 121, 122, 146, 141,  88, 172,  66],\n",
              "        [  0,   0,   0,   0,   0,   0,   0,   0,   0,   1,   1,   1,   0, 200, 232, 232, 233, 229, 223, 223, 215, 213, 164, 127, 123, 196, 229,   0],\n",
              "        [  0,   0,   0,   0,   0,   0,   0,   0,   0,   0,   0,   0,   0, 183, 225, 216, 223, 228, 235, 227, 224, 222, 224, 221, 223, 245, 173,   0],\n",
              "        [  0,   0,   0,   0,   0,   0,   0,   0,   0,   0,   0,   0,   0, 193, 228, 218, 213, 198, 180, 212, 210, 211, 213, 223, 220, 243, 202,   0],\n",
              "        [  0,   0,   0,   0,   0,   0,   0,   0,   0,   1,   3,   0,  12, 219, 220, 212, 218, 192, 169, 227, 208, 218, 224, 212, 226, 197, 209,  52],\n",
              "        [  0,   0,   0,   0,   0,   0,   0,   0,   0,   0,   6,   0,  99, 244, 222, 220, 218, 203, 198, 221, 215, 213, 222, 220, 245, 119, 167,  56],\n",
              "        [  0,   0,   0,   0,   0,   0,   0,   0,   0,   4,   0,   0,  55, 236, 228, 230, 228, 240, 232, 213, 218, 223, 234, 217, 217, 209,  92,   0],\n",
              "        [  0,   0,   1,   4,   6,   7,   2,   0,   0,   0,   0,   0, 237, 226, 217, 223, 222, 219, 222, 221, 216, 223, 229, 215, 218, 255,  77,   0],\n",
              "        [  0,   3,   0,   0,   0,   0,   0,   0,   0,  62, 145, 204, 228, 207, 213, 221, 218, 208, 211, 218, 224, 223, 219, 215, 224, 244, 159,   0],\n",
              "        [  0,   0,   0,   0,  18,  44,  82, 107, 189, 228, 220, 222, 217, 226, 200, 205, 211, 230, 224, 234, 176, 188, 250, 248, 233, 238, 215,   0],\n",
              "        [  0,  57, 187, 208, 224, 221, 224, 208, 204, 214, 208, 209, 200, 159, 245, 193, 206, 223, 255, 255, 221, 234, 221, 211, 220, 232, 246,   0],\n",
              "        [  3, 202, 228, 224, 221, 211, 211, 214, 205, 205, 205, 220, 240,  80, 150, 255, 229, 221, 188, 154, 191, 210, 204, 209, 222, 228, 225,   0],\n",
              "        [ 98, 233, 198, 210, 222, 229, 229, 234, 249, 220, 194, 215, 217, 241,  65,  73, 106, 117, 168, 219, 221, 215, 217, 223, 223, 224, 229,  29],\n",
              "        [ 75, 204, 212, 204, 193, 205, 211, 225, 216, 185, 197, 206, 198, 213, 240, 195, 227, 245, 239, 223, 218, 212, 209, 222, 220, 221, 230,  67],\n",
              "        [ 48, 203, 183, 194, 213, 197, 185, 190, 194, 192, 202, 214, 219, 221, 220, 236, 225, 216, 199, 206, 186, 181, 177, 172, 181, 205, 206, 115],\n",
              "        [  0, 122, 219, 193, 179, 171, 183, 196, 204, 210, 213, 207, 211, 210, 200, 196, 194, 191, 195, 191, 198, 192, 176, 156, 167, 177, 210,  92],\n",
              "        [  0,   0,  74, 189, 212, 191, 175, 172, 175, 181, 185, 188, 189, 188, 193, 198, 204, 209, 210, 210, 211, 188, 188, 194, 192, 216, 170,   0],\n",
              "        [  2,   0,   0,   0,  66, 200, 222, 237, 239, 242, 246, 243, 244, 221, 220, 193, 191, 179, 182, 182, 181, 176, 166, 168,  99,  58,   0,   0],\n",
              "        [  0,   0,   0,   0,   0,   0,   0,  40,  61,  44,  72,  41,  35,   0,   0,   0,   0,   0,   0,   0,   0,   0,   0,   0,   0,   0,   0,   0],\n",
              "        [  0,   0,   0,   0,   0,   0,   0,   0,   0,   0,   0,   0,   0,   0,   0,   0,   0,   0,   0,   0,   0,   0,   0,   0,   0,   0,   0,   0],\n",
              "        [  0,   0,   0,   0,   0,   0,   0,   0,   0,   0,   0,   0,   0,   0,   0,   0,   0,   0,   0,   0,   0,   0,   0,   0,   0,   0,   0,   0]], dtype=torch.uint8)"
            ]
          },
          "metadata": {
            "tags": []
          }
        }
      ]
    },
    {
      "cell_type": "markdown",
      "metadata": {
        "id": "3OZrH1KwHsiD"
      },
      "source": [
        "## Create dataset for fastai DataLoader"
      ]
    },
    {
      "cell_type": "markdown",
      "metadata": {
        "id": "rqNJTfWHIOx8"
      },
      "source": [
        "#### Review tensor formats for image in fastai"
      ]
    },
    {
      "cell_type": "markdown",
      "metadata": {
        "id": "HDVG9lM3IOx9"
      },
      "source": [
        "##### Color Images"
      ]
    },
    {
      "cell_type": "markdown",
      "metadata": {
        "id": "nBENPCJdIif_"
      },
      "source": [
        "1. Load PETS image datasets \n",
        "2. Create a `DataLoaders` using simple factory method with `bs=64` and `Resize(28) to get comparable format as MNIST\n",
        "2. Extract one batch and review images tensor format"
      ]
    },
    {
      "cell_type": "code",
      "metadata": {
        "id": "N5JSiVs1IOx9"
      },
      "source": [
        "path_cl = untar_data(URLs.PETS)/'images'\n",
        "\n",
        "def is_cat(x): return x[0].isupper()\n",
        "\n",
        "dls = ImageDataLoaders.from_name_func(path_cl, get_image_files(path_cl), \n",
        "                                      valid_pct=0.2, seed=42, \n",
        "                                      label_func=is_cat, \n",
        "                                      item_tfms=Resize(28))"
      ],
      "execution_count": null,
      "outputs": []
    },
    {
      "cell_type": "code",
      "metadata": {
        "colab": {
          "base_uri": "https://localhost:8080/"
        },
        "id": "Rf_pSlO3IOx9",
        "outputId": "3511fa1a-6147-4fa5-b6ae-35d9808a58b6"
      },
      "source": [
        "xb, yb = dls.one_batch()\n",
        "xb.shape, yb.shape"
      ],
      "execution_count": null,
      "outputs": [
        {
          "output_type": "execute_result",
          "data": {
            "text/plain": [
              "(torch.Size([64, 3, 28, 28]), torch.Size([64]))"
            ]
          },
          "metadata": {
            "tags": []
          },
          "execution_count": 14
        }
      ]
    },
    {
      "cell_type": "markdown",
      "metadata": {
        "id": "yormJm-WJdq_"
      },
      "source": [
        "Batch tensor is of shape [64, 3, 28, 28]:\n",
        "- 64 samples\n",
        "- 3 color channels\n",
        "- 28 x 28 pixels\n",
        "\n",
        "Display selection image from the tensor images using `show_image(tensor)"
      ]
    },
    {
      "cell_type": "code",
      "metadata": {
        "colab": {
          "base_uri": "https://localhost:8080/"
        },
        "id": "ewulmBOkIOx-",
        "outputId": "ff3659a1-2201-4833-80be-b1ffbc6f4cf3"
      },
      "source": [
        "fig, axs = plt.subplots(nrows=1, ncols=9, figsize=(16,5))\n",
        "for i, img_tnsr in enumerate(xb[0:9]):\n",
        "    show_image(img_tnsr, ax=axs[i])"
      ],
      "execution_count": null,
      "outputs": [
        {
          "output_type": "display_data",
          "data": {
            "image/png": "[encoded data removed]",
            "text/plain": [
              "<Figure size 1152x360 with 9 Axes>"
            ]
          },
          "metadata": {
            "tags": [],
            "needs_background": "light"
          }
        }
      ]
    },
    {
      "cell_type": "code",
      "metadata": {
        "colab": {
          "base_uri": "https://localhost:8080/"
        },
        "id": "ECkZ1ZiEIOx-",
        "outputId": "a5ad41d3-9f58-43bd-d1b4-f12c40b4d56a"
      },
      "source": [
        "xb.shape, yb.shape"
      ],
      "execution_count": null,
      "outputs": [
        {
          "output_type": "execute_result",
          "data": {
            "text/plain": [
              "(torch.Size([64, 3, 28, 28]), torch.Size([64]))"
            ]
          },
          "metadata": {
            "tags": []
          },
          "execution_count": 16
        }
      ]
    },
    {
      "cell_type": "code",
      "metadata": {
        "colab": {
          "base_uri": "https://localhost:8080/"
        },
        "id": "JUMl-SrVfAU6",
        "outputId": "09877f05-7e3a-4312-a947-1da160408a44"
      },
      "source": [
        "xb.min(), xb.max()"
      ],
      "execution_count": null,
      "outputs": [
        {
          "output_type": "execute_result",
          "data": {
            "text/plain": [
              "(tensor(0, dtype=torch.uint8), tensor(255, dtype=torch.uint8))"
            ]
          },
          "metadata": {
            "tags": []
          },
          "execution_count": 116
        }
      ]
    },
    {
      "cell_type": "markdown",
      "metadata": {
        "id": "rZanjNd8fYUo"
      },
      "source": [
        "The values are integers from 0 to 255"
      ]
    },
    {
      "cell_type": "markdown",
      "metadata": {
        "id": "LUBnza2eIOx_"
      },
      "source": [
        "##### Black and White Images"
      ]
    },
    {
      "cell_type": "markdown",
      "metadata": {
        "id": "w5paJOfyKPtD"
      },
      "source": [
        "1. Load MNIST image datasets\n",
        "2. Create a `DataLoaders` using simple factory method with `bs=64` and from images\n",
        "2. Extract one batch and review images tensor format"
      ]
    },
    {
      "cell_type": "code",
      "metadata": {
        "colab": {
          "base_uri": "https://localhost:8080/"
        },
        "id": "qEt14u7qKeZp",
        "outputId": "15cd4d9e-3414-48f1-a6a9-15ce794d0721"
      },
      "source": [
        "path = untar_data(URLs.MNIST_SAMPLE)"
      ],
      "execution_count": null,
      "outputs": [
        {
          "output_type": "display_data",
          "data": {
            "text/html": [
              ""
            ],
            "text/plain": [
              "<IPython.core.display.HTML object>"
            ]
          },
          "metadata": {
            "tags": []
          }
        }
      ]
    },
    {
      "cell_type": "code",
      "metadata": {
        "id": "CXTdUImLKeWR"
      },
      "source": [
        "dls = ImageDataLoaders.from_folder(path)"
      ],
      "execution_count": null,
      "outputs": []
    },
    {
      "cell_type": "code",
      "metadata": {
        "colab": {
          "base_uri": "https://localhost:8080/"
        },
        "id": "V_NqTiO3KeLZ",
        "outputId": "1f31f9ca-e9c2-4f6c-dca6-b41dc5672d2d"
      },
      "source": [
        "xb, yb = dls.one_batch()\n",
        "xb.shape, yb.shape"
      ],
      "execution_count": null,
      "outputs": [
        {
          "output_type": "execute_result",
          "data": {
            "text/plain": [
              "(torch.Size([64, 3, 28, 28]), torch.Size([64]))"
            ]
          },
          "metadata": {
            "tags": []
          },
          "execution_count": 22
        }
      ]
    },
    {
      "cell_type": "markdown",
      "metadata": {
        "id": "-gZ7x-n0LkAB"
      },
      "source": [
        "Even though we have a B&W image, there are still 3 color channels !"
      ]
    },
    {
      "cell_type": "code",
      "metadata": {
        "colab": {
          "base_uri": "https://localhost:8080/"
        },
        "id": "nHrwvjcifndK",
        "outputId": "257b0762-21c0-4932-f734-e6c0484b0a93"
      },
      "source": [
        "xb.min(), xb.max()"
      ],
      "execution_count": null,
      "outputs": [
        {
          "output_type": "execute_result",
          "data": {
            "text/plain": [
              "(tensor(0, dtype=torch.uint8), tensor(255, dtype=torch.uint8))"
            ]
          },
          "metadata": {
            "tags": []
          },
          "execution_count": 117
        }
      ]
    },
    {
      "cell_type": "markdown",
      "metadata": {
        "id": "rHA4FnQpfutK"
      },
      "source": [
        "Pixel values are integers from 0 to 255"
      ]
    },
    {
      "cell_type": "code",
      "metadata": {
        "colab": {
          "base_uri": "https://localhost:8080/"
        },
        "id": "9six2wc-K-Ci",
        "outputId": "8e6f498f-c044-4819-9eae-ddf4d40ee1ad"
      },
      "source": [
        "fig, axs = plt.subplots(nrows=1, ncols=9, figsize=(16,5))\n",
        "for i, img_tnsr in enumerate(xb[0:9]):\n",
        "    show_image(img_tnsr, ax=axs[i])"
      ],
      "execution_count": null,
      "outputs": [
        {
          "output_type": "display_data",
          "data": {
            "image/png": "[encoded data removed]",
            "text/plain": [
              "<Figure size 1152x360 with 9 Axes>"
            ]
          },
          "metadata": {
            "tags": [],
            "needs_background": "light"
          }
        }
      ]
    },
    {
      "cell_type": "code",
      "metadata": {
        "colab": {
          "base_uri": "https://localhost:8080/"
        },
        "id": "7-usXdqSLD6p",
        "outputId": "800341d8-3199-42a7-ef5a-8f85aff16198"
      },
      "source": [
        "img_tnsr = xb[0]\n",
        "img_tnsr.shape"
      ],
      "execution_count": null,
      "outputs": [
        {
          "output_type": "execute_result",
          "data": {
            "text/plain": [
              "torch.Size([3, 28, 28])"
            ]
          },
          "metadata": {
            "tags": []
          },
          "execution_count": 26
        }
      ]
    },
    {
      "cell_type": "code",
      "metadata": {
        "colab": {
          "base_uri": "https://localhost:8080/"
        },
        "id": "x4BH48ATLDwX",
        "outputId": "a2216e02-36eb-488e-ce00-4481b18d9897"
      },
      "source": [
        "for i in range(3):\n",
        "    display(img_tnsr[i].sum())"
      ],
      "execution_count": null,
      "outputs": [
        {
          "output_type": "display_data",
          "data": {
            "text/plain": [
              "TensorImage(105.1843, device='cuda:0')"
            ]
          },
          "metadata": {
            "tags": []
          }
        },
        {
          "output_type": "display_data",
          "data": {
            "text/plain": [
              "TensorImage(105.1843, device='cuda:0')"
            ]
          },
          "metadata": {
            "tags": []
          }
        },
        {
          "output_type": "display_data",
          "data": {
            "text/plain": [
              "TensorImage(105.1843, device='cuda:0')"
            ]
          },
          "metadata": {
            "tags": []
          }
        }
      ]
    },
    {
      "cell_type": "markdown",
      "metadata": {
        "id": "G7dXZVqeLrdp"
      },
      "source": [
        "The three color channels are identical. Color is in shade of grey"
      ]
    },
    {
      "cell_type": "markdown",
      "metadata": {
        "id": "FKjlU6x7m-vn"
      },
      "source": [
        "The PyTorch dataset only has one channel, i.e. the image tensor has shape `[60000, 28,28]`\n",
        "\n",
        "fastai ResNet will expect one of the following shapes:\n",
        "1. [6000, 1, 28, 28] for grayscale images\n",
        "2. [6000, 3, 28, 28] for rgb images\n",
        "\n",
        "Options:\n",
        "1. Transform fastion_train.data into grayscale images for fastai resnet by using `unsqueeze(dim=1) to add one dimension\n",
        "2. Transform fastion_train.data into rgb images for fastai resnet by using `torch.stack([x, x, x], dim=1) to add one dim and triplacate channels "
      ]
    },
    {
      "cell_type": "markdown",
      "metadata": {
        "id": "tkabfNyYL2KA"
      },
      "source": [
        "#### Reference: how to convert grayscale images (one channel) into rgb image (3 channels)"
      ]
    },
    {
      "cell_type": "markdown",
      "metadata": {
        "id": "GpJtpEsNNH5p"
      },
      "source": [
        "from grayscale to RGB, we just need to repeat the same values in three channels. Can do this using `torch.stack()`. See documentation [here](https://pytorch.org/docs/stable/generated/torch.stack.html)\n",
        "\n",
        "First using a single image and random data"
      ]
    },
    {
      "cell_type": "code",
      "metadata": {
        "colab": {
          "base_uri": "https://localhost:8080/"
        },
        "id": "KxR4Lf3ILDmh",
        "outputId": "f23cabb4-ca6e-45df-ebe9-3e1eb9585bce"
      },
      "source": [
        "xx = torch.rand(28,28)\n",
        "y0 =torch.stack([xx,xx,xx],0)\n",
        "y1 =torch.stack([xx,xx,xx],1)\n",
        "y2 =torch.stack([xx,xx,xx],2)\n",
        "print(xx.shape)\n",
        "print(y0.shape, y1.shape, y2.shape)"
      ],
      "execution_count": null,
      "outputs": [
        {
          "output_type": "stream",
          "text": [
            "torch.Size([28, 28])\n",
            "torch.Size([3, 28, 28]) torch.Size([28, 3, 28]) torch.Size([28, 28, 3])\n"
          ],
          "name": "stdout"
        }
      ]
    },
    {
      "cell_type": "markdown",
      "metadata": {
        "id": "Fm-5j0g8S1E9"
      },
      "source": [
        "Assume a batch of random grayscale images:"
      ]
    },
    {
      "cell_type": "code",
      "metadata": {
        "colab": {
          "base_uri": "https://localhost:8080/"
        },
        "id": "OSvBBvXQS1gu",
        "outputId": "376c1752-614e-4359-c76d-ac515bce0754"
      },
      "source": [
        "ds_grayscale = torch.rand(6, 28,28)\n",
        "\n",
        "fig, axs = plt.subplots(nrows=1, ncols=6, figsize=(10, 5))\n",
        "for i, img_tnsr in enumerate(ds_grayscale):\n",
        "    show_image(img_tnsr, ax=axs[i])\n",
        "\n",
        "ds_grayscale.shape"
      ],
      "execution_count": null,
      "outputs": [
        {
          "output_type": "execute_result",
          "data": {
            "text/plain": [
              "torch.Size([6, 28, 28])"
            ]
          },
          "metadata": {
            "tags": []
          },
          "execution_count": 48
        },
        {
          "output_type": "display_data",
          "data": {
            "image/png": "[encoded data removed]",
            "text/plain": [
              "<Figure size 720x360 with 6 Axes>"
            ]
          },
          "metadata": {
            "tags": [],
            "needs_background": "light"
          }
        }
      ]
    },
    {
      "cell_type": "code",
      "metadata": {
        "colab": {
          "base_uri": "https://localhost:8080/"
        },
        "id": "C0MtW2LkTUvf",
        "outputId": "cf859442-092a-43fb-a13e-351915c49424"
      },
      "source": [
        "ds_rgb = torch.stack([ds_grayscale, ds_grayscale, ds_grayscale], dim=1)\n",
        "ds_rgb.shape"
      ],
      "execution_count": null,
      "outputs": [
        {
          "output_type": "execute_result",
          "data": {
            "text/plain": [
              "torch.Size([6, 3, 28, 28])"
            ]
          },
          "metadata": {
            "tags": []
          },
          "execution_count": 49
        }
      ]
    },
    {
      "cell_type": "code",
      "metadata": {
        "colab": {
          "base_uri": "https://localhost:8080/"
        },
        "id": "oKpBepGiTUWu",
        "outputId": "c68131b8-435e-4aac-bd1c-14a97b3ca5f4"
      },
      "source": [
        "fig, axs = plt.subplots(nrows=1, ncols=6, figsize=(10, 5))\n",
        "for i, img_tnsr in enumerate(ds_rgb):\n",
        "    show_image(img_tnsr, ax=axs[i])\n",
        "\n",
        "ds_rgb.shape"
      ],
      "execution_count": null,
      "outputs": [
        {
          "output_type": "execute_result",
          "data": {
            "text/plain": [
              "torch.Size([6, 3, 28, 28])"
            ]
          },
          "metadata": {
            "tags": []
          },
          "execution_count": 50
        },
        {
          "output_type": "display_data",
          "data": {
            "image/png": "[encoded data removed]",
            "text/plain": [
              "<Figure size 720x360 with 6 Axes>"
            ]
          },
          "metadata": {
            "tags": [],
            "needs_background": "light"
          }
        }
      ]
    },
    {
      "cell_type": "markdown",
      "metadata": {
        "id": "MBMCpwVLVt2P"
      },
      "source": [
        "Same method for a few of the real images from the fashion MNIST"
      ]
    },
    {
      "cell_type": "code",
      "metadata": {
        "colab": {
          "base_uri": "https://localhost:8080/"
        },
        "id": "Y4qKUPWXVJB7",
        "outputId": "ec97db3e-bd80-40dd-f19c-227760566279"
      },
      "source": [
        "ds_grayscale = train_images[0:6]\n",
        "\n",
        "fig, axs = plt.subplots(nrows=1, ncols=6, figsize=(10, 5))\n",
        "for i, img_tnsr in enumerate(ds_grayscale):\n",
        "    show_image(img_tnsr, ax=axs[i])\n",
        "\n",
        "ds_grayscale.shape"
      ],
      "execution_count": null,
      "outputs": [
        {
          "output_type": "execute_result",
          "data": {
            "text/plain": [
              "torch.Size([6, 28, 28])"
            ]
          },
          "metadata": {
            "tags": []
          },
          "execution_count": 51
        },
        {
          "output_type": "display_data",
          "data": {
            "image/png": "[encoded data removed]",
            "text/plain": [
              "<Figure size 720x360 with 6 Axes>"
            ]
          },
          "metadata": {
            "tags": [],
            "needs_background": "light"
          }
        }
      ]
    },
    {
      "cell_type": "code",
      "metadata": {
        "colab": {
          "base_uri": "https://localhost:8080/"
        },
        "id": "85VsF1ggVTlh",
        "outputId": "82df54f8-1c57-4d5c-9b04-5d439f22ad89"
      },
      "source": [
        "ds_rgb = torch.stack([ds_grayscale, ds_grayscale, ds_grayscale], dim=1)\n",
        "ds_rgb.shape"
      ],
      "execution_count": null,
      "outputs": [
        {
          "output_type": "execute_result",
          "data": {
            "text/plain": [
              "torch.Size([6, 3, 28, 28])"
            ]
          },
          "metadata": {
            "tags": []
          },
          "execution_count": 52
        }
      ]
    },
    {
      "cell_type": "code",
      "metadata": {
        "colab": {
          "base_uri": "https://localhost:8080/"
        },
        "id": "mcJGTv2eVTbU",
        "outputId": "69bd55ab-490c-4a29-d285-cb2aba0d4a9f"
      },
      "source": [
        "fig, axs = plt.subplots(nrows=1, ncols=6, figsize=(10, 5))\n",
        "for i, img_tnsr in enumerate(ds_rgb):\n",
        "    show_image(img_tnsr, ax=axs[i])\n",
        "\n",
        "ds_rgb.shape"
      ],
      "execution_count": null,
      "outputs": [
        {
          "output_type": "execute_result",
          "data": {
            "text/plain": [
              "torch.Size([6, 3, 28, 28])"
            ]
          },
          "metadata": {
            "tags": []
          },
          "execution_count": 53
        },
        {
          "output_type": "display_data",
          "data": {
            "image/png": "[encoded data removed]",
            "text/plain": [
              "<Figure size 720x360 with 6 Axes>"
            ]
          },
          "metadata": {
            "tags": [],
            "needs_background": "light"
          }
        }
      ]
    },
    {
      "cell_type": "markdown",
      "metadata": {
        "id": "w1em7K6VSx9X"
      },
      "source": [
        "Apply this to the whole dataset:"
      ]
    },
    {
      "cell_type": "code",
      "metadata": {
        "colab": {
          "base_uri": "https://localhost:8080/"
        },
        "id": "9DSf8UfwLDbR",
        "outputId": "10d4e8a4-a673-4baf-b64d-f92cfa0c3ce1"
      },
      "source": [
        "train_images.shape, train_labels.shape, len(fashion_train.classes)"
      ],
      "execution_count": null,
      "outputs": [
        {
          "output_type": "execute_result",
          "data": {
            "text/plain": [
              "(torch.Size([60000, 28, 28]), torch.Size([60000]), 10)"
            ]
          },
          "metadata": {
            "tags": []
          },
          "execution_count": 36
        }
      ]
    },
    {
      "cell_type": "code",
      "metadata": {
        "colab": {
          "base_uri": "https://localhost:8080/"
        },
        "id": "J-_MgZXnRlvm",
        "outputId": "406cf5aa-480f-4b29-b0a3-3e286c5bd587"
      },
      "source": [
        "test_images.shape, test_labels.shape"
      ],
      "execution_count": null,
      "outputs": [
        {
          "output_type": "execute_result",
          "data": {
            "text/plain": [
              "(torch.Size([10000, 28, 28]), torch.Size([10000]))"
            ]
          },
          "metadata": {
            "tags": []
          },
          "execution_count": 37
        }
      ]
    },
    {
      "cell_type": "markdown",
      "metadata": {
        "id": "JtU2l_GsojeO"
      },
      "source": [
        "## Prepare data for fastai API"
      ]
    },
    {
      "cell_type": "code",
      "metadata": {
        "id": "Wn_xKiW8u7vM"
      },
      "source": [
        "GRAYSCALE_IMAGES = True"
      ],
      "execution_count": null,
      "outputs": []
    },
    {
      "cell_type": "markdown",
      "metadata": {
        "id": "7BUz6MhSppY4"
      },
      "source": [
        "### Option 1: Grayscale images"
      ]
    },
    {
      "cell_type": "markdown",
      "metadata": {
        "id": "VpS9YEcLoy8P"
      },
      "source": [
        "Convert the PyTorch dataset into a dataset that can be used in DataLoader i.e:\n",
        "- `dset_train` build from grayscale images (x) and labels (y): `train_x` and `train_y`\n",
        "- `train_x` as a tensor of shape `[60000, 1, 28, 28]` for grayscale images\n",
        "- ~~`train_y` as a tensor of shape `[60000, 1]`~~ see notes on errors encountered below.\n",
        "- `train_y` as a tensor of shape `[60000]`\n",
        "- `dset_test` is built similarly but has only 10000 samples\n",
        "\n",
        "\n",
        "PyTorch `CLASStorchvision.datasets.FashionMNIST` returns tensors with other shapes:\n",
        "\n",
        "```python\n",
        "    fashion_train.data.shape     -> torch.Size([60000, 28, 28])\n",
        "    fashion_train.targets.shape  -> torch.Size([60000])\n",
        "```\n",
        "\n",
        "- `fashion_train.data` needs to be unsqueezed to add a dimension\n",
        "- ~~`fashion_train.targets` needs to be unsqueezed to add a dimension~~"
      ]
    },
    {
      "cell_type": "code",
      "metadata": {
        "colab": {
          "base_uri": "https://localhost:8080/",
          "height": 52
        },
        "id": "1iALJG9GppY4",
        "outputId": "2a898713-7400-46e6-a406-deea749ca252"
      },
      "source": [
        "if GRAYSCALE_IMAGES:\n",
        "    train_x = fashion_train.data.unsqueeze(dim=1) / 255\n",
        "    train_y = fashion_train.targets\n",
        "\n",
        "    display(train_x.shape, train_y.shape)\n",
        "else:\n",
        "    print('Data prepared using option 2: RGB')"
      ],
      "execution_count": null,
      "outputs": [
        {
          "output_type": "display_data",
          "data": {
            "text/plain": [
              "torch.Size([60000, 1, 28, 28])"
            ]
          },
          "metadata": {
            "tags": []
          }
        },
        {
          "output_type": "display_data",
          "data": {
            "text/plain": [
              "torch.Size([60000])"
            ]
          },
          "metadata": {
            "tags": []
          }
        }
      ]
    },
    {
      "cell_type": "code",
      "metadata": {
        "colab": {
          "base_uri": "https://localhost:8080/",
          "height": 52
        },
        "id": "lJYr3t0ippY5",
        "outputId": "e593d25d-0d75-498e-adda-be510db0d56e"
      },
      "source": [
        "if GRAYSCALE_IMAGES:\n",
        "    test_x = fashion_test.data.unsqueeze( dim=1) / 255\n",
        "    test_y = fashion_test.targets\n",
        "\n",
        "    display(test_x.shape, test_y.shape)\n",
        "else:\n",
        "    print('Data prepared using option 2: RGB') "
      ],
      "execution_count": null,
      "outputs": [
        {
          "output_type": "display_data",
          "data": {
            "text/plain": [
              "torch.Size([10000, 1, 28, 28])"
            ]
          },
          "metadata": {
            "tags": []
          }
        },
        {
          "output_type": "display_data",
          "data": {
            "text/plain": [
              "torch.Size([10000])"
            ]
          },
          "metadata": {
            "tags": []
          }
        }
      ]
    },
    {
      "cell_type": "markdown",
      "metadata": {
        "id": "7I9-aLLpWKIS"
      },
      "source": [
        "### Option 2: RGB images"
      ]
    },
    {
      "cell_type": "markdown",
      "metadata": {
        "id": "vN_vbqCYOKvN"
      },
      "source": [
        "Convert the PyTorch dataset into a dataset that can be used in DataLoader i.e:\n",
        "- `dset_train` build from images (x) and labels (y): `train_x` and `train_y`\n",
        "- `train_x` as a tensor of shape `[60000, 3, 28, 28]`\n",
        "- ~~`train_y` as a tensor of shape `[60000, 1]`~~ see notes below.\n",
        "- `train_y` as a tensor of shape `[60000]`\n",
        "- `dset_test` is built similarly but has only 10000 samples\n",
        "\n",
        "\n",
        "PyTorch `CLASStorchvision.datasets.FashionMNIST` returns tensors with other shapes:\n",
        "\n",
        "```python\n",
        "    fashion_train.data.shape     -> torch.Size([60000, 28, 28])\n",
        "    fashion_train.targets.shape  -> torch.Size([60000])\n",
        "```\n",
        "\n",
        "- `fashion_train.data` needs to be stacked to create 3 channels.\n",
        "- ~~`fashion_train.targets` needs to be unsqueezed to add a dimension~~"
      ]
    },
    {
      "cell_type": "code",
      "metadata": {
        "colab": {
          "base_uri": "https://localhost:8080/"
        },
        "id": "ZPD7S6d0X0K-",
        "outputId": "e0ba4644-971a-4ebf-82e2-821913a1f673"
      },
      "source": [
        "if not GRAYSCALE_IMAGES:\n",
        "    tnsr = fashion_train.data\n",
        "    train_x = torch.stack([tnsr, tnsr, tnsr], dim=1) / 255\n",
        "    # train_y = fashion_train.targets.unsqueeze(dim=1)   # Not required to unsqueeze\n",
        "    train_y = fashion_train.targets\n",
        "\n",
        "    display(train_x.shape, train_y.shape)\n",
        "else:\n",
        "    print('Data prepared using option 1: grayscale')"
      ],
      "execution_count": null,
      "outputs": [
        {
          "output_type": "stream",
          "text": [
            "Data prepared using option 1: grayscale\n"
          ],
          "name": "stdout"
        }
      ]
    },
    {
      "cell_type": "code",
      "metadata": {
        "colab": {
          "base_uri": "https://localhost:8080/"
        },
        "id": "cdNyGrwTPyen",
        "outputId": "587a82d6-3099-4060-c6f9-934c9d474988"
      },
      "source": [
        "if not GRAYSCALE_IMAGES:\n",
        "    tnsr = fashion_test.data\n",
        "    test_x = torch.stack([tnsr, tnsr, tnsr], dim=1) / 255\n",
        "    # test_y = fashion_test.targets.unsqueeze(dim=1) \n",
        "    test_y = fashion_test.targets\n",
        "\n",
        "    display(test_x.shape, test_y.shape)\n",
        "else:\n",
        "    print('Data prepared using option 1: grayscale')"
      ],
      "execution_count": null,
      "outputs": [
        {
          "output_type": "stream",
          "text": [
            "Data prepared using option 1: grayscale\n"
          ],
          "name": "stdout"
        }
      ]
    },
    {
      "cell_type": "markdown",
      "metadata": {
        "id": "5mTf5nGbbS6v"
      },
      "source": [
        "## Create training dataset"
      ]
    },
    {
      "cell_type": "code",
      "metadata": {
        "colab": {
          "base_uri": "https://localhost:8080/"
        },
        "id": "9C_LnYz2NsXi",
        "outputId": "1fdc23d3-2cd0-4bf9-ccf3-db8d91a57271"
      },
      "source": [
        "dset_train = list(zip(train_x,train_y))\n",
        "\n",
        "img, y = dset_train[0]\n",
        "img.shape, y.shape, y"
      ],
      "execution_count": null,
      "outputs": [
        {
          "output_type": "execute_result",
          "data": {
            "text/plain": [
              "(torch.Size([1, 28, 28]), torch.Size([]), tensor(9))"
            ]
          },
          "metadata": {
            "tags": []
          },
          "execution_count": 233
        }
      ]
    },
    {
      "cell_type": "code",
      "metadata": {
        "colab": {
          "base_uri": "https://localhost:8080/",
          "height": 131
        },
        "id": "JXrSl03yoWQt",
        "outputId": "61391c22-11d6-479a-98af-f175f21e2d50"
      },
      "source": [
        "fig, axs = plt.subplots(nrows=1, ncols=9, figsize=(16,5))\n",
        "\n",
        "for i, (img_tnsr, y) in enumerate(dset_train[0: 9]):\n",
        "    show_image(img_tnsr, ax=axs[i], title=f\"{y.item()}: {fashion_train.classes[y]}\")"
      ],
      "execution_count": null,
      "outputs": [
        {
          "output_type": "display_data",
          "data": {
            "image/png": "[encoded data removed]",
            "text/plain": [
              "<Figure size 1152x360 with 9 Axes>"
            ]
          },
          "metadata": {
            "tags": [],
            "needs_background": "light"
          }
        }
      ]
    },
    {
      "cell_type": "markdown",
      "metadata": {
        "id": "NpgLQR5fbWgr"
      },
      "source": [
        "## Create validation dataset"
      ]
    },
    {
      "cell_type": "code",
      "metadata": {
        "colab": {
          "base_uri": "https://localhost:8080/"
        },
        "id": "dHjrzMopbqIH",
        "outputId": "1763180b-ce3c-4de5-e7b3-5c5ee6471a7c"
      },
      "source": [
        "dset_valid = list(zip(test_x, test_y))\n",
        "\n",
        "img, y = dset_valid[0]\n",
        "img.shape, y.shape, y"
      ],
      "execution_count": null,
      "outputs": [
        {
          "output_type": "execute_result",
          "data": {
            "text/plain": [
              "(torch.Size([1, 28, 28]), torch.Size([]), tensor(9))"
            ]
          },
          "metadata": {
            "tags": []
          },
          "execution_count": 232
        }
      ]
    },
    {
      "cell_type": "code",
      "metadata": {
        "colab": {
          "base_uri": "https://localhost:8080/",
          "height": 131
        },
        "id": "KioU_Qfgo9XO",
        "outputId": "2b50ccfb-3a14-4b75-d1d5-f8ff37e3df25"
      },
      "source": [
        "fig, axs = plt.subplots(nrows=1, ncols=9, figsize=(16,5))\n",
        "\n",
        "for i, (img_tnsr, y) in enumerate(dset_valid[0: 9]):\n",
        "    show_image(img_tnsr, ax=axs[i], title=f\"{y.item()}: {fashion_test.classes[y]}\")"
      ],
      "execution_count": null,
      "outputs": [
        {
          "output_type": "display_data",
          "data": {
            "image/png": "[encoded data removed]",
            "text/plain": [
              "<Figure size 1152x360 with 9 Axes>"
            ]
          },
          "metadata": {
            "tags": [],
            "needs_background": "light"
          }
        }
      ]
    },
    {
      "cell_type": "markdown",
      "metadata": {
        "id": "TcN-1hNqmQCD"
      },
      "source": [
        "## Create DataLoaders"
      ]
    },
    {
      "cell_type": "code",
      "metadata": {
        "id": "ihXHE6tSNsO3"
      },
      "source": [
        "# display(len(dset_train), len(dset_valid))\n",
        "\n",
        "dl_train = DataLoader(dataset=dset_train, bs=256)\n",
        "dl_valid = DataLoader(dataset=dset_valid, bs=256)  # Note: do not forget to set the bs here too\n",
        "\n",
        "dls = DataLoaders(dl_train, dl_valid)"
      ],
      "execution_count": null,
      "outputs": []
    },
    {
      "cell_type": "code",
      "metadata": {
        "colab": {
          "base_uri": "https://localhost:8080/"
        },
        "id": "hV4A33VxwYM7",
        "outputId": "022d7c49-0ebe-43d4-9b9c-c333979cc61e"
      },
      "source": [
        "xb, yb = dls.one_batch()\n",
        "xb.shape, yb.shape"
      ],
      "execution_count": null,
      "outputs": [
        {
          "output_type": "execute_result",
          "data": {
            "text/plain": [
              "(torch.Size([256, 1, 28, 28]), torch.Size([256]))"
            ]
          },
          "metadata": {
            "tags": []
          },
          "execution_count": 236
        }
      ]
    },
    {
      "cell_type": "code",
      "metadata": {
        "colab": {
          "base_uri": "https://localhost:8080/",
          "height": 131
        },
        "id": "bLwFLY-gNsDH",
        "outputId": "08d2fef3-add0-43ce-8521-5b71ef9318d7"
      },
      "source": [
        "fig, axs = plt.subplots(nrows=1, ncols=9, figsize=(16,5))\n",
        "for i, img_tnsr in enumerate(xb[0:9]):\n",
        "    show_image(img_tnsr, ax=axs[i], title=f\"{yb[i].item()}: {fashion_train.classes[yb[i]]}\")"
      ],
      "execution_count": null,
      "outputs": [
        {
          "output_type": "display_data",
          "data": {
            "image/png": "[encoded data removed]",
            "text/plain": [
              "<Figure size 1152x360 with 9 Axes>"
            ]
          },
          "metadata": {
            "tags": [],
            "needs_background": "light"
          }
        }
      ]
    },
    {
      "cell_type": "code",
      "metadata": {
        "colab": {
          "base_uri": "https://localhost:8080/"
        },
        "id": "t7kTcXW4PmkM",
        "outputId": "639f9a91-b8c8-49fb-8ef1-f05661377432"
      },
      "source": [
        "[fashion_train.classes[y] for y in yb[0:9]]"
      ],
      "execution_count": null,
      "outputs": [
        {
          "output_type": "execute_result",
          "data": {
            "text/plain": [
              "['Ankle boot',\n",
              " 'T-shirt/top',\n",
              " 'T-shirt/top',\n",
              " 'Dress',\n",
              " 'T-shirt/top',\n",
              " 'Pullover',\n",
              " 'Sneaker',\n",
              " 'Pullover',\n",
              " 'Sandal']"
            ]
          },
          "metadata": {
            "tags": []
          },
          "execution_count": 238
        }
      ]
    },
    {
      "cell_type": "code",
      "metadata": {
        "id": "tfH-zGeJqu0p"
      },
      "source": [
        "dls.c = len(fashion_train.classes)"
      ],
      "execution_count": null,
      "outputs": []
    },
    {
      "cell_type": "markdown",
      "metadata": {
        "id": "xBTAowQWsdhz"
      },
      "source": [
        "## Learner"
      ]
    },
    {
      "cell_type": "code",
      "metadata": {
        "id": "p0xAB2z5PmXz"
      },
      "source": [
        "if GRAYSCALE_IMAGES:\n",
        "    # Option 1: grayscale images. Need to add n_in=1\n",
        "    learn = cnn_learner(dls, resnet18, pretrained=False,\n",
        "                        loss_func=F.cross_entropy, metrics=accuracy,\n",
        "                        n_in=1)\n",
        "else:\n",
        "    # Option 2: rgb images. Keep default value of n_in or set to 3\n",
        "    learn = cnn_learner(dls, resnet18, pretrained=False,\n",
        "                        loss_func=F.cross_entropy, metrics=accuracy,\n",
        "                        n_in=3)"
      ],
      "execution_count": null,
      "outputs": []
    },
    {
      "cell_type": "code",
      "metadata": {
        "colab": {
          "base_uri": "https://localhost:8080/",
          "height": 301
        },
        "id": "C6qnfws2kIho",
        "outputId": "17d61b8a-2dfc-4369-ca89-8dd2d0822c9d"
      },
      "source": [
        "learn.lr_find()"
      ],
      "execution_count": null,
      "outputs": [
        {
          "output_type": "display_data",
          "data": {
            "text/html": [
              ""
            ],
            "text/plain": [
              "<IPython.core.display.HTML object>"
            ]
          },
          "metadata": {
            "tags": []
          }
        },
        {
          "output_type": "execute_result",
          "data": {
            "text/plain": [
              "SuggestedLRs(lr_min=0.010000000149011612, lr_steep=0.0002290867705596611)"
            ]
          },
          "metadata": {
            "tags": []
          },
          "execution_count": 241
        },
        {
          "output_type": "display_data",
          "data": {
            "image/png": "[encoded data removed]",
            "text/plain": [
              "<Figure size 432x288 with 1 Axes>"
            ]
          },
          "metadata": {
            "tags": [],
            "needs_background": "light"
          }
        }
      ]
    },
    {
      "cell_type": "code",
      "metadata": {
        "colab": {
          "base_uri": "https://localhost:8080/",
          "height": 195
        },
        "id": "iBSkA5RSkeVw",
        "outputId": "c61d9b65-840c-495a-f470-64db2c5016e0"
      },
      "source": [
        "learn.fit_one_cycle(n_epoch=5, lr_max=0.001)"
      ],
      "execution_count": null,
      "outputs": [
        {
          "output_type": "display_data",
          "data": {
            "text/html": [
              "<table border=\"1\" class=\"dataframe\">\n",
              "  <thead>\n",
              "    <tr style=\"text-align: left;\">\n",
              "      <th>epoch</th>\n",
              "      <th>train_loss</th>\n",
              "      <th>valid_loss</th>\n",
              "      <th>accuracy</th>\n",
              "      <th>time</th>\n",
              "    </tr>\n",
              "  </thead>\n",
              "  <tbody>\n",
              "    <tr>\n",
              "      <td>0</td>\n",
              "      <td>0.566898</td>\n",
              "      <td>0.524991</td>\n",
              "      <td>0.819500</td>\n",
              "      <td>09:10</td>\n",
              "    </tr>\n",
              "    <tr>\n",
              "      <td>1</td>\n",
              "      <td>0.364452</td>\n",
              "      <td>0.371729</td>\n",
              "      <td>0.867100</td>\n",
              "      <td>09:04</td>\n",
              "    </tr>\n",
              "    <tr>\n",
              "      <td>2</td>\n",
              "      <td>0.292597</td>\n",
              "      <td>0.337923</td>\n",
              "      <td>0.884200</td>\n",
              "      <td>08:59</td>\n",
              "    </tr>\n",
              "    <tr>\n",
              "      <td>3</td>\n",
              "      <td>0.223654</td>\n",
              "      <td>0.282809</td>\n",
              "      <td>0.897600</td>\n",
              "      <td>08:59</td>\n",
              "    </tr>\n",
              "    <tr>\n",
              "      <td>4</td>\n",
              "      <td>0.149312</td>\n",
              "      <td>0.269286</td>\n",
              "      <td>0.907200</td>\n",
              "      <td>09:00</td>\n",
              "    </tr>\n",
              "  </tbody>\n",
              "</table>"
            ],
            "text/plain": [
              "<IPython.core.display.HTML object>"
            ]
          },
          "metadata": {
            "tags": []
          }
        }
      ]
    },
    {
      "cell_type": "code",
      "metadata": {
        "colab": {
          "base_uri": "https://localhost:8080/",
          "height": 265
        },
        "id": "ymLg8H9pxElz",
        "outputId": "c44f6841-5142-40e1-c060-6bec540eb1c6"
      },
      "source": [
        "learn.recorder.plot_loss(skip_start=75)"
      ],
      "execution_count": null,
      "outputs": [
        {
          "output_type": "display_data",
          "data": {
            "image/png": "[encoded data removed]",
            "text/plain": [
              "<Figure size 432x288 with 1 Axes>"
            ]
          },
          "metadata": {
            "tags": [],
            "needs_background": "light"
          }
        }
      ]
    },
    {
      "cell_type": "code",
      "metadata": {
        "id": "P4be-96h5ebW"
      },
      "source": [
        "# interp = ClassificationInterpretation.from_learner(learn)"
      ],
      "execution_count": null,
      "outputs": []
    },
    {
      "cell_type": "code",
      "metadata": {
        "id": "8snyLaxs_958"
      },
      "source": [
        "# interp.plot_confusion_matrix(figsize=(8,8))"
      ],
      "execution_count": null,
      "outputs": []
    },
    {
      "cell_type": "code",
      "metadata": {
        "id": "eCVIsQbV5eRx"
      },
      "source": [
        "# interp.most_confused()"
      ],
      "execution_count": null,
      "outputs": []
    },
    {
      "cell_type": "code",
      "metadata": {
        "id": "3FJ8PLVH5xXv"
      },
      "source": [
        "# interp.plot_top_losses(k=36, figsize=(12,12))"
      ],
      "execution_count": null,
      "outputs": []
    },
    {
      "cell_type": "markdown",
      "metadata": {
        "id": "mcoAhnlzlyqP"
      },
      "source": [
        "## Summary of errors encountered"
      ]
    },
    {
      "cell_type": "markdown",
      "metadata": {
        "id": "e8bMRu1lqSdn"
      },
      "source": [
        "### Error: unable to define n_out = number classes \n",
        "Create the learning with resnet creates an error:\n",
        "\n",
        "```python\n",
        "    learn = cnn_learner(dls, resnet18, pretrained=False,\n",
        "                        loss_func=F.cross_entropy, metrics=accuracy)\n",
        "\n",
        "    ---------------------------------------------------------------------------\n",
        "    AssertionError                            Traceback (most recent call last)\n",
        "    <ipython-input-68-afb81675e55e> in <module>()\n",
        "        1 learn = cnn_learner(dls, resnet18, pretrained=False,\n",
        "    ----> 2                     loss_func=F.cross_entropy, metrics=accuracy)\n",
        "\n",
        "    /usr/local/lib/python3.7/dist-packages/fastai/vision/learner.py in cnn_learner(dls, arch, normalize, n_out, pretrained, config, loss_func, opt_func, lr, splitter, cbs, metrics, path, model_dir, wd, wd_bn_bias, train_bn, moms, **kwargs)\n",
        "        177 \n",
        "        178     if n_out is None: n_out = get_c(dls)\n",
        "    --> 179     assert n_out, \"`n_out` is not defined, and could not be inferred from data, set `dls.c` or pass `n_out`\"\n",
        "        180     model = create_cnn_model(arch, n_out, pretrained=pretrained, **kwargs)\n",
        "        181 \n",
        "\n",
        "    AssertionError: `n_out` is not defined, and could not be inferred from data, set `dls.c` or pass `n_out`\n",
        "```\n",
        "\n",
        "Info passed to dls is not enough to define the number of classes (`dls.c`). Need to pass the value (that is the number of classes). This is the number of unique values in the train_label tensor. Also could simply set n_out.\n",
        "\n",
        "See code [here](https://github.com/fastai/fastai/blob/master/fastai/vision/learner.py#L160)"
      ]
    },
    {
      "cell_type": "markdown",
      "metadata": {
        "id": "3vRiMVuItIQ9"
      },
      "source": [
        "### Error: pixel value must be floats between 0 and 1\n",
        "Image tensor must use float and not int or bytes. If image is int from 0 to 255, then devide by 255.\n",
        "If not done, it leads to the following runtime error with fitting:\n",
        "\n",
        "```python\n",
        "---------------------------------------------------------------------------\n",
        "RuntimeError                              Traceback (most recent call last)\n",
        "<ipython-input-193-d81c6bd29d71> in <module>()\n",
        "----> 1 learn.lr_find()\n",
        "\n",
        "18 frames\n",
        "/usr/local/lib/python3.7/dist-packages/torch/nn/modules/conv.py in _conv_forward(self, input, weight)\n",
        "    418                             _pair(0), self.dilation, self.groups)\n",
        "    419         return F.conv2d(input, weight, self.bias, self.stride,\n",
        "--> 420                         self.padding, self.dilation, self.groups)\n",
        "    421 \n",
        "    422     def forward(self, input: Tensor) -> Tensor:\n",
        "\n",
        "RuntimeError: expected scalar type Byte but found Float\n",
        "```"
      ]
    },
    {
      "cell_type": "markdown",
      "metadata": {
        "id": "W4wtsilZtb4l"
      },
      "source": [
        "### Error: Wrong format for the target tensor/ y tensor\n",
        "Single class classifier\n",
        "Target/Y must be of dimension 1, that means that the shape is [60000] and not [60000, 1]\n",
        "\n",
        "If target tensor has a shape of [xxxx, 1], it will generate the following error at runtime:\n",
        "\n",
        "```python\n",
        "---------------------------------------------------------------------------\n",
        "RuntimeError                              Traceback (most recent call last)\n",
        "<ipython-input-132-d81c6bd29d71> in <module>()\n",
        "----> 1 learn.lr_find()\n",
        "\n",
        "13 frames\n",
        "/usr/local/lib/python3.7/dist-packages/torch/nn/functional.py in nll_loss(input, target, weight, size_average, ignore_index, reduce, reduction)\n",
        "   2262                          .format(input.size(0), target.size(0)))\n",
        "   2263     if dim == 2:\n",
        "-> 2264         ret = torch._C._nn.nll_loss(input, target, weight, _Reduction.get_enum(reduction), ignore_index)\n",
        "   2265     elif dim == 4:\n",
        "   2266         ret = torch._C._nn.nll_loss2d(input, target, weight, _Reduction.get_enum(reduction), ignore_index)\n",
        "\n",
        "RuntimeError: 1D target tensor expected, multi-target not supported\n",
        "```"
      ]
    },
    {
      "cell_type": "markdown",
      "metadata": {
        "id": "beO9b6D5uwes"
      },
      "source": [
        "### Error: image tensors misformated\n",
        "\n",
        "Error generated with image tensor was not prepared properly and the learner was not well configured:\n",
        "- train_x had a shape of [6000,28,28]\n",
        "- learner not configured to have only 1 channel `n_in` as default value 3\n",
        "Generated the following error upint runtime when fitting\n",
        "\n",
        "```python\n",
        "    learn = cnn_learner(dls, resnet18, pretrained=False,\n",
        "                        loss_func=F.cross_entropy, metrics=accuracy)\n",
        "    ---------------------------------------------------------------------------\n",
        "    RuntimeError                              Traceback (most recent call last)\n",
        "    <ipython-input-96-244f6d20b917> in <module>()\n",
        "    ----> 1 learn.fit_one_cycle(1, 0.1)\n",
        "\n",
        "    18 frames\n",
        "    /usr/local/lib/python3.7/dist-packages/torch/nn/modules/conv.py in _conv_forward(self, input, weight)\n",
        "        418                             _pair(0), self.dilation, self.groups)\n",
        "        419         return F.conv2d(input, weight, self.bias, self.stride,\n",
        "    --> 420                         self.padding, self.dilation, self.groups)\n",
        "        421 \n",
        "        422     def forward(self, input: Tensor) -> Tensor:\n",
        "\n",
        "    RuntimeError: Expected 4-dimensional input for 4-dimensional weight [64, 3, 7, 7], but got 2-dimensional input of size [256, 784] instead\n",
        "```\n",
        "\n",
        "ResNet expects color images, that is tensors with three components. \n",
        "\n",
        "Tensor shape for ta minibatch (bs=256) tensor is [256, 784] that is 256 images of flattened 28 x 28 pixels. But ResNet expects images with thre color components, and therefore, it ??????\n",
        "\n"
      ]
    },
    {
      "cell_type": "markdown",
      "metadata": {
        "id": "WiQIUh_rsFv1"
      },
      "source": [
        "### Error: Wrong `n_in`, not corresponding to the nrb of channels\n",
        "By default, ResNet expects RGB images (3 channels). \n",
        "\n",
        "When usin grayscale images (1 channel), the parameter `n_in` must be set when creating the learner with `cnn_learner`:\n",
        "```python\n",
        "    learn = cnn_learner(dls, resnet18, pretrained=False,\n",
        "                        loss_func=F.cross_entropy, metrics=accuracy,\n",
        "                        n_in=1)\n",
        "```\n",
        "Otherwise it will generate an error message.\n",
        "\n",
        "See [source code](https://github.com/fastai/fastai/blob/82337bef6a83d4028b44315eed1ff548ac1bc861/fastai/vision/learner.py#L139)\n",
        "\n",
        "\n",
        "Our images are B&W, so there is only one color channel. We need to pass that info to the cnn_learner factory function as `n_in = 1` because the default value is for color images, that is `n_in = 3`. See source code [here](https://github.com/fastai/fastai/blob/82337bef6a83d4028b44315eed1ff548ac1bc861/fastai/vision/learner.py#L139).\n",
        "\n",
        "If not done, will get the followin error message upon execution:\n",
        "\n",
        "``` python\n",
        "    ---------------------------------------------------------------------------\n",
        "    RuntimeError                              Traceback (most recent call last)\n",
        "    <ipython-input-150-244f6d20b917> in <module>()\n",
        "    ----> 1 learn.fit_one_cycle(1, 0.1)\n",
        "\n",
        "    18 frames\n",
        "    /usr/local/lib/python3.7/dist-packages/torch/nn/modules/conv.py in _conv_forward(self, input, weight)\n",
        "        418                             _pair(0), self.dilation, self.groups)\n",
        "        419         return F.conv2d(input, weight, self.bias, self.stride,\n",
        "    --> 420                         self.padding, self.dilation, self.groups)\n",
        "        421 \n",
        "        422     def forward(self, input: Tensor) -> Tensor:\n",
        "\n",
        "    RuntimeError: Given groups=1, weight of size [64, 3, 7, 7], expected input[64, 1, 28, 28] to have 3 channels, but got 1 channels instead\n",
        "```"
      ]
    },
    {
      "cell_type": "markdown",
      "metadata": {
        "id": "Q8yF3b0S-0FK"
      },
      "source": [
        "# ResNet 18 architecture:\n",
        "\n",
        "<img src=\"https://raw.githubusercontent.com/vtecftwy/fastbook/master/images/img_resnet18.png\">"
      ]
    },
    {
      "cell_type": "code",
      "metadata": {
        "colab": {
          "base_uri": "https://localhost:8080/"
        },
        "id": "lJnyHxNd9ZHC",
        "outputId": "9da56c7b-af48-4759-d5e7-940e81df6a88"
      },
      "source": [
        "learn.model"
      ],
      "execution_count": null,
      "outputs": [
        {
          "output_type": "execute_result",
          "data": {
            "text/plain": [
              "Sequential(\n",
              "  (0): Sequential(\n",
              "    (0): Conv2d(1, 64, kernel_size=(7, 7), stride=(2, 2), padding=(3, 3), bias=False)\n",
              "    (1): BatchNorm2d(64, eps=1e-05, momentum=0.1, affine=True, track_running_stats=True)\n",
              "    (2): ReLU(inplace=True)\n",
              "    (3): MaxPool2d(kernel_size=3, stride=2, padding=1, dilation=1, ceil_mode=False)\n",
              "    (4): Sequential(\n",
              "      (0): BasicBlock(\n",
              "        (conv1): Conv2d(64, 64, kernel_size=(3, 3), stride=(1, 1), padding=(1, 1), bias=False)\n",
              "        (bn1): BatchNorm2d(64, eps=1e-05, momentum=0.1, affine=True, track_running_stats=True)\n",
              "        (relu): ReLU(inplace=True)\n",
              "        (conv2): Conv2d(64, 64, kernel_size=(3, 3), stride=(1, 1), padding=(1, 1), bias=False)\n",
              "        (bn2): BatchNorm2d(64, eps=1e-05, momentum=0.1, affine=True, track_running_stats=True)\n",
              "      )\n",
              "      (1): BasicBlock(\n",
              "        (conv1): Conv2d(64, 64, kernel_size=(3, 3), stride=(1, 1), padding=(1, 1), bias=False)\n",
              "        (bn1): BatchNorm2d(64, eps=1e-05, momentum=0.1, affine=True, track_running_stats=True)\n",
              "        (relu): ReLU(inplace=True)\n",
              "        (conv2): Conv2d(64, 64, kernel_size=(3, 3), stride=(1, 1), padding=(1, 1), bias=False)\n",
              "        (bn2): BatchNorm2d(64, eps=1e-05, momentum=0.1, affine=True, track_running_stats=True)\n",
              "      )\n",
              "    )\n",
              "    (5): Sequential(\n",
              "      (0): BasicBlock(\n",
              "        (conv1): Conv2d(64, 128, kernel_size=(3, 3), stride=(2, 2), padding=(1, 1), bias=False)\n",
              "        (bn1): BatchNorm2d(128, eps=1e-05, momentum=0.1, affine=True, track_running_stats=True)\n",
              "        (relu): ReLU(inplace=True)\n",
              "        (conv2): Conv2d(128, 128, kernel_size=(3, 3), stride=(1, 1), padding=(1, 1), bias=False)\n",
              "        (bn2): BatchNorm2d(128, eps=1e-05, momentum=0.1, affine=True, track_running_stats=True)\n",
              "        (downsample): Sequential(\n",
              "          (0): Conv2d(64, 128, kernel_size=(1, 1), stride=(2, 2), bias=False)\n",
              "          (1): BatchNorm2d(128, eps=1e-05, momentum=0.1, affine=True, track_running_stats=True)\n",
              "        )\n",
              "      )\n",
              "      (1): BasicBlock(\n",
              "        (conv1): Conv2d(128, 128, kernel_size=(3, 3), stride=(1, 1), padding=(1, 1), bias=False)\n",
              "        (bn1): BatchNorm2d(128, eps=1e-05, momentum=0.1, affine=True, track_running_stats=True)\n",
              "        (relu): ReLU(inplace=True)\n",
              "        (conv2): Conv2d(128, 128, kernel_size=(3, 3), stride=(1, 1), padding=(1, 1), bias=False)\n",
              "        (bn2): BatchNorm2d(128, eps=1e-05, momentum=0.1, affine=True, track_running_stats=True)\n",
              "      )\n",
              "    )\n",
              "    (6): Sequential(\n",
              "      (0): BasicBlock(\n",
              "        (conv1): Conv2d(128, 256, kernel_size=(3, 3), stride=(2, 2), padding=(1, 1), bias=False)\n",
              "        (bn1): BatchNorm2d(256, eps=1e-05, momentum=0.1, affine=True, track_running_stats=True)\n",
              "        (relu): ReLU(inplace=True)\n",
              "        (conv2): Conv2d(256, 256, kernel_size=(3, 3), stride=(1, 1), padding=(1, 1), bias=False)\n",
              "        (bn2): BatchNorm2d(256, eps=1e-05, momentum=0.1, affine=True, track_running_stats=True)\n",
              "        (downsample): Sequential(\n",
              "          (0): Conv2d(128, 256, kernel_size=(1, 1), stride=(2, 2), bias=False)\n",
              "          (1): BatchNorm2d(256, eps=1e-05, momentum=0.1, affine=True, track_running_stats=True)\n",
              "        )\n",
              "      )\n",
              "      (1): BasicBlock(\n",
              "        (conv1): Conv2d(256, 256, kernel_size=(3, 3), stride=(1, 1), padding=(1, 1), bias=False)\n",
              "        (bn1): BatchNorm2d(256, eps=1e-05, momentum=0.1, affine=True, track_running_stats=True)\n",
              "        (relu): ReLU(inplace=True)\n",
              "        (conv2): Conv2d(256, 256, kernel_size=(3, 3), stride=(1, 1), padding=(1, 1), bias=False)\n",
              "        (bn2): BatchNorm2d(256, eps=1e-05, momentum=0.1, affine=True, track_running_stats=True)\n",
              "      )\n",
              "    )\n",
              "    (7): Sequential(\n",
              "      (0): BasicBlock(\n",
              "        (conv1): Conv2d(256, 512, kernel_size=(3, 3), stride=(2, 2), padding=(1, 1), bias=False)\n",
              "        (bn1): BatchNorm2d(512, eps=1e-05, momentum=0.1, affine=True, track_running_stats=True)\n",
              "        (relu): ReLU(inplace=True)\n",
              "        (conv2): Conv2d(512, 512, kernel_size=(3, 3), stride=(1, 1), padding=(1, 1), bias=False)\n",
              "        (bn2): BatchNorm2d(512, eps=1e-05, momentum=0.1, affine=True, track_running_stats=True)\n",
              "        (downsample): Sequential(\n",
              "          (0): Conv2d(256, 512, kernel_size=(1, 1), stride=(2, 2), bias=False)\n",
              "          (1): BatchNorm2d(512, eps=1e-05, momentum=0.1, affine=True, track_running_stats=True)\n",
              "        )\n",
              "      )\n",
              "      (1): BasicBlock(\n",
              "        (conv1): Conv2d(512, 512, kernel_size=(3, 3), stride=(1, 1), padding=(1, 1), bias=False)\n",
              "        (bn1): BatchNorm2d(512, eps=1e-05, momentum=0.1, affine=True, track_running_stats=True)\n",
              "        (relu): ReLU(inplace=True)\n",
              "        (conv2): Conv2d(512, 512, kernel_size=(3, 3), stride=(1, 1), padding=(1, 1), bias=False)\n",
              "        (bn2): BatchNorm2d(512, eps=1e-05, momentum=0.1, affine=True, track_running_stats=True)\n",
              "      )\n",
              "    )\n",
              "  )\n",
              "  (1): Sequential(\n",
              "    (0): AdaptiveConcatPool2d(\n",
              "      (ap): AdaptiveAvgPool2d(output_size=1)\n",
              "      (mp): AdaptiveMaxPool2d(output_size=1)\n",
              "    )\n",
              "    (1): Flatten(full=False)\n",
              "    (2): BatchNorm1d(1024, eps=1e-05, momentum=0.1, affine=True, track_running_stats=True)\n",
              "    (3): Dropout(p=0.25, inplace=False)\n",
              "    (4): Linear(in_features=1024, out_features=512, bias=False)\n",
              "    (5): ReLU(inplace=True)\n",
              "    (6): BatchNorm1d(512, eps=1e-05, momentum=0.1, affine=True, track_running_stats=True)\n",
              "    (7): Dropout(p=0.5, inplace=False)\n",
              "    (8): Linear(in_features=512, out_features=10, bias=False)\n",
              "  )\n",
              ")"
            ]
          },
          "metadata": {
            "tags": []
          },
          "execution_count": 177
        }
      ]
    },
    {
      "cell_type": "markdown",
      "metadata": {
        "id": "ytceUjXe_hl1"
      },
      "source": [
        "Layer 1:\n",
        "```\n",
        "Conv2d(1, 64, kernel_size=(7, 7), stride=(2, 2), padding=(3, 3), bias=False)\n",
        "\n",
        "torch.nn.Conv2d(in_channels, out_channels, kernel_size, stride=1, padding=0, dilation=1, groups=1, bias=True, padding_mode='zeros')\n",
        "```\n",
        "\n",
        "[reference](https://pytorch.org/docs/stable/nn.html)"
      ]
    },
    {
      "cell_type": "markdown",
      "metadata": {
        "id": "MK6K4QKrFdwH"
      },
      "source": [
        "Search in the modules:"
      ]
    },
    {
      "cell_type": "markdown",
      "metadata": {
        "id": "FeG9v7WVFpu6"
      },
      "source": [
        "```python\n",
        "learn.named_modules?\n",
        "\n",
        "-------------------------------------------------------------------------------------------------------\n",
        "Signature: learn.named_modules(memo: Union[Set[ForwardRef('Module')], NoneType]=None, prefix: str='')\n",
        "Docstring:\n",
        "Returns an iterator over all modules in the network, yielding\n",
        "both the name of the module as well as the module itself.\n",
        "\n",
        "Yields:\n",
        "    (string, Module): Tuple of name and module\n",
        "\n",
        "Note:\n",
        "    Duplicate modules are returned only once. In the following\n",
        "    example, ``l`` will be returned only once.\n",
        "\n",
        "Example::\n",
        "\n",
        "    >>> l = nn.Linear(2, 2)\n",
        "    >>> net = nn.Sequential(l, l)\n",
        "    >>> for idx, m in enumerate(net.named_modules()):\n",
        "            print(idx, '->', m)\n",
        "\n",
        "    0 -> ('', Sequential(\n",
        "      (0): Linear(in_features=2, out_features=2, bias=True)\n",
        "      (1): Linear(in_features=2, out_features=2, bias=True)\n",
        "    ))\n",
        "    1 -> ('0', Linear(in_features=2, out_features=2, bias=True))\n",
        "```"
      ]
    },
    {
      "cell_type": "code",
      "metadata": {
        "colab": {
          "base_uri": "https://localhost:8080/"
        },
        "id": "9d3RpXjaPmK4",
        "outputId": "d4a087f4-fcae-4977-d02a-c1989d246996"
      },
      "source": [
        "[(x, y) for x,y in learn.named_modules()][2]"
      ],
      "execution_count": null,
      "outputs": [
        {
          "output_type": "execute_result",
          "data": {
            "text/plain": [
              "('0.0',\n",
              " Conv2d(1, 64, kernel_size=(7, 7), stride=(2, 2), padding=(3, 3), bias=False))"
            ]
          },
          "metadata": {
            "tags": []
          },
          "execution_count": 191
        }
      ]
    },
    {
      "cell_type": "code",
      "metadata": {
        "id": "9SLv7_SNCMeb"
      },
      "source": [
        "txt, m = [(x, y) for x,y in learn.named_modules()][2]"
      ],
      "execution_count": null,
      "outputs": []
    },
    {
      "cell_type": "code",
      "metadata": {
        "colab": {
          "base_uri": "https://localhost:8080/"
        },
        "id": "QwN9PVEUCMcN",
        "outputId": "4630e42d-7fe5-4ddc-c582-7988f478f5f3"
      },
      "source": [
        "m.kernel_size, m.stride, m.padding, m.bias, m.dilation, m.groups, m.bias, m.padding_mode"
      ],
      "execution_count": null,
      "outputs": [
        {
          "output_type": "execute_result",
          "data": {
            "text/plain": [
              "((7, 7), (2, 2), (3, 3), None, (1, 1), 1, None, 'zeros')"
            ]
          },
          "metadata": {
            "tags": []
          },
          "execution_count": 199
        }
      ]
    },
    {
      "cell_type": "code",
      "metadata": {
        "id": "Pj8L6eFQCMZB"
      },
      "source": [
        ""
      ],
      "execution_count": null,
      "outputs": []
    },
    {
      "cell_type": "code",
      "metadata": {
        "id": "lCPfzzhuCMV8"
      },
      "source": [
        ""
      ],
      "execution_count": null,
      "outputs": []
    },
    {
      "cell_type": "markdown",
      "metadata": {
        "id": "V3h7pb7WPnHX"
      },
      "source": [
        "# OLD CODE"
      ]
    },
    {
      "cell_type": "code",
      "metadata": {
        "id": "khZVH77INhTX"
      },
      "source": [
        ""
      ],
      "execution_count": null,
      "outputs": []
    },
    {
      "cell_type": "code",
      "metadata": {
        "colab": {
          "base_uri": "https://localhost:8080/",
          "height": 599
        },
        "id": "9L3ugRRdGmDf",
        "outputId": "3d0fdd63-610f-48dd-d2a6-5d7426bc2a36"
      },
      "source": [
        "interp_34_unt = ClassificationInterpretation.from_learner(learn_34_unt)\n",
        "interp_34_unt.plot_confusion_matrix(figsize=(8,8))"
      ],
      "execution_count": null,
      "outputs": [
        {
          "output_type": "display_data",
          "data": {
            "text/html": [
              ""
            ],
            "text/plain": [
              "<IPython.core.display.HTML object>"
            ]
          },
          "metadata": {
            "tags": []
          }
        },
        {
          "output_type": "display_data",
          "data": {
            "image/png": "[encoded data removed]",
            "text/plain": [
              "<Figure size 576x576 with 1 Axes>"
            ]
          },
          "metadata": {
            "tags": [],
            "needs_background": "light"
          }
        }
      ]
    },
    {
      "cell_type": "code",
      "metadata": {
        "colab": {
          "base_uri": "https://localhost:8080/",
          "height": 770
        },
        "id": "6ONahAS2A1FK",
        "outputId": "f5432027-1ae0-4244-b103-d7e9e14cd953"
      },
      "source": [
        "# interp_34_unt.most_confused()\n",
        "interp_34_unt.plot_top_losses(k=36, figsize=(12,12))"
      ],
      "execution_count": null,
      "outputs": [
        {
          "output_type": "display_data",
          "data": {
            "image/png": "[encoded data removed]",
            "text/plain": [
              "<Figure size 864x864 with 36 Axes>"
            ]
          },
          "metadata": {
            "tags": [],
            "needs_background": "light"
          }
        }
      ]
    },
    {
      "cell_type": "code",
      "metadata": {
        "id": "W9khWfQkCTQU"
      },
      "source": [
        ""
      ],
      "execution_count": null,
      "outputs": []
    },
    {
      "cell_type": "code",
      "metadata": {
        "id": "lnx52dX_CTNl"
      },
      "source": [
        ""
      ],
      "execution_count": null,
      "outputs": []
    },
    {
      "cell_type": "code",
      "metadata": {
        "id": "KOPV4wN3CTAx"
      },
      "source": [
        ""
      ],
      "execution_count": null,
      "outputs": []
    }
  ]
}